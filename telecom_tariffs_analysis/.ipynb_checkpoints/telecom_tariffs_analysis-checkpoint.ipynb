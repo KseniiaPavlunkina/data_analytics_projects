{
 "cells": [
  {
   "cell_type": "markdown",
   "metadata": {},
   "source": [
    "## Описание проекта"
   ]
  },
  {
   "cell_type": "markdown",
   "metadata": {},
   "source": [
    "«Мегалайн» — федеральный оператор сотовой связи. Клиентам предлагают два тарифных плана: «Смарт» и «Ультра». Чтобы скорректировать рекламный бюджет, коммерческий департамент хочет понять, какой тариф приносит больше денег.\n",
    "Необходимо сделать предварительный анализ тарифов на небольшой выборке клиентов. В нашем распоряжении данные 500 пользователей «Мегалайна»: кто они, откуда, каким тарифом пользуются, сколько звонков и сообщений каждый отправил за 2018 год. Нужно проанализировать поведение клиентов и сделать вывод — какой тариф лучше.\n",
    "\n",
    "### Описание тарифов\n",
    "\n",
    "Тариф «Смарт»\n",
    "\n",
    "Ежемесячная плата: 550 рублей\n",
    "Включено 500 минут разговора, 50 сообщений и 15 Гб интернет-трафика\n",
    "Стоимость услуг сверх тарифного пакета:\n",
    "минута разговора: 3 рубля\n",
    "сообщение: 3 рубля\n",
    "1 Гб интернет-трафика: 200 рублей\n",
    "\n",
    "Тариф «Ультра»\n",
    "\n",
    "Ежемесячная плата: 1950 рублей\n",
    "Включено 3000 минут разговора, 1000 сообщений и 30 Гб интернет-трафика\n",
    "Стоимость услуг сверх тарифного пакета:\n",
    "минута разговора: 1 рубль\n",
    "сообщение: 1 рубль\n",
    "1 Гб интернет-трафика: 150 рублей\n",
    "\n"
   ]
  },
  {
   "cell_type": "markdown",
   "metadata": {},
   "source": [
    "## Шаг 1. Обзор данных"
   ]
  },
  {
   "cell_type": "code",
   "execution_count": 3,
   "metadata": {},
   "outputs": [],
   "source": [
    "import pandas as pd\n",
    "from scipy import stats as st\n",
    "import numpy as np\n",
    "import matplotlib.pyplot as plt\n",
    "import seaborn as sns\n",
    "import datetime as dt\n",
    "import math\n",
    "import warnings\n",
    "warnings.filterwarnings(\"ignore\")"
   ]
  },
  {
   "cell_type": "code",
   "execution_count": 4,
   "metadata": {},
   "outputs": [],
   "source": [
    "users = pd.read_csv('/datasets/users.csv')\n",
    "calls = pd.read_csv('/datasets/calls.csv')\n",
    "internet = pd.read_csv('/datasets/internet.csv', index_col=0)\n",
    "messages = pd.read_csv('/datasets/messages.csv')\n",
    "tariffs = pd.read_csv('/datasets/tariffs.csv')"
   ]
  },
  {
   "cell_type": "markdown",
   "metadata": {},
   "source": [
    "Загрузили 5 датасетов, т.к. их колчиество большое, то удобнее будет рассмотреть каждый в отдельности во 2 шаге"
   ]
  },
  {
   "cell_type": "markdown",
   "metadata": {},
   "source": [
    "## Шаг 2. Подготовка данных"
   ]
  },
  {
   "cell_type": "markdown",
   "metadata": {},
   "source": [
    "###  users"
   ]
  },
  {
   "cell_type": "code",
   "execution_count": 5,
   "metadata": {},
   "outputs": [
    {
     "data": {
      "text/html": [
       "<div>\n",
       "<style scoped>\n",
       "    .dataframe tbody tr th:only-of-type {\n",
       "        vertical-align: middle;\n",
       "    }\n",
       "\n",
       "    .dataframe tbody tr th {\n",
       "        vertical-align: top;\n",
       "    }\n",
       "\n",
       "    .dataframe thead th {\n",
       "        text-align: right;\n",
       "    }\n",
       "</style>\n",
       "<table border=\"1\" class=\"dataframe\">\n",
       "  <thead>\n",
       "    <tr style=\"text-align: right;\">\n",
       "      <th></th>\n",
       "      <th>user_id</th>\n",
       "      <th>age</th>\n",
       "      <th>churn_date</th>\n",
       "      <th>city</th>\n",
       "      <th>first_name</th>\n",
       "      <th>last_name</th>\n",
       "      <th>reg_date</th>\n",
       "      <th>tariff</th>\n",
       "    </tr>\n",
       "  </thead>\n",
       "  <tbody>\n",
       "    <tr>\n",
       "      <th>495</th>\n",
       "      <td>1495</td>\n",
       "      <td>65</td>\n",
       "      <td>NaN</td>\n",
       "      <td>Иркутск</td>\n",
       "      <td>Авксентий</td>\n",
       "      <td>Фокин</td>\n",
       "      <td>2018-08-28</td>\n",
       "      <td>ultra</td>\n",
       "    </tr>\n",
       "    <tr>\n",
       "      <th>496</th>\n",
       "      <td>1496</td>\n",
       "      <td>36</td>\n",
       "      <td>NaN</td>\n",
       "      <td>Вологда</td>\n",
       "      <td>Трифон</td>\n",
       "      <td>Блохин</td>\n",
       "      <td>2018-01-27</td>\n",
       "      <td>smart</td>\n",
       "    </tr>\n",
       "    <tr>\n",
       "      <th>497</th>\n",
       "      <td>1497</td>\n",
       "      <td>32</td>\n",
       "      <td>NaN</td>\n",
       "      <td>Челябинск</td>\n",
       "      <td>Каролина</td>\n",
       "      <td>Агеева</td>\n",
       "      <td>2018-10-09</td>\n",
       "      <td>smart</td>\n",
       "    </tr>\n",
       "    <tr>\n",
       "      <th>498</th>\n",
       "      <td>1498</td>\n",
       "      <td>68</td>\n",
       "      <td>2018-10-25</td>\n",
       "      <td>Владикавказ</td>\n",
       "      <td>Всеволод</td>\n",
       "      <td>Акимчин</td>\n",
       "      <td>2018-07-19</td>\n",
       "      <td>smart</td>\n",
       "    </tr>\n",
       "    <tr>\n",
       "      <th>499</th>\n",
       "      <td>1499</td>\n",
       "      <td>35</td>\n",
       "      <td>NaN</td>\n",
       "      <td>Пермь</td>\n",
       "      <td>Гектор</td>\n",
       "      <td>Корнилов</td>\n",
       "      <td>2018-09-27</td>\n",
       "      <td>smart</td>\n",
       "    </tr>\n",
       "  </tbody>\n",
       "</table>\n",
       "</div>"
      ],
      "text/plain": [
       "     user_id  age  churn_date         city first_name last_name    reg_date  \\\n",
       "495     1495   65         NaN      Иркутск  Авксентий     Фокин  2018-08-28   \n",
       "496     1496   36         NaN      Вологда     Трифон    Блохин  2018-01-27   \n",
       "497     1497   32         NaN    Челябинск   Каролина    Агеева  2018-10-09   \n",
       "498     1498   68  2018-10-25  Владикавказ   Всеволод   Акимчин  2018-07-19   \n",
       "499     1499   35         NaN        Пермь     Гектор  Корнилов  2018-09-27   \n",
       "\n",
       "    tariff  \n",
       "495  ultra  \n",
       "496  smart  \n",
       "497  smart  \n",
       "498  smart  \n",
       "499  smart  "
      ]
     },
     "execution_count": 5,
     "metadata": {},
     "output_type": "execute_result"
    }
   ],
   "source": [
    "users.tail()"
   ]
  },
  {
   "cell_type": "code",
   "execution_count": 6,
   "metadata": {},
   "outputs": [
    {
     "name": "stdout",
     "output_type": "stream",
     "text": [
      "<class 'pandas.core.frame.DataFrame'>\n",
      "RangeIndex: 500 entries, 0 to 499\n",
      "Data columns (total 8 columns):\n",
      " #   Column      Non-Null Count  Dtype \n",
      "---  ------      --------------  ----- \n",
      " 0   user_id     500 non-null    int64 \n",
      " 1   age         500 non-null    int64 \n",
      " 2   churn_date  38 non-null     object\n",
      " 3   city        500 non-null    object\n",
      " 4   first_name  500 non-null    object\n",
      " 5   last_name   500 non-null    object\n",
      " 6   reg_date    500 non-null    object\n",
      " 7   tariff      500 non-null    object\n",
      "dtypes: int64(2), object(6)\n",
      "memory usage: 31.4+ KB\n"
     ]
    }
   ],
   "source": [
    "users.info()"
   ]
  },
  {
   "cell_type": "markdown",
   "metadata": {},
   "source": [
    "Из информации выше видим, что у нас есть пропуски в столбце churn_date, но в данных к работе указано, что пропуски означают, что тарифом еще пользуются. Трогать этот столбец не будем.\n",
    "Изменим данные reg_date в формат datetime, так же проверим все ли данные за 2018 год и удалим колонки, которые дальше нам не пригодятся для исследования"
   ]
  },
  {
   "cell_type": "code",
   "execution_count": 7,
   "metadata": {},
   "outputs": [],
   "source": [
    "users['reg_date'] = pd.to_datetime(users['reg_date'],\n",
    "format='%Y-%m-%d')"
   ]
  },
  {
   "cell_type": "code",
   "execution_count": 8,
   "metadata": {},
   "outputs": [],
   "source": [
    "users['churn_date'] = pd.to_datetime(users['churn_date'],\n",
    "format='%Y-%m-%d')"
   ]
  },
  {
   "cell_type": "code",
   "execution_count": 9,
   "metadata": {},
   "outputs": [
    {
     "data": {
      "text/plain": [
       "array([2018])"
      ]
     },
     "execution_count": 9,
     "metadata": {},
     "output_type": "execute_result"
    }
   ],
   "source": [
    "users['reg_date'].dt.year.unique()"
   ]
  },
  {
   "cell_type": "code",
   "execution_count": 10,
   "metadata": {},
   "outputs": [],
   "source": [
    "users['reg_date'] = users['reg_date'].to_numpy().astype('datetime64[M]')\n",
    "users['churn_date'] = users['churn_date'].to_numpy().astype('datetime64[M]')"
   ]
  },
  {
   "cell_type": "code",
   "execution_count": 11,
   "metadata": {},
   "outputs": [
    {
     "name": "stdout",
     "output_type": "stream",
     "text": [
      "<class 'pandas.core.frame.DataFrame'>\n",
      "RangeIndex: 500 entries, 0 to 499\n",
      "Data columns (total 8 columns):\n",
      " #   Column      Non-Null Count  Dtype         \n",
      "---  ------      --------------  -----         \n",
      " 0   user_id     500 non-null    int64         \n",
      " 1   age         500 non-null    int64         \n",
      " 2   churn_date  38 non-null     datetime64[ns]\n",
      " 3   city        500 non-null    object        \n",
      " 4   first_name  500 non-null    object        \n",
      " 5   last_name   500 non-null    object        \n",
      " 6   reg_date    500 non-null    datetime64[ns]\n",
      " 7   tariff      500 non-null    object        \n",
      "dtypes: datetime64[ns](2), int64(2), object(4)\n",
      "memory usage: 31.4+ KB\n"
     ]
    }
   ],
   "source": [
    "users.info()"
   ]
  },
  {
   "cell_type": "code",
   "execution_count": 12,
   "metadata": {},
   "outputs": [],
   "source": [
    "min_dt = users['reg_date'].min()"
   ]
  },
  {
   "cell_type": "code",
   "execution_count": 13,
   "metadata": {},
   "outputs": [],
   "source": [
    "max_dt = users['reg_date'].max()"
   ]
  },
  {
   "cell_type": "code",
   "execution_count": 14,
   "metadata": {},
   "outputs": [],
   "source": [
    "table = pd.DataFrame(pd.date_range(min_dt, max_dt,freq='MS'))"
   ]
  },
  {
   "cell_type": "code",
   "execution_count": 15,
   "metadata": {},
   "outputs": [],
   "source": [
    "table.columns = ['month']"
   ]
  },
  {
   "cell_type": "code",
   "execution_count": 16,
   "metadata": {},
   "outputs": [
    {
     "data": {
      "text/html": [
       "<div>\n",
       "<style scoped>\n",
       "    .dataframe tbody tr th:only-of-type {\n",
       "        vertical-align: middle;\n",
       "    }\n",
       "\n",
       "    .dataframe tbody tr th {\n",
       "        vertical-align: top;\n",
       "    }\n",
       "\n",
       "    .dataframe thead th {\n",
       "        text-align: right;\n",
       "    }\n",
       "</style>\n",
       "<table border=\"1\" class=\"dataframe\">\n",
       "  <thead>\n",
       "    <tr style=\"text-align: right;\">\n",
       "      <th></th>\n",
       "      <th>month</th>\n",
       "    </tr>\n",
       "  </thead>\n",
       "  <tbody>\n",
       "    <tr>\n",
       "      <th>0</th>\n",
       "      <td>2018-01-01</td>\n",
       "    </tr>\n",
       "    <tr>\n",
       "      <th>1</th>\n",
       "      <td>2018-02-01</td>\n",
       "    </tr>\n",
       "    <tr>\n",
       "      <th>2</th>\n",
       "      <td>2018-03-01</td>\n",
       "    </tr>\n",
       "    <tr>\n",
       "      <th>3</th>\n",
       "      <td>2018-04-01</td>\n",
       "    </tr>\n",
       "    <tr>\n",
       "      <th>4</th>\n",
       "      <td>2018-05-01</td>\n",
       "    </tr>\n",
       "    <tr>\n",
       "      <th>5</th>\n",
       "      <td>2018-06-01</td>\n",
       "    </tr>\n",
       "    <tr>\n",
       "      <th>6</th>\n",
       "      <td>2018-07-01</td>\n",
       "    </tr>\n",
       "    <tr>\n",
       "      <th>7</th>\n",
       "      <td>2018-08-01</td>\n",
       "    </tr>\n",
       "    <tr>\n",
       "      <th>8</th>\n",
       "      <td>2018-09-01</td>\n",
       "    </tr>\n",
       "    <tr>\n",
       "      <th>9</th>\n",
       "      <td>2018-10-01</td>\n",
       "    </tr>\n",
       "    <tr>\n",
       "      <th>10</th>\n",
       "      <td>2018-11-01</td>\n",
       "    </tr>\n",
       "    <tr>\n",
       "      <th>11</th>\n",
       "      <td>2018-12-01</td>\n",
       "    </tr>\n",
       "  </tbody>\n",
       "</table>\n",
       "</div>"
      ],
      "text/plain": [
       "        month\n",
       "0  2018-01-01\n",
       "1  2018-02-01\n",
       "2  2018-03-01\n",
       "3  2018-04-01\n",
       "4  2018-05-01\n",
       "5  2018-06-01\n",
       "6  2018-07-01\n",
       "7  2018-08-01\n",
       "8  2018-09-01\n",
       "9  2018-10-01\n",
       "10 2018-11-01\n",
       "11 2018-12-01"
      ]
     },
     "execution_count": 16,
     "metadata": {},
     "output_type": "execute_result"
    }
   ],
   "source": [
    "table"
   ]
  },
  {
   "cell_type": "code",
   "execution_count": 17,
   "metadata": {},
   "outputs": [],
   "source": [
    "table['key'] = 1"
   ]
  },
  {
   "cell_type": "code",
   "execution_count": 18,
   "metadata": {},
   "outputs": [
    {
     "data": {
      "text/html": [
       "<div>\n",
       "<style scoped>\n",
       "    .dataframe tbody tr th:only-of-type {\n",
       "        vertical-align: middle;\n",
       "    }\n",
       "\n",
       "    .dataframe tbody tr th {\n",
       "        vertical-align: top;\n",
       "    }\n",
       "\n",
       "    .dataframe thead th {\n",
       "        text-align: right;\n",
       "    }\n",
       "</style>\n",
       "<table border=\"1\" class=\"dataframe\">\n",
       "  <thead>\n",
       "    <tr style=\"text-align: right;\">\n",
       "      <th></th>\n",
       "      <th>user_id</th>\n",
       "      <th>age</th>\n",
       "      <th>churn_date</th>\n",
       "      <th>city</th>\n",
       "      <th>first_name</th>\n",
       "      <th>last_name</th>\n",
       "      <th>reg_date</th>\n",
       "      <th>tariff</th>\n",
       "    </tr>\n",
       "  </thead>\n",
       "  <tbody>\n",
       "    <tr>\n",
       "      <th>0</th>\n",
       "      <td>1000</td>\n",
       "      <td>52</td>\n",
       "      <td>NaT</td>\n",
       "      <td>Краснодар</td>\n",
       "      <td>Рафаил</td>\n",
       "      <td>Верещагин</td>\n",
       "      <td>2018-05-01</td>\n",
       "      <td>ultra</td>\n",
       "    </tr>\n",
       "    <tr>\n",
       "      <th>1</th>\n",
       "      <td>1001</td>\n",
       "      <td>41</td>\n",
       "      <td>NaT</td>\n",
       "      <td>Москва</td>\n",
       "      <td>Иван</td>\n",
       "      <td>Ежов</td>\n",
       "      <td>2018-11-01</td>\n",
       "      <td>smart</td>\n",
       "    </tr>\n",
       "    <tr>\n",
       "      <th>2</th>\n",
       "      <td>1002</td>\n",
       "      <td>59</td>\n",
       "      <td>NaT</td>\n",
       "      <td>Стерлитамак</td>\n",
       "      <td>Евгений</td>\n",
       "      <td>Абрамович</td>\n",
       "      <td>2018-06-01</td>\n",
       "      <td>smart</td>\n",
       "    </tr>\n",
       "    <tr>\n",
       "      <th>3</th>\n",
       "      <td>1003</td>\n",
       "      <td>23</td>\n",
       "      <td>NaT</td>\n",
       "      <td>Москва</td>\n",
       "      <td>Белла</td>\n",
       "      <td>Белякова</td>\n",
       "      <td>2018-08-01</td>\n",
       "      <td>ultra</td>\n",
       "    </tr>\n",
       "    <tr>\n",
       "      <th>4</th>\n",
       "      <td>1004</td>\n",
       "      <td>68</td>\n",
       "      <td>NaT</td>\n",
       "      <td>Новокузнецк</td>\n",
       "      <td>Татьяна</td>\n",
       "      <td>Авдеенко</td>\n",
       "      <td>2018-05-01</td>\n",
       "      <td>ultra</td>\n",
       "    </tr>\n",
       "    <tr>\n",
       "      <th>...</th>\n",
       "      <td>...</td>\n",
       "      <td>...</td>\n",
       "      <td>...</td>\n",
       "      <td>...</td>\n",
       "      <td>...</td>\n",
       "      <td>...</td>\n",
       "      <td>...</td>\n",
       "      <td>...</td>\n",
       "    </tr>\n",
       "    <tr>\n",
       "      <th>495</th>\n",
       "      <td>1495</td>\n",
       "      <td>65</td>\n",
       "      <td>NaT</td>\n",
       "      <td>Иркутск</td>\n",
       "      <td>Авксентий</td>\n",
       "      <td>Фокин</td>\n",
       "      <td>2018-08-01</td>\n",
       "      <td>ultra</td>\n",
       "    </tr>\n",
       "    <tr>\n",
       "      <th>496</th>\n",
       "      <td>1496</td>\n",
       "      <td>36</td>\n",
       "      <td>NaT</td>\n",
       "      <td>Вологда</td>\n",
       "      <td>Трифон</td>\n",
       "      <td>Блохин</td>\n",
       "      <td>2018-01-01</td>\n",
       "      <td>smart</td>\n",
       "    </tr>\n",
       "    <tr>\n",
       "      <th>497</th>\n",
       "      <td>1497</td>\n",
       "      <td>32</td>\n",
       "      <td>NaT</td>\n",
       "      <td>Челябинск</td>\n",
       "      <td>Каролина</td>\n",
       "      <td>Агеева</td>\n",
       "      <td>2018-10-01</td>\n",
       "      <td>smart</td>\n",
       "    </tr>\n",
       "    <tr>\n",
       "      <th>498</th>\n",
       "      <td>1498</td>\n",
       "      <td>68</td>\n",
       "      <td>2018-10-01</td>\n",
       "      <td>Владикавказ</td>\n",
       "      <td>Всеволод</td>\n",
       "      <td>Акимчин</td>\n",
       "      <td>2018-07-01</td>\n",
       "      <td>smart</td>\n",
       "    </tr>\n",
       "    <tr>\n",
       "      <th>499</th>\n",
       "      <td>1499</td>\n",
       "      <td>35</td>\n",
       "      <td>NaT</td>\n",
       "      <td>Пермь</td>\n",
       "      <td>Гектор</td>\n",
       "      <td>Корнилов</td>\n",
       "      <td>2018-09-01</td>\n",
       "      <td>smart</td>\n",
       "    </tr>\n",
       "  </tbody>\n",
       "</table>\n",
       "<p>500 rows × 8 columns</p>\n",
       "</div>"
      ],
      "text/plain": [
       "     user_id  age churn_date         city first_name  last_name   reg_date  \\\n",
       "0       1000   52        NaT    Краснодар     Рафаил  Верещагин 2018-05-01   \n",
       "1       1001   41        NaT       Москва       Иван       Ежов 2018-11-01   \n",
       "2       1002   59        NaT  Стерлитамак    Евгений  Абрамович 2018-06-01   \n",
       "3       1003   23        NaT       Москва      Белла   Белякова 2018-08-01   \n",
       "4       1004   68        NaT  Новокузнецк    Татьяна   Авдеенко 2018-05-01   \n",
       "..       ...  ...        ...          ...        ...        ...        ...   \n",
       "495     1495   65        NaT      Иркутск  Авксентий      Фокин 2018-08-01   \n",
       "496     1496   36        NaT      Вологда     Трифон     Блохин 2018-01-01   \n",
       "497     1497   32        NaT    Челябинск   Каролина     Агеева 2018-10-01   \n",
       "498     1498   68 2018-10-01  Владикавказ   Всеволод    Акимчин 2018-07-01   \n",
       "499     1499   35        NaT        Пермь     Гектор   Корнилов 2018-09-01   \n",
       "\n",
       "    tariff  \n",
       "0    ultra  \n",
       "1    smart  \n",
       "2    smart  \n",
       "3    ultra  \n",
       "4    ultra  \n",
       "..     ...  \n",
       "495  ultra  \n",
       "496  smart  \n",
       "497  smart  \n",
       "498  smart  \n",
       "499  smart  \n",
       "\n",
       "[500 rows x 8 columns]"
      ]
     },
     "execution_count": 18,
     "metadata": {},
     "output_type": "execute_result"
    }
   ],
   "source": [
    "users"
   ]
  },
  {
   "cell_type": "code",
   "execution_count": 19,
   "metadata": {},
   "outputs": [],
   "source": [
    "user_reg = users[['user_id', 'reg_date','churn_date']]"
   ]
  },
  {
   "cell_type": "code",
   "execution_count": 20,
   "metadata": {},
   "outputs": [],
   "source": [
    "user_reg['key'] = 1"
   ]
  },
  {
   "cell_type": "code",
   "execution_count": 21,
   "metadata": {},
   "outputs": [],
   "source": [
    "template = table.merge(user_reg, on='key')[['month', 'user_id', 'reg_date', 'churn_date']]"
   ]
  },
  {
   "cell_type": "code",
   "execution_count": 22,
   "metadata": {},
   "outputs": [
    {
     "data": {
      "text/html": [
       "<div>\n",
       "<style scoped>\n",
       "    .dataframe tbody tr th:only-of-type {\n",
       "        vertical-align: middle;\n",
       "    }\n",
       "\n",
       "    .dataframe tbody tr th {\n",
       "        vertical-align: top;\n",
       "    }\n",
       "\n",
       "    .dataframe thead th {\n",
       "        text-align: right;\n",
       "    }\n",
       "</style>\n",
       "<table border=\"1\" class=\"dataframe\">\n",
       "  <thead>\n",
       "    <tr style=\"text-align: right;\">\n",
       "      <th></th>\n",
       "      <th>month</th>\n",
       "      <th>user_id</th>\n",
       "      <th>reg_date</th>\n",
       "      <th>churn_date</th>\n",
       "    </tr>\n",
       "  </thead>\n",
       "  <tbody>\n",
       "    <tr>\n",
       "      <th>0</th>\n",
       "      <td>2018-01-01</td>\n",
       "      <td>1000</td>\n",
       "      <td>2018-05-01</td>\n",
       "      <td>NaT</td>\n",
       "    </tr>\n",
       "    <tr>\n",
       "      <th>1</th>\n",
       "      <td>2018-01-01</td>\n",
       "      <td>1001</td>\n",
       "      <td>2018-11-01</td>\n",
       "      <td>NaT</td>\n",
       "    </tr>\n",
       "    <tr>\n",
       "      <th>2</th>\n",
       "      <td>2018-01-01</td>\n",
       "      <td>1002</td>\n",
       "      <td>2018-06-01</td>\n",
       "      <td>NaT</td>\n",
       "    </tr>\n",
       "    <tr>\n",
       "      <th>3</th>\n",
       "      <td>2018-01-01</td>\n",
       "      <td>1003</td>\n",
       "      <td>2018-08-01</td>\n",
       "      <td>NaT</td>\n",
       "    </tr>\n",
       "    <tr>\n",
       "      <th>4</th>\n",
       "      <td>2018-01-01</td>\n",
       "      <td>1004</td>\n",
       "      <td>2018-05-01</td>\n",
       "      <td>NaT</td>\n",
       "    </tr>\n",
       "    <tr>\n",
       "      <th>...</th>\n",
       "      <td>...</td>\n",
       "      <td>...</td>\n",
       "      <td>...</td>\n",
       "      <td>...</td>\n",
       "    </tr>\n",
       "    <tr>\n",
       "      <th>5995</th>\n",
       "      <td>2018-12-01</td>\n",
       "      <td>1495</td>\n",
       "      <td>2018-08-01</td>\n",
       "      <td>NaT</td>\n",
       "    </tr>\n",
       "    <tr>\n",
       "      <th>5996</th>\n",
       "      <td>2018-12-01</td>\n",
       "      <td>1496</td>\n",
       "      <td>2018-01-01</td>\n",
       "      <td>NaT</td>\n",
       "    </tr>\n",
       "    <tr>\n",
       "      <th>5997</th>\n",
       "      <td>2018-12-01</td>\n",
       "      <td>1497</td>\n",
       "      <td>2018-10-01</td>\n",
       "      <td>NaT</td>\n",
       "    </tr>\n",
       "    <tr>\n",
       "      <th>5998</th>\n",
       "      <td>2018-12-01</td>\n",
       "      <td>1498</td>\n",
       "      <td>2018-07-01</td>\n",
       "      <td>2018-10-01</td>\n",
       "    </tr>\n",
       "    <tr>\n",
       "      <th>5999</th>\n",
       "      <td>2018-12-01</td>\n",
       "      <td>1499</td>\n",
       "      <td>2018-09-01</td>\n",
       "      <td>NaT</td>\n",
       "    </tr>\n",
       "  </tbody>\n",
       "</table>\n",
       "<p>6000 rows × 4 columns</p>\n",
       "</div>"
      ],
      "text/plain": [
       "          month  user_id   reg_date churn_date\n",
       "0    2018-01-01     1000 2018-05-01        NaT\n",
       "1    2018-01-01     1001 2018-11-01        NaT\n",
       "2    2018-01-01     1002 2018-06-01        NaT\n",
       "3    2018-01-01     1003 2018-08-01        NaT\n",
       "4    2018-01-01     1004 2018-05-01        NaT\n",
       "...         ...      ...        ...        ...\n",
       "5995 2018-12-01     1495 2018-08-01        NaT\n",
       "5996 2018-12-01     1496 2018-01-01        NaT\n",
       "5997 2018-12-01     1497 2018-10-01        NaT\n",
       "5998 2018-12-01     1498 2018-07-01 2018-10-01\n",
       "5999 2018-12-01     1499 2018-09-01        NaT\n",
       "\n",
       "[6000 rows x 4 columns]"
      ]
     },
     "execution_count": 22,
     "metadata": {},
     "output_type": "execute_result"
    }
   ],
   "source": [
    "template"
   ]
  },
  {
   "cell_type": "code",
   "execution_count": 23,
   "metadata": {},
   "outputs": [],
   "source": [
    "template['churn_date'] = template['churn_date'].fillna('2018-12-01').to_numpy().astype('datetime64[M]')"
   ]
  },
  {
   "cell_type": "code",
   "execution_count": 24,
   "metadata": {},
   "outputs": [],
   "source": [
    "template = template[template['month'] >= template['reg_date']]\n",
    "template = template[template['month'] <= template['churn_date']]"
   ]
  },
  {
   "cell_type": "code",
   "execution_count": 25,
   "metadata": {},
   "outputs": [
    {
     "data": {
      "text/html": [
       "<div>\n",
       "<style scoped>\n",
       "    .dataframe tbody tr th:only-of-type {\n",
       "        vertical-align: middle;\n",
       "    }\n",
       "\n",
       "    .dataframe tbody tr th {\n",
       "        vertical-align: top;\n",
       "    }\n",
       "\n",
       "    .dataframe thead th {\n",
       "        text-align: right;\n",
       "    }\n",
       "</style>\n",
       "<table border=\"1\" class=\"dataframe\">\n",
       "  <thead>\n",
       "    <tr style=\"text-align: right;\">\n",
       "      <th></th>\n",
       "      <th>month</th>\n",
       "      <th>user_id</th>\n",
       "      <th>reg_date</th>\n",
       "      <th>churn_date</th>\n",
       "    </tr>\n",
       "  </thead>\n",
       "  <tbody>\n",
       "    <tr>\n",
       "      <th>3498</th>\n",
       "      <td>2018-07-01</td>\n",
       "      <td>1498</td>\n",
       "      <td>2018-07-01</td>\n",
       "      <td>2018-10-01</td>\n",
       "    </tr>\n",
       "    <tr>\n",
       "      <th>3998</th>\n",
       "      <td>2018-08-01</td>\n",
       "      <td>1498</td>\n",
       "      <td>2018-07-01</td>\n",
       "      <td>2018-10-01</td>\n",
       "    </tr>\n",
       "    <tr>\n",
       "      <th>4498</th>\n",
       "      <td>2018-09-01</td>\n",
       "      <td>1498</td>\n",
       "      <td>2018-07-01</td>\n",
       "      <td>2018-10-01</td>\n",
       "    </tr>\n",
       "    <tr>\n",
       "      <th>4998</th>\n",
       "      <td>2018-10-01</td>\n",
       "      <td>1498</td>\n",
       "      <td>2018-07-01</td>\n",
       "      <td>2018-10-01</td>\n",
       "    </tr>\n",
       "  </tbody>\n",
       "</table>\n",
       "</div>"
      ],
      "text/plain": [
       "          month  user_id   reg_date churn_date\n",
       "3498 2018-07-01     1498 2018-07-01 2018-10-01\n",
       "3998 2018-08-01     1498 2018-07-01 2018-10-01\n",
       "4498 2018-09-01     1498 2018-07-01 2018-10-01\n",
       "4998 2018-10-01     1498 2018-07-01 2018-10-01"
      ]
     },
     "execution_count": 25,
     "metadata": {},
     "output_type": "execute_result"
    }
   ],
   "source": [
    "template[template['user_id'] == 1498]"
   ]
  },
  {
   "cell_type": "code",
   "execution_count": 26,
   "metadata": {},
   "outputs": [],
   "source": [
    "template = template[['month', 'user_id']]"
   ]
  },
  {
   "cell_type": "markdown",
   "metadata": {},
   "source": [
    "Сформировали таблицу template с актуальными месяцами по каждому юзеру с момента его регистрации до отключения от тарифа(если оно присуствует) для дальнейшего корректного объеденения таблиц"
   ]
  },
  {
   "cell_type": "code",
   "execution_count": 27,
   "metadata": {},
   "outputs": [
    {
     "data": {
      "text/html": [
       "<div>\n",
       "<style scoped>\n",
       "    .dataframe tbody tr th:only-of-type {\n",
       "        vertical-align: middle;\n",
       "    }\n",
       "\n",
       "    .dataframe tbody tr th {\n",
       "        vertical-align: top;\n",
       "    }\n",
       "\n",
       "    .dataframe thead th {\n",
       "        text-align: right;\n",
       "    }\n",
       "</style>\n",
       "<table border=\"1\" class=\"dataframe\">\n",
       "  <thead>\n",
       "    <tr style=\"text-align: right;\">\n",
       "      <th></th>\n",
       "      <th>month</th>\n",
       "      <th>user_id</th>\n",
       "    </tr>\n",
       "  </thead>\n",
       "  <tbody>\n",
       "    <tr>\n",
       "      <th>5</th>\n",
       "      <td>2018-01-01</td>\n",
       "      <td>1005</td>\n",
       "    </tr>\n",
       "    <tr>\n",
       "      <th>32</th>\n",
       "      <td>2018-01-01</td>\n",
       "      <td>1032</td>\n",
       "    </tr>\n",
       "    <tr>\n",
       "      <th>45</th>\n",
       "      <td>2018-01-01</td>\n",
       "      <td>1045</td>\n",
       "    </tr>\n",
       "    <tr>\n",
       "      <th>55</th>\n",
       "      <td>2018-01-01</td>\n",
       "      <td>1055</td>\n",
       "    </tr>\n",
       "    <tr>\n",
       "      <th>71</th>\n",
       "      <td>2018-01-01</td>\n",
       "      <td>1071</td>\n",
       "    </tr>\n",
       "  </tbody>\n",
       "</table>\n",
       "</div>"
      ],
      "text/plain": [
       "        month  user_id\n",
       "5  2018-01-01     1005\n",
       "32 2018-01-01     1032\n",
       "45 2018-01-01     1045\n",
       "55 2018-01-01     1055\n",
       "71 2018-01-01     1071"
      ]
     },
     "execution_count": 27,
     "metadata": {},
     "output_type": "execute_result"
    }
   ],
   "source": [
    "template.head()"
   ]
  },
  {
   "cell_type": "code",
   "execution_count": 28,
   "metadata": {},
   "outputs": [],
   "source": [
    "users.drop(columns=['age','first_name', 'last_name', 'churn_date', 'reg_date'], axis = 1, inplace=True)"
   ]
  },
  {
   "cell_type": "code",
   "execution_count": 29,
   "metadata": {
    "scrolled": true
   },
   "outputs": [
    {
     "data": {
      "text/html": [
       "<div>\n",
       "<style scoped>\n",
       "    .dataframe tbody tr th:only-of-type {\n",
       "        vertical-align: middle;\n",
       "    }\n",
       "\n",
       "    .dataframe tbody tr th {\n",
       "        vertical-align: top;\n",
       "    }\n",
       "\n",
       "    .dataframe thead th {\n",
       "        text-align: right;\n",
       "    }\n",
       "</style>\n",
       "<table border=\"1\" class=\"dataframe\">\n",
       "  <thead>\n",
       "    <tr style=\"text-align: right;\">\n",
       "      <th></th>\n",
       "      <th>user_id</th>\n",
       "      <th>city</th>\n",
       "      <th>tariff</th>\n",
       "    </tr>\n",
       "  </thead>\n",
       "  <tbody>\n",
       "    <tr>\n",
       "      <th>0</th>\n",
       "      <td>1000</td>\n",
       "      <td>Краснодар</td>\n",
       "      <td>ultra</td>\n",
       "    </tr>\n",
       "    <tr>\n",
       "      <th>1</th>\n",
       "      <td>1001</td>\n",
       "      <td>Москва</td>\n",
       "      <td>smart</td>\n",
       "    </tr>\n",
       "    <tr>\n",
       "      <th>2</th>\n",
       "      <td>1002</td>\n",
       "      <td>Стерлитамак</td>\n",
       "      <td>smart</td>\n",
       "    </tr>\n",
       "    <tr>\n",
       "      <th>3</th>\n",
       "      <td>1003</td>\n",
       "      <td>Москва</td>\n",
       "      <td>ultra</td>\n",
       "    </tr>\n",
       "    <tr>\n",
       "      <th>4</th>\n",
       "      <td>1004</td>\n",
       "      <td>Новокузнецк</td>\n",
       "      <td>ultra</td>\n",
       "    </tr>\n",
       "    <tr>\n",
       "      <th>...</th>\n",
       "      <td>...</td>\n",
       "      <td>...</td>\n",
       "      <td>...</td>\n",
       "    </tr>\n",
       "    <tr>\n",
       "      <th>495</th>\n",
       "      <td>1495</td>\n",
       "      <td>Иркутск</td>\n",
       "      <td>ultra</td>\n",
       "    </tr>\n",
       "    <tr>\n",
       "      <th>496</th>\n",
       "      <td>1496</td>\n",
       "      <td>Вологда</td>\n",
       "      <td>smart</td>\n",
       "    </tr>\n",
       "    <tr>\n",
       "      <th>497</th>\n",
       "      <td>1497</td>\n",
       "      <td>Челябинск</td>\n",
       "      <td>smart</td>\n",
       "    </tr>\n",
       "    <tr>\n",
       "      <th>498</th>\n",
       "      <td>1498</td>\n",
       "      <td>Владикавказ</td>\n",
       "      <td>smart</td>\n",
       "    </tr>\n",
       "    <tr>\n",
       "      <th>499</th>\n",
       "      <td>1499</td>\n",
       "      <td>Пермь</td>\n",
       "      <td>smart</td>\n",
       "    </tr>\n",
       "  </tbody>\n",
       "</table>\n",
       "<p>500 rows × 3 columns</p>\n",
       "</div>"
      ],
      "text/plain": [
       "     user_id         city tariff\n",
       "0       1000    Краснодар  ultra\n",
       "1       1001       Москва  smart\n",
       "2       1002  Стерлитамак  smart\n",
       "3       1003       Москва  ultra\n",
       "4       1004  Новокузнецк  ultra\n",
       "..       ...          ...    ...\n",
       "495     1495      Иркутск  ultra\n",
       "496     1496      Вологда  smart\n",
       "497     1497    Челябинск  smart\n",
       "498     1498  Владикавказ  smart\n",
       "499     1499        Пермь  smart\n",
       "\n",
       "[500 rows x 3 columns]"
      ]
     },
     "execution_count": 29,
     "metadata": {},
     "output_type": "execute_result"
    }
   ],
   "source": [
    "users"
   ]
  },
  {
   "cell_type": "markdown",
   "metadata": {},
   "source": [
    "### messages"
   ]
  },
  {
   "cell_type": "code",
   "execution_count": 30,
   "metadata": {},
   "outputs": [
    {
     "name": "stdout",
     "output_type": "stream",
     "text": [
      "<class 'pandas.core.frame.DataFrame'>\n",
      "RangeIndex: 123036 entries, 0 to 123035\n",
      "Data columns (total 3 columns):\n",
      " #   Column        Non-Null Count   Dtype \n",
      "---  ------        --------------   ----- \n",
      " 0   id            123036 non-null  object\n",
      " 1   message_date  123036 non-null  object\n",
      " 2   user_id       123036 non-null  int64 \n",
      "dtypes: int64(1), object(2)\n",
      "memory usage: 2.8+ MB\n"
     ]
    }
   ],
   "source": [
    "messages.info()"
   ]
  },
  {
   "cell_type": "code",
   "execution_count": 31,
   "metadata": {},
   "outputs": [
    {
     "data": {
      "text/html": [
       "<div>\n",
       "<style scoped>\n",
       "    .dataframe tbody tr th:only-of-type {\n",
       "        vertical-align: middle;\n",
       "    }\n",
       "\n",
       "    .dataframe tbody tr th {\n",
       "        vertical-align: top;\n",
       "    }\n",
       "\n",
       "    .dataframe thead th {\n",
       "        text-align: right;\n",
       "    }\n",
       "</style>\n",
       "<table border=\"1\" class=\"dataframe\">\n",
       "  <thead>\n",
       "    <tr style=\"text-align: right;\">\n",
       "      <th></th>\n",
       "      <th>id</th>\n",
       "      <th>message_date</th>\n",
       "      <th>user_id</th>\n",
       "    </tr>\n",
       "  </thead>\n",
       "  <tbody>\n",
       "    <tr>\n",
       "      <th>0</th>\n",
       "      <td>1000_0</td>\n",
       "      <td>2018-06-27</td>\n",
       "      <td>1000</td>\n",
       "    </tr>\n",
       "    <tr>\n",
       "      <th>1</th>\n",
       "      <td>1000_1</td>\n",
       "      <td>2018-10-08</td>\n",
       "      <td>1000</td>\n",
       "    </tr>\n",
       "    <tr>\n",
       "      <th>2</th>\n",
       "      <td>1000_2</td>\n",
       "      <td>2018-08-04</td>\n",
       "      <td>1000</td>\n",
       "    </tr>\n",
       "    <tr>\n",
       "      <th>3</th>\n",
       "      <td>1000_3</td>\n",
       "      <td>2018-06-16</td>\n",
       "      <td>1000</td>\n",
       "    </tr>\n",
       "    <tr>\n",
       "      <th>4</th>\n",
       "      <td>1000_4</td>\n",
       "      <td>2018-12-05</td>\n",
       "      <td>1000</td>\n",
       "    </tr>\n",
       "  </tbody>\n",
       "</table>\n",
       "</div>"
      ],
      "text/plain": [
       "       id message_date  user_id\n",
       "0  1000_0   2018-06-27     1000\n",
       "1  1000_1   2018-10-08     1000\n",
       "2  1000_2   2018-08-04     1000\n",
       "3  1000_3   2018-06-16     1000\n",
       "4  1000_4   2018-12-05     1000"
      ]
     },
     "execution_count": 31,
     "metadata": {},
     "output_type": "execute_result"
    }
   ],
   "source": [
    "messages.head()"
   ]
  },
  {
   "cell_type": "markdown",
   "metadata": {},
   "source": [
    "Пропусков у нас в таблице с смс не обнаружено, изменим тип данных message_date на datetime"
   ]
  },
  {
   "cell_type": "code",
   "execution_count": 32,
   "metadata": {},
   "outputs": [],
   "source": [
    "messages['message_date'] = pd.to_datetime(messages['message_date'],\n",
    "format='%Y-%m-%d')"
   ]
  },
  {
   "cell_type": "code",
   "execution_count": 33,
   "metadata": {},
   "outputs": [],
   "source": [
    "messages['month'] = messages['message_date'].to_numpy().astype('datetime64[M]')"
   ]
  },
  {
   "cell_type": "markdown",
   "metadata": {},
   "source": [
    "Изменяем тип столбца month, преобразования делаем с помощью astype('datetime64[M]')\n",
    "Такие же изменения произведены с данными интерента и звонков"
   ]
  },
  {
   "cell_type": "code",
   "execution_count": 34,
   "metadata": {},
   "outputs": [],
   "source": [
    "messages_count = messages.groupby(['user_id','month'],as_index=False)['id'].count()\n",
    "messages_count.columns = ['user_id', 'month', 'messages_count']  "
   ]
  },
  {
   "cell_type": "code",
   "execution_count": 35,
   "metadata": {},
   "outputs": [
    {
     "data": {
      "text/html": [
       "<div>\n",
       "<style scoped>\n",
       "    .dataframe tbody tr th:only-of-type {\n",
       "        vertical-align: middle;\n",
       "    }\n",
       "\n",
       "    .dataframe tbody tr th {\n",
       "        vertical-align: top;\n",
       "    }\n",
       "\n",
       "    .dataframe thead th {\n",
       "        text-align: right;\n",
       "    }\n",
       "</style>\n",
       "<table border=\"1\" class=\"dataframe\">\n",
       "  <thead>\n",
       "    <tr style=\"text-align: right;\">\n",
       "      <th></th>\n",
       "      <th>user_id</th>\n",
       "      <th>month</th>\n",
       "      <th>messages_count</th>\n",
       "    </tr>\n",
       "  </thead>\n",
       "  <tbody>\n",
       "    <tr>\n",
       "      <th>0</th>\n",
       "      <td>1000</td>\n",
       "      <td>2018-05-01</td>\n",
       "      <td>22</td>\n",
       "    </tr>\n",
       "    <tr>\n",
       "      <th>1</th>\n",
       "      <td>1000</td>\n",
       "      <td>2018-06-01</td>\n",
       "      <td>60</td>\n",
       "    </tr>\n",
       "    <tr>\n",
       "      <th>2</th>\n",
       "      <td>1000</td>\n",
       "      <td>2018-07-01</td>\n",
       "      <td>75</td>\n",
       "    </tr>\n",
       "    <tr>\n",
       "      <th>3</th>\n",
       "      <td>1000</td>\n",
       "      <td>2018-08-01</td>\n",
       "      <td>81</td>\n",
       "    </tr>\n",
       "    <tr>\n",
       "      <th>4</th>\n",
       "      <td>1000</td>\n",
       "      <td>2018-09-01</td>\n",
       "      <td>57</td>\n",
       "    </tr>\n",
       "  </tbody>\n",
       "</table>\n",
       "</div>"
      ],
      "text/plain": [
       "   user_id      month  messages_count\n",
       "0     1000 2018-05-01              22\n",
       "1     1000 2018-06-01              60\n",
       "2     1000 2018-07-01              75\n",
       "3     1000 2018-08-01              81\n",
       "4     1000 2018-09-01              57"
      ]
     },
     "execution_count": 35,
     "metadata": {},
     "output_type": "execute_result"
    }
   ],
   "source": [
    "messages_count.head()"
   ]
  },
  {
   "cell_type": "markdown",
   "metadata": {},
   "source": [
    "Создали таблицу с количеством смс каждого пользователя по месяцам"
   ]
  },
  {
   "cell_type": "markdown",
   "metadata": {},
   "source": [
    "### internet"
   ]
  },
  {
   "cell_type": "code",
   "execution_count": 36,
   "metadata": {},
   "outputs": [
    {
     "name": "stdout",
     "output_type": "stream",
     "text": [
      "<class 'pandas.core.frame.DataFrame'>\n",
      "Int64Index: 149396 entries, 0 to 149395\n",
      "Data columns (total 4 columns):\n",
      " #   Column        Non-Null Count   Dtype  \n",
      "---  ------        --------------   -----  \n",
      " 0   id            149396 non-null  object \n",
      " 1   mb_used       149396 non-null  float64\n",
      " 2   session_date  149396 non-null  object \n",
      " 3   user_id       149396 non-null  int64  \n",
      "dtypes: float64(1), int64(1), object(2)\n",
      "memory usage: 5.7+ MB\n"
     ]
    }
   ],
   "source": [
    "internet.info()"
   ]
  },
  {
   "cell_type": "code",
   "execution_count": 37,
   "metadata": {
    "scrolled": false
   },
   "outputs": [
    {
     "data": {
      "text/html": [
       "<div>\n",
       "<style scoped>\n",
       "    .dataframe tbody tr th:only-of-type {\n",
       "        vertical-align: middle;\n",
       "    }\n",
       "\n",
       "    .dataframe tbody tr th {\n",
       "        vertical-align: top;\n",
       "    }\n",
       "\n",
       "    .dataframe thead th {\n",
       "        text-align: right;\n",
       "    }\n",
       "</style>\n",
       "<table border=\"1\" class=\"dataframe\">\n",
       "  <thead>\n",
       "    <tr style=\"text-align: right;\">\n",
       "      <th></th>\n",
       "      <th>id</th>\n",
       "      <th>mb_used</th>\n",
       "      <th>session_date</th>\n",
       "      <th>user_id</th>\n",
       "    </tr>\n",
       "  </thead>\n",
       "  <tbody>\n",
       "    <tr>\n",
       "      <th>0</th>\n",
       "      <td>1000_0</td>\n",
       "      <td>112.95</td>\n",
       "      <td>2018-11-25</td>\n",
       "      <td>1000</td>\n",
       "    </tr>\n",
       "    <tr>\n",
       "      <th>1</th>\n",
       "      <td>1000_1</td>\n",
       "      <td>1052.81</td>\n",
       "      <td>2018-09-07</td>\n",
       "      <td>1000</td>\n",
       "    </tr>\n",
       "    <tr>\n",
       "      <th>2</th>\n",
       "      <td>1000_2</td>\n",
       "      <td>1197.26</td>\n",
       "      <td>2018-06-25</td>\n",
       "      <td>1000</td>\n",
       "    </tr>\n",
       "    <tr>\n",
       "      <th>3</th>\n",
       "      <td>1000_3</td>\n",
       "      <td>550.27</td>\n",
       "      <td>2018-08-22</td>\n",
       "      <td>1000</td>\n",
       "    </tr>\n",
       "    <tr>\n",
       "      <th>4</th>\n",
       "      <td>1000_4</td>\n",
       "      <td>302.56</td>\n",
       "      <td>2018-09-24</td>\n",
       "      <td>1000</td>\n",
       "    </tr>\n",
       "  </tbody>\n",
       "</table>\n",
       "</div>"
      ],
      "text/plain": [
       "       id  mb_used session_date  user_id\n",
       "0  1000_0   112.95   2018-11-25     1000\n",
       "1  1000_1  1052.81   2018-09-07     1000\n",
       "2  1000_2  1197.26   2018-06-25     1000\n",
       "3  1000_3   550.27   2018-08-22     1000\n",
       "4  1000_4   302.56   2018-09-24     1000"
      ]
     },
     "execution_count": 37,
     "metadata": {},
     "output_type": "execute_result"
    }
   ],
   "source": [
    "internet.head()"
   ]
  },
  {
   "cell_type": "markdown",
   "metadata": {},
   "source": [
    "Так же пропусков нет, поменяем тип session_date на datetime"
   ]
  },
  {
   "cell_type": "code",
   "execution_count": 38,
   "metadata": {},
   "outputs": [],
   "source": [
    "internet['session_date'] = pd.to_datetime(internet['session_date'],\n",
    "format='%Y-%m-%d')"
   ]
  },
  {
   "cell_type": "code",
   "execution_count": 39,
   "metadata": {},
   "outputs": [],
   "source": [
    "internet['month'] = internet['session_date'].to_numpy().astype('datetime64[M]')"
   ]
  },
  {
   "cell_type": "code",
   "execution_count": 40,
   "metadata": {},
   "outputs": [],
   "source": [
    "internet_sum = internet.groupby(['user_id','month'],as_index=False)['mb_used'].sum()"
   ]
  },
  {
   "cell_type": "code",
   "execution_count": 41,
   "metadata": {},
   "outputs": [
    {
     "data": {
      "text/html": [
       "<div>\n",
       "<style scoped>\n",
       "    .dataframe tbody tr th:only-of-type {\n",
       "        vertical-align: middle;\n",
       "    }\n",
       "\n",
       "    .dataframe tbody tr th {\n",
       "        vertical-align: top;\n",
       "    }\n",
       "\n",
       "    .dataframe thead th {\n",
       "        text-align: right;\n",
       "    }\n",
       "</style>\n",
       "<table border=\"1\" class=\"dataframe\">\n",
       "  <thead>\n",
       "    <tr style=\"text-align: right;\">\n",
       "      <th></th>\n",
       "      <th>user_id</th>\n",
       "      <th>month</th>\n",
       "      <th>mb_used</th>\n",
       "    </tr>\n",
       "  </thead>\n",
       "  <tbody>\n",
       "    <tr>\n",
       "      <th>0</th>\n",
       "      <td>1000</td>\n",
       "      <td>2018-05-01</td>\n",
       "      <td>2253.49</td>\n",
       "    </tr>\n",
       "    <tr>\n",
       "      <th>1</th>\n",
       "      <td>1000</td>\n",
       "      <td>2018-06-01</td>\n",
       "      <td>23233.77</td>\n",
       "    </tr>\n",
       "    <tr>\n",
       "      <th>2</th>\n",
       "      <td>1000</td>\n",
       "      <td>2018-07-01</td>\n",
       "      <td>14003.64</td>\n",
       "    </tr>\n",
       "    <tr>\n",
       "      <th>3</th>\n",
       "      <td>1000</td>\n",
       "      <td>2018-08-01</td>\n",
       "      <td>14055.93</td>\n",
       "    </tr>\n",
       "    <tr>\n",
       "      <th>4</th>\n",
       "      <td>1000</td>\n",
       "      <td>2018-09-01</td>\n",
       "      <td>14568.91</td>\n",
       "    </tr>\n",
       "    <tr>\n",
       "      <th>...</th>\n",
       "      <td>...</td>\n",
       "      <td>...</td>\n",
       "      <td>...</td>\n",
       "    </tr>\n",
       "    <tr>\n",
       "      <th>3198</th>\n",
       "      <td>1498</td>\n",
       "      <td>2018-10-01</td>\n",
       "      <td>20579.36</td>\n",
       "    </tr>\n",
       "    <tr>\n",
       "      <th>3199</th>\n",
       "      <td>1499</td>\n",
       "      <td>2018-09-01</td>\n",
       "      <td>1845.75</td>\n",
       "    </tr>\n",
       "    <tr>\n",
       "      <th>3200</th>\n",
       "      <td>1499</td>\n",
       "      <td>2018-10-01</td>\n",
       "      <td>17788.51</td>\n",
       "    </tr>\n",
       "    <tr>\n",
       "      <th>3201</th>\n",
       "      <td>1499</td>\n",
       "      <td>2018-11-01</td>\n",
       "      <td>17963.31</td>\n",
       "    </tr>\n",
       "    <tr>\n",
       "      <th>3202</th>\n",
       "      <td>1499</td>\n",
       "      <td>2018-12-01</td>\n",
       "      <td>13055.58</td>\n",
       "    </tr>\n",
       "  </tbody>\n",
       "</table>\n",
       "<p>3203 rows × 3 columns</p>\n",
       "</div>"
      ],
      "text/plain": [
       "      user_id      month   mb_used\n",
       "0        1000 2018-05-01   2253.49\n",
       "1        1000 2018-06-01  23233.77\n",
       "2        1000 2018-07-01  14003.64\n",
       "3        1000 2018-08-01  14055.93\n",
       "4        1000 2018-09-01  14568.91\n",
       "...       ...        ...       ...\n",
       "3198     1498 2018-10-01  20579.36\n",
       "3199     1499 2018-09-01   1845.75\n",
       "3200     1499 2018-10-01  17788.51\n",
       "3201     1499 2018-11-01  17963.31\n",
       "3202     1499 2018-12-01  13055.58\n",
       "\n",
       "[3203 rows x 3 columns]"
      ]
     },
     "execution_count": 41,
     "metadata": {},
     "output_type": "execute_result"
    }
   ],
   "source": [
    "internet_sum"
   ]
  },
  {
   "cell_type": "markdown",
   "metadata": {},
   "source": [
    "Создали таблицу с подсчетом израсходанного трафика мб интернета по каждому пользователю в каждый месяц"
   ]
  },
  {
   "cell_type": "code",
   "execution_count": 42,
   "metadata": {},
   "outputs": [],
   "source": [
    "internet_sum['mb_used'] = np.ceil(internet_sum['mb_used']/1024).astype('int')"
   ]
  },
  {
   "cell_type": "code",
   "execution_count": 43,
   "metadata": {},
   "outputs": [],
   "source": [
    "internet_sum = internet_sum.rename(columns={'mb_used':'gb_used'})"
   ]
  },
  {
   "cell_type": "markdown",
   "metadata": {},
   "source": [
    "Т.к. оператор округляет в большую сторону количество израсходаного трафига, то сначала переведем мб в гигабайты и округлим в большую сторону, приведем данные к целому числу. "
   ]
  },
  {
   "cell_type": "markdown",
   "metadata": {},
   "source": [
    "### calls"
   ]
  },
  {
   "cell_type": "code",
   "execution_count": 44,
   "metadata": {},
   "outputs": [
    {
     "name": "stdout",
     "output_type": "stream",
     "text": [
      "<class 'pandas.core.frame.DataFrame'>\n",
      "RangeIndex: 202607 entries, 0 to 202606\n",
      "Data columns (total 4 columns):\n",
      " #   Column     Non-Null Count   Dtype  \n",
      "---  ------     --------------   -----  \n",
      " 0   id         202607 non-null  object \n",
      " 1   call_date  202607 non-null  object \n",
      " 2   duration   202607 non-null  float64\n",
      " 3   user_id    202607 non-null  int64  \n",
      "dtypes: float64(1), int64(1), object(2)\n",
      "memory usage: 6.2+ MB\n"
     ]
    }
   ],
   "source": [
    "calls.info()"
   ]
  },
  {
   "cell_type": "code",
   "execution_count": 45,
   "metadata": {},
   "outputs": [
    {
     "data": {
      "text/html": [
       "<div>\n",
       "<style scoped>\n",
       "    .dataframe tbody tr th:only-of-type {\n",
       "        vertical-align: middle;\n",
       "    }\n",
       "\n",
       "    .dataframe tbody tr th {\n",
       "        vertical-align: top;\n",
       "    }\n",
       "\n",
       "    .dataframe thead th {\n",
       "        text-align: right;\n",
       "    }\n",
       "</style>\n",
       "<table border=\"1\" class=\"dataframe\">\n",
       "  <thead>\n",
       "    <tr style=\"text-align: right;\">\n",
       "      <th></th>\n",
       "      <th>id</th>\n",
       "      <th>call_date</th>\n",
       "      <th>duration</th>\n",
       "      <th>user_id</th>\n",
       "    </tr>\n",
       "  </thead>\n",
       "  <tbody>\n",
       "    <tr>\n",
       "      <th>202602</th>\n",
       "      <td>1499_215</td>\n",
       "      <td>2018-12-26</td>\n",
       "      <td>0.76</td>\n",
       "      <td>1499</td>\n",
       "    </tr>\n",
       "    <tr>\n",
       "      <th>202603</th>\n",
       "      <td>1499_216</td>\n",
       "      <td>2018-10-18</td>\n",
       "      <td>18.83</td>\n",
       "      <td>1499</td>\n",
       "    </tr>\n",
       "    <tr>\n",
       "      <th>202604</th>\n",
       "      <td>1499_217</td>\n",
       "      <td>2018-11-10</td>\n",
       "      <td>10.81</td>\n",
       "      <td>1499</td>\n",
       "    </tr>\n",
       "    <tr>\n",
       "      <th>202605</th>\n",
       "      <td>1499_218</td>\n",
       "      <td>2018-10-06</td>\n",
       "      <td>4.27</td>\n",
       "      <td>1499</td>\n",
       "    </tr>\n",
       "    <tr>\n",
       "      <th>202606</th>\n",
       "      <td>1499_219</td>\n",
       "      <td>2018-12-14</td>\n",
       "      <td>19.62</td>\n",
       "      <td>1499</td>\n",
       "    </tr>\n",
       "  </tbody>\n",
       "</table>\n",
       "</div>"
      ],
      "text/plain": [
       "              id   call_date  duration  user_id\n",
       "202602  1499_215  2018-12-26      0.76     1499\n",
       "202603  1499_216  2018-10-18     18.83     1499\n",
       "202604  1499_217  2018-11-10     10.81     1499\n",
       "202605  1499_218  2018-10-06      4.27     1499\n",
       "202606  1499_219  2018-12-14     19.62     1499"
      ]
     },
     "execution_count": 45,
     "metadata": {},
     "output_type": "execute_result"
    }
   ],
   "source": [
    "calls.tail()"
   ]
  },
  {
   "cell_type": "markdown",
   "metadata": {},
   "source": [
    "Пропусков данных нет, поменяем call_date в тип datetime и округлим значение duration в большую сторону. И приведем к целому числу, т.к. оператор считает за использование минуты, даже если звонок был завершен ранее."
   ]
  },
  {
   "cell_type": "code",
   "execution_count": 46,
   "metadata": {},
   "outputs": [],
   "source": [
    "calls['duration'] = calls['duration'].apply(math.ceil)"
   ]
  },
  {
   "cell_type": "code",
   "execution_count": 47,
   "metadata": {},
   "outputs": [
    {
     "data": {
      "text/html": [
       "<div>\n",
       "<style scoped>\n",
       "    .dataframe tbody tr th:only-of-type {\n",
       "        vertical-align: middle;\n",
       "    }\n",
       "\n",
       "    .dataframe tbody tr th {\n",
       "        vertical-align: top;\n",
       "    }\n",
       "\n",
       "    .dataframe thead th {\n",
       "        text-align: right;\n",
       "    }\n",
       "</style>\n",
       "<table border=\"1\" class=\"dataframe\">\n",
       "  <thead>\n",
       "    <tr style=\"text-align: right;\">\n",
       "      <th></th>\n",
       "      <th>id</th>\n",
       "      <th>call_date</th>\n",
       "      <th>duration</th>\n",
       "      <th>user_id</th>\n",
       "    </tr>\n",
       "  </thead>\n",
       "  <tbody>\n",
       "    <tr>\n",
       "      <th>202602</th>\n",
       "      <td>1499_215</td>\n",
       "      <td>2018-12-26</td>\n",
       "      <td>1</td>\n",
       "      <td>1499</td>\n",
       "    </tr>\n",
       "    <tr>\n",
       "      <th>202603</th>\n",
       "      <td>1499_216</td>\n",
       "      <td>2018-10-18</td>\n",
       "      <td>19</td>\n",
       "      <td>1499</td>\n",
       "    </tr>\n",
       "    <tr>\n",
       "      <th>202604</th>\n",
       "      <td>1499_217</td>\n",
       "      <td>2018-11-10</td>\n",
       "      <td>11</td>\n",
       "      <td>1499</td>\n",
       "    </tr>\n",
       "    <tr>\n",
       "      <th>202605</th>\n",
       "      <td>1499_218</td>\n",
       "      <td>2018-10-06</td>\n",
       "      <td>5</td>\n",
       "      <td>1499</td>\n",
       "    </tr>\n",
       "    <tr>\n",
       "      <th>202606</th>\n",
       "      <td>1499_219</td>\n",
       "      <td>2018-12-14</td>\n",
       "      <td>20</td>\n",
       "      <td>1499</td>\n",
       "    </tr>\n",
       "  </tbody>\n",
       "</table>\n",
       "</div>"
      ],
      "text/plain": [
       "              id   call_date  duration  user_id\n",
       "202602  1499_215  2018-12-26         1     1499\n",
       "202603  1499_216  2018-10-18        19     1499\n",
       "202604  1499_217  2018-11-10        11     1499\n",
       "202605  1499_218  2018-10-06         5     1499\n",
       "202606  1499_219  2018-12-14        20     1499"
      ]
     },
     "execution_count": 47,
     "metadata": {},
     "output_type": "execute_result"
    }
   ],
   "source": [
    "calls.tail()"
   ]
  },
  {
   "cell_type": "code",
   "execution_count": 48,
   "metadata": {},
   "outputs": [],
   "source": [
    "calls['call_date'] = pd.to_datetime(calls['call_date'],\n",
    "format='%Y-%m-%d')"
   ]
  },
  {
   "cell_type": "code",
   "execution_count": 49,
   "metadata": {},
   "outputs": [],
   "source": [
    "calls['month'] = calls['call_date'].to_numpy().astype('datetime64[M]')"
   ]
  },
  {
   "cell_type": "code",
   "execution_count": 50,
   "metadata": {},
   "outputs": [],
   "source": [
    "calls_count_sum = calls.groupby(['user_id','month'])['duration'].agg(['sum', 'count']).reset_index()\n",
    "calls_count_sum.columns = ['user_id', 'month', 'calls_sum', 'calls_count']"
   ]
  },
  {
   "cell_type": "code",
   "execution_count": 51,
   "metadata": {},
   "outputs": [
    {
     "data": {
      "text/html": [
       "<div>\n",
       "<style scoped>\n",
       "    .dataframe tbody tr th:only-of-type {\n",
       "        vertical-align: middle;\n",
       "    }\n",
       "\n",
       "    .dataframe tbody tr th {\n",
       "        vertical-align: top;\n",
       "    }\n",
       "\n",
       "    .dataframe thead th {\n",
       "        text-align: right;\n",
       "    }\n",
       "</style>\n",
       "<table border=\"1\" class=\"dataframe\">\n",
       "  <thead>\n",
       "    <tr style=\"text-align: right;\">\n",
       "      <th></th>\n",
       "      <th>user_id</th>\n",
       "      <th>month</th>\n",
       "      <th>calls_sum</th>\n",
       "      <th>calls_count</th>\n",
       "    </tr>\n",
       "  </thead>\n",
       "  <tbody>\n",
       "    <tr>\n",
       "      <th>0</th>\n",
       "      <td>1000</td>\n",
       "      <td>2018-05-01</td>\n",
       "      <td>159</td>\n",
       "      <td>22</td>\n",
       "    </tr>\n",
       "    <tr>\n",
       "      <th>1</th>\n",
       "      <td>1000</td>\n",
       "      <td>2018-06-01</td>\n",
       "      <td>172</td>\n",
       "      <td>43</td>\n",
       "    </tr>\n",
       "    <tr>\n",
       "      <th>2</th>\n",
       "      <td>1000</td>\n",
       "      <td>2018-07-01</td>\n",
       "      <td>340</td>\n",
       "      <td>47</td>\n",
       "    </tr>\n",
       "    <tr>\n",
       "      <th>3</th>\n",
       "      <td>1000</td>\n",
       "      <td>2018-08-01</td>\n",
       "      <td>408</td>\n",
       "      <td>52</td>\n",
       "    </tr>\n",
       "    <tr>\n",
       "      <th>4</th>\n",
       "      <td>1000</td>\n",
       "      <td>2018-09-01</td>\n",
       "      <td>466</td>\n",
       "      <td>58</td>\n",
       "    </tr>\n",
       "    <tr>\n",
       "      <th>...</th>\n",
       "      <td>...</td>\n",
       "      <td>...</td>\n",
       "      <td>...</td>\n",
       "      <td>...</td>\n",
       "    </tr>\n",
       "    <tr>\n",
       "      <th>3169</th>\n",
       "      <td>1498</td>\n",
       "      <td>2018-10-01</td>\n",
       "      <td>247</td>\n",
       "      <td>41</td>\n",
       "    </tr>\n",
       "    <tr>\n",
       "      <th>3170</th>\n",
       "      <td>1499</td>\n",
       "      <td>2018-09-01</td>\n",
       "      <td>70</td>\n",
       "      <td>9</td>\n",
       "    </tr>\n",
       "    <tr>\n",
       "      <th>3171</th>\n",
       "      <td>1499</td>\n",
       "      <td>2018-10-01</td>\n",
       "      <td>449</td>\n",
       "      <td>68</td>\n",
       "    </tr>\n",
       "    <tr>\n",
       "      <th>3172</th>\n",
       "      <td>1499</td>\n",
       "      <td>2018-11-01</td>\n",
       "      <td>612</td>\n",
       "      <td>74</td>\n",
       "    </tr>\n",
       "    <tr>\n",
       "      <th>3173</th>\n",
       "      <td>1499</td>\n",
       "      <td>2018-12-01</td>\n",
       "      <td>492</td>\n",
       "      <td>69</td>\n",
       "    </tr>\n",
       "  </tbody>\n",
       "</table>\n",
       "<p>3174 rows × 4 columns</p>\n",
       "</div>"
      ],
      "text/plain": [
       "      user_id      month  calls_sum  calls_count\n",
       "0        1000 2018-05-01        159           22\n",
       "1        1000 2018-06-01        172           43\n",
       "2        1000 2018-07-01        340           47\n",
       "3        1000 2018-08-01        408           52\n",
       "4        1000 2018-09-01        466           58\n",
       "...       ...        ...        ...          ...\n",
       "3169     1498 2018-10-01        247           41\n",
       "3170     1499 2018-09-01         70            9\n",
       "3171     1499 2018-10-01        449           68\n",
       "3172     1499 2018-11-01        612           74\n",
       "3173     1499 2018-12-01        492           69\n",
       "\n",
       "[3174 rows x 4 columns]"
      ]
     },
     "execution_count": 51,
     "metadata": {},
     "output_type": "execute_result"
    }
   ],
   "source": [
    "calls_count_sum"
   ]
  },
  {
   "cell_type": "markdown",
   "metadata": {},
   "source": [
    "Получили таблицу с данными о количесте звонков и количестве израсходованных минут каждого пользователя."
   ]
  },
  {
   "cell_type": "markdown",
   "metadata": {},
   "source": [
    "### tariffs"
   ]
  },
  {
   "cell_type": "code",
   "execution_count": 52,
   "metadata": {},
   "outputs": [
    {
     "data": {
      "text/html": [
       "<div>\n",
       "<style scoped>\n",
       "    .dataframe tbody tr th:only-of-type {\n",
       "        vertical-align: middle;\n",
       "    }\n",
       "\n",
       "    .dataframe tbody tr th {\n",
       "        vertical-align: top;\n",
       "    }\n",
       "\n",
       "    .dataframe thead th {\n",
       "        text-align: right;\n",
       "    }\n",
       "</style>\n",
       "<table border=\"1\" class=\"dataframe\">\n",
       "  <thead>\n",
       "    <tr style=\"text-align: right;\">\n",
       "      <th></th>\n",
       "      <th>messages_included</th>\n",
       "      <th>mb_per_month_included</th>\n",
       "      <th>minutes_included</th>\n",
       "      <th>rub_monthly_fee</th>\n",
       "      <th>rub_per_gb</th>\n",
       "      <th>rub_per_message</th>\n",
       "      <th>rub_per_minute</th>\n",
       "      <th>tariff_name</th>\n",
       "    </tr>\n",
       "  </thead>\n",
       "  <tbody>\n",
       "    <tr>\n",
       "      <th>0</th>\n",
       "      <td>50</td>\n",
       "      <td>15360</td>\n",
       "      <td>500</td>\n",
       "      <td>550</td>\n",
       "      <td>200</td>\n",
       "      <td>3</td>\n",
       "      <td>3</td>\n",
       "      <td>smart</td>\n",
       "    </tr>\n",
       "    <tr>\n",
       "      <th>1</th>\n",
       "      <td>1000</td>\n",
       "      <td>30720</td>\n",
       "      <td>3000</td>\n",
       "      <td>1950</td>\n",
       "      <td>150</td>\n",
       "      <td>1</td>\n",
       "      <td>1</td>\n",
       "      <td>ultra</td>\n",
       "    </tr>\n",
       "  </tbody>\n",
       "</table>\n",
       "</div>"
      ],
      "text/plain": [
       "   messages_included  mb_per_month_included  minutes_included  \\\n",
       "0                 50                  15360               500   \n",
       "1               1000                  30720              3000   \n",
       "\n",
       "   rub_monthly_fee  rub_per_gb  rub_per_message  rub_per_minute tariff_name  \n",
       "0              550         200                3               3       smart  \n",
       "1             1950         150                1               1       ultra  "
      ]
     },
     "execution_count": 52,
     "metadata": {},
     "output_type": "execute_result"
    }
   ],
   "source": [
    "tariffs"
   ]
  },
  {
   "cell_type": "markdown",
   "metadata": {},
   "source": [
    "Здесь у нас таблица с информацией по каждому тарифу, переведем mb_per_month_included в гигабайты, т.к. выше мы посчитали трафик в гигабайтах. Для дальнейшего сравнения так будет удобнее.\n",
    "И переименуем столбцы"
   ]
  },
  {
   "cell_type": "code",
   "execution_count": 53,
   "metadata": {},
   "outputs": [],
   "source": [
    "tariffs['mb_per_month_included'] = tariffs['mb_per_month_included']/1024"
   ]
  },
  {
   "cell_type": "code",
   "execution_count": 54,
   "metadata": {},
   "outputs": [],
   "source": [
    "tariffs = tariffs.rename(columns={\n",
    "    'mb_per_month_included':'gb_per_month_included', \n",
    "    'tariff_name':'tariff'})"
   ]
  },
  {
   "cell_type": "code",
   "execution_count": 55,
   "metadata": {},
   "outputs": [
    {
     "data": {
      "text/html": [
       "<div>\n",
       "<style scoped>\n",
       "    .dataframe tbody tr th:only-of-type {\n",
       "        vertical-align: middle;\n",
       "    }\n",
       "\n",
       "    .dataframe tbody tr th {\n",
       "        vertical-align: top;\n",
       "    }\n",
       "\n",
       "    .dataframe thead th {\n",
       "        text-align: right;\n",
       "    }\n",
       "</style>\n",
       "<table border=\"1\" class=\"dataframe\">\n",
       "  <thead>\n",
       "    <tr style=\"text-align: right;\">\n",
       "      <th></th>\n",
       "      <th>messages_included</th>\n",
       "      <th>gb_per_month_included</th>\n",
       "      <th>minutes_included</th>\n",
       "      <th>rub_monthly_fee</th>\n",
       "      <th>rub_per_gb</th>\n",
       "      <th>rub_per_message</th>\n",
       "      <th>rub_per_minute</th>\n",
       "      <th>tariff</th>\n",
       "    </tr>\n",
       "  </thead>\n",
       "  <tbody>\n",
       "    <tr>\n",
       "      <th>0</th>\n",
       "      <td>50</td>\n",
       "      <td>15.0</td>\n",
       "      <td>500</td>\n",
       "      <td>550</td>\n",
       "      <td>200</td>\n",
       "      <td>3</td>\n",
       "      <td>3</td>\n",
       "      <td>smart</td>\n",
       "    </tr>\n",
       "    <tr>\n",
       "      <th>1</th>\n",
       "      <td>1000</td>\n",
       "      <td>30.0</td>\n",
       "      <td>3000</td>\n",
       "      <td>1950</td>\n",
       "      <td>150</td>\n",
       "      <td>1</td>\n",
       "      <td>1</td>\n",
       "      <td>ultra</td>\n",
       "    </tr>\n",
       "  </tbody>\n",
       "</table>\n",
       "</div>"
      ],
      "text/plain": [
       "   messages_included  gb_per_month_included  minutes_included  \\\n",
       "0                 50                   15.0               500   \n",
       "1               1000                   30.0              3000   \n",
       "\n",
       "   rub_monthly_fee  rub_per_gb  rub_per_message  rub_per_minute tariff  \n",
       "0              550         200                3               3  smart  \n",
       "1             1950         150                1               1  ultra  "
      ]
     },
     "execution_count": 55,
     "metadata": {},
     "output_type": "execute_result"
    }
   ],
   "source": [
    "tariffs"
   ]
  },
  {
   "cell_type": "markdown",
   "metadata": {},
   "source": [
    "### Объединение таблиц"
   ]
  },
  {
   "cell_type": "code",
   "execution_count": 57,
   "metadata": {},
   "outputs": [],
   "source": [
    "data = template.merge(internet_sum, on=('user_id','month'), how='outer')\n",
    "data = data.merge(calls_count_sum, on=('user_id','month'), how='outer')\n",
    "data = data.merge(messages_count, on=('user_id','month'), how='outer')\n",
    "data = data.merge(users, on='user_id', how='outer')\n",
    "data = data.merge(tariffs, on='tariff', how='outer')"
   ]
  },
  {
   "cell_type": "code",
   "execution_count": 58,
   "metadata": {},
   "outputs": [
    {
     "data": {
      "text/plain": [
       "month                    0.000000\n",
       "user_id                  0.000000\n",
       "gb_used                  0.004042\n",
       "calls_sum                0.013060\n",
       "calls_count              0.013060\n",
       "messages_count           0.155162\n",
       "city                     0.000000\n",
       "tariff                   0.000000\n",
       "messages_included        0.000000\n",
       "gb_per_month_included    0.000000\n",
       "minutes_included         0.000000\n",
       "rub_monthly_fee          0.000000\n",
       "rub_per_gb               0.000000\n",
       "rub_per_message          0.000000\n",
       "rub_per_minute           0.000000\n",
       "dtype: float64"
      ]
     },
     "execution_count": 58,
     "metadata": {},
     "output_type": "execute_result"
    }
   ],
   "source": [
    "data.isna().mean()"
   ]
  },
  {
   "cell_type": "markdown",
   "metadata": {},
   "source": [
    "Мы объеденили все 5 таблиц с полученными нами данными в один большой датафрейм для дальнейшей работы"
   ]
  },
  {
   "cell_type": "code",
   "execution_count": 59,
   "metadata": {
    "scrolled": false
   },
   "outputs": [
    {
     "name": "stdout",
     "output_type": "stream",
     "text": [
      "<class 'pandas.core.frame.DataFrame'>\n",
      "Int64Index: 3216 entries, 0 to 3215\n",
      "Data columns (total 15 columns):\n",
      " #   Column                 Non-Null Count  Dtype         \n",
      "---  ------                 --------------  -----         \n",
      " 0   month                  3216 non-null   datetime64[ns]\n",
      " 1   user_id                3216 non-null   int64         \n",
      " 2   gb_used                3203 non-null   float64       \n",
      " 3   calls_sum              3174 non-null   float64       \n",
      " 4   calls_count            3174 non-null   float64       \n",
      " 5   messages_count         2717 non-null   float64       \n",
      " 6   city                   3216 non-null   object        \n",
      " 7   tariff                 3216 non-null   object        \n",
      " 8   messages_included      3216 non-null   int64         \n",
      " 9   gb_per_month_included  3216 non-null   float64       \n",
      " 10  minutes_included       3216 non-null   int64         \n",
      " 11  rub_monthly_fee        3216 non-null   int64         \n",
      " 12  rub_per_gb             3216 non-null   int64         \n",
      " 13  rub_per_message        3216 non-null   int64         \n",
      " 14  rub_per_minute         3216 non-null   int64         \n",
      "dtypes: datetime64[ns](1), float64(5), int64(7), object(2)\n",
      "memory usage: 402.0+ KB\n"
     ]
    }
   ],
   "source": [
    "data.info()"
   ]
  },
  {
   "cell_type": "markdown",
   "metadata": {},
   "source": [
    "Мы видим, что у нас есть пропуски в столбцах messages_count, gb_used, calls_sum, calls_count.\n",
    "Пропуски образовались из-за отсутсвия данных в исходных таблицах. Люди либо не пользовались каким то видом связи в определнный период, либо вообще отказались от услуг сотового оператора. Поэтому заменим эти значения на 0"
   ]
  },
  {
   "cell_type": "code",
   "execution_count": 60,
   "metadata": {},
   "outputs": [],
   "source": [
    "data.loc[:,'gb_used':'messages_count'] = data.loc[:,'gb_used':'messages_count'].fillna(0)"
   ]
  },
  {
   "cell_type": "code",
   "execution_count": 61,
   "metadata": {
    "scrolled": false
   },
   "outputs": [
    {
     "data": {
      "text/html": [
       "<div>\n",
       "<style scoped>\n",
       "    .dataframe tbody tr th:only-of-type {\n",
       "        vertical-align: middle;\n",
       "    }\n",
       "\n",
       "    .dataframe tbody tr th {\n",
       "        vertical-align: top;\n",
       "    }\n",
       "\n",
       "    .dataframe thead th {\n",
       "        text-align: right;\n",
       "    }\n",
       "</style>\n",
       "<table border=\"1\" class=\"dataframe\">\n",
       "  <thead>\n",
       "    <tr style=\"text-align: right;\">\n",
       "      <th></th>\n",
       "      <th>month</th>\n",
       "      <th>user_id</th>\n",
       "      <th>gb_used</th>\n",
       "      <th>calls_sum</th>\n",
       "      <th>calls_count</th>\n",
       "      <th>messages_count</th>\n",
       "      <th>city</th>\n",
       "      <th>tariff</th>\n",
       "      <th>messages_included</th>\n",
       "      <th>gb_per_month_included</th>\n",
       "      <th>minutes_included</th>\n",
       "      <th>rub_monthly_fee</th>\n",
       "      <th>rub_per_gb</th>\n",
       "      <th>rub_per_message</th>\n",
       "      <th>rub_per_minute</th>\n",
       "    </tr>\n",
       "  </thead>\n",
       "  <tbody>\n",
       "    <tr>\n",
       "      <th>0</th>\n",
       "      <td>2018-01-01</td>\n",
       "      <td>1005</td>\n",
       "      <td>3.0</td>\n",
       "      <td>95.0</td>\n",
       "      <td>15.0</td>\n",
       "      <td>7.0</td>\n",
       "      <td>Набережные Челны</td>\n",
       "      <td>smart</td>\n",
       "      <td>50</td>\n",
       "      <td>15.0</td>\n",
       "      <td>500</td>\n",
       "      <td>550</td>\n",
       "      <td>200</td>\n",
       "      <td>3</td>\n",
       "      <td>3</td>\n",
       "    </tr>\n",
       "    <tr>\n",
       "      <th>1</th>\n",
       "      <td>2018-02-01</td>\n",
       "      <td>1005</td>\n",
       "      <td>8.0</td>\n",
       "      <td>456.0</td>\n",
       "      <td>69.0</td>\n",
       "      <td>38.0</td>\n",
       "      <td>Набережные Челны</td>\n",
       "      <td>smart</td>\n",
       "      <td>50</td>\n",
       "      <td>15.0</td>\n",
       "      <td>500</td>\n",
       "      <td>550</td>\n",
       "      <td>200</td>\n",
       "      <td>3</td>\n",
       "      <td>3</td>\n",
       "    </tr>\n",
       "    <tr>\n",
       "      <th>2</th>\n",
       "      <td>2018-03-01</td>\n",
       "      <td>1005</td>\n",
       "      <td>11.0</td>\n",
       "      <td>606.0</td>\n",
       "      <td>77.0</td>\n",
       "      <td>56.0</td>\n",
       "      <td>Набережные Челны</td>\n",
       "      <td>smart</td>\n",
       "      <td>50</td>\n",
       "      <td>15.0</td>\n",
       "      <td>500</td>\n",
       "      <td>550</td>\n",
       "      <td>200</td>\n",
       "      <td>3</td>\n",
       "      <td>3</td>\n",
       "    </tr>\n",
       "    <tr>\n",
       "      <th>3</th>\n",
       "      <td>2018-04-01</td>\n",
       "      <td>1005</td>\n",
       "      <td>10.0</td>\n",
       "      <td>712.0</td>\n",
       "      <td>101.0</td>\n",
       "      <td>41.0</td>\n",
       "      <td>Набережные Челны</td>\n",
       "      <td>smart</td>\n",
       "      <td>50</td>\n",
       "      <td>15.0</td>\n",
       "      <td>500</td>\n",
       "      <td>550</td>\n",
       "      <td>200</td>\n",
       "      <td>3</td>\n",
       "      <td>3</td>\n",
       "    </tr>\n",
       "    <tr>\n",
       "      <th>4</th>\n",
       "      <td>2018-05-01</td>\n",
       "      <td>1005</td>\n",
       "      <td>8.0</td>\n",
       "      <td>595.0</td>\n",
       "      <td>73.0</td>\n",
       "      <td>42.0</td>\n",
       "      <td>Набережные Челны</td>\n",
       "      <td>smart</td>\n",
       "      <td>50</td>\n",
       "      <td>15.0</td>\n",
       "      <td>500</td>\n",
       "      <td>550</td>\n",
       "      <td>200</td>\n",
       "      <td>3</td>\n",
       "      <td>3</td>\n",
       "    </tr>\n",
       "  </tbody>\n",
       "</table>\n",
       "</div>"
      ],
      "text/plain": [
       "       month  user_id  gb_used  calls_sum  calls_count  messages_count  \\\n",
       "0 2018-01-01     1005      3.0       95.0         15.0             7.0   \n",
       "1 2018-02-01     1005      8.0      456.0         69.0            38.0   \n",
       "2 2018-03-01     1005     11.0      606.0         77.0            56.0   \n",
       "3 2018-04-01     1005     10.0      712.0        101.0            41.0   \n",
       "4 2018-05-01     1005      8.0      595.0         73.0            42.0   \n",
       "\n",
       "               city tariff  messages_included  gb_per_month_included  \\\n",
       "0  Набережные Челны  smart                 50                   15.0   \n",
       "1  Набережные Челны  smart                 50                   15.0   \n",
       "2  Набережные Челны  smart                 50                   15.0   \n",
       "3  Набережные Челны  smart                 50                   15.0   \n",
       "4  Набережные Челны  smart                 50                   15.0   \n",
       "\n",
       "   minutes_included  rub_monthly_fee  rub_per_gb  rub_per_message  \\\n",
       "0               500              550         200                3   \n",
       "1               500              550         200                3   \n",
       "2               500              550         200                3   \n",
       "3               500              550         200                3   \n",
       "4               500              550         200                3   \n",
       "\n",
       "   rub_per_minute  \n",
       "0               3  \n",
       "1               3  \n",
       "2               3  \n",
       "3               3  \n",
       "4               3  "
      ]
     },
     "execution_count": 61,
     "metadata": {},
     "output_type": "execute_result"
    }
   ],
   "source": [
    "data.head()"
   ]
  },
  {
   "cell_type": "markdown",
   "metadata": {},
   "source": [
    "### Расчет помесячнй выручки с каждого пользователя"
   ]
  },
  {
   "cell_type": "code",
   "execution_count": 62,
   "metadata": {},
   "outputs": [],
   "source": [
    "def profit(row):\n",
    "    \n",
    "    if row['messages_count'] <= row['messages_included']:\n",
    "        mess_rub = 0\n",
    "    else:\n",
    "        mess_rub = (row['messages_count'] - row['messages_included'])*row['rub_per_message']\n",
    "    if row['gb_used'] <= row['gb_per_month_included']:\n",
    "        gb_rub = 0\n",
    "    else:\n",
    "        gb_rub = (row['gb_used'] - row['gb_per_month_included'])*row['rub_per_gb']\n",
    "    if row['calls_sum'] <= row['minutes_included']:\n",
    "        min_rub = 0\n",
    "    else:\n",
    "        min_rub = (row['calls_sum'] - row['minutes_included'])*row['rub_per_minute']\n",
    " \n",
    "    return mess_rub+gb_rub+min_rub            "
   ]
  },
  {
   "cell_type": "markdown",
   "metadata": {},
   "source": [
    "Написали функцию для подсчета доп прибыли сверх месячной оплаты тарифа при привышении лимита по звонкам, смс и трафика интернета."
   ]
  },
  {
   "cell_type": "code",
   "execution_count": 63,
   "metadata": {},
   "outputs": [],
   "source": [
    "data['profit_rub'] = data.apply(profit, axis=1)"
   ]
  },
  {
   "cell_type": "code",
   "execution_count": 64,
   "metadata": {},
   "outputs": [
    {
     "data": {
      "text/html": [
       "<div>\n",
       "<style scoped>\n",
       "    .dataframe tbody tr th:only-of-type {\n",
       "        vertical-align: middle;\n",
       "    }\n",
       "\n",
       "    .dataframe tbody tr th {\n",
       "        vertical-align: top;\n",
       "    }\n",
       "\n",
       "    .dataframe thead th {\n",
       "        text-align: right;\n",
       "    }\n",
       "</style>\n",
       "<table border=\"1\" class=\"dataframe\">\n",
       "  <thead>\n",
       "    <tr style=\"text-align: right;\">\n",
       "      <th></th>\n",
       "      <th>month</th>\n",
       "      <th>user_id</th>\n",
       "      <th>gb_used</th>\n",
       "      <th>calls_sum</th>\n",
       "      <th>calls_count</th>\n",
       "      <th>messages_count</th>\n",
       "      <th>city</th>\n",
       "      <th>tariff</th>\n",
       "      <th>messages_included</th>\n",
       "      <th>gb_per_month_included</th>\n",
       "      <th>minutes_included</th>\n",
       "      <th>rub_monthly_fee</th>\n",
       "      <th>rub_per_gb</th>\n",
       "      <th>rub_per_message</th>\n",
       "      <th>rub_per_minute</th>\n",
       "      <th>profit_rub</th>\n",
       "    </tr>\n",
       "  </thead>\n",
       "  <tbody>\n",
       "    <tr>\n",
       "      <th>1424</th>\n",
       "      <td>2018-07-01</td>\n",
       "      <td>1092</td>\n",
       "      <td>25.0</td>\n",
       "      <td>421.0</td>\n",
       "      <td>63.0</td>\n",
       "      <td>63.0</td>\n",
       "      <td>Ижевск</td>\n",
       "      <td>smart</td>\n",
       "      <td>50</td>\n",
       "      <td>15.0</td>\n",
       "      <td>500</td>\n",
       "      <td>550</td>\n",
       "      <td>200</td>\n",
       "      <td>3</td>\n",
       "      <td>3</td>\n",
       "      <td>2039.0</td>\n",
       "    </tr>\n",
       "    <tr>\n",
       "      <th>916</th>\n",
       "      <td>2018-06-01</td>\n",
       "      <td>1083</td>\n",
       "      <td>20.0</td>\n",
       "      <td>542.0</td>\n",
       "      <td>70.0</td>\n",
       "      <td>54.0</td>\n",
       "      <td>Сочи</td>\n",
       "      <td>smart</td>\n",
       "      <td>50</td>\n",
       "      <td>15.0</td>\n",
       "      <td>500</td>\n",
       "      <td>550</td>\n",
       "      <td>200</td>\n",
       "      <td>3</td>\n",
       "      <td>3</td>\n",
       "      <td>1138.0</td>\n",
       "    </tr>\n",
       "    <tr>\n",
       "      <th>24</th>\n",
       "      <td>2018-01-01</td>\n",
       "      <td>1045</td>\n",
       "      <td>3.0</td>\n",
       "      <td>9.0</td>\n",
       "      <td>1.0</td>\n",
       "      <td>5.0</td>\n",
       "      <td>Улан-Удэ</td>\n",
       "      <td>smart</td>\n",
       "      <td>50</td>\n",
       "      <td>15.0</td>\n",
       "      <td>500</td>\n",
       "      <td>550</td>\n",
       "      <td>200</td>\n",
       "      <td>3</td>\n",
       "      <td>3</td>\n",
       "      <td>0.0</td>\n",
       "    </tr>\n",
       "    <tr>\n",
       "      <th>2999</th>\n",
       "      <td>2018-12-01</td>\n",
       "      <td>1270</td>\n",
       "      <td>17.0</td>\n",
       "      <td>315.0</td>\n",
       "      <td>46.0</td>\n",
       "      <td>48.0</td>\n",
       "      <td>Нижневартовск</td>\n",
       "      <td>ultra</td>\n",
       "      <td>1000</td>\n",
       "      <td>30.0</td>\n",
       "      <td>3000</td>\n",
       "      <td>1950</td>\n",
       "      <td>150</td>\n",
       "      <td>1</td>\n",
       "      <td>1</td>\n",
       "      <td>0.0</td>\n",
       "    </tr>\n",
       "    <tr>\n",
       "      <th>114</th>\n",
       "      <td>2018-11-01</td>\n",
       "      <td>1176</td>\n",
       "      <td>16.0</td>\n",
       "      <td>395.0</td>\n",
       "      <td>54.0</td>\n",
       "      <td>59.0</td>\n",
       "      <td>Волгоград</td>\n",
       "      <td>smart</td>\n",
       "      <td>50</td>\n",
       "      <td>15.0</td>\n",
       "      <td>500</td>\n",
       "      <td>550</td>\n",
       "      <td>200</td>\n",
       "      <td>3</td>\n",
       "      <td>3</td>\n",
       "      <td>227.0</td>\n",
       "    </tr>\n",
       "  </tbody>\n",
       "</table>\n",
       "</div>"
      ],
      "text/plain": [
       "          month  user_id  gb_used  calls_sum  calls_count  messages_count  \\\n",
       "1424 2018-07-01     1092     25.0      421.0         63.0            63.0   \n",
       "916  2018-06-01     1083     20.0      542.0         70.0            54.0   \n",
       "24   2018-01-01     1045      3.0        9.0          1.0             5.0   \n",
       "2999 2018-12-01     1270     17.0      315.0         46.0            48.0   \n",
       "114  2018-11-01     1176     16.0      395.0         54.0            59.0   \n",
       "\n",
       "               city tariff  messages_included  gb_per_month_included  \\\n",
       "1424         Ижевск  smart                 50                   15.0   \n",
       "916            Сочи  smart                 50                   15.0   \n",
       "24         Улан-Удэ  smart                 50                   15.0   \n",
       "2999  Нижневартовск  ultra               1000                   30.0   \n",
       "114       Волгоград  smart                 50                   15.0   \n",
       "\n",
       "      minutes_included  rub_monthly_fee  rub_per_gb  rub_per_message  \\\n",
       "1424               500              550         200                3   \n",
       "916                500              550         200                3   \n",
       "24                 500              550         200                3   \n",
       "2999              3000             1950         150                1   \n",
       "114                500              550         200                3   \n",
       "\n",
       "      rub_per_minute  profit_rub  \n",
       "1424               3      2039.0  \n",
       "916                3      1138.0  \n",
       "24                 3         0.0  \n",
       "2999               1         0.0  \n",
       "114                3       227.0  "
      ]
     },
     "execution_count": 64,
     "metadata": {},
     "output_type": "execute_result"
    }
   ],
   "source": [
    "data.sample(5)"
   ]
  },
  {
   "cell_type": "code",
   "execution_count": 65,
   "metadata": {},
   "outputs": [],
   "source": [
    "data['total_rub'] = data['rub_monthly_fee']+data['profit_rub']"
   ]
  },
  {
   "cell_type": "markdown",
   "metadata": {},
   "source": [
    "Добавили столбец total_rub - итоговая прибыль по каждому клиенту за каждый месяц с учетом месячной платы и доп. плат за услуги"
   ]
  },
  {
   "cell_type": "code",
   "execution_count": 66,
   "metadata": {
    "scrolled": true
   },
   "outputs": [
    {
     "data": {
      "text/html": [
       "<div>\n",
       "<style scoped>\n",
       "    .dataframe tbody tr th:only-of-type {\n",
       "        vertical-align: middle;\n",
       "    }\n",
       "\n",
       "    .dataframe tbody tr th {\n",
       "        vertical-align: top;\n",
       "    }\n",
       "\n",
       "    .dataframe thead th {\n",
       "        text-align: right;\n",
       "    }\n",
       "</style>\n",
       "<table border=\"1\" class=\"dataframe\">\n",
       "  <thead>\n",
       "    <tr style=\"text-align: right;\">\n",
       "      <th></th>\n",
       "      <th>month</th>\n",
       "      <th>user_id</th>\n",
       "      <th>gb_used</th>\n",
       "      <th>calls_sum</th>\n",
       "      <th>calls_count</th>\n",
       "      <th>messages_count</th>\n",
       "      <th>city</th>\n",
       "      <th>tariff</th>\n",
       "      <th>messages_included</th>\n",
       "      <th>gb_per_month_included</th>\n",
       "      <th>minutes_included</th>\n",
       "      <th>rub_monthly_fee</th>\n",
       "      <th>rub_per_gb</th>\n",
       "      <th>rub_per_message</th>\n",
       "      <th>rub_per_minute</th>\n",
       "      <th>profit_rub</th>\n",
       "      <th>total_rub</th>\n",
       "    </tr>\n",
       "  </thead>\n",
       "  <tbody>\n",
       "    <tr>\n",
       "      <th>0</th>\n",
       "      <td>2018-01-01</td>\n",
       "      <td>1005</td>\n",
       "      <td>3.0</td>\n",
       "      <td>95.0</td>\n",
       "      <td>15.0</td>\n",
       "      <td>7.0</td>\n",
       "      <td>Набережные Челны</td>\n",
       "      <td>smart</td>\n",
       "      <td>50</td>\n",
       "      <td>15.0</td>\n",
       "      <td>500</td>\n",
       "      <td>550</td>\n",
       "      <td>200</td>\n",
       "      <td>3</td>\n",
       "      <td>3</td>\n",
       "      <td>0.0</td>\n",
       "      <td>550.0</td>\n",
       "    </tr>\n",
       "    <tr>\n",
       "      <th>1</th>\n",
       "      <td>2018-02-01</td>\n",
       "      <td>1005</td>\n",
       "      <td>8.0</td>\n",
       "      <td>456.0</td>\n",
       "      <td>69.0</td>\n",
       "      <td>38.0</td>\n",
       "      <td>Набережные Челны</td>\n",
       "      <td>smart</td>\n",
       "      <td>50</td>\n",
       "      <td>15.0</td>\n",
       "      <td>500</td>\n",
       "      <td>550</td>\n",
       "      <td>200</td>\n",
       "      <td>3</td>\n",
       "      <td>3</td>\n",
       "      <td>0.0</td>\n",
       "      <td>550.0</td>\n",
       "    </tr>\n",
       "    <tr>\n",
       "      <th>2</th>\n",
       "      <td>2018-03-01</td>\n",
       "      <td>1005</td>\n",
       "      <td>11.0</td>\n",
       "      <td>606.0</td>\n",
       "      <td>77.0</td>\n",
       "      <td>56.0</td>\n",
       "      <td>Набережные Челны</td>\n",
       "      <td>smart</td>\n",
       "      <td>50</td>\n",
       "      <td>15.0</td>\n",
       "      <td>500</td>\n",
       "      <td>550</td>\n",
       "      <td>200</td>\n",
       "      <td>3</td>\n",
       "      <td>3</td>\n",
       "      <td>336.0</td>\n",
       "      <td>886.0</td>\n",
       "    </tr>\n",
       "    <tr>\n",
       "      <th>3</th>\n",
       "      <td>2018-04-01</td>\n",
       "      <td>1005</td>\n",
       "      <td>10.0</td>\n",
       "      <td>712.0</td>\n",
       "      <td>101.0</td>\n",
       "      <td>41.0</td>\n",
       "      <td>Набережные Челны</td>\n",
       "      <td>smart</td>\n",
       "      <td>50</td>\n",
       "      <td>15.0</td>\n",
       "      <td>500</td>\n",
       "      <td>550</td>\n",
       "      <td>200</td>\n",
       "      <td>3</td>\n",
       "      <td>3</td>\n",
       "      <td>636.0</td>\n",
       "      <td>1186.0</td>\n",
       "    </tr>\n",
       "    <tr>\n",
       "      <th>4</th>\n",
       "      <td>2018-05-01</td>\n",
       "      <td>1005</td>\n",
       "      <td>8.0</td>\n",
       "      <td>595.0</td>\n",
       "      <td>73.0</td>\n",
       "      <td>42.0</td>\n",
       "      <td>Набережные Челны</td>\n",
       "      <td>smart</td>\n",
       "      <td>50</td>\n",
       "      <td>15.0</td>\n",
       "      <td>500</td>\n",
       "      <td>550</td>\n",
       "      <td>200</td>\n",
       "      <td>3</td>\n",
       "      <td>3</td>\n",
       "      <td>285.0</td>\n",
       "      <td>835.0</td>\n",
       "    </tr>\n",
       "    <tr>\n",
       "      <th>...</th>\n",
       "      <td>...</td>\n",
       "      <td>...</td>\n",
       "      <td>...</td>\n",
       "      <td>...</td>\n",
       "      <td>...</td>\n",
       "      <td>...</td>\n",
       "      <td>...</td>\n",
       "      <td>...</td>\n",
       "      <td>...</td>\n",
       "      <td>...</td>\n",
       "      <td>...</td>\n",
       "      <td>...</td>\n",
       "      <td>...</td>\n",
       "      <td>...</td>\n",
       "      <td>...</td>\n",
       "      <td>...</td>\n",
       "      <td>...</td>\n",
       "    </tr>\n",
       "    <tr>\n",
       "      <th>3211</th>\n",
       "      <td>2018-12-01</td>\n",
       "      <td>1234</td>\n",
       "      <td>28.0</td>\n",
       "      <td>842.0</td>\n",
       "      <td>113.0</td>\n",
       "      <td>91.0</td>\n",
       "      <td>Магнитогорск</td>\n",
       "      <td>ultra</td>\n",
       "      <td>1000</td>\n",
       "      <td>30.0</td>\n",
       "      <td>3000</td>\n",
       "      <td>1950</td>\n",
       "      <td>150</td>\n",
       "      <td>1</td>\n",
       "      <td>1</td>\n",
       "      <td>0.0</td>\n",
       "      <td>1950.0</td>\n",
       "    </tr>\n",
       "    <tr>\n",
       "      <th>3212</th>\n",
       "      <td>2018-12-01</td>\n",
       "      <td>1336</td>\n",
       "      <td>26.0</td>\n",
       "      <td>756.0</td>\n",
       "      <td>100.0</td>\n",
       "      <td>20.0</td>\n",
       "      <td>Уфа</td>\n",
       "      <td>ultra</td>\n",
       "      <td>1000</td>\n",
       "      <td>30.0</td>\n",
       "      <td>3000</td>\n",
       "      <td>1950</td>\n",
       "      <td>150</td>\n",
       "      <td>1</td>\n",
       "      <td>1</td>\n",
       "      <td>0.0</td>\n",
       "      <td>1950.0</td>\n",
       "    </tr>\n",
       "    <tr>\n",
       "      <th>3213</th>\n",
       "      <td>2018-12-01</td>\n",
       "      <td>1349</td>\n",
       "      <td>27.0</td>\n",
       "      <td>882.0</td>\n",
       "      <td>118.0</td>\n",
       "      <td>75.0</td>\n",
       "      <td>Севастополь</td>\n",
       "      <td>ultra</td>\n",
       "      <td>1000</td>\n",
       "      <td>30.0</td>\n",
       "      <td>3000</td>\n",
       "      <td>1950</td>\n",
       "      <td>150</td>\n",
       "      <td>1</td>\n",
       "      <td>1</td>\n",
       "      <td>0.0</td>\n",
       "      <td>1950.0</td>\n",
       "    </tr>\n",
       "    <tr>\n",
       "      <th>3214</th>\n",
       "      <td>2018-12-01</td>\n",
       "      <td>1397</td>\n",
       "      <td>23.0</td>\n",
       "      <td>232.0</td>\n",
       "      <td>33.0</td>\n",
       "      <td>0.0</td>\n",
       "      <td>Воронеж</td>\n",
       "      <td>ultra</td>\n",
       "      <td>1000</td>\n",
       "      <td>30.0</td>\n",
       "      <td>3000</td>\n",
       "      <td>1950</td>\n",
       "      <td>150</td>\n",
       "      <td>1</td>\n",
       "      <td>1</td>\n",
       "      <td>0.0</td>\n",
       "      <td>1950.0</td>\n",
       "    </tr>\n",
       "    <tr>\n",
       "      <th>3215</th>\n",
       "      <td>2018-12-01</td>\n",
       "      <td>1485</td>\n",
       "      <td>23.0</td>\n",
       "      <td>584.0</td>\n",
       "      <td>94.0</td>\n",
       "      <td>155.0</td>\n",
       "      <td>Киров</td>\n",
       "      <td>ultra</td>\n",
       "      <td>1000</td>\n",
       "      <td>30.0</td>\n",
       "      <td>3000</td>\n",
       "      <td>1950</td>\n",
       "      <td>150</td>\n",
       "      <td>1</td>\n",
       "      <td>1</td>\n",
       "      <td>0.0</td>\n",
       "      <td>1950.0</td>\n",
       "    </tr>\n",
       "  </tbody>\n",
       "</table>\n",
       "<p>3216 rows × 17 columns</p>\n",
       "</div>"
      ],
      "text/plain": [
       "          month  user_id  gb_used  calls_sum  calls_count  messages_count  \\\n",
       "0    2018-01-01     1005      3.0       95.0         15.0             7.0   \n",
       "1    2018-02-01     1005      8.0      456.0         69.0            38.0   \n",
       "2    2018-03-01     1005     11.0      606.0         77.0            56.0   \n",
       "3    2018-04-01     1005     10.0      712.0        101.0            41.0   \n",
       "4    2018-05-01     1005      8.0      595.0         73.0            42.0   \n",
       "...         ...      ...      ...        ...          ...             ...   \n",
       "3211 2018-12-01     1234     28.0      842.0        113.0            91.0   \n",
       "3212 2018-12-01     1336     26.0      756.0        100.0            20.0   \n",
       "3213 2018-12-01     1349     27.0      882.0        118.0            75.0   \n",
       "3214 2018-12-01     1397     23.0      232.0         33.0             0.0   \n",
       "3215 2018-12-01     1485     23.0      584.0         94.0           155.0   \n",
       "\n",
       "                  city tariff  messages_included  gb_per_month_included  \\\n",
       "0     Набережные Челны  smart                 50                   15.0   \n",
       "1     Набережные Челны  smart                 50                   15.0   \n",
       "2     Набережные Челны  smart                 50                   15.0   \n",
       "3     Набережные Челны  smart                 50                   15.0   \n",
       "4     Набережные Челны  smart                 50                   15.0   \n",
       "...                ...    ...                ...                    ...   \n",
       "3211      Магнитогорск  ultra               1000                   30.0   \n",
       "3212               Уфа  ultra               1000                   30.0   \n",
       "3213       Севастополь  ultra               1000                   30.0   \n",
       "3214           Воронеж  ultra               1000                   30.0   \n",
       "3215             Киров  ultra               1000                   30.0   \n",
       "\n",
       "      minutes_included  rub_monthly_fee  rub_per_gb  rub_per_message  \\\n",
       "0                  500              550         200                3   \n",
       "1                  500              550         200                3   \n",
       "2                  500              550         200                3   \n",
       "3                  500              550         200                3   \n",
       "4                  500              550         200                3   \n",
       "...                ...              ...         ...              ...   \n",
       "3211              3000             1950         150                1   \n",
       "3212              3000             1950         150                1   \n",
       "3213              3000             1950         150                1   \n",
       "3214              3000             1950         150                1   \n",
       "3215              3000             1950         150                1   \n",
       "\n",
       "      rub_per_minute  profit_rub  total_rub  \n",
       "0                  3         0.0      550.0  \n",
       "1                  3         0.0      550.0  \n",
       "2                  3       336.0      886.0  \n",
       "3                  3       636.0     1186.0  \n",
       "4                  3       285.0      835.0  \n",
       "...              ...         ...        ...  \n",
       "3211               1         0.0     1950.0  \n",
       "3212               1         0.0     1950.0  \n",
       "3213               1         0.0     1950.0  \n",
       "3214               1         0.0     1950.0  \n",
       "3215               1         0.0     1950.0  \n",
       "\n",
       "[3216 rows x 17 columns]"
      ]
     },
     "execution_count": 66,
     "metadata": {},
     "output_type": "execute_result"
    }
   ],
   "source": [
    "data"
   ]
  },
  {
   "cell_type": "markdown",
   "metadata": {},
   "source": [
    "## Шаг 3. Проанализируйте данные"
   ]
  },
  {
   "cell_type": "code",
   "execution_count": 67,
   "metadata": {},
   "outputs": [
    {
     "name": "stdout",
     "output_type": "stream",
     "text": [
      "пользователи тарифа ультра 986\n",
      "пользователи тарифа смарт 2230\n"
     ]
    }
   ],
   "source": [
    "data_ultra = data[data['tariff'] == 'ultra']\n",
    "data_smart = data[data['tariff'] == 'smart']\n",
    "print('пользователи тарифа ультра', len(data_ultra))\n",
    "print('пользователи тарифа смарт', len(data_smart))"
   ]
  },
  {
   "cell_type": "markdown",
   "metadata": {},
   "source": [
    "Для дальнейшего анализа разделим датафрейм на 2 таблицы: пользователи тарифа ультра и смарт. Вторых в два раза больше, чем первых."
   ]
  },
  {
   "cell_type": "markdown",
   "metadata": {},
   "source": [
    "### Анализ тарифа smart"
   ]
  },
  {
   "cell_type": "code",
   "execution_count": 68,
   "metadata": {},
   "outputs": [],
   "source": [
    "data_smart_calculations = data_smart.loc[:,'gb_used':'messages_count'].agg(\n",
    "    ['mean', 'var', 'std']\n",
    ")\n"
   ]
  },
  {
   "cell_type": "code",
   "execution_count": 69,
   "metadata": {},
   "outputs": [
    {
     "data": {
      "text/html": [
       "<div>\n",
       "<style scoped>\n",
       "    .dataframe tbody tr th:only-of-type {\n",
       "        vertical-align: middle;\n",
       "    }\n",
       "\n",
       "    .dataframe tbody tr th {\n",
       "        vertical-align: top;\n",
       "    }\n",
       "\n",
       "    .dataframe thead th {\n",
       "        text-align: right;\n",
       "    }\n",
       "</style>\n",
       "<table border=\"1\" class=\"dataframe\">\n",
       "  <thead>\n",
       "    <tr style=\"text-align: right;\">\n",
       "      <th></th>\n",
       "      <th>gb_used</th>\n",
       "      <th>calls_sum</th>\n",
       "      <th>calls_count</th>\n",
       "      <th>messages_count</th>\n",
       "    </tr>\n",
       "  </thead>\n",
       "  <tbody>\n",
       "    <tr>\n",
       "      <th>mean</th>\n",
       "      <td>16.321525</td>\n",
       "      <td>417.747534</td>\n",
       "      <td>58.437220</td>\n",
       "      <td>33.369058</td>\n",
       "    </tr>\n",
       "    <tr>\n",
       "      <th>var</th>\n",
       "      <td>33.133453</td>\n",
       "      <td>36281.393836</td>\n",
       "      <td>674.107093</td>\n",
       "      <td>796.955256</td>\n",
       "    </tr>\n",
       "    <tr>\n",
       "      <th>std</th>\n",
       "      <td>5.756167</td>\n",
       "      <td>190.476754</td>\n",
       "      <td>25.963572</td>\n",
       "      <td>28.230396</td>\n",
       "    </tr>\n",
       "  </tbody>\n",
       "</table>\n",
       "</div>"
      ],
      "text/plain": [
       "        gb_used     calls_sum  calls_count  messages_count\n",
       "mean  16.321525    417.747534    58.437220       33.369058\n",
       "var   33.133453  36281.393836   674.107093      796.955256\n",
       "std    5.756167    190.476754    25.963572       28.230396"
      ]
     },
     "execution_count": 69,
     "metadata": {},
     "output_type": "execute_result"
    }
   ],
   "source": [
    "data_smart_calculations"
   ]
  },
  {
   "cell_type": "markdown",
   "metadata": {},
   "source": [
    "Мы посчитали среднее, дисперсию и стандартное отклонение по количеству смс, использоного интернет трафика и количества минут у тарифа смарт"
   ]
  },
  {
   "cell_type": "code",
   "execution_count": 70,
   "metadata": {},
   "outputs": [
    {
     "data": {
      "image/png": "[encoded data removed]",
      "text/plain": [
       "<Figure size 1152x432 with 1 Axes>"
      ]
     },
     "metadata": {
      "needs_background": "light"
     },
     "output_type": "display_data"
    }
   ],
   "source": [
    "fig, ax = plt.subplots(figsize=(16,6))                                                                                        \n",
    "sns.distplot(data_smart['messages_count']);\n",
    "plt.axvline(x=data_smart['messages_count'].mean(), color='g', label='Среднее')\n",
    "plt.axvline(x=50, color='r', label='Лимит')\n",
    "ax.legend()\n",
    "ax.set_title('Распределение количества использованых смс для тарифа \"Смарт\"');\n",
    "plt.xlabel('Количество смс-сообщений в среднем за месяц');\n",
    "plt.ylabel('Плотность распределения');\n",
    "plt.show()"
   ]
  },
  {
   "cell_type": "code",
   "execution_count": 71,
   "metadata": {},
   "outputs": [
    {
     "data": {
      "text/plain": [
       "0.747085201793722"
      ]
     },
     "execution_count": 71,
     "metadata": {},
     "output_type": "execute_result"
    }
   ],
   "source": [
    "len(data_smart.query('messages_count <= 50'))/len(data_smart)"
   ]
  },
  {
   "cell_type": "markdown",
   "metadata": {},
   "source": [
    "Распределение ближе к Пуассоновскому.\n",
    "Большое количество людей в тарифе смарт особо не пользуется смс, в среднем люди отправляют 33 сообщения, что укладывается в лимит предоставленный в тарифе.\n",
    "Но так же присуствуют пользователи, которым лимит маловат, но таких всего 25%\n",
    "Основная масса людей, которым достаточно 50 сообщений"
   ]
  },
  {
   "cell_type": "code",
   "execution_count": 72,
   "metadata": {},
   "outputs": [
    {
     "data": {
      "image/png": "[encoded data removed]",
      "text/plain": [
       "<Figure size 1152x432 with 1 Axes>"
      ]
     },
     "metadata": {
      "needs_background": "light"
     },
     "output_type": "display_data"
    }
   ],
   "source": [
    "fig, ax = plt.subplots(figsize=(16,6))                                                                                        \n",
    "sns.distplot(data_smart['gb_used']);\n",
    "plt.axvline(x=data_smart['gb_used'].mean(), color='g', label='Среднее')\n",
    "plt.axvline(x=15, color='r', label='Лимит')\n",
    "ax.legend()\n",
    "ax.set_title('Распределение количества использованого интернет-трафика для тарифа \"Смарт\"');\n",
    "plt.xlabel('Количество интернет-трафика в среднем за месяц');\n",
    "plt.ylabel('Плотность распределения');\n",
    "plt.show()"
   ]
  },
  {
   "cell_type": "code",
   "execution_count": 73,
   "metadata": {},
   "outputs": [
    {
     "data": {
      "text/plain": [
       "0.41524663677130047"
      ]
     },
     "execution_count": 73,
     "metadata": {},
     "output_type": "execute_result"
    }
   ],
   "source": [
    "len(data_smart.query('gb_used <= 15'))/len(data_smart)"
   ]
  },
  {
   "cell_type": "code",
   "execution_count": 74,
   "metadata": {},
   "outputs": [
    {
     "data": {
      "text/plain": [
       "0.18699551569506725"
      ]
     },
     "execution_count": 74,
     "metadata": {},
     "output_type": "execute_result"
    }
   ],
   "source": [
    "len(data_smart.query('total_rub > 1950'))/len(data_smart)"
   ]
  },
  {
   "cell_type": "markdown",
   "metadata": {},
   "source": [
    "График похож на нормальное распределение, есть пик на 20 гб, всего 41% клиентов укладывается в указанный лимит 15 гб интернет-трафика. Больше половины людей переплачивают круглую сумму за перерасход интернета. \n",
    "Почти 19% людей заплатили за услуги связи из-за привышения лимитов больше, чем пользователи тарифа ультра платят в месяц, укладываясь в лимиты.\n",
    "Можно подробнее проанализировать данный показатель и предложить пользователям, другой тариф. "
   ]
  },
  {
   "cell_type": "code",
   "execution_count": 75,
   "metadata": {},
   "outputs": [
    {
     "data": {
      "image/png": "[encoded data removed]",
      "text/plain": [
       "<Figure size 576x432 with 1 Axes>"
      ]
     },
     "metadata": {
      "needs_background": "light"
     },
     "output_type": "display_data"
    }
   ],
   "source": [
    "fig, ax = plt.subplots(figsize=(8,6))                                                                                        \n",
    "sns.distplot(data_smart['calls_sum']);\n",
    "ax.set_title('Распределение количества минут для тарифа \"Смарт\"');\n",
    "plt.axvline(x=data_smart['calls_sum'].mean(), color='g', label='Среднее')\n",
    "plt.axvline(x=500, color='r', label='Лимит')\n",
    "ax.legend()\n",
    "plt.xlabel('Количество минут в среднем за месяц');\n",
    "plt.ylabel('Плотность распределения');\n",
    "plt.show()"
   ]
  },
  {
   "cell_type": "code",
   "execution_count": 76,
   "metadata": {},
   "outputs": [
    {
     "data": {
      "text/plain": [
       "0.6618834080717488"
      ]
     },
     "execution_count": 76,
     "metadata": {},
     "output_type": "execute_result"
    }
   ],
   "source": [
    "len(data_smart.query('calls_sum <= 500'))/len(data_smart)"
   ]
  },
  {
   "cell_type": "markdown",
   "metadata": {},
   "source": [
    "График так же похож на нормальное распределение со смещением в лево, здесь у нас уже больше людей укладывается в лимит по минутам включенным в тариф, но все так же присутсвует большое колчиство людей - 44%, которым не достаточно ограничения в 500 минут. "
   ]
  },
  {
   "cell_type": "markdown",
   "metadata": {},
   "source": [
    "### Анализ тарифа ultra"
   ]
  },
  {
   "cell_type": "code",
   "execution_count": 77,
   "metadata": {},
   "outputs": [],
   "source": [
    "data_ultra_calculations = data_ultra.loc[:,'gb_used':'messages_count'].agg(\n",
    "    ['mean', 'var', 'std']\n",
    ")"
   ]
  },
  {
   "cell_type": "code",
   "execution_count": 78,
   "metadata": {},
   "outputs": [
    {
     "data": {
      "text/html": [
       "<div>\n",
       "<style scoped>\n",
       "    .dataframe tbody tr th:only-of-type {\n",
       "        vertical-align: middle;\n",
       "    }\n",
       "\n",
       "    .dataframe tbody tr th {\n",
       "        vertical-align: top;\n",
       "    }\n",
       "\n",
       "    .dataframe thead th {\n",
       "        text-align: right;\n",
       "    }\n",
       "</style>\n",
       "<table border=\"1\" class=\"dataframe\">\n",
       "  <thead>\n",
       "    <tr style=\"text-align: right;\">\n",
       "      <th></th>\n",
       "      <th>gb_used</th>\n",
       "      <th>calls_sum</th>\n",
       "      <th>calls_count</th>\n",
       "      <th>messages_count</th>\n",
       "    </tr>\n",
       "  </thead>\n",
       "  <tbody>\n",
       "    <tr>\n",
       "      <th>mean</th>\n",
       "      <td>19.474645</td>\n",
       "      <td>526.089249</td>\n",
       "      <td>73.318458</td>\n",
       "      <td>49.313387</td>\n",
       "    </tr>\n",
       "    <tr>\n",
       "      <th>var</th>\n",
       "      <td>97.378544</td>\n",
       "      <td>101052.493549</td>\n",
       "      <td>1932.194928</td>\n",
       "      <td>2285.417425</td>\n",
       "    </tr>\n",
       "    <tr>\n",
       "      <th>std</th>\n",
       "      <td>9.868057</td>\n",
       "      <td>317.887549</td>\n",
       "      <td>43.956739</td>\n",
       "      <td>47.806040</td>\n",
       "    </tr>\n",
       "  </tbody>\n",
       "</table>\n",
       "</div>"
      ],
      "text/plain": [
       "        gb_used      calls_sum  calls_count  messages_count\n",
       "mean  19.474645     526.089249    73.318458       49.313387\n",
       "var   97.378544  101052.493549  1932.194928     2285.417425\n",
       "std    9.868057     317.887549    43.956739       47.806040"
      ]
     },
     "execution_count": 78,
     "metadata": {},
     "output_type": "execute_result"
    }
   ],
   "source": [
    "data_ultra_calculations"
   ]
  },
  {
   "cell_type": "code",
   "execution_count": 79,
   "metadata": {},
   "outputs": [
    {
     "data": {
      "image/png": "[encoded data removed]",
      "text/plain": [
       "<Figure size 1152x432 with 1 Axes>"
      ]
     },
     "metadata": {
      "needs_background": "light"
     },
     "output_type": "display_data"
    }
   ],
   "source": [
    "fig, ax = plt.subplots(figsize=(16,6))                                                                                        \n",
    "sns.distplot(data_ultra['messages_count']);\n",
    "plt.axvline(x=data_ultra['messages_count'].mean(), color='g', label='Среднее')\n",
    "plt.axvline(x=1000, color='r', label='Лимит')\n",
    "ax.legend()\n",
    "ax.set_title('Распределение количества использованых смс для тарифа \"Ультра\"');\n",
    "plt.xlabel('Количество смс-сообщений в среднем за месяц');\n",
    "plt.ylabel('Плотность распределения');\n",
    "plt.show()"
   ]
  },
  {
   "cell_type": "markdown",
   "metadata": {},
   "source": [
    "В тарифе ультра, тук же как и в смарт - большое количество пользователей почти не пользуются смс. Это и логично, с наличием мессенджеров - смс стали почти не нужны.\n",
    "На сколько мы видим по графику, абсолютно все укладываются в лимит в 1000 смс. В основном все значения ледат в пределе 200смс, лимит установлен уж слишком большим. Возможно было бы неплохо пересмотреть тариф ультра, т.к. на количество смс сейчас уже мало кто смотрит и такой большой лимит не зачем. Лучше заинтересовать пользователя количеством включенных гб интернета в тариф."
   ]
  },
  {
   "cell_type": "code",
   "execution_count": 80,
   "metadata": {},
   "outputs": [
    {
     "data": {
      "image/png": "[encoded data removed]",
      "text/plain": [
       "<Figure size 1152x432 with 1 Axes>"
      ]
     },
     "metadata": {
      "needs_background": "light"
     },
     "output_type": "display_data"
    }
   ],
   "source": [
    "fig, ax = plt.subplots(figsize=(16,6))                                                                                        \n",
    "sns.distplot(data_ultra['gb_used']);\n",
    "plt.axvline(x=data_ultra['gb_used'].mean(), color='g', label='Среднее')\n",
    "plt.axvline(x=30, color='r', label='Лимит')\n",
    "ax.legend()\n",
    "ax.set_title('Распределение количества использованого интернет-трафика тарифа \"Ультра\"');\n",
    "plt.xlabel('Количество интернет-трафика в среднем за месяц');\n",
    "plt.ylabel('Плотность распределения');\n",
    "plt.show()"
   ]
  },
  {
   "cell_type": "code",
   "execution_count": 81,
   "metadata": {},
   "outputs": [
    {
     "data": {
      "text/plain": [
       "0.8640973630831643"
      ]
     },
     "execution_count": 81,
     "metadata": {},
     "output_type": "execute_result"
    }
   ],
   "source": [
    "len(data_ultra.query('gb_used <= 30'))/len(data_ultra)"
   ]
  },
  {
   "cell_type": "markdown",
   "metadata": {},
   "source": [
    "График приближен к нормальному распределению со смещением влево.\n",
    "86% клиентов укладываются в указанный лимит, но есть люди, которым недостаточно 30 гб."
   ]
  },
  {
   "cell_type": "code",
   "execution_count": 82,
   "metadata": {},
   "outputs": [
    {
     "data": {
      "image/png": "[encoded data removed]",
      "text/plain": [
       "<Figure size 576x432 with 1 Axes>"
      ]
     },
     "metadata": {
      "needs_background": "light"
     },
     "output_type": "display_data"
    }
   ],
   "source": [
    "fig, ax = plt.subplots(figsize=(8,6))                                                                                        \n",
    "sns.distplot(data_ultra['calls_sum']);\n",
    "ax.set_title('Распределение количества минут для тарифа \"Ультра\"');\n",
    "plt.axvline(x=data_ultra['calls_sum'].mean(), color='g', label='Среднее')\n",
    "plt.axvline(x=3000, color='r', label='Лимит')\n",
    "ax.legend()\n",
    "plt.xlabel('Количество минут в среднем за месяц');\n",
    "plt.ylabel('Плотность распределения');\n",
    "plt.show()"
   ]
  },
  {
   "cell_type": "markdown",
   "metadata": {},
   "source": [
    "Как мы видим на графике, все пользователи укладываются в отведенное количество минут в тарифе. Нет тех, кто разговаривал бы больше 50 часов в месяц по мобильному телефону."
   ]
  },
  {
   "cell_type": "markdown",
   "metadata": {},
   "source": [
    "### Анализ выручки"
   ]
  },
  {
   "cell_type": "code",
   "execution_count": 83,
   "metadata": {},
   "outputs": [],
   "source": [
    "data_total_ultra = data_ultra[['total_rub']].agg(\n",
    "    ['mean', 'var', 'std']\n",
    ")\n",
    "data_total_ultra.columns = ['total_ultra']"
   ]
  },
  {
   "cell_type": "code",
   "execution_count": 84,
   "metadata": {},
   "outputs": [],
   "source": [
    "data_total_smart = data_smart[['total_rub']].agg(\n",
    "    ['mean', 'var', 'std']\n",
    ")\n",
    "data_total_smart.columns = ['total_smart']"
   ]
  },
  {
   "cell_type": "code",
   "execution_count": 85,
   "metadata": {},
   "outputs": [
    {
     "data": {
      "text/html": [
       "<div>\n",
       "<style scoped>\n",
       "    .dataframe tbody tr th:only-of-type {\n",
       "        vertical-align: middle;\n",
       "    }\n",
       "\n",
       "    .dataframe tbody tr th {\n",
       "        vertical-align: top;\n",
       "    }\n",
       "\n",
       "    .dataframe thead th {\n",
       "        text-align: right;\n",
       "    }\n",
       "</style>\n",
       "<table border=\"1\" class=\"dataframe\">\n",
       "  <thead>\n",
       "    <tr style=\"text-align: right;\">\n",
       "      <th></th>\n",
       "      <th>total_ultra</th>\n",
       "    </tr>\n",
       "  </thead>\n",
       "  <tbody>\n",
       "    <tr>\n",
       "      <th>mean</th>\n",
       "      <td>2070.030426</td>\n",
       "    </tr>\n",
       "    <tr>\n",
       "      <th>var</th>\n",
       "      <td>141387.714809</td>\n",
       "    </tr>\n",
       "    <tr>\n",
       "      <th>std</th>\n",
       "      <td>376.015578</td>\n",
       "    </tr>\n",
       "  </tbody>\n",
       "</table>\n",
       "</div>"
      ],
      "text/plain": [
       "        total_ultra\n",
       "mean    2070.030426\n",
       "var   141387.714809\n",
       "std      376.015578"
      ]
     },
     "metadata": {},
     "output_type": "display_data"
    },
    {
     "data": {
      "text/html": [
       "<div>\n",
       "<style scoped>\n",
       "    .dataframe tbody tr th:only-of-type {\n",
       "        vertical-align: middle;\n",
       "    }\n",
       "\n",
       "    .dataframe tbody tr th {\n",
       "        vertical-align: top;\n",
       "    }\n",
       "\n",
       "    .dataframe thead th {\n",
       "        text-align: right;\n",
       "    }\n",
       "</style>\n",
       "<table border=\"1\" class=\"dataframe\">\n",
       "  <thead>\n",
       "    <tr style=\"text-align: right;\">\n",
       "      <th></th>\n",
       "      <th>total_smart</th>\n",
       "    </tr>\n",
       "  </thead>\n",
       "  <tbody>\n",
       "    <tr>\n",
       "      <th>mean</th>\n",
       "      <td>1289.641704</td>\n",
       "    </tr>\n",
       "    <tr>\n",
       "      <th>var</th>\n",
       "      <td>669730.763895</td>\n",
       "    </tr>\n",
       "    <tr>\n",
       "      <th>std</th>\n",
       "      <td>818.370799</td>\n",
       "    </tr>\n",
       "  </tbody>\n",
       "</table>\n",
       "</div>"
      ],
      "text/plain": [
       "        total_smart\n",
       "mean    1289.641704\n",
       "var   669730.763895\n",
       "std      818.370799"
      ]
     },
     "metadata": {},
     "output_type": "display_data"
    }
   ],
   "source": [
    "display(data_total_ultra, data_total_smart)"
   ]
  },
  {
   "cell_type": "code",
   "execution_count": 86,
   "metadata": {},
   "outputs": [
    {
     "data": {
      "image/png": "[encoded data removed]",
      "text/plain": [
       "<Figure size 720x432 with 1 Axes>"
      ]
     },
     "metadata": {
      "needs_background": "light"
     },
     "output_type": "display_data"
    },
    {
     "name": "stdout",
     "output_type": "stream",
     "text": [
      "Cуммарная выручка тарифа Ультра 2041050.0\n",
      "Cуммарная выручка тарифа Смарт 2875901.0\n"
     ]
    }
   ],
   "source": [
    "fig, ax = plt.subplots(figsize=(10,6))                                                                                        \n",
    "sns.distplot(data_ultra['total_rub'], bins=10);\n",
    "sns.distplot(data_smart['total_rub'], bins=10);\n",
    "ax.set_title('Распределение суммарной выручки для тарифов \"Ультра\" и \"Смарт\"');\n",
    "plt.axvline(x=data_ultra['total_rub'].mean(), color='g', label='Среднее тариф Ультра')\n",
    "plt.axvline(x=data_smart['total_rub'].mean(), color='r', label='Среднее тариф Смарт')\n",
    "ax.legend()\n",
    "plt.xlabel('Выручка за 2018г');\n",
    "plt.ylabel('Плотность распределения');\n",
    "plt.show()\n",
    "\n",
    "print('Cуммарная выручка тарифа Ультра', data_ultra['total_rub'].sum())\n",
    "print('Cуммарная выручка тарифа Смарт', data_smart['total_rub'].sum())"
   ]
  },
  {
   "cell_type": "markdown",
   "metadata": {},
   "source": [
    "В среднем пользователи тарифа ультра платят в месяц 2070 руб. Это чуть больше их месячной платы за тариф в 1950р. Пользователи этого тарифа укладываются в выделеные лимиты и редко переплаичают. Это же мы видим на синем графике.(среднее приходится на пик распределения "
   ]
  },
  {
   "cell_type": "code",
   "execution_count": 87,
   "metadata": {},
   "outputs": [
    {
     "data": {
      "image/png": "[encoded data removed]",
      "text/plain": [
       "<Figure size 720x432 with 1 Axes>"
      ]
     },
     "metadata": {
      "needs_background": "light"
     },
     "output_type": "display_data"
    }
   ],
   "source": [
    "fig, ax = plt.subplots(figsize=(10,6)) \n",
    "sns.distplot(data_ultra.groupby('user_id')['total_rub'].mean(), bins=10);\n",
    "ax.set_title('Распределение средней выручки для тарифов \"Ультра\" по каждому пользователю');\n",
    "plt.xlabel('Выручка за 2018г');\n",
    "plt.ylabel('Плотность распределения');"
   ]
  },
  {
   "cell_type": "code",
   "execution_count": 88,
   "metadata": {},
   "outputs": [
    {
     "data": {
      "image/png": "[encoded data removed]",
      "text/plain": [
       "<Figure size 720x432 with 1 Axes>"
      ]
     },
     "metadata": {
      "needs_background": "light"
     },
     "output_type": "display_data"
    }
   ],
   "source": [
    "fig, ax = plt.subplots(figsize=(10,6)) \n",
    "a = data_smart.groupby('user_id',as_index=False)['total_rub'].mean()\n",
    "sns.distplot(a['total_rub'], bins=10);\n",
    "ax.set_title('Распределение средней выручки для тарифов \"Смарт\" по каждому пользователю');\n",
    "plt.axvline(x=1950, color='r', label='Стоимость тарифа \"Ультра\"');\n",
    "ax.legend();\n",
    "plt.xlabel('Выручка за 2018г');\n",
    "plt.ylabel('Плотность распределения');\n",
    "plt.show()"
   ]
  },
  {
   "cell_type": "code",
   "execution_count": 89,
   "metadata": {},
   "outputs": [
    {
     "data": {
      "text/plain": [
       "33"
      ]
     },
     "execution_count": 89,
     "metadata": {},
     "output_type": "execute_result"
    }
   ],
   "source": [
    "a.query('1700 <= total_rub <= 2000')['user_id'].count()"
   ]
  },
  {
   "cell_type": "markdown",
   "metadata": {},
   "source": [
    "У нас есть 33 пользователя, кто в среднем в месяц платить от 1700р до 2000р, данным пользователям модно предложить перейти на тариф Ультра, чтобы зафиксировать минимальный платеж в месяц. "
   ]
  },
  {
   "cell_type": "markdown",
   "metadata": {},
   "source": [
    "### Анализ доп. дохода от тарифов smart и ultra"
   ]
  },
  {
   "cell_type": "code",
   "execution_count": 90,
   "metadata": {},
   "outputs": [
    {
     "data": {
      "image/png": "[encoded data removed]",
      "text/plain": [
       "<Figure size 432x288 with 1 Axes>"
      ]
     },
     "metadata": {},
     "output_type": "display_data"
    }
   ],
   "source": [
    "vals = [data_smart['profit_rub'].sum(), (data_smart['total_rub'].sum()-data_smart['profit_rub'].sum())]\n",
    "labels = [\"доход от доп.услуг\", \"доход от месячной платы\"]\n",
    "fig, ax = plt.subplots()\n",
    "ax.pie(vals, labels=labels, autopct='%1.1f%%')\n",
    "ax.axis(\"equal\")\n",
    "ax.set_title('Распределение дохода для тарифа \"Смарт\"')\n",
    "plt.show()"
   ]
  },
  {
   "cell_type": "code",
   "execution_count": 91,
   "metadata": {},
   "outputs": [
    {
     "data": {
      "image/png": "[encoded data removed]",
      "text/plain": [
       "<Figure size 432x288 with 1 Axes>"
      ]
     },
     "metadata": {},
     "output_type": "display_data"
    }
   ],
   "source": [
    "vals = [data_ultra['profit_rub'].sum(), (data_ultra['total_rub'].sum()-data_ultra['profit_rub'].sum())]\n",
    "labels = [\"доход от доп.услуг\", \"доход от месячной платы\"]\n",
    "fig, ax = plt.subplots()\n",
    "ax.pie(vals, labels=labels, autopct='%1.1f%%')\n",
    "ax.axis(\"equal\")\n",
    "ax.set_title('Распределение дохода для тарифа \"Ультра\"')\n",
    "plt.show()"
   ]
  },
  {
   "cell_type": "markdown",
   "metadata": {},
   "source": [
    "Как мы видим из графиков, по тарифу Смарт 57% прибыли получается из-за привышения лимитов на связь. Данный показатель не стабилен и с таким распределением доходности сложно планировать прибыльность.\n",
    "В тарифе ультра доход из-за привышения лимита приходится на 5%, вся остальная прибыль поступает от ежемесячной платы клиентов."
   ]
  },
  {
   "cell_type": "code",
   "execution_count": 92,
   "metadata": {},
   "outputs": [
    {
     "data": {
      "image/png": "[encoded data removed]",
      "text/plain": [
       "<Figure size 1512x576 with 2 Axes>"
      ]
     },
     "metadata": {
      "needs_background": "light"
     },
     "output_type": "display_data"
    }
   ],
   "source": [
    "fig, axes = plt.subplots(1, 2, figsize=(21,8))\n",
    "plt.xticks(rotation = 45)\n",
    "a = data_ultra.groupby('month')['total_rub'].agg('sum')\n",
    "b = data_smart.groupby('month')['total_rub'].agg('sum')\n",
    "sns.barplot(x=a.index, y=a, palette=\"Blues_d\", ax=axes[0]) \n",
    "sns.barplot(x=b.index, y=b, palette=\"Reds_d\", ax=axes[1])\n",
    "axes[0].set_title('Cумарная выручка по тарифу \"Ультра\", руб');\n",
    "axes[1].set_title('Сумарная выручка по тарифу \"Смарт\", руб');\n",
    "axes[0].tick_params(axis='x', labelrotation = 45)\n",
    "axes[1].tick_params(axis='x', labelrotation = 45)"
   ]
  },
  {
   "cell_type": "markdown",
   "metadata": {},
   "source": [
    "Как мы видим по графикам доход по обоим тарифам растет, но тариф смарт показывает показатели лучше. Тариф ультра смог к концу года доползти до выручки в 300т руб, когда смарт показывал такие показатели уже в середине лета"
   ]
  },
  {
   "cell_type": "markdown",
   "metadata": {},
   "source": [
    "## Шаг 4. Проверка гипотез"
   ]
  },
  {
   "cell_type": "markdown",
   "metadata": {},
   "source": [
    "### средняя выручка пользователей тарифов «Ультра» и «Смарт» различаются"
   ]
  },
  {
   "cell_type": "markdown",
   "metadata": {},
   "source": [
    "Формируем гипотезу: Средняя выручка пользователей тарифов Ультра и Смарт - равна\n",
    "Альтернативная гипотеза: Средняя выручка пользователей тарифов Ультра и Смарт - не равна"
   ]
  },
  {
   "cell_type": "code",
   "execution_count": 93,
   "metadata": {},
   "outputs": [
    {
     "name": "stdout",
     "output_type": "stream",
     "text": [
      "p-значение: 1.927011394420941e-250\n",
      "Отвергаем нулевую гипотезу\n"
     ]
    }
   ],
   "source": [
    "\n",
    "alpha = .05\n",
    "results = st.ttest_ind(\n",
    "    data_smart['total_rub'], \n",
    "    data_ultra['total_rub'],\n",
    "    equal_var = False)\n",
    "\n",
    "print('p-значение:', results.pvalue)\n",
    "if results.pvalue < alpha:\n",
    "    print(\"Отвергаем нулевую гипотезу\")\n",
    "else:\n",
    "    print(\"Не получилось отвергнуть нулевую гипотезу\") "
   ]
  },
  {
   "cell_type": "markdown",
   "metadata": {},
   "source": [
    "Для проверки гипотезы был выбран t-тест Стьюдента, т.к. мы имеем две независимые друг от друга генеральные совокупности. Но т.к. выборки у нас разного размера, то решено было добавить параметр equal_var = False\n",
    "Как вы видим из получившегося результата, мы можем отвергнуть нулевую гипотезу\n",
    "Средняя выручка пользователей тарифов Ультра и Смарт - не равна, они отличаются"
   ]
  },
  {
   "cell_type": "markdown",
   "metadata": {},
   "source": [
    "### средняя выручка пользователей из Москвы отличается от выручки пользователей из других регионов."
   ]
  },
  {
   "cell_type": "markdown",
   "metadata": {},
   "source": [
    "Формируем гипотезу: Средняя выручка пользователей из Москвы и из других регионов - равна.\n",
    "Альтернативная гипотеза: Средняя выручка пользователей из Москвы и из других регионов - не равна"
   ]
  },
  {
   "cell_type": "code",
   "execution_count": 94,
   "metadata": {},
   "outputs": [],
   "source": [
    "data_msk = data.query(\"city == 'Москва'\")"
   ]
  },
  {
   "cell_type": "code",
   "execution_count": 95,
   "metadata": {},
   "outputs": [],
   "source": [
    "data_other_city = data.query(\"city != 'Москва'\")"
   ]
  },
  {
   "cell_type": "code",
   "execution_count": 96,
   "metadata": {},
   "outputs": [
    {
     "name": "stdout",
     "output_type": "stream",
     "text": [
      "Количество пользователей из Москвы 611\n",
      "Количество пользователей из других регионов 2605\n",
      "p-значение: 0.5216952110000278\n",
      "Не получилось отвергнуть нулевую гипотезу\n"
     ]
    }
   ],
   "source": [
    "print('Количество пользователей из Москвы', len(data_msk))\n",
    "print('Количество пользователей из других регионов', len(data_other_city))\n",
    "\n",
    "alpha = .05\n",
    "results = st.ttest_ind(\n",
    "    data_msk['total_rub'], \n",
    "    data_other_city['total_rub'],\n",
    "    equal_var = False)\n",
    "\n",
    "print('p-значение:', results.pvalue)\n",
    "if results.pvalue < alpha:\n",
    "    print(\"Отвергаем нулевую гипотезу\")\n",
    "else:\n",
    "    print(\"Не получилось отвергнуть нулевую гипотезу\") "
   ]
  },
  {
   "cell_type": "markdown",
   "metadata": {},
   "source": [
    "Для проверки гипотезы был выбран t-тест Стьюдента, т.к. мы имеем две независимые друг от друга генеральные совокупности. Но т.к. выборки у нас разного размера, то решено было добавить параметр equal_var = False\n",
    "Как мы видим из получившегося результата, мы  не можем отвергнуть нулевую гипотезу. Следовательно клиенты из Москвы приносят в среднем столько же денег компании, сколько и пользователи из других регионов. Но пользователетй из Москвы в несколько раз больше, чем из других регионов."
   ]
  },
  {
   "cell_type": "markdown",
   "metadata": {},
   "source": [
    "## Шаг 5. Вывод"
   ]
  },
  {
   "cell_type": "markdown",
   "metadata": {},
   "source": [
    "Были изучены предоставленные данные сотового оператора «Мегалайн» за 2018 год \n",
    "Клиентам предлагают два тарифных плана: «Смарт» и «Ультра»\n",
    "* в таблице users были оставленны только 3 стольцы user_id,city,tariff\n",
    "* в таблице messages посчитали количество используемых сообщений у каждого клиента за каждый месяц\n",
    "* в таблице internet посчитали количество используемого интернет-трафига у каждого клиента за каждый месяц. Параментр переведен в гигабайты и округлем в соответсвии с политикой компании.\n",
    "* в таблице calls посчитали количество используемых минут у каждого клиента за каждый месяц. Округлен в соответсвии с политикой компании.\n",
    "* данные во всех таблицах приведены к необходимым типам.\n",
    "* таблицы объеденены в один датафрем для дальнейшего анализа.\n",
    "* посчитана помесячная выручка по кажому клиенту\n",
    "* посчитали среднее, дисперсию и стандартное отклонение по количеству смс, использоного интернет трафика и количества минут у тарифов смарт и ультра\n",
    "* Проанализировали тарифы \n",
    "\n",
    "Смарт: пользователям не достаточно того лимита, который уставновлен в плане. Больше всего привышений по использованию интерент-трафика - 59% пользователей привысили лимит в 15 гб. \n",
    "44% людей привысили лимит по использованным минутам на звонки\n",
    "И 25% людей привысили лимит в 50 смс сообщений.\n",
    "Это все привело к тому, что итоговый доход от тарифа Смарт на 57% состоит из оплаты услуг сверх. лимита\n",
    "\n",
    "Ультра: пользователи не привышают установленный лимит по смс и минутам на звонки. Но есть привышения использования интернет-трафика у 14% пользователей.\n",
    "В тарифе ультра доход из-за привышения лимита приходится на 5%, вся остальная прибыль поступает от ежемесячной платы клиентов.\n",
    "\n",
    "Доход по обоим тарифам растет, но тариф смарт показывает показатели лучше. Тариф ультра смог к концу года доползти до выручки в 300т руб, когда смарт показывал такие показатели уже в середине лета и к декабрю стал приносить 500т. р\n",
    "Cуммарная выручка тарифа Ультра 2041050.0\n",
    "Cуммарная выручка тарифа Смарт 2875901.0\n",
    "\n",
    "* проверили гипотезу о различии средней выручки двух тарифов. Провели статистический тест с помощью t-теста Стьюдента. Получили статистически значимые различия двух средних.\n",
    "* проверили гипотезу о различии средней выручки для пользователей из Москвы и для пользователей из других регионов. Статистически значимых различий между выручками пользователей нет.\n",
    "\n",
    "Какой тариф лучше? \n",
    "Тариф Смарт показывает лучшую прибыль и хорошие темпы роста. В плане доходности он выигрывает у тарифа Ультра.\n",
    "\n",
    "__Рекомендации__ Для улучшения продаж тарифа необходимо ввести 3 вариант, средний - т.к. по данным мы видим, что тариф Смарт слишком мал для среднего пользователя. А в тариф ультра включены мало используемые услуги в виде 1т сообщений и 50 часов разговоров.\n",
    "А стоимость тарифов отличается в 3.5 раза.  "
   ]
  }
 ],
 "metadata": {
  "ExecuteTimeLog": [
   {
    "duration": 1480,
    "start_time": "2022-05-24T14:08:40.419Z"
   },
   {
    "duration": 122,
    "start_time": "2022-05-24T14:08:41.901Z"
   },
   {
    "duration": 0,
    "start_time": "2022-05-24T14:08:42.026Z"
   },
   {
    "duration": 0,
    "start_time": "2022-05-24T14:08:42.028Z"
   },
   {
    "duration": 0,
    "start_time": "2022-05-24T14:08:42.030Z"
   },
   {
    "duration": 0,
    "start_time": "2022-05-24T14:08:42.031Z"
   },
   {
    "duration": 0,
    "start_time": "2022-05-24T14:08:42.033Z"
   },
   {
    "duration": 0,
    "start_time": "2022-05-24T14:08:42.034Z"
   },
   {
    "duration": 0,
    "start_time": "2022-05-24T14:08:42.052Z"
   },
   {
    "duration": 0,
    "start_time": "2022-05-24T14:08:42.053Z"
   },
   {
    "duration": 0,
    "start_time": "2022-05-24T14:08:42.055Z"
   },
   {
    "duration": 0,
    "start_time": "2022-05-24T14:08:42.056Z"
   },
   {
    "duration": 0,
    "start_time": "2022-05-24T14:08:42.057Z"
   },
   {
    "duration": 0,
    "start_time": "2022-05-24T14:08:42.058Z"
   },
   {
    "duration": 0,
    "start_time": "2022-05-24T14:08:42.060Z"
   },
   {
    "duration": 0,
    "start_time": "2022-05-24T14:08:42.061Z"
   },
   {
    "duration": 0,
    "start_time": "2022-05-24T14:08:42.062Z"
   },
   {
    "duration": 0,
    "start_time": "2022-05-24T14:08:42.063Z"
   },
   {
    "duration": 0,
    "start_time": "2022-05-24T14:08:42.065Z"
   },
   {
    "duration": 0,
    "start_time": "2022-05-24T14:08:42.067Z"
   },
   {
    "duration": 0,
    "start_time": "2022-05-24T14:08:42.068Z"
   },
   {
    "duration": 0,
    "start_time": "2022-05-24T14:08:42.070Z"
   },
   {
    "duration": 0,
    "start_time": "2022-05-24T14:08:42.071Z"
   },
   {
    "duration": 0,
    "start_time": "2022-05-24T14:08:42.072Z"
   },
   {
    "duration": 0,
    "start_time": "2022-05-24T14:08:42.074Z"
   },
   {
    "duration": 0,
    "start_time": "2022-05-24T14:08:42.075Z"
   },
   {
    "duration": 0,
    "start_time": "2022-05-24T14:08:42.076Z"
   },
   {
    "duration": 0,
    "start_time": "2022-05-24T14:08:42.078Z"
   },
   {
    "duration": 0,
    "start_time": "2022-05-24T14:08:42.080Z"
   },
   {
    "duration": 0,
    "start_time": "2022-05-24T14:08:42.082Z"
   },
   {
    "duration": 0,
    "start_time": "2022-05-24T14:08:42.084Z"
   },
   {
    "duration": 0,
    "start_time": "2022-05-24T14:08:42.085Z"
   },
   {
    "duration": 0,
    "start_time": "2022-05-24T14:08:42.086Z"
   },
   {
    "duration": 0,
    "start_time": "2022-05-24T14:08:42.088Z"
   },
   {
    "duration": 0,
    "start_time": "2022-05-24T14:08:42.089Z"
   },
   {
    "duration": 0,
    "start_time": "2022-05-24T14:08:42.090Z"
   },
   {
    "duration": 0,
    "start_time": "2022-05-24T14:08:42.091Z"
   },
   {
    "duration": 0,
    "start_time": "2022-05-24T14:08:42.093Z"
   },
   {
    "duration": 0,
    "start_time": "2022-05-24T14:08:42.153Z"
   },
   {
    "duration": 0,
    "start_time": "2022-05-24T14:08:42.154Z"
   },
   {
    "duration": 0,
    "start_time": "2022-05-24T14:08:42.155Z"
   },
   {
    "duration": 0,
    "start_time": "2022-05-24T14:08:42.157Z"
   },
   {
    "duration": 0,
    "start_time": "2022-05-24T14:08:42.158Z"
   },
   {
    "duration": 0,
    "start_time": "2022-05-24T14:08:42.160Z"
   },
   {
    "duration": 0,
    "start_time": "2022-05-24T14:08:42.161Z"
   },
   {
    "duration": 3,
    "start_time": "2022-05-24T14:10:03.564Z"
   },
   {
    "duration": 1098,
    "start_time": "2022-05-24T14:10:03.568Z"
   },
   {
    "duration": 13,
    "start_time": "2022-05-24T14:10:04.668Z"
   },
   {
    "duration": 6,
    "start_time": "2022-05-24T14:10:04.683Z"
   },
   {
    "duration": 9,
    "start_time": "2022-05-24T14:10:04.691Z"
   },
   {
    "duration": 6,
    "start_time": "2022-05-24T14:10:04.702Z"
   },
   {
    "duration": 10,
    "start_time": "2022-05-24T14:10:04.709Z"
   },
   {
    "duration": 32,
    "start_time": "2022-05-24T14:10:04.721Z"
   },
   {
    "duration": 8,
    "start_time": "2022-05-24T14:10:04.754Z"
   },
   {
    "duration": 23,
    "start_time": "2022-05-24T14:10:04.763Z"
   },
   {
    "duration": 15,
    "start_time": "2022-05-24T14:10:04.789Z"
   },
   {
    "duration": 46,
    "start_time": "2022-05-24T14:10:04.806Z"
   },
   {
    "duration": 23,
    "start_time": "2022-05-24T14:10:04.854Z"
   },
   {
    "duration": 6,
    "start_time": "2022-05-24T14:10:04.879Z"
   },
   {
    "duration": 12,
    "start_time": "2022-05-24T14:10:04.886Z"
   },
   {
    "duration": 13,
    "start_time": "2022-05-24T14:10:04.899Z"
   },
   {
    "duration": 0,
    "start_time": "2022-05-24T14:10:04.914Z"
   },
   {
    "duration": 0,
    "start_time": "2022-05-24T14:10:04.915Z"
   },
   {
    "duration": 0,
    "start_time": "2022-05-24T14:10:04.916Z"
   },
   {
    "duration": 0,
    "start_time": "2022-05-24T14:10:04.917Z"
   },
   {
    "duration": 0,
    "start_time": "2022-05-24T14:10:04.919Z"
   },
   {
    "duration": 0,
    "start_time": "2022-05-24T14:10:04.920Z"
   },
   {
    "duration": 0,
    "start_time": "2022-05-24T14:10:04.921Z"
   },
   {
    "duration": 0,
    "start_time": "2022-05-24T14:10:04.951Z"
   },
   {
    "duration": 0,
    "start_time": "2022-05-24T14:10:04.952Z"
   },
   {
    "duration": 0,
    "start_time": "2022-05-24T14:10:04.953Z"
   },
   {
    "duration": 0,
    "start_time": "2022-05-24T14:10:04.954Z"
   },
   {
    "duration": 0,
    "start_time": "2022-05-24T14:10:04.955Z"
   },
   {
    "duration": 0,
    "start_time": "2022-05-24T14:10:04.956Z"
   },
   {
    "duration": 0,
    "start_time": "2022-05-24T14:10:04.957Z"
   },
   {
    "duration": 0,
    "start_time": "2022-05-24T14:10:04.958Z"
   },
   {
    "duration": 0,
    "start_time": "2022-05-24T14:10:04.959Z"
   },
   {
    "duration": 0,
    "start_time": "2022-05-24T14:10:04.960Z"
   },
   {
    "duration": 0,
    "start_time": "2022-05-24T14:10:04.961Z"
   },
   {
    "duration": 0,
    "start_time": "2022-05-24T14:10:04.962Z"
   },
   {
    "duration": 0,
    "start_time": "2022-05-24T14:10:04.963Z"
   },
   {
    "duration": 0,
    "start_time": "2022-05-24T14:10:04.964Z"
   },
   {
    "duration": 0,
    "start_time": "2022-05-24T14:10:04.965Z"
   },
   {
    "duration": 0,
    "start_time": "2022-05-24T14:10:04.966Z"
   },
   {
    "duration": 0,
    "start_time": "2022-05-24T14:10:04.966Z"
   },
   {
    "duration": 0,
    "start_time": "2022-05-24T14:10:04.969Z"
   },
   {
    "duration": 0,
    "start_time": "2022-05-24T14:10:04.970Z"
   },
   {
    "duration": 0,
    "start_time": "2022-05-24T14:10:04.971Z"
   },
   {
    "duration": 0,
    "start_time": "2022-05-24T14:10:04.972Z"
   },
   {
    "duration": 0,
    "start_time": "2022-05-24T14:10:04.973Z"
   },
   {
    "duration": 16,
    "start_time": "2022-05-24T14:11:57.312Z"
   },
   {
    "duration": 15,
    "start_time": "2022-05-24T14:12:44.969Z"
   },
   {
    "duration": 4,
    "start_time": "2022-05-24T14:12:53.445Z"
   },
   {
    "duration": 7,
    "start_time": "2022-05-24T14:12:55.967Z"
   },
   {
    "duration": 16,
    "start_time": "2022-05-24T14:13:11.331Z"
   },
   {
    "duration": 23,
    "start_time": "2022-05-24T14:13:47.735Z"
   },
   {
    "duration": 8,
    "start_time": "2022-05-24T14:13:54.085Z"
   },
   {
    "duration": 4,
    "start_time": "2022-05-24T14:16:01.653Z"
   },
   {
    "duration": 9,
    "start_time": "2022-05-24T14:16:23.344Z"
   },
   {
    "duration": 7,
    "start_time": "2022-05-24T14:16:50.522Z"
   },
   {
    "duration": 15,
    "start_time": "2022-05-24T14:16:57.104Z"
   },
   {
    "duration": 3,
    "start_time": "2022-05-24T14:18:50.061Z"
   },
   {
    "duration": 412,
    "start_time": "2022-05-24T14:18:50.066Z"
   },
   {
    "duration": 9,
    "start_time": "2022-05-24T14:18:50.480Z"
   },
   {
    "duration": 7,
    "start_time": "2022-05-24T14:18:50.491Z"
   },
   {
    "duration": 16,
    "start_time": "2022-05-24T14:18:50.499Z"
   },
   {
    "duration": 9,
    "start_time": "2022-05-24T14:18:50.516Z"
   },
   {
    "duration": 14,
    "start_time": "2022-05-24T14:18:50.527Z"
   },
   {
    "duration": 34,
    "start_time": "2022-05-24T14:18:50.542Z"
   },
   {
    "duration": 7,
    "start_time": "2022-05-24T14:18:50.580Z"
   },
   {
    "duration": 23,
    "start_time": "2022-05-24T14:18:50.589Z"
   },
   {
    "duration": 15,
    "start_time": "2022-05-24T14:18:50.614Z"
   },
   {
    "duration": 35,
    "start_time": "2022-05-24T14:18:50.630Z"
   },
   {
    "duration": 3,
    "start_time": "2022-05-24T14:18:50.667Z"
   },
   {
    "duration": 10,
    "start_time": "2022-05-24T14:18:50.671Z"
   },
   {
    "duration": 17,
    "start_time": "2022-05-24T14:18:50.682Z"
   },
   {
    "duration": 24,
    "start_time": "2022-05-24T14:18:50.700Z"
   },
   {
    "duration": 10,
    "start_time": "2022-05-24T14:18:50.726Z"
   },
   {
    "duration": 23,
    "start_time": "2022-05-24T14:18:50.753Z"
   },
   {
    "duration": 18,
    "start_time": "2022-05-24T14:18:50.778Z"
   },
   {
    "duration": 26,
    "start_time": "2022-05-24T14:18:50.798Z"
   },
   {
    "duration": 17,
    "start_time": "2022-05-24T14:18:50.851Z"
   },
   {
    "duration": 10,
    "start_time": "2022-05-24T14:18:50.870Z"
   },
   {
    "duration": 12,
    "start_time": "2022-05-24T14:18:50.882Z"
   },
   {
    "duration": 27,
    "start_time": "2022-05-24T14:18:50.897Z"
   },
   {
    "duration": 38,
    "start_time": "2022-05-24T14:18:50.926Z"
   },
   {
    "duration": 8,
    "start_time": "2022-05-24T14:18:50.966Z"
   },
   {
    "duration": 61,
    "start_time": "2022-05-24T14:18:50.976Z"
   },
   {
    "duration": 8,
    "start_time": "2022-05-24T14:18:51.052Z"
   },
   {
    "duration": 32,
    "start_time": "2022-05-24T14:18:51.061Z"
   },
   {
    "duration": 23,
    "start_time": "2022-05-24T14:18:51.095Z"
   },
   {
    "duration": 9,
    "start_time": "2022-05-24T14:18:51.120Z"
   },
   {
    "duration": 78,
    "start_time": "2022-05-24T14:18:51.130Z"
   },
   {
    "duration": 4,
    "start_time": "2022-05-24T14:18:51.210Z"
   },
   {
    "duration": 13,
    "start_time": "2022-05-24T14:18:51.215Z"
   },
   {
    "duration": 28,
    "start_time": "2022-05-24T14:18:51.230Z"
   },
   {
    "duration": 8,
    "start_time": "2022-05-24T14:18:51.260Z"
   },
   {
    "duration": 23,
    "start_time": "2022-05-24T14:18:51.269Z"
   },
   {
    "duration": 7,
    "start_time": "2022-05-24T14:18:51.294Z"
   },
   {
    "duration": 7,
    "start_time": "2022-05-24T14:18:51.303Z"
   },
   {
    "duration": 14,
    "start_time": "2022-05-24T14:18:51.311Z"
   },
   {
    "duration": 9,
    "start_time": "2022-05-24T14:21:24.115Z"
   },
   {
    "duration": 19,
    "start_time": "2022-05-24T14:21:26.698Z"
   },
   {
    "duration": 11,
    "start_time": "2022-05-24T14:21:30.776Z"
   },
   {
    "duration": 34,
    "start_time": "2022-05-24T14:22:36.162Z"
   },
   {
    "duration": 3,
    "start_time": "2022-05-24T14:22:40.930Z"
   },
   {
    "duration": 408,
    "start_time": "2022-05-24T14:22:40.935Z"
   },
   {
    "duration": 11,
    "start_time": "2022-05-24T14:22:41.344Z"
   },
   {
    "duration": 5,
    "start_time": "2022-05-24T14:22:41.358Z"
   },
   {
    "duration": 12,
    "start_time": "2022-05-24T14:22:41.365Z"
   },
   {
    "duration": 10,
    "start_time": "2022-05-24T14:22:41.379Z"
   },
   {
    "duration": 20,
    "start_time": "2022-05-24T14:22:41.391Z"
   },
   {
    "duration": 27,
    "start_time": "2022-05-24T14:22:41.412Z"
   },
   {
    "duration": 10,
    "start_time": "2022-05-24T14:22:41.441Z"
   },
   {
    "duration": 24,
    "start_time": "2022-05-24T14:22:41.452Z"
   },
   {
    "duration": 16,
    "start_time": "2022-05-24T14:22:41.477Z"
   },
   {
    "duration": 18,
    "start_time": "2022-05-24T14:22:41.494Z"
   },
   {
    "duration": 3,
    "start_time": "2022-05-24T14:22:41.513Z"
   },
   {
    "duration": 42,
    "start_time": "2022-05-24T14:22:41.518Z"
   },
   {
    "duration": 8,
    "start_time": "2022-05-24T14:22:41.562Z"
   },
   {
    "duration": 27,
    "start_time": "2022-05-24T14:22:41.572Z"
   },
   {
    "duration": 19,
    "start_time": "2022-05-24T14:22:41.600Z"
   },
   {
    "duration": 38,
    "start_time": "2022-05-24T14:22:41.620Z"
   },
   {
    "duration": 10,
    "start_time": "2022-05-24T14:22:41.660Z"
   },
   {
    "duration": 13,
    "start_time": "2022-05-24T14:22:41.672Z"
   },
   {
    "duration": 10,
    "start_time": "2022-05-24T14:22:41.686Z"
   },
   {
    "duration": 12,
    "start_time": "2022-05-24T14:22:41.697Z"
   },
   {
    "duration": 30,
    "start_time": "2022-05-24T14:22:41.711Z"
   },
   {
    "duration": 11,
    "start_time": "2022-05-24T14:22:41.751Z"
   },
   {
    "duration": 49,
    "start_time": "2022-05-24T14:22:41.764Z"
   },
   {
    "duration": 8,
    "start_time": "2022-05-24T14:22:41.814Z"
   },
   {
    "duration": 51,
    "start_time": "2022-05-24T14:22:41.824Z"
   },
   {
    "duration": 23,
    "start_time": "2022-05-24T14:22:41.876Z"
   },
   {
    "duration": 9,
    "start_time": "2022-05-24T14:22:41.901Z"
   },
   {
    "duration": 79,
    "start_time": "2022-05-24T14:22:41.911Z"
   },
   {
    "duration": 4,
    "start_time": "2022-05-24T14:22:41.992Z"
   },
   {
    "duration": 17,
    "start_time": "2022-05-24T14:22:41.997Z"
   },
   {
    "duration": 15,
    "start_time": "2022-05-24T14:22:42.016Z"
   },
   {
    "duration": 23,
    "start_time": "2022-05-24T14:22:42.032Z"
   },
   {
    "duration": 25,
    "start_time": "2022-05-24T14:22:42.057Z"
   },
   {
    "duration": 8,
    "start_time": "2022-05-24T14:22:42.084Z"
   },
   {
    "duration": 7,
    "start_time": "2022-05-24T14:22:42.093Z"
   },
   {
    "duration": 7,
    "start_time": "2022-05-24T14:22:42.102Z"
   },
   {
    "duration": 11,
    "start_time": "2022-05-24T14:24:01.080Z"
   },
   {
    "duration": 18,
    "start_time": "2022-05-24T14:26:29.964Z"
   },
   {
    "duration": 5,
    "start_time": "2022-05-24T14:26:39.832Z"
   },
   {
    "duration": 13,
    "start_time": "2022-05-24T14:26:50.337Z"
   },
   {
    "duration": 12,
    "start_time": "2022-05-24T14:26:52.660Z"
   },
   {
    "duration": 12,
    "start_time": "2022-05-24T14:28:14.183Z"
   },
   {
    "duration": 28,
    "start_time": "2022-05-24T14:28:22.523Z"
   },
   {
    "duration": 15,
    "start_time": "2022-05-24T14:28:24.748Z"
   },
   {
    "duration": 20,
    "start_time": "2022-05-24T14:32:20.004Z"
   },
   {
    "duration": 12,
    "start_time": "2022-05-24T14:32:22.205Z"
   },
   {
    "duration": 11,
    "start_time": "2022-05-24T14:33:00.585Z"
   },
   {
    "duration": 9,
    "start_time": "2022-05-24T14:33:11.591Z"
   },
   {
    "duration": 4,
    "start_time": "2022-05-24T14:33:14.873Z"
   },
   {
    "duration": 11,
    "start_time": "2022-05-24T14:33:22.904Z"
   },
   {
    "duration": 3,
    "start_time": "2022-05-24T14:33:26.965Z"
   },
   {
    "duration": 420,
    "start_time": "2022-05-24T14:33:26.970Z"
   },
   {
    "duration": 10,
    "start_time": "2022-05-24T14:33:27.391Z"
   },
   {
    "duration": 8,
    "start_time": "2022-05-24T14:33:27.403Z"
   },
   {
    "duration": 14,
    "start_time": "2022-05-24T14:33:27.413Z"
   },
   {
    "duration": 12,
    "start_time": "2022-05-24T14:33:27.429Z"
   },
   {
    "duration": 10,
    "start_time": "2022-05-24T14:33:27.443Z"
   },
   {
    "duration": 22,
    "start_time": "2022-05-24T14:33:27.454Z"
   },
   {
    "duration": 7,
    "start_time": "2022-05-24T14:33:27.478Z"
   },
   {
    "duration": 26,
    "start_time": "2022-05-24T14:33:27.486Z"
   },
   {
    "duration": 15,
    "start_time": "2022-05-24T14:33:27.514Z"
   },
   {
    "duration": 28,
    "start_time": "2022-05-24T14:33:27.531Z"
   },
   {
    "duration": 3,
    "start_time": "2022-05-24T14:33:27.560Z"
   },
   {
    "duration": 22,
    "start_time": "2022-05-24T14:33:27.564Z"
   },
   {
    "duration": 8,
    "start_time": "2022-05-24T14:33:27.588Z"
   },
   {
    "duration": 35,
    "start_time": "2022-05-24T14:33:27.597Z"
   },
   {
    "duration": 30,
    "start_time": "2022-05-24T14:33:27.634Z"
   },
   {
    "duration": 18,
    "start_time": "2022-05-24T14:33:27.666Z"
   },
   {
    "duration": 10,
    "start_time": "2022-05-24T14:33:27.686Z"
   },
   {
    "duration": 13,
    "start_time": "2022-05-24T14:33:27.697Z"
   },
   {
    "duration": 2,
    "start_time": "2022-05-24T14:33:27.712Z"
   },
   {
    "duration": 38,
    "start_time": "2022-05-24T14:33:27.716Z"
   },
   {
    "duration": 21,
    "start_time": "2022-05-24T14:33:27.756Z"
   },
   {
    "duration": 8,
    "start_time": "2022-05-24T14:33:27.780Z"
   },
   {
    "duration": 68,
    "start_time": "2022-05-24T14:33:27.790Z"
   },
   {
    "duration": 7,
    "start_time": "2022-05-24T14:33:27.859Z"
   },
   {
    "duration": 30,
    "start_time": "2022-05-24T14:33:27.868Z"
   },
   {
    "duration": 22,
    "start_time": "2022-05-24T14:33:27.899Z"
   },
   {
    "duration": 37,
    "start_time": "2022-05-24T14:33:27.922Z"
   },
   {
    "duration": 12,
    "start_time": "2022-05-24T14:33:27.960Z"
   },
   {
    "duration": 9,
    "start_time": "2022-05-24T14:33:27.973Z"
   },
   {
    "duration": 14,
    "start_time": "2022-05-24T14:33:27.984Z"
   },
   {
    "duration": 32,
    "start_time": "2022-05-24T14:33:28.000Z"
   },
   {
    "duration": 8,
    "start_time": "2022-05-24T14:33:28.034Z"
   },
   {
    "duration": 27,
    "start_time": "2022-05-24T14:33:28.044Z"
   },
   {
    "duration": 8,
    "start_time": "2022-05-24T14:33:28.073Z"
   },
   {
    "duration": 11,
    "start_time": "2022-05-24T14:33:28.082Z"
   },
   {
    "duration": 9,
    "start_time": "2022-05-24T14:33:28.095Z"
   },
   {
    "duration": 23,
    "start_time": "2022-05-24T14:35:05.987Z"
   },
   {
    "duration": 11,
    "start_time": "2022-05-24T14:35:07.696Z"
   },
   {
    "duration": 4,
    "start_time": "2022-05-24T14:35:22.384Z"
   },
   {
    "duration": 10,
    "start_time": "2022-05-24T14:37:23.894Z"
   },
   {
    "duration": 13,
    "start_time": "2022-05-24T14:49:21.630Z"
   },
   {
    "duration": 4,
    "start_time": "2022-05-24T14:49:33.373Z"
   },
   {
    "duration": 472,
    "start_time": "2022-05-24T14:49:33.379Z"
   },
   {
    "duration": 14,
    "start_time": "2022-05-24T14:49:33.853Z"
   },
   {
    "duration": 21,
    "start_time": "2022-05-24T14:49:33.869Z"
   },
   {
    "duration": 16,
    "start_time": "2022-05-24T14:49:33.892Z"
   },
   {
    "duration": 19,
    "start_time": "2022-05-24T14:49:33.910Z"
   },
   {
    "duration": 14,
    "start_time": "2022-05-24T14:49:33.931Z"
   },
   {
    "duration": 0,
    "start_time": "2022-05-24T14:49:33.947Z"
   },
   {
    "duration": 0,
    "start_time": "2022-05-24T14:49:33.948Z"
   },
   {
    "duration": 0,
    "start_time": "2022-05-24T14:49:33.949Z"
   },
   {
    "duration": 0,
    "start_time": "2022-05-24T14:49:33.951Z"
   },
   {
    "duration": 0,
    "start_time": "2022-05-24T14:49:33.953Z"
   },
   {
    "duration": 0,
    "start_time": "2022-05-24T14:49:33.955Z"
   },
   {
    "duration": 0,
    "start_time": "2022-05-24T14:49:33.957Z"
   },
   {
    "duration": 0,
    "start_time": "2022-05-24T14:49:33.958Z"
   },
   {
    "duration": 0,
    "start_time": "2022-05-24T14:49:33.960Z"
   },
   {
    "duration": 0,
    "start_time": "2022-05-24T14:49:33.962Z"
   },
   {
    "duration": 0,
    "start_time": "2022-05-24T14:49:33.963Z"
   },
   {
    "duration": 1,
    "start_time": "2022-05-24T14:49:33.965Z"
   },
   {
    "duration": 0,
    "start_time": "2022-05-24T14:49:33.969Z"
   },
   {
    "duration": 0,
    "start_time": "2022-05-24T14:49:33.970Z"
   },
   {
    "duration": 0,
    "start_time": "2022-05-24T14:49:33.971Z"
   },
   {
    "duration": 0,
    "start_time": "2022-05-24T14:49:33.972Z"
   },
   {
    "duration": 0,
    "start_time": "2022-05-24T14:49:33.974Z"
   },
   {
    "duration": 0,
    "start_time": "2022-05-24T14:49:33.975Z"
   },
   {
    "duration": 0,
    "start_time": "2022-05-24T14:49:33.977Z"
   },
   {
    "duration": 0,
    "start_time": "2022-05-24T14:49:33.978Z"
   },
   {
    "duration": 0,
    "start_time": "2022-05-24T14:49:33.979Z"
   },
   {
    "duration": 0,
    "start_time": "2022-05-24T14:49:33.980Z"
   },
   {
    "duration": 0,
    "start_time": "2022-05-24T14:49:33.982Z"
   },
   {
    "duration": 1,
    "start_time": "2022-05-24T14:49:33.982Z"
   },
   {
    "duration": 0,
    "start_time": "2022-05-24T14:49:33.983Z"
   },
   {
    "duration": 0,
    "start_time": "2022-05-24T14:49:33.985Z"
   },
   {
    "duration": 2,
    "start_time": "2022-05-24T14:49:44.768Z"
   },
   {
    "duration": 3,
    "start_time": "2022-05-24T14:49:46.719Z"
   },
   {
    "duration": 10,
    "start_time": "2022-05-24T14:49:57.412Z"
   },
   {
    "duration": 11,
    "start_time": "2022-05-24T14:52:42.073Z"
   },
   {
    "duration": 10,
    "start_time": "2022-05-24T14:52:50.707Z"
   },
   {
    "duration": 3,
    "start_time": "2022-05-24T14:53:24.476Z"
   },
   {
    "duration": 432,
    "start_time": "2022-05-24T14:53:24.482Z"
   },
   {
    "duration": 10,
    "start_time": "2022-05-24T14:53:24.916Z"
   },
   {
    "duration": 8,
    "start_time": "2022-05-24T14:53:24.929Z"
   },
   {
    "duration": 10,
    "start_time": "2022-05-24T14:53:24.938Z"
   },
   {
    "duration": 6,
    "start_time": "2022-05-24T14:53:24.950Z"
   },
   {
    "duration": 16,
    "start_time": "2022-05-24T14:53:24.958Z"
   },
   {
    "duration": 23,
    "start_time": "2022-05-24T14:53:24.976Z"
   },
   {
    "duration": 10,
    "start_time": "2022-05-24T14:53:25.002Z"
   },
   {
    "duration": 41,
    "start_time": "2022-05-24T14:53:25.014Z"
   },
   {
    "duration": 16,
    "start_time": "2022-05-24T14:53:25.057Z"
   },
   {
    "duration": 20,
    "start_time": "2022-05-24T14:53:25.075Z"
   },
   {
    "duration": 2,
    "start_time": "2022-05-24T14:53:25.097Z"
   },
   {
    "duration": 24,
    "start_time": "2022-05-24T14:53:25.101Z"
   },
   {
    "duration": 17,
    "start_time": "2022-05-24T14:53:25.155Z"
   },
   {
    "duration": 34,
    "start_time": "2022-05-24T14:53:25.175Z"
   },
   {
    "duration": 22,
    "start_time": "2022-05-24T14:53:25.212Z"
   },
   {
    "duration": 28,
    "start_time": "2022-05-24T14:53:25.236Z"
   },
   {
    "duration": 13,
    "start_time": "2022-05-24T14:53:25.266Z"
   },
   {
    "duration": 25,
    "start_time": "2022-05-24T14:53:25.281Z"
   },
   {
    "duration": 26,
    "start_time": "2022-05-24T14:53:25.308Z"
   },
   {
    "duration": 43,
    "start_time": "2022-05-24T14:53:25.338Z"
   },
   {
    "duration": 13,
    "start_time": "2022-05-24T14:53:25.383Z"
   },
   {
    "duration": 96,
    "start_time": "2022-05-24T14:53:25.400Z"
   },
   {
    "duration": 10,
    "start_time": "2022-05-24T14:53:25.499Z"
   },
   {
    "duration": 47,
    "start_time": "2022-05-24T14:53:25.511Z"
   },
   {
    "duration": 24,
    "start_time": "2022-05-24T14:53:25.559Z"
   },
   {
    "duration": 21,
    "start_time": "2022-05-24T14:53:25.584Z"
   },
   {
    "duration": 11,
    "start_time": "2022-05-24T14:53:25.607Z"
   },
   {
    "duration": 7,
    "start_time": "2022-05-24T14:53:25.620Z"
   },
   {
    "duration": 35,
    "start_time": "2022-05-24T14:53:25.629Z"
   },
   {
    "duration": 5,
    "start_time": "2022-05-24T14:53:25.666Z"
   },
   {
    "duration": 10,
    "start_time": "2022-05-24T14:53:25.673Z"
   },
   {
    "duration": 9,
    "start_time": "2022-05-24T14:55:30.169Z"
   },
   {
    "duration": 28,
    "start_time": "2022-05-24T14:55:35.232Z"
   },
   {
    "duration": 6,
    "start_time": "2022-05-24T15:02:56.664Z"
   },
   {
    "duration": 6,
    "start_time": "2022-05-24T15:03:02.298Z"
   },
   {
    "duration": 8,
    "start_time": "2022-05-24T15:03:24.589Z"
   },
   {
    "duration": 18,
    "start_time": "2022-05-24T15:03:26.361Z"
   },
   {
    "duration": 5,
    "start_time": "2022-05-24T15:08:55.164Z"
   },
   {
    "duration": 9,
    "start_time": "2022-05-24T15:09:02.194Z"
   },
   {
    "duration": 4,
    "start_time": "2022-05-24T15:09:43.199Z"
   },
   {
    "duration": 13,
    "start_time": "2022-05-24T15:09:44.784Z"
   },
   {
    "duration": 11,
    "start_time": "2022-05-24T15:11:03.058Z"
   },
   {
    "duration": 4,
    "start_time": "2022-05-24T15:11:36.066Z"
   },
   {
    "duration": 10,
    "start_time": "2022-05-24T15:11:47.160Z"
   },
   {
    "duration": 4,
    "start_time": "2022-05-24T15:12:06.852Z"
   },
   {
    "duration": 5,
    "start_time": "2022-05-24T15:12:08.961Z"
   },
   {
    "duration": 5,
    "start_time": "2022-05-24T15:12:26.673Z"
   },
   {
    "duration": 6,
    "start_time": "2022-05-24T15:12:28.162Z"
   },
   {
    "duration": 3,
    "start_time": "2022-05-24T15:12:31.215Z"
   },
   {
    "duration": 445,
    "start_time": "2022-05-24T15:12:31.221Z"
   },
   {
    "duration": 11,
    "start_time": "2022-05-24T15:12:31.668Z"
   },
   {
    "duration": 23,
    "start_time": "2022-05-24T15:12:31.681Z"
   },
   {
    "duration": 27,
    "start_time": "2022-05-24T15:12:31.706Z"
   },
   {
    "duration": 23,
    "start_time": "2022-05-24T15:12:31.734Z"
   },
   {
    "duration": 19,
    "start_time": "2022-05-24T15:12:31.759Z"
   },
   {
    "duration": 46,
    "start_time": "2022-05-24T15:12:31.780Z"
   },
   {
    "duration": 23,
    "start_time": "2022-05-24T15:12:31.828Z"
   },
   {
    "duration": 31,
    "start_time": "2022-05-24T15:12:31.853Z"
   },
   {
    "duration": 16,
    "start_time": "2022-05-24T15:12:31.887Z"
   },
   {
    "duration": 24,
    "start_time": "2022-05-24T15:12:31.905Z"
   },
   {
    "duration": 2,
    "start_time": "2022-05-24T15:12:31.931Z"
   },
   {
    "duration": 36,
    "start_time": "2022-05-24T15:12:31.935Z"
   },
   {
    "duration": 19,
    "start_time": "2022-05-24T15:12:31.973Z"
   },
   {
    "duration": 34,
    "start_time": "2022-05-24T15:12:31.994Z"
   },
   {
    "duration": 24,
    "start_time": "2022-05-24T15:12:32.030Z"
   },
   {
    "duration": 17,
    "start_time": "2022-05-24T15:12:32.056Z"
   },
   {
    "duration": 12,
    "start_time": "2022-05-24T15:12:32.075Z"
   },
   {
    "duration": 16,
    "start_time": "2022-05-24T15:12:32.088Z"
   },
   {
    "duration": 17,
    "start_time": "2022-05-24T15:12:32.106Z"
   },
   {
    "duration": 12,
    "start_time": "2022-05-24T15:12:32.125Z"
   },
   {
    "duration": 43,
    "start_time": "2022-05-24T15:12:32.152Z"
   },
   {
    "duration": 10,
    "start_time": "2022-05-24T15:12:32.197Z"
   },
   {
    "duration": 60,
    "start_time": "2022-05-24T15:12:32.208Z"
   },
   {
    "duration": 8,
    "start_time": "2022-05-24T15:12:32.270Z"
   },
   {
    "duration": 61,
    "start_time": "2022-05-24T15:12:32.279Z"
   },
   {
    "duration": 23,
    "start_time": "2022-05-24T15:12:32.342Z"
   },
   {
    "duration": 20,
    "start_time": "2022-05-24T15:12:32.369Z"
   },
   {
    "duration": 11,
    "start_time": "2022-05-24T15:12:32.391Z"
   },
   {
    "duration": 9,
    "start_time": "2022-05-24T15:12:32.404Z"
   },
   {
    "duration": 16,
    "start_time": "2022-05-24T15:12:32.415Z"
   },
   {
    "duration": 21,
    "start_time": "2022-05-24T15:12:32.434Z"
   },
   {
    "duration": 27,
    "start_time": "2022-05-24T15:12:32.457Z"
   },
   {
    "duration": 11,
    "start_time": "2022-05-24T15:12:32.486Z"
   },
   {
    "duration": 9,
    "start_time": "2022-05-24T15:12:32.499Z"
   },
   {
    "duration": 12,
    "start_time": "2022-05-24T15:12:32.510Z"
   },
   {
    "duration": 11,
    "start_time": "2022-05-24T15:12:32.524Z"
   },
   {
    "duration": 22,
    "start_time": "2022-05-24T15:12:32.537Z"
   },
   {
    "duration": 23,
    "start_time": "2022-05-24T15:12:32.561Z"
   },
   {
    "duration": 10,
    "start_time": "2022-05-24T15:13:00.492Z"
   },
   {
    "duration": 4,
    "start_time": "2022-05-24T15:14:26.369Z"
   },
   {
    "duration": 10,
    "start_time": "2022-05-24T15:14:34.009Z"
   },
   {
    "duration": 11,
    "start_time": "2022-05-24T15:17:00.347Z"
   },
   {
    "duration": 3,
    "start_time": "2022-05-24T15:17:06.608Z"
   },
   {
    "duration": 404,
    "start_time": "2022-05-24T15:17:06.612Z"
   },
   {
    "duration": 11,
    "start_time": "2022-05-24T15:17:07.018Z"
   },
   {
    "duration": 7,
    "start_time": "2022-05-24T15:17:07.030Z"
   },
   {
    "duration": 12,
    "start_time": "2022-05-24T15:17:07.039Z"
   },
   {
    "duration": 7,
    "start_time": "2022-05-24T15:17:07.052Z"
   },
   {
    "duration": 17,
    "start_time": "2022-05-24T15:17:07.061Z"
   },
   {
    "duration": 22,
    "start_time": "2022-05-24T15:17:07.080Z"
   },
   {
    "duration": 7,
    "start_time": "2022-05-24T15:17:07.104Z"
   },
   {
    "duration": 25,
    "start_time": "2022-05-24T15:17:07.113Z"
   },
   {
    "duration": 18,
    "start_time": "2022-05-24T15:17:07.140Z"
   },
   {
    "duration": 18,
    "start_time": "2022-05-24T15:17:07.160Z"
   },
   {
    "duration": 3,
    "start_time": "2022-05-24T15:17:07.180Z"
   },
   {
    "duration": 29,
    "start_time": "2022-05-24T15:17:07.187Z"
   },
   {
    "duration": 9,
    "start_time": "2022-05-24T15:17:07.217Z"
   },
   {
    "duration": 40,
    "start_time": "2022-05-24T15:17:07.228Z"
   },
   {
    "duration": 18,
    "start_time": "2022-05-24T15:17:07.270Z"
   },
   {
    "duration": 16,
    "start_time": "2022-05-24T15:17:07.289Z"
   },
   {
    "duration": 9,
    "start_time": "2022-05-24T15:17:07.307Z"
   },
   {
    "duration": 17,
    "start_time": "2022-05-24T15:17:07.318Z"
   },
   {
    "duration": 25,
    "start_time": "2022-05-24T15:17:07.336Z"
   },
   {
    "duration": 25,
    "start_time": "2022-05-24T15:17:07.363Z"
   },
   {
    "duration": 10,
    "start_time": "2022-05-24T15:17:07.390Z"
   },
   {
    "duration": 59,
    "start_time": "2022-05-24T15:17:07.403Z"
   },
   {
    "duration": 7,
    "start_time": "2022-05-24T15:17:07.463Z"
   },
   {
    "duration": 35,
    "start_time": "2022-05-24T15:17:07.472Z"
   },
   {
    "duration": 22,
    "start_time": "2022-05-24T15:17:07.509Z"
   },
   {
    "duration": 31,
    "start_time": "2022-05-24T15:17:07.532Z"
   },
   {
    "duration": 10,
    "start_time": "2022-05-24T15:17:07.564Z"
   },
   {
    "duration": 9,
    "start_time": "2022-05-24T15:17:07.576Z"
   },
   {
    "duration": 19,
    "start_time": "2022-05-24T15:17:07.586Z"
   },
   {
    "duration": 10,
    "start_time": "2022-05-24T15:17:07.606Z"
   },
   {
    "duration": 21,
    "start_time": "2022-05-24T15:17:07.618Z"
   },
   {
    "duration": 15,
    "start_time": "2022-05-24T15:17:07.641Z"
   },
   {
    "duration": 9,
    "start_time": "2022-05-24T15:17:07.658Z"
   },
   {
    "duration": 16,
    "start_time": "2022-05-24T15:17:07.668Z"
   },
   {
    "duration": 14,
    "start_time": "2022-05-24T15:17:07.686Z"
   },
   {
    "duration": 16,
    "start_time": "2022-05-24T15:17:07.701Z"
   },
   {
    "duration": 20,
    "start_time": "2022-05-24T15:17:07.719Z"
   },
   {
    "duration": 29,
    "start_time": "2022-05-24T15:18:11.076Z"
   },
   {
    "duration": 9,
    "start_time": "2022-05-24T15:18:16.564Z"
   },
   {
    "duration": 14,
    "start_time": "2022-05-24T15:18:18.021Z"
   },
   {
    "duration": 16,
    "start_time": "2022-05-24T15:19:43.627Z"
   },
   {
    "duration": 13,
    "start_time": "2022-05-24T15:20:42.000Z"
   },
   {
    "duration": 9,
    "start_time": "2022-05-24T15:21:09.878Z"
   },
   {
    "duration": 8,
    "start_time": "2022-05-24T15:21:11.859Z"
   },
   {
    "duration": 14,
    "start_time": "2022-05-24T15:21:13.329Z"
   },
   {
    "duration": 4,
    "start_time": "2022-05-24T15:22:01.292Z"
   },
   {
    "duration": 7,
    "start_time": "2022-05-24T15:22:05.598Z"
   },
   {
    "duration": 14,
    "start_time": "2022-05-24T15:22:07.127Z"
   },
   {
    "duration": 3,
    "start_time": "2022-05-24T15:22:12.807Z"
   },
   {
    "duration": 430,
    "start_time": "2022-05-24T15:22:12.812Z"
   },
   {
    "duration": 12,
    "start_time": "2022-05-24T15:22:13.244Z"
   },
   {
    "duration": 23,
    "start_time": "2022-05-24T15:22:13.258Z"
   },
   {
    "duration": 9,
    "start_time": "2022-05-24T15:22:13.283Z"
   },
   {
    "duration": 4,
    "start_time": "2022-05-24T15:22:13.295Z"
   },
   {
    "duration": 17,
    "start_time": "2022-05-24T15:22:13.301Z"
   },
   {
    "duration": 21,
    "start_time": "2022-05-24T15:22:13.320Z"
   },
   {
    "duration": 14,
    "start_time": "2022-05-24T15:22:13.344Z"
   },
   {
    "duration": 36,
    "start_time": "2022-05-24T15:22:13.361Z"
   },
   {
    "duration": 17,
    "start_time": "2022-05-24T15:22:13.399Z"
   },
   {
    "duration": 20,
    "start_time": "2022-05-24T15:22:13.417Z"
   },
   {
    "duration": 3,
    "start_time": "2022-05-24T15:22:13.438Z"
   },
   {
    "duration": 39,
    "start_time": "2022-05-24T15:22:13.443Z"
   },
   {
    "duration": 9,
    "start_time": "2022-05-24T15:22:13.483Z"
   },
   {
    "duration": 25,
    "start_time": "2022-05-24T15:22:13.493Z"
   },
   {
    "duration": 17,
    "start_time": "2022-05-24T15:22:13.520Z"
   },
   {
    "duration": 31,
    "start_time": "2022-05-24T15:22:13.539Z"
   },
   {
    "duration": 13,
    "start_time": "2022-05-24T15:22:13.571Z"
   },
   {
    "duration": 15,
    "start_time": "2022-05-24T15:22:13.585Z"
   },
   {
    "duration": 8,
    "start_time": "2022-05-24T15:22:13.602Z"
   },
   {
    "duration": 27,
    "start_time": "2022-05-24T15:22:13.611Z"
   },
   {
    "duration": 20,
    "start_time": "2022-05-24T15:22:13.640Z"
   },
   {
    "duration": 65,
    "start_time": "2022-05-24T15:22:13.664Z"
   },
   {
    "duration": 8,
    "start_time": "2022-05-24T15:22:13.731Z"
   },
   {
    "duration": 41,
    "start_time": "2022-05-24T15:22:13.741Z"
   },
   {
    "duration": 22,
    "start_time": "2022-05-24T15:22:13.784Z"
   },
   {
    "duration": 20,
    "start_time": "2022-05-24T15:22:13.808Z"
   },
   {
    "duration": 26,
    "start_time": "2022-05-24T15:22:13.830Z"
   },
   {
    "duration": 7,
    "start_time": "2022-05-24T15:22:13.858Z"
   },
   {
    "duration": 18,
    "start_time": "2022-05-24T15:22:13.867Z"
   },
   {
    "duration": 6,
    "start_time": "2022-05-24T15:22:13.886Z"
   },
   {
    "duration": 14,
    "start_time": "2022-05-24T15:22:13.893Z"
   },
   {
    "duration": 4,
    "start_time": "2022-05-24T15:22:13.909Z"
   },
   {
    "duration": 8,
    "start_time": "2022-05-24T15:22:13.915Z"
   },
   {
    "duration": 14,
    "start_time": "2022-05-24T15:22:13.924Z"
   },
   {
    "duration": 17,
    "start_time": "2022-05-24T15:22:13.940Z"
   },
   {
    "duration": 18,
    "start_time": "2022-05-24T15:22:13.959Z"
   },
   {
    "duration": 13,
    "start_time": "2022-05-24T15:22:13.978Z"
   },
   {
    "duration": 19,
    "start_time": "2022-05-24T15:22:13.992Z"
   },
   {
    "duration": 8,
    "start_time": "2022-05-24T15:23:01.025Z"
   },
   {
    "duration": 21,
    "start_time": "2022-05-24T15:23:02.504Z"
   },
   {
    "duration": 4,
    "start_time": "2022-05-24T15:24:56.633Z"
   },
   {
    "duration": 13,
    "start_time": "2022-05-24T15:25:28.531Z"
   },
   {
    "duration": 3,
    "start_time": "2022-05-24T15:25:37.521Z"
   },
   {
    "duration": 521,
    "start_time": "2022-05-24T15:25:37.526Z"
   },
   {
    "duration": 21,
    "start_time": "2022-05-24T15:25:38.049Z"
   },
   {
    "duration": 7,
    "start_time": "2022-05-24T15:25:38.072Z"
   },
   {
    "duration": 7,
    "start_time": "2022-05-24T15:25:38.081Z"
   },
   {
    "duration": 7,
    "start_time": "2022-05-24T15:25:38.090Z"
   },
   {
    "duration": 19,
    "start_time": "2022-05-24T15:25:38.099Z"
   },
   {
    "duration": 37,
    "start_time": "2022-05-24T15:25:38.120Z"
   },
   {
    "duration": 13,
    "start_time": "2022-05-24T15:25:38.159Z"
   },
   {
    "duration": 20,
    "start_time": "2022-05-24T15:25:38.174Z"
   },
   {
    "duration": 16,
    "start_time": "2022-05-24T15:25:38.197Z"
   },
   {
    "duration": 49,
    "start_time": "2022-05-24T15:25:38.215Z"
   },
   {
    "duration": 3,
    "start_time": "2022-05-24T15:25:38.266Z"
   },
   {
    "duration": 26,
    "start_time": "2022-05-24T15:25:38.270Z"
   },
   {
    "duration": 9,
    "start_time": "2022-05-24T15:25:38.297Z"
   },
   {
    "duration": 24,
    "start_time": "2022-05-24T15:25:38.308Z"
   },
   {
    "duration": 32,
    "start_time": "2022-05-24T15:25:38.333Z"
   },
   {
    "duration": 17,
    "start_time": "2022-05-24T15:25:38.368Z"
   },
   {
    "duration": 11,
    "start_time": "2022-05-24T15:25:38.388Z"
   },
   {
    "duration": 10,
    "start_time": "2022-05-24T15:25:38.400Z"
   },
   {
    "duration": 12,
    "start_time": "2022-05-24T15:25:38.411Z"
   },
   {
    "duration": 48,
    "start_time": "2022-05-24T15:25:38.424Z"
   },
   {
    "duration": 8,
    "start_time": "2022-05-24T15:25:38.474Z"
   },
   {
    "duration": 54,
    "start_time": "2022-05-24T15:25:38.484Z"
   },
   {
    "duration": 30,
    "start_time": "2022-05-24T15:25:38.541Z"
   },
   {
    "duration": 32,
    "start_time": "2022-05-24T15:25:38.572Z"
   },
   {
    "duration": 23,
    "start_time": "2022-05-24T15:25:38.606Z"
   },
   {
    "duration": 31,
    "start_time": "2022-05-24T15:25:38.631Z"
   },
   {
    "duration": 11,
    "start_time": "2022-05-24T15:25:38.666Z"
   },
   {
    "duration": 5,
    "start_time": "2022-05-24T15:25:38.678Z"
   },
   {
    "duration": 12,
    "start_time": "2022-05-24T15:25:38.684Z"
   },
   {
    "duration": 6,
    "start_time": "2022-05-24T15:25:38.698Z"
   },
   {
    "duration": 5,
    "start_time": "2022-05-24T15:25:38.706Z"
   },
   {
    "duration": 7,
    "start_time": "2022-05-24T15:25:38.713Z"
   },
   {
    "duration": 8,
    "start_time": "2022-05-24T15:25:38.722Z"
   },
   {
    "duration": 37,
    "start_time": "2022-05-24T15:25:38.731Z"
   },
   {
    "duration": 10,
    "start_time": "2022-05-24T15:25:38.770Z"
   },
   {
    "duration": 13,
    "start_time": "2022-05-24T15:25:38.781Z"
   },
   {
    "duration": 7,
    "start_time": "2022-05-24T15:25:38.796Z"
   },
   {
    "duration": 14,
    "start_time": "2022-05-24T15:25:38.805Z"
   },
   {
    "duration": 0,
    "start_time": "2022-05-24T15:25:38.820Z"
   },
   {
    "duration": 0,
    "start_time": "2022-05-24T15:25:38.821Z"
   },
   {
    "duration": 9,
    "start_time": "2022-05-24T15:25:45.922Z"
   },
   {
    "duration": 4,
    "start_time": "2022-05-24T15:28:05.071Z"
   },
   {
    "duration": 13,
    "start_time": "2022-05-24T15:28:10.991Z"
   },
   {
    "duration": 10,
    "start_time": "2022-05-24T15:28:18.010Z"
   },
   {
    "duration": 28,
    "start_time": "2022-05-24T15:28:23.731Z"
   },
   {
    "duration": 17,
    "start_time": "2022-05-24T15:29:07.888Z"
   },
   {
    "duration": 36,
    "start_time": "2022-05-24T15:30:47.065Z"
   },
   {
    "duration": 4,
    "start_time": "2022-05-24T15:37:04.065Z"
   },
   {
    "duration": 444,
    "start_time": "2022-05-24T15:37:04.070Z"
   },
   {
    "duration": 10,
    "start_time": "2022-05-24T15:37:04.516Z"
   },
   {
    "duration": 8,
    "start_time": "2022-05-24T15:37:04.528Z"
   },
   {
    "duration": 6,
    "start_time": "2022-05-24T15:37:04.538Z"
   },
   {
    "duration": 11,
    "start_time": "2022-05-24T15:37:04.546Z"
   },
   {
    "duration": 22,
    "start_time": "2022-05-24T15:37:04.558Z"
   },
   {
    "duration": 19,
    "start_time": "2022-05-24T15:37:04.582Z"
   },
   {
    "duration": 7,
    "start_time": "2022-05-24T15:37:04.603Z"
   },
   {
    "duration": 21,
    "start_time": "2022-05-24T15:37:04.612Z"
   },
   {
    "duration": 32,
    "start_time": "2022-05-24T15:37:04.635Z"
   },
   {
    "duration": 17,
    "start_time": "2022-05-24T15:37:04.669Z"
   },
   {
    "duration": 3,
    "start_time": "2022-05-24T15:37:04.687Z"
   },
   {
    "duration": 24,
    "start_time": "2022-05-24T15:37:04.692Z"
   },
   {
    "duration": 9,
    "start_time": "2022-05-24T15:37:04.718Z"
   },
   {
    "duration": 49,
    "start_time": "2022-05-24T15:37:04.728Z"
   },
   {
    "duration": 18,
    "start_time": "2022-05-24T15:37:04.779Z"
   },
   {
    "duration": 16,
    "start_time": "2022-05-24T15:37:04.798Z"
   },
   {
    "duration": 11,
    "start_time": "2022-05-24T15:37:04.816Z"
   },
   {
    "duration": 6,
    "start_time": "2022-05-24T15:37:04.828Z"
   },
   {
    "duration": 13,
    "start_time": "2022-05-24T15:37:04.852Z"
   },
   {
    "duration": 32,
    "start_time": "2022-05-24T15:37:04.867Z"
   },
   {
    "duration": 8,
    "start_time": "2022-05-24T15:37:04.901Z"
   },
   {
    "duration": 69,
    "start_time": "2022-05-24T15:37:04.911Z"
   },
   {
    "duration": 8,
    "start_time": "2022-05-24T15:37:04.982Z"
   },
   {
    "duration": 34,
    "start_time": "2022-05-24T15:37:04.991Z"
   },
   {
    "duration": 37,
    "start_time": "2022-05-24T15:37:05.027Z"
   },
   {
    "duration": 21,
    "start_time": "2022-05-24T15:37:05.066Z"
   },
   {
    "duration": 10,
    "start_time": "2022-05-24T15:37:05.089Z"
   },
   {
    "duration": 3,
    "start_time": "2022-05-24T15:37:05.101Z"
   },
   {
    "duration": 17,
    "start_time": "2022-05-24T15:37:05.106Z"
   },
   {
    "duration": 12,
    "start_time": "2022-05-24T15:37:05.125Z"
   },
   {
    "duration": 38,
    "start_time": "2022-05-24T15:37:05.138Z"
   },
   {
    "duration": 23,
    "start_time": "2022-05-24T15:37:05.178Z"
   },
   {
    "duration": 21,
    "start_time": "2022-05-24T15:37:05.204Z"
   },
   {
    "duration": 21,
    "start_time": "2022-05-24T15:37:05.228Z"
   },
   {
    "duration": 31,
    "start_time": "2022-05-24T15:37:05.251Z"
   },
   {
    "duration": 18,
    "start_time": "2022-05-24T15:37:05.284Z"
   },
   {
    "duration": 16,
    "start_time": "2022-05-24T15:37:05.304Z"
   },
   {
    "duration": 25,
    "start_time": "2022-05-24T15:37:05.323Z"
   },
   {
    "duration": 36,
    "start_time": "2022-05-24T15:37:05.353Z"
   },
   {
    "duration": 42,
    "start_time": "2022-05-24T15:37:05.391Z"
   },
   {
    "duration": 14,
    "start_time": "2022-05-24T15:37:05.435Z"
   },
   {
    "duration": 24,
    "start_time": "2022-05-24T15:37:05.451Z"
   },
   {
    "duration": 3,
    "start_time": "2022-05-24T15:42:08.065Z"
   },
   {
    "duration": 386,
    "start_time": "2022-05-24T15:42:26.002Z"
   },
   {
    "duration": 3,
    "start_time": "2022-05-24T15:43:55.226Z"
   },
   {
    "duration": 15,
    "start_time": "2022-05-24T15:44:00.712Z"
   },
   {
    "duration": 3,
    "start_time": "2022-05-24T15:44:55.679Z"
   },
   {
    "duration": 16,
    "start_time": "2022-05-24T15:44:57.109Z"
   },
   {
    "duration": 20,
    "start_time": "2022-05-24T15:48:05.250Z"
   },
   {
    "duration": 13,
    "start_time": "2022-05-24T15:48:27.295Z"
   },
   {
    "duration": 7,
    "start_time": "2022-05-24T15:48:44.172Z"
   },
   {
    "duration": 13,
    "start_time": "2022-05-24T15:48:57.357Z"
   },
   {
    "duration": 24,
    "start_time": "2022-05-24T15:49:04.305Z"
   },
   {
    "duration": 22,
    "start_time": "2022-05-24T15:50:07.950Z"
   },
   {
    "duration": 6,
    "start_time": "2022-05-24T15:50:09.454Z"
   },
   {
    "duration": 25,
    "start_time": "2022-05-24T15:50:10.829Z"
   },
   {
    "duration": 24,
    "start_time": "2022-05-24T16:13:58.098Z"
   },
   {
    "duration": 11,
    "start_time": "2022-05-24T16:15:32.591Z"
   },
   {
    "duration": 3,
    "start_time": "2022-05-24T16:15:37.210Z"
   },
   {
    "duration": 445,
    "start_time": "2022-05-24T16:15:37.215Z"
   },
   {
    "duration": 9,
    "start_time": "2022-05-24T16:15:37.662Z"
   },
   {
    "duration": 16,
    "start_time": "2022-05-24T16:15:37.673Z"
   },
   {
    "duration": 6,
    "start_time": "2022-05-24T16:15:37.690Z"
   },
   {
    "duration": 14,
    "start_time": "2022-05-24T16:15:37.697Z"
   },
   {
    "duration": 6,
    "start_time": "2022-05-24T16:15:37.713Z"
   },
   {
    "duration": 14,
    "start_time": "2022-05-24T16:15:37.721Z"
   },
   {
    "duration": 31,
    "start_time": "2022-05-24T16:15:37.738Z"
   },
   {
    "duration": 7,
    "start_time": "2022-05-24T16:15:37.771Z"
   },
   {
    "duration": 21,
    "start_time": "2022-05-24T16:15:37.779Z"
   },
   {
    "duration": 15,
    "start_time": "2022-05-24T16:15:37.801Z"
   },
   {
    "duration": 46,
    "start_time": "2022-05-24T16:15:37.818Z"
   },
   {
    "duration": 19,
    "start_time": "2022-05-24T16:15:37.866Z"
   },
   {
    "duration": 9,
    "start_time": "2022-05-24T16:15:37.886Z"
   },
   {
    "duration": 23,
    "start_time": "2022-05-24T16:15:37.896Z"
   },
   {
    "duration": 39,
    "start_time": "2022-05-24T16:15:37.920Z"
   },
   {
    "duration": 14,
    "start_time": "2022-05-24T16:15:37.961Z"
   },
   {
    "duration": 10,
    "start_time": "2022-05-24T16:15:37.977Z"
   },
   {
    "duration": 9,
    "start_time": "2022-05-24T16:15:37.988Z"
   },
   {
    "duration": 7,
    "start_time": "2022-05-24T16:15:37.999Z"
   },
   {
    "duration": 44,
    "start_time": "2022-05-24T16:15:38.008Z"
   },
   {
    "duration": 8,
    "start_time": "2022-05-24T16:15:38.054Z"
   },
   {
    "duration": 61,
    "start_time": "2022-05-24T16:15:38.065Z"
   },
   {
    "duration": 8,
    "start_time": "2022-05-24T16:15:38.128Z"
   },
   {
    "duration": 43,
    "start_time": "2022-05-24T16:15:38.138Z"
   },
   {
    "duration": 25,
    "start_time": "2022-05-24T16:15:38.182Z"
   },
   {
    "duration": 43,
    "start_time": "2022-05-24T16:15:38.209Z"
   },
   {
    "duration": 12,
    "start_time": "2022-05-24T16:15:38.254Z"
   },
   {
    "duration": 10,
    "start_time": "2022-05-24T16:15:38.267Z"
   },
   {
    "duration": 5,
    "start_time": "2022-05-24T16:15:38.279Z"
   },
   {
    "duration": 9,
    "start_time": "2022-05-24T16:15:38.286Z"
   },
   {
    "duration": 12,
    "start_time": "2022-05-24T16:15:38.297Z"
   },
   {
    "duration": 6,
    "start_time": "2022-05-24T16:15:38.311Z"
   },
   {
    "duration": 50,
    "start_time": "2022-05-24T16:15:38.319Z"
   },
   {
    "duration": 7,
    "start_time": "2022-05-24T16:15:38.371Z"
   },
   {
    "duration": 26,
    "start_time": "2022-05-24T16:15:38.380Z"
   },
   {
    "duration": 22,
    "start_time": "2022-05-24T16:15:38.408Z"
   },
   {
    "duration": 35,
    "start_time": "2022-05-24T16:15:38.451Z"
   },
   {
    "duration": 35,
    "start_time": "2022-05-24T16:16:42.591Z"
   },
   {
    "duration": 3,
    "start_time": "2022-05-24T16:16:45.211Z"
   },
   {
    "duration": 462,
    "start_time": "2022-05-24T16:16:45.217Z"
   },
   {
    "duration": 11,
    "start_time": "2022-05-24T16:16:45.682Z"
   },
   {
    "duration": 33,
    "start_time": "2022-05-24T16:16:45.695Z"
   },
   {
    "duration": 0,
    "start_time": "2022-05-24T16:16:45.731Z"
   },
   {
    "duration": 0,
    "start_time": "2022-05-24T16:16:45.732Z"
   },
   {
    "duration": 0,
    "start_time": "2022-05-24T16:16:45.733Z"
   },
   {
    "duration": 0,
    "start_time": "2022-05-24T16:16:45.734Z"
   },
   {
    "duration": 0,
    "start_time": "2022-05-24T16:16:45.735Z"
   },
   {
    "duration": 0,
    "start_time": "2022-05-24T16:16:45.736Z"
   },
   {
    "duration": 0,
    "start_time": "2022-05-24T16:16:45.737Z"
   },
   {
    "duration": 0,
    "start_time": "2022-05-24T16:16:45.738Z"
   },
   {
    "duration": 0,
    "start_time": "2022-05-24T16:16:45.739Z"
   },
   {
    "duration": 0,
    "start_time": "2022-05-24T16:16:45.740Z"
   },
   {
    "duration": 0,
    "start_time": "2022-05-24T16:16:45.741Z"
   },
   {
    "duration": 0,
    "start_time": "2022-05-24T16:16:45.742Z"
   },
   {
    "duration": 0,
    "start_time": "2022-05-24T16:16:45.752Z"
   },
   {
    "duration": 0,
    "start_time": "2022-05-24T16:16:45.753Z"
   },
   {
    "duration": 0,
    "start_time": "2022-05-24T16:16:45.753Z"
   },
   {
    "duration": 0,
    "start_time": "2022-05-24T16:16:45.755Z"
   },
   {
    "duration": 0,
    "start_time": "2022-05-24T16:16:45.756Z"
   },
   {
    "duration": 0,
    "start_time": "2022-05-24T16:16:45.757Z"
   },
   {
    "duration": 0,
    "start_time": "2022-05-24T16:16:45.758Z"
   },
   {
    "duration": 0,
    "start_time": "2022-05-24T16:16:45.759Z"
   },
   {
    "duration": 0,
    "start_time": "2022-05-24T16:16:45.760Z"
   },
   {
    "duration": 0,
    "start_time": "2022-05-24T16:16:45.762Z"
   },
   {
    "duration": 1,
    "start_time": "2022-05-24T16:16:45.762Z"
   },
   {
    "duration": 0,
    "start_time": "2022-05-24T16:16:45.764Z"
   },
   {
    "duration": 0,
    "start_time": "2022-05-24T16:16:45.764Z"
   },
   {
    "duration": 0,
    "start_time": "2022-05-24T16:16:45.765Z"
   },
   {
    "duration": 0,
    "start_time": "2022-05-24T16:16:45.766Z"
   },
   {
    "duration": 0,
    "start_time": "2022-05-24T16:16:45.767Z"
   },
   {
    "duration": 0,
    "start_time": "2022-05-24T16:16:45.768Z"
   },
   {
    "duration": 0,
    "start_time": "2022-05-24T16:16:45.768Z"
   },
   {
    "duration": 0,
    "start_time": "2022-05-24T16:16:45.769Z"
   },
   {
    "duration": 0,
    "start_time": "2022-05-24T16:16:45.770Z"
   },
   {
    "duration": 0,
    "start_time": "2022-05-24T16:16:45.771Z"
   },
   {
    "duration": 0,
    "start_time": "2022-05-24T16:16:45.772Z"
   },
   {
    "duration": 0,
    "start_time": "2022-05-24T16:16:45.773Z"
   },
   {
    "duration": 16,
    "start_time": "2022-05-24T16:17:10.517Z"
   },
   {
    "duration": 15,
    "start_time": "2022-05-24T16:17:37.740Z"
   },
   {
    "duration": 28,
    "start_time": "2022-05-24T16:17:41.952Z"
   },
   {
    "duration": 39,
    "start_time": "2022-05-24T16:20:16.264Z"
   },
   {
    "duration": 26,
    "start_time": "2022-05-24T16:21:16.537Z"
   },
   {
    "duration": 3,
    "start_time": "2022-05-24T16:21:22.481Z"
   },
   {
    "duration": 420,
    "start_time": "2022-05-24T16:21:22.486Z"
   },
   {
    "duration": 10,
    "start_time": "2022-05-24T16:21:22.908Z"
   },
   {
    "duration": 40,
    "start_time": "2022-05-24T16:21:22.920Z"
   },
   {
    "duration": 0,
    "start_time": "2022-05-24T16:21:22.963Z"
   },
   {
    "duration": 0,
    "start_time": "2022-05-24T16:21:22.964Z"
   },
   {
    "duration": 0,
    "start_time": "2022-05-24T16:21:22.965Z"
   },
   {
    "duration": 0,
    "start_time": "2022-05-24T16:21:22.966Z"
   },
   {
    "duration": 0,
    "start_time": "2022-05-24T16:21:22.967Z"
   },
   {
    "duration": 0,
    "start_time": "2022-05-24T16:21:22.968Z"
   },
   {
    "duration": 0,
    "start_time": "2022-05-24T16:21:22.968Z"
   },
   {
    "duration": 0,
    "start_time": "2022-05-24T16:21:22.970Z"
   },
   {
    "duration": 1,
    "start_time": "2022-05-24T16:21:22.970Z"
   },
   {
    "duration": 0,
    "start_time": "2022-05-24T16:21:22.972Z"
   },
   {
    "duration": 0,
    "start_time": "2022-05-24T16:21:22.973Z"
   },
   {
    "duration": 0,
    "start_time": "2022-05-24T16:21:22.974Z"
   },
   {
    "duration": 0,
    "start_time": "2022-05-24T16:21:22.974Z"
   },
   {
    "duration": 0,
    "start_time": "2022-05-24T16:21:22.975Z"
   },
   {
    "duration": 0,
    "start_time": "2022-05-24T16:21:22.976Z"
   },
   {
    "duration": 0,
    "start_time": "2022-05-24T16:21:22.978Z"
   },
   {
    "duration": 0,
    "start_time": "2022-05-24T16:21:22.979Z"
   },
   {
    "duration": 0,
    "start_time": "2022-05-24T16:21:22.980Z"
   },
   {
    "duration": 0,
    "start_time": "2022-05-24T16:21:22.980Z"
   },
   {
    "duration": 0,
    "start_time": "2022-05-24T16:21:22.982Z"
   },
   {
    "duration": 0,
    "start_time": "2022-05-24T16:21:22.983Z"
   },
   {
    "duration": 0,
    "start_time": "2022-05-24T16:21:22.983Z"
   },
   {
    "duration": 0,
    "start_time": "2022-05-24T16:21:22.984Z"
   },
   {
    "duration": 0,
    "start_time": "2022-05-24T16:21:22.985Z"
   },
   {
    "duration": 0,
    "start_time": "2022-05-24T16:21:22.986Z"
   },
   {
    "duration": 0,
    "start_time": "2022-05-24T16:21:22.987Z"
   },
   {
    "duration": 0,
    "start_time": "2022-05-24T16:21:22.989Z"
   },
   {
    "duration": 0,
    "start_time": "2022-05-24T16:21:22.991Z"
   },
   {
    "duration": 0,
    "start_time": "2022-05-24T16:21:22.992Z"
   },
   {
    "duration": 0,
    "start_time": "2022-05-24T16:21:22.993Z"
   },
   {
    "duration": 0,
    "start_time": "2022-05-24T16:21:22.995Z"
   },
   {
    "duration": 0,
    "start_time": "2022-05-24T16:21:22.996Z"
   },
   {
    "duration": 0,
    "start_time": "2022-05-24T16:21:22.997Z"
   },
   {
    "duration": 0,
    "start_time": "2022-05-24T16:21:23.052Z"
   },
   {
    "duration": 0,
    "start_time": "2022-05-24T16:21:23.054Z"
   },
   {
    "duration": 3,
    "start_time": "2022-05-24T16:26:20.802Z"
   },
   {
    "duration": 388,
    "start_time": "2022-05-24T16:26:20.807Z"
   },
   {
    "duration": 10,
    "start_time": "2022-05-24T16:26:21.196Z"
   },
   {
    "duration": 17,
    "start_time": "2022-05-24T16:26:21.208Z"
   },
   {
    "duration": 4,
    "start_time": "2022-05-24T16:26:21.227Z"
   },
   {
    "duration": 6,
    "start_time": "2022-05-24T16:26:21.233Z"
   },
   {
    "duration": 6,
    "start_time": "2022-05-24T16:26:21.241Z"
   },
   {
    "duration": 13,
    "start_time": "2022-05-24T16:26:21.248Z"
   },
   {
    "duration": 19,
    "start_time": "2022-05-24T16:26:21.262Z"
   },
   {
    "duration": 6,
    "start_time": "2022-05-24T16:26:21.283Z"
   },
   {
    "duration": 25,
    "start_time": "2022-05-24T16:26:21.291Z"
   },
   {
    "duration": 14,
    "start_time": "2022-05-24T16:26:21.318Z"
   },
   {
    "duration": 27,
    "start_time": "2022-05-24T16:26:21.334Z"
   },
   {
    "duration": 17,
    "start_time": "2022-05-24T16:26:21.364Z"
   },
   {
    "duration": 8,
    "start_time": "2022-05-24T16:26:21.383Z"
   },
   {
    "duration": 31,
    "start_time": "2022-05-24T16:26:21.392Z"
   },
   {
    "duration": 34,
    "start_time": "2022-05-24T16:26:21.425Z"
   },
   {
    "duration": 15,
    "start_time": "2022-05-24T16:26:21.461Z"
   },
   {
    "duration": 9,
    "start_time": "2022-05-24T16:26:21.478Z"
   },
   {
    "duration": 6,
    "start_time": "2022-05-24T16:26:21.489Z"
   },
   {
    "duration": 6,
    "start_time": "2022-05-24T16:26:21.496Z"
   },
   {
    "duration": 25,
    "start_time": "2022-05-24T16:26:21.504Z"
   },
   {
    "duration": 8,
    "start_time": "2022-05-24T16:26:21.552Z"
   },
   {
    "duration": 52,
    "start_time": "2022-05-24T16:26:21.561Z"
   },
   {
    "duration": 7,
    "start_time": "2022-05-24T16:26:21.615Z"
   },
   {
    "duration": 45,
    "start_time": "2022-05-24T16:26:21.624Z"
   },
   {
    "duration": 22,
    "start_time": "2022-05-24T16:26:21.671Z"
   },
   {
    "duration": 21,
    "start_time": "2022-05-24T16:26:21.695Z"
   },
   {
    "duration": 10,
    "start_time": "2022-05-24T16:26:21.718Z"
   },
   {
    "duration": 30,
    "start_time": "2022-05-24T16:26:21.729Z"
   },
   {
    "duration": 6,
    "start_time": "2022-05-24T16:26:21.761Z"
   },
   {
    "duration": 6,
    "start_time": "2022-05-24T16:26:21.768Z"
   },
   {
    "duration": 10,
    "start_time": "2022-05-24T16:26:21.775Z"
   },
   {
    "duration": 5,
    "start_time": "2022-05-24T16:26:21.787Z"
   },
   {
    "duration": 25,
    "start_time": "2022-05-24T16:26:21.794Z"
   },
   {
    "duration": 5,
    "start_time": "2022-05-24T16:26:21.821Z"
   },
   {
    "duration": 40,
    "start_time": "2022-05-24T16:26:21.827Z"
   },
   {
    "duration": 18,
    "start_time": "2022-05-24T16:26:21.868Z"
   },
   {
    "duration": 20,
    "start_time": "2022-05-24T16:26:21.887Z"
   },
   {
    "duration": 349,
    "start_time": "2022-05-24T16:26:49.771Z"
   },
   {
    "duration": 4,
    "start_time": "2022-05-24T16:26:52.950Z"
   },
   {
    "duration": 438,
    "start_time": "2022-05-24T16:26:52.956Z"
   },
   {
    "duration": 10,
    "start_time": "2022-05-24T16:26:53.396Z"
   },
   {
    "duration": 16,
    "start_time": "2022-05-24T16:26:53.408Z"
   },
   {
    "duration": 9,
    "start_time": "2022-05-24T16:26:53.426Z"
   },
   {
    "duration": 16,
    "start_time": "2022-05-24T16:26:53.437Z"
   },
   {
    "duration": 10,
    "start_time": "2022-05-24T16:26:53.454Z"
   },
   {
    "duration": 41,
    "start_time": "2022-05-24T16:26:53.465Z"
   },
   {
    "duration": 20,
    "start_time": "2022-05-24T16:26:53.508Z"
   },
   {
    "duration": 23,
    "start_time": "2022-05-24T16:26:53.530Z"
   },
   {
    "duration": 24,
    "start_time": "2022-05-24T16:26:53.554Z"
   },
   {
    "duration": 15,
    "start_time": "2022-05-24T16:26:53.580Z"
   },
   {
    "duration": 22,
    "start_time": "2022-05-24T16:26:53.597Z"
   },
   {
    "duration": 34,
    "start_time": "2022-05-24T16:26:53.622Z"
   },
   {
    "duration": 10,
    "start_time": "2022-05-24T16:26:53.658Z"
   },
   {
    "duration": 25,
    "start_time": "2022-05-24T16:26:53.669Z"
   },
   {
    "duration": 18,
    "start_time": "2022-05-24T16:26:53.696Z"
   },
   {
    "duration": 46,
    "start_time": "2022-05-24T16:26:53.716Z"
   },
   {
    "duration": 11,
    "start_time": "2022-05-24T16:26:53.764Z"
   },
   {
    "duration": 4,
    "start_time": "2022-05-24T16:26:53.777Z"
   },
   {
    "duration": 5,
    "start_time": "2022-05-24T16:26:53.784Z"
   },
   {
    "duration": 68,
    "start_time": "2022-05-24T16:26:53.790Z"
   },
   {
    "duration": 9,
    "start_time": "2022-05-24T16:26:53.860Z"
   },
   {
    "duration": 51,
    "start_time": "2022-05-24T16:26:53.871Z"
   },
   {
    "duration": 33,
    "start_time": "2022-05-24T16:26:53.924Z"
   },
   {
    "duration": 33,
    "start_time": "2022-05-24T16:26:53.959Z"
   },
   {
    "duration": 23,
    "start_time": "2022-05-24T16:26:53.993Z"
   },
   {
    "duration": 17,
    "start_time": "2022-05-24T16:26:54.018Z"
   },
   {
    "duration": 12,
    "start_time": "2022-05-24T16:26:54.052Z"
   },
   {
    "duration": 11,
    "start_time": "2022-05-24T16:26:54.066Z"
   },
   {
    "duration": 9,
    "start_time": "2022-05-24T16:26:54.078Z"
   },
   {
    "duration": 7,
    "start_time": "2022-05-24T16:26:54.089Z"
   },
   {
    "duration": 14,
    "start_time": "2022-05-24T16:26:54.098Z"
   },
   {
    "duration": 6,
    "start_time": "2022-05-24T16:26:54.115Z"
   },
   {
    "duration": 49,
    "start_time": "2022-05-24T16:26:54.122Z"
   },
   {
    "duration": 6,
    "start_time": "2022-05-24T16:26:54.173Z"
   },
   {
    "duration": 24,
    "start_time": "2022-05-24T16:26:54.180Z"
   },
   {
    "duration": 21,
    "start_time": "2022-05-24T16:26:54.205Z"
   },
   {
    "duration": 38,
    "start_time": "2022-05-24T16:26:54.227Z"
   },
   {
    "duration": 423,
    "start_time": "2022-05-24T16:28:12.077Z"
   },
   {
    "duration": 4,
    "start_time": "2022-05-24T16:28:15.300Z"
   },
   {
    "duration": 436,
    "start_time": "2022-05-24T16:28:15.307Z"
   },
   {
    "duration": 10,
    "start_time": "2022-05-24T16:28:15.745Z"
   },
   {
    "duration": 11,
    "start_time": "2022-05-24T16:28:15.757Z"
   },
   {
    "duration": 6,
    "start_time": "2022-05-24T16:28:15.770Z"
   },
   {
    "duration": 12,
    "start_time": "2022-05-24T16:28:15.778Z"
   },
   {
    "duration": 9,
    "start_time": "2022-05-24T16:28:15.791Z"
   },
   {
    "duration": 14,
    "start_time": "2022-05-24T16:28:15.802Z"
   },
   {
    "duration": 22,
    "start_time": "2022-05-24T16:28:15.819Z"
   },
   {
    "duration": 12,
    "start_time": "2022-05-24T16:28:15.843Z"
   },
   {
    "duration": 21,
    "start_time": "2022-05-24T16:28:15.857Z"
   },
   {
    "duration": 15,
    "start_time": "2022-05-24T16:28:15.880Z"
   },
   {
    "duration": 18,
    "start_time": "2022-05-24T16:28:15.897Z"
   },
   {
    "duration": 45,
    "start_time": "2022-05-24T16:28:15.917Z"
   },
   {
    "duration": 9,
    "start_time": "2022-05-24T16:28:15.963Z"
   },
   {
    "duration": 22,
    "start_time": "2022-05-24T16:28:15.974Z"
   },
   {
    "duration": 17,
    "start_time": "2022-05-24T16:28:15.998Z"
   },
   {
    "duration": 35,
    "start_time": "2022-05-24T16:28:16.017Z"
   },
   {
    "duration": 10,
    "start_time": "2022-05-24T16:28:16.053Z"
   },
   {
    "duration": 6,
    "start_time": "2022-05-24T16:28:16.064Z"
   },
   {
    "duration": 10,
    "start_time": "2022-05-24T16:28:16.072Z"
   },
   {
    "duration": 24,
    "start_time": "2022-05-24T16:28:16.084Z"
   },
   {
    "duration": 9,
    "start_time": "2022-05-24T16:28:16.109Z"
   },
   {
    "duration": 62,
    "start_time": "2022-05-24T16:28:16.121Z"
   },
   {
    "duration": 7,
    "start_time": "2022-05-24T16:28:16.185Z"
   },
   {
    "duration": 28,
    "start_time": "2022-05-24T16:28:16.194Z"
   },
   {
    "duration": 34,
    "start_time": "2022-05-24T16:28:16.224Z"
   },
   {
    "duration": 16,
    "start_time": "2022-05-24T16:28:16.260Z"
   },
   {
    "duration": 9,
    "start_time": "2022-05-24T16:28:16.278Z"
   },
   {
    "duration": 11,
    "start_time": "2022-05-24T16:28:16.288Z"
   },
   {
    "duration": 7,
    "start_time": "2022-05-24T16:28:16.300Z"
   },
   {
    "duration": 7,
    "start_time": "2022-05-24T16:28:16.309Z"
   },
   {
    "duration": 10,
    "start_time": "2022-05-24T16:28:16.317Z"
   },
   {
    "duration": 26,
    "start_time": "2022-05-24T16:28:16.328Z"
   },
   {
    "duration": 28,
    "start_time": "2022-05-24T16:28:16.355Z"
   },
   {
    "duration": 6,
    "start_time": "2022-05-24T16:28:16.385Z"
   },
   {
    "duration": 31,
    "start_time": "2022-05-24T16:28:16.393Z"
   },
   {
    "duration": 33,
    "start_time": "2022-05-24T16:28:16.426Z"
   },
   {
    "duration": 36,
    "start_time": "2022-05-24T16:28:16.461Z"
   },
   {
    "duration": 9,
    "start_time": "2022-05-24T16:28:36.745Z"
   },
   {
    "duration": 3,
    "start_time": "2022-05-24T16:28:46.415Z"
   },
   {
    "duration": 396,
    "start_time": "2022-05-24T16:28:46.441Z"
   },
   {
    "duration": 10,
    "start_time": "2022-05-24T16:28:46.839Z"
   },
   {
    "duration": 13,
    "start_time": "2022-05-24T16:28:46.851Z"
   },
   {
    "duration": 8,
    "start_time": "2022-05-24T16:28:46.865Z"
   },
   {
    "duration": 6,
    "start_time": "2022-05-24T16:28:46.875Z"
   },
   {
    "duration": 4,
    "start_time": "2022-05-24T16:28:46.883Z"
   },
   {
    "duration": 11,
    "start_time": "2022-05-24T16:28:46.888Z"
   },
   {
    "duration": 22,
    "start_time": "2022-05-24T16:28:46.901Z"
   },
   {
    "duration": 7,
    "start_time": "2022-05-24T16:28:46.924Z"
   },
   {
    "duration": 33,
    "start_time": "2022-05-24T16:28:46.933Z"
   },
   {
    "duration": 15,
    "start_time": "2022-05-24T16:28:46.967Z"
   },
   {
    "duration": 16,
    "start_time": "2022-05-24T16:28:46.984Z"
   },
   {
    "duration": 20,
    "start_time": "2022-05-24T16:28:47.002Z"
   },
   {
    "duration": 10,
    "start_time": "2022-05-24T16:28:47.051Z"
   },
   {
    "duration": 24,
    "start_time": "2022-05-24T16:28:47.062Z"
   },
   {
    "duration": 17,
    "start_time": "2022-05-24T16:28:47.088Z"
   },
   {
    "duration": 15,
    "start_time": "2022-05-24T16:28:47.106Z"
   },
   {
    "duration": 31,
    "start_time": "2022-05-24T16:28:47.123Z"
   },
   {
    "duration": 7,
    "start_time": "2022-05-24T16:28:47.156Z"
   },
   {
    "duration": 8,
    "start_time": "2022-05-24T16:28:47.164Z"
   },
   {
    "duration": 24,
    "start_time": "2022-05-24T16:28:47.174Z"
   },
   {
    "duration": 8,
    "start_time": "2022-05-24T16:28:47.200Z"
   },
   {
    "duration": 75,
    "start_time": "2022-05-24T16:28:47.210Z"
   },
   {
    "duration": 11,
    "start_time": "2022-05-24T16:28:47.287Z"
   },
   {
    "duration": 31,
    "start_time": "2022-05-24T16:28:47.300Z"
   },
   {
    "duration": 36,
    "start_time": "2022-05-24T16:28:47.333Z"
   },
   {
    "duration": 20,
    "start_time": "2022-05-24T16:28:47.371Z"
   },
   {
    "duration": 10,
    "start_time": "2022-05-24T16:28:47.392Z"
   },
   {
    "duration": 9,
    "start_time": "2022-05-24T16:28:47.403Z"
   },
   {
    "duration": 7,
    "start_time": "2022-05-24T16:28:47.414Z"
   },
   {
    "duration": 30,
    "start_time": "2022-05-24T16:28:47.422Z"
   },
   {
    "duration": 9,
    "start_time": "2022-05-24T16:28:47.454Z"
   },
   {
    "duration": 6,
    "start_time": "2022-05-24T16:28:47.464Z"
   },
   {
    "duration": 23,
    "start_time": "2022-05-24T16:28:47.471Z"
   },
   {
    "duration": 5,
    "start_time": "2022-05-24T16:28:47.496Z"
   },
   {
    "duration": 28,
    "start_time": "2022-05-24T16:28:47.502Z"
   },
   {
    "duration": 36,
    "start_time": "2022-05-24T16:28:47.532Z"
   },
   {
    "duration": 42,
    "start_time": "2022-05-24T16:28:47.570Z"
   },
   {
    "duration": 3,
    "start_time": "2022-05-24T16:28:59.176Z"
   },
   {
    "duration": 401,
    "start_time": "2022-05-24T16:28:59.180Z"
   },
   {
    "duration": 9,
    "start_time": "2022-05-24T16:28:59.583Z"
   },
   {
    "duration": 15,
    "start_time": "2022-05-24T16:28:59.593Z"
   },
   {
    "duration": 5,
    "start_time": "2022-05-24T16:28:59.610Z"
   },
   {
    "duration": 8,
    "start_time": "2022-05-24T16:28:59.616Z"
   },
   {
    "duration": 5,
    "start_time": "2022-05-24T16:28:59.625Z"
   },
   {
    "duration": 12,
    "start_time": "2022-05-24T16:28:59.631Z"
   },
   {
    "duration": 16,
    "start_time": "2022-05-24T16:28:59.653Z"
   },
   {
    "duration": 7,
    "start_time": "2022-05-24T16:28:59.671Z"
   },
   {
    "duration": 30,
    "start_time": "2022-05-24T16:28:59.680Z"
   },
   {
    "duration": 16,
    "start_time": "2022-05-24T16:28:59.712Z"
   },
   {
    "duration": 35,
    "start_time": "2022-05-24T16:28:59.729Z"
   },
   {
    "duration": 18,
    "start_time": "2022-05-24T16:28:59.765Z"
   },
   {
    "duration": 9,
    "start_time": "2022-05-24T16:28:59.785Z"
   },
   {
    "duration": 32,
    "start_time": "2022-05-24T16:28:59.796Z"
   },
   {
    "duration": 35,
    "start_time": "2022-05-24T16:28:59.829Z"
   },
   {
    "duration": 17,
    "start_time": "2022-05-24T16:28:59.866Z"
   },
   {
    "duration": 10,
    "start_time": "2022-05-24T16:28:59.884Z"
   },
   {
    "duration": 6,
    "start_time": "2022-05-24T16:28:59.896Z"
   },
   {
    "duration": 8,
    "start_time": "2022-05-24T16:28:59.903Z"
   },
   {
    "duration": 43,
    "start_time": "2022-05-24T16:28:59.912Z"
   },
   {
    "duration": 8,
    "start_time": "2022-05-24T16:28:59.956Z"
   },
   {
    "duration": 50,
    "start_time": "2022-05-24T16:28:59.968Z"
   },
   {
    "duration": 8,
    "start_time": "2022-05-24T16:29:00.020Z"
   },
   {
    "duration": 53,
    "start_time": "2022-05-24T16:29:00.030Z"
   },
   {
    "duration": 24,
    "start_time": "2022-05-24T16:29:00.085Z"
   },
   {
    "duration": 41,
    "start_time": "2022-05-24T16:29:00.111Z"
   },
   {
    "duration": 12,
    "start_time": "2022-05-24T16:29:00.154Z"
   },
   {
    "duration": 13,
    "start_time": "2022-05-24T16:29:00.168Z"
   },
   {
    "duration": 11,
    "start_time": "2022-05-24T16:29:00.183Z"
   },
   {
    "duration": 13,
    "start_time": "2022-05-24T16:29:00.196Z"
   },
   {
    "duration": 14,
    "start_time": "2022-05-24T16:29:00.211Z"
   },
   {
    "duration": 8,
    "start_time": "2022-05-24T16:29:00.227Z"
   },
   {
    "duration": 36,
    "start_time": "2022-05-24T16:29:00.237Z"
   },
   {
    "duration": 7,
    "start_time": "2022-05-24T16:29:00.275Z"
   },
   {
    "duration": 31,
    "start_time": "2022-05-24T16:29:00.283Z"
   },
   {
    "duration": 20,
    "start_time": "2022-05-24T16:29:00.316Z"
   },
   {
    "duration": 51,
    "start_time": "2022-05-24T16:29:00.337Z"
   },
   {
    "duration": 10,
    "start_time": "2022-05-24T16:29:49.679Z"
   },
   {
    "duration": 3,
    "start_time": "2022-05-24T16:29:52.021Z"
   },
   {
    "duration": 453,
    "start_time": "2022-05-24T16:29:52.027Z"
   },
   {
    "duration": 11,
    "start_time": "2022-05-24T16:29:52.482Z"
   },
   {
    "duration": 34,
    "start_time": "2022-05-24T16:29:52.495Z"
   },
   {
    "duration": 0,
    "start_time": "2022-05-24T16:29:52.531Z"
   },
   {
    "duration": 0,
    "start_time": "2022-05-24T16:29:52.533Z"
   },
   {
    "duration": 0,
    "start_time": "2022-05-24T16:29:52.534Z"
   },
   {
    "duration": 0,
    "start_time": "2022-05-24T16:29:52.535Z"
   },
   {
    "duration": 0,
    "start_time": "2022-05-24T16:29:52.537Z"
   },
   {
    "duration": 0,
    "start_time": "2022-05-24T16:29:52.539Z"
   },
   {
    "duration": 0,
    "start_time": "2022-05-24T16:29:52.540Z"
   },
   {
    "duration": 0,
    "start_time": "2022-05-24T16:29:52.541Z"
   },
   {
    "duration": 0,
    "start_time": "2022-05-24T16:29:52.543Z"
   },
   {
    "duration": 0,
    "start_time": "2022-05-24T16:29:52.552Z"
   },
   {
    "duration": 0,
    "start_time": "2022-05-24T16:29:52.554Z"
   },
   {
    "duration": 0,
    "start_time": "2022-05-24T16:29:52.555Z"
   },
   {
    "duration": 0,
    "start_time": "2022-05-24T16:29:52.557Z"
   },
   {
    "duration": 0,
    "start_time": "2022-05-24T16:29:52.558Z"
   },
   {
    "duration": 0,
    "start_time": "2022-05-24T16:29:52.560Z"
   },
   {
    "duration": 0,
    "start_time": "2022-05-24T16:29:52.561Z"
   },
   {
    "duration": 0,
    "start_time": "2022-05-24T16:29:52.562Z"
   },
   {
    "duration": 0,
    "start_time": "2022-05-24T16:29:52.563Z"
   },
   {
    "duration": 0,
    "start_time": "2022-05-24T16:29:52.564Z"
   },
   {
    "duration": 0,
    "start_time": "2022-05-24T16:29:52.566Z"
   },
   {
    "duration": 0,
    "start_time": "2022-05-24T16:29:52.567Z"
   },
   {
    "duration": 0,
    "start_time": "2022-05-24T16:29:52.569Z"
   },
   {
    "duration": 0,
    "start_time": "2022-05-24T16:29:52.570Z"
   },
   {
    "duration": 0,
    "start_time": "2022-05-24T16:29:52.572Z"
   },
   {
    "duration": 0,
    "start_time": "2022-05-24T16:29:52.573Z"
   },
   {
    "duration": 0,
    "start_time": "2022-05-24T16:29:52.575Z"
   },
   {
    "duration": 0,
    "start_time": "2022-05-24T16:29:52.576Z"
   },
   {
    "duration": 0,
    "start_time": "2022-05-24T16:29:52.577Z"
   },
   {
    "duration": 0,
    "start_time": "2022-05-24T16:29:52.578Z"
   },
   {
    "duration": 0,
    "start_time": "2022-05-24T16:29:52.581Z"
   },
   {
    "duration": 0,
    "start_time": "2022-05-24T16:29:52.583Z"
   },
   {
    "duration": 0,
    "start_time": "2022-05-24T16:29:52.584Z"
   },
   {
    "duration": 0,
    "start_time": "2022-05-24T16:29:52.585Z"
   },
   {
    "duration": 0,
    "start_time": "2022-05-24T16:29:52.593Z"
   },
   {
    "duration": 0,
    "start_time": "2022-05-24T16:29:52.594Z"
   },
   {
    "duration": 3,
    "start_time": "2022-05-24T16:32:41.593Z"
   },
   {
    "duration": 404,
    "start_time": "2022-05-24T16:32:41.598Z"
   },
   {
    "duration": 11,
    "start_time": "2022-05-24T16:32:42.003Z"
   },
   {
    "duration": 14,
    "start_time": "2022-05-24T16:32:42.017Z"
   },
   {
    "duration": 5,
    "start_time": "2022-05-24T16:32:42.033Z"
   },
   {
    "duration": 13,
    "start_time": "2022-05-24T16:32:42.040Z"
   },
   {
    "duration": 5,
    "start_time": "2022-05-24T16:32:42.055Z"
   },
   {
    "duration": 13,
    "start_time": "2022-05-24T16:32:42.061Z"
   },
   {
    "duration": 18,
    "start_time": "2022-05-24T16:32:42.077Z"
   },
   {
    "duration": 7,
    "start_time": "2022-05-24T16:32:42.097Z"
   },
   {
    "duration": 55,
    "start_time": "2022-05-24T16:32:42.106Z"
   },
   {
    "duration": 15,
    "start_time": "2022-05-24T16:32:42.162Z"
   },
   {
    "duration": 16,
    "start_time": "2022-05-24T16:32:42.179Z"
   },
   {
    "duration": 18,
    "start_time": "2022-05-24T16:32:42.197Z"
   },
   {
    "duration": 8,
    "start_time": "2022-05-24T16:32:42.217Z"
   },
   {
    "duration": 45,
    "start_time": "2022-05-24T16:32:42.226Z"
   },
   {
    "duration": 17,
    "start_time": "2022-05-24T16:32:42.272Z"
   },
   {
    "duration": 13,
    "start_time": "2022-05-24T16:32:42.291Z"
   },
   {
    "duration": 9,
    "start_time": "2022-05-24T16:32:42.306Z"
   },
   {
    "duration": 7,
    "start_time": "2022-05-24T16:32:42.316Z"
   },
   {
    "duration": 29,
    "start_time": "2022-05-24T16:32:42.324Z"
   },
   {
    "duration": 21,
    "start_time": "2022-05-24T16:32:42.354Z"
   },
   {
    "duration": 7,
    "start_time": "2022-05-24T16:32:42.377Z"
   },
   {
    "duration": 65,
    "start_time": "2022-05-24T16:32:42.387Z"
   },
   {
    "duration": 8,
    "start_time": "2022-05-24T16:32:42.454Z"
   },
   {
    "duration": 34,
    "start_time": "2022-05-24T16:32:42.464Z"
   },
   {
    "duration": 27,
    "start_time": "2022-05-24T16:32:42.500Z"
   },
   {
    "duration": 44,
    "start_time": "2022-05-24T16:32:42.528Z"
   },
   {
    "duration": 11,
    "start_time": "2022-05-24T16:32:42.574Z"
   },
   {
    "duration": 12,
    "start_time": "2022-05-24T16:32:42.588Z"
   },
   {
    "duration": 9,
    "start_time": "2022-05-24T16:32:42.602Z"
   },
   {
    "duration": 29,
    "start_time": "2022-05-24T16:32:42.613Z"
   },
   {
    "duration": 14,
    "start_time": "2022-05-24T16:32:42.644Z"
   },
   {
    "duration": 13,
    "start_time": "2022-05-24T16:32:42.660Z"
   },
   {
    "duration": 33,
    "start_time": "2022-05-24T16:32:42.675Z"
   },
   {
    "duration": 6,
    "start_time": "2022-05-24T16:32:42.710Z"
   },
   {
    "duration": 32,
    "start_time": "2022-05-24T16:32:42.717Z"
   },
   {
    "duration": 19,
    "start_time": "2022-05-24T16:32:42.751Z"
   },
   {
    "duration": 28,
    "start_time": "2022-05-24T16:32:42.772Z"
   },
   {
    "duration": 3,
    "start_time": "2022-05-24T16:33:39.547Z"
   },
   {
    "duration": 421,
    "start_time": "2022-05-24T16:33:39.552Z"
   },
   {
    "duration": 11,
    "start_time": "2022-05-24T16:33:39.975Z"
   },
   {
    "duration": 22,
    "start_time": "2022-05-24T16:33:39.987Z"
   },
   {
    "duration": 24,
    "start_time": "2022-05-24T16:33:40.012Z"
   },
   {
    "duration": 16,
    "start_time": "2022-05-24T16:33:40.038Z"
   },
   {
    "duration": 7,
    "start_time": "2022-05-24T16:33:40.056Z"
   },
   {
    "duration": 15,
    "start_time": "2022-05-24T16:33:40.064Z"
   },
   {
    "duration": 23,
    "start_time": "2022-05-24T16:33:40.080Z"
   },
   {
    "duration": 8,
    "start_time": "2022-05-24T16:33:40.104Z"
   },
   {
    "duration": 20,
    "start_time": "2022-05-24T16:33:40.113Z"
   },
   {
    "duration": 31,
    "start_time": "2022-05-24T16:33:40.135Z"
   },
   {
    "duration": 18,
    "start_time": "2022-05-24T16:33:40.170Z"
   },
   {
    "duration": 20,
    "start_time": "2022-05-24T16:33:40.189Z"
   },
   {
    "duration": 8,
    "start_time": "2022-05-24T16:33:40.211Z"
   },
   {
    "duration": 50,
    "start_time": "2022-05-24T16:33:40.221Z"
   },
   {
    "duration": 18,
    "start_time": "2022-05-24T16:33:40.273Z"
   },
   {
    "duration": 18,
    "start_time": "2022-05-24T16:33:40.292Z"
   },
   {
    "duration": 10,
    "start_time": "2022-05-24T16:33:40.312Z"
   },
   {
    "duration": 29,
    "start_time": "2022-05-24T16:33:40.323Z"
   },
   {
    "duration": 7,
    "start_time": "2022-05-24T16:33:40.354Z"
   },
   {
    "duration": 23,
    "start_time": "2022-05-24T16:33:40.363Z"
   },
   {
    "duration": 8,
    "start_time": "2022-05-24T16:33:40.388Z"
   },
   {
    "duration": 62,
    "start_time": "2022-05-24T16:33:40.397Z"
   },
   {
    "duration": 8,
    "start_time": "2022-05-24T16:33:40.461Z"
   },
   {
    "duration": 32,
    "start_time": "2022-05-24T16:33:40.471Z"
   },
   {
    "duration": 25,
    "start_time": "2022-05-24T16:33:40.505Z"
   },
   {
    "duration": 41,
    "start_time": "2022-05-24T16:33:40.532Z"
   },
   {
    "duration": 9,
    "start_time": "2022-05-24T16:33:40.575Z"
   },
   {
    "duration": 23,
    "start_time": "2022-05-24T16:33:40.586Z"
   },
   {
    "duration": 23,
    "start_time": "2022-05-24T16:33:40.611Z"
   },
   {
    "duration": 18,
    "start_time": "2022-05-24T16:33:40.636Z"
   },
   {
    "duration": 39,
    "start_time": "2022-05-24T16:33:40.656Z"
   },
   {
    "duration": 23,
    "start_time": "2022-05-24T16:33:40.697Z"
   },
   {
    "duration": 56,
    "start_time": "2022-05-24T16:33:40.721Z"
   },
   {
    "duration": 14,
    "start_time": "2022-05-24T16:33:40.779Z"
   },
   {
    "duration": 45,
    "start_time": "2022-05-24T16:33:40.796Z"
   },
   {
    "duration": 63,
    "start_time": "2022-05-24T16:33:40.842Z"
   },
   {
    "duration": 27,
    "start_time": "2022-05-24T16:33:40.906Z"
   },
   {
    "duration": 6,
    "start_time": "2022-05-24T16:36:40.952Z"
   },
   {
    "duration": 22,
    "start_time": "2022-05-24T16:36:46.549Z"
   },
   {
    "duration": 3,
    "start_time": "2022-05-24T16:37:24.243Z"
   },
   {
    "duration": 437,
    "start_time": "2022-05-24T16:37:24.248Z"
   },
   {
    "duration": 12,
    "start_time": "2022-05-24T16:37:24.687Z"
   },
   {
    "duration": 21,
    "start_time": "2022-05-24T16:37:24.700Z"
   },
   {
    "duration": 7,
    "start_time": "2022-05-24T16:37:24.724Z"
   },
   {
    "duration": 12,
    "start_time": "2022-05-24T16:37:24.732Z"
   },
   {
    "duration": 7,
    "start_time": "2022-05-24T16:37:24.746Z"
   },
   {
    "duration": 14,
    "start_time": "2022-05-24T16:37:24.754Z"
   },
   {
    "duration": 24,
    "start_time": "2022-05-24T16:37:24.770Z"
   },
   {
    "duration": 10,
    "start_time": "2022-05-24T16:37:24.795Z"
   },
   {
    "duration": 21,
    "start_time": "2022-05-24T16:37:24.807Z"
   },
   {
    "duration": 28,
    "start_time": "2022-05-24T16:37:24.830Z"
   },
   {
    "duration": 19,
    "start_time": "2022-05-24T16:37:24.859Z"
   },
   {
    "duration": 19,
    "start_time": "2022-05-24T16:37:24.881Z"
   },
   {
    "duration": 9,
    "start_time": "2022-05-24T16:37:24.901Z"
   },
   {
    "duration": 50,
    "start_time": "2022-05-24T16:37:24.911Z"
   },
   {
    "duration": 17,
    "start_time": "2022-05-24T16:37:24.962Z"
   },
   {
    "duration": 14,
    "start_time": "2022-05-24T16:37:24.981Z"
   },
   {
    "duration": 10,
    "start_time": "2022-05-24T16:37:24.996Z"
   },
   {
    "duration": 13,
    "start_time": "2022-05-24T16:37:25.008Z"
   },
   {
    "duration": 9,
    "start_time": "2022-05-24T16:37:25.023Z"
   },
   {
    "duration": 35,
    "start_time": "2022-05-24T16:37:25.033Z"
   },
   {
    "duration": 8,
    "start_time": "2022-05-24T16:37:25.070Z"
   },
   {
    "duration": 56,
    "start_time": "2022-05-24T16:37:25.080Z"
   },
   {
    "duration": 25,
    "start_time": "2022-05-24T16:37:25.137Z"
   },
   {
    "duration": 42,
    "start_time": "2022-05-24T16:37:25.165Z"
   },
   {
    "duration": 26,
    "start_time": "2022-05-24T16:37:25.209Z"
   },
   {
    "duration": 25,
    "start_time": "2022-05-24T16:37:25.253Z"
   },
   {
    "duration": 13,
    "start_time": "2022-05-24T16:37:25.280Z"
   },
   {
    "duration": 12,
    "start_time": "2022-05-24T16:37:25.295Z"
   },
   {
    "duration": 17,
    "start_time": "2022-05-24T16:37:25.308Z"
   },
   {
    "duration": 25,
    "start_time": "2022-05-24T16:37:25.327Z"
   },
   {
    "duration": 18,
    "start_time": "2022-05-24T16:37:25.355Z"
   },
   {
    "duration": 15,
    "start_time": "2022-05-24T16:37:25.375Z"
   },
   {
    "duration": 29,
    "start_time": "2022-05-24T16:37:25.391Z"
   },
   {
    "duration": 6,
    "start_time": "2022-05-24T16:37:25.421Z"
   },
   {
    "duration": 31,
    "start_time": "2022-05-24T16:37:25.429Z"
   },
   {
    "duration": 8,
    "start_time": "2022-05-24T16:37:25.462Z"
   },
   {
    "duration": 30,
    "start_time": "2022-05-24T16:37:25.471Z"
   },
   {
    "duration": 29,
    "start_time": "2022-05-24T16:37:25.503Z"
   },
   {
    "duration": 25,
    "start_time": "2022-05-24T16:37:36.368Z"
   },
   {
    "duration": 13,
    "start_time": "2022-05-24T16:37:49.762Z"
   },
   {
    "duration": 4,
    "start_time": "2022-05-24T16:37:54.037Z"
   },
   {
    "duration": 429,
    "start_time": "2022-05-24T16:37:54.043Z"
   },
   {
    "duration": 12,
    "start_time": "2022-05-24T16:37:54.473Z"
   },
   {
    "duration": 23,
    "start_time": "2022-05-24T16:37:54.486Z"
   },
   {
    "duration": 8,
    "start_time": "2022-05-24T16:37:54.511Z"
   },
   {
    "duration": 10,
    "start_time": "2022-05-24T16:37:54.520Z"
   },
   {
    "duration": 4,
    "start_time": "2022-05-24T16:37:54.532Z"
   },
   {
    "duration": 17,
    "start_time": "2022-05-24T16:37:54.537Z"
   },
   {
    "duration": 22,
    "start_time": "2022-05-24T16:37:54.555Z"
   },
   {
    "duration": 8,
    "start_time": "2022-05-24T16:37:54.579Z"
   },
   {
    "duration": 21,
    "start_time": "2022-05-24T16:37:54.589Z"
   },
   {
    "duration": 16,
    "start_time": "2022-05-24T16:37:54.612Z"
   },
   {
    "duration": 36,
    "start_time": "2022-05-24T16:37:54.629Z"
   },
   {
    "duration": 19,
    "start_time": "2022-05-24T16:37:54.667Z"
   },
   {
    "duration": 8,
    "start_time": "2022-05-24T16:37:54.688Z"
   },
   {
    "duration": 27,
    "start_time": "2022-05-24T16:37:54.697Z"
   },
   {
    "duration": 39,
    "start_time": "2022-05-24T16:37:54.725Z"
   },
   {
    "duration": 18,
    "start_time": "2022-05-24T16:37:54.765Z"
   },
   {
    "duration": 10,
    "start_time": "2022-05-24T16:37:54.785Z"
   },
   {
    "duration": 5,
    "start_time": "2022-05-24T16:37:54.797Z"
   },
   {
    "duration": 6,
    "start_time": "2022-05-24T16:37:54.803Z"
   },
   {
    "duration": 49,
    "start_time": "2022-05-24T16:37:54.810Z"
   },
   {
    "duration": 8,
    "start_time": "2022-05-24T16:37:54.860Z"
   },
   {
    "duration": 55,
    "start_time": "2022-05-24T16:37:54.869Z"
   },
   {
    "duration": 8,
    "start_time": "2022-05-24T16:37:54.925Z"
   },
   {
    "duration": 40,
    "start_time": "2022-05-24T16:37:54.934Z"
   },
   {
    "duration": 23,
    "start_time": "2022-05-24T16:37:54.976Z"
   },
   {
    "duration": 22,
    "start_time": "2022-05-24T16:37:55.000Z"
   },
   {
    "duration": 33,
    "start_time": "2022-05-24T16:37:55.023Z"
   },
   {
    "duration": 9,
    "start_time": "2022-05-24T16:37:55.058Z"
   },
   {
    "duration": 7,
    "start_time": "2022-05-24T16:37:55.069Z"
   },
   {
    "duration": 9,
    "start_time": "2022-05-24T16:37:55.077Z"
   },
   {
    "duration": 12,
    "start_time": "2022-05-24T16:37:55.087Z"
   },
   {
    "duration": 7,
    "start_time": "2022-05-24T16:37:55.101Z"
   },
   {
    "duration": 25,
    "start_time": "2022-05-24T16:37:55.109Z"
   },
   {
    "duration": 8,
    "start_time": "2022-05-24T16:37:55.153Z"
   },
   {
    "duration": 53,
    "start_time": "2022-05-24T16:37:55.163Z"
   },
   {
    "duration": 26,
    "start_time": "2022-05-24T16:37:55.218Z"
   },
   {
    "duration": 32,
    "start_time": "2022-05-24T16:37:55.247Z"
   },
   {
    "duration": 51,
    "start_time": "2022-05-24T16:37:55.281Z"
   },
   {
    "duration": 11,
    "start_time": "2022-05-24T16:38:18.059Z"
   },
   {
    "duration": 24,
    "start_time": "2022-05-24T16:38:30.567Z"
   },
   {
    "duration": 10,
    "start_time": "2022-05-24T16:40:02.700Z"
   },
   {
    "duration": 6,
    "start_time": "2022-05-24T16:40:32.445Z"
   },
   {
    "duration": 12,
    "start_time": "2022-05-24T16:40:34.169Z"
   },
   {
    "duration": 2,
    "start_time": "2022-05-24T16:40:48.564Z"
   },
   {
    "duration": 431,
    "start_time": "2022-05-24T16:40:48.568Z"
   },
   {
    "duration": 9,
    "start_time": "2022-05-24T16:40:49.001Z"
   },
   {
    "duration": 20,
    "start_time": "2022-05-24T16:40:49.011Z"
   },
   {
    "duration": 8,
    "start_time": "2022-05-24T16:40:49.033Z"
   },
   {
    "duration": 11,
    "start_time": "2022-05-24T16:40:49.043Z"
   },
   {
    "duration": 12,
    "start_time": "2022-05-24T16:40:49.055Z"
   },
   {
    "duration": 17,
    "start_time": "2022-05-24T16:40:49.068Z"
   },
   {
    "duration": 19,
    "start_time": "2022-05-24T16:40:49.087Z"
   },
   {
    "duration": 20,
    "start_time": "2022-05-24T16:40:49.109Z"
   },
   {
    "duration": 33,
    "start_time": "2022-05-24T16:40:49.132Z"
   },
   {
    "duration": 14,
    "start_time": "2022-05-24T16:40:49.167Z"
   },
   {
    "duration": 20,
    "start_time": "2022-05-24T16:40:49.183Z"
   },
   {
    "duration": 20,
    "start_time": "2022-05-24T16:40:49.205Z"
   },
   {
    "duration": 8,
    "start_time": "2022-05-24T16:40:49.227Z"
   },
   {
    "duration": 24,
    "start_time": "2022-05-24T16:40:49.251Z"
   },
   {
    "duration": 16,
    "start_time": "2022-05-24T16:40:49.277Z"
   },
   {
    "duration": 15,
    "start_time": "2022-05-24T16:40:49.295Z"
   },
   {
    "duration": 10,
    "start_time": "2022-05-24T16:40:49.312Z"
   },
   {
    "duration": 30,
    "start_time": "2022-05-24T16:40:49.325Z"
   },
   {
    "duration": 7,
    "start_time": "2022-05-24T16:40:49.357Z"
   },
   {
    "duration": 29,
    "start_time": "2022-05-24T16:40:49.365Z"
   },
   {
    "duration": 8,
    "start_time": "2022-05-24T16:40:49.396Z"
   },
   {
    "duration": 64,
    "start_time": "2022-05-24T16:40:49.406Z"
   },
   {
    "duration": 7,
    "start_time": "2022-05-24T16:40:49.472Z"
   },
   {
    "duration": 32,
    "start_time": "2022-05-24T16:40:49.481Z"
   },
   {
    "duration": 40,
    "start_time": "2022-05-24T16:40:49.514Z"
   },
   {
    "duration": 21,
    "start_time": "2022-05-24T16:40:49.556Z"
   },
   {
    "duration": 10,
    "start_time": "2022-05-24T16:40:49.580Z"
   },
   {
    "duration": 17,
    "start_time": "2022-05-24T16:40:49.591Z"
   },
   {
    "duration": 7,
    "start_time": "2022-05-24T16:40:49.610Z"
   },
   {
    "duration": 6,
    "start_time": "2022-05-24T16:40:49.618Z"
   },
   {
    "duration": 12,
    "start_time": "2022-05-24T16:40:49.626Z"
   },
   {
    "duration": 14,
    "start_time": "2022-05-24T16:40:49.639Z"
   },
   {
    "duration": 25,
    "start_time": "2022-05-24T16:40:49.655Z"
   },
   {
    "duration": 6,
    "start_time": "2022-05-24T16:40:49.681Z"
   },
   {
    "duration": 17,
    "start_time": "2022-05-24T16:40:49.688Z"
   },
   {
    "duration": 21,
    "start_time": "2022-05-24T16:40:49.707Z"
   },
   {
    "duration": 21,
    "start_time": "2022-05-24T16:40:49.753Z"
   },
   {
    "duration": 42,
    "start_time": "2022-05-24T16:40:49.775Z"
   },
   {
    "duration": 6,
    "start_time": "2022-05-24T16:41:02.158Z"
   },
   {
    "duration": 12,
    "start_time": "2022-05-24T16:41:03.883Z"
   },
   {
    "duration": 25,
    "start_time": "2022-05-24T16:41:17.401Z"
   },
   {
    "duration": 3,
    "start_time": "2022-05-24T16:41:43.889Z"
   },
   {
    "duration": 453,
    "start_time": "2022-05-24T16:41:43.893Z"
   },
   {
    "duration": 10,
    "start_time": "2022-05-24T16:41:44.348Z"
   },
   {
    "duration": 18,
    "start_time": "2022-05-24T16:41:44.360Z"
   },
   {
    "duration": 7,
    "start_time": "2022-05-24T16:41:44.380Z"
   },
   {
    "duration": 10,
    "start_time": "2022-05-24T16:41:44.389Z"
   },
   {
    "duration": 12,
    "start_time": "2022-05-24T16:41:44.401Z"
   },
   {
    "duration": 15,
    "start_time": "2022-05-24T16:41:44.414Z"
   },
   {
    "duration": 29,
    "start_time": "2022-05-24T16:41:44.431Z"
   },
   {
    "duration": 8,
    "start_time": "2022-05-24T16:41:44.461Z"
   },
   {
    "duration": 19,
    "start_time": "2022-05-24T16:41:44.471Z"
   },
   {
    "duration": 15,
    "start_time": "2022-05-24T16:41:44.492Z"
   },
   {
    "duration": 44,
    "start_time": "2022-05-24T16:41:44.508Z"
   },
   {
    "duration": 21,
    "start_time": "2022-05-24T16:41:44.554Z"
   },
   {
    "duration": 9,
    "start_time": "2022-05-24T16:41:44.576Z"
   },
   {
    "duration": 28,
    "start_time": "2022-05-24T16:41:44.586Z"
   },
   {
    "duration": 37,
    "start_time": "2022-05-24T16:41:44.615Z"
   },
   {
    "duration": 18,
    "start_time": "2022-05-24T16:41:44.654Z"
   },
   {
    "duration": 11,
    "start_time": "2022-05-24T16:41:44.673Z"
   },
   {
    "duration": 7,
    "start_time": "2022-05-24T16:41:44.685Z"
   },
   {
    "duration": 7,
    "start_time": "2022-05-24T16:41:44.694Z"
   },
   {
    "duration": 49,
    "start_time": "2022-05-24T16:41:44.703Z"
   },
   {
    "duration": 10,
    "start_time": "2022-05-24T16:41:44.754Z"
   },
   {
    "duration": 65,
    "start_time": "2022-05-24T16:41:44.766Z"
   },
   {
    "duration": 20,
    "start_time": "2022-05-24T16:41:44.833Z"
   },
   {
    "duration": 28,
    "start_time": "2022-05-24T16:41:44.854Z"
   },
   {
    "duration": 22,
    "start_time": "2022-05-24T16:41:44.884Z"
   },
   {
    "duration": 23,
    "start_time": "2022-05-24T16:41:44.908Z"
   },
   {
    "duration": 10,
    "start_time": "2022-05-24T16:41:44.955Z"
   },
   {
    "duration": 10,
    "start_time": "2022-05-24T16:41:44.967Z"
   },
   {
    "duration": 5,
    "start_time": "2022-05-24T16:41:44.979Z"
   },
   {
    "duration": 6,
    "start_time": "2022-05-24T16:41:44.985Z"
   },
   {
    "duration": 12,
    "start_time": "2022-05-24T16:41:44.992Z"
   },
   {
    "duration": 24,
    "start_time": "2022-05-24T16:41:45.006Z"
   },
   {
    "duration": 55,
    "start_time": "2022-05-24T16:41:45.032Z"
   },
   {
    "duration": 7,
    "start_time": "2022-05-24T16:41:45.089Z"
   },
   {
    "duration": 21,
    "start_time": "2022-05-24T16:41:45.097Z"
   },
   {
    "duration": 23,
    "start_time": "2022-05-24T16:41:45.120Z"
   },
   {
    "duration": 28,
    "start_time": "2022-05-24T16:41:45.144Z"
   },
   {
    "duration": 25,
    "start_time": "2022-05-24T16:41:45.174Z"
   },
   {
    "duration": 2,
    "start_time": "2022-05-24T16:42:11.680Z"
   },
   {
    "duration": 425,
    "start_time": "2022-05-24T16:42:11.684Z"
   },
   {
    "duration": 10,
    "start_time": "2022-05-24T16:42:12.111Z"
   },
   {
    "duration": 21,
    "start_time": "2022-05-24T16:42:12.124Z"
   },
   {
    "duration": 9,
    "start_time": "2022-05-24T16:42:12.147Z"
   },
   {
    "duration": 9,
    "start_time": "2022-05-24T16:42:12.157Z"
   },
   {
    "duration": 13,
    "start_time": "2022-05-24T16:42:12.168Z"
   },
   {
    "duration": 15,
    "start_time": "2022-05-24T16:42:12.182Z"
   },
   {
    "duration": 17,
    "start_time": "2022-05-24T16:42:12.200Z"
   },
   {
    "duration": 6,
    "start_time": "2022-05-24T16:42:12.219Z"
   },
   {
    "duration": 29,
    "start_time": "2022-05-24T16:42:12.227Z"
   },
   {
    "duration": 15,
    "start_time": "2022-05-24T16:42:12.257Z"
   },
   {
    "duration": 18,
    "start_time": "2022-05-24T16:42:12.273Z"
   },
   {
    "duration": 19,
    "start_time": "2022-05-24T16:42:12.293Z"
   },
   {
    "duration": 8,
    "start_time": "2022-05-24T16:42:12.314Z"
   },
   {
    "duration": 22,
    "start_time": "2022-05-24T16:42:12.352Z"
   },
   {
    "duration": 18,
    "start_time": "2022-05-24T16:42:12.376Z"
   },
   {
    "duration": 15,
    "start_time": "2022-05-24T16:42:12.396Z"
   },
   {
    "duration": 9,
    "start_time": "2022-05-24T16:42:12.413Z"
   },
   {
    "duration": 5,
    "start_time": "2022-05-24T16:42:12.452Z"
   },
   {
    "duration": 6,
    "start_time": "2022-05-24T16:42:12.459Z"
   },
   {
    "duration": 32,
    "start_time": "2022-05-24T16:42:12.467Z"
   },
   {
    "duration": 9,
    "start_time": "2022-05-24T16:42:12.501Z"
   },
   {
    "duration": 91,
    "start_time": "2022-05-24T16:42:12.513Z"
   },
   {
    "duration": 9,
    "start_time": "2022-05-24T16:42:12.606Z"
   },
   {
    "duration": 47,
    "start_time": "2022-05-24T16:42:12.617Z"
   },
   {
    "duration": 27,
    "start_time": "2022-05-24T16:42:12.666Z"
   },
   {
    "duration": 25,
    "start_time": "2022-05-24T16:42:12.694Z"
   },
   {
    "duration": 31,
    "start_time": "2022-05-24T16:42:12.721Z"
   },
   {
    "duration": 9,
    "start_time": "2022-05-24T16:42:12.754Z"
   },
   {
    "duration": 24,
    "start_time": "2022-05-24T16:42:12.765Z"
   },
   {
    "duration": 6,
    "start_time": "2022-05-24T16:42:12.791Z"
   },
   {
    "duration": 14,
    "start_time": "2022-05-24T16:42:12.798Z"
   },
   {
    "duration": 6,
    "start_time": "2022-05-24T16:42:12.814Z"
   },
   {
    "duration": 33,
    "start_time": "2022-05-24T16:42:12.821Z"
   },
   {
    "duration": 5,
    "start_time": "2022-05-24T16:42:12.856Z"
   },
   {
    "duration": 13,
    "start_time": "2022-05-24T16:42:12.863Z"
   },
   {
    "duration": 5,
    "start_time": "2022-05-24T16:42:12.878Z"
   },
   {
    "duration": 22,
    "start_time": "2022-05-24T16:42:12.884Z"
   },
   {
    "duration": 44,
    "start_time": "2022-05-24T16:42:12.907Z"
   },
   {
    "duration": 23,
    "start_time": "2022-05-24T16:47:51.483Z"
   },
   {
    "duration": 5,
    "start_time": "2022-05-24T17:04:34.921Z"
   },
   {
    "duration": 588,
    "start_time": "2022-05-24T17:05:18.343Z"
   },
   {
    "duration": 3,
    "start_time": "2022-05-24T17:06:14.815Z"
   },
   {
    "duration": 464,
    "start_time": "2022-05-24T17:06:14.821Z"
   },
   {
    "duration": 14,
    "start_time": "2022-05-24T17:06:15.287Z"
   },
   {
    "duration": 30,
    "start_time": "2022-05-24T17:06:15.302Z"
   },
   {
    "duration": 7,
    "start_time": "2022-05-24T17:06:15.335Z"
   },
   {
    "duration": 12,
    "start_time": "2022-05-24T17:06:15.344Z"
   },
   {
    "duration": 27,
    "start_time": "2022-05-24T17:06:15.360Z"
   },
   {
    "duration": 20,
    "start_time": "2022-05-24T17:06:15.389Z"
   },
   {
    "duration": 27,
    "start_time": "2022-05-24T17:06:15.410Z"
   },
   {
    "duration": 16,
    "start_time": "2022-05-24T17:06:15.439Z"
   },
   {
    "duration": 42,
    "start_time": "2022-05-24T17:06:15.459Z"
   },
   {
    "duration": 20,
    "start_time": "2022-05-24T17:06:15.503Z"
   },
   {
    "duration": 28,
    "start_time": "2022-05-24T17:06:15.525Z"
   },
   {
    "duration": 34,
    "start_time": "2022-05-24T17:06:15.555Z"
   },
   {
    "duration": 11,
    "start_time": "2022-05-24T17:06:15.591Z"
   },
   {
    "duration": 34,
    "start_time": "2022-05-24T17:06:15.605Z"
   },
   {
    "duration": 22,
    "start_time": "2022-05-24T17:06:15.663Z"
   },
   {
    "duration": 18,
    "start_time": "2022-05-24T17:06:15.687Z"
   },
   {
    "duration": 14,
    "start_time": "2022-05-24T17:06:15.707Z"
   },
   {
    "duration": 8,
    "start_time": "2022-05-24T17:06:15.723Z"
   },
   {
    "duration": 19,
    "start_time": "2022-05-24T17:06:15.734Z"
   },
   {
    "duration": 41,
    "start_time": "2022-05-24T17:06:15.759Z"
   },
   {
    "duration": 10,
    "start_time": "2022-05-24T17:06:15.802Z"
   },
   {
    "duration": 68,
    "start_time": "2022-05-24T17:06:15.813Z"
   },
   {
    "duration": 8,
    "start_time": "2022-05-24T17:06:15.883Z"
   },
   {
    "duration": 33,
    "start_time": "2022-05-24T17:06:15.893Z"
   },
   {
    "duration": 41,
    "start_time": "2022-05-24T17:06:15.928Z"
   },
   {
    "duration": 27,
    "start_time": "2022-05-24T17:06:15.971Z"
   },
   {
    "duration": 11,
    "start_time": "2022-05-24T17:06:16.001Z"
   },
   {
    "duration": 12,
    "start_time": "2022-05-24T17:06:16.014Z"
   },
   {
    "duration": 22,
    "start_time": "2022-05-24T17:06:16.052Z"
   },
   {
    "duration": 8,
    "start_time": "2022-05-24T17:06:16.076Z"
   },
   {
    "duration": 12,
    "start_time": "2022-05-24T17:06:16.085Z"
   },
   {
    "duration": 6,
    "start_time": "2022-05-24T17:06:16.098Z"
   },
   {
    "duration": 28,
    "start_time": "2022-05-24T17:06:16.106Z"
   },
   {
    "duration": 6,
    "start_time": "2022-05-24T17:06:16.136Z"
   },
   {
    "duration": 17,
    "start_time": "2022-05-24T17:06:16.144Z"
   },
   {
    "duration": 37,
    "start_time": "2022-05-24T17:06:16.170Z"
   },
   {
    "duration": 6,
    "start_time": "2022-05-24T17:06:16.209Z"
   },
   {
    "duration": 321,
    "start_time": "2022-05-24T17:06:16.217Z"
   },
   {
    "duration": 6,
    "start_time": "2022-05-24T17:07:25.298Z"
   },
   {
    "duration": 109,
    "start_time": "2022-05-24T17:07:44.225Z"
   },
   {
    "duration": 30,
    "start_time": "2022-05-24T17:07:48.544Z"
   },
   {
    "duration": 5,
    "start_time": "2022-05-24T17:08:52.920Z"
   },
   {
    "duration": 141,
    "start_time": "2022-05-24T17:08:55.039Z"
   },
   {
    "duration": 41,
    "start_time": "2022-05-24T17:08:56.673Z"
   },
   {
    "duration": 17,
    "start_time": "2022-05-24T17:09:23.511Z"
   },
   {
    "duration": 22,
    "start_time": "2022-05-24T17:10:04.622Z"
   },
   {
    "duration": 17,
    "start_time": "2022-05-24T17:10:09.408Z"
   },
   {
    "duration": 17,
    "start_time": "2022-05-24T17:18:58.219Z"
   },
   {
    "duration": 5,
    "start_time": "2022-05-24T17:21:31.756Z"
   },
   {
    "duration": 26,
    "start_time": "2022-05-24T17:21:38.509Z"
   },
   {
    "duration": 17,
    "start_time": "2022-05-24T17:22:10.319Z"
   },
   {
    "duration": 4,
    "start_time": "2022-05-24T17:28:17.858Z"
   },
   {
    "duration": 410,
    "start_time": "2022-05-24T17:28:17.864Z"
   },
   {
    "duration": 10,
    "start_time": "2022-05-24T17:28:18.277Z"
   },
   {
    "duration": 18,
    "start_time": "2022-05-24T17:28:18.290Z"
   },
   {
    "duration": 10,
    "start_time": "2022-05-24T17:28:18.310Z"
   },
   {
    "duration": 9,
    "start_time": "2022-05-24T17:28:18.322Z"
   },
   {
    "duration": 5,
    "start_time": "2022-05-24T17:28:18.333Z"
   },
   {
    "duration": 17,
    "start_time": "2022-05-24T17:28:18.339Z"
   },
   {
    "duration": 21,
    "start_time": "2022-05-24T17:28:18.358Z"
   },
   {
    "duration": 7,
    "start_time": "2022-05-24T17:28:18.381Z"
   },
   {
    "duration": 19,
    "start_time": "2022-05-24T17:28:18.391Z"
   },
   {
    "duration": 15,
    "start_time": "2022-05-24T17:28:18.412Z"
   },
   {
    "duration": 34,
    "start_time": "2022-05-24T17:28:18.428Z"
   },
   {
    "duration": 18,
    "start_time": "2022-05-24T17:28:18.464Z"
   },
   {
    "duration": 8,
    "start_time": "2022-05-24T17:28:18.484Z"
   },
   {
    "duration": 23,
    "start_time": "2022-05-24T17:28:18.493Z"
   },
   {
    "duration": 42,
    "start_time": "2022-05-24T17:28:18.518Z"
   },
   {
    "duration": 14,
    "start_time": "2022-05-24T17:28:18.562Z"
   },
   {
    "duration": 10,
    "start_time": "2022-05-24T17:28:18.578Z"
   },
   {
    "duration": 5,
    "start_time": "2022-05-24T17:28:18.590Z"
   },
   {
    "duration": 7,
    "start_time": "2022-05-24T17:28:18.596Z"
   },
   {
    "duration": 52,
    "start_time": "2022-05-24T17:28:18.604Z"
   },
   {
    "duration": 9,
    "start_time": "2022-05-24T17:28:18.658Z"
   },
   {
    "duration": 53,
    "start_time": "2022-05-24T17:28:18.669Z"
   },
   {
    "duration": 7,
    "start_time": "2022-05-24T17:28:18.724Z"
   },
   {
    "duration": 48,
    "start_time": "2022-05-24T17:28:18.732Z"
   },
   {
    "duration": 23,
    "start_time": "2022-05-24T17:28:18.781Z"
   },
   {
    "duration": 21,
    "start_time": "2022-05-24T17:28:18.806Z"
   },
   {
    "duration": 25,
    "start_time": "2022-05-24T17:28:18.830Z"
   },
   {
    "duration": 10,
    "start_time": "2022-05-24T17:28:18.857Z"
   },
   {
    "duration": 8,
    "start_time": "2022-05-24T17:28:18.868Z"
   },
   {
    "duration": 6,
    "start_time": "2022-05-24T17:28:18.878Z"
   },
   {
    "duration": 16,
    "start_time": "2022-05-24T17:28:18.886Z"
   },
   {
    "duration": 5,
    "start_time": "2022-05-24T17:28:18.903Z"
   },
   {
    "duration": 27,
    "start_time": "2022-05-24T17:28:18.909Z"
   },
   {
    "duration": 22,
    "start_time": "2022-05-24T17:28:18.938Z"
   },
   {
    "duration": 7,
    "start_time": "2022-05-24T17:28:18.961Z"
   },
   {
    "duration": 9,
    "start_time": "2022-05-24T17:28:18.969Z"
   },
   {
    "duration": 15,
    "start_time": "2022-05-24T17:28:18.980Z"
   },
   {
    "duration": 6,
    "start_time": "2022-05-24T17:28:18.996Z"
   },
   {
    "duration": 106,
    "start_time": "2022-05-24T17:28:19.003Z"
   },
   {
    "duration": 15,
    "start_time": "2022-05-24T17:28:19.111Z"
   },
   {
    "duration": 8,
    "start_time": "2022-05-24T17:28:19.128Z"
   },
   {
    "duration": 34,
    "start_time": "2022-05-24T17:28:19.138Z"
   },
   {
    "duration": 28,
    "start_time": "2022-05-24T18:32:24.443Z"
   },
   {
    "duration": 4,
    "start_time": "2022-05-24T18:33:16.525Z"
   },
   {
    "duration": 417,
    "start_time": "2022-05-24T18:33:16.531Z"
   },
   {
    "duration": 10,
    "start_time": "2022-05-24T18:33:16.950Z"
   },
   {
    "duration": 6,
    "start_time": "2022-05-24T18:33:16.961Z"
   },
   {
    "duration": 7,
    "start_time": "2022-05-24T18:33:16.969Z"
   },
   {
    "duration": 4,
    "start_time": "2022-05-24T18:33:16.978Z"
   },
   {
    "duration": 13,
    "start_time": "2022-05-24T18:33:16.984Z"
   },
   {
    "duration": 20,
    "start_time": "2022-05-24T18:33:16.998Z"
   },
   {
    "duration": 7,
    "start_time": "2022-05-24T18:33:17.019Z"
   },
   {
    "duration": 19,
    "start_time": "2022-05-24T18:33:17.052Z"
   },
   {
    "duration": 15,
    "start_time": "2022-05-24T18:33:17.073Z"
   },
   {
    "duration": 20,
    "start_time": "2022-05-24T18:33:17.090Z"
   },
   {
    "duration": 43,
    "start_time": "2022-05-24T18:33:17.111Z"
   },
   {
    "duration": 8,
    "start_time": "2022-05-24T18:33:17.156Z"
   },
   {
    "duration": 25,
    "start_time": "2022-05-24T18:33:17.166Z"
   },
   {
    "duration": 18,
    "start_time": "2022-05-24T18:33:17.193Z"
   },
   {
    "duration": 39,
    "start_time": "2022-05-24T18:33:17.213Z"
   },
   {
    "duration": 9,
    "start_time": "2022-05-24T18:33:17.254Z"
   },
   {
    "duration": 6,
    "start_time": "2022-05-24T18:33:17.265Z"
   },
   {
    "duration": 6,
    "start_time": "2022-05-24T18:33:17.272Z"
   },
   {
    "duration": 25,
    "start_time": "2022-05-24T18:33:17.279Z"
   },
   {
    "duration": 9,
    "start_time": "2022-05-24T18:33:17.305Z"
   },
   {
    "duration": 73,
    "start_time": "2022-05-24T18:33:17.315Z"
   },
   {
    "duration": 8,
    "start_time": "2022-05-24T18:33:17.390Z"
   },
   {
    "duration": 31,
    "start_time": "2022-05-24T18:33:17.399Z"
   },
   {
    "duration": 37,
    "start_time": "2022-05-24T18:33:17.432Z"
   },
   {
    "duration": 22,
    "start_time": "2022-05-24T18:33:17.471Z"
   },
   {
    "duration": 11,
    "start_time": "2022-05-24T18:33:17.495Z"
   },
   {
    "duration": 7,
    "start_time": "2022-05-24T18:33:17.511Z"
   },
   {
    "duration": 34,
    "start_time": "2022-05-24T18:33:17.520Z"
   },
   {
    "duration": 7,
    "start_time": "2022-05-24T18:33:17.556Z"
   },
   {
    "duration": 12,
    "start_time": "2022-05-24T18:33:17.564Z"
   },
   {
    "duration": 5,
    "start_time": "2022-05-24T18:33:17.578Z"
   },
   {
    "duration": 26,
    "start_time": "2022-05-24T18:33:17.584Z"
   },
   {
    "duration": 12,
    "start_time": "2022-05-24T18:33:17.611Z"
   },
   {
    "duration": 6,
    "start_time": "2022-05-24T18:33:17.624Z"
   },
   {
    "duration": 25,
    "start_time": "2022-05-24T18:33:17.631Z"
   },
   {
    "duration": 16,
    "start_time": "2022-05-24T18:33:17.658Z"
   },
   {
    "duration": 5,
    "start_time": "2022-05-24T18:33:17.676Z"
   },
   {
    "duration": 107,
    "start_time": "2022-05-24T18:33:17.682Z"
   },
   {
    "duration": 17,
    "start_time": "2022-05-24T18:33:17.791Z"
   },
   {
    "duration": 9,
    "start_time": "2022-05-24T18:33:17.809Z"
   },
   {
    "duration": 44,
    "start_time": "2022-05-24T18:33:17.819Z"
   },
   {
    "duration": 27,
    "start_time": "2022-05-24T18:33:17.865Z"
   },
   {
    "duration": 33,
    "start_time": "2022-05-24T18:33:54.106Z"
   },
   {
    "duration": 26,
    "start_time": "2022-05-24T18:36:08.348Z"
   },
   {
    "duration": 4,
    "start_time": "2022-05-24T18:36:48.061Z"
   },
   {
    "duration": 23,
    "start_time": "2022-05-24T18:36:59.499Z"
   },
   {
    "duration": 31,
    "start_time": "2022-05-24T18:37:35.564Z"
   },
   {
    "duration": 32,
    "start_time": "2022-05-24T18:42:52.569Z"
   },
   {
    "duration": 27,
    "start_time": "2022-05-24T18:43:07.909Z"
   },
   {
    "duration": 3,
    "start_time": "2022-05-24T18:43:21.344Z"
   },
   {
    "duration": 385,
    "start_time": "2022-05-24T18:43:21.349Z"
   },
   {
    "duration": 9,
    "start_time": "2022-05-24T18:43:21.736Z"
   },
   {
    "duration": 7,
    "start_time": "2022-05-24T18:43:21.747Z"
   },
   {
    "duration": 10,
    "start_time": "2022-05-24T18:43:21.755Z"
   },
   {
    "duration": 5,
    "start_time": "2022-05-24T18:43:21.767Z"
   },
   {
    "duration": 11,
    "start_time": "2022-05-24T18:43:21.774Z"
   },
   {
    "duration": 20,
    "start_time": "2022-05-24T18:43:21.786Z"
   },
   {
    "duration": 8,
    "start_time": "2022-05-24T18:43:21.808Z"
   },
   {
    "duration": 39,
    "start_time": "2022-05-24T18:43:21.818Z"
   },
   {
    "duration": 16,
    "start_time": "2022-05-24T18:43:21.859Z"
   },
   {
    "duration": 19,
    "start_time": "2022-05-24T18:43:21.876Z"
   },
   {
    "duration": 19,
    "start_time": "2022-05-24T18:43:21.896Z"
   },
   {
    "duration": 30,
    "start_time": "2022-05-24T18:43:21.923Z"
   },
   {
    "duration": 23,
    "start_time": "2022-05-24T18:43:21.955Z"
   },
   {
    "duration": 16,
    "start_time": "2022-05-24T18:43:21.980Z"
   },
   {
    "duration": 14,
    "start_time": "2022-05-24T18:43:21.997Z"
   },
   {
    "duration": 9,
    "start_time": "2022-05-24T18:43:22.013Z"
   },
   {
    "duration": 30,
    "start_time": "2022-05-24T18:43:22.024Z"
   },
   {
    "duration": 6,
    "start_time": "2022-05-24T18:43:22.056Z"
   },
   {
    "duration": 26,
    "start_time": "2022-05-24T18:43:22.064Z"
   },
   {
    "duration": 9,
    "start_time": "2022-05-24T18:43:22.091Z"
   },
   {
    "duration": 65,
    "start_time": "2022-05-24T18:43:22.102Z"
   },
   {
    "duration": 8,
    "start_time": "2022-05-24T18:43:22.169Z"
   },
   {
    "duration": 30,
    "start_time": "2022-05-24T18:43:22.179Z"
   },
   {
    "duration": 44,
    "start_time": "2022-05-24T18:43:22.211Z"
   },
   {
    "duration": 18,
    "start_time": "2022-05-24T18:43:22.257Z"
   },
   {
    "duration": 11,
    "start_time": "2022-05-24T18:43:22.277Z"
   },
   {
    "duration": 10,
    "start_time": "2022-05-24T18:43:22.289Z"
   },
   {
    "duration": 5,
    "start_time": "2022-05-24T18:43:22.301Z"
   },
   {
    "duration": 8,
    "start_time": "2022-05-24T18:43:22.307Z"
   },
   {
    "duration": 37,
    "start_time": "2022-05-24T18:43:22.316Z"
   },
   {
    "duration": 5,
    "start_time": "2022-05-24T18:43:22.354Z"
   },
   {
    "duration": 26,
    "start_time": "2022-05-24T18:43:22.361Z"
   },
   {
    "duration": 11,
    "start_time": "2022-05-24T18:43:22.388Z"
   },
   {
    "duration": 12,
    "start_time": "2022-05-24T18:43:22.401Z"
   },
   {
    "duration": 11,
    "start_time": "2022-05-24T18:43:22.415Z"
   },
   {
    "duration": 26,
    "start_time": "2022-05-24T18:43:22.427Z"
   },
   {
    "duration": 4,
    "start_time": "2022-05-24T18:43:22.454Z"
   },
   {
    "duration": 103,
    "start_time": "2022-05-24T18:43:22.459Z"
   },
   {
    "duration": 22,
    "start_time": "2022-05-24T18:43:22.567Z"
   },
   {
    "duration": 5,
    "start_time": "2022-05-24T18:43:22.591Z"
   },
   {
    "duration": 38,
    "start_time": "2022-05-24T18:43:22.597Z"
   },
   {
    "duration": 21,
    "start_time": "2022-05-24T18:43:22.637Z"
   },
   {
    "duration": 29,
    "start_time": "2022-05-24T18:43:22.660Z"
   },
   {
    "duration": 31,
    "start_time": "2022-05-24T18:43:22.691Z"
   },
   {
    "duration": 4,
    "start_time": "2022-05-24T18:44:15.534Z"
   },
   {
    "duration": 25,
    "start_time": "2022-05-24T18:44:22.313Z"
   },
   {
    "duration": 26,
    "start_time": "2022-05-24T18:46:10.998Z"
   },
   {
    "duration": 6,
    "start_time": "2022-05-24T18:46:57.690Z"
   },
   {
    "duration": 25,
    "start_time": "2022-05-24T18:49:51.328Z"
   },
   {
    "duration": 17,
    "start_time": "2022-05-24T18:49:58.813Z"
   },
   {
    "duration": 5,
    "start_time": "2022-05-24T18:51:06.367Z"
   },
   {
    "duration": 3,
    "start_time": "2022-05-24T18:53:30.219Z"
   },
   {
    "duration": 4,
    "start_time": "2022-05-24T18:53:35.187Z"
   },
   {
    "duration": 4,
    "start_time": "2022-05-24T18:53:42.696Z"
   },
   {
    "duration": 6,
    "start_time": "2022-05-24T18:53:52.193Z"
   },
   {
    "duration": 5,
    "start_time": "2022-05-24T18:54:34.338Z"
   },
   {
    "duration": 208,
    "start_time": "2022-05-24T18:57:26.385Z"
   },
   {
    "duration": 192,
    "start_time": "2022-05-24T18:57:41.087Z"
   },
   {
    "duration": 199,
    "start_time": "2022-05-24T18:57:50.110Z"
   },
   {
    "duration": 12,
    "start_time": "2022-05-24T18:58:03.296Z"
   },
   {
    "duration": 20,
    "start_time": "2022-05-24T18:58:08.231Z"
   },
   {
    "duration": 5,
    "start_time": "2022-05-24T19:05:55.910Z"
   },
   {
    "duration": 4,
    "start_time": "2022-05-24T19:07:15.275Z"
   },
   {
    "duration": 4,
    "start_time": "2022-05-24T19:07:20.617Z"
   },
   {
    "duration": 5,
    "start_time": "2022-05-24T19:07:53.874Z"
   },
   {
    "duration": 5,
    "start_time": "2022-05-24T19:07:59.050Z"
   },
   {
    "duration": 6,
    "start_time": "2022-05-24T19:08:10.688Z"
   },
   {
    "duration": 7,
    "start_time": "2022-05-24T19:10:15.100Z"
   },
   {
    "duration": 55,
    "start_time": "2022-05-24T19:12:19.643Z"
   },
   {
    "duration": 11,
    "start_time": "2022-05-24T19:12:33.826Z"
   },
   {
    "duration": 12,
    "start_time": "2022-05-24T19:12:45.208Z"
   },
   {
    "duration": 8,
    "start_time": "2022-05-24T19:12:52.376Z"
   },
   {
    "duration": 8,
    "start_time": "2022-05-24T19:13:09.248Z"
   },
   {
    "duration": 10,
    "start_time": "2022-05-24T19:13:10.828Z"
   },
   {
    "duration": 378,
    "start_time": "2022-05-24T19:18:35.765Z"
   },
   {
    "duration": 159,
    "start_time": "2022-05-24T19:18:53.535Z"
   },
   {
    "duration": 159,
    "start_time": "2022-05-24T19:19:09.705Z"
   },
   {
    "duration": 166,
    "start_time": "2022-05-24T19:19:16.109Z"
   },
   {
    "duration": 188,
    "start_time": "2022-05-24T19:19:22.553Z"
   },
   {
    "duration": 155,
    "start_time": "2022-05-24T19:20:03.139Z"
   },
   {
    "duration": 195,
    "start_time": "2022-05-24T19:20:55.085Z"
   },
   {
    "duration": 28,
    "start_time": "2022-05-24T19:21:27.433Z"
   },
   {
    "duration": 25,
    "start_time": "2022-05-24T19:21:57.755Z"
   },
   {
    "duration": 157,
    "start_time": "2022-05-24T19:22:20.507Z"
   },
   {
    "duration": 276,
    "start_time": "2022-05-24T19:22:58.139Z"
   },
   {
    "duration": 152,
    "start_time": "2022-05-24T19:23:09.297Z"
   },
   {
    "duration": 27,
    "start_time": "2022-05-24T19:23:24.850Z"
   },
   {
    "duration": 28,
    "start_time": "2022-05-24T19:23:34.858Z"
   },
   {
    "duration": 174,
    "start_time": "2022-05-24T19:24:12.070Z"
   },
   {
    "duration": 27,
    "start_time": "2022-05-24T19:24:28.045Z"
   },
   {
    "duration": 28,
    "start_time": "2022-05-24T19:24:40.843Z"
   },
   {
    "duration": 188,
    "start_time": "2022-05-24T19:25:34.205Z"
   },
   {
    "duration": 195,
    "start_time": "2022-05-24T19:26:09.608Z"
   },
   {
    "duration": 209,
    "start_time": "2022-05-24T19:28:16.260Z"
   },
   {
    "duration": 9,
    "start_time": "2022-05-24T19:28:19.742Z"
   },
   {
    "duration": 8,
    "start_time": "2022-05-24T19:28:23.822Z"
   },
   {
    "duration": 151,
    "start_time": "2022-05-24T19:28:52.928Z"
   },
   {
    "duration": 153,
    "start_time": "2022-05-24T19:29:12.206Z"
   },
   {
    "duration": 167,
    "start_time": "2022-05-24T19:30:01.697Z"
   },
   {
    "duration": 174,
    "start_time": "2022-05-24T19:32:39.454Z"
   },
   {
    "duration": 12,
    "start_time": "2022-05-24T20:09:24.152Z"
   },
   {
    "duration": 4,
    "start_time": "2022-05-24T20:09:53.445Z"
   },
   {
    "duration": 5,
    "start_time": "2022-05-24T20:10:01.236Z"
   },
   {
    "duration": 11,
    "start_time": "2022-05-24T20:10:34.101Z"
   },
   {
    "duration": 4,
    "start_time": "2022-05-24T20:10:52.451Z"
   },
   {
    "duration": 6,
    "start_time": "2022-05-24T20:11:27.669Z"
   },
   {
    "duration": 6,
    "start_time": "2022-05-24T20:11:35.412Z"
   },
   {
    "duration": 4,
    "start_time": "2022-05-24T20:11:43.675Z"
   },
   {
    "duration": 5,
    "start_time": "2022-05-24T20:11:46.332Z"
   },
   {
    "duration": 6,
    "start_time": "2022-05-24T20:12:16.514Z"
   },
   {
    "duration": 27,
    "start_time": "2022-05-24T20:13:21.976Z"
   },
   {
    "duration": 5,
    "start_time": "2022-05-24T20:13:49.267Z"
   },
   {
    "duration": 35,
    "start_time": "2022-05-24T20:13:54.454Z"
   },
   {
    "duration": 6,
    "start_time": "2022-05-24T20:14:39.666Z"
   },
   {
    "duration": 6,
    "start_time": "2022-05-24T20:15:10.672Z"
   },
   {
    "duration": 25,
    "start_time": "2022-05-24T20:15:14.613Z"
   },
   {
    "duration": 6,
    "start_time": "2022-05-24T20:16:41.788Z"
   },
   {
    "duration": 6,
    "start_time": "2022-05-24T20:23:44.768Z"
   },
   {
    "duration": 8,
    "start_time": "2022-05-24T20:24:12.650Z"
   },
   {
    "duration": 7,
    "start_time": "2022-05-24T20:26:52.283Z"
   },
   {
    "duration": 11,
    "start_time": "2022-05-24T20:49:45.051Z"
   },
   {
    "duration": 5,
    "start_time": "2022-05-24T20:50:03.209Z"
   },
   {
    "duration": 436,
    "start_time": "2022-05-24T20:50:03.217Z"
   },
   {
    "duration": 11,
    "start_time": "2022-05-24T20:50:03.655Z"
   },
   {
    "duration": 18,
    "start_time": "2022-05-24T20:50:03.668Z"
   },
   {
    "duration": 7,
    "start_time": "2022-05-24T20:50:03.688Z"
   },
   {
    "duration": 8,
    "start_time": "2022-05-24T20:50:03.696Z"
   },
   {
    "duration": 6,
    "start_time": "2022-05-24T20:50:03.706Z"
   },
   {
    "duration": 40,
    "start_time": "2022-05-24T20:50:03.714Z"
   },
   {
    "duration": 19,
    "start_time": "2022-05-24T20:50:03.758Z"
   },
   {
    "duration": 8,
    "start_time": "2022-05-24T20:50:03.780Z"
   },
   {
    "duration": 22,
    "start_time": "2022-05-24T20:50:03.790Z"
   },
   {
    "duration": 49,
    "start_time": "2022-05-24T20:50:03.813Z"
   },
   {
    "duration": 19,
    "start_time": "2022-05-24T20:50:03.864Z"
   },
   {
    "duration": 21,
    "start_time": "2022-05-24T20:50:03.885Z"
   },
   {
    "duration": 45,
    "start_time": "2022-05-24T20:50:03.908Z"
   },
   {
    "duration": 25,
    "start_time": "2022-05-24T20:50:03.956Z"
   },
   {
    "duration": 19,
    "start_time": "2022-05-24T20:50:03.983Z"
   },
   {
    "duration": 16,
    "start_time": "2022-05-24T20:50:04.004Z"
   },
   {
    "duration": 39,
    "start_time": "2022-05-24T20:50:04.022Z"
   },
   {
    "duration": 5,
    "start_time": "2022-05-24T20:50:04.064Z"
   },
   {
    "duration": 10,
    "start_time": "2022-05-24T20:50:04.070Z"
   },
   {
    "duration": 27,
    "start_time": "2022-05-24T20:50:04.081Z"
   },
   {
    "duration": 44,
    "start_time": "2022-05-24T20:50:04.110Z"
   },
   {
    "duration": 54,
    "start_time": "2022-05-24T20:50:04.160Z"
   },
   {
    "duration": 8,
    "start_time": "2022-05-24T20:50:04.216Z"
   },
   {
    "duration": 62,
    "start_time": "2022-05-24T20:50:04.226Z"
   },
   {
    "duration": 23,
    "start_time": "2022-05-24T20:50:04.290Z"
   },
   {
    "duration": 41,
    "start_time": "2022-05-24T20:50:04.315Z"
   },
   {
    "duration": 10,
    "start_time": "2022-05-24T20:50:04.358Z"
   },
   {
    "duration": 9,
    "start_time": "2022-05-24T20:50:04.370Z"
   },
   {
    "duration": 5,
    "start_time": "2022-05-24T20:50:04.381Z"
   },
   {
    "duration": 6,
    "start_time": "2022-05-24T20:50:04.388Z"
   },
   {
    "duration": 13,
    "start_time": "2022-05-24T20:50:04.396Z"
   },
   {
    "duration": 4,
    "start_time": "2022-05-24T20:50:04.452Z"
   },
   {
    "duration": 29,
    "start_time": "2022-05-24T20:50:04.458Z"
   },
   {
    "duration": 12,
    "start_time": "2022-05-24T20:50:04.489Z"
   },
   {
    "duration": 15,
    "start_time": "2022-05-24T20:50:04.504Z"
   },
   {
    "duration": 37,
    "start_time": "2022-05-24T20:50:04.521Z"
   },
   {
    "duration": 23,
    "start_time": "2022-05-24T20:50:04.560Z"
   },
   {
    "duration": 9,
    "start_time": "2022-05-24T20:50:04.585Z"
   },
   {
    "duration": 106,
    "start_time": "2022-05-24T20:50:04.595Z"
   },
   {
    "duration": 17,
    "start_time": "2022-05-24T20:50:04.703Z"
   },
   {
    "duration": 6,
    "start_time": "2022-05-24T20:50:04.722Z"
   },
   {
    "duration": 47,
    "start_time": "2022-05-24T20:50:04.730Z"
   },
   {
    "duration": 7,
    "start_time": "2022-05-24T20:50:04.779Z"
   },
   {
    "duration": 15,
    "start_time": "2022-05-24T20:50:04.788Z"
   },
   {
    "duration": 20,
    "start_time": "2022-05-24T20:50:04.805Z"
   },
   {
    "duration": 202,
    "start_time": "2022-05-24T20:50:04.827Z"
   },
   {
    "duration": 335,
    "start_time": "2022-05-24T20:50:05.031Z"
   },
   {
    "duration": 419,
    "start_time": "2022-05-24T20:50:05.368Z"
   },
   {
    "duration": 67,
    "start_time": "2022-05-24T20:50:05.789Z"
   },
   {
    "duration": 11,
    "start_time": "2022-05-24T20:50:05.858Z"
   },
   {
    "duration": 689,
    "start_time": "2022-05-24T20:50:05.871Z"
   },
   {
    "duration": 313,
    "start_time": "2022-05-24T20:50:06.563Z"
   },
   {
    "duration": 321,
    "start_time": "2022-05-24T20:50:06.878Z"
   },
   {
    "duration": 7,
    "start_time": "2022-05-24T20:50:07.201Z"
   },
   {
    "duration": 44,
    "start_time": "2022-05-24T20:50:07.210Z"
   },
   {
    "duration": 9,
    "start_time": "2022-05-24T20:50:07.256Z"
   },
   {
    "duration": 10,
    "start_time": "2022-05-24T20:50:07.267Z"
   },
   {
    "duration": 6,
    "start_time": "2022-05-24T20:50:07.279Z"
   },
   {
    "duration": 27,
    "start_time": "2022-05-24T20:53:20.953Z"
   },
   {
    "duration": 14,
    "start_time": "2022-05-24T20:53:32.363Z"
   },
   {
    "duration": 11,
    "start_time": "2022-05-24T20:53:42.344Z"
   },
   {
    "duration": 16,
    "start_time": "2022-05-24T21:11:26.785Z"
   },
   {
    "duration": 8,
    "start_time": "2022-05-24T21:11:36.054Z"
   },
   {
    "duration": 7,
    "start_time": "2022-05-24T21:11:46.105Z"
   },
   {
    "duration": 11,
    "start_time": "2022-05-24T21:12:34.160Z"
   },
   {
    "duration": 19,
    "start_time": "2022-05-24T21:19:17.177Z"
   },
   {
    "duration": 9,
    "start_time": "2022-05-24T21:19:23.562Z"
   },
   {
    "duration": 181,
    "start_time": "2022-05-24T21:23:21.551Z"
   },
   {
    "duration": 4,
    "start_time": "2022-05-24T21:23:36.355Z"
   },
   {
    "duration": 927,
    "start_time": "2022-05-24T21:23:36.361Z"
   },
   {
    "duration": 11,
    "start_time": "2022-05-24T21:23:37.290Z"
   },
   {
    "duration": 23,
    "start_time": "2022-05-24T21:23:37.303Z"
   },
   {
    "duration": 7,
    "start_time": "2022-05-24T21:23:37.330Z"
   },
   {
    "duration": 15,
    "start_time": "2022-05-24T21:23:37.338Z"
   },
   {
    "duration": 10,
    "start_time": "2022-05-24T21:23:37.355Z"
   },
   {
    "duration": 17,
    "start_time": "2022-05-24T21:23:37.366Z"
   },
   {
    "duration": 20,
    "start_time": "2022-05-24T21:23:37.385Z"
   },
   {
    "duration": 8,
    "start_time": "2022-05-24T21:23:37.407Z"
   },
   {
    "duration": 42,
    "start_time": "2022-05-24T21:23:37.416Z"
   },
   {
    "duration": 15,
    "start_time": "2022-05-24T21:23:37.459Z"
   },
   {
    "duration": 17,
    "start_time": "2022-05-24T21:23:37.475Z"
   },
   {
    "duration": 6,
    "start_time": "2022-05-24T21:23:37.495Z"
   },
   {
    "duration": 49,
    "start_time": "2022-05-24T21:23:37.503Z"
   },
   {
    "duration": 9,
    "start_time": "2022-05-24T21:23:37.553Z"
   },
   {
    "duration": 29,
    "start_time": "2022-05-24T21:23:37.564Z"
   },
   {
    "duration": 17,
    "start_time": "2022-05-24T21:23:37.594Z"
   },
   {
    "duration": 14,
    "start_time": "2022-05-24T21:23:37.612Z"
   },
   {
    "duration": 33,
    "start_time": "2022-05-24T21:23:37.627Z"
   },
   {
    "duration": 7,
    "start_time": "2022-05-24T21:23:37.662Z"
   },
   {
    "duration": 9,
    "start_time": "2022-05-24T21:23:37.671Z"
   },
   {
    "duration": 29,
    "start_time": "2022-05-24T21:23:37.681Z"
   },
   {
    "duration": 8,
    "start_time": "2022-05-24T21:23:37.712Z"
   },
   {
    "duration": 73,
    "start_time": "2022-05-24T21:23:37.721Z"
   },
   {
    "duration": 8,
    "start_time": "2022-05-24T21:23:37.796Z"
   },
   {
    "duration": 47,
    "start_time": "2022-05-24T21:23:37.805Z"
   },
   {
    "duration": 21,
    "start_time": "2022-05-24T21:23:37.854Z"
   },
   {
    "duration": 18,
    "start_time": "2022-05-24T21:23:37.877Z"
   },
   {
    "duration": 11,
    "start_time": "2022-05-24T21:23:37.896Z"
   },
   {
    "duration": 7,
    "start_time": "2022-05-24T21:23:37.909Z"
   },
   {
    "duration": 3,
    "start_time": "2022-05-24T21:23:37.956Z"
   },
   {
    "duration": 7,
    "start_time": "2022-05-24T21:23:37.961Z"
   },
   {
    "duration": 10,
    "start_time": "2022-05-24T21:23:37.970Z"
   },
   {
    "duration": 22,
    "start_time": "2022-05-24T21:23:37.982Z"
   },
   {
    "duration": 14,
    "start_time": "2022-05-24T21:23:38.006Z"
   },
   {
    "duration": 8,
    "start_time": "2022-05-24T21:23:38.052Z"
   },
   {
    "duration": 9,
    "start_time": "2022-05-24T21:23:38.061Z"
   },
   {
    "duration": 17,
    "start_time": "2022-05-24T21:23:38.071Z"
   },
   {
    "duration": 8,
    "start_time": "2022-05-24T21:23:38.090Z"
   },
   {
    "duration": 124,
    "start_time": "2022-05-24T21:23:38.103Z"
   },
   {
    "duration": 24,
    "start_time": "2022-05-24T21:23:38.229Z"
   },
   {
    "duration": 6,
    "start_time": "2022-05-24T21:23:38.256Z"
   },
   {
    "duration": 29,
    "start_time": "2022-05-24T21:23:38.264Z"
   },
   {
    "duration": 8,
    "start_time": "2022-05-24T21:23:38.295Z"
   },
   {
    "duration": 10,
    "start_time": "2022-05-24T21:23:38.305Z"
   },
   {
    "duration": 41,
    "start_time": "2022-05-24T21:23:38.317Z"
   },
   {
    "duration": 169,
    "start_time": "2022-05-24T21:23:38.360Z"
   },
   {
    "duration": 195,
    "start_time": "2022-05-24T21:23:38.530Z"
   },
   {
    "duration": 208,
    "start_time": "2022-05-24T21:23:38.727Z"
   },
   {
    "duration": 23,
    "start_time": "2022-05-24T21:23:38.937Z"
   },
   {
    "duration": 11,
    "start_time": "2022-05-24T21:23:38.962Z"
   },
   {
    "duration": 178,
    "start_time": "2022-05-24T21:23:38.975Z"
   },
   {
    "duration": 160,
    "start_time": "2022-05-24T21:23:39.154Z"
   },
   {
    "duration": 178,
    "start_time": "2022-05-24T21:23:39.315Z"
   },
   {
    "duration": 187,
    "start_time": "2022-05-24T21:23:39.496Z"
   },
   {
    "duration": 0,
    "start_time": "2022-05-24T21:23:39.685Z"
   },
   {
    "duration": 0,
    "start_time": "2022-05-24T21:23:39.686Z"
   },
   {
    "duration": 0,
    "start_time": "2022-05-24T21:23:39.687Z"
   },
   {
    "duration": 0,
    "start_time": "2022-05-24T21:23:39.688Z"
   },
   {
    "duration": 0,
    "start_time": "2022-05-24T21:23:39.689Z"
   },
   {
    "duration": 25,
    "start_time": "2022-05-24T21:24:10.029Z"
   },
   {
    "duration": 185,
    "start_time": "2022-05-24T21:24:38.472Z"
   },
   {
    "duration": 312,
    "start_time": "2022-05-24T21:25:06.349Z"
   },
   {
    "duration": 307,
    "start_time": "2022-05-24T21:25:59.037Z"
   },
   {
    "duration": 298,
    "start_time": "2022-05-24T21:26:39.950Z"
   },
   {
    "duration": 516,
    "start_time": "2022-05-24T21:26:52.464Z"
   },
   {
    "duration": 331,
    "start_time": "2022-05-24T21:27:14.438Z"
   },
   {
    "duration": 24,
    "start_time": "2022-05-24T21:28:18.790Z"
   },
   {
    "duration": 342,
    "start_time": "2022-05-24T21:28:28.844Z"
   },
   {
    "duration": 368,
    "start_time": "2022-05-24T21:30:21.262Z"
   },
   {
    "duration": 378,
    "start_time": "2022-05-24T21:31:25.695Z"
   },
   {
    "duration": 392,
    "start_time": "2022-05-24T21:32:35.705Z"
   },
   {
    "duration": 347,
    "start_time": "2022-05-24T21:33:40.641Z"
   },
   {
    "duration": 376,
    "start_time": "2022-05-24T21:36:38.601Z"
   },
   {
    "duration": 426,
    "start_time": "2022-05-24T21:38:38.341Z"
   },
   {
    "duration": 43,
    "start_time": "2022-05-24T21:40:21.807Z"
   },
   {
    "duration": 8,
    "start_time": "2022-05-24T21:40:30.172Z"
   },
   {
    "duration": 7,
    "start_time": "2022-05-24T21:41:02.021Z"
   },
   {
    "duration": 8,
    "start_time": "2022-05-24T21:42:14.549Z"
   },
   {
    "duration": 354,
    "start_time": "2022-05-24T21:42:41.873Z"
   },
   {
    "duration": 25,
    "start_time": "2022-05-24T21:43:44.762Z"
   },
   {
    "duration": 24,
    "start_time": "2022-05-24T21:45:07.874Z"
   },
   {
    "duration": 28,
    "start_time": "2022-05-24T21:50:01.219Z"
   },
   {
    "duration": 33,
    "start_time": "2022-05-24T21:50:30.008Z"
   },
   {
    "duration": 6,
    "start_time": "2022-05-24T21:50:41.034Z"
   },
   {
    "duration": 8,
    "start_time": "2022-05-24T21:53:55.233Z"
   },
   {
    "duration": 328,
    "start_time": "2022-05-24T21:57:25.468Z"
   },
   {
    "duration": 7,
    "start_time": "2022-05-24T22:01:51.085Z"
   },
   {
    "duration": 6,
    "start_time": "2022-05-24T22:02:03.178Z"
   },
   {
    "duration": 344,
    "start_time": "2022-05-24T22:05:46.294Z"
   },
   {
    "duration": 351,
    "start_time": "2022-05-24T22:05:53.864Z"
   },
   {
    "duration": 10026,
    "start_time": "2022-05-24T22:15:13.026Z"
   },
   {
    "duration": 25,
    "start_time": "2022-05-24T22:15:23.053Z"
   },
   {
    "duration": 108,
    "start_time": "2022-05-24T22:15:41.900Z"
   },
   {
    "duration": 10,
    "start_time": "2022-05-24T22:16:24.526Z"
   },
   {
    "duration": 5,
    "start_time": "2022-05-24T22:16:30.900Z"
   },
   {
    "duration": 4,
    "start_time": "2022-05-24T22:16:46.349Z"
   },
   {
    "duration": 6,
    "start_time": "2022-05-24T22:19:14.622Z"
   },
   {
    "duration": 4,
    "start_time": "2022-05-24T22:19:29.475Z"
   },
   {
    "duration": 12459,
    "start_time": "2022-05-24T22:21:28.954Z"
   },
   {
    "duration": 5,
    "start_time": "2022-05-24T22:31:56.555Z"
   },
   {
    "duration": 4,
    "start_time": "2022-05-24T22:32:05.794Z"
   },
   {
    "duration": 7,
    "start_time": "2022-05-24T22:32:29.789Z"
   },
   {
    "duration": 6,
    "start_time": "2022-05-24T22:33:20.585Z"
   },
   {
    "duration": 7,
    "start_time": "2022-05-24T22:35:01.532Z"
   },
   {
    "duration": 6,
    "start_time": "2022-05-24T22:35:03.212Z"
   },
   {
    "duration": 5,
    "start_time": "2022-05-24T22:35:04.847Z"
   },
   {
    "duration": 5,
    "start_time": "2022-05-24T22:37:22.358Z"
   },
   {
    "duration": 5,
    "start_time": "2022-05-24T22:37:26.526Z"
   },
   {
    "duration": 262,
    "start_time": "2022-05-24T22:40:22.942Z"
   },
   {
    "duration": 71,
    "start_time": "2022-05-24T22:41:02.329Z"
   },
   {
    "duration": 69,
    "start_time": "2022-05-24T22:41:49.440Z"
   },
   {
    "duration": 66,
    "start_time": "2022-05-24T22:42:41.707Z"
   },
   {
    "duration": 80,
    "start_time": "2022-05-24T22:43:23.091Z"
   },
   {
    "duration": 80,
    "start_time": "2022-05-24T22:45:11.891Z"
   },
   {
    "duration": 85,
    "start_time": "2022-05-24T22:45:49.051Z"
   },
   {
    "duration": 75,
    "start_time": "2022-05-24T22:46:04.888Z"
   },
   {
    "duration": 94,
    "start_time": "2022-05-24T22:46:08.357Z"
   },
   {
    "duration": 5,
    "start_time": "2022-05-24T22:51:07.718Z"
   },
   {
    "duration": 346,
    "start_time": "2022-05-24T22:56:01.936Z"
   },
   {
    "duration": 343,
    "start_time": "2022-05-24T23:17:56.545Z"
   },
   {
    "duration": 324,
    "start_time": "2022-05-24T23:18:18.555Z"
   },
   {
    "duration": 1056,
    "start_time": "2022-05-24T23:30:45.683Z"
   },
   {
    "duration": 385,
    "start_time": "2022-05-24T23:30:46.741Z"
   },
   {
    "duration": 13,
    "start_time": "2022-05-24T23:30:47.128Z"
   },
   {
    "duration": 12,
    "start_time": "2022-05-24T23:30:47.144Z"
   },
   {
    "duration": 5,
    "start_time": "2022-05-24T23:30:47.158Z"
   },
   {
    "duration": 6,
    "start_time": "2022-05-24T23:30:47.165Z"
   },
   {
    "duration": 4,
    "start_time": "2022-05-24T23:30:47.173Z"
   },
   {
    "duration": 13,
    "start_time": "2022-05-24T23:30:47.178Z"
   },
   {
    "duration": 19,
    "start_time": "2022-05-24T23:30:47.192Z"
   },
   {
    "duration": 44,
    "start_time": "2022-05-24T23:30:47.214Z"
   },
   {
    "duration": 24,
    "start_time": "2022-05-24T23:30:47.260Z"
   },
   {
    "duration": 15,
    "start_time": "2022-05-24T23:30:47.285Z"
   },
   {
    "duration": 22,
    "start_time": "2022-05-24T23:30:47.301Z"
   },
   {
    "duration": 32,
    "start_time": "2022-05-24T23:30:47.325Z"
   },
   {
    "duration": 20,
    "start_time": "2022-05-24T23:30:47.359Z"
   },
   {
    "duration": 8,
    "start_time": "2022-05-24T23:30:47.380Z"
   },
   {
    "duration": 25,
    "start_time": "2022-05-24T23:30:47.390Z"
   },
   {
    "duration": 47,
    "start_time": "2022-05-24T23:30:47.416Z"
   },
   {
    "duration": 24,
    "start_time": "2022-05-24T23:30:47.464Z"
   },
   {
    "duration": 10,
    "start_time": "2022-05-24T23:30:47.489Z"
   },
   {
    "duration": 6,
    "start_time": "2022-05-24T23:30:47.500Z"
   },
   {
    "duration": 6,
    "start_time": "2022-05-24T23:30:47.508Z"
   },
   {
    "duration": 45,
    "start_time": "2022-05-24T23:30:47.515Z"
   },
   {
    "duration": 7,
    "start_time": "2022-05-24T23:30:47.561Z"
   },
   {
    "duration": 54,
    "start_time": "2022-05-24T23:30:47.569Z"
   },
   {
    "duration": 29,
    "start_time": "2022-05-24T23:30:47.624Z"
   },
   {
    "duration": 31,
    "start_time": "2022-05-24T23:30:47.655Z"
   },
   {
    "duration": 22,
    "start_time": "2022-05-24T23:30:47.689Z"
   },
   {
    "duration": 50,
    "start_time": "2022-05-24T23:30:47.713Z"
   },
   {
    "duration": 9,
    "start_time": "2022-05-24T23:30:47.765Z"
   },
   {
    "duration": 10,
    "start_time": "2022-05-24T23:30:47.776Z"
   },
   {
    "duration": 5,
    "start_time": "2022-05-24T23:30:47.787Z"
   },
   {
    "duration": 6,
    "start_time": "2022-05-24T23:30:47.793Z"
   },
   {
    "duration": 11,
    "start_time": "2022-05-24T23:30:47.801Z"
   },
   {
    "duration": 48,
    "start_time": "2022-05-24T23:30:47.814Z"
   },
   {
    "duration": 11,
    "start_time": "2022-05-24T23:30:47.863Z"
   },
   {
    "duration": 6,
    "start_time": "2022-05-24T23:30:47.875Z"
   },
   {
    "duration": 5,
    "start_time": "2022-05-24T23:30:47.883Z"
   },
   {
    "duration": 16,
    "start_time": "2022-05-24T23:30:47.889Z"
   },
   {
    "duration": 10,
    "start_time": "2022-05-24T23:30:47.907Z"
   },
   {
    "duration": 113,
    "start_time": "2022-05-24T23:30:47.919Z"
   },
   {
    "duration": 20,
    "start_time": "2022-05-24T23:30:48.034Z"
   },
   {
    "duration": 5,
    "start_time": "2022-05-24T23:30:48.056Z"
   },
   {
    "duration": 26,
    "start_time": "2022-05-24T23:30:48.062Z"
   },
   {
    "duration": 8,
    "start_time": "2022-05-24T23:30:48.089Z"
   },
   {
    "duration": 7,
    "start_time": "2022-05-24T23:30:48.098Z"
   },
   {
    "duration": 49,
    "start_time": "2022-05-24T23:30:48.107Z"
   },
   {
    "duration": 410,
    "start_time": "2022-05-24T23:30:48.157Z"
   },
   {
    "duration": 7,
    "start_time": "2022-05-24T23:30:48.569Z"
   },
   {
    "duration": 397,
    "start_time": "2022-05-24T23:30:48.577Z"
   },
   {
    "duration": 7,
    "start_time": "2022-05-24T23:30:48.975Z"
   },
   {
    "duration": 11,
    "start_time": "2022-05-24T23:30:48.984Z"
   },
   {
    "duration": 367,
    "start_time": "2022-05-24T23:30:48.996Z"
   },
   {
    "duration": 7,
    "start_time": "2022-05-24T23:30:49.365Z"
   },
   {
    "duration": 10,
    "start_time": "2022-05-24T23:30:49.373Z"
   },
   {
    "duration": 10,
    "start_time": "2022-05-24T23:30:49.384Z"
   },
   {
    "duration": 387,
    "start_time": "2022-05-24T23:30:49.396Z"
   },
   {
    "duration": 392,
    "start_time": "2022-05-24T23:30:49.784Z"
   },
   {
    "duration": 7,
    "start_time": "2022-05-24T23:30:50.177Z"
   },
   {
    "duration": 350,
    "start_time": "2022-05-24T23:30:50.186Z"
   },
   {
    "duration": 84,
    "start_time": "2022-05-24T23:30:50.538Z"
   },
   {
    "duration": 95,
    "start_time": "2022-05-24T23:30:50.624Z"
   },
   {
    "duration": 339,
    "start_time": "2022-05-24T23:30:50.721Z"
   },
   {
    "duration": 4,
    "start_time": "2022-05-24T23:30:51.062Z"
   },
   {
    "duration": 7,
    "start_time": "2022-05-24T23:30:51.068Z"
   },
   {
    "duration": 7,
    "start_time": "2022-05-24T23:30:51.076Z"
   },
   {
    "duration": 6,
    "start_time": "2022-05-24T23:30:51.084Z"
   },
   {
    "duration": 1261,
    "start_time": "2022-05-25T08:17:28.353Z"
   },
   {
    "duration": 393,
    "start_time": "2022-05-25T08:17:29.616Z"
   },
   {
    "duration": 14,
    "start_time": "2022-05-25T08:17:30.011Z"
   },
   {
    "duration": 17,
    "start_time": "2022-05-25T08:17:30.028Z"
   },
   {
    "duration": 11,
    "start_time": "2022-05-25T08:17:30.047Z"
   },
   {
    "duration": 29,
    "start_time": "2022-05-25T08:17:30.059Z"
   },
   {
    "duration": 29,
    "start_time": "2022-05-25T08:17:30.090Z"
   },
   {
    "duration": 48,
    "start_time": "2022-05-25T08:17:30.121Z"
   },
   {
    "duration": 29,
    "start_time": "2022-05-25T08:17:30.170Z"
   },
   {
    "duration": 8,
    "start_time": "2022-05-25T08:17:30.202Z"
   },
   {
    "duration": 41,
    "start_time": "2022-05-25T08:17:30.211Z"
   },
   {
    "duration": 20,
    "start_time": "2022-05-25T08:17:30.253Z"
   },
   {
    "duration": 26,
    "start_time": "2022-05-25T08:17:30.275Z"
   },
   {
    "duration": 6,
    "start_time": "2022-05-25T08:17:30.303Z"
   },
   {
    "duration": 39,
    "start_time": "2022-05-25T08:17:30.310Z"
   },
   {
    "duration": 22,
    "start_time": "2022-05-25T08:17:30.351Z"
   },
   {
    "duration": 38,
    "start_time": "2022-05-25T08:17:30.375Z"
   },
   {
    "duration": 19,
    "start_time": "2022-05-25T08:17:30.415Z"
   },
   {
    "duration": 36,
    "start_time": "2022-05-25T08:17:30.435Z"
   },
   {
    "duration": 12,
    "start_time": "2022-05-25T08:17:30.472Z"
   },
   {
    "duration": 41,
    "start_time": "2022-05-25T08:17:30.485Z"
   },
   {
    "duration": 32,
    "start_time": "2022-05-25T08:17:30.528Z"
   },
   {
    "duration": 45,
    "start_time": "2022-05-25T08:17:30.562Z"
   },
   {
    "duration": 12,
    "start_time": "2022-05-25T08:17:30.608Z"
   },
   {
    "duration": 77,
    "start_time": "2022-05-25T08:17:30.621Z"
   },
   {
    "duration": 8,
    "start_time": "2022-05-25T08:17:30.700Z"
   },
   {
    "duration": 65,
    "start_time": "2022-05-25T08:17:30.710Z"
   },
   {
    "duration": 23,
    "start_time": "2022-05-25T08:17:30.779Z"
   },
   {
    "duration": 22,
    "start_time": "2022-05-25T08:17:30.804Z"
   },
   {
    "duration": 28,
    "start_time": "2022-05-25T08:17:30.828Z"
   },
   {
    "duration": 34,
    "start_time": "2022-05-25T08:17:30.857Z"
   },
   {
    "duration": 33,
    "start_time": "2022-05-25T08:17:30.893Z"
   },
   {
    "duration": 23,
    "start_time": "2022-05-25T08:17:30.927Z"
   },
   {
    "duration": 32,
    "start_time": "2022-05-25T08:17:30.952Z"
   },
   {
    "duration": 43,
    "start_time": "2022-05-25T08:17:30.986Z"
   },
   {
    "duration": 22,
    "start_time": "2022-05-25T08:17:36.843Z"
   },
   {
    "duration": 5,
    "start_time": "2022-05-25T08:18:04.237Z"
   },
   {
    "duration": 126,
    "start_time": "2022-05-25T08:19:51.323Z"
   },
   {
    "duration": 23,
    "start_time": "2022-05-25T08:20:18.436Z"
   },
   {
    "duration": 13,
    "start_time": "2022-05-25T08:20:26.173Z"
   },
   {
    "duration": 33,
    "start_time": "2022-05-25T08:21:01.869Z"
   },
   {
    "duration": 12,
    "start_time": "2022-05-25T08:21:03.056Z"
   },
   {
    "duration": 5,
    "start_time": "2022-05-25T08:22:37.236Z"
   },
   {
    "duration": 459,
    "start_time": "2022-05-25T08:22:37.243Z"
   },
   {
    "duration": 10,
    "start_time": "2022-05-25T08:22:37.704Z"
   },
   {
    "duration": 14,
    "start_time": "2022-05-25T08:22:37.716Z"
   },
   {
    "duration": 13,
    "start_time": "2022-05-25T08:22:37.734Z"
   },
   {
    "duration": 6,
    "start_time": "2022-05-25T08:22:37.749Z"
   },
   {
    "duration": 5,
    "start_time": "2022-05-25T08:22:37.757Z"
   },
   {
    "duration": 11,
    "start_time": "2022-05-25T08:22:37.763Z"
   },
   {
    "duration": 18,
    "start_time": "2022-05-25T08:22:37.777Z"
   },
   {
    "duration": 9,
    "start_time": "2022-05-25T08:22:37.797Z"
   },
   {
    "duration": 28,
    "start_time": "2022-05-25T08:22:37.824Z"
   },
   {
    "duration": 14,
    "start_time": "2022-05-25T08:22:37.854Z"
   },
   {
    "duration": 19,
    "start_time": "2022-05-25T08:22:37.869Z"
   },
   {
    "duration": 7,
    "start_time": "2022-05-25T08:22:37.890Z"
   },
   {
    "duration": 55,
    "start_time": "2022-05-25T08:22:37.899Z"
   },
   {
    "duration": 8,
    "start_time": "2022-05-25T08:22:37.956Z"
   },
   {
    "duration": 26,
    "start_time": "2022-05-25T08:22:37.966Z"
   },
   {
    "duration": 47,
    "start_time": "2022-05-25T08:22:37.994Z"
   },
   {
    "duration": 16,
    "start_time": "2022-05-25T08:22:38.043Z"
   },
   {
    "duration": 10,
    "start_time": "2022-05-25T08:22:38.061Z"
   },
   {
    "duration": 5,
    "start_time": "2022-05-25T08:22:38.073Z"
   },
   {
    "duration": 8,
    "start_time": "2022-05-25T08:22:38.079Z"
   },
   {
    "duration": 54,
    "start_time": "2022-05-25T08:22:38.088Z"
   },
   {
    "duration": 8,
    "start_time": "2022-05-25T08:22:38.145Z"
   },
   {
    "duration": 52,
    "start_time": "2022-05-25T08:22:38.155Z"
   },
   {
    "duration": 22,
    "start_time": "2022-05-25T08:22:38.209Z"
   },
   {
    "duration": 34,
    "start_time": "2022-05-25T08:22:38.233Z"
   },
   {
    "duration": 21,
    "start_time": "2022-05-25T08:22:38.269Z"
   },
   {
    "duration": 45,
    "start_time": "2022-05-25T08:22:38.292Z"
   },
   {
    "duration": 8,
    "start_time": "2022-05-25T08:22:38.339Z"
   },
   {
    "duration": 6,
    "start_time": "2022-05-25T08:22:38.349Z"
   },
   {
    "duration": 5,
    "start_time": "2022-05-25T08:22:38.357Z"
   },
   {
    "duration": 6,
    "start_time": "2022-05-25T08:22:38.363Z"
   },
   {
    "duration": 10,
    "start_time": "2022-05-25T08:22:38.370Z"
   },
   {
    "duration": 43,
    "start_time": "2022-05-25T08:22:38.381Z"
   },
   {
    "duration": 17,
    "start_time": "2022-05-25T08:22:38.425Z"
   },
   {
    "duration": 7,
    "start_time": "2022-05-25T08:22:38.444Z"
   },
   {
    "duration": 7,
    "start_time": "2022-05-25T08:22:38.452Z"
   },
   {
    "duration": 19,
    "start_time": "2022-05-25T08:22:38.460Z"
   },
   {
    "duration": 46,
    "start_time": "2022-05-25T08:22:38.481Z"
   },
   {
    "duration": 148,
    "start_time": "2022-05-25T08:22:38.529Z"
   },
   {
    "duration": 60,
    "start_time": "2022-05-25T08:22:38.679Z"
   },
   {
    "duration": 7,
    "start_time": "2022-05-25T08:22:38.741Z"
   },
   {
    "duration": 27,
    "start_time": "2022-05-25T08:22:38.749Z"
   },
   {
    "duration": 1863,
    "start_time": "2022-05-25T08:25:12.209Z"
   },
   {
    "duration": 794,
    "start_time": "2022-05-25T08:25:14.074Z"
   },
   {
    "duration": 12,
    "start_time": "2022-05-25T08:25:14.870Z"
   },
   {
    "duration": 11,
    "start_time": "2022-05-25T08:25:14.884Z"
   },
   {
    "duration": 7,
    "start_time": "2022-05-25T08:25:14.897Z"
   },
   {
    "duration": 9,
    "start_time": "2022-05-25T08:25:14.905Z"
   },
   {
    "duration": 11,
    "start_time": "2022-05-25T08:25:14.915Z"
   },
   {
    "duration": 24,
    "start_time": "2022-05-25T08:25:14.927Z"
   },
   {
    "duration": 20,
    "start_time": "2022-05-25T08:25:14.952Z"
   },
   {
    "duration": 6,
    "start_time": "2022-05-25T08:25:14.975Z"
   },
   {
    "duration": 19,
    "start_time": "2022-05-25T08:25:14.983Z"
   },
   {
    "duration": 20,
    "start_time": "2022-05-25T08:25:15.004Z"
   },
   {
    "duration": 31,
    "start_time": "2022-05-25T08:25:15.027Z"
   },
   {
    "duration": 6,
    "start_time": "2022-05-25T08:25:15.060Z"
   },
   {
    "duration": 24,
    "start_time": "2022-05-25T08:25:15.068Z"
   },
   {
    "duration": 9,
    "start_time": "2022-05-25T08:25:15.094Z"
   },
   {
    "duration": 48,
    "start_time": "2022-05-25T08:25:15.104Z"
   },
   {
    "duration": 17,
    "start_time": "2022-05-25T08:25:15.153Z"
   },
   {
    "duration": 20,
    "start_time": "2022-05-25T08:25:15.171Z"
   },
   {
    "duration": 32,
    "start_time": "2022-05-25T08:25:15.192Z"
   },
   {
    "duration": 24,
    "start_time": "2022-05-25T08:25:15.226Z"
   },
   {
    "duration": 4,
    "start_time": "2022-05-25T08:25:15.251Z"
   },
   {
    "duration": 25,
    "start_time": "2022-05-25T08:25:15.256Z"
   },
   {
    "duration": 7,
    "start_time": "2022-05-25T08:25:15.283Z"
   },
   {
    "duration": 74,
    "start_time": "2022-05-25T08:25:15.292Z"
   },
   {
    "duration": 8,
    "start_time": "2022-05-25T08:25:15.367Z"
   },
   {
    "duration": 38,
    "start_time": "2022-05-25T08:25:15.376Z"
   },
   {
    "duration": 28,
    "start_time": "2022-05-25T08:25:15.423Z"
   },
   {
    "duration": 23,
    "start_time": "2022-05-25T08:25:15.453Z"
   },
   {
    "duration": 10,
    "start_time": "2022-05-25T08:25:15.478Z"
   },
   {
    "duration": 7,
    "start_time": "2022-05-25T08:25:15.490Z"
   },
   {
    "duration": 7,
    "start_time": "2022-05-25T08:25:15.524Z"
   },
   {
    "duration": 11,
    "start_time": "2022-05-25T08:25:15.533Z"
   },
   {
    "duration": 10,
    "start_time": "2022-05-25T08:25:15.545Z"
   },
   {
    "duration": 22,
    "start_time": "2022-05-25T08:25:15.557Z"
   },
   {
    "duration": 11,
    "start_time": "2022-05-25T08:25:15.580Z"
   },
   {
    "duration": 31,
    "start_time": "2022-05-25T08:25:15.592Z"
   },
   {
    "duration": 9,
    "start_time": "2022-05-25T08:25:15.626Z"
   },
   {
    "duration": 16,
    "start_time": "2022-05-25T08:25:15.638Z"
   },
   {
    "duration": 11,
    "start_time": "2022-05-25T08:25:15.656Z"
   },
   {
    "duration": 97,
    "start_time": "2022-05-25T08:25:15.668Z"
   },
   {
    "duration": 15,
    "start_time": "2022-05-25T08:25:15.766Z"
   },
   {
    "duration": 6,
    "start_time": "2022-05-25T08:25:15.782Z"
   },
   {
    "duration": 47,
    "start_time": "2022-05-25T08:25:15.789Z"
   },
   {
    "duration": 10,
    "start_time": "2022-05-25T08:25:15.838Z"
   },
   {
    "duration": 8,
    "start_time": "2022-05-25T08:25:15.849Z"
   },
   {
    "duration": 7,
    "start_time": "2022-05-25T08:25:15.858Z"
   },
   {
    "duration": 476,
    "start_time": "2022-05-25T08:25:15.866Z"
   },
   {
    "duration": 8,
    "start_time": "2022-05-25T08:25:16.344Z"
   },
   {
    "duration": 407,
    "start_time": "2022-05-25T08:25:16.354Z"
   },
   {
    "duration": 8,
    "start_time": "2022-05-25T08:25:16.763Z"
   },
   {
    "duration": 11,
    "start_time": "2022-05-25T08:25:16.773Z"
   },
   {
    "duration": 366,
    "start_time": "2022-05-25T08:25:16.786Z"
   },
   {
    "duration": 7,
    "start_time": "2022-05-25T08:25:17.153Z"
   },
   {
    "duration": 13,
    "start_time": "2022-05-25T08:25:17.161Z"
   },
   {
    "duration": 13,
    "start_time": "2022-05-25T08:25:17.175Z"
   },
   {
    "duration": 385,
    "start_time": "2022-05-25T08:25:17.189Z"
   },
   {
    "duration": 396,
    "start_time": "2022-05-25T08:25:17.576Z"
   },
   {
    "duration": 7,
    "start_time": "2022-05-25T08:25:17.974Z"
   },
   {
    "duration": 372,
    "start_time": "2022-05-25T08:25:17.982Z"
   },
   {
    "duration": 89,
    "start_time": "2022-05-25T08:25:18.356Z"
   },
   {
    "duration": 112,
    "start_time": "2022-05-25T08:25:18.447Z"
   },
   {
    "duration": 362,
    "start_time": "2022-05-25T08:25:18.561Z"
   },
   {
    "duration": 7,
    "start_time": "2022-05-25T08:25:18.925Z"
   },
   {
    "duration": 25,
    "start_time": "2022-05-25T08:25:18.934Z"
   },
   {
    "duration": 7,
    "start_time": "2022-05-25T08:25:18.961Z"
   },
   {
    "duration": 9,
    "start_time": "2022-05-25T08:25:18.969Z"
   },
   {
    "duration": 30,
    "start_time": "2022-05-25T08:27:14.515Z"
   },
   {
    "duration": 23,
    "start_time": "2022-05-25T08:27:26.637Z"
   },
   {
    "duration": 1235,
    "start_time": "2022-05-25T08:29:45.921Z"
   },
   {
    "duration": 467,
    "start_time": "2022-05-25T08:29:47.157Z"
   },
   {
    "duration": 20,
    "start_time": "2022-05-25T08:29:47.626Z"
   },
   {
    "duration": 11,
    "start_time": "2022-05-25T08:29:47.648Z"
   },
   {
    "duration": 6,
    "start_time": "2022-05-25T08:29:47.660Z"
   },
   {
    "duration": 60,
    "start_time": "2022-05-25T08:29:47.667Z"
   },
   {
    "duration": 18,
    "start_time": "2022-05-25T08:29:47.729Z"
   },
   {
    "duration": 12,
    "start_time": "2022-05-25T08:29:47.748Z"
   },
   {
    "duration": 71,
    "start_time": "2022-05-25T08:29:47.761Z"
   },
   {
    "duration": 13,
    "start_time": "2022-05-25T08:29:47.836Z"
   },
   {
    "duration": 84,
    "start_time": "2022-05-25T08:29:47.851Z"
   },
   {
    "duration": 29,
    "start_time": "2022-05-25T08:29:47.941Z"
   },
   {
    "duration": 73,
    "start_time": "2022-05-25T08:29:47.971Z"
   },
   {
    "duration": 6,
    "start_time": "2022-05-25T08:29:48.046Z"
   },
   {
    "duration": 83,
    "start_time": "2022-05-25T08:29:48.054Z"
   },
   {
    "duration": 11,
    "start_time": "2022-05-25T08:29:48.140Z"
   },
   {
    "duration": 76,
    "start_time": "2022-05-25T08:29:48.153Z"
   },
   {
    "duration": 21,
    "start_time": "2022-05-25T08:29:48.232Z"
   },
   {
    "duration": 23,
    "start_time": "2022-05-25T08:29:48.254Z"
   },
   {
    "duration": 9,
    "start_time": "2022-05-25T08:29:48.279Z"
   },
   {
    "duration": 51,
    "start_time": "2022-05-25T08:29:48.290Z"
   },
   {
    "duration": 13,
    "start_time": "2022-05-25T08:29:48.343Z"
   },
   {
    "duration": 34,
    "start_time": "2022-05-25T08:29:48.358Z"
   },
   {
    "duration": 8,
    "start_time": "2022-05-25T08:29:48.393Z"
   },
   {
    "duration": 78,
    "start_time": "2022-05-25T08:29:48.402Z"
   },
   {
    "duration": 7,
    "start_time": "2022-05-25T08:29:48.482Z"
   },
   {
    "duration": 53,
    "start_time": "2022-05-25T08:29:48.491Z"
   },
   {
    "duration": 23,
    "start_time": "2022-05-25T08:29:48.548Z"
   },
   {
    "duration": 26,
    "start_time": "2022-05-25T08:29:48.573Z"
   },
   {
    "duration": 35,
    "start_time": "2022-05-25T08:29:48.601Z"
   },
   {
    "duration": 8,
    "start_time": "2022-05-25T08:29:48.639Z"
   },
   {
    "duration": 21,
    "start_time": "2022-05-25T08:29:48.649Z"
   },
   {
    "duration": 21,
    "start_time": "2022-05-25T08:29:48.672Z"
   },
   {
    "duration": 23,
    "start_time": "2022-05-25T08:29:48.695Z"
   },
   {
    "duration": 50,
    "start_time": "2022-05-25T08:29:48.720Z"
   },
   {
    "duration": 11,
    "start_time": "2022-05-25T08:29:48.772Z"
   },
   {
    "duration": 23,
    "start_time": "2022-05-25T08:29:48.784Z"
   },
   {
    "duration": 10,
    "start_time": "2022-05-25T08:29:48.808Z"
   },
   {
    "duration": 37,
    "start_time": "2022-05-25T08:29:48.819Z"
   },
   {
    "duration": 15,
    "start_time": "2022-05-25T08:29:48.858Z"
   },
   {
    "duration": 104,
    "start_time": "2022-05-25T08:29:48.874Z"
   },
   {
    "duration": 19,
    "start_time": "2022-05-25T08:29:48.980Z"
   },
   {
    "duration": 24,
    "start_time": "2022-05-25T08:29:49.001Z"
   },
   {
    "duration": 57,
    "start_time": "2022-05-25T08:29:49.027Z"
   },
   {
    "duration": 10,
    "start_time": "2022-05-25T08:29:49.086Z"
   },
   {
    "duration": 17,
    "start_time": "2022-05-25T08:29:49.097Z"
   },
   {
    "duration": 28,
    "start_time": "2022-05-25T08:29:49.116Z"
   },
   {
    "duration": 462,
    "start_time": "2022-05-25T08:29:49.146Z"
   },
   {
    "duration": 19,
    "start_time": "2022-05-25T08:29:49.610Z"
   },
   {
    "duration": 401,
    "start_time": "2022-05-25T08:29:49.631Z"
   },
   {
    "duration": 9,
    "start_time": "2022-05-25T08:29:50.035Z"
   },
   {
    "duration": 18,
    "start_time": "2022-05-25T08:29:50.046Z"
   },
   {
    "duration": 373,
    "start_time": "2022-05-25T08:29:50.065Z"
   },
   {
    "duration": 9,
    "start_time": "2022-05-25T08:29:50.440Z"
   },
   {
    "duration": 25,
    "start_time": "2022-05-25T08:29:50.451Z"
   },
   {
    "duration": 30,
    "start_time": "2022-05-25T08:29:50.478Z"
   },
   {
    "duration": 366,
    "start_time": "2022-05-25T08:29:50.509Z"
   },
   {
    "duration": 395,
    "start_time": "2022-05-25T08:29:50.878Z"
   },
   {
    "duration": 7,
    "start_time": "2022-05-25T08:29:51.275Z"
   },
   {
    "duration": 366,
    "start_time": "2022-05-25T08:29:51.284Z"
   },
   {
    "duration": 102,
    "start_time": "2022-05-25T08:29:51.652Z"
   },
   {
    "duration": 106,
    "start_time": "2022-05-25T08:29:51.756Z"
   },
   {
    "duration": 386,
    "start_time": "2022-05-25T08:29:51.864Z"
   },
   {
    "duration": 6,
    "start_time": "2022-05-25T08:29:52.252Z"
   },
   {
    "duration": 12,
    "start_time": "2022-05-25T08:29:52.260Z"
   },
   {
    "duration": 17,
    "start_time": "2022-05-25T08:29:52.273Z"
   },
   {
    "duration": 23,
    "start_time": "2022-05-25T08:29:52.291Z"
   },
   {
    "duration": 35,
    "start_time": "2022-05-25T08:53:45.293Z"
   },
   {
    "duration": 14,
    "start_time": "2022-05-25T08:53:47.611Z"
   },
   {
    "duration": 4,
    "start_time": "2022-05-25T08:53:53.293Z"
   },
   {
    "duration": 477,
    "start_time": "2022-05-25T08:53:53.300Z"
   },
   {
    "duration": 11,
    "start_time": "2022-05-25T08:53:53.779Z"
   },
   {
    "duration": 27,
    "start_time": "2022-05-25T08:53:53.793Z"
   },
   {
    "duration": 9,
    "start_time": "2022-05-25T08:53:53.823Z"
   },
   {
    "duration": 21,
    "start_time": "2022-05-25T08:53:53.834Z"
   },
   {
    "duration": 6,
    "start_time": "2022-05-25T08:53:53.857Z"
   },
   {
    "duration": 27,
    "start_time": "2022-05-25T08:53:53.865Z"
   },
   {
    "duration": 34,
    "start_time": "2022-05-25T08:53:53.895Z"
   },
   {
    "duration": 27,
    "start_time": "2022-05-25T08:53:53.932Z"
   },
   {
    "duration": 21,
    "start_time": "2022-05-25T08:53:53.962Z"
   },
   {
    "duration": 17,
    "start_time": "2022-05-25T08:53:53.987Z"
   },
   {
    "duration": 60,
    "start_time": "2022-05-25T08:53:54.005Z"
   },
   {
    "duration": 8,
    "start_time": "2022-05-25T08:53:54.067Z"
   },
   {
    "duration": 36,
    "start_time": "2022-05-25T08:53:54.077Z"
   },
   {
    "duration": 20,
    "start_time": "2022-05-25T08:53:54.115Z"
   },
   {
    "duration": 34,
    "start_time": "2022-05-25T08:53:54.153Z"
   },
   {
    "duration": 20,
    "start_time": "2022-05-25T08:53:54.189Z"
   },
   {
    "duration": 48,
    "start_time": "2022-05-25T08:53:54.212Z"
   },
   {
    "duration": 16,
    "start_time": "2022-05-25T08:53:54.262Z"
   },
   {
    "duration": 9,
    "start_time": "2022-05-25T08:53:54.280Z"
   },
   {
    "duration": 15,
    "start_time": "2022-05-25T08:53:54.291Z"
   },
   {
    "duration": 49,
    "start_time": "2022-05-25T08:53:54.308Z"
   },
   {
    "duration": 9,
    "start_time": "2022-05-25T08:53:54.360Z"
   },
   {
    "duration": 88,
    "start_time": "2022-05-25T08:53:54.370Z"
   },
   {
    "duration": 10,
    "start_time": "2022-05-25T08:53:54.460Z"
   },
   {
    "duration": 41,
    "start_time": "2022-05-25T08:53:54.472Z"
   },
   {
    "duration": 44,
    "start_time": "2022-05-25T08:53:54.516Z"
   },
   {
    "duration": 25,
    "start_time": "2022-05-25T08:53:54.566Z"
   },
   {
    "duration": 16,
    "start_time": "2022-05-25T08:53:54.592Z"
   },
   {
    "duration": 48,
    "start_time": "2022-05-25T08:53:54.610Z"
   },
   {
    "duration": 15,
    "start_time": "2022-05-25T08:53:54.661Z"
   },
   {
    "duration": 25,
    "start_time": "2022-05-25T08:53:54.679Z"
   },
   {
    "duration": 14,
    "start_time": "2022-05-25T08:53:54.706Z"
   },
   {
    "duration": 35,
    "start_time": "2022-05-25T08:53:54.722Z"
   },
   {
    "duration": 16,
    "start_time": "2022-05-25T08:53:54.758Z"
   },
   {
    "duration": 25,
    "start_time": "2022-05-25T08:53:54.776Z"
   },
   {
    "duration": 32,
    "start_time": "2022-05-25T08:53:54.804Z"
   },
   {
    "duration": 25,
    "start_time": "2022-05-25T08:53:54.837Z"
   },
   {
    "duration": 11,
    "start_time": "2022-05-25T08:53:54.864Z"
   },
   {
    "duration": 121,
    "start_time": "2022-05-25T08:53:54.877Z"
   },
   {
    "duration": 19,
    "start_time": "2022-05-25T08:53:55.000Z"
   },
   {
    "duration": 6,
    "start_time": "2022-05-25T08:53:55.021Z"
   },
   {
    "duration": 42,
    "start_time": "2022-05-25T08:53:55.052Z"
   },
   {
    "duration": 11,
    "start_time": "2022-05-25T08:53:55.096Z"
   },
   {
    "duration": 50,
    "start_time": "2022-05-25T08:53:55.109Z"
   },
   {
    "duration": 37,
    "start_time": "2022-05-25T08:53:55.163Z"
   },
   {
    "duration": 621,
    "start_time": "2022-05-25T08:53:55.202Z"
   },
   {
    "duration": 9,
    "start_time": "2022-05-25T08:53:55.825Z"
   },
   {
    "duration": 528,
    "start_time": "2022-05-25T08:53:55.851Z"
   },
   {
    "duration": 8,
    "start_time": "2022-05-25T08:53:56.382Z"
   },
   {
    "duration": 10,
    "start_time": "2022-05-25T08:53:56.393Z"
   },
   {
    "duration": 536,
    "start_time": "2022-05-25T08:53:56.405Z"
   },
   {
    "duration": 15,
    "start_time": "2022-05-25T08:53:56.943Z"
   },
   {
    "duration": 23,
    "start_time": "2022-05-25T08:53:56.960Z"
   },
   {
    "duration": 23,
    "start_time": "2022-05-25T08:53:56.985Z"
   },
   {
    "duration": 469,
    "start_time": "2022-05-25T08:53:57.011Z"
   },
   {
    "duration": 409,
    "start_time": "2022-05-25T08:53:57.482Z"
   },
   {
    "duration": 9,
    "start_time": "2022-05-25T08:53:57.893Z"
   },
   {
    "duration": 373,
    "start_time": "2022-05-25T08:53:57.904Z"
   },
   {
    "duration": 124,
    "start_time": "2022-05-25T08:53:58.279Z"
   },
   {
    "duration": 119,
    "start_time": "2022-05-25T08:53:58.405Z"
   },
   {
    "duration": 393,
    "start_time": "2022-05-25T08:53:58.526Z"
   },
   {
    "duration": 6,
    "start_time": "2022-05-25T08:53:58.922Z"
   },
   {
    "duration": 24,
    "start_time": "2022-05-25T08:53:58.930Z"
   },
   {
    "duration": 16,
    "start_time": "2022-05-25T08:53:58.956Z"
   },
   {
    "duration": 16,
    "start_time": "2022-05-25T08:53:58.974Z"
   },
   {
    "duration": 4,
    "start_time": "2022-05-25T13:51:39.133Z"
   },
   {
    "duration": 959,
    "start_time": "2022-05-25T13:51:39.139Z"
   },
   {
    "duration": 12,
    "start_time": "2022-05-25T13:51:40.100Z"
   },
   {
    "duration": 21,
    "start_time": "2022-05-25T13:51:40.113Z"
   },
   {
    "duration": 9,
    "start_time": "2022-05-25T13:51:40.136Z"
   },
   {
    "duration": 27,
    "start_time": "2022-05-25T13:51:40.148Z"
   },
   {
    "duration": 15,
    "start_time": "2022-05-25T13:51:40.177Z"
   },
   {
    "duration": 26,
    "start_time": "2022-05-25T13:51:40.193Z"
   },
   {
    "duration": 23,
    "start_time": "2022-05-25T13:51:40.221Z"
   },
   {
    "duration": 8,
    "start_time": "2022-05-25T13:51:40.246Z"
   },
   {
    "duration": 26,
    "start_time": "2022-05-25T13:51:40.258Z"
   },
   {
    "duration": 15,
    "start_time": "2022-05-25T13:51:40.286Z"
   },
   {
    "duration": 52,
    "start_time": "2022-05-25T13:51:40.304Z"
   },
   {
    "duration": 7,
    "start_time": "2022-05-25T13:51:40.359Z"
   },
   {
    "duration": 25,
    "start_time": "2022-05-25T13:51:40.368Z"
   },
   {
    "duration": 10,
    "start_time": "2022-05-25T13:51:40.395Z"
   },
   {
    "duration": 52,
    "start_time": "2022-05-25T13:51:40.407Z"
   },
   {
    "duration": 17,
    "start_time": "2022-05-25T13:51:40.461Z"
   },
   {
    "duration": 26,
    "start_time": "2022-05-25T13:51:40.480Z"
   },
   {
    "duration": 23,
    "start_time": "2022-05-25T13:51:40.508Z"
   },
   {
    "duration": 22,
    "start_time": "2022-05-25T13:51:40.533Z"
   },
   {
    "duration": 12,
    "start_time": "2022-05-25T13:51:40.557Z"
   },
   {
    "duration": 27,
    "start_time": "2022-05-25T13:51:40.571Z"
   },
   {
    "duration": 9,
    "start_time": "2022-05-25T13:51:40.600Z"
   },
   {
    "duration": 113,
    "start_time": "2022-05-25T13:51:40.611Z"
   },
   {
    "duration": 8,
    "start_time": "2022-05-25T13:51:40.726Z"
   },
   {
    "duration": 49,
    "start_time": "2022-05-25T13:51:40.735Z"
   },
   {
    "duration": 25,
    "start_time": "2022-05-25T13:51:40.787Z"
   },
   {
    "duration": 51,
    "start_time": "2022-05-25T13:51:40.816Z"
   },
   {
    "duration": 10,
    "start_time": "2022-05-25T13:51:40.869Z"
   },
   {
    "duration": 40,
    "start_time": "2022-05-25T13:51:40.881Z"
   },
   {
    "duration": 7,
    "start_time": "2022-05-25T13:51:40.923Z"
   },
   {
    "duration": 25,
    "start_time": "2022-05-25T13:51:40.932Z"
   },
   {
    "duration": 15,
    "start_time": "2022-05-25T13:51:40.959Z"
   },
   {
    "duration": 23,
    "start_time": "2022-05-25T13:51:40.976Z"
   },
   {
    "duration": 13,
    "start_time": "2022-05-25T13:51:41.001Z"
   },
   {
    "duration": 36,
    "start_time": "2022-05-25T13:51:41.016Z"
   },
   {
    "duration": 6,
    "start_time": "2022-05-25T13:51:41.054Z"
   },
   {
    "duration": 17,
    "start_time": "2022-05-25T13:51:41.061Z"
   },
   {
    "duration": 11,
    "start_time": "2022-05-25T13:51:41.080Z"
   },
   {
    "duration": 117,
    "start_time": "2022-05-25T13:51:41.092Z"
   },
   {
    "duration": 19,
    "start_time": "2022-05-25T13:51:41.210Z"
   },
   {
    "duration": 21,
    "start_time": "2022-05-25T13:51:41.231Z"
   },
   {
    "duration": 43,
    "start_time": "2022-05-25T13:51:41.255Z"
   },
   {
    "duration": 9,
    "start_time": "2022-05-25T13:51:41.299Z"
   },
   {
    "duration": 11,
    "start_time": "2022-05-25T13:51:41.310Z"
   },
   {
    "duration": 33,
    "start_time": "2022-05-25T13:51:41.323Z"
   },
   {
    "duration": 538,
    "start_time": "2022-05-25T13:51:41.358Z"
   },
   {
    "duration": 8,
    "start_time": "2022-05-25T13:51:41.897Z"
   },
   {
    "duration": 399,
    "start_time": "2022-05-25T13:51:41.906Z"
   },
   {
    "duration": 7,
    "start_time": "2022-05-25T13:51:42.307Z"
   },
   {
    "duration": 36,
    "start_time": "2022-05-25T13:51:42.316Z"
   },
   {
    "duration": 403,
    "start_time": "2022-05-25T13:51:42.354Z"
   },
   {
    "duration": 9,
    "start_time": "2022-05-25T13:51:42.759Z"
   },
   {
    "duration": 19,
    "start_time": "2022-05-25T13:51:42.769Z"
   },
   {
    "duration": 12,
    "start_time": "2022-05-25T13:51:42.790Z"
   },
   {
    "duration": 459,
    "start_time": "2022-05-25T13:51:42.804Z"
   },
   {
    "duration": 595,
    "start_time": "2022-05-25T13:51:43.264Z"
   },
   {
    "duration": 8,
    "start_time": "2022-05-25T13:51:43.861Z"
   },
   {
    "duration": 693,
    "start_time": "2022-05-25T13:51:43.871Z"
   },
   {
    "duration": 191,
    "start_time": "2022-05-25T13:51:44.566Z"
   },
   {
    "duration": 222,
    "start_time": "2022-05-25T13:51:44.759Z"
   },
   {
    "duration": 904,
    "start_time": "2022-05-25T13:51:44.983Z"
   },
   {
    "duration": 6,
    "start_time": "2022-05-25T13:51:45.889Z"
   },
   {
    "duration": 16,
    "start_time": "2022-05-25T13:51:45.897Z"
   },
   {
    "duration": 15,
    "start_time": "2022-05-25T13:51:45.914Z"
   },
   {
    "duration": 31,
    "start_time": "2022-05-25T13:51:45.931Z"
   },
   {
    "duration": 19,
    "start_time": "2022-05-25T13:56:08.239Z"
   },
   {
    "duration": 8,
    "start_time": "2022-05-25T13:56:37.729Z"
   },
   {
    "duration": 13,
    "start_time": "2022-05-25T13:56:48.737Z"
   },
   {
    "duration": 20,
    "start_time": "2022-05-25T13:57:20.867Z"
   },
   {
    "duration": 18,
    "start_time": "2022-05-25T13:57:24.631Z"
   },
   {
    "duration": 23,
    "start_time": "2022-05-25T13:57:52.436Z"
   },
   {
    "duration": 10,
    "start_time": "2022-05-25T13:59:13.351Z"
   },
   {
    "duration": 5,
    "start_time": "2022-05-25T14:23:50.630Z"
   },
   {
    "duration": 6,
    "start_time": "2022-05-25T14:24:37.110Z"
   },
   {
    "duration": 630,
    "start_time": "2022-05-25T14:24:51.141Z"
   },
   {
    "duration": 5,
    "start_time": "2022-05-25T14:25:01.199Z"
   },
   {
    "duration": 1157,
    "start_time": "2022-05-25T14:25:01.207Z"
   },
   {
    "duration": 15,
    "start_time": "2022-05-25T14:25:02.366Z"
   },
   {
    "duration": 35,
    "start_time": "2022-05-25T14:25:02.384Z"
   },
   {
    "duration": 30,
    "start_time": "2022-05-25T14:25:02.421Z"
   },
   {
    "duration": 33,
    "start_time": "2022-05-25T14:25:02.455Z"
   },
   {
    "duration": 52,
    "start_time": "2022-05-25T14:25:02.491Z"
   },
   {
    "duration": 31,
    "start_time": "2022-05-25T14:25:02.545Z"
   },
   {
    "duration": 99,
    "start_time": "2022-05-25T14:25:02.580Z"
   },
   {
    "duration": 36,
    "start_time": "2022-05-25T14:25:02.684Z"
   },
   {
    "duration": 46,
    "start_time": "2022-05-25T14:25:02.723Z"
   },
   {
    "duration": 23,
    "start_time": "2022-05-25T14:25:02.771Z"
   },
   {
    "duration": 30,
    "start_time": "2022-05-25T14:25:02.796Z"
   },
   {
    "duration": 33,
    "start_time": "2022-05-25T14:25:02.828Z"
   },
   {
    "duration": 39,
    "start_time": "2022-05-25T14:25:02.863Z"
   },
   {
    "duration": 13,
    "start_time": "2022-05-25T14:25:02.904Z"
   },
   {
    "duration": 34,
    "start_time": "2022-05-25T14:25:02.920Z"
   },
   {
    "duration": 51,
    "start_time": "2022-05-25T14:25:02.956Z"
   },
   {
    "duration": 23,
    "start_time": "2022-05-25T14:25:03.013Z"
   },
   {
    "duration": 26,
    "start_time": "2022-05-25T14:25:03.051Z"
   },
   {
    "duration": 29,
    "start_time": "2022-05-25T14:25:03.080Z"
   },
   {
    "duration": 12,
    "start_time": "2022-05-25T14:25:03.111Z"
   },
   {
    "duration": 14,
    "start_time": "2022-05-25T14:25:03.128Z"
   },
   {
    "duration": 8,
    "start_time": "2022-05-25T14:25:03.156Z"
   },
   {
    "duration": 58,
    "start_time": "2022-05-25T14:25:03.166Z"
   },
   {
    "duration": 12,
    "start_time": "2022-05-25T14:25:03.226Z"
   },
   {
    "duration": 133,
    "start_time": "2022-05-25T14:25:03.240Z"
   },
   {
    "duration": 12,
    "start_time": "2022-05-25T14:25:03.376Z"
   },
   {
    "duration": 72,
    "start_time": "2022-05-25T14:25:03.390Z"
   },
   {
    "duration": 28,
    "start_time": "2022-05-25T14:25:03.465Z"
   },
   {
    "duration": 31,
    "start_time": "2022-05-25T14:25:03.495Z"
   },
   {
    "duration": 38,
    "start_time": "2022-05-25T14:25:03.529Z"
   },
   {
    "duration": 22,
    "start_time": "2022-05-25T14:25:03.569Z"
   },
   {
    "duration": 29,
    "start_time": "2022-05-25T14:25:03.594Z"
   },
   {
    "duration": 19,
    "start_time": "2022-05-25T14:25:03.625Z"
   },
   {
    "duration": 27,
    "start_time": "2022-05-25T14:25:03.646Z"
   },
   {
    "duration": 39,
    "start_time": "2022-05-25T14:25:03.675Z"
   },
   {
    "duration": 37,
    "start_time": "2022-05-25T14:25:03.717Z"
   },
   {
    "duration": 14,
    "start_time": "2022-05-25T14:25:03.756Z"
   },
   {
    "duration": 18,
    "start_time": "2022-05-25T14:25:03.773Z"
   },
   {
    "duration": 17,
    "start_time": "2022-05-25T14:25:03.793Z"
   },
   {
    "duration": 42,
    "start_time": "2022-05-25T14:25:03.812Z"
   },
   {
    "duration": 40,
    "start_time": "2022-05-25T14:25:03.856Z"
   },
   {
    "duration": 27,
    "start_time": "2022-05-25T14:25:03.898Z"
   },
   {
    "duration": 148,
    "start_time": "2022-05-25T14:25:03.928Z"
   },
   {
    "duration": 24,
    "start_time": "2022-05-25T14:25:04.078Z"
   },
   {
    "duration": 12,
    "start_time": "2022-05-25T14:25:04.104Z"
   },
   {
    "duration": 63,
    "start_time": "2022-05-25T14:25:04.118Z"
   },
   {
    "duration": 52,
    "start_time": "2022-05-25T14:25:04.183Z"
   },
   {
    "duration": 29,
    "start_time": "2022-05-25T14:25:04.237Z"
   },
   {
    "duration": 13,
    "start_time": "2022-05-25T14:25:04.269Z"
   },
   {
    "duration": 1012,
    "start_time": "2022-05-25T14:25:04.285Z"
   },
   {
    "duration": 60,
    "start_time": "2022-05-25T14:25:05.299Z"
   },
   {
    "duration": 910,
    "start_time": "2022-05-25T14:25:05.362Z"
   },
   {
    "duration": 8,
    "start_time": "2022-05-25T14:25:06.274Z"
   },
   {
    "duration": 12,
    "start_time": "2022-05-25T14:25:06.284Z"
   },
   {
    "duration": 873,
    "start_time": "2022-05-25T14:25:06.299Z"
   },
   {
    "duration": 9,
    "start_time": "2022-05-25T14:25:07.174Z"
   },
   {
    "duration": 71,
    "start_time": "2022-05-25T14:25:07.186Z"
   },
   {
    "duration": 15,
    "start_time": "2022-05-25T14:25:07.259Z"
   },
   {
    "duration": 722,
    "start_time": "2022-05-25T14:25:07.276Z"
   },
   {
    "duration": 477,
    "start_time": "2022-05-25T14:25:08.000Z"
   },
   {
    "duration": 9,
    "start_time": "2022-05-25T14:25:08.480Z"
   },
   {
    "duration": 464,
    "start_time": "2022-05-25T14:25:08.491Z"
   },
   {
    "duration": 130,
    "start_time": "2022-05-25T14:25:08.957Z"
   },
   {
    "duration": 155,
    "start_time": "2022-05-25T14:25:09.088Z"
   },
   {
    "duration": 535,
    "start_time": "2022-05-25T14:25:09.245Z"
   },
   {
    "duration": 8,
    "start_time": "2022-05-25T14:25:09.782Z"
   },
   {
    "duration": 9,
    "start_time": "2022-05-25T14:25:09.797Z"
   },
   {
    "duration": 16,
    "start_time": "2022-05-25T14:25:09.808Z"
   },
   {
    "duration": 9,
    "start_time": "2022-05-25T14:25:09.852Z"
   },
   {
    "duration": 7,
    "start_time": "2022-05-25T14:26:12.450Z"
   },
   {
    "duration": 6,
    "start_time": "2022-05-25T14:26:15.418Z"
   },
   {
    "duration": 4,
    "start_time": "2022-05-25T14:32:50.217Z"
   },
   {
    "duration": 501,
    "start_time": "2022-05-25T14:32:50.246Z"
   },
   {
    "duration": 20,
    "start_time": "2022-05-25T14:32:50.749Z"
   },
   {
    "duration": 25,
    "start_time": "2022-05-25T14:32:50.771Z"
   },
   {
    "duration": 12,
    "start_time": "2022-05-25T14:32:50.798Z"
   },
   {
    "duration": 14,
    "start_time": "2022-05-25T14:32:50.813Z"
   },
   {
    "duration": 14,
    "start_time": "2022-05-25T14:32:50.830Z"
   },
   {
    "duration": 15,
    "start_time": "2022-05-25T14:32:50.846Z"
   },
   {
    "duration": 25,
    "start_time": "2022-05-25T14:32:50.862Z"
   },
   {
    "duration": 18,
    "start_time": "2022-05-25T14:32:50.890Z"
   },
   {
    "duration": 55,
    "start_time": "2022-05-25T14:32:50.910Z"
   },
   {
    "duration": 8,
    "start_time": "2022-05-25T14:32:50.973Z"
   },
   {
    "duration": 26,
    "start_time": "2022-05-25T14:32:50.983Z"
   },
   {
    "duration": 16,
    "start_time": "2022-05-25T14:32:51.011Z"
   },
   {
    "duration": 28,
    "start_time": "2022-05-25T14:32:51.053Z"
   },
   {
    "duration": 13,
    "start_time": "2022-05-25T14:32:51.083Z"
   },
   {
    "duration": 24,
    "start_time": "2022-05-25T14:32:51.098Z"
   },
   {
    "duration": 43,
    "start_time": "2022-05-25T14:32:51.125Z"
   },
   {
    "duration": 36,
    "start_time": "2022-05-25T14:32:51.176Z"
   },
   {
    "duration": 22,
    "start_time": "2022-05-25T14:32:51.214Z"
   },
   {
    "duration": 24,
    "start_time": "2022-05-25T14:32:51.254Z"
   },
   {
    "duration": 13,
    "start_time": "2022-05-25T14:32:51.280Z"
   },
   {
    "duration": 6,
    "start_time": "2022-05-25T14:32:51.296Z"
   },
   {
    "duration": 9,
    "start_time": "2022-05-25T14:32:51.304Z"
   },
   {
    "duration": 73,
    "start_time": "2022-05-25T14:32:51.315Z"
   },
   {
    "duration": 11,
    "start_time": "2022-05-25T14:32:51.391Z"
   },
   {
    "duration": 105,
    "start_time": "2022-05-25T14:32:51.404Z"
   },
   {
    "duration": 12,
    "start_time": "2022-05-25T14:32:51.511Z"
   },
   {
    "duration": 80,
    "start_time": "2022-05-25T14:32:51.525Z"
   },
   {
    "duration": 27,
    "start_time": "2022-05-25T14:32:51.609Z"
   },
   {
    "duration": 49,
    "start_time": "2022-05-25T14:32:51.639Z"
   },
   {
    "duration": 17,
    "start_time": "2022-05-25T14:32:51.691Z"
   },
   {
    "duration": 47,
    "start_time": "2022-05-25T14:32:51.711Z"
   },
   {
    "duration": 6,
    "start_time": "2022-05-25T14:32:51.768Z"
   },
   {
    "duration": 12,
    "start_time": "2022-05-25T14:32:51.776Z"
   },
   {
    "duration": 16,
    "start_time": "2022-05-25T14:32:51.789Z"
   },
   {
    "duration": 26,
    "start_time": "2022-05-25T14:32:51.807Z"
   },
   {
    "duration": 45,
    "start_time": "2022-05-25T14:32:51.835Z"
   },
   {
    "duration": 15,
    "start_time": "2022-05-25T14:32:51.882Z"
   },
   {
    "duration": 20,
    "start_time": "2022-05-25T14:32:51.900Z"
   },
   {
    "duration": 15,
    "start_time": "2022-05-25T14:32:51.953Z"
   },
   {
    "duration": 16,
    "start_time": "2022-05-25T14:32:51.974Z"
   },
   {
    "duration": 21,
    "start_time": "2022-05-25T14:32:51.992Z"
   },
   {
    "duration": 8,
    "start_time": "2022-05-25T14:32:52.015Z"
   },
   {
    "duration": 177,
    "start_time": "2022-05-25T14:32:52.025Z"
   },
   {
    "duration": 25,
    "start_time": "2022-05-25T14:32:52.204Z"
   },
   {
    "duration": 48,
    "start_time": "2022-05-25T14:32:52.231Z"
   },
   {
    "duration": 40,
    "start_time": "2022-05-25T14:32:52.281Z"
   },
   {
    "duration": 10,
    "start_time": "2022-05-25T14:32:52.323Z"
   },
   {
    "duration": 17,
    "start_time": "2022-05-25T14:32:52.335Z"
   },
   {
    "duration": 30,
    "start_time": "2022-05-25T14:32:52.358Z"
   },
   {
    "duration": 512,
    "start_time": "2022-05-25T14:32:52.391Z"
   },
   {
    "duration": 54,
    "start_time": "2022-05-25T14:32:52.905Z"
   },
   {
    "duration": 1012,
    "start_time": "2022-05-25T14:32:52.968Z"
   },
   {
    "duration": 8,
    "start_time": "2022-05-25T14:32:53.981Z"
   },
   {
    "duration": 9,
    "start_time": "2022-05-25T14:32:53.991Z"
   },
   {
    "duration": 783,
    "start_time": "2022-05-25T14:32:54.002Z"
   },
   {
    "duration": 9,
    "start_time": "2022-05-25T14:32:54.787Z"
   },
   {
    "duration": 90,
    "start_time": "2022-05-25T14:32:54.798Z"
   },
   {
    "duration": 13,
    "start_time": "2022-05-25T14:32:54.890Z"
   },
   {
    "duration": 848,
    "start_time": "2022-05-25T14:32:54.905Z"
   },
   {
    "duration": 736,
    "start_time": "2022-05-25T14:32:55.756Z"
   },
   {
    "duration": 9,
    "start_time": "2022-05-25T14:32:56.495Z"
   },
   {
    "duration": 400,
    "start_time": "2022-05-25T14:32:56.506Z"
   },
   {
    "duration": 106,
    "start_time": "2022-05-25T14:32:56.908Z"
   },
   {
    "duration": 125,
    "start_time": "2022-05-25T14:32:57.017Z"
   },
   {
    "duration": 444,
    "start_time": "2022-05-25T14:32:57.145Z"
   },
   {
    "duration": 8,
    "start_time": "2022-05-25T14:32:57.591Z"
   },
   {
    "duration": 14,
    "start_time": "2022-05-25T14:32:57.601Z"
   },
   {
    "duration": 9,
    "start_time": "2022-05-25T14:32:57.617Z"
   },
   {
    "duration": 36,
    "start_time": "2022-05-25T14:32:57.629Z"
   },
   {
    "duration": 6,
    "start_time": "2022-05-25T14:36:02.556Z"
   },
   {
    "duration": 536,
    "start_time": "2022-05-25T14:36:02.564Z"
   },
   {
    "duration": 12,
    "start_time": "2022-05-25T14:36:03.102Z"
   },
   {
    "duration": 23,
    "start_time": "2022-05-25T14:36:03.116Z"
   },
   {
    "duration": 20,
    "start_time": "2022-05-25T14:36:03.142Z"
   },
   {
    "duration": 27,
    "start_time": "2022-05-25T14:36:03.164Z"
   },
   {
    "duration": 8,
    "start_time": "2022-05-25T14:36:03.194Z"
   },
   {
    "duration": 7,
    "start_time": "2022-05-25T14:36:03.204Z"
   },
   {
    "duration": 6,
    "start_time": "2022-05-25T14:36:03.213Z"
   },
   {
    "duration": 5,
    "start_time": "2022-05-25T14:36:03.221Z"
   },
   {
    "duration": 40,
    "start_time": "2022-05-25T14:36:03.228Z"
   },
   {
    "duration": 36,
    "start_time": "2022-05-25T14:36:03.273Z"
   },
   {
    "duration": 10,
    "start_time": "2022-05-25T14:36:03.312Z"
   },
   {
    "duration": 46,
    "start_time": "2022-05-25T14:36:03.325Z"
   },
   {
    "duration": 16,
    "start_time": "2022-05-25T14:36:03.376Z"
   },
   {
    "duration": 18,
    "start_time": "2022-05-25T14:36:03.393Z"
   },
   {
    "duration": 50,
    "start_time": "2022-05-25T14:36:03.413Z"
   },
   {
    "duration": 31,
    "start_time": "2022-05-25T14:36:03.468Z"
   },
   {
    "duration": 13,
    "start_time": "2022-05-25T14:36:03.501Z"
   },
   {
    "duration": 58,
    "start_time": "2022-05-25T14:36:03.516Z"
   },
   {
    "duration": 18,
    "start_time": "2022-05-25T14:36:03.577Z"
   },
   {
    "duration": 26,
    "start_time": "2022-05-25T14:36:03.598Z"
   },
   {
    "duration": 40,
    "start_time": "2022-05-25T14:36:03.627Z"
   },
   {
    "duration": 19,
    "start_time": "2022-05-25T14:36:03.669Z"
   },
   {
    "duration": 6,
    "start_time": "2022-05-25T14:36:03.691Z"
   },
   {
    "duration": 56,
    "start_time": "2022-05-25T14:36:03.699Z"
   },
   {
    "duration": 17,
    "start_time": "2022-05-25T14:36:03.758Z"
   },
   {
    "duration": 106,
    "start_time": "2022-05-25T14:36:03.779Z"
   },
   {
    "duration": 9,
    "start_time": "2022-05-25T14:36:03.887Z"
   },
   {
    "duration": 73,
    "start_time": "2022-05-25T14:36:03.898Z"
   },
   {
    "duration": 27,
    "start_time": "2022-05-25T14:36:03.976Z"
   },
   {
    "duration": 23,
    "start_time": "2022-05-25T14:36:04.005Z"
   },
   {
    "duration": 32,
    "start_time": "2022-05-25T14:36:04.029Z"
   },
   {
    "duration": 30,
    "start_time": "2022-05-25T14:36:04.063Z"
   },
   {
    "duration": 8,
    "start_time": "2022-05-25T14:36:04.095Z"
   },
   {
    "duration": 6,
    "start_time": "2022-05-25T14:36:04.105Z"
   },
   {
    "duration": 18,
    "start_time": "2022-05-25T14:36:04.113Z"
   },
   {
    "duration": 55,
    "start_time": "2022-05-25T14:36:04.133Z"
   },
   {
    "duration": 34,
    "start_time": "2022-05-25T14:36:04.190Z"
   },
   {
    "duration": 38,
    "start_time": "2022-05-25T14:36:04.226Z"
   },
   {
    "duration": 31,
    "start_time": "2022-05-25T14:36:04.273Z"
   },
   {
    "duration": 10,
    "start_time": "2022-05-25T14:36:04.307Z"
   },
   {
    "duration": 7,
    "start_time": "2022-05-25T14:36:04.319Z"
   },
   {
    "duration": 22,
    "start_time": "2022-05-25T14:36:04.355Z"
   },
   {
    "duration": 10,
    "start_time": "2022-05-25T14:36:04.380Z"
   },
   {
    "duration": 149,
    "start_time": "2022-05-25T14:36:04.393Z"
   },
   {
    "duration": 34,
    "start_time": "2022-05-25T14:36:04.544Z"
   },
   {
    "duration": 8,
    "start_time": "2022-05-25T14:36:04.580Z"
   },
   {
    "duration": 32,
    "start_time": "2022-05-25T14:36:04.590Z"
   },
   {
    "duration": 32,
    "start_time": "2022-05-25T14:36:04.624Z"
   },
   {
    "duration": 14,
    "start_time": "2022-05-25T14:36:04.666Z"
   },
   {
    "duration": 12,
    "start_time": "2022-05-25T14:36:04.682Z"
   },
   {
    "duration": 432,
    "start_time": "2022-05-25T14:36:04.696Z"
   },
   {
    "duration": 26,
    "start_time": "2022-05-25T14:36:05.130Z"
   },
   {
    "duration": 1221,
    "start_time": "2022-05-25T14:36:05.160Z"
   },
   {
    "duration": 9,
    "start_time": "2022-05-25T14:36:06.385Z"
   },
   {
    "duration": 77,
    "start_time": "2022-05-25T14:36:06.396Z"
   },
   {
    "duration": 916,
    "start_time": "2022-05-25T14:36:06.475Z"
   },
   {
    "duration": 62,
    "start_time": "2022-05-25T14:36:07.393Z"
   },
   {
    "duration": 44,
    "start_time": "2022-05-25T14:36:07.457Z"
   },
   {
    "duration": 61,
    "start_time": "2022-05-25T14:36:07.505Z"
   },
   {
    "duration": 614,
    "start_time": "2022-05-25T14:36:07.568Z"
   },
   {
    "duration": 395,
    "start_time": "2022-05-25T14:36:08.188Z"
   },
   {
    "duration": 13,
    "start_time": "2022-05-25T14:36:08.587Z"
   },
   {
    "duration": 412,
    "start_time": "2022-05-25T14:36:08.603Z"
   },
   {
    "duration": 110,
    "start_time": "2022-05-25T14:36:09.017Z"
   },
   {
    "duration": 110,
    "start_time": "2022-05-25T14:36:09.128Z"
   },
   {
    "duration": 455,
    "start_time": "2022-05-25T14:36:09.240Z"
   },
   {
    "duration": 6,
    "start_time": "2022-05-25T14:36:09.698Z"
   },
   {
    "duration": 16,
    "start_time": "2022-05-25T14:36:09.706Z"
   },
   {
    "duration": 36,
    "start_time": "2022-05-25T14:36:09.724Z"
   },
   {
    "duration": 18,
    "start_time": "2022-05-25T14:36:09.768Z"
   },
   {
    "duration": 16,
    "start_time": "2022-05-25T14:36:42.051Z"
   },
   {
    "duration": 4,
    "start_time": "2022-05-25T14:36:44.732Z"
   },
   {
    "duration": 605,
    "start_time": "2022-05-25T14:36:44.739Z"
   },
   {
    "duration": 15,
    "start_time": "2022-05-25T14:36:45.347Z"
   },
   {
    "duration": 26,
    "start_time": "2022-05-25T14:36:45.365Z"
   },
   {
    "duration": 40,
    "start_time": "2022-05-25T14:36:45.394Z"
   },
   {
    "duration": 30,
    "start_time": "2022-05-25T14:36:45.436Z"
   },
   {
    "duration": 23,
    "start_time": "2022-05-25T14:36:45.468Z"
   },
   {
    "duration": 27,
    "start_time": "2022-05-25T14:36:45.494Z"
   },
   {
    "duration": 25,
    "start_time": "2022-05-25T14:36:45.524Z"
   },
   {
    "duration": 36,
    "start_time": "2022-05-25T14:36:45.551Z"
   },
   {
    "duration": 11,
    "start_time": "2022-05-25T14:36:45.589Z"
   },
   {
    "duration": 23,
    "start_time": "2022-05-25T14:36:45.602Z"
   },
   {
    "duration": 42,
    "start_time": "2022-05-25T14:36:45.630Z"
   },
   {
    "duration": 13,
    "start_time": "2022-05-25T14:36:45.675Z"
   },
   {
    "duration": 61,
    "start_time": "2022-05-25T14:36:45.691Z"
   },
   {
    "duration": 20,
    "start_time": "2022-05-25T14:36:45.754Z"
   },
   {
    "duration": 22,
    "start_time": "2022-05-25T14:36:45.776Z"
   },
   {
    "duration": 9,
    "start_time": "2022-05-25T14:36:45.800Z"
   },
   {
    "duration": 60,
    "start_time": "2022-05-25T14:36:45.811Z"
   },
   {
    "duration": 16,
    "start_time": "2022-05-25T14:36:45.874Z"
   },
   {
    "duration": 36,
    "start_time": "2022-05-25T14:36:45.892Z"
   },
   {
    "duration": 18,
    "start_time": "2022-05-25T14:36:45.952Z"
   },
   {
    "duration": 25,
    "start_time": "2022-05-25T14:36:45.973Z"
   },
   {
    "duration": 15,
    "start_time": "2022-05-25T14:36:46.000Z"
   },
   {
    "duration": 6,
    "start_time": "2022-05-25T14:36:46.053Z"
   },
   {
    "duration": 6,
    "start_time": "2022-05-25T14:36:46.061Z"
   },
   {
    "duration": 33,
    "start_time": "2022-05-25T14:36:46.069Z"
   },
   {
    "duration": 12,
    "start_time": "2022-05-25T14:36:46.104Z"
   },
   {
    "duration": 123,
    "start_time": "2022-05-25T14:36:46.119Z"
   },
   {
    "duration": 12,
    "start_time": "2022-05-25T14:36:46.253Z"
   },
   {
    "duration": 61,
    "start_time": "2022-05-25T14:36:46.268Z"
   },
   {
    "duration": 32,
    "start_time": "2022-05-25T14:36:46.331Z"
   },
   {
    "duration": 22,
    "start_time": "2022-05-25T14:36:46.366Z"
   },
   {
    "duration": 11,
    "start_time": "2022-05-25T14:36:46.390Z"
   },
   {
    "duration": 51,
    "start_time": "2022-05-25T14:36:46.403Z"
   },
   {
    "duration": 4,
    "start_time": "2022-05-25T14:36:46.457Z"
   },
   {
    "duration": 11,
    "start_time": "2022-05-25T14:36:46.465Z"
   },
   {
    "duration": 18,
    "start_time": "2022-05-25T14:36:46.479Z"
   },
   {
    "duration": 60,
    "start_time": "2022-05-25T14:36:46.499Z"
   },
   {
    "duration": 32,
    "start_time": "2022-05-25T14:36:46.561Z"
   },
   {
    "duration": 17,
    "start_time": "2022-05-25T14:36:46.596Z"
   },
   {
    "duration": 47,
    "start_time": "2022-05-25T14:36:46.615Z"
   },
   {
    "duration": 8,
    "start_time": "2022-05-25T14:36:46.665Z"
   },
   {
    "duration": 9,
    "start_time": "2022-05-25T14:36:46.675Z"
   },
   {
    "duration": 24,
    "start_time": "2022-05-25T14:36:46.686Z"
   },
   {
    "duration": 44,
    "start_time": "2022-05-25T14:36:46.712Z"
   },
   {
    "duration": 111,
    "start_time": "2022-05-25T14:36:46.758Z"
   },
   {
    "duration": 19,
    "start_time": "2022-05-25T14:36:46.871Z"
   },
   {
    "duration": 11,
    "start_time": "2022-05-25T14:36:46.892Z"
   },
   {
    "duration": 65,
    "start_time": "2022-05-25T14:36:46.905Z"
   },
   {
    "duration": 34,
    "start_time": "2022-05-25T14:36:46.972Z"
   },
   {
    "duration": 11,
    "start_time": "2022-05-25T14:36:47.009Z"
   },
   {
    "duration": 12,
    "start_time": "2022-05-25T14:36:47.022Z"
   },
   {
    "duration": 444,
    "start_time": "2022-05-25T14:36:47.051Z"
   },
   {
    "duration": 59,
    "start_time": "2022-05-25T14:36:47.497Z"
   },
   {
    "duration": 1236,
    "start_time": "2022-05-25T14:36:47.558Z"
   },
   {
    "duration": 62,
    "start_time": "2022-05-25T14:36:48.797Z"
   },
   {
    "duration": 29,
    "start_time": "2022-05-25T14:36:48.862Z"
   },
   {
    "duration": 852,
    "start_time": "2022-05-25T14:36:48.893Z"
   },
   {
    "duration": 10,
    "start_time": "2022-05-25T14:36:49.752Z"
   },
   {
    "duration": 15,
    "start_time": "2022-05-25T14:36:49.764Z"
   },
   {
    "duration": 11,
    "start_time": "2022-05-25T14:36:49.782Z"
   },
   {
    "duration": 438,
    "start_time": "2022-05-25T14:36:49.796Z"
   },
   {
    "duration": 400,
    "start_time": "2022-05-25T14:36:50.237Z"
   },
   {
    "duration": 16,
    "start_time": "2022-05-25T14:36:50.640Z"
   },
   {
    "duration": 346,
    "start_time": "2022-05-25T14:36:50.658Z"
   },
   {
    "duration": 110,
    "start_time": "2022-05-25T14:36:51.006Z"
   },
   {
    "duration": 134,
    "start_time": "2022-05-25T14:36:51.118Z"
   },
   {
    "duration": 442,
    "start_time": "2022-05-25T14:36:51.255Z"
   },
   {
    "duration": 6,
    "start_time": "2022-05-25T14:36:51.699Z"
   },
   {
    "duration": 11,
    "start_time": "2022-05-25T14:36:51.707Z"
   },
   {
    "duration": 33,
    "start_time": "2022-05-25T14:36:51.720Z"
   },
   {
    "duration": 9,
    "start_time": "2022-05-25T14:36:51.755Z"
   },
   {
    "duration": 5,
    "start_time": "2022-05-25T14:38:51.796Z"
   },
   {
    "duration": 484,
    "start_time": "2022-05-25T14:38:51.804Z"
   },
   {
    "duration": 11,
    "start_time": "2022-05-25T14:38:52.290Z"
   },
   {
    "duration": 14,
    "start_time": "2022-05-25T14:38:52.303Z"
   },
   {
    "duration": 8,
    "start_time": "2022-05-25T14:38:52.319Z"
   },
   {
    "duration": 28,
    "start_time": "2022-05-25T14:38:52.329Z"
   },
   {
    "duration": 4,
    "start_time": "2022-05-25T14:38:52.360Z"
   },
   {
    "duration": 5,
    "start_time": "2022-05-25T14:38:52.366Z"
   },
   {
    "duration": 6,
    "start_time": "2022-05-25T14:38:52.374Z"
   },
   {
    "duration": 11,
    "start_time": "2022-05-25T14:38:52.382Z"
   },
   {
    "duration": 5,
    "start_time": "2022-05-25T14:38:52.397Z"
   },
   {
    "duration": 59,
    "start_time": "2022-05-25T14:38:52.405Z"
   },
   {
    "duration": 31,
    "start_time": "2022-05-25T14:38:52.467Z"
   },
   {
    "duration": 9,
    "start_time": "2022-05-25T14:38:52.500Z"
   },
   {
    "duration": 47,
    "start_time": "2022-05-25T14:38:52.511Z"
   },
   {
    "duration": 18,
    "start_time": "2022-05-25T14:38:52.560Z"
   },
   {
    "duration": 26,
    "start_time": "2022-05-25T14:38:52.585Z"
   },
   {
    "duration": 8,
    "start_time": "2022-05-25T14:38:52.614Z"
   },
   {
    "duration": 30,
    "start_time": "2022-05-25T14:38:52.652Z"
   },
   {
    "duration": 12,
    "start_time": "2022-05-25T14:38:52.685Z"
   },
   {
    "duration": 38,
    "start_time": "2022-05-25T14:38:52.699Z"
   },
   {
    "duration": 26,
    "start_time": "2022-05-25T14:38:52.739Z"
   },
   {
    "duration": 17,
    "start_time": "2022-05-25T14:38:52.767Z"
   },
   {
    "duration": 12,
    "start_time": "2022-05-25T14:38:52.787Z"
   },
   {
    "duration": 51,
    "start_time": "2022-05-25T14:38:52.801Z"
   },
   {
    "duration": 6,
    "start_time": "2022-05-25T14:38:52.855Z"
   },
   {
    "duration": 54,
    "start_time": "2022-05-25T14:38:52.863Z"
   },
   {
    "duration": 9,
    "start_time": "2022-05-25T14:38:52.920Z"
   },
   {
    "duration": 87,
    "start_time": "2022-05-25T14:38:52.933Z"
   },
   {
    "duration": 29,
    "start_time": "2022-05-25T14:38:53.023Z"
   },
   {
    "duration": 29,
    "start_time": "2022-05-25T14:38:53.054Z"
   },
   {
    "duration": 30,
    "start_time": "2022-05-25T14:38:53.085Z"
   },
   {
    "duration": 60,
    "start_time": "2022-05-25T14:38:53.117Z"
   },
   {
    "duration": 13,
    "start_time": "2022-05-25T14:38:53.180Z"
   },
   {
    "duration": 14,
    "start_time": "2022-05-25T14:38:53.195Z"
   },
   {
    "duration": 42,
    "start_time": "2022-05-25T14:38:53.211Z"
   },
   {
    "duration": 8,
    "start_time": "2022-05-25T14:38:53.254Z"
   },
   {
    "duration": 18,
    "start_time": "2022-05-25T14:38:53.265Z"
   },
   {
    "duration": 28,
    "start_time": "2022-05-25T14:38:53.285Z"
   },
   {
    "duration": 71,
    "start_time": "2022-05-25T14:38:53.315Z"
   },
   {
    "duration": 14,
    "start_time": "2022-05-25T14:38:53.389Z"
   },
   {
    "duration": 49,
    "start_time": "2022-05-25T14:38:53.405Z"
   },
   {
    "duration": 8,
    "start_time": "2022-05-25T14:38:53.456Z"
   },
   {
    "duration": 21,
    "start_time": "2022-05-25T14:38:53.466Z"
   },
   {
    "duration": 23,
    "start_time": "2022-05-25T14:38:53.489Z"
   },
   {
    "duration": 11,
    "start_time": "2022-05-25T14:38:53.515Z"
   },
   {
    "duration": 185,
    "start_time": "2022-05-25T14:38:53.528Z"
   },
   {
    "duration": 21,
    "start_time": "2022-05-25T14:38:53.715Z"
   },
   {
    "duration": 5,
    "start_time": "2022-05-25T14:38:53.752Z"
   },
   {
    "duration": 35,
    "start_time": "2022-05-25T14:38:53.760Z"
   },
   {
    "duration": 15,
    "start_time": "2022-05-25T14:38:53.797Z"
   },
   {
    "duration": 13,
    "start_time": "2022-05-25T14:38:53.814Z"
   },
   {
    "duration": 10,
    "start_time": "2022-05-25T14:38:53.852Z"
   },
   {
    "duration": 473,
    "start_time": "2022-05-25T14:38:53.865Z"
   },
   {
    "duration": 10,
    "start_time": "2022-05-25T14:38:54.351Z"
   },
   {
    "duration": 697,
    "start_time": "2022-05-25T14:38:54.363Z"
   },
   {
    "duration": 10,
    "start_time": "2022-05-25T14:38:55.062Z"
   },
   {
    "duration": 17,
    "start_time": "2022-05-25T14:38:55.076Z"
   },
   {
    "duration": 780,
    "start_time": "2022-05-25T14:38:55.095Z"
   },
   {
    "duration": 7,
    "start_time": "2022-05-25T14:38:55.877Z"
   },
   {
    "duration": 65,
    "start_time": "2022-05-25T14:38:55.887Z"
   },
   {
    "duration": 10,
    "start_time": "2022-05-25T14:38:55.955Z"
   },
   {
    "duration": 609,
    "start_time": "2022-05-25T14:38:55.968Z"
   },
   {
    "duration": 796,
    "start_time": "2022-05-25T14:38:56.579Z"
   },
   {
    "duration": 10,
    "start_time": "2022-05-25T14:38:57.377Z"
   },
   {
    "duration": 802,
    "start_time": "2022-05-25T14:38:57.390Z"
   },
   {
    "duration": 218,
    "start_time": "2022-05-25T14:38:58.194Z"
   },
   {
    "duration": 139,
    "start_time": "2022-05-25T14:38:58.414Z"
   },
   {
    "duration": 397,
    "start_time": "2022-05-25T14:38:58.555Z"
   },
   {
    "duration": 6,
    "start_time": "2022-05-25T14:38:58.956Z"
   },
   {
    "duration": 12,
    "start_time": "2022-05-25T14:38:58.964Z"
   },
   {
    "duration": 22,
    "start_time": "2022-05-25T14:38:58.977Z"
   },
   {
    "duration": 24,
    "start_time": "2022-05-25T14:38:59.001Z"
   },
   {
    "duration": 10,
    "start_time": "2022-05-25T14:39:38.508Z"
   },
   {
    "duration": 5,
    "start_time": "2022-05-25T14:40:50.516Z"
   },
   {
    "duration": 9,
    "start_time": "2022-05-25T14:41:04.122Z"
   },
   {
    "duration": 4,
    "start_time": "2022-05-25T14:41:31.989Z"
   },
   {
    "duration": 9,
    "start_time": "2022-05-25T14:41:35.279Z"
   },
   {
    "duration": 4,
    "start_time": "2022-05-25T14:41:55.658Z"
   },
   {
    "duration": 9,
    "start_time": "2022-05-25T14:42:03.589Z"
   },
   {
    "duration": 580,
    "start_time": "2022-05-25T14:47:39.398Z"
   },
   {
    "duration": 5,
    "start_time": "2022-05-25T14:47:43.256Z"
   },
   {
    "duration": 521,
    "start_time": "2022-05-25T14:47:43.263Z"
   },
   {
    "duration": 12,
    "start_time": "2022-05-25T14:47:43.787Z"
   },
   {
    "duration": 47,
    "start_time": "2022-05-25T14:47:43.801Z"
   },
   {
    "duration": 40,
    "start_time": "2022-05-25T14:47:43.852Z"
   },
   {
    "duration": 29,
    "start_time": "2022-05-25T14:47:43.895Z"
   },
   {
    "duration": 45,
    "start_time": "2022-05-25T14:47:43.926Z"
   },
   {
    "duration": 40,
    "start_time": "2022-05-25T14:47:43.974Z"
   },
   {
    "duration": 48,
    "start_time": "2022-05-25T14:47:44.016Z"
   },
   {
    "duration": 29,
    "start_time": "2022-05-25T14:47:44.067Z"
   },
   {
    "duration": 49,
    "start_time": "2022-05-25T14:47:44.101Z"
   },
   {
    "duration": 45,
    "start_time": "2022-05-25T14:47:44.152Z"
   },
   {
    "duration": 74,
    "start_time": "2022-05-25T14:47:44.199Z"
   },
   {
    "duration": 55,
    "start_time": "2022-05-25T14:47:44.275Z"
   },
   {
    "duration": 0,
    "start_time": "2022-05-25T14:47:44.333Z"
   },
   {
    "duration": 0,
    "start_time": "2022-05-25T14:47:44.334Z"
   },
   {
    "duration": 0,
    "start_time": "2022-05-25T14:47:44.336Z"
   },
   {
    "duration": 0,
    "start_time": "2022-05-25T14:47:44.337Z"
   },
   {
    "duration": 0,
    "start_time": "2022-05-25T14:47:44.340Z"
   },
   {
    "duration": 0,
    "start_time": "2022-05-25T14:47:44.341Z"
   },
   {
    "duration": 0,
    "start_time": "2022-05-25T14:47:44.343Z"
   },
   {
    "duration": 0,
    "start_time": "2022-05-25T14:47:44.345Z"
   },
   {
    "duration": 0,
    "start_time": "2022-05-25T14:47:44.347Z"
   },
   {
    "duration": 0,
    "start_time": "2022-05-25T14:47:44.348Z"
   },
   {
    "duration": 0,
    "start_time": "2022-05-25T14:47:44.349Z"
   },
   {
    "duration": 0,
    "start_time": "2022-05-25T14:47:44.351Z"
   },
   {
    "duration": 0,
    "start_time": "2022-05-25T14:47:44.352Z"
   },
   {
    "duration": 0,
    "start_time": "2022-05-25T14:47:44.355Z"
   },
   {
    "duration": 0,
    "start_time": "2022-05-25T14:47:44.356Z"
   },
   {
    "duration": 0,
    "start_time": "2022-05-25T14:47:44.357Z"
   },
   {
    "duration": 0,
    "start_time": "2022-05-25T14:47:44.358Z"
   },
   {
    "duration": 0,
    "start_time": "2022-05-25T14:47:44.359Z"
   },
   {
    "duration": 0,
    "start_time": "2022-05-25T14:47:44.361Z"
   },
   {
    "duration": 0,
    "start_time": "2022-05-25T14:47:44.362Z"
   },
   {
    "duration": 0,
    "start_time": "2022-05-25T14:47:44.363Z"
   },
   {
    "duration": 0,
    "start_time": "2022-05-25T14:47:44.365Z"
   },
   {
    "duration": 0,
    "start_time": "2022-05-25T14:47:44.366Z"
   },
   {
    "duration": 0,
    "start_time": "2022-05-25T14:47:44.368Z"
   },
   {
    "duration": 0,
    "start_time": "2022-05-25T14:47:44.369Z"
   },
   {
    "duration": 0,
    "start_time": "2022-05-25T14:47:44.370Z"
   },
   {
    "duration": 0,
    "start_time": "2022-05-25T14:47:44.371Z"
   },
   {
    "duration": 0,
    "start_time": "2022-05-25T14:47:44.372Z"
   },
   {
    "duration": 0,
    "start_time": "2022-05-25T14:47:44.373Z"
   },
   {
    "duration": 0,
    "start_time": "2022-05-25T14:47:44.374Z"
   },
   {
    "duration": 0,
    "start_time": "2022-05-25T14:47:44.376Z"
   },
   {
    "duration": 0,
    "start_time": "2022-05-25T14:47:44.376Z"
   },
   {
    "duration": 0,
    "start_time": "2022-05-25T14:47:44.378Z"
   },
   {
    "duration": 0,
    "start_time": "2022-05-25T14:47:44.378Z"
   },
   {
    "duration": 0,
    "start_time": "2022-05-25T14:47:44.380Z"
   },
   {
    "duration": 0,
    "start_time": "2022-05-25T14:47:44.381Z"
   },
   {
    "duration": 0,
    "start_time": "2022-05-25T14:47:44.381Z"
   },
   {
    "duration": 0,
    "start_time": "2022-05-25T14:47:44.383Z"
   },
   {
    "duration": 0,
    "start_time": "2022-05-25T14:47:44.384Z"
   },
   {
    "duration": 0,
    "start_time": "2022-05-25T14:47:44.385Z"
   },
   {
    "duration": 0,
    "start_time": "2022-05-25T14:47:44.387Z"
   },
   {
    "duration": 0,
    "start_time": "2022-05-25T14:47:44.388Z"
   },
   {
    "duration": 0,
    "start_time": "2022-05-25T14:47:44.389Z"
   },
   {
    "duration": 0,
    "start_time": "2022-05-25T14:47:44.391Z"
   },
   {
    "duration": 0,
    "start_time": "2022-05-25T14:47:44.392Z"
   },
   {
    "duration": 0,
    "start_time": "2022-05-25T14:47:44.393Z"
   },
   {
    "duration": 0,
    "start_time": "2022-05-25T14:47:44.452Z"
   },
   {
    "duration": 0,
    "start_time": "2022-05-25T14:47:44.454Z"
   },
   {
    "duration": 0,
    "start_time": "2022-05-25T14:47:44.455Z"
   },
   {
    "duration": 0,
    "start_time": "2022-05-25T14:47:44.457Z"
   },
   {
    "duration": 0,
    "start_time": "2022-05-25T14:47:44.458Z"
   },
   {
    "duration": 0,
    "start_time": "2022-05-25T14:47:44.459Z"
   },
   {
    "duration": 0,
    "start_time": "2022-05-25T14:47:44.461Z"
   },
   {
    "duration": 0,
    "start_time": "2022-05-25T14:47:44.462Z"
   },
   {
    "duration": 0,
    "start_time": "2022-05-25T14:47:44.464Z"
   },
   {
    "duration": 0,
    "start_time": "2022-05-25T14:47:44.466Z"
   },
   {
    "duration": 0,
    "start_time": "2022-05-25T14:47:44.467Z"
   },
   {
    "duration": 0,
    "start_time": "2022-05-25T14:47:44.469Z"
   },
   {
    "duration": 0,
    "start_time": "2022-05-25T14:47:44.470Z"
   },
   {
    "duration": 0,
    "start_time": "2022-05-25T14:47:44.471Z"
   },
   {
    "duration": 0,
    "start_time": "2022-05-25T14:47:44.473Z"
   },
   {
    "duration": 0,
    "start_time": "2022-05-25T14:47:44.474Z"
   },
   {
    "duration": 0,
    "start_time": "2022-05-25T14:47:44.476Z"
   },
   {
    "duration": 11,
    "start_time": "2022-05-25T14:49:10.547Z"
   },
   {
    "duration": 4,
    "start_time": "2022-05-25T14:49:17.898Z"
   },
   {
    "duration": 600,
    "start_time": "2022-05-25T14:49:17.905Z"
   },
   {
    "duration": 14,
    "start_time": "2022-05-25T14:49:18.508Z"
   },
   {
    "duration": 24,
    "start_time": "2022-05-25T14:49:18.524Z"
   },
   {
    "duration": 6,
    "start_time": "2022-05-25T14:49:18.555Z"
   },
   {
    "duration": 18,
    "start_time": "2022-05-25T14:49:18.563Z"
   },
   {
    "duration": 16,
    "start_time": "2022-05-25T14:49:18.583Z"
   },
   {
    "duration": 13,
    "start_time": "2022-05-25T14:49:18.601Z"
   },
   {
    "duration": 15,
    "start_time": "2022-05-25T14:49:18.616Z"
   },
   {
    "duration": 13,
    "start_time": "2022-05-25T14:49:18.634Z"
   },
   {
    "duration": 9,
    "start_time": "2022-05-25T14:49:18.650Z"
   },
   {
    "duration": 10,
    "start_time": "2022-05-25T14:49:18.661Z"
   },
   {
    "duration": 18,
    "start_time": "2022-05-25T14:49:18.673Z"
   },
   {
    "duration": 10,
    "start_time": "2022-05-25T14:49:18.693Z"
   },
   {
    "duration": 31,
    "start_time": "2022-05-25T14:49:18.705Z"
   },
   {
    "duration": 0,
    "start_time": "2022-05-25T14:49:18.754Z"
   },
   {
    "duration": 0,
    "start_time": "2022-05-25T14:49:18.755Z"
   },
   {
    "duration": 0,
    "start_time": "2022-05-25T14:49:18.757Z"
   },
   {
    "duration": 0,
    "start_time": "2022-05-25T14:49:18.759Z"
   },
   {
    "duration": 0,
    "start_time": "2022-05-25T14:49:18.761Z"
   },
   {
    "duration": 0,
    "start_time": "2022-05-25T14:49:18.762Z"
   },
   {
    "duration": 0,
    "start_time": "2022-05-25T14:49:18.763Z"
   },
   {
    "duration": 0,
    "start_time": "2022-05-25T14:49:18.765Z"
   },
   {
    "duration": 0,
    "start_time": "2022-05-25T14:49:18.767Z"
   },
   {
    "duration": 0,
    "start_time": "2022-05-25T14:49:18.769Z"
   },
   {
    "duration": 0,
    "start_time": "2022-05-25T14:49:18.771Z"
   },
   {
    "duration": 0,
    "start_time": "2022-05-25T14:49:18.772Z"
   },
   {
    "duration": 0,
    "start_time": "2022-05-25T14:49:18.773Z"
   },
   {
    "duration": 0,
    "start_time": "2022-05-25T14:49:18.775Z"
   },
   {
    "duration": 0,
    "start_time": "2022-05-25T14:49:18.777Z"
   },
   {
    "duration": 0,
    "start_time": "2022-05-25T14:49:18.779Z"
   },
   {
    "duration": 0,
    "start_time": "2022-05-25T14:49:18.780Z"
   },
   {
    "duration": 0,
    "start_time": "2022-05-25T14:49:18.782Z"
   },
   {
    "duration": 0,
    "start_time": "2022-05-25T14:49:18.783Z"
   },
   {
    "duration": 0,
    "start_time": "2022-05-25T14:49:18.785Z"
   },
   {
    "duration": 0,
    "start_time": "2022-05-25T14:49:18.786Z"
   },
   {
    "duration": 0,
    "start_time": "2022-05-25T14:49:18.787Z"
   },
   {
    "duration": 0,
    "start_time": "2022-05-25T14:49:18.789Z"
   },
   {
    "duration": 0,
    "start_time": "2022-05-25T14:49:18.790Z"
   },
   {
    "duration": 0,
    "start_time": "2022-05-25T14:49:18.791Z"
   },
   {
    "duration": 0,
    "start_time": "2022-05-25T14:49:18.792Z"
   },
   {
    "duration": 0,
    "start_time": "2022-05-25T14:49:18.852Z"
   },
   {
    "duration": 0,
    "start_time": "2022-05-25T14:49:18.854Z"
   },
   {
    "duration": 0,
    "start_time": "2022-05-25T14:49:18.856Z"
   },
   {
    "duration": 0,
    "start_time": "2022-05-25T14:49:18.857Z"
   },
   {
    "duration": 0,
    "start_time": "2022-05-25T14:49:18.859Z"
   },
   {
    "duration": 0,
    "start_time": "2022-05-25T14:49:18.860Z"
   },
   {
    "duration": 0,
    "start_time": "2022-05-25T14:49:18.862Z"
   },
   {
    "duration": 0,
    "start_time": "2022-05-25T14:49:18.864Z"
   },
   {
    "duration": 0,
    "start_time": "2022-05-25T14:49:18.865Z"
   },
   {
    "duration": 0,
    "start_time": "2022-05-25T14:49:18.866Z"
   },
   {
    "duration": 0,
    "start_time": "2022-05-25T14:49:18.868Z"
   },
   {
    "duration": 0,
    "start_time": "2022-05-25T14:49:18.870Z"
   },
   {
    "duration": 0,
    "start_time": "2022-05-25T14:49:18.871Z"
   },
   {
    "duration": 0,
    "start_time": "2022-05-25T14:49:18.873Z"
   },
   {
    "duration": 0,
    "start_time": "2022-05-25T14:49:18.875Z"
   },
   {
    "duration": 0,
    "start_time": "2022-05-25T14:49:18.877Z"
   },
   {
    "duration": 0,
    "start_time": "2022-05-25T14:49:18.880Z"
   },
   {
    "duration": 0,
    "start_time": "2022-05-25T14:49:18.880Z"
   },
   {
    "duration": 0,
    "start_time": "2022-05-25T14:49:18.881Z"
   },
   {
    "duration": 0,
    "start_time": "2022-05-25T14:49:18.882Z"
   },
   {
    "duration": 0,
    "start_time": "2022-05-25T14:49:18.884Z"
   },
   {
    "duration": 0,
    "start_time": "2022-05-25T14:49:18.886Z"
   },
   {
    "duration": 0,
    "start_time": "2022-05-25T14:49:18.887Z"
   },
   {
    "duration": 0,
    "start_time": "2022-05-25T14:49:18.889Z"
   },
   {
    "duration": 0,
    "start_time": "2022-05-25T14:49:18.891Z"
   },
   {
    "duration": 0,
    "start_time": "2022-05-25T14:49:18.953Z"
   },
   {
    "duration": 0,
    "start_time": "2022-05-25T14:49:18.955Z"
   },
   {
    "duration": 0,
    "start_time": "2022-05-25T14:49:18.956Z"
   },
   {
    "duration": 0,
    "start_time": "2022-05-25T14:49:18.958Z"
   },
   {
    "duration": 0,
    "start_time": "2022-05-25T14:49:18.960Z"
   },
   {
    "duration": 0,
    "start_time": "2022-05-25T14:49:18.962Z"
   },
   {
    "duration": 0,
    "start_time": "2022-05-25T14:49:18.963Z"
   },
   {
    "duration": 0,
    "start_time": "2022-05-25T14:49:18.965Z"
   },
   {
    "duration": 0,
    "start_time": "2022-05-25T14:49:18.967Z"
   },
   {
    "duration": 0,
    "start_time": "2022-05-25T14:49:18.971Z"
   },
   {
    "duration": 0,
    "start_time": "2022-05-25T14:49:18.973Z"
   },
   {
    "duration": 4,
    "start_time": "2022-05-25T14:51:28.153Z"
   },
   {
    "duration": 422,
    "start_time": "2022-05-25T14:51:28.159Z"
   },
   {
    "duration": 10,
    "start_time": "2022-05-25T14:51:28.583Z"
   },
   {
    "duration": 20,
    "start_time": "2022-05-25T14:51:28.595Z"
   },
   {
    "duration": 24,
    "start_time": "2022-05-25T14:51:28.617Z"
   },
   {
    "duration": 10,
    "start_time": "2022-05-25T14:51:28.643Z"
   },
   {
    "duration": 14,
    "start_time": "2022-05-25T14:51:28.655Z"
   },
   {
    "duration": 7,
    "start_time": "2022-05-25T14:51:28.671Z"
   },
   {
    "duration": 10,
    "start_time": "2022-05-25T14:51:28.680Z"
   },
   {
    "duration": 13,
    "start_time": "2022-05-25T14:51:28.692Z"
   },
   {
    "duration": 7,
    "start_time": "2022-05-25T14:51:28.706Z"
   },
   {
    "duration": 8,
    "start_time": "2022-05-25T14:51:28.715Z"
   },
   {
    "duration": 13,
    "start_time": "2022-05-25T14:51:28.725Z"
   },
   {
    "duration": 19,
    "start_time": "2022-05-25T14:51:28.741Z"
   },
   {
    "duration": 0,
    "start_time": "2022-05-25T14:51:28.762Z"
   },
   {
    "duration": 0,
    "start_time": "2022-05-25T14:51:28.764Z"
   },
   {
    "duration": 0,
    "start_time": "2022-05-25T14:51:28.765Z"
   },
   {
    "duration": 0,
    "start_time": "2022-05-25T14:51:28.767Z"
   },
   {
    "duration": 0,
    "start_time": "2022-05-25T14:51:28.768Z"
   },
   {
    "duration": 0,
    "start_time": "2022-05-25T14:51:28.770Z"
   },
   {
    "duration": 0,
    "start_time": "2022-05-25T14:51:28.771Z"
   },
   {
    "duration": 0,
    "start_time": "2022-05-25T14:51:28.772Z"
   },
   {
    "duration": 0,
    "start_time": "2022-05-25T14:51:28.774Z"
   },
   {
    "duration": 0,
    "start_time": "2022-05-25T14:51:28.775Z"
   },
   {
    "duration": 0,
    "start_time": "2022-05-25T14:51:28.777Z"
   },
   {
    "duration": 0,
    "start_time": "2022-05-25T14:51:28.782Z"
   },
   {
    "duration": 0,
    "start_time": "2022-05-25T14:51:28.784Z"
   },
   {
    "duration": 0,
    "start_time": "2022-05-25T14:51:28.784Z"
   },
   {
    "duration": 0,
    "start_time": "2022-05-25T14:51:28.786Z"
   },
   {
    "duration": 0,
    "start_time": "2022-05-25T14:51:28.787Z"
   },
   {
    "duration": 0,
    "start_time": "2022-05-25T14:51:28.788Z"
   },
   {
    "duration": 0,
    "start_time": "2022-05-25T14:51:28.790Z"
   },
   {
    "duration": 0,
    "start_time": "2022-05-25T14:51:28.791Z"
   },
   {
    "duration": 0,
    "start_time": "2022-05-25T14:51:28.793Z"
   },
   {
    "duration": 0,
    "start_time": "2022-05-25T14:51:28.794Z"
   },
   {
    "duration": 0,
    "start_time": "2022-05-25T14:51:28.795Z"
   },
   {
    "duration": 0,
    "start_time": "2022-05-25T14:51:28.797Z"
   },
   {
    "duration": 0,
    "start_time": "2022-05-25T14:51:28.798Z"
   },
   {
    "duration": 0,
    "start_time": "2022-05-25T14:51:28.852Z"
   },
   {
    "duration": 0,
    "start_time": "2022-05-25T14:51:28.854Z"
   },
   {
    "duration": 0,
    "start_time": "2022-05-25T14:51:28.855Z"
   },
   {
    "duration": 0,
    "start_time": "2022-05-25T14:51:28.856Z"
   },
   {
    "duration": 0,
    "start_time": "2022-05-25T14:51:28.858Z"
   },
   {
    "duration": 0,
    "start_time": "2022-05-25T14:51:28.859Z"
   },
   {
    "duration": 0,
    "start_time": "2022-05-25T14:51:28.860Z"
   },
   {
    "duration": 0,
    "start_time": "2022-05-25T14:51:28.861Z"
   },
   {
    "duration": 0,
    "start_time": "2022-05-25T14:51:28.862Z"
   },
   {
    "duration": 0,
    "start_time": "2022-05-25T14:51:28.863Z"
   },
   {
    "duration": 0,
    "start_time": "2022-05-25T14:51:28.864Z"
   },
   {
    "duration": 0,
    "start_time": "2022-05-25T14:51:28.865Z"
   },
   {
    "duration": 0,
    "start_time": "2022-05-25T14:51:28.866Z"
   },
   {
    "duration": 0,
    "start_time": "2022-05-25T14:51:28.867Z"
   },
   {
    "duration": 0,
    "start_time": "2022-05-25T14:51:28.868Z"
   },
   {
    "duration": 0,
    "start_time": "2022-05-25T14:51:28.870Z"
   },
   {
    "duration": 0,
    "start_time": "2022-05-25T14:51:28.871Z"
   },
   {
    "duration": 0,
    "start_time": "2022-05-25T14:51:28.872Z"
   },
   {
    "duration": 0,
    "start_time": "2022-05-25T14:51:28.873Z"
   },
   {
    "duration": 0,
    "start_time": "2022-05-25T14:51:28.874Z"
   },
   {
    "duration": 0,
    "start_time": "2022-05-25T14:51:28.875Z"
   },
   {
    "duration": 0,
    "start_time": "2022-05-25T14:51:28.876Z"
   },
   {
    "duration": 0,
    "start_time": "2022-05-25T14:51:28.878Z"
   },
   {
    "duration": 0,
    "start_time": "2022-05-25T14:51:28.879Z"
   },
   {
    "duration": 0,
    "start_time": "2022-05-25T14:51:28.880Z"
   },
   {
    "duration": 0,
    "start_time": "2022-05-25T14:51:28.881Z"
   },
   {
    "duration": 0,
    "start_time": "2022-05-25T14:51:28.882Z"
   },
   {
    "duration": 0,
    "start_time": "2022-05-25T14:51:28.883Z"
   },
   {
    "duration": 0,
    "start_time": "2022-05-25T14:51:28.884Z"
   },
   {
    "duration": 0,
    "start_time": "2022-05-25T14:51:28.885Z"
   },
   {
    "duration": 0,
    "start_time": "2022-05-25T14:51:28.887Z"
   },
   {
    "duration": 0,
    "start_time": "2022-05-25T14:51:28.887Z"
   },
   {
    "duration": 0,
    "start_time": "2022-05-25T14:51:28.888Z"
   },
   {
    "duration": 0,
    "start_time": "2022-05-25T14:51:28.889Z"
   },
   {
    "duration": 0,
    "start_time": "2022-05-25T14:51:28.952Z"
   },
   {
    "duration": 0,
    "start_time": "2022-05-25T14:51:28.953Z"
   },
   {
    "duration": 0,
    "start_time": "2022-05-25T14:51:28.954Z"
   },
   {
    "duration": 0,
    "start_time": "2022-05-25T14:51:28.956Z"
   },
   {
    "duration": 0,
    "start_time": "2022-05-25T14:51:28.957Z"
   },
   {
    "duration": 4,
    "start_time": "2022-05-25T14:51:47.841Z"
   },
   {
    "duration": 491,
    "start_time": "2022-05-25T14:51:47.848Z"
   },
   {
    "duration": 10,
    "start_time": "2022-05-25T14:51:48.342Z"
   },
   {
    "duration": 16,
    "start_time": "2022-05-25T14:51:48.354Z"
   },
   {
    "duration": 21,
    "start_time": "2022-05-25T14:51:48.373Z"
   },
   {
    "duration": 22,
    "start_time": "2022-05-25T14:51:48.396Z"
   },
   {
    "duration": 22,
    "start_time": "2022-05-25T14:51:48.420Z"
   },
   {
    "duration": 12,
    "start_time": "2022-05-25T14:51:48.443Z"
   },
   {
    "duration": 21,
    "start_time": "2022-05-25T14:51:48.457Z"
   },
   {
    "duration": 11,
    "start_time": "2022-05-25T14:51:48.480Z"
   },
   {
    "duration": 9,
    "start_time": "2022-05-25T14:51:48.494Z"
   },
   {
    "duration": 26,
    "start_time": "2022-05-25T14:51:48.506Z"
   },
   {
    "duration": 23,
    "start_time": "2022-05-25T14:51:48.535Z"
   },
   {
    "duration": 26,
    "start_time": "2022-05-25T14:51:48.559Z"
   },
   {
    "duration": 0,
    "start_time": "2022-05-25T14:51:48.589Z"
   },
   {
    "duration": 0,
    "start_time": "2022-05-25T14:51:48.590Z"
   },
   {
    "duration": 0,
    "start_time": "2022-05-25T14:51:48.592Z"
   },
   {
    "duration": 0,
    "start_time": "2022-05-25T14:51:48.593Z"
   },
   {
    "duration": 0,
    "start_time": "2022-05-25T14:51:48.595Z"
   },
   {
    "duration": 0,
    "start_time": "2022-05-25T14:51:48.596Z"
   },
   {
    "duration": 0,
    "start_time": "2022-05-25T14:51:48.598Z"
   },
   {
    "duration": 0,
    "start_time": "2022-05-25T14:51:48.599Z"
   },
   {
    "duration": 0,
    "start_time": "2022-05-25T14:51:48.601Z"
   },
   {
    "duration": 0,
    "start_time": "2022-05-25T14:51:48.602Z"
   },
   {
    "duration": 0,
    "start_time": "2022-05-25T14:51:48.604Z"
   },
   {
    "duration": 0,
    "start_time": "2022-05-25T14:51:48.605Z"
   },
   {
    "duration": 0,
    "start_time": "2022-05-25T14:51:48.606Z"
   },
   {
    "duration": 0,
    "start_time": "2022-05-25T14:51:48.608Z"
   },
   {
    "duration": 0,
    "start_time": "2022-05-25T14:51:48.610Z"
   },
   {
    "duration": 0,
    "start_time": "2022-05-25T14:51:48.611Z"
   },
   {
    "duration": 0,
    "start_time": "2022-05-25T14:51:48.652Z"
   },
   {
    "duration": 0,
    "start_time": "2022-05-25T14:51:48.654Z"
   },
   {
    "duration": 0,
    "start_time": "2022-05-25T14:51:48.656Z"
   },
   {
    "duration": 0,
    "start_time": "2022-05-25T14:51:48.657Z"
   },
   {
    "duration": 0,
    "start_time": "2022-05-25T14:51:48.659Z"
   },
   {
    "duration": 0,
    "start_time": "2022-05-25T14:51:48.660Z"
   },
   {
    "duration": 0,
    "start_time": "2022-05-25T14:51:48.661Z"
   },
   {
    "duration": 0,
    "start_time": "2022-05-25T14:51:48.663Z"
   },
   {
    "duration": 0,
    "start_time": "2022-05-25T14:51:48.664Z"
   },
   {
    "duration": 0,
    "start_time": "2022-05-25T14:51:48.665Z"
   },
   {
    "duration": 0,
    "start_time": "2022-05-25T14:51:48.666Z"
   },
   {
    "duration": 0,
    "start_time": "2022-05-25T14:51:48.667Z"
   },
   {
    "duration": 0,
    "start_time": "2022-05-25T14:51:48.669Z"
   },
   {
    "duration": 0,
    "start_time": "2022-05-25T14:51:48.670Z"
   },
   {
    "duration": 0,
    "start_time": "2022-05-25T14:51:48.671Z"
   },
   {
    "duration": 0,
    "start_time": "2022-05-25T14:51:48.672Z"
   },
   {
    "duration": 0,
    "start_time": "2022-05-25T14:51:48.674Z"
   },
   {
    "duration": 0,
    "start_time": "2022-05-25T14:51:48.675Z"
   },
   {
    "duration": 0,
    "start_time": "2022-05-25T14:51:48.676Z"
   },
   {
    "duration": 0,
    "start_time": "2022-05-25T14:51:48.678Z"
   },
   {
    "duration": 0,
    "start_time": "2022-05-25T14:51:48.679Z"
   },
   {
    "duration": 0,
    "start_time": "2022-05-25T14:51:48.683Z"
   },
   {
    "duration": 0,
    "start_time": "2022-05-25T14:51:48.684Z"
   },
   {
    "duration": 0,
    "start_time": "2022-05-25T14:51:48.685Z"
   },
   {
    "duration": 0,
    "start_time": "2022-05-25T14:51:48.687Z"
   },
   {
    "duration": 0,
    "start_time": "2022-05-25T14:51:48.688Z"
   },
   {
    "duration": 0,
    "start_time": "2022-05-25T14:51:48.752Z"
   },
   {
    "duration": 0,
    "start_time": "2022-05-25T14:51:48.753Z"
   },
   {
    "duration": 0,
    "start_time": "2022-05-25T14:51:48.754Z"
   },
   {
    "duration": 0,
    "start_time": "2022-05-25T14:51:48.756Z"
   },
   {
    "duration": 0,
    "start_time": "2022-05-25T14:51:48.758Z"
   },
   {
    "duration": 0,
    "start_time": "2022-05-25T14:51:48.760Z"
   },
   {
    "duration": 0,
    "start_time": "2022-05-25T14:51:48.761Z"
   },
   {
    "duration": 0,
    "start_time": "2022-05-25T14:51:48.762Z"
   },
   {
    "duration": 0,
    "start_time": "2022-05-25T14:51:48.762Z"
   },
   {
    "duration": 0,
    "start_time": "2022-05-25T14:51:48.764Z"
   },
   {
    "duration": 0,
    "start_time": "2022-05-25T14:51:48.765Z"
   },
   {
    "duration": 0,
    "start_time": "2022-05-25T14:51:48.767Z"
   },
   {
    "duration": 0,
    "start_time": "2022-05-25T14:51:48.769Z"
   },
   {
    "duration": 0,
    "start_time": "2022-05-25T14:51:48.770Z"
   },
   {
    "duration": 0,
    "start_time": "2022-05-25T14:51:48.772Z"
   },
   {
    "duration": 0,
    "start_time": "2022-05-25T14:51:48.773Z"
   },
   {
    "duration": 0,
    "start_time": "2022-05-25T14:51:48.774Z"
   },
   {
    "duration": 0,
    "start_time": "2022-05-25T14:51:48.776Z"
   },
   {
    "duration": 0,
    "start_time": "2022-05-25T14:51:48.777Z"
   },
   {
    "duration": 0,
    "start_time": "2022-05-25T14:51:48.778Z"
   },
   {
    "duration": 0,
    "start_time": "2022-05-25T14:51:48.779Z"
   },
   {
    "duration": 16,
    "start_time": "2022-05-25T14:52:49.852Z"
   },
   {
    "duration": 4,
    "start_time": "2022-05-25T14:53:00.859Z"
   },
   {
    "duration": 565,
    "start_time": "2022-05-25T14:53:00.865Z"
   },
   {
    "duration": 12,
    "start_time": "2022-05-25T14:53:01.432Z"
   },
   {
    "duration": 68,
    "start_time": "2022-05-25T14:53:01.446Z"
   },
   {
    "duration": 28,
    "start_time": "2022-05-25T14:53:01.517Z"
   },
   {
    "duration": 69,
    "start_time": "2022-05-25T14:53:01.548Z"
   },
   {
    "duration": 46,
    "start_time": "2022-05-25T14:53:01.619Z"
   },
   {
    "duration": 31,
    "start_time": "2022-05-25T14:53:01.668Z"
   },
   {
    "duration": 20,
    "start_time": "2022-05-25T14:53:01.701Z"
   },
   {
    "duration": 13,
    "start_time": "2022-05-25T14:53:01.723Z"
   },
   {
    "duration": 14,
    "start_time": "2022-05-25T14:53:01.739Z"
   },
   {
    "duration": 19,
    "start_time": "2022-05-25T14:53:01.760Z"
   },
   {
    "duration": 45,
    "start_time": "2022-05-25T14:53:01.781Z"
   },
   {
    "duration": 52,
    "start_time": "2022-05-25T14:53:01.831Z"
   },
   {
    "duration": 0,
    "start_time": "2022-05-25T14:53:01.887Z"
   },
   {
    "duration": 0,
    "start_time": "2022-05-25T14:53:01.888Z"
   },
   {
    "duration": 0,
    "start_time": "2022-05-25T14:53:01.890Z"
   },
   {
    "duration": 0,
    "start_time": "2022-05-25T14:53:01.891Z"
   },
   {
    "duration": 0,
    "start_time": "2022-05-25T14:53:01.892Z"
   },
   {
    "duration": 0,
    "start_time": "2022-05-25T14:53:01.893Z"
   },
   {
    "duration": 0,
    "start_time": "2022-05-25T14:53:01.894Z"
   },
   {
    "duration": 0,
    "start_time": "2022-05-25T14:53:01.896Z"
   },
   {
    "duration": 0,
    "start_time": "2022-05-25T14:53:01.897Z"
   },
   {
    "duration": 0,
    "start_time": "2022-05-25T14:53:01.897Z"
   },
   {
    "duration": 0,
    "start_time": "2022-05-25T14:53:01.900Z"
   },
   {
    "duration": 0,
    "start_time": "2022-05-25T14:53:01.901Z"
   },
   {
    "duration": 0,
    "start_time": "2022-05-25T14:53:01.903Z"
   },
   {
    "duration": 0,
    "start_time": "2022-05-25T14:53:01.904Z"
   },
   {
    "duration": 0,
    "start_time": "2022-05-25T14:53:01.905Z"
   },
   {
    "duration": 0,
    "start_time": "2022-05-25T14:53:01.906Z"
   },
   {
    "duration": 0,
    "start_time": "2022-05-25T14:53:01.908Z"
   },
   {
    "duration": 0,
    "start_time": "2022-05-25T14:53:01.910Z"
   },
   {
    "duration": 0,
    "start_time": "2022-05-25T14:53:01.913Z"
   },
   {
    "duration": 0,
    "start_time": "2022-05-25T14:53:01.915Z"
   },
   {
    "duration": 0,
    "start_time": "2022-05-25T14:53:01.916Z"
   },
   {
    "duration": 0,
    "start_time": "2022-05-25T14:53:01.917Z"
   },
   {
    "duration": 0,
    "start_time": "2022-05-25T14:53:01.919Z"
   },
   {
    "duration": 0,
    "start_time": "2022-05-25T14:53:01.922Z"
   },
   {
    "duration": 0,
    "start_time": "2022-05-25T14:53:01.923Z"
   },
   {
    "duration": 0,
    "start_time": "2022-05-25T14:53:01.924Z"
   },
   {
    "duration": 0,
    "start_time": "2022-05-25T14:53:01.925Z"
   },
   {
    "duration": 0,
    "start_time": "2022-05-25T14:53:01.926Z"
   },
   {
    "duration": 0,
    "start_time": "2022-05-25T14:53:01.953Z"
   },
   {
    "duration": 0,
    "start_time": "2022-05-25T14:53:01.954Z"
   },
   {
    "duration": 0,
    "start_time": "2022-05-25T14:53:01.957Z"
   },
   {
    "duration": 0,
    "start_time": "2022-05-25T14:53:01.958Z"
   },
   {
    "duration": 0,
    "start_time": "2022-05-25T14:53:01.960Z"
   },
   {
    "duration": 0,
    "start_time": "2022-05-25T14:53:01.962Z"
   },
   {
    "duration": 0,
    "start_time": "2022-05-25T14:53:01.963Z"
   },
   {
    "duration": 0,
    "start_time": "2022-05-25T14:53:01.964Z"
   },
   {
    "duration": 0,
    "start_time": "2022-05-25T14:53:01.966Z"
   },
   {
    "duration": 0,
    "start_time": "2022-05-25T14:53:01.967Z"
   },
   {
    "duration": 0,
    "start_time": "2022-05-25T14:53:01.968Z"
   },
   {
    "duration": 0,
    "start_time": "2022-05-25T14:53:01.969Z"
   },
   {
    "duration": 0,
    "start_time": "2022-05-25T14:53:01.971Z"
   },
   {
    "duration": 0,
    "start_time": "2022-05-25T14:53:01.973Z"
   },
   {
    "duration": 0,
    "start_time": "2022-05-25T14:53:01.974Z"
   },
   {
    "duration": 0,
    "start_time": "2022-05-25T14:53:01.977Z"
   },
   {
    "duration": 0,
    "start_time": "2022-05-25T14:53:01.978Z"
   },
   {
    "duration": 1,
    "start_time": "2022-05-25T14:53:01.979Z"
   },
   {
    "duration": 0,
    "start_time": "2022-05-25T14:53:01.981Z"
   },
   {
    "duration": 0,
    "start_time": "2022-05-25T14:53:01.983Z"
   },
   {
    "duration": 0,
    "start_time": "2022-05-25T14:53:01.984Z"
   },
   {
    "duration": 0,
    "start_time": "2022-05-25T14:53:01.986Z"
   },
   {
    "duration": 0,
    "start_time": "2022-05-25T14:53:01.987Z"
   },
   {
    "duration": 0,
    "start_time": "2022-05-25T14:53:01.988Z"
   },
   {
    "duration": 0,
    "start_time": "2022-05-25T14:53:01.990Z"
   },
   {
    "duration": 0,
    "start_time": "2022-05-25T14:53:01.991Z"
   },
   {
    "duration": 0,
    "start_time": "2022-05-25T14:53:01.992Z"
   },
   {
    "duration": 0,
    "start_time": "2022-05-25T14:53:01.993Z"
   },
   {
    "duration": 0,
    "start_time": "2022-05-25T14:53:01.995Z"
   },
   {
    "duration": 0,
    "start_time": "2022-05-25T14:53:01.998Z"
   },
   {
    "duration": 0,
    "start_time": "2022-05-25T14:53:02.000Z"
   },
   {
    "duration": 0,
    "start_time": "2022-05-25T14:53:02.051Z"
   },
   {
    "duration": 0,
    "start_time": "2022-05-25T14:53:02.052Z"
   },
   {
    "duration": 0,
    "start_time": "2022-05-25T14:53:02.054Z"
   },
   {
    "duration": 0,
    "start_time": "2022-05-25T14:53:02.055Z"
   },
   {
    "duration": 14,
    "start_time": "2022-05-25T14:53:16.072Z"
   },
   {
    "duration": 21,
    "start_time": "2022-05-25T14:53:33.058Z"
   },
   {
    "duration": 4,
    "start_time": "2022-05-25T14:53:35.785Z"
   },
   {
    "duration": 542,
    "start_time": "2022-05-25T14:53:35.791Z"
   },
   {
    "duration": 16,
    "start_time": "2022-05-25T14:53:36.336Z"
   },
   {
    "duration": 26,
    "start_time": "2022-05-25T14:53:36.353Z"
   },
   {
    "duration": 10,
    "start_time": "2022-05-25T14:53:36.382Z"
   },
   {
    "duration": 11,
    "start_time": "2022-05-25T14:53:36.393Z"
   },
   {
    "duration": 8,
    "start_time": "2022-05-25T14:53:36.406Z"
   },
   {
    "duration": 6,
    "start_time": "2022-05-25T14:53:36.416Z"
   },
   {
    "duration": 29,
    "start_time": "2022-05-25T14:53:36.424Z"
   },
   {
    "duration": 7,
    "start_time": "2022-05-25T14:53:36.455Z"
   },
   {
    "duration": 6,
    "start_time": "2022-05-25T14:53:36.465Z"
   },
   {
    "duration": 18,
    "start_time": "2022-05-25T14:53:36.473Z"
   },
   {
    "duration": 20,
    "start_time": "2022-05-25T14:53:36.494Z"
   },
   {
    "duration": 41,
    "start_time": "2022-05-25T14:53:36.517Z"
   },
   {
    "duration": 0,
    "start_time": "2022-05-25T14:53:36.561Z"
   },
   {
    "duration": 0,
    "start_time": "2022-05-25T14:53:36.563Z"
   },
   {
    "duration": 0,
    "start_time": "2022-05-25T14:53:36.565Z"
   },
   {
    "duration": 0,
    "start_time": "2022-05-25T14:53:36.566Z"
   },
   {
    "duration": 0,
    "start_time": "2022-05-25T14:53:36.569Z"
   },
   {
    "duration": 0,
    "start_time": "2022-05-25T14:53:36.571Z"
   },
   {
    "duration": 0,
    "start_time": "2022-05-25T14:53:36.574Z"
   },
   {
    "duration": 0,
    "start_time": "2022-05-25T14:53:36.576Z"
   },
   {
    "duration": 0,
    "start_time": "2022-05-25T14:53:36.578Z"
   },
   {
    "duration": 0,
    "start_time": "2022-05-25T14:53:36.579Z"
   },
   {
    "duration": 0,
    "start_time": "2022-05-25T14:53:36.580Z"
   },
   {
    "duration": 0,
    "start_time": "2022-05-25T14:53:36.582Z"
   },
   {
    "duration": 0,
    "start_time": "2022-05-25T14:53:36.583Z"
   },
   {
    "duration": 0,
    "start_time": "2022-05-25T14:53:36.585Z"
   },
   {
    "duration": 0,
    "start_time": "2022-05-25T14:53:36.587Z"
   },
   {
    "duration": 0,
    "start_time": "2022-05-25T14:53:36.588Z"
   },
   {
    "duration": 0,
    "start_time": "2022-05-25T14:53:36.590Z"
   },
   {
    "duration": 0,
    "start_time": "2022-05-25T14:53:36.591Z"
   },
   {
    "duration": 0,
    "start_time": "2022-05-25T14:53:36.593Z"
   },
   {
    "duration": 0,
    "start_time": "2022-05-25T14:53:36.595Z"
   },
   {
    "duration": 0,
    "start_time": "2022-05-25T14:53:36.596Z"
   },
   {
    "duration": 0,
    "start_time": "2022-05-25T14:53:36.598Z"
   },
   {
    "duration": 0,
    "start_time": "2022-05-25T14:53:36.653Z"
   },
   {
    "duration": 0,
    "start_time": "2022-05-25T14:53:36.655Z"
   },
   {
    "duration": 0,
    "start_time": "2022-05-25T14:53:36.657Z"
   },
   {
    "duration": 0,
    "start_time": "2022-05-25T14:53:36.659Z"
   },
   {
    "duration": 0,
    "start_time": "2022-05-25T14:53:36.661Z"
   },
   {
    "duration": 0,
    "start_time": "2022-05-25T14:53:36.662Z"
   },
   {
    "duration": 0,
    "start_time": "2022-05-25T14:53:36.664Z"
   },
   {
    "duration": 0,
    "start_time": "2022-05-25T14:53:36.665Z"
   },
   {
    "duration": 0,
    "start_time": "2022-05-25T14:53:36.666Z"
   },
   {
    "duration": 0,
    "start_time": "2022-05-25T14:53:36.667Z"
   },
   {
    "duration": 0,
    "start_time": "2022-05-25T14:53:36.669Z"
   },
   {
    "duration": 0,
    "start_time": "2022-05-25T14:53:36.670Z"
   },
   {
    "duration": 0,
    "start_time": "2022-05-25T14:53:36.671Z"
   },
   {
    "duration": 0,
    "start_time": "2022-05-25T14:53:36.673Z"
   },
   {
    "duration": 0,
    "start_time": "2022-05-25T14:53:36.676Z"
   },
   {
    "duration": 0,
    "start_time": "2022-05-25T14:53:36.678Z"
   },
   {
    "duration": 0,
    "start_time": "2022-05-25T14:53:36.679Z"
   },
   {
    "duration": 0,
    "start_time": "2022-05-25T14:53:36.681Z"
   },
   {
    "duration": 0,
    "start_time": "2022-05-25T14:53:36.683Z"
   },
   {
    "duration": 0,
    "start_time": "2022-05-25T14:53:36.685Z"
   },
   {
    "duration": 0,
    "start_time": "2022-05-25T14:53:36.961Z"
   },
   {
    "duration": 0,
    "start_time": "2022-05-25T14:53:36.962Z"
   },
   {
    "duration": 0,
    "start_time": "2022-05-25T14:53:36.964Z"
   },
   {
    "duration": 0,
    "start_time": "2022-05-25T14:53:36.965Z"
   },
   {
    "duration": 0,
    "start_time": "2022-05-25T14:53:36.966Z"
   },
   {
    "duration": 0,
    "start_time": "2022-05-25T14:53:36.968Z"
   },
   {
    "duration": 0,
    "start_time": "2022-05-25T14:53:36.969Z"
   },
   {
    "duration": 0,
    "start_time": "2022-05-25T14:53:36.970Z"
   },
   {
    "duration": 0,
    "start_time": "2022-05-25T14:53:36.977Z"
   },
   {
    "duration": 0,
    "start_time": "2022-05-25T14:53:36.978Z"
   },
   {
    "duration": 0,
    "start_time": "2022-05-25T14:53:36.979Z"
   },
   {
    "duration": 0,
    "start_time": "2022-05-25T14:53:36.981Z"
   },
   {
    "duration": 0,
    "start_time": "2022-05-25T14:53:36.982Z"
   },
   {
    "duration": 0,
    "start_time": "2022-05-25T14:53:36.983Z"
   },
   {
    "duration": 0,
    "start_time": "2022-05-25T14:53:36.985Z"
   },
   {
    "duration": 0,
    "start_time": "2022-05-25T14:53:36.986Z"
   },
   {
    "duration": 0,
    "start_time": "2022-05-25T14:53:36.988Z"
   },
   {
    "duration": 0,
    "start_time": "2022-05-25T14:53:36.989Z"
   },
   {
    "duration": 0,
    "start_time": "2022-05-25T14:53:36.992Z"
   },
   {
    "duration": 0,
    "start_time": "2022-05-25T14:53:36.994Z"
   },
   {
    "duration": 0,
    "start_time": "2022-05-25T14:53:36.996Z"
   },
   {
    "duration": 4,
    "start_time": "2022-05-25T14:53:59.498Z"
   },
   {
    "duration": 472,
    "start_time": "2022-05-25T14:53:59.504Z"
   },
   {
    "duration": 12,
    "start_time": "2022-05-25T14:53:59.978Z"
   },
   {
    "duration": 33,
    "start_time": "2022-05-25T14:53:59.992Z"
   },
   {
    "duration": 47,
    "start_time": "2022-05-25T14:54:00.029Z"
   },
   {
    "duration": 65,
    "start_time": "2022-05-25T14:54:00.079Z"
   },
   {
    "duration": 69,
    "start_time": "2022-05-25T14:54:00.146Z"
   },
   {
    "duration": 48,
    "start_time": "2022-05-25T14:54:00.217Z"
   },
   {
    "duration": 49,
    "start_time": "2022-05-25T14:54:00.267Z"
   },
   {
    "duration": 34,
    "start_time": "2022-05-25T14:54:00.318Z"
   },
   {
    "duration": 16,
    "start_time": "2022-05-25T14:54:00.355Z"
   },
   {
    "duration": 26,
    "start_time": "2022-05-25T14:54:00.373Z"
   },
   {
    "duration": 40,
    "start_time": "2022-05-25T14:54:00.401Z"
   },
   {
    "duration": 40,
    "start_time": "2022-05-25T14:54:00.443Z"
   },
   {
    "duration": 48,
    "start_time": "2022-05-25T14:54:00.485Z"
   },
   {
    "duration": 0,
    "start_time": "2022-05-25T14:54:00.538Z"
   },
   {
    "duration": 0,
    "start_time": "2022-05-25T14:54:00.540Z"
   },
   {
    "duration": 1,
    "start_time": "2022-05-25T14:54:00.541Z"
   },
   {
    "duration": 0,
    "start_time": "2022-05-25T14:54:00.543Z"
   },
   {
    "duration": 0,
    "start_time": "2022-05-25T14:54:00.544Z"
   },
   {
    "duration": 0,
    "start_time": "2022-05-25T14:54:00.545Z"
   },
   {
    "duration": 0,
    "start_time": "2022-05-25T14:54:00.547Z"
   },
   {
    "duration": 0,
    "start_time": "2022-05-25T14:54:00.548Z"
   },
   {
    "duration": 0,
    "start_time": "2022-05-25T14:54:00.550Z"
   },
   {
    "duration": 0,
    "start_time": "2022-05-25T14:54:00.551Z"
   },
   {
    "duration": 0,
    "start_time": "2022-05-25T14:54:00.553Z"
   },
   {
    "duration": 0,
    "start_time": "2022-05-25T14:54:00.554Z"
   },
   {
    "duration": 0,
    "start_time": "2022-05-25T14:54:00.556Z"
   },
   {
    "duration": 0,
    "start_time": "2022-05-25T14:54:00.557Z"
   },
   {
    "duration": 0,
    "start_time": "2022-05-25T14:54:00.558Z"
   },
   {
    "duration": 0,
    "start_time": "2022-05-25T14:54:00.560Z"
   },
   {
    "duration": 0,
    "start_time": "2022-05-25T14:54:00.562Z"
   },
   {
    "duration": 0,
    "start_time": "2022-05-25T14:54:00.563Z"
   },
   {
    "duration": 0,
    "start_time": "2022-05-25T14:54:00.565Z"
   },
   {
    "duration": 0,
    "start_time": "2022-05-25T14:54:00.566Z"
   },
   {
    "duration": 0,
    "start_time": "2022-05-25T14:54:00.568Z"
   },
   {
    "duration": 0,
    "start_time": "2022-05-25T14:54:00.569Z"
   },
   {
    "duration": 0,
    "start_time": "2022-05-25T14:54:00.571Z"
   },
   {
    "duration": 0,
    "start_time": "2022-05-25T14:54:00.572Z"
   },
   {
    "duration": 0,
    "start_time": "2022-05-25T14:54:00.575Z"
   },
   {
    "duration": 0,
    "start_time": "2022-05-25T14:54:00.576Z"
   },
   {
    "duration": 0,
    "start_time": "2022-05-25T14:54:00.578Z"
   },
   {
    "duration": 0,
    "start_time": "2022-05-25T14:54:00.579Z"
   },
   {
    "duration": 0,
    "start_time": "2022-05-25T14:54:00.581Z"
   },
   {
    "duration": 0,
    "start_time": "2022-05-25T14:54:00.582Z"
   },
   {
    "duration": 0,
    "start_time": "2022-05-25T14:54:00.583Z"
   },
   {
    "duration": 0,
    "start_time": "2022-05-25T14:54:00.585Z"
   },
   {
    "duration": 0,
    "start_time": "2022-05-25T14:54:00.586Z"
   },
   {
    "duration": 0,
    "start_time": "2022-05-25T14:54:00.588Z"
   },
   {
    "duration": 0,
    "start_time": "2022-05-25T14:54:00.589Z"
   },
   {
    "duration": 0,
    "start_time": "2022-05-25T14:54:00.591Z"
   },
   {
    "duration": 0,
    "start_time": "2022-05-25T14:54:00.653Z"
   },
   {
    "duration": 0,
    "start_time": "2022-05-25T14:54:00.654Z"
   },
   {
    "duration": 0,
    "start_time": "2022-05-25T14:54:00.655Z"
   },
   {
    "duration": 0,
    "start_time": "2022-05-25T14:54:00.657Z"
   },
   {
    "duration": 0,
    "start_time": "2022-05-25T14:54:00.658Z"
   },
   {
    "duration": 0,
    "start_time": "2022-05-25T14:54:00.660Z"
   },
   {
    "duration": 0,
    "start_time": "2022-05-25T14:54:00.662Z"
   },
   {
    "duration": 0,
    "start_time": "2022-05-25T14:54:00.663Z"
   },
   {
    "duration": 0,
    "start_time": "2022-05-25T14:54:00.665Z"
   },
   {
    "duration": 0,
    "start_time": "2022-05-25T14:54:00.667Z"
   },
   {
    "duration": 0,
    "start_time": "2022-05-25T14:54:00.668Z"
   },
   {
    "duration": 0,
    "start_time": "2022-05-25T14:54:00.669Z"
   },
   {
    "duration": 0,
    "start_time": "2022-05-25T14:54:00.671Z"
   },
   {
    "duration": 0,
    "start_time": "2022-05-25T14:54:00.672Z"
   },
   {
    "duration": 0,
    "start_time": "2022-05-25T14:54:00.674Z"
   },
   {
    "duration": 0,
    "start_time": "2022-05-25T14:54:00.675Z"
   },
   {
    "duration": 0,
    "start_time": "2022-05-25T14:54:00.676Z"
   },
   {
    "duration": 0,
    "start_time": "2022-05-25T14:54:00.678Z"
   },
   {
    "duration": 0,
    "start_time": "2022-05-25T14:54:00.679Z"
   },
   {
    "duration": 0,
    "start_time": "2022-05-25T14:54:00.680Z"
   },
   {
    "duration": 0,
    "start_time": "2022-05-25T14:54:00.682Z"
   },
   {
    "duration": 0,
    "start_time": "2022-05-25T14:54:00.684Z"
   },
   {
    "duration": 0,
    "start_time": "2022-05-25T14:54:00.685Z"
   },
   {
    "duration": 0,
    "start_time": "2022-05-25T14:54:00.686Z"
   },
   {
    "duration": 0,
    "start_time": "2022-05-25T14:54:00.688Z"
   },
   {
    "duration": 0,
    "start_time": "2022-05-25T14:54:00.689Z"
   },
   {
    "duration": 0,
    "start_time": "2022-05-25T14:54:00.690Z"
   },
   {
    "duration": 7,
    "start_time": "2022-05-25T14:54:14.079Z"
   },
   {
    "duration": 540,
    "start_time": "2022-05-25T14:54:14.089Z"
   },
   {
    "duration": 11,
    "start_time": "2022-05-25T14:54:14.630Z"
   },
   {
    "duration": 14,
    "start_time": "2022-05-25T14:54:14.644Z"
   },
   {
    "duration": 7,
    "start_time": "2022-05-25T14:54:14.660Z"
   },
   {
    "duration": 8,
    "start_time": "2022-05-25T14:54:14.669Z"
   },
   {
    "duration": 11,
    "start_time": "2022-05-25T14:54:14.679Z"
   },
   {
    "duration": 10,
    "start_time": "2022-05-25T14:54:14.692Z"
   },
   {
    "duration": 12,
    "start_time": "2022-05-25T14:54:14.706Z"
   },
   {
    "duration": 37,
    "start_time": "2022-05-25T14:54:14.720Z"
   },
   {
    "duration": 7,
    "start_time": "2022-05-25T14:54:14.759Z"
   },
   {
    "duration": 9,
    "start_time": "2022-05-25T14:54:14.768Z"
   },
   {
    "duration": 14,
    "start_time": "2022-05-25T14:54:14.779Z"
   },
   {
    "duration": 23,
    "start_time": "2022-05-25T14:54:14.795Z"
   },
   {
    "duration": 44,
    "start_time": "2022-05-25T14:54:14.821Z"
   },
   {
    "duration": 0,
    "start_time": "2022-05-25T14:54:14.868Z"
   },
   {
    "duration": 0,
    "start_time": "2022-05-25T14:54:14.870Z"
   },
   {
    "duration": 0,
    "start_time": "2022-05-25T14:54:14.872Z"
   },
   {
    "duration": 0,
    "start_time": "2022-05-25T14:54:14.873Z"
   },
   {
    "duration": 0,
    "start_time": "2022-05-25T14:54:14.874Z"
   },
   {
    "duration": 0,
    "start_time": "2022-05-25T14:54:14.876Z"
   },
   {
    "duration": 0,
    "start_time": "2022-05-25T14:54:14.877Z"
   },
   {
    "duration": 0,
    "start_time": "2022-05-25T14:54:14.878Z"
   },
   {
    "duration": 0,
    "start_time": "2022-05-25T14:54:14.880Z"
   },
   {
    "duration": 0,
    "start_time": "2022-05-25T14:54:14.881Z"
   },
   {
    "duration": 0,
    "start_time": "2022-05-25T14:54:14.881Z"
   },
   {
    "duration": 0,
    "start_time": "2022-05-25T14:54:14.883Z"
   },
   {
    "duration": 0,
    "start_time": "2022-05-25T14:54:14.884Z"
   },
   {
    "duration": 0,
    "start_time": "2022-05-25T14:54:14.885Z"
   },
   {
    "duration": 0,
    "start_time": "2022-05-25T14:54:14.886Z"
   },
   {
    "duration": 0,
    "start_time": "2022-05-25T14:54:14.887Z"
   },
   {
    "duration": 0,
    "start_time": "2022-05-25T14:54:14.889Z"
   },
   {
    "duration": 0,
    "start_time": "2022-05-25T14:54:14.890Z"
   },
   {
    "duration": 0,
    "start_time": "2022-05-25T14:54:14.891Z"
   },
   {
    "duration": 0,
    "start_time": "2022-05-25T14:54:14.892Z"
   },
   {
    "duration": 0,
    "start_time": "2022-05-25T14:54:14.893Z"
   },
   {
    "duration": 0,
    "start_time": "2022-05-25T14:54:14.895Z"
   },
   {
    "duration": 0,
    "start_time": "2022-05-25T14:54:14.896Z"
   },
   {
    "duration": 0,
    "start_time": "2022-05-25T14:54:14.897Z"
   },
   {
    "duration": 0,
    "start_time": "2022-05-25T14:54:14.898Z"
   },
   {
    "duration": 0,
    "start_time": "2022-05-25T14:54:14.952Z"
   },
   {
    "duration": 0,
    "start_time": "2022-05-25T14:54:14.953Z"
   },
   {
    "duration": 0,
    "start_time": "2022-05-25T14:54:14.955Z"
   },
   {
    "duration": 0,
    "start_time": "2022-05-25T14:54:14.956Z"
   },
   {
    "duration": 0,
    "start_time": "2022-05-25T14:54:14.958Z"
   },
   {
    "duration": 0,
    "start_time": "2022-05-25T14:54:14.959Z"
   },
   {
    "duration": 0,
    "start_time": "2022-05-25T14:54:14.960Z"
   },
   {
    "duration": 0,
    "start_time": "2022-05-25T14:54:14.961Z"
   },
   {
    "duration": 0,
    "start_time": "2022-05-25T14:54:14.963Z"
   },
   {
    "duration": 0,
    "start_time": "2022-05-25T14:54:14.964Z"
   },
   {
    "duration": 0,
    "start_time": "2022-05-25T14:54:14.966Z"
   },
   {
    "duration": 0,
    "start_time": "2022-05-25T14:54:14.967Z"
   },
   {
    "duration": 0,
    "start_time": "2022-05-25T14:54:14.969Z"
   },
   {
    "duration": 0,
    "start_time": "2022-05-25T14:54:14.970Z"
   },
   {
    "duration": 0,
    "start_time": "2022-05-25T14:54:14.972Z"
   },
   {
    "duration": 0,
    "start_time": "2022-05-25T14:54:14.973Z"
   },
   {
    "duration": 0,
    "start_time": "2022-05-25T14:54:14.974Z"
   },
   {
    "duration": 0,
    "start_time": "2022-05-25T14:54:14.976Z"
   },
   {
    "duration": 0,
    "start_time": "2022-05-25T14:54:14.977Z"
   },
   {
    "duration": 0,
    "start_time": "2022-05-25T14:54:14.978Z"
   },
   {
    "duration": 0,
    "start_time": "2022-05-25T14:54:14.979Z"
   },
   {
    "duration": 0,
    "start_time": "2022-05-25T14:54:14.981Z"
   },
   {
    "duration": 0,
    "start_time": "2022-05-25T14:54:14.982Z"
   },
   {
    "duration": 0,
    "start_time": "2022-05-25T14:54:14.983Z"
   },
   {
    "duration": 0,
    "start_time": "2022-05-25T14:54:14.984Z"
   },
   {
    "duration": 0,
    "start_time": "2022-05-25T14:54:14.985Z"
   },
   {
    "duration": 0,
    "start_time": "2022-05-25T14:54:14.987Z"
   },
   {
    "duration": 0,
    "start_time": "2022-05-25T14:54:14.988Z"
   },
   {
    "duration": 0,
    "start_time": "2022-05-25T14:54:14.989Z"
   },
   {
    "duration": 0,
    "start_time": "2022-05-25T14:54:14.990Z"
   },
   {
    "duration": 0,
    "start_time": "2022-05-25T14:54:15.052Z"
   },
   {
    "duration": 0,
    "start_time": "2022-05-25T14:54:15.054Z"
   },
   {
    "duration": 0,
    "start_time": "2022-05-25T14:54:15.055Z"
   },
   {
    "duration": 1,
    "start_time": "2022-05-25T14:54:15.056Z"
   },
   {
    "duration": 0,
    "start_time": "2022-05-25T14:54:15.058Z"
   },
   {
    "duration": 0,
    "start_time": "2022-05-25T14:54:15.060Z"
   },
   {
    "duration": 0,
    "start_time": "2022-05-25T14:54:15.061Z"
   },
   {
    "duration": 0,
    "start_time": "2022-05-25T14:54:15.063Z"
   },
   {
    "duration": 3,
    "start_time": "2022-05-25T14:54:38.099Z"
   },
   {
    "duration": 458,
    "start_time": "2022-05-25T14:54:38.105Z"
   },
   {
    "duration": 11,
    "start_time": "2022-05-25T14:54:38.565Z"
   },
   {
    "duration": 19,
    "start_time": "2022-05-25T14:54:38.577Z"
   },
   {
    "duration": 6,
    "start_time": "2022-05-25T14:54:38.599Z"
   },
   {
    "duration": 10,
    "start_time": "2022-05-25T14:54:38.606Z"
   },
   {
    "duration": 11,
    "start_time": "2022-05-25T14:54:38.618Z"
   },
   {
    "duration": 21,
    "start_time": "2022-05-25T14:54:38.631Z"
   },
   {
    "duration": 7,
    "start_time": "2022-05-25T14:54:38.654Z"
   },
   {
    "duration": 7,
    "start_time": "2022-05-25T14:54:38.663Z"
   },
   {
    "duration": 6,
    "start_time": "2022-05-25T14:54:38.674Z"
   },
   {
    "duration": 7,
    "start_time": "2022-05-25T14:54:38.682Z"
   },
   {
    "duration": 14,
    "start_time": "2022-05-25T14:54:38.691Z"
   },
   {
    "duration": 57,
    "start_time": "2022-05-25T14:54:38.708Z"
   },
   {
    "duration": 356,
    "start_time": "2022-05-25T14:54:38.767Z"
   },
   {
    "duration": 0,
    "start_time": "2022-05-25T14:54:39.127Z"
   },
   {
    "duration": 0,
    "start_time": "2022-05-25T14:54:39.129Z"
   },
   {
    "duration": 0,
    "start_time": "2022-05-25T14:54:39.131Z"
   },
   {
    "duration": 0,
    "start_time": "2022-05-25T14:54:39.132Z"
   },
   {
    "duration": 0,
    "start_time": "2022-05-25T14:54:39.134Z"
   },
   {
    "duration": 0,
    "start_time": "2022-05-25T14:54:39.135Z"
   },
   {
    "duration": 0,
    "start_time": "2022-05-25T14:54:39.137Z"
   },
   {
    "duration": 0,
    "start_time": "2022-05-25T14:54:39.141Z"
   },
   {
    "duration": 0,
    "start_time": "2022-05-25T14:54:39.145Z"
   },
   {
    "duration": 0,
    "start_time": "2022-05-25T14:54:39.148Z"
   },
   {
    "duration": 0,
    "start_time": "2022-05-25T14:54:39.149Z"
   },
   {
    "duration": 0,
    "start_time": "2022-05-25T14:54:39.152Z"
   },
   {
    "duration": 0,
    "start_time": "2022-05-25T14:54:39.153Z"
   },
   {
    "duration": 0,
    "start_time": "2022-05-25T14:54:39.155Z"
   },
   {
    "duration": 0,
    "start_time": "2022-05-25T14:54:39.157Z"
   },
   {
    "duration": 0,
    "start_time": "2022-05-25T14:54:39.159Z"
   },
   {
    "duration": 0,
    "start_time": "2022-05-25T14:54:39.160Z"
   },
   {
    "duration": 0,
    "start_time": "2022-05-25T14:54:39.163Z"
   },
   {
    "duration": 1,
    "start_time": "2022-05-25T14:54:39.163Z"
   },
   {
    "duration": 0,
    "start_time": "2022-05-25T14:54:39.165Z"
   },
   {
    "duration": 0,
    "start_time": "2022-05-25T14:54:39.168Z"
   },
   {
    "duration": 0,
    "start_time": "2022-05-25T14:54:39.169Z"
   },
   {
    "duration": 0,
    "start_time": "2022-05-25T14:54:39.172Z"
   },
   {
    "duration": 0,
    "start_time": "2022-05-25T14:54:39.173Z"
   },
   {
    "duration": 0,
    "start_time": "2022-05-25T14:54:39.174Z"
   },
   {
    "duration": 0,
    "start_time": "2022-05-25T14:54:39.176Z"
   },
   {
    "duration": 0,
    "start_time": "2022-05-25T14:54:39.177Z"
   },
   {
    "duration": 0,
    "start_time": "2022-05-25T14:54:39.178Z"
   },
   {
    "duration": 0,
    "start_time": "2022-05-25T14:54:39.180Z"
   },
   {
    "duration": 0,
    "start_time": "2022-05-25T14:54:39.181Z"
   },
   {
    "duration": 0,
    "start_time": "2022-05-25T14:54:39.183Z"
   },
   {
    "duration": 0,
    "start_time": "2022-05-25T14:54:39.184Z"
   },
   {
    "duration": 0,
    "start_time": "2022-05-25T14:54:39.185Z"
   },
   {
    "duration": 0,
    "start_time": "2022-05-25T14:54:39.187Z"
   },
   {
    "duration": 0,
    "start_time": "2022-05-25T14:54:39.188Z"
   },
   {
    "duration": 1,
    "start_time": "2022-05-25T14:54:39.189Z"
   },
   {
    "duration": 0,
    "start_time": "2022-05-25T14:54:39.190Z"
   },
   {
    "duration": 0,
    "start_time": "2022-05-25T14:54:39.192Z"
   },
   {
    "duration": 0,
    "start_time": "2022-05-25T14:54:39.193Z"
   },
   {
    "duration": 0,
    "start_time": "2022-05-25T14:54:39.195Z"
   },
   {
    "duration": 0,
    "start_time": "2022-05-25T14:54:39.252Z"
   },
   {
    "duration": 0,
    "start_time": "2022-05-25T14:54:39.254Z"
   },
   {
    "duration": 0,
    "start_time": "2022-05-25T14:54:39.255Z"
   },
   {
    "duration": 0,
    "start_time": "2022-05-25T14:54:39.257Z"
   },
   {
    "duration": 0,
    "start_time": "2022-05-25T14:54:39.258Z"
   },
   {
    "duration": 0,
    "start_time": "2022-05-25T14:54:39.260Z"
   },
   {
    "duration": 0,
    "start_time": "2022-05-25T14:54:39.261Z"
   },
   {
    "duration": 0,
    "start_time": "2022-05-25T14:54:39.263Z"
   },
   {
    "duration": 0,
    "start_time": "2022-05-25T14:54:39.264Z"
   },
   {
    "duration": 0,
    "start_time": "2022-05-25T14:54:39.266Z"
   },
   {
    "duration": 0,
    "start_time": "2022-05-25T14:54:39.267Z"
   },
   {
    "duration": 0,
    "start_time": "2022-05-25T14:54:39.269Z"
   },
   {
    "duration": 0,
    "start_time": "2022-05-25T14:54:39.270Z"
   },
   {
    "duration": 0,
    "start_time": "2022-05-25T14:54:39.272Z"
   },
   {
    "duration": 0,
    "start_time": "2022-05-25T14:54:39.273Z"
   },
   {
    "duration": 0,
    "start_time": "2022-05-25T14:54:39.275Z"
   },
   {
    "duration": 0,
    "start_time": "2022-05-25T14:54:39.276Z"
   },
   {
    "duration": 0,
    "start_time": "2022-05-25T14:54:39.278Z"
   },
   {
    "duration": 0,
    "start_time": "2022-05-25T14:54:39.280Z"
   },
   {
    "duration": 0,
    "start_time": "2022-05-25T14:54:39.281Z"
   },
   {
    "duration": 0,
    "start_time": "2022-05-25T14:54:39.282Z"
   },
   {
    "duration": 0,
    "start_time": "2022-05-25T14:54:39.283Z"
   },
   {
    "duration": 0,
    "start_time": "2022-05-25T14:54:39.284Z"
   },
   {
    "duration": 690,
    "start_time": "2022-05-25T14:55:42.691Z"
   },
   {
    "duration": 5,
    "start_time": "2022-05-25T14:55:53.002Z"
   },
   {
    "duration": 623,
    "start_time": "2022-05-25T14:55:53.009Z"
   },
   {
    "duration": 15,
    "start_time": "2022-05-25T14:55:53.635Z"
   },
   {
    "duration": 19,
    "start_time": "2022-05-25T14:55:53.653Z"
   },
   {
    "duration": 10,
    "start_time": "2022-05-25T14:55:53.675Z"
   },
   {
    "duration": 12,
    "start_time": "2022-05-25T14:55:53.688Z"
   },
   {
    "duration": 14,
    "start_time": "2022-05-25T14:55:53.702Z"
   },
   {
    "duration": 5,
    "start_time": "2022-05-25T14:55:53.753Z"
   },
   {
    "duration": 15,
    "start_time": "2022-05-25T14:55:53.760Z"
   },
   {
    "duration": 17,
    "start_time": "2022-05-25T14:55:53.778Z"
   },
   {
    "duration": 8,
    "start_time": "2022-05-25T14:55:53.800Z"
   },
   {
    "duration": 8,
    "start_time": "2022-05-25T14:55:53.811Z"
   },
   {
    "duration": 41,
    "start_time": "2022-05-25T14:55:53.822Z"
   },
   {
    "duration": 36,
    "start_time": "2022-05-25T14:55:53.865Z"
   },
   {
    "duration": 658,
    "start_time": "2022-05-25T14:55:53.904Z"
   },
   {
    "duration": 0,
    "start_time": "2022-05-25T14:55:54.567Z"
   },
   {
    "duration": 1,
    "start_time": "2022-05-25T14:55:54.569Z"
   },
   {
    "duration": 0,
    "start_time": "2022-05-25T14:55:54.571Z"
   },
   {
    "duration": 0,
    "start_time": "2022-05-25T14:55:54.574Z"
   },
   {
    "duration": 0,
    "start_time": "2022-05-25T14:55:54.576Z"
   },
   {
    "duration": 0,
    "start_time": "2022-05-25T14:55:54.578Z"
   },
   {
    "duration": 0,
    "start_time": "2022-05-25T14:55:54.580Z"
   },
   {
    "duration": 0,
    "start_time": "2022-05-25T14:55:54.581Z"
   },
   {
    "duration": 0,
    "start_time": "2022-05-25T14:55:54.584Z"
   },
   {
    "duration": 0,
    "start_time": "2022-05-25T14:55:54.585Z"
   },
   {
    "duration": 0,
    "start_time": "2022-05-25T14:55:54.587Z"
   },
   {
    "duration": 0,
    "start_time": "2022-05-25T14:55:54.589Z"
   },
   {
    "duration": 0,
    "start_time": "2022-05-25T14:55:54.590Z"
   },
   {
    "duration": 0,
    "start_time": "2022-05-25T14:55:54.593Z"
   },
   {
    "duration": 0,
    "start_time": "2022-05-25T14:55:54.595Z"
   },
   {
    "duration": 0,
    "start_time": "2022-05-25T14:55:54.597Z"
   },
   {
    "duration": 0,
    "start_time": "2022-05-25T14:55:54.598Z"
   },
   {
    "duration": 0,
    "start_time": "2022-05-25T14:55:54.600Z"
   },
   {
    "duration": 0,
    "start_time": "2022-05-25T14:55:54.602Z"
   },
   {
    "duration": 0,
    "start_time": "2022-05-25T14:55:54.604Z"
   },
   {
    "duration": 0,
    "start_time": "2022-05-25T14:55:54.653Z"
   },
   {
    "duration": 0,
    "start_time": "2022-05-25T14:55:54.654Z"
   },
   {
    "duration": 0,
    "start_time": "2022-05-25T14:55:54.656Z"
   },
   {
    "duration": 0,
    "start_time": "2022-05-25T14:55:54.658Z"
   },
   {
    "duration": 0,
    "start_time": "2022-05-25T14:55:54.660Z"
   },
   {
    "duration": 0,
    "start_time": "2022-05-25T14:55:54.661Z"
   },
   {
    "duration": 0,
    "start_time": "2022-05-25T14:55:54.663Z"
   },
   {
    "duration": 0,
    "start_time": "2022-05-25T14:55:54.665Z"
   },
   {
    "duration": 0,
    "start_time": "2022-05-25T14:55:54.668Z"
   },
   {
    "duration": 0,
    "start_time": "2022-05-25T14:55:54.669Z"
   },
   {
    "duration": 0,
    "start_time": "2022-05-25T14:55:54.671Z"
   },
   {
    "duration": 0,
    "start_time": "2022-05-25T14:55:54.679Z"
   },
   {
    "duration": 0,
    "start_time": "2022-05-25T14:55:54.682Z"
   },
   {
    "duration": 0,
    "start_time": "2022-05-25T14:55:54.684Z"
   },
   {
    "duration": 0,
    "start_time": "2022-05-25T14:55:54.685Z"
   },
   {
    "duration": 0,
    "start_time": "2022-05-25T14:55:54.688Z"
   },
   {
    "duration": 0,
    "start_time": "2022-05-25T14:55:54.690Z"
   },
   {
    "duration": 0,
    "start_time": "2022-05-25T14:55:54.692Z"
   },
   {
    "duration": 0,
    "start_time": "2022-05-25T14:55:54.693Z"
   },
   {
    "duration": 0,
    "start_time": "2022-05-25T14:55:54.695Z"
   },
   {
    "duration": 0,
    "start_time": "2022-05-25T14:55:54.753Z"
   },
   {
    "duration": 0,
    "start_time": "2022-05-25T14:55:54.754Z"
   },
   {
    "duration": 0,
    "start_time": "2022-05-25T14:55:54.756Z"
   },
   {
    "duration": 0,
    "start_time": "2022-05-25T14:55:54.759Z"
   },
   {
    "duration": 0,
    "start_time": "2022-05-25T14:55:54.761Z"
   },
   {
    "duration": 0,
    "start_time": "2022-05-25T14:55:54.763Z"
   },
   {
    "duration": 0,
    "start_time": "2022-05-25T14:55:54.765Z"
   },
   {
    "duration": 0,
    "start_time": "2022-05-25T14:55:54.767Z"
   },
   {
    "duration": 0,
    "start_time": "2022-05-25T14:55:54.769Z"
   },
   {
    "duration": 0,
    "start_time": "2022-05-25T14:55:54.771Z"
   },
   {
    "duration": 0,
    "start_time": "2022-05-25T14:55:54.773Z"
   },
   {
    "duration": 0,
    "start_time": "2022-05-25T14:55:54.774Z"
   },
   {
    "duration": 1,
    "start_time": "2022-05-25T14:55:54.776Z"
   },
   {
    "duration": 0,
    "start_time": "2022-05-25T14:55:54.779Z"
   },
   {
    "duration": 0,
    "start_time": "2022-05-25T14:55:54.780Z"
   },
   {
    "duration": 0,
    "start_time": "2022-05-25T14:55:54.783Z"
   },
   {
    "duration": 0,
    "start_time": "2022-05-25T14:55:54.785Z"
   },
   {
    "duration": 0,
    "start_time": "2022-05-25T14:55:54.786Z"
   },
   {
    "duration": 0,
    "start_time": "2022-05-25T14:55:54.788Z"
   },
   {
    "duration": 0,
    "start_time": "2022-05-25T14:55:54.790Z"
   },
   {
    "duration": 0,
    "start_time": "2022-05-25T14:55:54.791Z"
   },
   {
    "duration": 0,
    "start_time": "2022-05-25T14:55:54.793Z"
   },
   {
    "duration": 0,
    "start_time": "2022-05-25T14:55:54.853Z"
   },
   {
    "duration": 5,
    "start_time": "2022-05-25T14:57:13.294Z"
   },
   {
    "duration": 11,
    "start_time": "2022-05-25T14:57:19.450Z"
   },
   {
    "duration": 5,
    "start_time": "2022-05-25T14:57:33.048Z"
   },
   {
    "duration": 13,
    "start_time": "2022-05-25T14:57:34.633Z"
   },
   {
    "duration": 5,
    "start_time": "2022-05-25T14:57:46.336Z"
   },
   {
    "duration": 536,
    "start_time": "2022-05-25T14:57:46.344Z"
   },
   {
    "duration": 11,
    "start_time": "2022-05-25T14:57:46.883Z"
   },
   {
    "duration": 28,
    "start_time": "2022-05-25T14:57:46.896Z"
   },
   {
    "duration": 23,
    "start_time": "2022-05-25T14:57:46.927Z"
   },
   {
    "duration": 18,
    "start_time": "2022-05-25T14:57:46.952Z"
   },
   {
    "duration": 27,
    "start_time": "2022-05-25T14:57:46.972Z"
   },
   {
    "duration": 16,
    "start_time": "2022-05-25T14:57:47.002Z"
   },
   {
    "duration": 16,
    "start_time": "2022-05-25T14:57:47.020Z"
   },
   {
    "duration": 22,
    "start_time": "2022-05-25T14:57:47.038Z"
   },
   {
    "duration": 18,
    "start_time": "2022-05-25T14:57:47.066Z"
   },
   {
    "duration": 33,
    "start_time": "2022-05-25T14:57:47.087Z"
   },
   {
    "duration": 41,
    "start_time": "2022-05-25T14:57:47.123Z"
   },
   {
    "duration": 75,
    "start_time": "2022-05-25T14:57:47.167Z"
   },
   {
    "duration": 25,
    "start_time": "2022-05-25T14:57:47.244Z"
   },
   {
    "duration": 36,
    "start_time": "2022-05-25T14:57:47.271Z"
   },
   {
    "duration": 24,
    "start_time": "2022-05-25T14:57:47.309Z"
   },
   {
    "duration": 29,
    "start_time": "2022-05-25T14:57:47.335Z"
   },
   {
    "duration": 44,
    "start_time": "2022-05-25T14:57:47.367Z"
   },
   {
    "duration": 20,
    "start_time": "2022-05-25T14:57:47.414Z"
   },
   {
    "duration": 38,
    "start_time": "2022-05-25T14:57:47.436Z"
   },
   {
    "duration": 20,
    "start_time": "2022-05-25T14:57:47.477Z"
   },
   {
    "duration": 39,
    "start_time": "2022-05-25T14:57:47.499Z"
   },
   {
    "duration": 14,
    "start_time": "2022-05-25T14:57:47.540Z"
   },
   {
    "duration": 39,
    "start_time": "2022-05-25T14:57:47.556Z"
   },
   {
    "duration": 13,
    "start_time": "2022-05-25T14:57:47.597Z"
   },
   {
    "duration": 44,
    "start_time": "2022-05-25T14:57:47.612Z"
   },
   {
    "duration": 35,
    "start_time": "2022-05-25T14:57:47.658Z"
   },
   {
    "duration": 37,
    "start_time": "2022-05-25T14:57:47.698Z"
   },
   {
    "duration": 16,
    "start_time": "2022-05-25T14:57:47.738Z"
   },
   {
    "duration": 42,
    "start_time": "2022-05-25T14:57:47.756Z"
   },
   {
    "duration": 24,
    "start_time": "2022-05-25T14:57:47.800Z"
   },
   {
    "duration": 61,
    "start_time": "2022-05-25T14:57:47.826Z"
   },
   {
    "duration": 17,
    "start_time": "2022-05-25T14:57:47.889Z"
   },
   {
    "duration": 64,
    "start_time": "2022-05-25T14:57:47.908Z"
   },
   {
    "duration": 10,
    "start_time": "2022-05-25T14:57:47.974Z"
   },
   {
    "duration": 64,
    "start_time": "2022-05-25T14:57:47.986Z"
   },
   {
    "duration": 30,
    "start_time": "2022-05-25T14:57:48.052Z"
   },
   {
    "duration": 24,
    "start_time": "2022-05-25T14:57:48.084Z"
   },
   {
    "duration": 49,
    "start_time": "2022-05-25T14:57:48.110Z"
   },
   {
    "duration": 26,
    "start_time": "2022-05-25T14:57:48.162Z"
   },
   {
    "duration": 23,
    "start_time": "2022-05-25T14:57:48.191Z"
   },
   {
    "duration": 23,
    "start_time": "2022-05-25T14:57:48.217Z"
   },
   {
    "duration": 23,
    "start_time": "2022-05-25T14:57:48.242Z"
   },
   {
    "duration": 29,
    "start_time": "2022-05-25T14:57:48.267Z"
   },
   {
    "duration": 58,
    "start_time": "2022-05-25T14:57:48.298Z"
   },
   {
    "duration": 30,
    "start_time": "2022-05-25T14:57:48.358Z"
   },
   {
    "duration": 38,
    "start_time": "2022-05-25T14:57:48.390Z"
   },
   {
    "duration": 25,
    "start_time": "2022-05-25T14:57:48.430Z"
   },
   {
    "duration": 45,
    "start_time": "2022-05-25T14:57:48.458Z"
   },
   {
    "duration": 72,
    "start_time": "2022-05-25T14:57:48.505Z"
   },
   {
    "duration": 51,
    "start_time": "2022-05-25T14:57:48.579Z"
   },
   {
    "duration": 134,
    "start_time": "2022-05-25T14:57:48.632Z"
   },
   {
    "duration": 28,
    "start_time": "2022-05-25T14:57:48.768Z"
   },
   {
    "duration": 53,
    "start_time": "2022-05-25T14:57:48.798Z"
   },
   {
    "duration": 74,
    "start_time": "2022-05-25T14:57:48.854Z"
   },
   {
    "duration": 40,
    "start_time": "2022-05-25T14:57:48.931Z"
   },
   {
    "duration": 23,
    "start_time": "2022-05-25T14:57:48.973Z"
   },
   {
    "duration": 23,
    "start_time": "2022-05-25T14:57:48.998Z"
   },
   {
    "duration": 489,
    "start_time": "2022-05-25T14:57:49.028Z"
   },
   {
    "duration": 9,
    "start_time": "2022-05-25T14:57:49.520Z"
   },
   {
    "duration": 525,
    "start_time": "2022-05-25T14:57:49.532Z"
   },
   {
    "duration": 12,
    "start_time": "2022-05-25T14:57:50.060Z"
   },
   {
    "duration": 22,
    "start_time": "2022-05-25T14:57:50.076Z"
   },
   {
    "duration": 404,
    "start_time": "2022-05-25T14:57:50.101Z"
   },
   {
    "duration": 8,
    "start_time": "2022-05-25T14:57:50.507Z"
   },
   {
    "duration": 15,
    "start_time": "2022-05-25T14:57:50.517Z"
   },
   {
    "duration": 12,
    "start_time": "2022-05-25T14:57:50.553Z"
   },
   {
    "duration": 503,
    "start_time": "2022-05-25T14:57:50.568Z"
   },
   {
    "duration": 426,
    "start_time": "2022-05-25T14:57:51.073Z"
   },
   {
    "duration": 9,
    "start_time": "2022-05-25T14:57:51.501Z"
   },
   {
    "duration": 359,
    "start_time": "2022-05-25T14:57:51.512Z"
   },
   {
    "duration": 134,
    "start_time": "2022-05-25T14:57:51.874Z"
   },
   {
    "duration": 118,
    "start_time": "2022-05-25T14:57:52.010Z"
   },
   {
    "duration": 547,
    "start_time": "2022-05-25T14:57:52.131Z"
   },
   {
    "duration": 9,
    "start_time": "2022-05-25T14:57:52.681Z"
   },
   {
    "duration": 23,
    "start_time": "2022-05-25T14:57:52.700Z"
   },
   {
    "duration": 12,
    "start_time": "2022-05-25T14:57:52.728Z"
   },
   {
    "duration": 14,
    "start_time": "2022-05-25T14:57:52.743Z"
   },
   {
    "duration": 20,
    "start_time": "2022-05-25T14:58:35.139Z"
   },
   {
    "duration": 21,
    "start_time": "2022-05-25T14:58:45.484Z"
   },
   {
    "duration": 18,
    "start_time": "2022-05-25T14:58:52.816Z"
   },
   {
    "duration": 5,
    "start_time": "2022-05-25T14:59:08.751Z"
   },
   {
    "duration": 652,
    "start_time": "2022-05-25T14:59:08.759Z"
   },
   {
    "duration": 15,
    "start_time": "2022-05-25T14:59:09.414Z"
   },
   {
    "duration": 23,
    "start_time": "2022-05-25T14:59:09.431Z"
   },
   {
    "duration": 6,
    "start_time": "2022-05-25T14:59:09.458Z"
   },
   {
    "duration": 21,
    "start_time": "2022-05-25T14:59:09.466Z"
   },
   {
    "duration": 14,
    "start_time": "2022-05-25T14:59:09.489Z"
   },
   {
    "duration": 18,
    "start_time": "2022-05-25T14:59:09.505Z"
   },
   {
    "duration": 14,
    "start_time": "2022-05-25T14:59:09.526Z"
   },
   {
    "duration": 6,
    "start_time": "2022-05-25T14:59:09.552Z"
   },
   {
    "duration": 10,
    "start_time": "2022-05-25T14:59:09.563Z"
   },
   {
    "duration": 19,
    "start_time": "2022-05-25T14:59:09.576Z"
   },
   {
    "duration": 28,
    "start_time": "2022-05-25T14:59:09.598Z"
   },
   {
    "duration": 39,
    "start_time": "2022-05-25T14:59:09.628Z"
   },
   {
    "duration": 20,
    "start_time": "2022-05-25T14:59:09.670Z"
   },
   {
    "duration": 28,
    "start_time": "2022-05-25T14:59:09.693Z"
   },
   {
    "duration": 18,
    "start_time": "2022-05-25T14:59:09.724Z"
   },
   {
    "duration": 37,
    "start_time": "2022-05-25T14:59:09.744Z"
   },
   {
    "duration": 33,
    "start_time": "2022-05-25T14:59:09.783Z"
   },
   {
    "duration": 33,
    "start_time": "2022-05-25T14:59:09.819Z"
   },
   {
    "duration": 41,
    "start_time": "2022-05-25T14:59:09.855Z"
   },
   {
    "duration": 20,
    "start_time": "2022-05-25T14:59:09.898Z"
   },
   {
    "duration": 56,
    "start_time": "2022-05-25T14:59:09.920Z"
   },
   {
    "duration": 10,
    "start_time": "2022-05-25T14:59:09.978Z"
   },
   {
    "duration": 44,
    "start_time": "2022-05-25T14:59:09.989Z"
   },
   {
    "duration": 15,
    "start_time": "2022-05-25T14:59:10.053Z"
   },
   {
    "duration": 45,
    "start_time": "2022-05-25T14:59:10.071Z"
   },
   {
    "duration": 47,
    "start_time": "2022-05-25T14:59:10.119Z"
   },
   {
    "duration": 41,
    "start_time": "2022-05-25T14:59:10.174Z"
   },
   {
    "duration": 13,
    "start_time": "2022-05-25T14:59:10.218Z"
   },
   {
    "duration": 31,
    "start_time": "2022-05-25T14:59:10.233Z"
   },
   {
    "duration": 13,
    "start_time": "2022-05-25T14:59:10.267Z"
   },
   {
    "duration": 44,
    "start_time": "2022-05-25T14:59:10.283Z"
   },
   {
    "duration": 11,
    "start_time": "2022-05-25T14:59:10.330Z"
   },
   {
    "duration": 113,
    "start_time": "2022-05-25T14:59:10.360Z"
   },
   {
    "duration": 17,
    "start_time": "2022-05-25T14:59:10.477Z"
   },
   {
    "duration": 55,
    "start_time": "2022-05-25T14:59:10.497Z"
   },
   {
    "duration": 24,
    "start_time": "2022-05-25T14:59:10.555Z"
   },
   {
    "duration": 33,
    "start_time": "2022-05-25T14:59:10.581Z"
   },
   {
    "duration": 39,
    "start_time": "2022-05-25T14:59:10.622Z"
   },
   {
    "duration": 31,
    "start_time": "2022-05-25T14:59:10.662Z"
   },
   {
    "duration": 36,
    "start_time": "2022-05-25T14:59:10.695Z"
   },
   {
    "duration": 9,
    "start_time": "2022-05-25T14:59:10.734Z"
   },
   {
    "duration": 26,
    "start_time": "2022-05-25T14:59:10.745Z"
   },
   {
    "duration": 43,
    "start_time": "2022-05-25T14:59:10.774Z"
   },
   {
    "duration": 44,
    "start_time": "2022-05-25T14:59:10.819Z"
   },
   {
    "duration": 22,
    "start_time": "2022-05-25T14:59:10.866Z"
   },
   {
    "duration": 16,
    "start_time": "2022-05-25T14:59:10.891Z"
   },
   {
    "duration": 7,
    "start_time": "2022-05-25T14:59:10.908Z"
   },
   {
    "duration": 9,
    "start_time": "2022-05-25T14:59:10.952Z"
   },
   {
    "duration": 27,
    "start_time": "2022-05-25T14:59:10.964Z"
   },
   {
    "duration": 13,
    "start_time": "2022-05-25T14:59:10.993Z"
   },
   {
    "duration": 197,
    "start_time": "2022-05-25T14:59:11.009Z"
   },
   {
    "duration": 44,
    "start_time": "2022-05-25T14:59:11.209Z"
   },
   {
    "duration": 5,
    "start_time": "2022-05-25T14:59:11.256Z"
   },
   {
    "duration": 62,
    "start_time": "2022-05-25T14:59:11.263Z"
   },
   {
    "duration": 32,
    "start_time": "2022-05-25T14:59:11.327Z"
   },
   {
    "duration": 15,
    "start_time": "2022-05-25T14:59:11.362Z"
   },
   {
    "duration": 13,
    "start_time": "2022-05-25T14:59:11.379Z"
   },
   {
    "duration": 536,
    "start_time": "2022-05-25T14:59:11.394Z"
   },
   {
    "duration": 22,
    "start_time": "2022-05-25T14:59:11.932Z"
   },
   {
    "duration": 631,
    "start_time": "2022-05-25T14:59:11.957Z"
   },
   {
    "duration": 64,
    "start_time": "2022-05-25T14:59:12.590Z"
   },
   {
    "duration": 10,
    "start_time": "2022-05-25T14:59:12.656Z"
   },
   {
    "duration": 814,
    "start_time": "2022-05-25T14:59:12.669Z"
   },
   {
    "duration": 11,
    "start_time": "2022-05-25T14:59:13.486Z"
   },
   {
    "duration": 23,
    "start_time": "2022-05-25T14:59:13.553Z"
   },
   {
    "duration": 24,
    "start_time": "2022-05-25T14:59:13.579Z"
   },
   {
    "duration": 955,
    "start_time": "2022-05-25T14:59:13.606Z"
   },
   {
    "duration": 893,
    "start_time": "2022-05-25T14:59:14.563Z"
   },
   {
    "duration": 10,
    "start_time": "2022-05-25T14:59:15.458Z"
   },
   {
    "duration": 831,
    "start_time": "2022-05-25T14:59:15.471Z"
   },
   {
    "duration": 157,
    "start_time": "2022-05-25T14:59:16.305Z"
   },
   {
    "duration": 165,
    "start_time": "2022-05-25T14:59:16.467Z"
   },
   {
    "duration": 824,
    "start_time": "2022-05-25T14:59:16.635Z"
   },
   {
    "duration": 8,
    "start_time": "2022-05-25T14:59:17.462Z"
   },
   {
    "duration": 35,
    "start_time": "2022-05-25T14:59:17.472Z"
   },
   {
    "duration": 16,
    "start_time": "2022-05-25T14:59:17.510Z"
   },
   {
    "duration": 23,
    "start_time": "2022-05-25T14:59:17.529Z"
   },
   {
    "duration": 5,
    "start_time": "2022-05-25T14:59:27.504Z"
   },
   {
    "duration": 15,
    "start_time": "2022-05-25T14:59:29.046Z"
   },
   {
    "duration": 6,
    "start_time": "2022-05-25T14:59:34.887Z"
   },
   {
    "duration": 5,
    "start_time": "2022-05-25T14:59:37.116Z"
   },
   {
    "duration": 551,
    "start_time": "2022-05-25T14:59:37.124Z"
   },
   {
    "duration": 16,
    "start_time": "2022-05-25T14:59:37.677Z"
   },
   {
    "duration": 21,
    "start_time": "2022-05-25T14:59:37.696Z"
   },
   {
    "duration": 6,
    "start_time": "2022-05-25T14:59:37.757Z"
   },
   {
    "duration": 9,
    "start_time": "2022-05-25T14:59:37.766Z"
   },
   {
    "duration": 18,
    "start_time": "2022-05-25T14:59:37.778Z"
   },
   {
    "duration": 5,
    "start_time": "2022-05-25T14:59:37.798Z"
   },
   {
    "duration": 8,
    "start_time": "2022-05-25T14:59:37.804Z"
   },
   {
    "duration": 7,
    "start_time": "2022-05-25T14:59:37.814Z"
   },
   {
    "duration": 30,
    "start_time": "2022-05-25T14:59:37.823Z"
   },
   {
    "duration": 11,
    "start_time": "2022-05-25T14:59:37.855Z"
   },
   {
    "duration": 16,
    "start_time": "2022-05-25T14:59:37.871Z"
   },
   {
    "duration": 71,
    "start_time": "2022-05-25T14:59:37.889Z"
   },
   {
    "duration": 6,
    "start_time": "2022-05-25T14:59:37.962Z"
   },
   {
    "duration": 16,
    "start_time": "2022-05-25T14:59:37.970Z"
   },
   {
    "duration": 9,
    "start_time": "2022-05-25T14:59:37.987Z"
   },
   {
    "duration": 65,
    "start_time": "2022-05-25T14:59:37.999Z"
   },
   {
    "duration": 87,
    "start_time": "2022-05-25T14:59:38.066Z"
   },
   {
    "duration": 20,
    "start_time": "2022-05-25T14:59:38.156Z"
   },
   {
    "duration": 85,
    "start_time": "2022-05-25T14:59:38.178Z"
   },
   {
    "duration": 20,
    "start_time": "2022-05-25T14:59:38.266Z"
   },
   {
    "duration": 85,
    "start_time": "2022-05-25T14:59:38.288Z"
   },
   {
    "duration": 11,
    "start_time": "2022-05-25T14:59:38.376Z"
   },
   {
    "duration": 84,
    "start_time": "2022-05-25T14:59:38.390Z"
   },
   {
    "duration": 17,
    "start_time": "2022-05-25T14:59:38.476Z"
   },
   {
    "duration": 60,
    "start_time": "2022-05-25T14:59:38.496Z"
   },
   {
    "duration": 20,
    "start_time": "2022-05-25T14:59:38.559Z"
   },
   {
    "duration": 18,
    "start_time": "2022-05-25T14:59:38.580Z"
   },
   {
    "duration": 52,
    "start_time": "2022-05-25T14:59:38.600Z"
   },
   {
    "duration": 5,
    "start_time": "2022-05-25T14:59:38.654Z"
   },
   {
    "duration": 12,
    "start_time": "2022-05-25T14:59:38.660Z"
   },
   {
    "duration": 90,
    "start_time": "2022-05-25T14:59:38.674Z"
   },
   {
    "duration": 12,
    "start_time": "2022-05-25T14:59:38.766Z"
   },
   {
    "duration": 106,
    "start_time": "2022-05-25T14:59:38.780Z"
   },
   {
    "duration": 66,
    "start_time": "2022-05-25T14:59:38.889Z"
   },
   {
    "duration": 31,
    "start_time": "2022-05-25T14:59:38.961Z"
   },
   {
    "duration": 73,
    "start_time": "2022-05-25T14:59:38.994Z"
   },
   {
    "duration": 90,
    "start_time": "2022-05-25T14:59:39.069Z"
   },
   {
    "duration": 15,
    "start_time": "2022-05-25T14:59:39.161Z"
   },
   {
    "duration": 20,
    "start_time": "2022-05-25T14:59:39.178Z"
   },
   {
    "duration": 52,
    "start_time": "2022-05-25T14:59:39.200Z"
   },
   {
    "duration": 10,
    "start_time": "2022-05-25T14:59:39.254Z"
   },
   {
    "duration": 21,
    "start_time": "2022-05-25T14:59:39.266Z"
   },
   {
    "duration": 86,
    "start_time": "2022-05-25T14:59:39.289Z"
   },
   {
    "duration": 88,
    "start_time": "2022-05-25T14:59:39.377Z"
   },
   {
    "duration": 15,
    "start_time": "2022-05-25T14:59:39.468Z"
   },
   {
    "duration": 78,
    "start_time": "2022-05-25T14:59:39.486Z"
   },
   {
    "duration": 10,
    "start_time": "2022-05-25T14:59:39.567Z"
   },
   {
    "duration": 12,
    "start_time": "2022-05-25T14:59:39.580Z"
   },
   {
    "duration": 80,
    "start_time": "2022-05-25T14:59:39.594Z"
   },
   {
    "duration": 16,
    "start_time": "2022-05-25T14:59:39.676Z"
   },
   {
    "duration": 171,
    "start_time": "2022-05-25T14:59:39.695Z"
   },
   {
    "duration": 18,
    "start_time": "2022-05-25T14:59:39.868Z"
   },
   {
    "duration": 10,
    "start_time": "2022-05-25T14:59:39.889Z"
   },
   {
    "duration": 53,
    "start_time": "2022-05-25T14:59:39.901Z"
   },
   {
    "duration": 18,
    "start_time": "2022-05-25T14:59:39.957Z"
   },
   {
    "duration": 21,
    "start_time": "2022-05-25T14:59:39.978Z"
   },
   {
    "duration": 12,
    "start_time": "2022-05-25T14:59:40.002Z"
   },
   {
    "duration": 429,
    "start_time": "2022-05-25T14:59:40.015Z"
   },
   {
    "duration": 11,
    "start_time": "2022-05-25T14:59:40.447Z"
   },
   {
    "duration": 464,
    "start_time": "2022-05-25T14:59:40.460Z"
   },
   {
    "duration": 9,
    "start_time": "2022-05-25T14:59:40.926Z"
   },
   {
    "duration": 9,
    "start_time": "2022-05-25T14:59:40.952Z"
   },
   {
    "duration": 530,
    "start_time": "2022-05-25T14:59:40.963Z"
   },
   {
    "duration": 61,
    "start_time": "2022-05-25T14:59:41.495Z"
   },
   {
    "duration": 21,
    "start_time": "2022-05-25T14:59:41.558Z"
   },
   {
    "duration": 15,
    "start_time": "2022-05-25T14:59:41.581Z"
   },
   {
    "duration": 681,
    "start_time": "2022-05-25T14:59:41.598Z"
   },
   {
    "duration": 617,
    "start_time": "2022-05-25T14:59:42.281Z"
   },
   {
    "duration": 8,
    "start_time": "2022-05-25T14:59:42.953Z"
   },
   {
    "duration": 536,
    "start_time": "2022-05-25T14:59:42.963Z"
   },
   {
    "duration": 228,
    "start_time": "2022-05-25T14:59:43.553Z"
   },
   {
    "duration": 292,
    "start_time": "2022-05-25T14:59:43.784Z"
   },
   {
    "duration": 969,
    "start_time": "2022-05-25T14:59:44.079Z"
   },
   {
    "duration": 9,
    "start_time": "2022-05-25T14:59:45.054Z"
   },
   {
    "duration": 20,
    "start_time": "2022-05-25T14:59:45.065Z"
   },
   {
    "duration": 10,
    "start_time": "2022-05-25T14:59:45.088Z"
   },
   {
    "duration": 11,
    "start_time": "2022-05-25T14:59:45.101Z"
   },
   {
    "duration": 5,
    "start_time": "2022-05-25T15:00:27.315Z"
   },
   {
    "duration": 475,
    "start_time": "2022-05-25T15:00:27.323Z"
   },
   {
    "duration": 12,
    "start_time": "2022-05-25T15:00:27.800Z"
   },
   {
    "duration": 21,
    "start_time": "2022-05-25T15:00:27.815Z"
   },
   {
    "duration": 14,
    "start_time": "2022-05-25T15:00:27.838Z"
   },
   {
    "duration": 9,
    "start_time": "2022-05-25T15:00:27.854Z"
   },
   {
    "duration": 10,
    "start_time": "2022-05-25T15:00:27.865Z"
   },
   {
    "duration": 9,
    "start_time": "2022-05-25T15:00:27.877Z"
   },
   {
    "duration": 5,
    "start_time": "2022-05-25T15:00:27.888Z"
   },
   {
    "duration": 9,
    "start_time": "2022-05-25T15:00:27.896Z"
   },
   {
    "duration": 45,
    "start_time": "2022-05-25T15:00:27.907Z"
   },
   {
    "duration": 4,
    "start_time": "2022-05-25T15:00:27.954Z"
   },
   {
    "duration": 12,
    "start_time": "2022-05-25T15:00:27.960Z"
   },
   {
    "duration": 30,
    "start_time": "2022-05-25T15:00:27.974Z"
   },
   {
    "duration": 46,
    "start_time": "2022-05-25T15:00:28.006Z"
   },
   {
    "duration": 15,
    "start_time": "2022-05-25T15:00:28.054Z"
   },
   {
    "duration": 7,
    "start_time": "2022-05-25T15:00:28.071Z"
   },
   {
    "duration": 16,
    "start_time": "2022-05-25T15:00:28.080Z"
   },
   {
    "duration": 62,
    "start_time": "2022-05-25T15:00:28.099Z"
   },
   {
    "duration": 28,
    "start_time": "2022-05-25T15:00:28.163Z"
   },
   {
    "duration": 40,
    "start_time": "2022-05-25T15:00:28.193Z"
   },
   {
    "duration": 26,
    "start_time": "2022-05-25T15:00:28.235Z"
   },
   {
    "duration": 27,
    "start_time": "2022-05-25T15:00:28.263Z"
   },
   {
    "duration": 9,
    "start_time": "2022-05-25T15:00:28.292Z"
   },
   {
    "duration": 65,
    "start_time": "2022-05-25T15:00:28.303Z"
   },
   {
    "duration": 11,
    "start_time": "2022-05-25T15:00:28.371Z"
   },
   {
    "duration": 41,
    "start_time": "2022-05-25T15:00:28.384Z"
   },
   {
    "duration": 23,
    "start_time": "2022-05-25T15:00:28.456Z"
   },
   {
    "duration": 27,
    "start_time": "2022-05-25T15:00:28.481Z"
   },
   {
    "duration": 41,
    "start_time": "2022-05-25T15:00:28.511Z"
   },
   {
    "duration": 9,
    "start_time": "2022-05-25T15:00:28.555Z"
   },
   {
    "duration": 19,
    "start_time": "2022-05-25T15:00:28.566Z"
   },
   {
    "duration": 30,
    "start_time": "2022-05-25T15:00:28.588Z"
   },
   {
    "duration": 10,
    "start_time": "2022-05-25T15:00:28.621Z"
   },
   {
    "duration": 71,
    "start_time": "2022-05-25T15:00:28.632Z"
   },
   {
    "duration": 21,
    "start_time": "2022-05-25T15:00:28.706Z"
   },
   {
    "duration": 61,
    "start_time": "2022-05-25T15:00:28.729Z"
   },
   {
    "duration": 27,
    "start_time": "2022-05-25T15:00:28.792Z"
   },
   {
    "duration": 41,
    "start_time": "2022-05-25T15:00:28.821Z"
   },
   {
    "duration": 12,
    "start_time": "2022-05-25T15:00:28.864Z"
   },
   {
    "duration": 8,
    "start_time": "2022-05-25T15:00:28.878Z"
   },
   {
    "duration": 10,
    "start_time": "2022-05-25T15:00:28.888Z"
   },
   {
    "duration": 26,
    "start_time": "2022-05-25T15:00:28.900Z"
   },
   {
    "duration": 41,
    "start_time": "2022-05-25T15:00:28.929Z"
   },
   {
    "duration": 55,
    "start_time": "2022-05-25T15:00:28.972Z"
   },
   {
    "duration": 57,
    "start_time": "2022-05-25T15:00:29.029Z"
   },
   {
    "duration": 22,
    "start_time": "2022-05-25T15:00:29.089Z"
   },
   {
    "duration": 37,
    "start_time": "2022-05-25T15:00:29.113Z"
   },
   {
    "duration": 24,
    "start_time": "2022-05-25T15:00:29.153Z"
   },
   {
    "duration": 25,
    "start_time": "2022-05-25T15:00:29.180Z"
   },
   {
    "duration": 21,
    "start_time": "2022-05-25T15:00:29.208Z"
   },
   {
    "duration": 11,
    "start_time": "2022-05-25T15:00:29.232Z"
   },
   {
    "duration": 112,
    "start_time": "2022-05-25T15:00:29.245Z"
   },
   {
    "duration": 23,
    "start_time": "2022-05-25T15:00:29.359Z"
   },
   {
    "duration": 6,
    "start_time": "2022-05-25T15:00:29.384Z"
   },
   {
    "duration": 36,
    "start_time": "2022-05-25T15:00:29.391Z"
   },
   {
    "duration": 32,
    "start_time": "2022-05-25T15:00:29.429Z"
   },
   {
    "duration": 10,
    "start_time": "2022-05-25T15:00:29.463Z"
   },
   {
    "duration": 16,
    "start_time": "2022-05-25T15:00:29.475Z"
   },
   {
    "duration": 417,
    "start_time": "2022-05-25T15:00:29.493Z"
   },
   {
    "duration": 9,
    "start_time": "2022-05-25T15:00:29.912Z"
   },
   {
    "duration": 536,
    "start_time": "2022-05-25T15:00:29.924Z"
   },
   {
    "duration": 9,
    "start_time": "2022-05-25T15:00:30.462Z"
   },
   {
    "duration": 30,
    "start_time": "2022-05-25T15:00:30.473Z"
   },
   {
    "duration": 621,
    "start_time": "2022-05-25T15:00:30.551Z"
   },
   {
    "duration": 8,
    "start_time": "2022-05-25T15:00:31.174Z"
   },
   {
    "duration": 82,
    "start_time": "2022-05-25T15:00:31.184Z"
   },
   {
    "duration": 24,
    "start_time": "2022-05-25T15:00:31.269Z"
   },
   {
    "duration": 679,
    "start_time": "2022-05-25T15:00:31.296Z"
   },
   {
    "duration": 714,
    "start_time": "2022-05-25T15:00:31.978Z"
   },
   {
    "duration": 64,
    "start_time": "2022-05-25T15:00:32.694Z"
   },
   {
    "duration": 796,
    "start_time": "2022-05-25T15:00:32.760Z"
   },
   {
    "duration": 206,
    "start_time": "2022-05-25T15:00:33.558Z"
   },
   {
    "duration": 122,
    "start_time": "2022-05-25T15:00:33.766Z"
   },
   {
    "duration": 552,
    "start_time": "2022-05-25T15:00:33.890Z"
   },
   {
    "duration": 12,
    "start_time": "2022-05-25T15:00:34.445Z"
   },
   {
    "duration": 12,
    "start_time": "2022-05-25T15:00:34.460Z"
   },
   {
    "duration": 13,
    "start_time": "2022-05-25T15:00:34.474Z"
   },
   {
    "duration": 12,
    "start_time": "2022-05-25T15:00:34.489Z"
   },
   {
    "duration": 4,
    "start_time": "2022-05-25T15:08:11.680Z"
   },
   {
    "duration": 10,
    "start_time": "2022-05-25T15:08:17.214Z"
   },
   {
    "duration": 4,
    "start_time": "2022-05-25T15:08:50.000Z"
   },
   {
    "duration": 26,
    "start_time": "2022-05-25T15:10:05.056Z"
   },
   {
    "duration": 23,
    "start_time": "2022-05-25T15:11:26.303Z"
   },
   {
    "duration": 9,
    "start_time": "2022-05-25T15:11:59.448Z"
   },
   {
    "duration": 13,
    "start_time": "2022-05-25T15:13:03.401Z"
   },
   {
    "duration": 16,
    "start_time": "2022-05-25T15:13:36.467Z"
   },
   {
    "duration": 7,
    "start_time": "2022-05-25T15:13:48.025Z"
   },
   {
    "duration": 7,
    "start_time": "2022-05-25T15:14:15.481Z"
   },
   {
    "duration": 14,
    "start_time": "2022-05-25T15:14:20.537Z"
   },
   {
    "duration": 13,
    "start_time": "2022-05-25T15:15:17.010Z"
   },
   {
    "duration": 5,
    "start_time": "2022-05-25T15:15:47.721Z"
   },
   {
    "duration": 17,
    "start_time": "2022-05-25T15:15:49.744Z"
   },
   {
    "duration": 4,
    "start_time": "2022-05-25T15:15:54.496Z"
   },
   {
    "duration": 514,
    "start_time": "2022-05-25T15:15:54.503Z"
   },
   {
    "duration": 13,
    "start_time": "2022-05-25T15:15:55.019Z"
   },
   {
    "duration": 30,
    "start_time": "2022-05-25T15:15:55.035Z"
   },
   {
    "duration": 7,
    "start_time": "2022-05-25T15:15:55.068Z"
   },
   {
    "duration": 30,
    "start_time": "2022-05-25T15:15:55.077Z"
   },
   {
    "duration": 81,
    "start_time": "2022-05-25T15:15:55.109Z"
   },
   {
    "duration": 21,
    "start_time": "2022-05-25T15:15:55.192Z"
   },
   {
    "duration": 26,
    "start_time": "2022-05-25T15:15:55.216Z"
   },
   {
    "duration": 21,
    "start_time": "2022-05-25T15:15:55.244Z"
   },
   {
    "duration": 15,
    "start_time": "2022-05-25T15:15:55.269Z"
   },
   {
    "duration": 14,
    "start_time": "2022-05-25T15:15:55.287Z"
   },
   {
    "duration": 23,
    "start_time": "2022-05-25T15:15:55.303Z"
   },
   {
    "duration": 16,
    "start_time": "2022-05-25T15:15:55.329Z"
   },
   {
    "duration": 51,
    "start_time": "2022-05-25T15:15:55.348Z"
   },
   {
    "duration": 21,
    "start_time": "2022-05-25T15:15:55.402Z"
   },
   {
    "duration": 22,
    "start_time": "2022-05-25T15:15:55.426Z"
   },
   {
    "duration": 16,
    "start_time": "2022-05-25T15:15:55.450Z"
   },
   {
    "duration": 19,
    "start_time": "2022-05-25T15:15:55.468Z"
   },
   {
    "duration": 10,
    "start_time": "2022-05-25T15:15:55.489Z"
   },
   {
    "duration": 16,
    "start_time": "2022-05-25T15:15:55.501Z"
   },
   {
    "duration": 10,
    "start_time": "2022-05-25T15:15:55.519Z"
   },
   {
    "duration": 25,
    "start_time": "2022-05-25T15:15:55.531Z"
   },
   {
    "duration": 33,
    "start_time": "2022-05-25T15:15:55.559Z"
   },
   {
    "duration": 10,
    "start_time": "2022-05-25T15:15:55.595Z"
   },
   {
    "duration": 52,
    "start_time": "2022-05-25T15:15:55.608Z"
   },
   {
    "duration": 23,
    "start_time": "2022-05-25T15:15:55.663Z"
   },
   {
    "duration": 20,
    "start_time": "2022-05-25T15:15:55.688Z"
   },
   {
    "duration": 8,
    "start_time": "2022-05-25T15:15:55.713Z"
   },
   {
    "duration": 58,
    "start_time": "2022-05-25T15:15:55.724Z"
   },
   {
    "duration": 21,
    "start_time": "2022-05-25T15:15:55.784Z"
   },
   {
    "duration": 49,
    "start_time": "2022-05-25T15:15:55.808Z"
   },
   {
    "duration": 20,
    "start_time": "2022-05-25T15:15:55.859Z"
   },
   {
    "duration": 21,
    "start_time": "2022-05-25T15:15:55.881Z"
   },
   {
    "duration": 12,
    "start_time": "2022-05-25T15:15:55.904Z"
   },
   {
    "duration": 41,
    "start_time": "2022-05-25T15:15:55.918Z"
   },
   {
    "duration": 24,
    "start_time": "2022-05-25T15:15:55.960Z"
   },
   {
    "duration": 29,
    "start_time": "2022-05-25T15:15:55.987Z"
   },
   {
    "duration": 10,
    "start_time": "2022-05-25T15:15:56.019Z"
   },
   {
    "duration": 74,
    "start_time": "2022-05-25T15:15:56.031Z"
   },
   {
    "duration": 9,
    "start_time": "2022-05-25T15:15:56.107Z"
   },
   {
    "duration": 66,
    "start_time": "2022-05-25T15:15:56.124Z"
   },
   {
    "duration": 29,
    "start_time": "2022-05-25T15:15:56.193Z"
   },
   {
    "duration": 37,
    "start_time": "2022-05-25T15:15:56.224Z"
   },
   {
    "duration": 13,
    "start_time": "2022-05-25T15:15:56.263Z"
   },
   {
    "duration": 10,
    "start_time": "2022-05-25T15:15:56.278Z"
   },
   {
    "duration": 8,
    "start_time": "2022-05-25T15:15:56.290Z"
   },
   {
    "duration": 52,
    "start_time": "2022-05-25T15:15:56.300Z"
   },
   {
    "duration": 15,
    "start_time": "2022-05-25T15:15:56.354Z"
   },
   {
    "duration": 27,
    "start_time": "2022-05-25T15:15:56.371Z"
   },
   {
    "duration": 26,
    "start_time": "2022-05-25T15:15:56.400Z"
   },
   {
    "duration": 36,
    "start_time": "2022-05-25T15:15:56.427Z"
   },
   {
    "duration": 20,
    "start_time": "2022-05-25T15:15:56.465Z"
   },
   {
    "duration": 7,
    "start_time": "2022-05-25T15:15:56.488Z"
   },
   {
    "duration": 9,
    "start_time": "2022-05-25T15:15:56.497Z"
   },
   {
    "duration": 66,
    "start_time": "2022-05-25T15:15:56.508Z"
   },
   {
    "duration": 5,
    "start_time": "2022-05-25T15:15:56.576Z"
   },
   {
    "duration": 119,
    "start_time": "2022-05-25T15:15:56.583Z"
   },
   {
    "duration": 23,
    "start_time": "2022-05-25T15:15:56.704Z"
   },
   {
    "duration": 28,
    "start_time": "2022-05-25T15:15:56.729Z"
   },
   {
    "duration": 43,
    "start_time": "2022-05-25T15:15:56.759Z"
   },
   {
    "duration": 10,
    "start_time": "2022-05-25T15:15:56.804Z"
   },
   {
    "duration": 36,
    "start_time": "2022-05-25T15:15:56.816Z"
   },
   {
    "duration": 10,
    "start_time": "2022-05-25T15:15:56.855Z"
   },
   {
    "duration": 520,
    "start_time": "2022-05-25T15:15:56.867Z"
   },
   {
    "duration": 9,
    "start_time": "2022-05-25T15:15:57.389Z"
   },
   {
    "duration": 406,
    "start_time": "2022-05-25T15:15:57.400Z"
   },
   {
    "duration": 9,
    "start_time": "2022-05-25T15:15:57.808Z"
   },
   {
    "duration": 34,
    "start_time": "2022-05-25T15:15:57.819Z"
   },
   {
    "duration": 436,
    "start_time": "2022-05-25T15:15:57.856Z"
   },
   {
    "duration": 9,
    "start_time": "2022-05-25T15:15:58.294Z"
   },
   {
    "duration": 15,
    "start_time": "2022-05-25T15:15:58.305Z"
   },
   {
    "duration": 34,
    "start_time": "2022-05-25T15:15:58.322Z"
   },
   {
    "duration": 420,
    "start_time": "2022-05-25T15:15:58.358Z"
   },
   {
    "duration": 578,
    "start_time": "2022-05-25T15:15:58.780Z"
   },
   {
    "duration": 8,
    "start_time": "2022-05-25T15:15:59.360Z"
   },
   {
    "duration": 795,
    "start_time": "2022-05-25T15:15:59.370Z"
   },
   {
    "duration": 215,
    "start_time": "2022-05-25T15:16:00.168Z"
   },
   {
    "duration": 292,
    "start_time": "2022-05-25T15:16:00.385Z"
   },
   {
    "duration": 1363,
    "start_time": "2022-05-25T15:16:00.680Z"
   },
   {
    "duration": 10,
    "start_time": "2022-05-25T15:16:02.046Z"
   },
   {
    "duration": 72,
    "start_time": "2022-05-25T15:16:02.059Z"
   },
   {
    "duration": 60,
    "start_time": "2022-05-25T15:16:02.139Z"
   },
   {
    "duration": 38,
    "start_time": "2022-05-25T15:16:02.201Z"
   },
   {
    "duration": 496,
    "start_time": "2022-05-25T15:16:38.118Z"
   },
   {
    "duration": 395,
    "start_time": "2022-05-25T15:16:51.305Z"
   },
   {
    "duration": 6,
    "start_time": "2022-05-25T15:17:02.789Z"
   },
   {
    "duration": 516,
    "start_time": "2022-05-25T15:17:02.797Z"
   },
   {
    "duration": 11,
    "start_time": "2022-05-25T15:17:03.315Z"
   },
   {
    "duration": 28,
    "start_time": "2022-05-25T15:17:03.327Z"
   },
   {
    "duration": 5,
    "start_time": "2022-05-25T15:17:03.358Z"
   },
   {
    "duration": 12,
    "start_time": "2022-05-25T15:17:03.365Z"
   },
   {
    "duration": 9,
    "start_time": "2022-05-25T15:17:03.379Z"
   },
   {
    "duration": 20,
    "start_time": "2022-05-25T15:17:03.390Z"
   },
   {
    "duration": 15,
    "start_time": "2022-05-25T15:17:03.413Z"
   },
   {
    "duration": 12,
    "start_time": "2022-05-25T15:17:03.431Z"
   },
   {
    "duration": 7,
    "start_time": "2022-05-25T15:17:03.446Z"
   },
   {
    "duration": 7,
    "start_time": "2022-05-25T15:17:03.455Z"
   },
   {
    "duration": 13,
    "start_time": "2022-05-25T15:17:03.464Z"
   },
   {
    "duration": 6,
    "start_time": "2022-05-25T15:17:03.479Z"
   },
   {
    "duration": 23,
    "start_time": "2022-05-25T15:17:03.487Z"
   },
   {
    "duration": 15,
    "start_time": "2022-05-25T15:17:03.513Z"
   },
   {
    "duration": 4,
    "start_time": "2022-05-25T15:17:03.553Z"
   },
   {
    "duration": 17,
    "start_time": "2022-05-25T15:17:03.559Z"
   },
   {
    "duration": 14,
    "start_time": "2022-05-25T15:17:03.578Z"
   },
   {
    "duration": 15,
    "start_time": "2022-05-25T15:17:03.594Z"
   },
   {
    "duration": 736,
    "start_time": "2022-05-25T15:17:03.611Z"
   },
   {
    "duration": 0,
    "start_time": "2022-05-25T15:17:04.351Z"
   },
   {
    "duration": 0,
    "start_time": "2022-05-25T15:17:04.353Z"
   },
   {
    "duration": 1,
    "start_time": "2022-05-25T15:17:04.354Z"
   },
   {
    "duration": 0,
    "start_time": "2022-05-25T15:17:04.357Z"
   },
   {
    "duration": 0,
    "start_time": "2022-05-25T15:17:04.359Z"
   },
   {
    "duration": 0,
    "start_time": "2022-05-25T15:17:04.360Z"
   },
   {
    "duration": 0,
    "start_time": "2022-05-25T15:17:04.361Z"
   },
   {
    "duration": 0,
    "start_time": "2022-05-25T15:17:04.364Z"
   },
   {
    "duration": 0,
    "start_time": "2022-05-25T15:17:04.365Z"
   },
   {
    "duration": 0,
    "start_time": "2022-05-25T15:17:04.367Z"
   },
   {
    "duration": 0,
    "start_time": "2022-05-25T15:17:04.368Z"
   },
   {
    "duration": 0,
    "start_time": "2022-05-25T15:17:04.370Z"
   },
   {
    "duration": 0,
    "start_time": "2022-05-25T15:17:04.371Z"
   },
   {
    "duration": 0,
    "start_time": "2022-05-25T15:17:04.373Z"
   },
   {
    "duration": 0,
    "start_time": "2022-05-25T15:17:04.374Z"
   },
   {
    "duration": 0,
    "start_time": "2022-05-25T15:17:04.376Z"
   },
   {
    "duration": 0,
    "start_time": "2022-05-25T15:17:04.378Z"
   },
   {
    "duration": 0,
    "start_time": "2022-05-25T15:17:04.380Z"
   },
   {
    "duration": 0,
    "start_time": "2022-05-25T15:17:04.381Z"
   },
   {
    "duration": 0,
    "start_time": "2022-05-25T15:17:04.382Z"
   },
   {
    "duration": 0,
    "start_time": "2022-05-25T15:17:04.384Z"
   },
   {
    "duration": 0,
    "start_time": "2022-05-25T15:17:04.385Z"
   },
   {
    "duration": 0,
    "start_time": "2022-05-25T15:17:04.387Z"
   },
   {
    "duration": 0,
    "start_time": "2022-05-25T15:17:04.388Z"
   },
   {
    "duration": 0,
    "start_time": "2022-05-25T15:17:04.390Z"
   },
   {
    "duration": 0,
    "start_time": "2022-05-25T15:17:04.391Z"
   },
   {
    "duration": 0,
    "start_time": "2022-05-25T15:17:04.392Z"
   },
   {
    "duration": 0,
    "start_time": "2022-05-25T15:17:04.393Z"
   },
   {
    "duration": 0,
    "start_time": "2022-05-25T15:17:04.451Z"
   },
   {
    "duration": 0,
    "start_time": "2022-05-25T15:17:04.453Z"
   },
   {
    "duration": 0,
    "start_time": "2022-05-25T15:17:04.454Z"
   },
   {
    "duration": 0,
    "start_time": "2022-05-25T15:17:04.455Z"
   },
   {
    "duration": 0,
    "start_time": "2022-05-25T15:17:04.457Z"
   },
   {
    "duration": 0,
    "start_time": "2022-05-25T15:17:04.457Z"
   },
   {
    "duration": 0,
    "start_time": "2022-05-25T15:17:04.459Z"
   },
   {
    "duration": 0,
    "start_time": "2022-05-25T15:17:04.460Z"
   },
   {
    "duration": 0,
    "start_time": "2022-05-25T15:17:04.461Z"
   },
   {
    "duration": 0,
    "start_time": "2022-05-25T15:17:04.462Z"
   },
   {
    "duration": 0,
    "start_time": "2022-05-25T15:17:04.464Z"
   },
   {
    "duration": 0,
    "start_time": "2022-05-25T15:17:04.465Z"
   },
   {
    "duration": 0,
    "start_time": "2022-05-25T15:17:04.466Z"
   },
   {
    "duration": 0,
    "start_time": "2022-05-25T15:17:04.467Z"
   },
   {
    "duration": 0,
    "start_time": "2022-05-25T15:17:04.468Z"
   },
   {
    "duration": 0,
    "start_time": "2022-05-25T15:17:04.469Z"
   },
   {
    "duration": 0,
    "start_time": "2022-05-25T15:17:04.470Z"
   },
   {
    "duration": 0,
    "start_time": "2022-05-25T15:17:04.472Z"
   },
   {
    "duration": 0,
    "start_time": "2022-05-25T15:17:04.473Z"
   },
   {
    "duration": 0,
    "start_time": "2022-05-25T15:17:04.475Z"
   },
   {
    "duration": 0,
    "start_time": "2022-05-25T15:17:04.476Z"
   },
   {
    "duration": 0,
    "start_time": "2022-05-25T15:17:04.477Z"
   },
   {
    "duration": 0,
    "start_time": "2022-05-25T15:17:04.478Z"
   },
   {
    "duration": 0,
    "start_time": "2022-05-25T15:17:04.479Z"
   },
   {
    "duration": 0,
    "start_time": "2022-05-25T15:17:04.481Z"
   },
   {
    "duration": 0,
    "start_time": "2022-05-25T15:17:04.483Z"
   },
   {
    "duration": 0,
    "start_time": "2022-05-25T15:17:04.484Z"
   },
   {
    "duration": 0,
    "start_time": "2022-05-25T15:17:04.485Z"
   },
   {
    "duration": 0,
    "start_time": "2022-05-25T15:17:04.486Z"
   },
   {
    "duration": 0,
    "start_time": "2022-05-25T15:17:04.487Z"
   },
   {
    "duration": 0,
    "start_time": "2022-05-25T15:17:04.489Z"
   },
   {
    "duration": 0,
    "start_time": "2022-05-25T15:17:04.556Z"
   },
   {
    "duration": 0,
    "start_time": "2022-05-25T15:17:04.557Z"
   },
   {
    "duration": 0,
    "start_time": "2022-05-25T15:17:04.558Z"
   },
   {
    "duration": 0,
    "start_time": "2022-05-25T15:17:04.560Z"
   },
   {
    "duration": 5,
    "start_time": "2022-05-25T15:17:58.707Z"
   },
   {
    "duration": 531,
    "start_time": "2022-05-25T15:17:58.714Z"
   },
   {
    "duration": 16,
    "start_time": "2022-05-25T15:17:59.248Z"
   },
   {
    "duration": 41,
    "start_time": "2022-05-25T15:17:59.266Z"
   },
   {
    "duration": 16,
    "start_time": "2022-05-25T15:17:59.310Z"
   },
   {
    "duration": 18,
    "start_time": "2022-05-25T15:17:59.328Z"
   },
   {
    "duration": 18,
    "start_time": "2022-05-25T15:17:59.348Z"
   },
   {
    "duration": 17,
    "start_time": "2022-05-25T15:17:59.373Z"
   },
   {
    "duration": 12,
    "start_time": "2022-05-25T15:17:59.392Z"
   },
   {
    "duration": 7,
    "start_time": "2022-05-25T15:17:59.406Z"
   },
   {
    "duration": 6,
    "start_time": "2022-05-25T15:17:59.417Z"
   },
   {
    "duration": 7,
    "start_time": "2022-05-25T15:17:59.425Z"
   },
   {
    "duration": 17,
    "start_time": "2022-05-25T15:17:59.433Z"
   },
   {
    "duration": 32,
    "start_time": "2022-05-25T15:17:59.452Z"
   },
   {
    "duration": 30,
    "start_time": "2022-05-25T15:17:59.487Z"
   },
   {
    "duration": 6,
    "start_time": "2022-05-25T15:17:59.519Z"
   },
   {
    "duration": 6,
    "start_time": "2022-05-25T15:17:59.527Z"
   },
   {
    "duration": 14,
    "start_time": "2022-05-25T15:17:59.535Z"
   },
   {
    "duration": 30,
    "start_time": "2022-05-25T15:17:59.551Z"
   },
   {
    "duration": 909,
    "start_time": "2022-05-25T15:17:59.583Z"
   },
   {
    "duration": 0,
    "start_time": "2022-05-25T15:18:00.496Z"
   },
   {
    "duration": 0,
    "start_time": "2022-05-25T15:18:00.498Z"
   },
   {
    "duration": 0,
    "start_time": "2022-05-25T15:18:00.500Z"
   },
   {
    "duration": 0,
    "start_time": "2022-05-25T15:18:00.501Z"
   },
   {
    "duration": 0,
    "start_time": "2022-05-25T15:18:00.503Z"
   },
   {
    "duration": 0,
    "start_time": "2022-05-25T15:18:00.504Z"
   },
   {
    "duration": 0,
    "start_time": "2022-05-25T15:18:00.506Z"
   },
   {
    "duration": 0,
    "start_time": "2022-05-25T15:18:00.508Z"
   },
   {
    "duration": 0,
    "start_time": "2022-05-25T15:18:00.508Z"
   },
   {
    "duration": 0,
    "start_time": "2022-05-25T15:18:00.510Z"
   },
   {
    "duration": 0,
    "start_time": "2022-05-25T15:18:00.512Z"
   },
   {
    "duration": 0,
    "start_time": "2022-05-25T15:18:00.513Z"
   },
   {
    "duration": 0,
    "start_time": "2022-05-25T15:18:00.514Z"
   },
   {
    "duration": 0,
    "start_time": "2022-05-25T15:18:00.516Z"
   },
   {
    "duration": 0,
    "start_time": "2022-05-25T15:18:00.517Z"
   },
   {
    "duration": 0,
    "start_time": "2022-05-25T15:18:00.518Z"
   },
   {
    "duration": 0,
    "start_time": "2022-05-25T15:18:00.519Z"
   },
   {
    "duration": 0,
    "start_time": "2022-05-25T15:18:00.521Z"
   },
   {
    "duration": 0,
    "start_time": "2022-05-25T15:18:00.522Z"
   },
   {
    "duration": 0,
    "start_time": "2022-05-25T15:18:00.523Z"
   },
   {
    "duration": 0,
    "start_time": "2022-05-25T15:18:00.524Z"
   },
   {
    "duration": 0,
    "start_time": "2022-05-25T15:18:00.526Z"
   },
   {
    "duration": 0,
    "start_time": "2022-05-25T15:18:00.527Z"
   },
   {
    "duration": 0,
    "start_time": "2022-05-25T15:18:00.529Z"
   },
   {
    "duration": 0,
    "start_time": "2022-05-25T15:18:00.529Z"
   },
   {
    "duration": 0,
    "start_time": "2022-05-25T15:18:00.531Z"
   },
   {
    "duration": 0,
    "start_time": "2022-05-25T15:18:00.557Z"
   },
   {
    "duration": 0,
    "start_time": "2022-05-25T15:18:00.558Z"
   },
   {
    "duration": 0,
    "start_time": "2022-05-25T15:18:00.559Z"
   },
   {
    "duration": 1,
    "start_time": "2022-05-25T15:18:00.559Z"
   },
   {
    "duration": 0,
    "start_time": "2022-05-25T15:18:00.560Z"
   },
   {
    "duration": 0,
    "start_time": "2022-05-25T15:18:00.561Z"
   },
   {
    "duration": 0,
    "start_time": "2022-05-25T15:18:00.562Z"
   },
   {
    "duration": 0,
    "start_time": "2022-05-25T15:18:00.565Z"
   },
   {
    "duration": 0,
    "start_time": "2022-05-25T15:18:00.566Z"
   },
   {
    "duration": 0,
    "start_time": "2022-05-25T15:18:00.567Z"
   },
   {
    "duration": 0,
    "start_time": "2022-05-25T15:18:00.568Z"
   },
   {
    "duration": 0,
    "start_time": "2022-05-25T15:18:00.569Z"
   },
   {
    "duration": 0,
    "start_time": "2022-05-25T15:18:00.569Z"
   },
   {
    "duration": 0,
    "start_time": "2022-05-25T15:18:00.570Z"
   },
   {
    "duration": 0,
    "start_time": "2022-05-25T15:18:00.571Z"
   },
   {
    "duration": 0,
    "start_time": "2022-05-25T15:18:00.572Z"
   },
   {
    "duration": 0,
    "start_time": "2022-05-25T15:18:00.573Z"
   },
   {
    "duration": 0,
    "start_time": "2022-05-25T15:18:00.576Z"
   },
   {
    "duration": 0,
    "start_time": "2022-05-25T15:18:00.577Z"
   },
   {
    "duration": 0,
    "start_time": "2022-05-25T15:18:00.579Z"
   },
   {
    "duration": 0,
    "start_time": "2022-05-25T15:18:00.580Z"
   },
   {
    "duration": 0,
    "start_time": "2022-05-25T15:18:00.582Z"
   },
   {
    "duration": 0,
    "start_time": "2022-05-25T15:18:00.584Z"
   },
   {
    "duration": 0,
    "start_time": "2022-05-25T15:18:00.585Z"
   },
   {
    "duration": 0,
    "start_time": "2022-05-25T15:18:00.587Z"
   },
   {
    "duration": 0,
    "start_time": "2022-05-25T15:18:00.588Z"
   },
   {
    "duration": 0,
    "start_time": "2022-05-25T15:18:00.589Z"
   },
   {
    "duration": 0,
    "start_time": "2022-05-25T15:18:00.591Z"
   },
   {
    "duration": 0,
    "start_time": "2022-05-25T15:18:00.592Z"
   },
   {
    "duration": 0,
    "start_time": "2022-05-25T15:18:00.594Z"
   },
   {
    "duration": 0,
    "start_time": "2022-05-25T15:18:00.596Z"
   },
   {
    "duration": 0,
    "start_time": "2022-05-25T15:18:00.598Z"
   },
   {
    "duration": 0,
    "start_time": "2022-05-25T15:18:00.600Z"
   },
   {
    "duration": 0,
    "start_time": "2022-05-25T15:18:00.602Z"
   },
   {
    "duration": 0,
    "start_time": "2022-05-25T15:18:00.603Z"
   },
   {
    "duration": 0,
    "start_time": "2022-05-25T15:18:00.653Z"
   },
   {
    "duration": 0,
    "start_time": "2022-05-25T15:18:00.654Z"
   },
   {
    "duration": 0,
    "start_time": "2022-05-25T15:18:00.655Z"
   },
   {
    "duration": 0,
    "start_time": "2022-05-25T15:18:00.657Z"
   },
   {
    "duration": 14,
    "start_time": "2022-05-25T15:18:34.911Z"
   },
   {
    "duration": 16,
    "start_time": "2022-05-25T15:18:43.051Z"
   },
   {
    "duration": 5,
    "start_time": "2022-05-25T15:18:57.244Z"
   },
   {
    "duration": 432,
    "start_time": "2022-05-25T15:18:57.251Z"
   },
   {
    "duration": 15,
    "start_time": "2022-05-25T15:18:57.686Z"
   },
   {
    "duration": 17,
    "start_time": "2022-05-25T15:18:57.703Z"
   },
   {
    "duration": 7,
    "start_time": "2022-05-25T15:18:57.723Z"
   },
   {
    "duration": 21,
    "start_time": "2022-05-25T15:18:57.731Z"
   },
   {
    "duration": 10,
    "start_time": "2022-05-25T15:18:57.754Z"
   },
   {
    "duration": 8,
    "start_time": "2022-05-25T15:18:57.765Z"
   },
   {
    "duration": 12,
    "start_time": "2022-05-25T15:18:57.774Z"
   },
   {
    "duration": 6,
    "start_time": "2022-05-25T15:18:57.788Z"
   },
   {
    "duration": 6,
    "start_time": "2022-05-25T15:18:57.797Z"
   },
   {
    "duration": 14,
    "start_time": "2022-05-25T15:18:57.805Z"
   },
   {
    "duration": 42,
    "start_time": "2022-05-25T15:18:57.821Z"
   },
   {
    "duration": 8,
    "start_time": "2022-05-25T15:18:57.866Z"
   },
   {
    "duration": 26,
    "start_time": "2022-05-25T15:18:57.876Z"
   },
   {
    "duration": 19,
    "start_time": "2022-05-25T15:18:57.904Z"
   },
   {
    "duration": 16,
    "start_time": "2022-05-25T15:18:57.925Z"
   },
   {
    "duration": 16,
    "start_time": "2022-05-25T15:18:57.943Z"
   },
   {
    "duration": 17,
    "start_time": "2022-05-25T15:18:57.961Z"
   },
   {
    "duration": 25,
    "start_time": "2022-05-25T15:18:57.980Z"
   },
   {
    "duration": 23,
    "start_time": "2022-05-25T15:18:58.007Z"
   },
   {
    "duration": 19,
    "start_time": "2022-05-25T15:18:58.037Z"
   },
   {
    "duration": 10,
    "start_time": "2022-05-25T15:18:58.058Z"
   },
   {
    "duration": 21,
    "start_time": "2022-05-25T15:18:58.069Z"
   },
   {
    "duration": 29,
    "start_time": "2022-05-25T15:18:58.092Z"
   },
   {
    "duration": 33,
    "start_time": "2022-05-25T15:18:58.125Z"
   },
   {
    "duration": 42,
    "start_time": "2022-05-25T15:18:58.160Z"
   },
   {
    "duration": 15,
    "start_time": "2022-05-25T15:18:58.205Z"
   },
   {
    "duration": 25,
    "start_time": "2022-05-25T15:18:58.227Z"
   },
   {
    "duration": 8,
    "start_time": "2022-05-25T15:18:58.254Z"
   },
   {
    "duration": 41,
    "start_time": "2022-05-25T15:18:58.264Z"
   },
   {
    "duration": 11,
    "start_time": "2022-05-25T15:18:58.307Z"
   },
   {
    "duration": 61,
    "start_time": "2022-05-25T15:18:58.320Z"
   },
   {
    "duration": 20,
    "start_time": "2022-05-25T15:18:58.383Z"
   },
   {
    "duration": 19,
    "start_time": "2022-05-25T15:18:58.405Z"
   },
   {
    "duration": 34,
    "start_time": "2022-05-25T15:18:58.426Z"
   },
   {
    "duration": 20,
    "start_time": "2022-05-25T15:18:58.462Z"
   },
   {
    "duration": 17,
    "start_time": "2022-05-25T15:18:58.484Z"
   },
   {
    "duration": 27,
    "start_time": "2022-05-25T15:18:58.503Z"
   },
   {
    "duration": 23,
    "start_time": "2022-05-25T15:18:58.531Z"
   },
   {
    "duration": 63,
    "start_time": "2022-05-25T15:18:58.556Z"
   },
   {
    "duration": 31,
    "start_time": "2022-05-25T15:18:58.621Z"
   },
   {
    "duration": 32,
    "start_time": "2022-05-25T15:18:58.654Z"
   },
   {
    "duration": 24,
    "start_time": "2022-05-25T15:18:58.688Z"
   },
   {
    "duration": 52,
    "start_time": "2022-05-25T15:18:58.714Z"
   },
   {
    "duration": 11,
    "start_time": "2022-05-25T15:18:58.768Z"
   },
   {
    "duration": 9,
    "start_time": "2022-05-25T15:18:58.781Z"
   },
   {
    "duration": 7,
    "start_time": "2022-05-25T15:18:58.792Z"
   },
   {
    "duration": 9,
    "start_time": "2022-05-25T15:18:58.801Z"
   },
   {
    "duration": 46,
    "start_time": "2022-05-25T15:18:58.812Z"
   },
   {
    "duration": 32,
    "start_time": "2022-05-25T15:18:58.861Z"
   },
   {
    "duration": 61,
    "start_time": "2022-05-25T15:18:58.896Z"
   },
   {
    "duration": 15,
    "start_time": "2022-05-25T15:18:58.959Z"
   },
   {
    "duration": 24,
    "start_time": "2022-05-25T15:18:58.976Z"
   },
   {
    "duration": 9,
    "start_time": "2022-05-25T15:18:59.002Z"
   },
   {
    "duration": 42,
    "start_time": "2022-05-25T15:18:59.013Z"
   },
   {
    "duration": 22,
    "start_time": "2022-05-25T15:18:59.057Z"
   },
   {
    "duration": 8,
    "start_time": "2022-05-25T15:18:59.082Z"
   },
   {
    "duration": 126,
    "start_time": "2022-05-25T15:18:59.092Z"
   },
   {
    "duration": 19,
    "start_time": "2022-05-25T15:18:59.220Z"
   },
   {
    "duration": 5,
    "start_time": "2022-05-25T15:18:59.252Z"
   },
   {
    "duration": 31,
    "start_time": "2022-05-25T15:18:59.259Z"
   },
   {
    "duration": 11,
    "start_time": "2022-05-25T15:18:59.292Z"
   },
   {
    "duration": 14,
    "start_time": "2022-05-25T15:18:59.305Z"
   },
   {
    "duration": 40,
    "start_time": "2022-05-25T15:18:59.321Z"
   },
   {
    "duration": 447,
    "start_time": "2022-05-25T15:18:59.363Z"
   },
   {
    "duration": 9,
    "start_time": "2022-05-25T15:18:59.813Z"
   },
   {
    "duration": 475,
    "start_time": "2022-05-25T15:18:59.824Z"
   },
   {
    "duration": 8,
    "start_time": "2022-05-25T15:19:00.300Z"
   },
   {
    "duration": 62,
    "start_time": "2022-05-25T15:19:00.309Z"
   },
   {
    "duration": 389,
    "start_time": "2022-05-25T15:19:00.373Z"
   },
   {
    "duration": 9,
    "start_time": "2022-05-25T15:19:00.764Z"
   },
   {
    "duration": 48,
    "start_time": "2022-05-25T15:19:00.775Z"
   },
   {
    "duration": 23,
    "start_time": "2022-05-25T15:19:00.825Z"
   },
   {
    "duration": 643,
    "start_time": "2022-05-25T15:19:00.850Z"
   },
   {
    "duration": 644,
    "start_time": "2022-05-25T15:19:01.551Z"
   },
   {
    "duration": 60,
    "start_time": "2022-05-25T15:19:02.197Z"
   },
   {
    "duration": 720,
    "start_time": "2022-05-25T15:19:02.258Z"
   },
   {
    "duration": 198,
    "start_time": "2022-05-25T15:19:02.980Z"
   },
   {
    "duration": 202,
    "start_time": "2022-05-25T15:19:03.180Z"
   },
   {
    "duration": 738,
    "start_time": "2022-05-25T15:19:03.384Z"
   },
   {
    "duration": 7,
    "start_time": "2022-05-25T15:19:04.124Z"
   },
   {
    "duration": 9,
    "start_time": "2022-05-25T15:19:04.152Z"
   },
   {
    "duration": 54,
    "start_time": "2022-05-25T15:19:04.163Z"
   },
   {
    "duration": 22,
    "start_time": "2022-05-25T15:19:04.219Z"
   },
   {
    "duration": 4,
    "start_time": "2022-05-25T15:32:43.344Z"
   },
   {
    "duration": 3,
    "start_time": "2022-05-25T15:32:46.955Z"
   },
   {
    "duration": 414,
    "start_time": "2022-05-25T15:32:46.964Z"
   },
   {
    "duration": 11,
    "start_time": "2022-05-25T15:32:47.380Z"
   },
   {
    "duration": 19,
    "start_time": "2022-05-25T15:32:47.393Z"
   },
   {
    "duration": 5,
    "start_time": "2022-05-25T15:32:47.415Z"
   },
   {
    "duration": 9,
    "start_time": "2022-05-25T15:32:47.421Z"
   },
   {
    "duration": 21,
    "start_time": "2022-05-25T15:32:47.432Z"
   },
   {
    "duration": 6,
    "start_time": "2022-05-25T15:32:47.455Z"
   },
   {
    "duration": 0,
    "start_time": "2022-05-25T15:32:47.465Z"
   },
   {
    "duration": 0,
    "start_time": "2022-05-25T15:32:47.466Z"
   },
   {
    "duration": 0,
    "start_time": "2022-05-25T15:32:47.467Z"
   },
   {
    "duration": 0,
    "start_time": "2022-05-25T15:32:47.469Z"
   },
   {
    "duration": 0,
    "start_time": "2022-05-25T15:32:47.470Z"
   },
   {
    "duration": 0,
    "start_time": "2022-05-25T15:32:47.471Z"
   },
   {
    "duration": 0,
    "start_time": "2022-05-25T15:32:47.472Z"
   },
   {
    "duration": 0,
    "start_time": "2022-05-25T15:32:47.473Z"
   },
   {
    "duration": 0,
    "start_time": "2022-05-25T15:32:47.474Z"
   },
   {
    "duration": 0,
    "start_time": "2022-05-25T15:32:47.475Z"
   },
   {
    "duration": 0,
    "start_time": "2022-05-25T15:32:47.476Z"
   },
   {
    "duration": 0,
    "start_time": "2022-05-25T15:32:47.478Z"
   },
   {
    "duration": 0,
    "start_time": "2022-05-25T15:32:47.479Z"
   },
   {
    "duration": 0,
    "start_time": "2022-05-25T15:32:47.481Z"
   },
   {
    "duration": 0,
    "start_time": "2022-05-25T15:32:47.483Z"
   },
   {
    "duration": 0,
    "start_time": "2022-05-25T15:32:47.484Z"
   },
   {
    "duration": 0,
    "start_time": "2022-05-25T15:32:47.486Z"
   },
   {
    "duration": 0,
    "start_time": "2022-05-25T15:32:47.487Z"
   },
   {
    "duration": 0,
    "start_time": "2022-05-25T15:32:47.489Z"
   },
   {
    "duration": 0,
    "start_time": "2022-05-25T15:32:47.490Z"
   },
   {
    "duration": 0,
    "start_time": "2022-05-25T15:32:47.492Z"
   },
   {
    "duration": 0,
    "start_time": "2022-05-25T15:32:47.493Z"
   },
   {
    "duration": 0,
    "start_time": "2022-05-25T15:32:47.495Z"
   },
   {
    "duration": 0,
    "start_time": "2022-05-25T15:32:47.552Z"
   },
   {
    "duration": 0,
    "start_time": "2022-05-25T15:32:47.554Z"
   },
   {
    "duration": 0,
    "start_time": "2022-05-25T15:32:47.556Z"
   },
   {
    "duration": 0,
    "start_time": "2022-05-25T15:32:47.557Z"
   },
   {
    "duration": 0,
    "start_time": "2022-05-25T15:32:47.558Z"
   },
   {
    "duration": 0,
    "start_time": "2022-05-25T15:32:47.560Z"
   },
   {
    "duration": 0,
    "start_time": "2022-05-25T15:32:47.561Z"
   },
   {
    "duration": 0,
    "start_time": "2022-05-25T15:32:47.563Z"
   },
   {
    "duration": 0,
    "start_time": "2022-05-25T15:32:47.564Z"
   },
   {
    "duration": 0,
    "start_time": "2022-05-25T15:32:47.566Z"
   },
   {
    "duration": 0,
    "start_time": "2022-05-25T15:32:47.567Z"
   },
   {
    "duration": 0,
    "start_time": "2022-05-25T15:32:47.568Z"
   },
   {
    "duration": 0,
    "start_time": "2022-05-25T15:32:47.569Z"
   },
   {
    "duration": 0,
    "start_time": "2022-05-25T15:32:47.570Z"
   },
   {
    "duration": 0,
    "start_time": "2022-05-25T15:32:47.571Z"
   },
   {
    "duration": 0,
    "start_time": "2022-05-25T15:32:47.572Z"
   },
   {
    "duration": 0,
    "start_time": "2022-05-25T15:32:47.573Z"
   },
   {
    "duration": 0,
    "start_time": "2022-05-25T15:32:47.574Z"
   },
   {
    "duration": 0,
    "start_time": "2022-05-25T15:32:47.575Z"
   },
   {
    "duration": 0,
    "start_time": "2022-05-25T15:32:47.576Z"
   },
   {
    "duration": 0,
    "start_time": "2022-05-25T15:32:47.577Z"
   },
   {
    "duration": 0,
    "start_time": "2022-05-25T15:32:47.578Z"
   },
   {
    "duration": 0,
    "start_time": "2022-05-25T15:32:47.579Z"
   },
   {
    "duration": 0,
    "start_time": "2022-05-25T15:32:47.580Z"
   },
   {
    "duration": 0,
    "start_time": "2022-05-25T15:32:47.581Z"
   },
   {
    "duration": 0,
    "start_time": "2022-05-25T15:32:47.582Z"
   },
   {
    "duration": 0,
    "start_time": "2022-05-25T15:32:47.583Z"
   },
   {
    "duration": 0,
    "start_time": "2022-05-25T15:32:47.584Z"
   },
   {
    "duration": 0,
    "start_time": "2022-05-25T15:32:47.585Z"
   },
   {
    "duration": 0,
    "start_time": "2022-05-25T15:32:47.587Z"
   },
   {
    "duration": 0,
    "start_time": "2022-05-25T15:32:47.588Z"
   },
   {
    "duration": 0,
    "start_time": "2022-05-25T15:32:47.589Z"
   },
   {
    "duration": 0,
    "start_time": "2022-05-25T15:32:47.590Z"
   },
   {
    "duration": 0,
    "start_time": "2022-05-25T15:32:47.652Z"
   },
   {
    "duration": 0,
    "start_time": "2022-05-25T15:32:47.653Z"
   },
   {
    "duration": 0,
    "start_time": "2022-05-25T15:32:47.655Z"
   },
   {
    "duration": 0,
    "start_time": "2022-05-25T15:32:47.655Z"
   },
   {
    "duration": 0,
    "start_time": "2022-05-25T15:32:47.656Z"
   },
   {
    "duration": 0,
    "start_time": "2022-05-25T15:32:47.657Z"
   },
   {
    "duration": 0,
    "start_time": "2022-05-25T15:32:47.658Z"
   },
   {
    "duration": 0,
    "start_time": "2022-05-25T15:32:47.659Z"
   },
   {
    "duration": 0,
    "start_time": "2022-05-25T15:32:47.660Z"
   },
   {
    "duration": 0,
    "start_time": "2022-05-25T15:32:47.661Z"
   },
   {
    "duration": 0,
    "start_time": "2022-05-25T15:32:47.662Z"
   },
   {
    "duration": 0,
    "start_time": "2022-05-25T15:32:47.663Z"
   },
   {
    "duration": 0,
    "start_time": "2022-05-25T15:32:47.665Z"
   },
   {
    "duration": 0,
    "start_time": "2022-05-25T15:32:47.666Z"
   },
   {
    "duration": 0,
    "start_time": "2022-05-25T15:32:47.666Z"
   },
   {
    "duration": 0,
    "start_time": "2022-05-25T15:32:47.668Z"
   },
   {
    "duration": 0,
    "start_time": "2022-05-25T15:32:47.669Z"
   },
   {
    "duration": 0,
    "start_time": "2022-05-25T15:32:47.670Z"
   },
   {
    "duration": 0,
    "start_time": "2022-05-25T15:32:47.670Z"
   },
   {
    "duration": 0,
    "start_time": "2022-05-25T15:32:47.671Z"
   },
   {
    "duration": 0,
    "start_time": "2022-05-25T15:32:47.672Z"
   },
   {
    "duration": 4,
    "start_time": "2022-05-25T15:33:00.391Z"
   },
   {
    "duration": 431,
    "start_time": "2022-05-25T15:33:00.397Z"
   },
   {
    "duration": 11,
    "start_time": "2022-05-25T15:33:00.830Z"
   },
   {
    "duration": 23,
    "start_time": "2022-05-25T15:33:00.843Z"
   },
   {
    "duration": 9,
    "start_time": "2022-05-25T15:33:00.868Z"
   },
   {
    "duration": 14,
    "start_time": "2022-05-25T15:33:00.879Z"
   },
   {
    "duration": 14,
    "start_time": "2022-05-25T15:33:00.895Z"
   },
   {
    "duration": 31,
    "start_time": "2022-05-25T15:33:00.910Z"
   },
   {
    "duration": 11,
    "start_time": "2022-05-25T15:33:00.943Z"
   },
   {
    "duration": 12,
    "start_time": "2022-05-25T15:33:00.956Z"
   },
   {
    "duration": 21,
    "start_time": "2022-05-25T15:33:00.971Z"
   },
   {
    "duration": 9,
    "start_time": "2022-05-25T15:33:00.993Z"
   },
   {
    "duration": 12,
    "start_time": "2022-05-25T15:33:01.004Z"
   },
   {
    "duration": 21,
    "start_time": "2022-05-25T15:33:01.017Z"
   },
   {
    "duration": 21,
    "start_time": "2022-05-25T15:33:01.040Z"
   },
   {
    "duration": 24,
    "start_time": "2022-05-25T15:33:01.062Z"
   },
   {
    "duration": 8,
    "start_time": "2022-05-25T15:33:01.088Z"
   },
   {
    "duration": 8,
    "start_time": "2022-05-25T15:33:01.098Z"
   },
   {
    "duration": 22,
    "start_time": "2022-05-25T15:33:01.108Z"
   },
   {
    "duration": 18,
    "start_time": "2022-05-25T15:33:01.132Z"
   },
   {
    "duration": 12,
    "start_time": "2022-05-25T15:33:01.152Z"
   },
   {
    "duration": 16,
    "start_time": "2022-05-25T15:33:01.166Z"
   },
   {
    "duration": 14,
    "start_time": "2022-05-25T15:33:01.183Z"
   },
   {
    "duration": 19,
    "start_time": "2022-05-25T15:33:01.199Z"
   },
   {
    "duration": 28,
    "start_time": "2022-05-25T15:33:01.219Z"
   },
   {
    "duration": 13,
    "start_time": "2022-05-25T15:33:01.249Z"
   },
   {
    "duration": 28,
    "start_time": "2022-05-25T15:33:01.263Z"
   },
   {
    "duration": 24,
    "start_time": "2022-05-25T15:33:01.293Z"
   },
   {
    "duration": 18,
    "start_time": "2022-05-25T15:33:01.322Z"
   },
   {
    "duration": 22,
    "start_time": "2022-05-25T15:33:01.342Z"
   },
   {
    "duration": 25,
    "start_time": "2022-05-25T15:33:01.366Z"
   },
   {
    "duration": 9,
    "start_time": "2022-05-25T15:33:01.393Z"
   },
   {
    "duration": 43,
    "start_time": "2022-05-25T15:33:01.403Z"
   },
   {
    "duration": 27,
    "start_time": "2022-05-25T15:33:01.448Z"
   },
   {
    "duration": 16,
    "start_time": "2022-05-25T15:33:01.478Z"
   },
   {
    "duration": 13,
    "start_time": "2022-05-25T15:33:01.496Z"
   },
   {
    "duration": 28,
    "start_time": "2022-05-25T15:33:01.510Z"
   },
   {
    "duration": 27,
    "start_time": "2022-05-25T15:33:01.540Z"
   },
   {
    "duration": 47,
    "start_time": "2022-05-25T15:33:01.569Z"
   },
   {
    "duration": 8,
    "start_time": "2022-05-25T15:33:01.618Z"
   },
   {
    "duration": 78,
    "start_time": "2022-05-25T15:33:01.628Z"
   },
   {
    "duration": 11,
    "start_time": "2022-05-25T15:33:01.708Z"
   },
   {
    "duration": 51,
    "start_time": "2022-05-25T15:33:01.721Z"
   },
   {
    "duration": 25,
    "start_time": "2022-05-25T15:33:01.774Z"
   },
   {
    "duration": 23,
    "start_time": "2022-05-25T15:33:01.800Z"
   },
   {
    "duration": 43,
    "start_time": "2022-05-25T15:33:01.825Z"
   },
   {
    "duration": 28,
    "start_time": "2022-05-25T15:33:01.869Z"
   },
   {
    "duration": 19,
    "start_time": "2022-05-25T15:33:01.899Z"
   },
   {
    "duration": 21,
    "start_time": "2022-05-25T15:33:01.920Z"
   },
   {
    "duration": 17,
    "start_time": "2022-05-25T15:33:01.943Z"
   },
   {
    "duration": 27,
    "start_time": "2022-05-25T15:33:01.963Z"
   },
   {
    "duration": 24,
    "start_time": "2022-05-25T15:33:01.992Z"
   },
   {
    "duration": 11,
    "start_time": "2022-05-25T15:33:02.018Z"
   },
   {
    "duration": 32,
    "start_time": "2022-05-25T15:33:02.031Z"
   },
   {
    "duration": 16,
    "start_time": "2022-05-25T15:33:02.065Z"
   },
   {
    "duration": 36,
    "start_time": "2022-05-25T15:33:02.083Z"
   },
   {
    "duration": 25,
    "start_time": "2022-05-25T15:33:02.121Z"
   },
   {
    "duration": 12,
    "start_time": "2022-05-25T15:33:02.148Z"
   },
   {
    "duration": 91,
    "start_time": "2022-05-25T15:33:02.162Z"
   },
   {
    "duration": 16,
    "start_time": "2022-05-25T15:33:02.254Z"
   },
   {
    "duration": 32,
    "start_time": "2022-05-25T15:33:02.272Z"
   },
   {
    "duration": 38,
    "start_time": "2022-05-25T15:33:02.305Z"
   },
   {
    "duration": 11,
    "start_time": "2022-05-25T15:33:02.345Z"
   },
   {
    "duration": 18,
    "start_time": "2022-05-25T15:33:02.357Z"
   },
   {
    "duration": 20,
    "start_time": "2022-05-25T15:33:02.377Z"
   },
   {
    "duration": 405,
    "start_time": "2022-05-25T15:33:02.399Z"
   },
   {
    "duration": 8,
    "start_time": "2022-05-25T15:33:02.805Z"
   },
   {
    "duration": 388,
    "start_time": "2022-05-25T15:33:02.815Z"
   },
   {
    "duration": 8,
    "start_time": "2022-05-25T15:33:03.205Z"
   },
   {
    "duration": 13,
    "start_time": "2022-05-25T15:33:03.214Z"
   },
   {
    "duration": 354,
    "start_time": "2022-05-25T15:33:03.229Z"
   },
   {
    "duration": 8,
    "start_time": "2022-05-25T15:33:03.585Z"
   },
   {
    "duration": 16,
    "start_time": "2022-05-25T15:33:03.594Z"
   },
   {
    "duration": 10,
    "start_time": "2022-05-25T15:33:03.612Z"
   },
   {
    "duration": 462,
    "start_time": "2022-05-25T15:33:03.624Z"
   },
   {
    "duration": 608,
    "start_time": "2022-05-25T15:33:04.087Z"
   },
   {
    "duration": 60,
    "start_time": "2022-05-25T15:33:04.697Z"
   },
   {
    "duration": 608,
    "start_time": "2022-05-25T15:33:04.759Z"
   },
   {
    "duration": 187,
    "start_time": "2022-05-25T15:33:05.369Z"
   },
   {
    "duration": 203,
    "start_time": "2022-05-25T15:33:05.558Z"
   },
   {
    "duration": 615,
    "start_time": "2022-05-25T15:33:05.762Z"
   },
   {
    "duration": 5,
    "start_time": "2022-05-25T15:33:06.379Z"
   },
   {
    "duration": 9,
    "start_time": "2022-05-25T15:33:06.389Z"
   },
   {
    "duration": 9,
    "start_time": "2022-05-25T15:33:06.400Z"
   },
   {
    "duration": 7,
    "start_time": "2022-05-25T15:33:06.411Z"
   },
   {
    "duration": 487,
    "start_time": "2022-05-25T15:33:29.189Z"
   },
   {
    "duration": 3,
    "start_time": "2022-05-25T15:33:32.874Z"
   },
   {
    "duration": 421,
    "start_time": "2022-05-25T15:33:32.879Z"
   },
   {
    "duration": 11,
    "start_time": "2022-05-25T15:33:33.302Z"
   },
   {
    "duration": 12,
    "start_time": "2022-05-25T15:33:33.315Z"
   },
   {
    "duration": 23,
    "start_time": "2022-05-25T15:33:33.329Z"
   },
   {
    "duration": 8,
    "start_time": "2022-05-25T15:33:33.354Z"
   },
   {
    "duration": 8,
    "start_time": "2022-05-25T15:33:33.364Z"
   },
   {
    "duration": 10,
    "start_time": "2022-05-25T15:33:33.373Z"
   },
   {
    "duration": 9,
    "start_time": "2022-05-25T15:33:33.385Z"
   },
   {
    "duration": 8,
    "start_time": "2022-05-25T15:33:33.395Z"
   },
   {
    "duration": 9,
    "start_time": "2022-05-25T15:33:33.405Z"
   },
   {
    "duration": 9,
    "start_time": "2022-05-25T15:33:33.416Z"
   },
   {
    "duration": 26,
    "start_time": "2022-05-25T15:33:33.427Z"
   },
   {
    "duration": 18,
    "start_time": "2022-05-25T15:33:33.455Z"
   },
   {
    "duration": 8,
    "start_time": "2022-05-25T15:33:33.474Z"
   },
   {
    "duration": 22,
    "start_time": "2022-05-25T15:33:33.483Z"
   },
   {
    "duration": 5,
    "start_time": "2022-05-25T15:33:33.507Z"
   },
   {
    "duration": 7,
    "start_time": "2022-05-25T15:33:33.514Z"
   },
   {
    "duration": 35,
    "start_time": "2022-05-25T15:33:33.523Z"
   },
   {
    "duration": 18,
    "start_time": "2022-05-25T15:33:33.560Z"
   },
   {
    "duration": 6,
    "start_time": "2022-05-25T15:33:33.580Z"
   },
   {
    "duration": 16,
    "start_time": "2022-05-25T15:33:33.588Z"
   },
   {
    "duration": 7,
    "start_time": "2022-05-25T15:33:33.606Z"
   },
   {
    "duration": 39,
    "start_time": "2022-05-25T15:33:33.615Z"
   },
   {
    "duration": 29,
    "start_time": "2022-05-25T15:33:33.656Z"
   },
   {
    "duration": 8,
    "start_time": "2022-05-25T15:33:33.687Z"
   },
   {
    "duration": 30,
    "start_time": "2022-05-25T15:33:33.697Z"
   },
   {
    "duration": 37,
    "start_time": "2022-05-25T15:33:33.729Z"
   },
   {
    "duration": 26,
    "start_time": "2022-05-25T15:33:33.773Z"
   },
   {
    "duration": 7,
    "start_time": "2022-05-25T15:33:33.801Z"
   },
   {
    "duration": 54,
    "start_time": "2022-05-25T15:33:33.810Z"
   },
   {
    "duration": 11,
    "start_time": "2022-05-25T15:33:33.865Z"
   },
   {
    "duration": 37,
    "start_time": "2022-05-25T15:33:33.877Z"
   },
   {
    "duration": 19,
    "start_time": "2022-05-25T15:33:33.916Z"
   },
   {
    "duration": 41,
    "start_time": "2022-05-25T15:33:33.937Z"
   },
   {
    "duration": 13,
    "start_time": "2022-05-25T15:33:33.981Z"
   },
   {
    "duration": 13,
    "start_time": "2022-05-25T15:33:33.996Z"
   },
   {
    "duration": 13,
    "start_time": "2022-05-25T15:33:34.011Z"
   },
   {
    "duration": 37,
    "start_time": "2022-05-25T15:33:34.026Z"
   },
   {
    "duration": 9,
    "start_time": "2022-05-25T15:33:34.065Z"
   },
   {
    "duration": 55,
    "start_time": "2022-05-25T15:33:34.075Z"
   },
   {
    "duration": 26,
    "start_time": "2022-05-25T15:33:34.132Z"
   },
   {
    "duration": 34,
    "start_time": "2022-05-25T15:33:34.161Z"
   },
   {
    "duration": 24,
    "start_time": "2022-05-25T15:33:34.197Z"
   },
   {
    "duration": 50,
    "start_time": "2022-05-25T15:33:34.223Z"
   },
   {
    "duration": 14,
    "start_time": "2022-05-25T15:33:34.276Z"
   },
   {
    "duration": 13,
    "start_time": "2022-05-25T15:33:34.292Z"
   },
   {
    "duration": 8,
    "start_time": "2022-05-25T15:33:34.307Z"
   },
   {
    "duration": 35,
    "start_time": "2022-05-25T15:33:34.317Z"
   },
   {
    "duration": 14,
    "start_time": "2022-05-25T15:33:34.355Z"
   },
   {
    "duration": 21,
    "start_time": "2022-05-25T15:33:34.371Z"
   },
   {
    "duration": 24,
    "start_time": "2022-05-25T15:33:34.394Z"
   },
   {
    "duration": 37,
    "start_time": "2022-05-25T15:33:34.420Z"
   },
   {
    "duration": 18,
    "start_time": "2022-05-25T15:33:34.459Z"
   },
   {
    "duration": 9,
    "start_time": "2022-05-25T15:33:34.479Z"
   },
   {
    "duration": 10,
    "start_time": "2022-05-25T15:33:34.489Z"
   },
   {
    "duration": 21,
    "start_time": "2022-05-25T15:33:34.501Z"
   },
   {
    "duration": 6,
    "start_time": "2022-05-25T15:33:34.552Z"
   },
   {
    "duration": 108,
    "start_time": "2022-05-25T15:33:34.560Z"
   },
   {
    "duration": 18,
    "start_time": "2022-05-25T15:33:34.670Z"
   },
   {
    "duration": 12,
    "start_time": "2022-05-25T15:33:34.690Z"
   },
   {
    "duration": 30,
    "start_time": "2022-05-25T15:33:34.704Z"
   },
   {
    "duration": 8,
    "start_time": "2022-05-25T15:33:34.753Z"
   },
   {
    "duration": 16,
    "start_time": "2022-05-25T15:33:34.763Z"
   },
   {
    "duration": 12,
    "start_time": "2022-05-25T15:33:34.781Z"
   },
   {
    "duration": 425,
    "start_time": "2022-05-25T15:33:34.795Z"
   },
   {
    "duration": 11,
    "start_time": "2022-05-25T15:33:35.223Z"
   },
   {
    "duration": 429,
    "start_time": "2022-05-25T15:33:35.236Z"
   },
   {
    "duration": 9,
    "start_time": "2022-05-25T15:33:35.667Z"
   },
   {
    "duration": 21,
    "start_time": "2022-05-25T15:33:35.678Z"
   },
   {
    "duration": 402,
    "start_time": "2022-05-25T15:33:35.701Z"
   },
   {
    "duration": 12,
    "start_time": "2022-05-25T15:33:36.105Z"
   },
   {
    "duration": 25,
    "start_time": "2022-05-25T15:33:36.119Z"
   },
   {
    "duration": 12,
    "start_time": "2022-05-25T15:33:36.153Z"
   },
   {
    "duration": 407,
    "start_time": "2022-05-25T15:33:36.167Z"
   },
   {
    "duration": 360,
    "start_time": "2022-05-25T15:33:36.576Z"
   },
   {
    "duration": 19,
    "start_time": "2022-05-25T15:33:36.937Z"
   },
   {
    "duration": 361,
    "start_time": "2022-05-25T15:33:36.958Z"
   },
   {
    "duration": 165,
    "start_time": "2022-05-25T15:33:37.321Z"
   },
   {
    "duration": 201,
    "start_time": "2022-05-25T15:33:37.488Z"
   },
   {
    "duration": 779,
    "start_time": "2022-05-25T15:33:37.690Z"
   },
   {
    "duration": 6,
    "start_time": "2022-05-25T15:33:38.471Z"
   },
   {
    "duration": 11,
    "start_time": "2022-05-25T15:33:38.482Z"
   },
   {
    "duration": 9,
    "start_time": "2022-05-25T15:33:38.495Z"
   },
   {
    "duration": 8,
    "start_time": "2022-05-25T15:33:38.505Z"
   },
   {
    "duration": 6,
    "start_time": "2022-05-25T15:34:29.147Z"
   },
   {
    "duration": 10,
    "start_time": "2022-05-25T15:34:30.999Z"
   },
   {
    "duration": 15,
    "start_time": "2022-05-25T15:34:36.254Z"
   },
   {
    "duration": 4,
    "start_time": "2022-05-25T15:37:11.355Z"
   },
   {
    "duration": 399,
    "start_time": "2022-05-25T15:37:11.360Z"
   },
   {
    "duration": 10,
    "start_time": "2022-05-25T15:37:11.761Z"
   },
   {
    "duration": 13,
    "start_time": "2022-05-25T15:37:11.772Z"
   },
   {
    "duration": 6,
    "start_time": "2022-05-25T15:37:11.788Z"
   },
   {
    "duration": 9,
    "start_time": "2022-05-25T15:37:11.796Z"
   },
   {
    "duration": 13,
    "start_time": "2022-05-25T15:37:11.806Z"
   },
   {
    "duration": 8,
    "start_time": "2022-05-25T15:37:11.820Z"
   },
   {
    "duration": 24,
    "start_time": "2022-05-25T15:37:11.829Z"
   },
   {
    "duration": 4,
    "start_time": "2022-05-25T15:37:11.855Z"
   },
   {
    "duration": 7,
    "start_time": "2022-05-25T15:37:11.862Z"
   },
   {
    "duration": 9,
    "start_time": "2022-05-25T15:37:11.870Z"
   },
   {
    "duration": 12,
    "start_time": "2022-05-25T15:37:11.881Z"
   },
   {
    "duration": 12,
    "start_time": "2022-05-25T15:37:11.894Z"
   },
   {
    "duration": 9,
    "start_time": "2022-05-25T15:37:11.908Z"
   },
   {
    "duration": 49,
    "start_time": "2022-05-25T15:37:11.918Z"
   },
   {
    "duration": 8,
    "start_time": "2022-05-25T15:37:11.969Z"
   },
   {
    "duration": 8,
    "start_time": "2022-05-25T15:37:11.979Z"
   },
   {
    "duration": 10,
    "start_time": "2022-05-25T15:37:11.989Z"
   },
   {
    "duration": 14,
    "start_time": "2022-05-25T15:37:12.001Z"
   },
   {
    "duration": 35,
    "start_time": "2022-05-25T15:37:12.017Z"
   },
   {
    "duration": 6,
    "start_time": "2022-05-25T15:37:12.054Z"
   },
   {
    "duration": 12,
    "start_time": "2022-05-25T15:37:12.062Z"
   },
   {
    "duration": 14,
    "start_time": "2022-05-25T15:37:12.077Z"
   },
   {
    "duration": 9,
    "start_time": "2022-05-25T15:37:12.093Z"
   },
   {
    "duration": 24,
    "start_time": "2022-05-25T15:37:12.103Z"
   },
   {
    "duration": 26,
    "start_time": "2022-05-25T15:37:12.152Z"
   },
   {
    "duration": 15,
    "start_time": "2022-05-25T15:37:12.181Z"
   },
   {
    "duration": 27,
    "start_time": "2022-05-25T15:37:12.200Z"
   },
   {
    "duration": 28,
    "start_time": "2022-05-25T15:37:12.229Z"
   },
   {
    "duration": 16,
    "start_time": "2022-05-25T15:37:12.259Z"
   },
   {
    "duration": 8,
    "start_time": "2022-05-25T15:37:12.277Z"
   },
   {
    "duration": 23,
    "start_time": "2022-05-25T15:37:12.287Z"
   },
   {
    "duration": 9,
    "start_time": "2022-05-25T15:37:12.312Z"
   },
   {
    "duration": 49,
    "start_time": "2022-05-25T15:37:12.322Z"
   },
   {
    "duration": 18,
    "start_time": "2022-05-25T15:37:12.373Z"
   },
   {
    "duration": 16,
    "start_time": "2022-05-25T15:37:12.392Z"
   },
   {
    "duration": 10,
    "start_time": "2022-05-25T15:37:12.410Z"
   },
   {
    "duration": 31,
    "start_time": "2022-05-25T15:37:12.422Z"
   },
   {
    "duration": 7,
    "start_time": "2022-05-25T15:37:12.455Z"
   },
   {
    "duration": 26,
    "start_time": "2022-05-25T15:37:12.464Z"
   },
   {
    "duration": 10,
    "start_time": "2022-05-25T15:37:12.492Z"
   },
   {
    "duration": 90,
    "start_time": "2022-05-25T15:37:12.504Z"
   },
   {
    "duration": 11,
    "start_time": "2022-05-25T15:37:12.596Z"
   },
   {
    "duration": 55,
    "start_time": "2022-05-25T15:37:12.609Z"
   },
   {
    "duration": 26,
    "start_time": "2022-05-25T15:37:12.667Z"
   },
   {
    "duration": 22,
    "start_time": "2022-05-25T15:37:12.694Z"
   },
   {
    "duration": 11,
    "start_time": "2022-05-25T15:37:12.718Z"
   },
   {
    "duration": 10,
    "start_time": "2022-05-25T15:37:12.751Z"
   },
   {
    "duration": 8,
    "start_time": "2022-05-25T15:37:12.763Z"
   },
   {
    "duration": 7,
    "start_time": "2022-05-25T15:37:12.773Z"
   },
   {
    "duration": 11,
    "start_time": "2022-05-25T15:37:12.782Z"
   },
   {
    "duration": 21,
    "start_time": "2022-05-25T15:37:12.795Z"
   },
   {
    "duration": 56,
    "start_time": "2022-05-25T15:37:12.818Z"
   },
   {
    "duration": 10,
    "start_time": "2022-05-25T15:37:12.875Z"
   },
   {
    "duration": 17,
    "start_time": "2022-05-25T15:37:12.887Z"
   },
   {
    "duration": 6,
    "start_time": "2022-05-25T15:37:12.905Z"
   },
   {
    "duration": 42,
    "start_time": "2022-05-25T15:37:12.912Z"
   },
   {
    "duration": 16,
    "start_time": "2022-05-25T15:37:12.955Z"
   },
   {
    "duration": 11,
    "start_time": "2022-05-25T15:37:12.973Z"
   },
   {
    "duration": 101,
    "start_time": "2022-05-25T15:37:12.985Z"
   },
   {
    "duration": 16,
    "start_time": "2022-05-25T15:37:13.090Z"
   },
   {
    "duration": 9,
    "start_time": "2022-05-25T15:37:13.107Z"
   },
   {
    "duration": 40,
    "start_time": "2022-05-25T15:37:13.118Z"
   },
   {
    "duration": 9,
    "start_time": "2022-05-25T15:37:13.159Z"
   },
   {
    "duration": 9,
    "start_time": "2022-05-25T15:37:13.170Z"
   },
   {
    "duration": 14,
    "start_time": "2022-05-25T15:37:13.180Z"
   },
   {
    "duration": 401,
    "start_time": "2022-05-25T15:37:13.196Z"
   },
   {
    "duration": 7,
    "start_time": "2022-05-25T15:37:13.599Z"
   },
   {
    "duration": 384,
    "start_time": "2022-05-25T15:37:13.608Z"
   },
   {
    "duration": 9,
    "start_time": "2022-05-25T15:37:13.994Z"
   },
   {
    "duration": 10,
    "start_time": "2022-05-25T15:37:14.005Z"
   },
   {
    "duration": 373,
    "start_time": "2022-05-25T15:37:14.017Z"
   },
   {
    "duration": 9,
    "start_time": "2022-05-25T15:37:14.392Z"
   },
   {
    "duration": 12,
    "start_time": "2022-05-25T15:37:14.403Z"
   },
   {
    "duration": 9,
    "start_time": "2022-05-25T15:37:14.417Z"
   },
   {
    "duration": 369,
    "start_time": "2022-05-25T15:37:14.428Z"
   },
   {
    "duration": 411,
    "start_time": "2022-05-25T15:37:14.799Z"
   },
   {
    "duration": 9,
    "start_time": "2022-05-25T15:37:15.213Z"
   },
   {
    "duration": 553,
    "start_time": "2022-05-25T15:37:15.224Z"
   },
   {
    "duration": 193,
    "start_time": "2022-05-25T15:37:15.778Z"
   },
   {
    "duration": 195,
    "start_time": "2022-05-25T15:37:15.974Z"
   },
   {
    "duration": 994,
    "start_time": "2022-05-25T15:37:16.174Z"
   },
   {
    "duration": 6,
    "start_time": "2022-05-25T15:37:17.170Z"
   },
   {
    "duration": 25,
    "start_time": "2022-05-25T15:37:17.177Z"
   },
   {
    "duration": 9,
    "start_time": "2022-05-25T15:37:17.203Z"
   },
   {
    "duration": 41,
    "start_time": "2022-05-25T15:37:17.214Z"
   },
   {
    "duration": 4,
    "start_time": "2022-05-25T15:37:36.312Z"
   },
   {
    "duration": 449,
    "start_time": "2022-05-25T15:37:36.318Z"
   },
   {
    "duration": 11,
    "start_time": "2022-05-25T15:37:36.769Z"
   },
   {
    "duration": 15,
    "start_time": "2022-05-25T15:37:36.782Z"
   },
   {
    "duration": 6,
    "start_time": "2022-05-25T15:37:36.799Z"
   },
   {
    "duration": 10,
    "start_time": "2022-05-25T15:37:36.806Z"
   },
   {
    "duration": 7,
    "start_time": "2022-05-25T15:37:36.818Z"
   },
   {
    "duration": 27,
    "start_time": "2022-05-25T15:37:36.827Z"
   },
   {
    "duration": 4,
    "start_time": "2022-05-25T15:37:36.855Z"
   },
   {
    "duration": 6,
    "start_time": "2022-05-25T15:37:36.860Z"
   },
   {
    "duration": 7,
    "start_time": "2022-05-25T15:37:36.869Z"
   },
   {
    "duration": 6,
    "start_time": "2022-05-25T15:37:36.878Z"
   },
   {
    "duration": 9,
    "start_time": "2022-05-25T15:37:36.886Z"
   },
   {
    "duration": 7,
    "start_time": "2022-05-25T15:37:36.897Z"
   },
   {
    "duration": 47,
    "start_time": "2022-05-25T15:37:36.906Z"
   },
   {
    "duration": 5,
    "start_time": "2022-05-25T15:37:36.955Z"
   },
   {
    "duration": 6,
    "start_time": "2022-05-25T15:37:36.962Z"
   },
   {
    "duration": 12,
    "start_time": "2022-05-25T15:37:36.970Z"
   },
   {
    "duration": 12,
    "start_time": "2022-05-25T15:37:36.983Z"
   },
   {
    "duration": 18,
    "start_time": "2022-05-25T15:37:36.997Z"
   },
   {
    "duration": 36,
    "start_time": "2022-05-25T15:37:37.017Z"
   },
   {
    "duration": 15,
    "start_time": "2022-05-25T15:37:37.055Z"
   },
   {
    "duration": 18,
    "start_time": "2022-05-25T15:37:37.071Z"
   },
   {
    "duration": 6,
    "start_time": "2022-05-25T15:37:37.091Z"
   },
   {
    "duration": 13,
    "start_time": "2022-05-25T15:37:37.099Z"
   },
   {
    "duration": 50,
    "start_time": "2022-05-25T15:37:37.113Z"
   },
   {
    "duration": 7,
    "start_time": "2022-05-25T15:37:37.165Z"
   },
   {
    "duration": 24,
    "start_time": "2022-05-25T15:37:37.174Z"
   },
   {
    "duration": 16,
    "start_time": "2022-05-25T15:37:37.202Z"
   },
   {
    "duration": 44,
    "start_time": "2022-05-25T15:37:37.220Z"
   },
   {
    "duration": 6,
    "start_time": "2022-05-25T15:37:37.266Z"
   },
   {
    "duration": 24,
    "start_time": "2022-05-25T15:37:37.274Z"
   },
   {
    "duration": 54,
    "start_time": "2022-05-25T15:37:37.300Z"
   },
   {
    "duration": 25,
    "start_time": "2022-05-25T15:37:37.356Z"
   },
   {
    "duration": 70,
    "start_time": "2022-05-25T15:37:37.382Z"
   },
   {
    "duration": 19,
    "start_time": "2022-05-25T15:37:37.454Z"
   },
   {
    "duration": 10,
    "start_time": "2022-05-25T15:37:37.475Z"
   },
   {
    "duration": 11,
    "start_time": "2022-05-25T15:37:37.487Z"
   },
   {
    "duration": 7,
    "start_time": "2022-05-25T15:37:37.500Z"
   },
   {
    "duration": 61,
    "start_time": "2022-05-25T15:37:37.509Z"
   },
   {
    "duration": 8,
    "start_time": "2022-05-25T15:37:37.572Z"
   },
   {
    "duration": 102,
    "start_time": "2022-05-25T15:37:37.581Z"
   },
   {
    "duration": 9,
    "start_time": "2022-05-25T15:37:37.685Z"
   },
   {
    "duration": 86,
    "start_time": "2022-05-25T15:37:37.695Z"
   },
   {
    "duration": 73,
    "start_time": "2022-05-25T15:37:37.783Z"
   },
   {
    "duration": 21,
    "start_time": "2022-05-25T15:37:37.858Z"
   },
   {
    "duration": 11,
    "start_time": "2022-05-25T15:37:37.881Z"
   },
   {
    "duration": 69,
    "start_time": "2022-05-25T15:37:37.893Z"
   },
   {
    "duration": 7,
    "start_time": "2022-05-25T15:37:37.964Z"
   },
   {
    "duration": 11,
    "start_time": "2022-05-25T15:37:37.973Z"
   },
   {
    "duration": 13,
    "start_time": "2022-05-25T15:37:37.986Z"
   },
   {
    "duration": 29,
    "start_time": "2022-05-25T15:37:38.000Z"
   },
   {
    "duration": 41,
    "start_time": "2022-05-25T15:37:38.032Z"
   },
   {
    "duration": 10,
    "start_time": "2022-05-25T15:37:38.075Z"
   },
   {
    "duration": 69,
    "start_time": "2022-05-25T15:37:38.087Z"
   },
   {
    "duration": 7,
    "start_time": "2022-05-25T15:37:38.158Z"
   },
   {
    "duration": 11,
    "start_time": "2022-05-25T15:37:38.166Z"
   },
   {
    "duration": 73,
    "start_time": "2022-05-25T15:37:38.179Z"
   },
   {
    "duration": 6,
    "start_time": "2022-05-25T15:37:38.254Z"
   },
   {
    "duration": 195,
    "start_time": "2022-05-25T15:37:38.261Z"
   },
   {
    "duration": 17,
    "start_time": "2022-05-25T15:37:38.458Z"
   },
   {
    "duration": 6,
    "start_time": "2022-05-25T15:37:38.477Z"
   },
   {
    "duration": 80,
    "start_time": "2022-05-25T15:37:38.485Z"
   },
   {
    "duration": 7,
    "start_time": "2022-05-25T15:37:38.566Z"
   },
   {
    "duration": 10,
    "start_time": "2022-05-25T15:37:38.575Z"
   },
   {
    "duration": 8,
    "start_time": "2022-05-25T15:37:38.587Z"
   },
   {
    "duration": 417,
    "start_time": "2022-05-25T15:37:38.597Z"
   },
   {
    "duration": 10,
    "start_time": "2022-05-25T15:37:39.016Z"
   },
   {
    "duration": 399,
    "start_time": "2022-05-25T15:37:39.028Z"
   },
   {
    "duration": 7,
    "start_time": "2022-05-25T15:37:39.429Z"
   },
   {
    "duration": 20,
    "start_time": "2022-05-25T15:37:39.438Z"
   },
   {
    "duration": 336,
    "start_time": "2022-05-25T15:37:39.459Z"
   },
   {
    "duration": 8,
    "start_time": "2022-05-25T15:37:39.796Z"
   },
   {
    "duration": 13,
    "start_time": "2022-05-25T15:37:39.805Z"
   },
   {
    "duration": 11,
    "start_time": "2022-05-25T15:37:39.819Z"
   },
   {
    "duration": 364,
    "start_time": "2022-05-25T15:37:39.852Z"
   },
   {
    "duration": 374,
    "start_time": "2022-05-25T15:37:40.219Z"
   },
   {
    "duration": 8,
    "start_time": "2022-05-25T15:37:40.595Z"
   },
   {
    "duration": 477,
    "start_time": "2022-05-25T15:37:40.604Z"
   },
   {
    "duration": 191,
    "start_time": "2022-05-25T15:37:41.083Z"
   },
   {
    "duration": 191,
    "start_time": "2022-05-25T15:37:41.275Z"
   },
   {
    "duration": 998,
    "start_time": "2022-05-25T15:37:41.468Z"
   },
   {
    "duration": 5,
    "start_time": "2022-05-25T15:37:42.472Z"
   },
   {
    "duration": 18,
    "start_time": "2022-05-25T15:37:42.478Z"
   },
   {
    "duration": 29,
    "start_time": "2022-05-25T15:37:42.498Z"
   },
   {
    "duration": 23,
    "start_time": "2022-05-25T15:37:42.529Z"
   },
   {
    "duration": 4,
    "start_time": "2022-05-25T15:38:16.565Z"
   },
   {
    "duration": 439,
    "start_time": "2022-05-25T15:38:16.571Z"
   },
   {
    "duration": 10,
    "start_time": "2022-05-25T15:38:17.012Z"
   },
   {
    "duration": 11,
    "start_time": "2022-05-25T15:38:17.024Z"
   },
   {
    "duration": 14,
    "start_time": "2022-05-25T15:38:17.038Z"
   },
   {
    "duration": 5,
    "start_time": "2022-05-25T15:38:17.054Z"
   },
   {
    "duration": 19,
    "start_time": "2022-05-25T15:38:17.061Z"
   },
   {
    "duration": 0,
    "start_time": "2022-05-25T15:38:17.084Z"
   },
   {
    "duration": 0,
    "start_time": "2022-05-25T15:38:17.085Z"
   },
   {
    "duration": 0,
    "start_time": "2022-05-25T15:38:17.086Z"
   },
   {
    "duration": 0,
    "start_time": "2022-05-25T15:38:17.087Z"
   },
   {
    "duration": 0,
    "start_time": "2022-05-25T15:38:17.088Z"
   },
   {
    "duration": 0,
    "start_time": "2022-05-25T15:38:17.090Z"
   },
   {
    "duration": 0,
    "start_time": "2022-05-25T15:38:17.091Z"
   },
   {
    "duration": 0,
    "start_time": "2022-05-25T15:38:17.092Z"
   },
   {
    "duration": 0,
    "start_time": "2022-05-25T15:38:17.093Z"
   },
   {
    "duration": 0,
    "start_time": "2022-05-25T15:38:17.094Z"
   },
   {
    "duration": 0,
    "start_time": "2022-05-25T15:38:17.095Z"
   },
   {
    "duration": 0,
    "start_time": "2022-05-25T15:38:17.096Z"
   },
   {
    "duration": 0,
    "start_time": "2022-05-25T15:38:17.097Z"
   },
   {
    "duration": 0,
    "start_time": "2022-05-25T15:38:17.097Z"
   },
   {
    "duration": 0,
    "start_time": "2022-05-25T15:38:17.098Z"
   },
   {
    "duration": 0,
    "start_time": "2022-05-25T15:38:17.099Z"
   },
   {
    "duration": 0,
    "start_time": "2022-05-25T15:38:17.100Z"
   },
   {
    "duration": 0,
    "start_time": "2022-05-25T15:38:17.101Z"
   },
   {
    "duration": 0,
    "start_time": "2022-05-25T15:38:17.102Z"
   },
   {
    "duration": 0,
    "start_time": "2022-05-25T15:38:17.103Z"
   },
   {
    "duration": 0,
    "start_time": "2022-05-25T15:38:17.104Z"
   },
   {
    "duration": 0,
    "start_time": "2022-05-25T15:38:17.105Z"
   },
   {
    "duration": 0,
    "start_time": "2022-05-25T15:38:17.106Z"
   },
   {
    "duration": 0,
    "start_time": "2022-05-25T15:38:17.153Z"
   },
   {
    "duration": 0,
    "start_time": "2022-05-25T15:38:17.154Z"
   },
   {
    "duration": 0,
    "start_time": "2022-05-25T15:38:17.155Z"
   },
   {
    "duration": 0,
    "start_time": "2022-05-25T15:38:17.156Z"
   },
   {
    "duration": 0,
    "start_time": "2022-05-25T15:38:17.157Z"
   },
   {
    "duration": 0,
    "start_time": "2022-05-25T15:38:17.158Z"
   },
   {
    "duration": 0,
    "start_time": "2022-05-25T15:38:17.159Z"
   },
   {
    "duration": 0,
    "start_time": "2022-05-25T15:38:17.160Z"
   },
   {
    "duration": 0,
    "start_time": "2022-05-25T15:38:17.161Z"
   },
   {
    "duration": 0,
    "start_time": "2022-05-25T15:38:17.162Z"
   },
   {
    "duration": 0,
    "start_time": "2022-05-25T15:38:17.163Z"
   },
   {
    "duration": 0,
    "start_time": "2022-05-25T15:38:17.164Z"
   },
   {
    "duration": 0,
    "start_time": "2022-05-25T15:38:17.165Z"
   },
   {
    "duration": 0,
    "start_time": "2022-05-25T15:38:17.166Z"
   },
   {
    "duration": 0,
    "start_time": "2022-05-25T15:38:17.167Z"
   },
   {
    "duration": 0,
    "start_time": "2022-05-25T15:38:17.168Z"
   },
   {
    "duration": 0,
    "start_time": "2022-05-25T15:38:17.169Z"
   },
   {
    "duration": 0,
    "start_time": "2022-05-25T15:38:17.169Z"
   },
   {
    "duration": 0,
    "start_time": "2022-05-25T15:38:17.171Z"
   },
   {
    "duration": 0,
    "start_time": "2022-05-25T15:38:17.172Z"
   },
   {
    "duration": 0,
    "start_time": "2022-05-25T15:38:17.173Z"
   },
   {
    "duration": 0,
    "start_time": "2022-05-25T15:38:17.174Z"
   },
   {
    "duration": 0,
    "start_time": "2022-05-25T15:38:17.175Z"
   },
   {
    "duration": 0,
    "start_time": "2022-05-25T15:38:17.176Z"
   },
   {
    "duration": 0,
    "start_time": "2022-05-25T15:38:17.176Z"
   },
   {
    "duration": 0,
    "start_time": "2022-05-25T15:38:17.178Z"
   },
   {
    "duration": 0,
    "start_time": "2022-05-25T15:38:17.179Z"
   },
   {
    "duration": 0,
    "start_time": "2022-05-25T15:38:17.180Z"
   },
   {
    "duration": 0,
    "start_time": "2022-05-25T15:38:17.181Z"
   },
   {
    "duration": 0,
    "start_time": "2022-05-25T15:38:17.182Z"
   },
   {
    "duration": 0,
    "start_time": "2022-05-25T15:38:17.183Z"
   },
   {
    "duration": 0,
    "start_time": "2022-05-25T15:38:17.184Z"
   },
   {
    "duration": 0,
    "start_time": "2022-05-25T15:38:17.185Z"
   },
   {
    "duration": 0,
    "start_time": "2022-05-25T15:38:17.186Z"
   },
   {
    "duration": 0,
    "start_time": "2022-05-25T15:38:17.187Z"
   },
   {
    "duration": 0,
    "start_time": "2022-05-25T15:38:17.188Z"
   },
   {
    "duration": 0,
    "start_time": "2022-05-25T15:38:17.252Z"
   },
   {
    "duration": 0,
    "start_time": "2022-05-25T15:38:17.254Z"
   },
   {
    "duration": 0,
    "start_time": "2022-05-25T15:38:17.254Z"
   },
   {
    "duration": 0,
    "start_time": "2022-05-25T15:38:17.255Z"
   },
   {
    "duration": 0,
    "start_time": "2022-05-25T15:38:17.256Z"
   },
   {
    "duration": 0,
    "start_time": "2022-05-25T15:38:17.257Z"
   },
   {
    "duration": 0,
    "start_time": "2022-05-25T15:38:17.258Z"
   },
   {
    "duration": 0,
    "start_time": "2022-05-25T15:38:17.259Z"
   },
   {
    "duration": 0,
    "start_time": "2022-05-25T15:38:17.260Z"
   },
   {
    "duration": 0,
    "start_time": "2022-05-25T15:38:17.261Z"
   },
   {
    "duration": 0,
    "start_time": "2022-05-25T15:38:17.262Z"
   },
   {
    "duration": 0,
    "start_time": "2022-05-25T15:38:17.263Z"
   },
   {
    "duration": 0,
    "start_time": "2022-05-25T15:38:17.264Z"
   },
   {
    "duration": 0,
    "start_time": "2022-05-25T15:38:17.265Z"
   },
   {
    "duration": 0,
    "start_time": "2022-05-25T15:38:17.266Z"
   },
   {
    "duration": 0,
    "start_time": "2022-05-25T15:38:17.267Z"
   },
   {
    "duration": 0,
    "start_time": "2022-05-25T15:38:17.267Z"
   },
   {
    "duration": 0,
    "start_time": "2022-05-25T15:38:17.268Z"
   },
   {
    "duration": 0,
    "start_time": "2022-05-25T15:38:17.270Z"
   },
   {
    "duration": 0,
    "start_time": "2022-05-25T15:38:17.270Z"
   },
   {
    "duration": 0,
    "start_time": "2022-05-25T15:38:17.271Z"
   },
   {
    "duration": 4,
    "start_time": "2022-05-25T15:38:53.027Z"
   },
   {
    "duration": 428,
    "start_time": "2022-05-25T15:38:53.033Z"
   },
   {
    "duration": 10,
    "start_time": "2022-05-25T15:38:53.463Z"
   },
   {
    "duration": 23,
    "start_time": "2022-05-25T15:38:53.474Z"
   },
   {
    "duration": 5,
    "start_time": "2022-05-25T15:38:53.500Z"
   },
   {
    "duration": 17,
    "start_time": "2022-05-25T15:38:53.506Z"
   },
   {
    "duration": 8,
    "start_time": "2022-05-25T15:38:53.525Z"
   },
   {
    "duration": 34,
    "start_time": "2022-05-25T15:38:53.535Z"
   },
   {
    "duration": 0,
    "start_time": "2022-05-25T15:38:53.573Z"
   },
   {
    "duration": 0,
    "start_time": "2022-05-25T15:38:53.575Z"
   },
   {
    "duration": 0,
    "start_time": "2022-05-25T15:38:53.576Z"
   },
   {
    "duration": 0,
    "start_time": "2022-05-25T15:38:53.577Z"
   },
   {
    "duration": 0,
    "start_time": "2022-05-25T15:38:53.578Z"
   },
   {
    "duration": 0,
    "start_time": "2022-05-25T15:38:53.579Z"
   },
   {
    "duration": 0,
    "start_time": "2022-05-25T15:38:53.581Z"
   },
   {
    "duration": 0,
    "start_time": "2022-05-25T15:38:53.582Z"
   },
   {
    "duration": 0,
    "start_time": "2022-05-25T15:38:53.584Z"
   },
   {
    "duration": 0,
    "start_time": "2022-05-25T15:38:53.585Z"
   },
   {
    "duration": 0,
    "start_time": "2022-05-25T15:38:53.586Z"
   },
   {
    "duration": 0,
    "start_time": "2022-05-25T15:38:53.588Z"
   },
   {
    "duration": 0,
    "start_time": "2022-05-25T15:38:53.589Z"
   },
   {
    "duration": 0,
    "start_time": "2022-05-25T15:38:53.590Z"
   },
   {
    "duration": 0,
    "start_time": "2022-05-25T15:38:53.591Z"
   },
   {
    "duration": 0,
    "start_time": "2022-05-25T15:38:53.592Z"
   },
   {
    "duration": 0,
    "start_time": "2022-05-25T15:38:53.593Z"
   },
   {
    "duration": 0,
    "start_time": "2022-05-25T15:38:53.595Z"
   },
   {
    "duration": 0,
    "start_time": "2022-05-25T15:38:53.596Z"
   },
   {
    "duration": 0,
    "start_time": "2022-05-25T15:38:53.597Z"
   },
   {
    "duration": 0,
    "start_time": "2022-05-25T15:38:53.598Z"
   },
   {
    "duration": 0,
    "start_time": "2022-05-25T15:38:53.599Z"
   },
   {
    "duration": 0,
    "start_time": "2022-05-25T15:38:53.601Z"
   },
   {
    "duration": 0,
    "start_time": "2022-05-25T15:38:53.602Z"
   },
   {
    "duration": 0,
    "start_time": "2022-05-25T15:38:53.604Z"
   },
   {
    "duration": 0,
    "start_time": "2022-05-25T15:38:53.605Z"
   },
   {
    "duration": 0,
    "start_time": "2022-05-25T15:38:53.606Z"
   },
   {
    "duration": 0,
    "start_time": "2022-05-25T15:38:53.653Z"
   },
   {
    "duration": 0,
    "start_time": "2022-05-25T15:38:53.654Z"
   },
   {
    "duration": 0,
    "start_time": "2022-05-25T15:38:53.656Z"
   },
   {
    "duration": 0,
    "start_time": "2022-05-25T15:38:53.657Z"
   },
   {
    "duration": 0,
    "start_time": "2022-05-25T15:38:53.659Z"
   },
   {
    "duration": 0,
    "start_time": "2022-05-25T15:38:53.660Z"
   },
   {
    "duration": 0,
    "start_time": "2022-05-25T15:38:53.662Z"
   },
   {
    "duration": 0,
    "start_time": "2022-05-25T15:38:53.664Z"
   },
   {
    "duration": 0,
    "start_time": "2022-05-25T15:38:53.665Z"
   },
   {
    "duration": 0,
    "start_time": "2022-05-25T15:38:53.666Z"
   },
   {
    "duration": 0,
    "start_time": "2022-05-25T15:38:53.668Z"
   },
   {
    "duration": 0,
    "start_time": "2022-05-25T15:38:53.669Z"
   },
   {
    "duration": 0,
    "start_time": "2022-05-25T15:38:53.671Z"
   },
   {
    "duration": 0,
    "start_time": "2022-05-25T15:38:53.672Z"
   },
   {
    "duration": 0,
    "start_time": "2022-05-25T15:38:53.674Z"
   },
   {
    "duration": 0,
    "start_time": "2022-05-25T15:38:53.675Z"
   },
   {
    "duration": 0,
    "start_time": "2022-05-25T15:38:53.676Z"
   },
   {
    "duration": 0,
    "start_time": "2022-05-25T15:38:53.677Z"
   },
   {
    "duration": 0,
    "start_time": "2022-05-25T15:38:53.679Z"
   },
   {
    "duration": 0,
    "start_time": "2022-05-25T15:38:53.680Z"
   },
   {
    "duration": 0,
    "start_time": "2022-05-25T15:38:53.681Z"
   },
   {
    "duration": 0,
    "start_time": "2022-05-25T15:38:53.682Z"
   },
   {
    "duration": 0,
    "start_time": "2022-05-25T15:38:53.683Z"
   },
   {
    "duration": 0,
    "start_time": "2022-05-25T15:38:53.684Z"
   },
   {
    "duration": 0,
    "start_time": "2022-05-25T15:38:53.685Z"
   },
   {
    "duration": 0,
    "start_time": "2022-05-25T15:38:53.687Z"
   },
   {
    "duration": 0,
    "start_time": "2022-05-25T15:38:53.688Z"
   },
   {
    "duration": 0,
    "start_time": "2022-05-25T15:38:53.754Z"
   },
   {
    "duration": 0,
    "start_time": "2022-05-25T15:38:53.755Z"
   },
   {
    "duration": 0,
    "start_time": "2022-05-25T15:38:53.756Z"
   },
   {
    "duration": 0,
    "start_time": "2022-05-25T15:38:53.757Z"
   },
   {
    "duration": 0,
    "start_time": "2022-05-25T15:38:53.759Z"
   },
   {
    "duration": 0,
    "start_time": "2022-05-25T15:38:53.760Z"
   },
   {
    "duration": 0,
    "start_time": "2022-05-25T15:38:53.761Z"
   },
   {
    "duration": 0,
    "start_time": "2022-05-25T15:38:53.762Z"
   },
   {
    "duration": 0,
    "start_time": "2022-05-25T15:38:53.763Z"
   },
   {
    "duration": 0,
    "start_time": "2022-05-25T15:38:53.764Z"
   },
   {
    "duration": 0,
    "start_time": "2022-05-25T15:38:53.766Z"
   },
   {
    "duration": 0,
    "start_time": "2022-05-25T15:38:53.767Z"
   },
   {
    "duration": 0,
    "start_time": "2022-05-25T15:38:53.768Z"
   },
   {
    "duration": 0,
    "start_time": "2022-05-25T15:38:53.769Z"
   },
   {
    "duration": 0,
    "start_time": "2022-05-25T15:38:53.771Z"
   },
   {
    "duration": 0,
    "start_time": "2022-05-25T15:38:53.772Z"
   },
   {
    "duration": 0,
    "start_time": "2022-05-25T15:38:53.773Z"
   },
   {
    "duration": 0,
    "start_time": "2022-05-25T15:38:53.774Z"
   },
   {
    "duration": 0,
    "start_time": "2022-05-25T15:38:53.775Z"
   },
   {
    "duration": 0,
    "start_time": "2022-05-25T15:38:53.776Z"
   },
   {
    "duration": 0,
    "start_time": "2022-05-25T15:38:53.778Z"
   },
   {
    "duration": 1,
    "start_time": "2022-05-25T15:38:53.778Z"
   },
   {
    "duration": 0,
    "start_time": "2022-05-25T15:38:53.780Z"
   },
   {
    "duration": 0,
    "start_time": "2022-05-25T15:38:53.781Z"
   },
   {
    "duration": 0,
    "start_time": "2022-05-25T15:38:53.782Z"
   },
   {
    "duration": 0,
    "start_time": "2022-05-25T15:38:53.783Z"
   },
   {
    "duration": 3,
    "start_time": "2022-05-25T15:39:20.611Z"
   },
   {
    "duration": 459,
    "start_time": "2022-05-25T15:39:20.618Z"
   },
   {
    "duration": 11,
    "start_time": "2022-05-25T15:39:21.079Z"
   },
   {
    "duration": 14,
    "start_time": "2022-05-25T15:39:21.092Z"
   },
   {
    "duration": 7,
    "start_time": "2022-05-25T15:39:21.108Z"
   },
   {
    "duration": 8,
    "start_time": "2022-05-25T15:39:21.116Z"
   },
   {
    "duration": 8,
    "start_time": "2022-05-25T15:39:21.125Z"
   },
   {
    "duration": 18,
    "start_time": "2022-05-25T15:39:21.134Z"
   },
   {
    "duration": 3,
    "start_time": "2022-05-25T15:39:21.154Z"
   },
   {
    "duration": 15,
    "start_time": "2022-05-25T15:39:21.159Z"
   },
   {
    "duration": 6,
    "start_time": "2022-05-25T15:39:21.178Z"
   },
   {
    "duration": 6,
    "start_time": "2022-05-25T15:39:21.186Z"
   },
   {
    "duration": 12,
    "start_time": "2022-05-25T15:39:21.193Z"
   },
   {
    "duration": 7,
    "start_time": "2022-05-25T15:39:21.207Z"
   },
   {
    "duration": 39,
    "start_time": "2022-05-25T15:39:21.215Z"
   },
   {
    "duration": 9,
    "start_time": "2022-05-25T15:39:21.256Z"
   },
   {
    "duration": 8,
    "start_time": "2022-05-25T15:39:21.267Z"
   },
   {
    "duration": 11,
    "start_time": "2022-05-25T15:39:21.277Z"
   },
   {
    "duration": 16,
    "start_time": "2022-05-25T15:39:21.289Z"
   },
   {
    "duration": 17,
    "start_time": "2022-05-25T15:39:21.306Z"
   },
   {
    "duration": 6,
    "start_time": "2022-05-25T15:39:21.325Z"
   },
   {
    "duration": 9,
    "start_time": "2022-05-25T15:39:21.351Z"
   },
   {
    "duration": 13,
    "start_time": "2022-05-25T15:39:21.362Z"
   },
   {
    "duration": 5,
    "start_time": "2022-05-25T15:39:21.377Z"
   },
   {
    "duration": 13,
    "start_time": "2022-05-25T15:39:21.383Z"
   },
   {
    "duration": 19,
    "start_time": "2022-05-25T15:39:21.398Z"
   },
   {
    "duration": 39,
    "start_time": "2022-05-25T15:39:21.419Z"
   },
   {
    "duration": 22,
    "start_time": "2022-05-25T15:39:21.460Z"
   },
   {
    "duration": 15,
    "start_time": "2022-05-25T15:39:21.487Z"
   },
   {
    "duration": 49,
    "start_time": "2022-05-25T15:39:21.503Z"
   },
   {
    "duration": 7,
    "start_time": "2022-05-25T15:39:21.554Z"
   },
   {
    "duration": 24,
    "start_time": "2022-05-25T15:39:21.563Z"
   },
   {
    "duration": 9,
    "start_time": "2022-05-25T15:39:21.589Z"
   },
   {
    "duration": 24,
    "start_time": "2022-05-25T15:39:21.599Z"
   },
   {
    "duration": 43,
    "start_time": "2022-05-25T15:39:21.625Z"
   },
   {
    "duration": 15,
    "start_time": "2022-05-25T15:39:21.670Z"
   },
   {
    "duration": 10,
    "start_time": "2022-05-25T15:39:21.687Z"
   },
   {
    "duration": 8,
    "start_time": "2022-05-25T15:39:21.698Z"
   },
   {
    "duration": 7,
    "start_time": "2022-05-25T15:39:21.708Z"
   },
   {
    "duration": 56,
    "start_time": "2022-05-25T15:39:21.716Z"
   },
   {
    "duration": 8,
    "start_time": "2022-05-25T15:39:21.774Z"
   },
   {
    "duration": 71,
    "start_time": "2022-05-25T15:39:21.783Z"
   },
   {
    "duration": 7,
    "start_time": "2022-05-25T15:39:21.856Z"
   },
   {
    "duration": 34,
    "start_time": "2022-05-25T15:39:21.865Z"
   },
   {
    "duration": 22,
    "start_time": "2022-05-25T15:39:21.901Z"
   },
   {
    "duration": 48,
    "start_time": "2022-05-25T15:39:21.925Z"
   },
   {
    "duration": 11,
    "start_time": "2022-05-25T15:39:21.974Z"
   },
   {
    "duration": 14,
    "start_time": "2022-05-25T15:39:21.986Z"
   },
   {
    "duration": 6,
    "start_time": "2022-05-25T15:39:22.002Z"
   },
   {
    "duration": 7,
    "start_time": "2022-05-25T15:39:22.009Z"
   },
   {
    "duration": 39,
    "start_time": "2022-05-25T15:39:22.017Z"
   },
   {
    "duration": 20,
    "start_time": "2022-05-25T15:39:22.058Z"
   },
   {
    "duration": 23,
    "start_time": "2022-05-25T15:39:22.080Z"
   },
   {
    "duration": 10,
    "start_time": "2022-05-25T15:39:22.105Z"
   },
   {
    "duration": 44,
    "start_time": "2022-05-25T15:39:22.117Z"
   },
   {
    "duration": 6,
    "start_time": "2022-05-25T15:39:22.163Z"
   },
   {
    "duration": 10,
    "start_time": "2022-05-25T15:39:22.171Z"
   },
   {
    "duration": 19,
    "start_time": "2022-05-25T15:39:22.183Z"
   },
   {
    "duration": 6,
    "start_time": "2022-05-25T15:39:22.203Z"
   },
   {
    "duration": 128,
    "start_time": "2022-05-25T15:39:22.210Z"
   },
   {
    "duration": 25,
    "start_time": "2022-05-25T15:39:22.340Z"
   },
   {
    "duration": 6,
    "start_time": "2022-05-25T15:39:22.367Z"
   },
   {
    "duration": 29,
    "start_time": "2022-05-25T15:39:22.375Z"
   },
   {
    "duration": 9,
    "start_time": "2022-05-25T15:39:22.406Z"
   },
   {
    "duration": 43,
    "start_time": "2022-05-25T15:39:22.417Z"
   },
   {
    "duration": 11,
    "start_time": "2022-05-25T15:39:22.462Z"
   },
   {
    "duration": 423,
    "start_time": "2022-05-25T15:39:22.475Z"
   },
   {
    "duration": 9,
    "start_time": "2022-05-25T15:39:22.900Z"
   },
   {
    "duration": 389,
    "start_time": "2022-05-25T15:39:22.911Z"
   },
   {
    "duration": 8,
    "start_time": "2022-05-25T15:39:23.302Z"
   },
   {
    "duration": 7,
    "start_time": "2022-05-25T15:39:23.312Z"
   },
   {
    "duration": 374,
    "start_time": "2022-05-25T15:39:23.321Z"
   },
   {
    "duration": 8,
    "start_time": "2022-05-25T15:39:23.696Z"
   },
   {
    "duration": 13,
    "start_time": "2022-05-25T15:39:23.705Z"
   },
   {
    "duration": 11,
    "start_time": "2022-05-25T15:39:23.720Z"
   },
   {
    "duration": 359,
    "start_time": "2022-05-25T15:39:23.753Z"
   },
   {
    "duration": 583,
    "start_time": "2022-05-25T15:39:24.113Z"
   },
   {
    "duration": 58,
    "start_time": "2022-05-25T15:39:24.697Z"
   },
   {
    "duration": 614,
    "start_time": "2022-05-25T15:39:24.757Z"
   },
   {
    "duration": 195,
    "start_time": "2022-05-25T15:39:25.373Z"
   },
   {
    "duration": 189,
    "start_time": "2022-05-25T15:39:25.569Z"
   },
   {
    "duration": 723,
    "start_time": "2022-05-25T15:39:25.759Z"
   },
   {
    "duration": 5,
    "start_time": "2022-05-25T15:39:26.487Z"
   },
   {
    "duration": 11,
    "start_time": "2022-05-25T15:39:26.493Z"
   },
   {
    "duration": 10,
    "start_time": "2022-05-25T15:39:26.505Z"
   },
   {
    "duration": 8,
    "start_time": "2022-05-25T15:39:26.517Z"
   },
   {
    "duration": 4,
    "start_time": "2022-05-25T15:55:47.616Z"
   },
   {
    "duration": 11,
    "start_time": "2022-05-25T15:55:52.725Z"
   },
   {
    "duration": 9,
    "start_time": "2022-05-25T15:56:16.587Z"
   },
   {
    "duration": 5,
    "start_time": "2022-05-25T15:58:58.003Z"
   },
   {
    "duration": 646,
    "start_time": "2022-05-25T15:58:58.011Z"
   },
   {
    "duration": 15,
    "start_time": "2022-05-25T15:58:58.663Z"
   },
   {
    "duration": 22,
    "start_time": "2022-05-25T15:58:58.681Z"
   },
   {
    "duration": 14,
    "start_time": "2022-05-25T15:58:58.707Z"
   },
   {
    "duration": 28,
    "start_time": "2022-05-25T15:58:58.724Z"
   },
   {
    "duration": 15,
    "start_time": "2022-05-25T15:58:58.754Z"
   },
   {
    "duration": 21,
    "start_time": "2022-05-25T15:58:58.771Z"
   },
   {
    "duration": 17,
    "start_time": "2022-05-25T15:58:58.794Z"
   },
   {
    "duration": 7,
    "start_time": "2022-05-25T15:58:58.813Z"
   },
   {
    "duration": 16,
    "start_time": "2022-05-25T15:58:58.824Z"
   },
   {
    "duration": 14,
    "start_time": "2022-05-25T15:58:58.843Z"
   },
   {
    "duration": 36,
    "start_time": "2022-05-25T15:58:58.860Z"
   },
   {
    "duration": 22,
    "start_time": "2022-05-25T15:58:58.899Z"
   },
   {
    "duration": 32,
    "start_time": "2022-05-25T15:58:58.923Z"
   },
   {
    "duration": 11,
    "start_time": "2022-05-25T15:58:58.958Z"
   },
   {
    "duration": 22,
    "start_time": "2022-05-25T15:58:58.971Z"
   },
   {
    "duration": 18,
    "start_time": "2022-05-25T15:58:58.995Z"
   },
   {
    "duration": 18,
    "start_time": "2022-05-25T15:58:59.018Z"
   },
   {
    "duration": 32,
    "start_time": "2022-05-25T15:58:59.037Z"
   },
   {
    "duration": 17,
    "start_time": "2022-05-25T15:58:59.072Z"
   },
   {
    "duration": 23,
    "start_time": "2022-05-25T15:58:59.091Z"
   },
   {
    "duration": 11,
    "start_time": "2022-05-25T15:58:59.117Z"
   },
   {
    "duration": 36,
    "start_time": "2022-05-25T15:58:59.131Z"
   },
   {
    "duration": 17,
    "start_time": "2022-05-25T15:58:59.169Z"
   },
   {
    "duration": 18,
    "start_time": "2022-05-25T15:58:59.188Z"
   },
   {
    "duration": 38,
    "start_time": "2022-05-25T15:58:59.214Z"
   },
   {
    "duration": 9,
    "start_time": "2022-05-25T15:58:59.255Z"
   },
   {
    "duration": 26,
    "start_time": "2022-05-25T15:58:59.271Z"
   },
   {
    "duration": 53,
    "start_time": "2022-05-25T15:58:59.299Z"
   },
   {
    "duration": 28,
    "start_time": "2022-05-25T15:58:59.355Z"
   },
   {
    "duration": 10,
    "start_time": "2022-05-25T15:58:59.385Z"
   },
   {
    "duration": 65,
    "start_time": "2022-05-25T15:58:59.397Z"
   },
   {
    "duration": 11,
    "start_time": "2022-05-25T15:58:59.464Z"
   },
   {
    "duration": 32,
    "start_time": "2022-05-25T15:58:59.477Z"
   },
   {
    "duration": 18,
    "start_time": "2022-05-25T15:58:59.511Z"
   },
   {
    "duration": 22,
    "start_time": "2022-05-25T15:58:59.553Z"
   },
   {
    "duration": 18,
    "start_time": "2022-05-25T15:58:59.577Z"
   },
   {
    "duration": 8,
    "start_time": "2022-05-25T15:58:59.597Z"
   },
   {
    "duration": 23,
    "start_time": "2022-05-25T15:58:59.608Z"
   },
   {
    "duration": 53,
    "start_time": "2022-05-25T15:58:59.633Z"
   },
   {
    "duration": 11,
    "start_time": "2022-05-25T15:58:59.688Z"
   },
   {
    "duration": 115,
    "start_time": "2022-05-25T15:58:59.701Z"
   },
   {
    "duration": 12,
    "start_time": "2022-05-25T15:58:59.820Z"
   },
   {
    "duration": 71,
    "start_time": "2022-05-25T15:58:59.833Z"
   },
   {
    "duration": 40,
    "start_time": "2022-05-25T15:58:59.906Z"
   },
   {
    "duration": 32,
    "start_time": "2022-05-25T15:58:59.948Z"
   },
   {
    "duration": 17,
    "start_time": "2022-05-25T15:58:59.983Z"
   },
   {
    "duration": 35,
    "start_time": "2022-05-25T15:59:00.001Z"
   },
   {
    "duration": 20,
    "start_time": "2022-05-25T15:59:00.039Z"
   },
   {
    "duration": 23,
    "start_time": "2022-05-25T15:59:00.062Z"
   },
   {
    "duration": 29,
    "start_time": "2022-05-25T15:59:00.088Z"
   },
   {
    "duration": 50,
    "start_time": "2022-05-25T15:59:00.127Z"
   },
   {
    "duration": 48,
    "start_time": "2022-05-25T15:59:00.179Z"
   },
   {
    "duration": 13,
    "start_time": "2022-05-25T15:59:00.230Z"
   },
   {
    "duration": 29,
    "start_time": "2022-05-25T15:59:00.245Z"
   },
   {
    "duration": 43,
    "start_time": "2022-05-25T15:59:00.277Z"
   },
   {
    "duration": 32,
    "start_time": "2022-05-25T15:59:00.323Z"
   },
   {
    "duration": 59,
    "start_time": "2022-05-25T15:59:00.357Z"
   },
   {
    "duration": 19,
    "start_time": "2022-05-25T15:59:00.419Z"
   },
   {
    "duration": 155,
    "start_time": "2022-05-25T15:59:00.440Z"
   },
   {
    "duration": 19,
    "start_time": "2022-05-25T15:59:00.597Z"
   },
   {
    "duration": 11,
    "start_time": "2022-05-25T15:59:00.619Z"
   },
   {
    "duration": 43,
    "start_time": "2022-05-25T15:59:00.632Z"
   },
   {
    "duration": 20,
    "start_time": "2022-05-25T15:59:00.677Z"
   },
   {
    "duration": 10,
    "start_time": "2022-05-25T15:59:00.700Z"
   },
   {
    "duration": 39,
    "start_time": "2022-05-25T15:59:00.712Z"
   },
   {
    "duration": 581,
    "start_time": "2022-05-25T15:59:00.753Z"
   },
   {
    "duration": 22,
    "start_time": "2022-05-25T15:59:01.336Z"
   },
   {
    "duration": 506,
    "start_time": "2022-05-25T15:59:01.360Z"
   },
   {
    "duration": 13,
    "start_time": "2022-05-25T15:59:01.876Z"
   },
   {
    "duration": 69,
    "start_time": "2022-05-25T15:59:01.891Z"
   },
   {
    "duration": 792,
    "start_time": "2022-05-25T15:59:01.962Z"
   },
   {
    "duration": 9,
    "start_time": "2022-05-25T15:59:02.756Z"
   },
   {
    "duration": 32,
    "start_time": "2022-05-25T15:59:02.768Z"
   },
   {
    "duration": 51,
    "start_time": "2022-05-25T15:59:02.803Z"
   },
   {
    "duration": 925,
    "start_time": "2022-05-25T15:59:02.856Z"
   },
   {
    "duration": 807,
    "start_time": "2022-05-25T15:59:03.784Z"
   },
   {
    "duration": 65,
    "start_time": "2022-05-25T15:59:04.593Z"
   },
   {
    "duration": 670,
    "start_time": "2022-05-25T15:59:04.660Z"
   },
   {
    "duration": 131,
    "start_time": "2022-05-25T15:59:05.353Z"
   },
   {
    "duration": 165,
    "start_time": "2022-05-25T15:59:05.487Z"
   },
   {
    "duration": 767,
    "start_time": "2022-05-25T15:59:05.660Z"
   },
   {
    "duration": 10,
    "start_time": "2022-05-25T15:59:06.429Z"
   },
   {
    "duration": 36,
    "start_time": "2022-05-25T15:59:06.454Z"
   },
   {
    "duration": 21,
    "start_time": "2022-05-25T15:59:06.492Z"
   },
   {
    "duration": 16,
    "start_time": "2022-05-25T15:59:06.516Z"
   },
   {
    "duration": 651,
    "start_time": "2022-05-25T15:59:41.822Z"
   },
   {
    "duration": 458,
    "start_time": "2022-05-25T16:00:16.623Z"
   },
   {
    "duration": 10,
    "start_time": "2022-05-25T16:00:23.540Z"
   },
   {
    "duration": 3,
    "start_time": "2022-05-25T16:00:26.526Z"
   },
   {
    "duration": 517,
    "start_time": "2022-05-25T16:00:26.531Z"
   },
   {
    "duration": 12,
    "start_time": "2022-05-25T16:00:27.051Z"
   },
   {
    "duration": 27,
    "start_time": "2022-05-25T16:00:27.065Z"
   },
   {
    "duration": 9,
    "start_time": "2022-05-25T16:00:27.095Z"
   },
   {
    "duration": 10,
    "start_time": "2022-05-25T16:00:27.107Z"
   },
   {
    "duration": 37,
    "start_time": "2022-05-25T16:00:27.119Z"
   },
   {
    "duration": 6,
    "start_time": "2022-05-25T16:00:27.158Z"
   },
   {
    "duration": 5,
    "start_time": "2022-05-25T16:00:27.167Z"
   },
   {
    "duration": 6,
    "start_time": "2022-05-25T16:00:27.174Z"
   },
   {
    "duration": 10,
    "start_time": "2022-05-25T16:00:27.184Z"
   },
   {
    "duration": 6,
    "start_time": "2022-05-25T16:00:27.197Z"
   },
   {
    "duration": 49,
    "start_time": "2022-05-25T16:00:27.205Z"
   },
   {
    "duration": 6,
    "start_time": "2022-05-25T16:00:27.257Z"
   },
   {
    "duration": 25,
    "start_time": "2022-05-25T16:00:27.265Z"
   },
   {
    "duration": 8,
    "start_time": "2022-05-25T16:00:27.292Z"
   },
   {
    "duration": 13,
    "start_time": "2022-05-25T16:00:27.301Z"
   },
   {
    "duration": 38,
    "start_time": "2022-05-25T16:00:27.316Z"
   },
   {
    "duration": 14,
    "start_time": "2022-05-25T16:00:27.356Z"
   },
   {
    "duration": 17,
    "start_time": "2022-05-25T16:00:27.372Z"
   },
   {
    "duration": 8,
    "start_time": "2022-05-25T16:00:27.392Z"
   },
   {
    "duration": 15,
    "start_time": "2022-05-25T16:00:27.402Z"
   },
   {
    "duration": 5,
    "start_time": "2022-05-25T16:00:27.452Z"
   },
   {
    "duration": 18,
    "start_time": "2022-05-25T16:00:27.459Z"
   },
   {
    "duration": 6,
    "start_time": "2022-05-25T16:00:27.479Z"
   },
   {
    "duration": 21,
    "start_time": "2022-05-25T16:00:27.488Z"
   },
   {
    "duration": 53,
    "start_time": "2022-05-25T16:00:27.511Z"
   },
   {
    "duration": 11,
    "start_time": "2022-05-25T16:00:27.566Z"
   },
   {
    "duration": 23,
    "start_time": "2022-05-25T16:00:27.583Z"
   },
   {
    "duration": 15,
    "start_time": "2022-05-25T16:00:27.608Z"
   },
   {
    "duration": 23,
    "start_time": "2022-05-25T16:00:27.653Z"
   },
   {
    "duration": 9,
    "start_time": "2022-05-25T16:00:27.678Z"
   },
   {
    "duration": 26,
    "start_time": "2022-05-25T16:00:27.689Z"
   },
   {
    "duration": 44,
    "start_time": "2022-05-25T16:00:27.717Z"
   },
   {
    "duration": 26,
    "start_time": "2022-05-25T16:00:27.763Z"
   },
   {
    "duration": 17,
    "start_time": "2022-05-25T16:00:27.791Z"
   },
   {
    "duration": 49,
    "start_time": "2022-05-25T16:00:27.810Z"
   },
   {
    "duration": 12,
    "start_time": "2022-05-25T16:00:27.861Z"
   },
   {
    "duration": 8,
    "start_time": "2022-05-25T16:00:27.874Z"
   },
   {
    "duration": 9,
    "start_time": "2022-05-25T16:00:27.884Z"
   },
   {
    "duration": 46,
    "start_time": "2022-05-25T16:00:27.895Z"
   },
   {
    "duration": 10,
    "start_time": "2022-05-25T16:00:27.952Z"
   },
   {
    "duration": 59,
    "start_time": "2022-05-25T16:00:27.964Z"
   },
   {
    "duration": 29,
    "start_time": "2022-05-25T16:00:28.025Z"
   },
   {
    "duration": 33,
    "start_time": "2022-05-25T16:00:28.056Z"
   },
   {
    "duration": 22,
    "start_time": "2022-05-25T16:00:28.091Z"
   },
   {
    "duration": 52,
    "start_time": "2022-05-25T16:00:28.116Z"
   },
   {
    "duration": 18,
    "start_time": "2022-05-25T16:00:28.170Z"
   },
   {
    "duration": 12,
    "start_time": "2022-05-25T16:00:28.191Z"
   },
   {
    "duration": 6,
    "start_time": "2022-05-25T16:00:28.205Z"
   },
   {
    "duration": 40,
    "start_time": "2022-05-25T16:00:28.212Z"
   },
   {
    "duration": 13,
    "start_time": "2022-05-25T16:00:28.254Z"
   },
   {
    "duration": 22,
    "start_time": "2022-05-25T16:00:28.269Z"
   },
   {
    "duration": 24,
    "start_time": "2022-05-25T16:00:28.293Z"
   },
   {
    "duration": 11,
    "start_time": "2022-05-25T16:00:28.351Z"
   },
   {
    "duration": 15,
    "start_time": "2022-05-25T16:00:28.364Z"
   },
   {
    "duration": 17,
    "start_time": "2022-05-25T16:00:28.381Z"
   },
   {
    "duration": 10,
    "start_time": "2022-05-25T16:00:28.400Z"
   },
   {
    "duration": 16,
    "start_time": "2022-05-25T16:00:28.451Z"
   },
   {
    "duration": 5,
    "start_time": "2022-05-25T16:00:28.469Z"
   },
   {
    "duration": 129,
    "start_time": "2022-05-25T16:00:28.476Z"
   },
   {
    "duration": 18,
    "start_time": "2022-05-25T16:00:28.607Z"
   },
   {
    "duration": 7,
    "start_time": "2022-05-25T16:00:28.626Z"
   },
   {
    "duration": 43,
    "start_time": "2022-05-25T16:00:28.635Z"
   },
   {
    "duration": 12,
    "start_time": "2022-05-25T16:00:28.680Z"
   },
   {
    "duration": 23,
    "start_time": "2022-05-25T16:00:28.693Z"
   },
   {
    "duration": 37,
    "start_time": "2022-05-25T16:00:28.717Z"
   },
   {
    "duration": 399,
    "start_time": "2022-05-25T16:00:28.756Z"
   },
   {
    "duration": 11,
    "start_time": "2022-05-25T16:00:29.157Z"
   },
   {
    "duration": 443,
    "start_time": "2022-05-25T16:00:29.170Z"
   },
   {
    "duration": 8,
    "start_time": "2022-05-25T16:00:29.615Z"
   },
   {
    "duration": 30,
    "start_time": "2022-05-25T16:00:29.625Z"
   },
   {
    "duration": 438,
    "start_time": "2022-05-25T16:00:29.657Z"
   },
   {
    "duration": 10,
    "start_time": "2022-05-25T16:00:30.098Z"
   },
   {
    "duration": 24,
    "start_time": "2022-05-25T16:00:30.110Z"
   },
   {
    "duration": 26,
    "start_time": "2022-05-25T16:00:30.135Z"
   },
   {
    "duration": 412,
    "start_time": "2022-05-25T16:00:30.164Z"
   },
   {
    "duration": 590,
    "start_time": "2022-05-25T16:00:30.578Z"
   },
   {
    "duration": 12,
    "start_time": "2022-05-25T16:00:31.171Z"
   },
   {
    "duration": 674,
    "start_time": "2022-05-25T16:00:31.186Z"
   },
   {
    "duration": 224,
    "start_time": "2022-05-25T16:00:31.862Z"
   },
   {
    "duration": 301,
    "start_time": "2022-05-25T16:00:32.089Z"
   },
   {
    "duration": 912,
    "start_time": "2022-05-25T16:00:32.398Z"
   },
   {
    "duration": 6,
    "start_time": "2022-05-25T16:00:33.312Z"
   },
   {
    "duration": 10,
    "start_time": "2022-05-25T16:00:33.320Z"
   },
   {
    "duration": 25,
    "start_time": "2022-05-25T16:00:33.332Z"
   },
   {
    "duration": 8,
    "start_time": "2022-05-25T16:00:33.359Z"
   },
   {
    "duration": 4,
    "start_time": "2022-05-25T16:02:42.926Z"
   },
   {
    "duration": 483,
    "start_time": "2022-05-25T16:02:42.933Z"
   },
   {
    "duration": 12,
    "start_time": "2022-05-25T16:02:43.418Z"
   },
   {
    "duration": 22,
    "start_time": "2022-05-25T16:02:43.432Z"
   },
   {
    "duration": 15,
    "start_time": "2022-05-25T16:02:43.457Z"
   },
   {
    "duration": 10,
    "start_time": "2022-05-25T16:02:43.473Z"
   },
   {
    "duration": 13,
    "start_time": "2022-05-25T16:02:43.485Z"
   },
   {
    "duration": 9,
    "start_time": "2022-05-25T16:02:43.500Z"
   },
   {
    "duration": 9,
    "start_time": "2022-05-25T16:02:43.511Z"
   },
   {
    "duration": 13,
    "start_time": "2022-05-25T16:02:43.522Z"
   },
   {
    "duration": 16,
    "start_time": "2022-05-25T16:02:43.538Z"
   },
   {
    "duration": 7,
    "start_time": "2022-05-25T16:02:43.556Z"
   },
   {
    "duration": 14,
    "start_time": "2022-05-25T16:02:43.566Z"
   },
   {
    "duration": 8,
    "start_time": "2022-05-25T16:02:43.582Z"
   },
   {
    "duration": 29,
    "start_time": "2022-05-25T16:02:43.592Z"
   },
   {
    "duration": 30,
    "start_time": "2022-05-25T16:02:43.623Z"
   },
   {
    "duration": 7,
    "start_time": "2022-05-25T16:02:43.655Z"
   },
   {
    "duration": 11,
    "start_time": "2022-05-25T16:02:43.664Z"
   },
   {
    "duration": 19,
    "start_time": "2022-05-25T16:02:43.677Z"
   },
   {
    "duration": 15,
    "start_time": "2022-05-25T16:02:43.698Z"
   },
   {
    "duration": 39,
    "start_time": "2022-05-25T16:02:43.715Z"
   },
   {
    "duration": 17,
    "start_time": "2022-05-25T16:02:43.757Z"
   },
   {
    "duration": 9,
    "start_time": "2022-05-25T16:02:43.777Z"
   },
   {
    "duration": 12,
    "start_time": "2022-05-25T16:02:43.788Z"
   },
   {
    "duration": 7,
    "start_time": "2022-05-25T16:02:43.802Z"
   },
   {
    "duration": 44,
    "start_time": "2022-05-25T16:02:43.812Z"
   },
   {
    "duration": 25,
    "start_time": "2022-05-25T16:02:43.858Z"
   },
   {
    "duration": 10,
    "start_time": "2022-05-25T16:02:43.885Z"
   },
   {
    "duration": 59,
    "start_time": "2022-05-25T16:02:43.902Z"
   },
   {
    "duration": 15,
    "start_time": "2022-05-25T16:02:43.965Z"
   },
   {
    "duration": 21,
    "start_time": "2022-05-25T16:02:43.985Z"
   },
   {
    "duration": 46,
    "start_time": "2022-05-25T16:02:44.010Z"
   },
   {
    "duration": 49,
    "start_time": "2022-05-25T16:02:44.059Z"
   },
   {
    "duration": 13,
    "start_time": "2022-05-25T16:02:44.111Z"
   },
   {
    "duration": 43,
    "start_time": "2022-05-25T16:02:44.127Z"
   },
   {
    "duration": 23,
    "start_time": "2022-05-25T16:02:44.172Z"
   },
   {
    "duration": 27,
    "start_time": "2022-05-25T16:02:44.197Z"
   },
   {
    "duration": 34,
    "start_time": "2022-05-25T16:02:44.226Z"
   },
   {
    "duration": 12,
    "start_time": "2022-05-25T16:02:44.263Z"
   },
   {
    "duration": 10,
    "start_time": "2022-05-25T16:02:44.278Z"
   },
   {
    "duration": 31,
    "start_time": "2022-05-25T16:02:44.290Z"
   },
   {
    "duration": 30,
    "start_time": "2022-05-25T16:02:44.324Z"
   },
   {
    "duration": 59,
    "start_time": "2022-05-25T16:02:44.356Z"
   },
   {
    "duration": 9,
    "start_time": "2022-05-25T16:02:44.417Z"
   },
   {
    "duration": 30,
    "start_time": "2022-05-25T16:02:44.453Z"
   },
   {
    "duration": 23,
    "start_time": "2022-05-25T16:02:44.485Z"
   },
   {
    "duration": 49,
    "start_time": "2022-05-25T16:02:44.510Z"
   },
   {
    "duration": 18,
    "start_time": "2022-05-25T16:02:44.561Z"
   },
   {
    "duration": 14,
    "start_time": "2022-05-25T16:02:44.581Z"
   },
   {
    "duration": 11,
    "start_time": "2022-05-25T16:02:44.596Z"
   },
   {
    "duration": 18,
    "start_time": "2022-05-25T16:02:44.609Z"
   },
   {
    "duration": 18,
    "start_time": "2022-05-25T16:02:44.651Z"
   },
   {
    "duration": 28,
    "start_time": "2022-05-25T16:02:44.671Z"
   },
   {
    "duration": 61,
    "start_time": "2022-05-25T16:02:44.701Z"
   },
   {
    "duration": 11,
    "start_time": "2022-05-25T16:02:44.764Z"
   },
   {
    "duration": 18,
    "start_time": "2022-05-25T16:02:44.777Z"
   },
   {
    "duration": 21,
    "start_time": "2022-05-25T16:02:44.797Z"
   },
   {
    "duration": 40,
    "start_time": "2022-05-25T16:02:44.820Z"
   },
   {
    "duration": 33,
    "start_time": "2022-05-25T16:02:44.862Z"
   },
   {
    "duration": 12,
    "start_time": "2022-05-25T16:02:44.898Z"
   },
   {
    "duration": 136,
    "start_time": "2022-05-25T16:02:44.913Z"
   },
   {
    "duration": 19,
    "start_time": "2022-05-25T16:02:45.052Z"
   },
   {
    "duration": 17,
    "start_time": "2022-05-25T16:02:45.073Z"
   },
   {
    "duration": 36,
    "start_time": "2022-05-25T16:02:45.093Z"
   },
   {
    "duration": 26,
    "start_time": "2022-05-25T16:02:45.131Z"
   },
   {
    "duration": 15,
    "start_time": "2022-05-25T16:02:45.160Z"
   },
   {
    "duration": 21,
    "start_time": "2022-05-25T16:02:45.177Z"
   },
   {
    "duration": 517,
    "start_time": "2022-05-25T16:02:45.201Z"
   },
   {
    "duration": 12,
    "start_time": "2022-05-25T16:02:45.720Z"
   },
   {
    "duration": 663,
    "start_time": "2022-05-25T16:02:45.734Z"
   },
   {
    "duration": 9,
    "start_time": "2022-05-25T16:02:46.451Z"
   },
   {
    "duration": 25,
    "start_time": "2022-05-25T16:02:46.461Z"
   },
   {
    "duration": 708,
    "start_time": "2022-05-25T16:02:46.488Z"
   },
   {
    "duration": 60,
    "start_time": "2022-05-25T16:02:47.197Z"
   },
   {
    "duration": 20,
    "start_time": "2022-05-25T16:02:47.260Z"
   },
   {
    "duration": 18,
    "start_time": "2022-05-25T16:02:47.282Z"
   },
   {
    "duration": 782,
    "start_time": "2022-05-25T16:02:47.302Z"
   },
   {
    "duration": 697,
    "start_time": "2022-05-25T16:02:48.086Z"
   },
   {
    "duration": 12,
    "start_time": "2022-05-25T16:02:48.785Z"
   },
   {
    "duration": 423,
    "start_time": "2022-05-25T16:02:48.799Z"
   },
   {
    "duration": 105,
    "start_time": "2022-05-25T16:02:49.223Z"
   },
   {
    "duration": 125,
    "start_time": "2022-05-25T16:02:49.330Z"
   },
   {
    "duration": 642,
    "start_time": "2022-05-25T16:02:49.463Z"
   },
   {
    "duration": 7,
    "start_time": "2022-05-25T16:02:50.107Z"
   },
   {
    "duration": 37,
    "start_time": "2022-05-25T16:02:50.117Z"
   },
   {
    "duration": 20,
    "start_time": "2022-05-25T16:02:50.157Z"
   },
   {
    "duration": 20,
    "start_time": "2022-05-25T16:02:50.180Z"
   },
   {
    "duration": 10,
    "start_time": "2022-05-25T16:02:56.868Z"
   },
   {
    "duration": 7,
    "start_time": "2022-05-25T16:03:02.906Z"
   },
   {
    "duration": 551,
    "start_time": "2022-05-25T16:03:02.916Z"
   },
   {
    "duration": 12,
    "start_time": "2022-05-25T16:03:03.470Z"
   },
   {
    "duration": 30,
    "start_time": "2022-05-25T16:03:03.485Z"
   },
   {
    "duration": 10,
    "start_time": "2022-05-25T16:03:03.518Z"
   },
   {
    "duration": 14,
    "start_time": "2022-05-25T16:03:03.531Z"
   },
   {
    "duration": 8,
    "start_time": "2022-05-25T16:03:03.548Z"
   },
   {
    "duration": 20,
    "start_time": "2022-05-25T16:03:03.558Z"
   },
   {
    "duration": 7,
    "start_time": "2022-05-25T16:03:03.580Z"
   },
   {
    "duration": 7,
    "start_time": "2022-05-25T16:03:03.590Z"
   },
   {
    "duration": 5,
    "start_time": "2022-05-25T16:03:03.601Z"
   },
   {
    "duration": 9,
    "start_time": "2022-05-25T16:03:03.608Z"
   },
   {
    "duration": 41,
    "start_time": "2022-05-25T16:03:03.619Z"
   },
   {
    "duration": 8,
    "start_time": "2022-05-25T16:03:03.661Z"
   },
   {
    "duration": 25,
    "start_time": "2022-05-25T16:03:03.670Z"
   },
   {
    "duration": 6,
    "start_time": "2022-05-25T16:03:03.698Z"
   },
   {
    "duration": 12,
    "start_time": "2022-05-25T16:03:03.706Z"
   },
   {
    "duration": 11,
    "start_time": "2022-05-25T16:03:03.753Z"
   },
   {
    "duration": 14,
    "start_time": "2022-05-25T16:03:03.766Z"
   },
   {
    "duration": 18,
    "start_time": "2022-05-25T16:03:03.782Z"
   },
   {
    "duration": 11,
    "start_time": "2022-05-25T16:03:03.802Z"
   },
   {
    "duration": 44,
    "start_time": "2022-05-25T16:03:03.815Z"
   },
   {
    "duration": 4,
    "start_time": "2022-05-25T16:03:03.861Z"
   },
   {
    "duration": 15,
    "start_time": "2022-05-25T16:03:03.868Z"
   },
   {
    "duration": 14,
    "start_time": "2022-05-25T16:03:03.886Z"
   },
   {
    "duration": 19,
    "start_time": "2022-05-25T16:03:03.902Z"
   },
   {
    "duration": 38,
    "start_time": "2022-05-25T16:03:03.952Z"
   },
   {
    "duration": 20,
    "start_time": "2022-05-25T16:03:03.992Z"
   },
   {
    "duration": 45,
    "start_time": "2022-05-25T16:03:04.020Z"
   },
   {
    "duration": 20,
    "start_time": "2022-05-25T16:03:04.068Z"
   },
   {
    "duration": 30,
    "start_time": "2022-05-25T16:03:04.090Z"
   },
   {
    "duration": 33,
    "start_time": "2022-05-25T16:03:04.123Z"
   },
   {
    "duration": 36,
    "start_time": "2022-05-25T16:03:04.159Z"
   },
   {
    "duration": 13,
    "start_time": "2022-05-25T16:03:04.197Z"
   },
   {
    "duration": 47,
    "start_time": "2022-05-25T16:03:04.212Z"
   },
   {
    "duration": 17,
    "start_time": "2022-05-25T16:03:04.261Z"
   },
   {
    "duration": 16,
    "start_time": "2022-05-25T16:03:04.280Z"
   },
   {
    "duration": 13,
    "start_time": "2022-05-25T16:03:04.298Z"
   },
   {
    "duration": 5,
    "start_time": "2022-05-25T16:03:04.312Z"
   },
   {
    "duration": 5,
    "start_time": "2022-05-25T16:03:04.353Z"
   },
   {
    "duration": 33,
    "start_time": "2022-05-25T16:03:04.360Z"
   },
   {
    "duration": 10,
    "start_time": "2022-05-25T16:03:04.395Z"
   },
   {
    "duration": 93,
    "start_time": "2022-05-25T16:03:04.406Z"
   },
   {
    "duration": 9,
    "start_time": "2022-05-25T16:03:04.501Z"
   },
   {
    "duration": 76,
    "start_time": "2022-05-25T16:03:04.512Z"
   },
   {
    "duration": 30,
    "start_time": "2022-05-25T16:03:04.591Z"
   },
   {
    "duration": 47,
    "start_time": "2022-05-25T16:03:04.624Z"
   },
   {
    "duration": 20,
    "start_time": "2022-05-25T16:03:04.674Z"
   },
   {
    "duration": 11,
    "start_time": "2022-05-25T16:03:04.696Z"
   },
   {
    "duration": 17,
    "start_time": "2022-05-25T16:03:04.710Z"
   },
   {
    "duration": 5,
    "start_time": "2022-05-25T16:03:04.752Z"
   },
   {
    "duration": 17,
    "start_time": "2022-05-25T16:03:04.759Z"
   },
   {
    "duration": 34,
    "start_time": "2022-05-25T16:03:04.777Z"
   },
   {
    "duration": 51,
    "start_time": "2022-05-25T16:03:04.813Z"
   },
   {
    "duration": 11,
    "start_time": "2022-05-25T16:03:04.866Z"
   },
   {
    "duration": 20,
    "start_time": "2022-05-25T16:03:04.879Z"
   },
   {
    "duration": 56,
    "start_time": "2022-05-25T16:03:04.900Z"
   },
   {
    "duration": 15,
    "start_time": "2022-05-25T16:03:04.959Z"
   },
   {
    "duration": 22,
    "start_time": "2022-05-25T16:03:04.977Z"
   },
   {
    "duration": 14,
    "start_time": "2022-05-25T16:03:05.001Z"
   },
   {
    "duration": 119,
    "start_time": "2022-05-25T16:03:05.017Z"
   },
   {
    "duration": 24,
    "start_time": "2022-05-25T16:03:05.138Z"
   },
   {
    "duration": 16,
    "start_time": "2022-05-25T16:03:05.170Z"
   },
   {
    "duration": 63,
    "start_time": "2022-05-25T16:03:05.191Z"
   },
   {
    "duration": 41,
    "start_time": "2022-05-25T16:03:05.257Z"
   },
   {
    "duration": 14,
    "start_time": "2022-05-25T16:03:05.300Z"
   },
   {
    "duration": 17,
    "start_time": "2022-05-25T16:03:05.317Z"
   },
   {
    "duration": 476,
    "start_time": "2022-05-25T16:03:05.337Z"
   },
   {
    "duration": 10,
    "start_time": "2022-05-25T16:03:05.815Z"
   },
   {
    "duration": 433,
    "start_time": "2022-05-25T16:03:05.827Z"
   },
   {
    "duration": 9,
    "start_time": "2022-05-25T16:03:06.263Z"
   },
   {
    "duration": 16,
    "start_time": "2022-05-25T16:03:06.274Z"
   },
   {
    "duration": 411,
    "start_time": "2022-05-25T16:03:06.293Z"
   },
   {
    "duration": 8,
    "start_time": "2022-05-25T16:03:06.706Z"
   },
   {
    "duration": 29,
    "start_time": "2022-05-25T16:03:06.716Z"
   },
   {
    "duration": 11,
    "start_time": "2022-05-25T16:03:06.751Z"
   },
   {
    "duration": 702,
    "start_time": "2022-05-25T16:03:06.764Z"
   },
   {
    "duration": 821,
    "start_time": "2022-05-25T16:03:07.469Z"
   },
   {
    "duration": 63,
    "start_time": "2022-05-25T16:03:08.292Z"
   },
   {
    "duration": 601,
    "start_time": "2022-05-25T16:03:08.357Z"
   },
   {
    "duration": 194,
    "start_time": "2022-05-25T16:03:08.960Z"
   },
   {
    "duration": 214,
    "start_time": "2022-05-25T16:03:09.156Z"
   },
   {
    "duration": 1038,
    "start_time": "2022-05-25T16:03:09.376Z"
   },
   {
    "duration": 6,
    "start_time": "2022-05-25T16:03:10.417Z"
   },
   {
    "duration": 31,
    "start_time": "2022-05-25T16:03:10.425Z"
   },
   {
    "duration": 18,
    "start_time": "2022-05-25T16:03:10.459Z"
   },
   {
    "duration": 16,
    "start_time": "2022-05-25T16:03:10.479Z"
   },
   {
    "duration": 10,
    "start_time": "2022-05-25T16:04:36.878Z"
   },
   {
    "duration": 16,
    "start_time": "2022-05-25T16:04:40.941Z"
   },
   {
    "duration": 12,
    "start_time": "2022-05-25T16:05:12.479Z"
   },
   {
    "duration": 18,
    "start_time": "2022-05-25T16:05:14.262Z"
   },
   {
    "duration": 53,
    "start_time": "2022-05-25T16:06:06.084Z"
   },
   {
    "duration": 16,
    "start_time": "2022-05-25T16:06:13.844Z"
   },
   {
    "duration": 20,
    "start_time": "2022-05-25T16:06:16.228Z"
   },
   {
    "duration": 14,
    "start_time": "2022-05-25T16:07:08.447Z"
   },
   {
    "duration": 25,
    "start_time": "2022-05-25T16:07:54.046Z"
   },
   {
    "duration": 26,
    "start_time": "2022-05-25T16:07:56.020Z"
   },
   {
    "duration": 33,
    "start_time": "2022-05-25T16:08:12.402Z"
   },
   {
    "duration": 26,
    "start_time": "2022-05-25T16:08:14.184Z"
   },
   {
    "duration": 13,
    "start_time": "2022-05-25T16:08:49.722Z"
   },
   {
    "duration": 5,
    "start_time": "2022-05-25T16:10:45.018Z"
   },
   {
    "duration": 614,
    "start_time": "2022-05-25T16:10:45.026Z"
   },
   {
    "duration": 14,
    "start_time": "2022-05-25T16:10:45.643Z"
   },
   {
    "duration": 25,
    "start_time": "2022-05-25T16:10:45.660Z"
   },
   {
    "duration": 33,
    "start_time": "2022-05-25T16:10:45.689Z"
   },
   {
    "duration": 14,
    "start_time": "2022-05-25T16:10:45.724Z"
   },
   {
    "duration": 11,
    "start_time": "2022-05-25T16:10:45.740Z"
   },
   {
    "duration": 7,
    "start_time": "2022-05-25T16:10:45.753Z"
   },
   {
    "duration": 10,
    "start_time": "2022-05-25T16:10:45.762Z"
   },
   {
    "duration": 15,
    "start_time": "2022-05-25T16:10:45.773Z"
   },
   {
    "duration": 8,
    "start_time": "2022-05-25T16:10:45.794Z"
   },
   {
    "duration": 8,
    "start_time": "2022-05-25T16:10:45.804Z"
   },
   {
    "duration": 17,
    "start_time": "2022-05-25T16:10:45.815Z"
   },
   {
    "duration": 20,
    "start_time": "2022-05-25T16:10:45.834Z"
   },
   {
    "duration": 24,
    "start_time": "2022-05-25T16:10:45.856Z"
   },
   {
    "duration": 8,
    "start_time": "2022-05-25T16:10:45.882Z"
   },
   {
    "duration": 10,
    "start_time": "2022-05-25T16:10:45.892Z"
   },
   {
    "duration": 15,
    "start_time": "2022-05-25T16:10:45.904Z"
   },
   {
    "duration": 41,
    "start_time": "2022-05-25T16:10:45.922Z"
   },
   {
    "duration": 14,
    "start_time": "2022-05-25T16:10:45.965Z"
   },
   {
    "duration": 13,
    "start_time": "2022-05-25T16:10:45.981Z"
   },
   {
    "duration": 14,
    "start_time": "2022-05-25T16:10:45.996Z"
   },
   {
    "duration": 13,
    "start_time": "2022-05-25T16:10:46.012Z"
   },
   {
    "duration": 36,
    "start_time": "2022-05-25T16:10:46.027Z"
   },
   {
    "duration": 8,
    "start_time": "2022-05-25T16:10:46.065Z"
   },
   {
    "duration": 22,
    "start_time": "2022-05-25T16:10:46.075Z"
   },
   {
    "duration": 54,
    "start_time": "2022-05-25T16:10:46.100Z"
   },
   {
    "duration": 12,
    "start_time": "2022-05-25T16:10:46.157Z"
   },
   {
    "duration": 44,
    "start_time": "2022-05-25T16:10:46.175Z"
   },
   {
    "duration": 15,
    "start_time": "2022-05-25T16:10:46.221Z"
   },
   {
    "duration": 27,
    "start_time": "2022-05-25T16:10:46.252Z"
   },
   {
    "duration": 9,
    "start_time": "2022-05-25T16:10:46.282Z"
   },
   {
    "duration": 32,
    "start_time": "2022-05-25T16:10:46.293Z"
   },
   {
    "duration": 27,
    "start_time": "2022-05-25T16:10:46.353Z"
   },
   {
    "duration": 46,
    "start_time": "2022-05-25T16:10:46.383Z"
   },
   {
    "duration": 27,
    "start_time": "2022-05-25T16:10:46.431Z"
   },
   {
    "duration": 28,
    "start_time": "2022-05-25T16:10:46.461Z"
   },
   {
    "duration": 23,
    "start_time": "2022-05-25T16:10:46.492Z"
   },
   {
    "duration": 20,
    "start_time": "2022-05-25T16:10:46.518Z"
   },
   {
    "duration": 18,
    "start_time": "2022-05-25T16:10:46.540Z"
   },
   {
    "duration": 37,
    "start_time": "2022-05-25T16:10:46.560Z"
   },
   {
    "duration": 9,
    "start_time": "2022-05-25T16:10:46.600Z"
   },
   {
    "duration": 84,
    "start_time": "2022-05-25T16:10:46.611Z"
   },
   {
    "duration": 11,
    "start_time": "2022-05-25T16:10:46.697Z"
   },
   {
    "duration": 51,
    "start_time": "2022-05-25T16:10:46.711Z"
   },
   {
    "duration": 22,
    "start_time": "2022-05-25T16:10:46.764Z"
   },
   {
    "duration": 23,
    "start_time": "2022-05-25T16:10:46.788Z"
   },
   {
    "duration": 39,
    "start_time": "2022-05-25T16:10:46.813Z"
   },
   {
    "duration": 10,
    "start_time": "2022-05-25T16:10:46.853Z"
   },
   {
    "duration": 14,
    "start_time": "2022-05-25T16:10:46.865Z"
   },
   {
    "duration": 9,
    "start_time": "2022-05-25T16:10:46.881Z"
   },
   {
    "duration": 21,
    "start_time": "2022-05-25T16:10:46.892Z"
   },
   {
    "duration": 36,
    "start_time": "2022-05-25T16:10:46.916Z"
   },
   {
    "duration": 35,
    "start_time": "2022-05-25T16:10:46.955Z"
   },
   {
    "duration": 11,
    "start_time": "2022-05-25T16:10:46.992Z"
   },
   {
    "duration": 59,
    "start_time": "2022-05-25T16:10:47.005Z"
   },
   {
    "duration": 12,
    "start_time": "2022-05-25T16:10:47.067Z"
   },
   {
    "duration": 21,
    "start_time": "2022-05-25T16:10:47.081Z"
   },
   {
    "duration": 9,
    "start_time": "2022-05-25T16:10:47.104Z"
   },
   {
    "duration": 1008,
    "start_time": "2022-05-25T16:10:47.115Z"
   },
   {
    "duration": 0,
    "start_time": "2022-05-25T16:10:48.126Z"
   },
   {
    "duration": 0,
    "start_time": "2022-05-25T16:10:48.128Z"
   },
   {
    "duration": 0,
    "start_time": "2022-05-25T16:10:48.129Z"
   },
   {
    "duration": 0,
    "start_time": "2022-05-25T16:10:48.132Z"
   },
   {
    "duration": 0,
    "start_time": "2022-05-25T16:10:48.133Z"
   },
   {
    "duration": 0,
    "start_time": "2022-05-25T16:10:48.139Z"
   },
   {
    "duration": 0,
    "start_time": "2022-05-25T16:10:48.141Z"
   },
   {
    "duration": 1,
    "start_time": "2022-05-25T16:10:48.142Z"
   },
   {
    "duration": 0,
    "start_time": "2022-05-25T16:10:48.144Z"
   },
   {
    "duration": 0,
    "start_time": "2022-05-25T16:10:48.146Z"
   },
   {
    "duration": 0,
    "start_time": "2022-05-25T16:10:48.147Z"
   },
   {
    "duration": 0,
    "start_time": "2022-05-25T16:10:48.148Z"
   },
   {
    "duration": 0,
    "start_time": "2022-05-25T16:10:48.149Z"
   },
   {
    "duration": 0,
    "start_time": "2022-05-25T16:10:48.150Z"
   },
   {
    "duration": 0,
    "start_time": "2022-05-25T16:10:48.152Z"
   },
   {
    "duration": 0,
    "start_time": "2022-05-25T16:10:48.153Z"
   },
   {
    "duration": 0,
    "start_time": "2022-05-25T16:10:48.155Z"
   },
   {
    "duration": 0,
    "start_time": "2022-05-25T16:10:48.159Z"
   },
   {
    "duration": 0,
    "start_time": "2022-05-25T16:10:48.160Z"
   },
   {
    "duration": 0,
    "start_time": "2022-05-25T16:10:48.162Z"
   },
   {
    "duration": 0,
    "start_time": "2022-05-25T16:10:48.164Z"
   },
   {
    "duration": 0,
    "start_time": "2022-05-25T16:10:48.166Z"
   },
   {
    "duration": 0,
    "start_time": "2022-05-25T16:10:48.167Z"
   },
   {
    "duration": 0,
    "start_time": "2022-05-25T16:10:48.169Z"
   },
   {
    "duration": 0,
    "start_time": "2022-05-25T16:10:48.170Z"
   },
   {
    "duration": 0,
    "start_time": "2022-05-25T16:10:48.172Z"
   },
   {
    "duration": 0,
    "start_time": "2022-05-25T16:10:48.173Z"
   },
   {
    "duration": 0,
    "start_time": "2022-05-25T16:10:48.179Z"
   },
   {
    "duration": 0,
    "start_time": "2022-05-25T16:10:48.180Z"
   },
   {
    "duration": 8,
    "start_time": "2022-05-25T16:12:00.969Z"
   },
   {
    "duration": 975,
    "start_time": "2022-05-25T16:12:04.193Z"
   },
   {
    "duration": 4,
    "start_time": "2022-05-25T16:12:13.034Z"
   },
   {
    "duration": 529,
    "start_time": "2022-05-25T16:12:13.041Z"
   },
   {
    "duration": 13,
    "start_time": "2022-05-25T16:12:13.574Z"
   },
   {
    "duration": 26,
    "start_time": "2022-05-25T16:12:13.588Z"
   },
   {
    "duration": 29,
    "start_time": "2022-05-25T16:12:13.617Z"
   },
   {
    "duration": 35,
    "start_time": "2022-05-25T16:12:13.648Z"
   },
   {
    "duration": 40,
    "start_time": "2022-05-25T16:12:13.685Z"
   },
   {
    "duration": 23,
    "start_time": "2022-05-25T16:12:13.727Z"
   },
   {
    "duration": 47,
    "start_time": "2022-05-25T16:12:13.752Z"
   },
   {
    "duration": 21,
    "start_time": "2022-05-25T16:12:13.802Z"
   },
   {
    "duration": 53,
    "start_time": "2022-05-25T16:12:13.827Z"
   },
   {
    "duration": 35,
    "start_time": "2022-05-25T16:12:13.883Z"
   },
   {
    "duration": 12,
    "start_time": "2022-05-25T16:12:13.922Z"
   },
   {
    "duration": 36,
    "start_time": "2022-05-25T16:12:13.936Z"
   },
   {
    "duration": 41,
    "start_time": "2022-05-25T16:12:13.974Z"
   },
   {
    "duration": 18,
    "start_time": "2022-05-25T16:12:14.017Z"
   },
   {
    "duration": 18,
    "start_time": "2022-05-25T16:12:14.038Z"
   },
   {
    "duration": 28,
    "start_time": "2022-05-25T16:12:14.066Z"
   },
   {
    "duration": 47,
    "start_time": "2022-05-25T16:12:14.095Z"
   },
   {
    "duration": 89,
    "start_time": "2022-05-25T16:12:14.144Z"
   },
   {
    "duration": 61,
    "start_time": "2022-05-25T16:12:14.237Z"
   },
   {
    "duration": 50,
    "start_time": "2022-05-25T16:12:14.300Z"
   },
   {
    "duration": 39,
    "start_time": "2022-05-25T16:12:14.353Z"
   },
   {
    "duration": 20,
    "start_time": "2022-05-25T16:12:14.395Z"
   },
   {
    "duration": 41,
    "start_time": "2022-05-25T16:12:14.417Z"
   },
   {
    "duration": 54,
    "start_time": "2022-05-25T16:12:14.460Z"
   },
   {
    "duration": 66,
    "start_time": "2022-05-25T16:12:14.516Z"
   },
   {
    "duration": 34,
    "start_time": "2022-05-25T16:12:14.584Z"
   },
   {
    "duration": 49,
    "start_time": "2022-05-25T16:12:14.628Z"
   },
   {
    "duration": 40,
    "start_time": "2022-05-25T16:12:14.680Z"
   },
   {
    "duration": 27,
    "start_time": "2022-05-25T16:12:14.723Z"
   },
   {
    "duration": 16,
    "start_time": "2022-05-25T16:12:14.752Z"
   },
   {
    "duration": 50,
    "start_time": "2022-05-25T16:12:14.771Z"
   },
   {
    "duration": 16,
    "start_time": "2022-05-25T16:12:14.824Z"
   },
   {
    "duration": 65,
    "start_time": "2022-05-25T16:12:14.843Z"
   },
   {
    "duration": 23,
    "start_time": "2022-05-25T16:12:14.911Z"
   },
   {
    "duration": 28,
    "start_time": "2022-05-25T16:12:14.936Z"
   },
   {
    "duration": 31,
    "start_time": "2022-05-25T16:12:14.968Z"
   },
   {
    "duration": 14,
    "start_time": "2022-05-25T16:12:15.002Z"
   },
   {
    "duration": 19,
    "start_time": "2022-05-25T16:12:15.018Z"
   },
   {
    "duration": 57,
    "start_time": "2022-05-25T16:12:15.039Z"
   },
   {
    "duration": 10,
    "start_time": "2022-05-25T16:12:15.098Z"
   },
   {
    "duration": 85,
    "start_time": "2022-05-25T16:12:15.110Z"
   },
   {
    "duration": 10,
    "start_time": "2022-05-25T16:12:15.198Z"
   },
   {
    "duration": 70,
    "start_time": "2022-05-25T16:12:15.210Z"
   },
   {
    "duration": 30,
    "start_time": "2022-05-25T16:12:15.285Z"
   },
   {
    "duration": 43,
    "start_time": "2022-05-25T16:12:15.317Z"
   },
   {
    "duration": 31,
    "start_time": "2022-05-25T16:12:15.363Z"
   },
   {
    "duration": 27,
    "start_time": "2022-05-25T16:12:15.396Z"
   },
   {
    "duration": 27,
    "start_time": "2022-05-25T16:12:15.426Z"
   },
   {
    "duration": 53,
    "start_time": "2022-05-25T16:12:15.456Z"
   },
   {
    "duration": 32,
    "start_time": "2022-05-25T16:12:15.512Z"
   },
   {
    "duration": 66,
    "start_time": "2022-05-25T16:12:15.546Z"
   },
   {
    "duration": 63,
    "start_time": "2022-05-25T16:12:15.614Z"
   },
   {
    "duration": 35,
    "start_time": "2022-05-25T16:12:15.685Z"
   },
   {
    "duration": 44,
    "start_time": "2022-05-25T16:12:15.722Z"
   },
   {
    "duration": 51,
    "start_time": "2022-05-25T16:12:15.771Z"
   },
   {
    "duration": 814,
    "start_time": "2022-05-25T16:12:15.825Z"
   },
   {
    "duration": 0,
    "start_time": "2022-05-25T16:12:16.642Z"
   },
   {
    "duration": 0,
    "start_time": "2022-05-25T16:12:16.644Z"
   },
   {
    "duration": 0,
    "start_time": "2022-05-25T16:12:16.646Z"
   },
   {
    "duration": 0,
    "start_time": "2022-05-25T16:12:16.649Z"
   },
   {
    "duration": 0,
    "start_time": "2022-05-25T16:12:16.650Z"
   },
   {
    "duration": 0,
    "start_time": "2022-05-25T16:12:16.653Z"
   },
   {
    "duration": 0,
    "start_time": "2022-05-25T16:12:16.655Z"
   },
   {
    "duration": 0,
    "start_time": "2022-05-25T16:12:16.656Z"
   },
   {
    "duration": 0,
    "start_time": "2022-05-25T16:12:16.657Z"
   },
   {
    "duration": 0,
    "start_time": "2022-05-25T16:12:16.658Z"
   },
   {
    "duration": 0,
    "start_time": "2022-05-25T16:12:16.659Z"
   },
   {
    "duration": 0,
    "start_time": "2022-05-25T16:12:16.663Z"
   },
   {
    "duration": 0,
    "start_time": "2022-05-25T16:12:16.664Z"
   },
   {
    "duration": 0,
    "start_time": "2022-05-25T16:12:16.667Z"
   },
   {
    "duration": 0,
    "start_time": "2022-05-25T16:12:16.668Z"
   },
   {
    "duration": 0,
    "start_time": "2022-05-25T16:12:16.669Z"
   },
   {
    "duration": 0,
    "start_time": "2022-05-25T16:12:16.671Z"
   },
   {
    "duration": 0,
    "start_time": "2022-05-25T16:12:16.673Z"
   },
   {
    "duration": 0,
    "start_time": "2022-05-25T16:12:16.677Z"
   },
   {
    "duration": 0,
    "start_time": "2022-05-25T16:12:16.678Z"
   },
   {
    "duration": 0,
    "start_time": "2022-05-25T16:12:16.679Z"
   },
   {
    "duration": 0,
    "start_time": "2022-05-25T16:12:16.680Z"
   },
   {
    "duration": 0,
    "start_time": "2022-05-25T16:12:16.681Z"
   },
   {
    "duration": 0,
    "start_time": "2022-05-25T16:12:16.686Z"
   },
   {
    "duration": 0,
    "start_time": "2022-05-25T16:12:16.688Z"
   },
   {
    "duration": 0,
    "start_time": "2022-05-25T16:12:16.690Z"
   },
   {
    "duration": 0,
    "start_time": "2022-05-25T16:12:16.692Z"
   },
   {
    "duration": 0,
    "start_time": "2022-05-25T16:12:16.693Z"
   },
   {
    "duration": 0,
    "start_time": "2022-05-25T16:12:16.696Z"
   },
   {
    "duration": 17,
    "start_time": "2022-05-25T16:12:43.679Z"
   },
   {
    "duration": 6,
    "start_time": "2022-05-25T16:13:03.072Z"
   },
   {
    "duration": 4,
    "start_time": "2022-05-25T16:33:25.551Z"
   },
   {
    "duration": 449,
    "start_time": "2022-05-25T16:33:25.557Z"
   },
   {
    "duration": 11,
    "start_time": "2022-05-25T16:33:26.008Z"
   },
   {
    "duration": 13,
    "start_time": "2022-05-25T16:33:26.021Z"
   },
   {
    "duration": 7,
    "start_time": "2022-05-25T16:33:26.036Z"
   },
   {
    "duration": 28,
    "start_time": "2022-05-25T16:33:26.044Z"
   },
   {
    "duration": 11,
    "start_time": "2022-05-25T16:33:26.074Z"
   },
   {
    "duration": 7,
    "start_time": "2022-05-25T16:33:26.087Z"
   },
   {
    "duration": 12,
    "start_time": "2022-05-25T16:33:26.096Z"
   },
   {
    "duration": 7,
    "start_time": "2022-05-25T16:33:26.110Z"
   },
   {
    "duration": 6,
    "start_time": "2022-05-25T16:33:26.120Z"
   },
   {
    "duration": 7,
    "start_time": "2022-05-25T16:33:26.127Z"
   },
   {
    "duration": 27,
    "start_time": "2022-05-25T16:33:26.135Z"
   },
   {
    "duration": 12,
    "start_time": "2022-05-25T16:33:26.163Z"
   },
   {
    "duration": 20,
    "start_time": "2022-05-25T16:33:26.177Z"
   },
   {
    "duration": 5,
    "start_time": "2022-05-25T16:33:26.199Z"
   },
   {
    "duration": 6,
    "start_time": "2022-05-25T16:33:26.205Z"
   },
   {
    "duration": 11,
    "start_time": "2022-05-25T16:33:26.213Z"
   },
   {
    "duration": 43,
    "start_time": "2022-05-25T16:33:26.225Z"
   },
   {
    "duration": 28,
    "start_time": "2022-05-25T16:33:26.271Z"
   },
   {
    "duration": 12,
    "start_time": "2022-05-25T16:33:26.301Z"
   },
   {
    "duration": 22,
    "start_time": "2022-05-25T16:33:26.315Z"
   },
   {
    "duration": 24,
    "start_time": "2022-05-25T16:33:26.339Z"
   },
   {
    "duration": 11,
    "start_time": "2022-05-25T16:33:26.367Z"
   },
   {
    "duration": 7,
    "start_time": "2022-05-25T16:33:26.380Z"
   },
   {
    "duration": 15,
    "start_time": "2022-05-25T16:33:26.389Z"
   },
   {
    "duration": 29,
    "start_time": "2022-05-25T16:33:26.405Z"
   },
   {
    "duration": 19,
    "start_time": "2022-05-25T16:33:26.436Z"
   },
   {
    "duration": 30,
    "start_time": "2022-05-25T16:33:26.459Z"
   },
   {
    "duration": 15,
    "start_time": "2022-05-25T16:33:26.491Z"
   },
   {
    "duration": 46,
    "start_time": "2022-05-25T16:33:26.508Z"
   },
   {
    "duration": 13,
    "start_time": "2022-05-25T16:33:26.556Z"
   },
   {
    "duration": 29,
    "start_time": "2022-05-25T16:33:26.571Z"
   },
   {
    "duration": 11,
    "start_time": "2022-05-25T16:33:26.602Z"
   },
   {
    "duration": 51,
    "start_time": "2022-05-25T16:33:26.615Z"
   },
   {
    "duration": 16,
    "start_time": "2022-05-25T16:33:26.668Z"
   },
   {
    "duration": 15,
    "start_time": "2022-05-25T16:33:26.685Z"
   },
   {
    "duration": 13,
    "start_time": "2022-05-25T16:33:26.702Z"
   },
   {
    "duration": 40,
    "start_time": "2022-05-25T16:33:26.717Z"
   },
   {
    "duration": 25,
    "start_time": "2022-05-25T16:33:26.759Z"
   },
   {
    "duration": 41,
    "start_time": "2022-05-25T16:33:26.786Z"
   },
   {
    "duration": 8,
    "start_time": "2022-05-25T16:33:26.829Z"
   },
   {
    "duration": 61,
    "start_time": "2022-05-25T16:33:26.839Z"
   },
   {
    "duration": 8,
    "start_time": "2022-05-25T16:33:26.902Z"
   },
   {
    "duration": 49,
    "start_time": "2022-05-25T16:33:26.913Z"
   },
   {
    "duration": 23,
    "start_time": "2022-05-25T16:33:26.963Z"
   },
   {
    "duration": 19,
    "start_time": "2022-05-25T16:33:26.987Z"
   },
   {
    "duration": 49,
    "start_time": "2022-05-25T16:33:27.008Z"
   },
   {
    "duration": 9,
    "start_time": "2022-05-25T16:33:27.065Z"
   },
   {
    "duration": 9,
    "start_time": "2022-05-25T16:33:27.076Z"
   },
   {
    "duration": 6,
    "start_time": "2022-05-25T16:33:27.086Z"
   },
   {
    "duration": 11,
    "start_time": "2022-05-25T16:33:27.094Z"
   },
   {
    "duration": 7,
    "start_time": "2022-05-25T16:33:27.106Z"
   },
   {
    "duration": 52,
    "start_time": "2022-05-25T16:33:27.114Z"
   },
   {
    "duration": 11,
    "start_time": "2022-05-25T16:33:27.169Z"
   },
   {
    "duration": 13,
    "start_time": "2022-05-25T16:33:27.185Z"
   },
   {
    "duration": 9,
    "start_time": "2022-05-25T16:33:27.200Z"
   },
   {
    "duration": 24,
    "start_time": "2022-05-25T16:33:27.211Z"
   },
   {
    "duration": 22,
    "start_time": "2022-05-25T16:33:27.236Z"
   },
   {
    "duration": 124,
    "start_time": "2022-05-25T16:33:27.260Z"
   },
   {
    "duration": 17,
    "start_time": "2022-05-25T16:33:27.385Z"
   },
   {
    "duration": 13,
    "start_time": "2022-05-25T16:33:27.404Z"
   },
   {
    "duration": 50,
    "start_time": "2022-05-25T16:33:27.418Z"
   },
   {
    "duration": 12,
    "start_time": "2022-05-25T16:33:27.470Z"
   },
   {
    "duration": 15,
    "start_time": "2022-05-25T16:33:27.484Z"
   },
   {
    "duration": 0,
    "start_time": "2022-05-25T16:33:27.501Z"
   },
   {
    "duration": 0,
    "start_time": "2022-05-25T16:33:27.502Z"
   },
   {
    "duration": 0,
    "start_time": "2022-05-25T16:33:27.503Z"
   },
   {
    "duration": 0,
    "start_time": "2022-05-25T16:33:27.504Z"
   },
   {
    "duration": 0,
    "start_time": "2022-05-25T16:33:27.505Z"
   },
   {
    "duration": 0,
    "start_time": "2022-05-25T16:33:27.506Z"
   },
   {
    "duration": 0,
    "start_time": "2022-05-25T16:33:27.507Z"
   },
   {
    "duration": 0,
    "start_time": "2022-05-25T16:33:27.508Z"
   },
   {
    "duration": 0,
    "start_time": "2022-05-25T16:33:27.509Z"
   },
   {
    "duration": 0,
    "start_time": "2022-05-25T16:33:27.510Z"
   },
   {
    "duration": 0,
    "start_time": "2022-05-25T16:33:27.511Z"
   },
   {
    "duration": 0,
    "start_time": "2022-05-25T16:33:27.512Z"
   },
   {
    "duration": 0,
    "start_time": "2022-05-25T16:33:27.513Z"
   },
   {
    "duration": 0,
    "start_time": "2022-05-25T16:33:27.514Z"
   },
   {
    "duration": 0,
    "start_time": "2022-05-25T16:33:27.516Z"
   },
   {
    "duration": 0,
    "start_time": "2022-05-25T16:33:27.517Z"
   },
   {
    "duration": 0,
    "start_time": "2022-05-25T16:33:27.552Z"
   },
   {
    "duration": 0,
    "start_time": "2022-05-25T16:33:27.553Z"
   },
   {
    "duration": 0,
    "start_time": "2022-05-25T16:33:27.558Z"
   },
   {
    "duration": 0,
    "start_time": "2022-05-25T16:33:27.559Z"
   },
   {
    "duration": 0,
    "start_time": "2022-05-25T16:33:27.560Z"
   },
   {
    "duration": 4,
    "start_time": "2022-05-25T16:34:29.724Z"
   },
   {
    "duration": 507,
    "start_time": "2022-05-25T16:34:29.730Z"
   },
   {
    "duration": 11,
    "start_time": "2022-05-25T16:34:30.240Z"
   },
   {
    "duration": 40,
    "start_time": "2022-05-25T16:34:30.255Z"
   },
   {
    "duration": 21,
    "start_time": "2022-05-25T16:34:30.298Z"
   },
   {
    "duration": 24,
    "start_time": "2022-05-25T16:34:30.320Z"
   },
   {
    "duration": 32,
    "start_time": "2022-05-25T16:34:30.345Z"
   },
   {
    "duration": 26,
    "start_time": "2022-05-25T16:34:30.380Z"
   },
   {
    "duration": 14,
    "start_time": "2022-05-25T16:34:30.409Z"
   },
   {
    "duration": 14,
    "start_time": "2022-05-25T16:34:30.426Z"
   },
   {
    "duration": 36,
    "start_time": "2022-05-25T16:34:30.444Z"
   },
   {
    "duration": 21,
    "start_time": "2022-05-25T16:34:30.483Z"
   },
   {
    "duration": 18,
    "start_time": "2022-05-25T16:34:30.506Z"
   },
   {
    "duration": 20,
    "start_time": "2022-05-25T16:34:30.525Z"
   },
   {
    "duration": 32,
    "start_time": "2022-05-25T16:34:30.548Z"
   },
   {
    "duration": 24,
    "start_time": "2022-05-25T16:34:30.582Z"
   },
   {
    "duration": 17,
    "start_time": "2022-05-25T16:34:30.608Z"
   },
   {
    "duration": 16,
    "start_time": "2022-05-25T16:34:30.627Z"
   },
   {
    "duration": 24,
    "start_time": "2022-05-25T16:34:30.645Z"
   },
   {
    "duration": 29,
    "start_time": "2022-05-25T16:34:30.670Z"
   },
   {
    "duration": 27,
    "start_time": "2022-05-25T16:34:30.701Z"
   },
   {
    "duration": 20,
    "start_time": "2022-05-25T16:34:30.729Z"
   },
   {
    "duration": 41,
    "start_time": "2022-05-25T16:34:30.753Z"
   },
   {
    "duration": 17,
    "start_time": "2022-05-25T16:34:30.796Z"
   },
   {
    "duration": 8,
    "start_time": "2022-05-25T16:34:30.816Z"
   },
   {
    "duration": 29,
    "start_time": "2022-05-25T16:34:30.826Z"
   },
   {
    "duration": 42,
    "start_time": "2022-05-25T16:34:30.857Z"
   },
   {
    "duration": 17,
    "start_time": "2022-05-25T16:34:30.901Z"
   },
   {
    "duration": 25,
    "start_time": "2022-05-25T16:34:30.923Z"
   },
   {
    "duration": 31,
    "start_time": "2022-05-25T16:34:30.950Z"
   },
   {
    "duration": 31,
    "start_time": "2022-05-25T16:34:30.983Z"
   },
   {
    "duration": 10,
    "start_time": "2022-05-25T16:34:31.016Z"
   },
   {
    "duration": 42,
    "start_time": "2022-05-25T16:34:31.028Z"
   },
   {
    "duration": 29,
    "start_time": "2022-05-25T16:34:31.072Z"
   },
   {
    "duration": 35,
    "start_time": "2022-05-25T16:34:31.103Z"
   },
   {
    "duration": 26,
    "start_time": "2022-05-25T16:34:31.140Z"
   },
   {
    "duration": 32,
    "start_time": "2022-05-25T16:34:31.169Z"
   },
   {
    "duration": 17,
    "start_time": "2022-05-25T16:34:31.203Z"
   },
   {
    "duration": 22,
    "start_time": "2022-05-25T16:34:31.222Z"
   },
   {
    "duration": 31,
    "start_time": "2022-05-25T16:34:31.245Z"
   },
   {
    "duration": 37,
    "start_time": "2022-05-25T16:34:31.278Z"
   },
   {
    "duration": 9,
    "start_time": "2022-05-25T16:34:31.316Z"
   },
   {
    "duration": 66,
    "start_time": "2022-05-25T16:34:31.327Z"
   },
   {
    "duration": 8,
    "start_time": "2022-05-25T16:34:31.395Z"
   },
   {
    "duration": 73,
    "start_time": "2022-05-25T16:34:31.405Z"
   },
   {
    "duration": 27,
    "start_time": "2022-05-25T16:34:31.480Z"
   },
   {
    "duration": 32,
    "start_time": "2022-05-25T16:34:31.509Z"
   },
   {
    "duration": 28,
    "start_time": "2022-05-25T16:34:31.542Z"
   },
   {
    "duration": 10,
    "start_time": "2022-05-25T16:34:31.572Z"
   },
   {
    "duration": 15,
    "start_time": "2022-05-25T16:34:31.584Z"
   },
   {
    "duration": 16,
    "start_time": "2022-05-25T16:34:31.601Z"
   },
   {
    "duration": 25,
    "start_time": "2022-05-25T16:34:31.620Z"
   },
   {
    "duration": 32,
    "start_time": "2022-05-25T16:34:31.647Z"
   },
   {
    "duration": 44,
    "start_time": "2022-05-25T16:34:31.681Z"
   },
   {
    "duration": 11,
    "start_time": "2022-05-25T16:34:31.727Z"
   },
   {
    "duration": 39,
    "start_time": "2022-05-25T16:34:31.739Z"
   },
   {
    "duration": 6,
    "start_time": "2022-05-25T16:34:31.780Z"
   },
   {
    "duration": 36,
    "start_time": "2022-05-25T16:34:31.787Z"
   },
   {
    "duration": 17,
    "start_time": "2022-05-25T16:34:31.824Z"
   },
   {
    "duration": 128,
    "start_time": "2022-05-25T16:34:31.843Z"
   },
   {
    "duration": 20,
    "start_time": "2022-05-25T16:34:31.973Z"
   },
   {
    "duration": 35,
    "start_time": "2022-05-25T16:34:31.994Z"
   },
   {
    "duration": 52,
    "start_time": "2022-05-25T16:34:32.032Z"
   },
   {
    "duration": 11,
    "start_time": "2022-05-25T16:34:32.086Z"
   },
   {
    "duration": 29,
    "start_time": "2022-05-25T16:34:32.099Z"
   },
   {
    "duration": 0,
    "start_time": "2022-05-25T16:34:32.131Z"
   },
   {
    "duration": 0,
    "start_time": "2022-05-25T16:34:32.132Z"
   },
   {
    "duration": 0,
    "start_time": "2022-05-25T16:34:32.133Z"
   },
   {
    "duration": 0,
    "start_time": "2022-05-25T16:34:32.134Z"
   },
   {
    "duration": 0,
    "start_time": "2022-05-25T16:34:32.136Z"
   },
   {
    "duration": 0,
    "start_time": "2022-05-25T16:34:32.137Z"
   },
   {
    "duration": 0,
    "start_time": "2022-05-25T16:34:32.154Z"
   },
   {
    "duration": 0,
    "start_time": "2022-05-25T16:34:32.156Z"
   },
   {
    "duration": 0,
    "start_time": "2022-05-25T16:34:32.157Z"
   },
   {
    "duration": 0,
    "start_time": "2022-05-25T16:34:32.157Z"
   },
   {
    "duration": 0,
    "start_time": "2022-05-25T16:34:32.159Z"
   },
   {
    "duration": 0,
    "start_time": "2022-05-25T16:34:32.160Z"
   },
   {
    "duration": 0,
    "start_time": "2022-05-25T16:34:32.161Z"
   },
   {
    "duration": 0,
    "start_time": "2022-05-25T16:34:32.163Z"
   },
   {
    "duration": 0,
    "start_time": "2022-05-25T16:34:32.166Z"
   },
   {
    "duration": 0,
    "start_time": "2022-05-25T16:34:32.168Z"
   },
   {
    "duration": 0,
    "start_time": "2022-05-25T16:34:32.168Z"
   },
   {
    "duration": 0,
    "start_time": "2022-05-25T16:34:32.169Z"
   },
   {
    "duration": 0,
    "start_time": "2022-05-25T16:34:32.170Z"
   },
   {
    "duration": 0,
    "start_time": "2022-05-25T16:34:32.176Z"
   },
   {
    "duration": 0,
    "start_time": "2022-05-25T16:34:32.177Z"
   },
   {
    "duration": 11,
    "start_time": "2022-05-25T16:35:07.292Z"
   },
   {
    "duration": 9,
    "start_time": "2022-05-25T16:35:10.475Z"
   },
   {
    "duration": 5,
    "start_time": "2022-05-25T16:35:25.694Z"
   },
   {
    "duration": 428,
    "start_time": "2022-05-25T16:35:25.701Z"
   },
   {
    "duration": 10,
    "start_time": "2022-05-25T16:35:26.131Z"
   },
   {
    "duration": 18,
    "start_time": "2022-05-25T16:35:26.152Z"
   },
   {
    "duration": 7,
    "start_time": "2022-05-25T16:35:26.172Z"
   },
   {
    "duration": 11,
    "start_time": "2022-05-25T16:35:26.181Z"
   },
   {
    "duration": 7,
    "start_time": "2022-05-25T16:35:26.194Z"
   },
   {
    "duration": 5,
    "start_time": "2022-05-25T16:35:26.203Z"
   },
   {
    "duration": 4,
    "start_time": "2022-05-25T16:35:26.210Z"
   },
   {
    "duration": 5,
    "start_time": "2022-05-25T16:35:26.216Z"
   },
   {
    "duration": 20,
    "start_time": "2022-05-25T16:35:26.254Z"
   },
   {
    "duration": 6,
    "start_time": "2022-05-25T16:35:26.275Z"
   },
   {
    "duration": 8,
    "start_time": "2022-05-25T16:35:26.283Z"
   },
   {
    "duration": 9,
    "start_time": "2022-05-25T16:35:26.293Z"
   },
   {
    "duration": 18,
    "start_time": "2022-05-25T16:35:26.304Z"
   },
   {
    "duration": 35,
    "start_time": "2022-05-25T16:35:26.324Z"
   },
   {
    "duration": 13,
    "start_time": "2022-05-25T16:35:26.361Z"
   },
   {
    "duration": 10,
    "start_time": "2022-05-25T16:35:26.376Z"
   },
   {
    "duration": 11,
    "start_time": "2022-05-25T16:35:26.388Z"
   },
   {
    "duration": 15,
    "start_time": "2022-05-25T16:35:26.401Z"
   },
   {
    "duration": 40,
    "start_time": "2022-05-25T16:35:26.418Z"
   },
   {
    "duration": 11,
    "start_time": "2022-05-25T16:35:26.460Z"
   },
   {
    "duration": 7,
    "start_time": "2022-05-25T16:35:26.473Z"
   },
   {
    "duration": 10,
    "start_time": "2022-05-25T16:35:26.484Z"
   },
   {
    "duration": 11,
    "start_time": "2022-05-25T16:35:26.495Z"
   },
   {
    "duration": 11,
    "start_time": "2022-05-25T16:35:26.508Z"
   },
   {
    "duration": 53,
    "start_time": "2022-05-25T16:35:26.521Z"
   },
   {
    "duration": 8,
    "start_time": "2022-05-25T16:35:26.576Z"
   },
   {
    "duration": 21,
    "start_time": "2022-05-25T16:35:26.586Z"
   },
   {
    "duration": 13,
    "start_time": "2022-05-25T16:35:26.609Z"
   },
   {
    "duration": 47,
    "start_time": "2022-05-25T16:35:26.624Z"
   },
   {
    "duration": 7,
    "start_time": "2022-05-25T16:35:26.673Z"
   },
   {
    "duration": 22,
    "start_time": "2022-05-25T16:35:26.682Z"
   },
   {
    "duration": 10,
    "start_time": "2022-05-25T16:35:26.706Z"
   },
   {
    "duration": 57,
    "start_time": "2022-05-25T16:35:26.718Z"
   },
   {
    "duration": 17,
    "start_time": "2022-05-25T16:35:26.777Z"
   },
   {
    "duration": 15,
    "start_time": "2022-05-25T16:35:26.796Z"
   },
   {
    "duration": 55,
    "start_time": "2022-05-25T16:35:26.813Z"
   },
   {
    "duration": 6,
    "start_time": "2022-05-25T16:35:26.870Z"
   },
   {
    "duration": 7,
    "start_time": "2022-05-25T16:35:26.877Z"
   },
   {
    "duration": 24,
    "start_time": "2022-05-25T16:35:26.886Z"
   },
   {
    "duration": 8,
    "start_time": "2022-05-25T16:35:26.912Z"
   },
   {
    "duration": 80,
    "start_time": "2022-05-25T16:35:26.922Z"
   },
   {
    "duration": 7,
    "start_time": "2022-05-25T16:35:27.004Z"
   },
   {
    "duration": 63,
    "start_time": "2022-05-25T16:35:27.013Z"
   },
   {
    "duration": 20,
    "start_time": "2022-05-25T16:35:27.078Z"
   },
   {
    "duration": 17,
    "start_time": "2022-05-25T16:35:27.099Z"
   },
   {
    "duration": 41,
    "start_time": "2022-05-25T16:35:27.118Z"
   },
   {
    "duration": 11,
    "start_time": "2022-05-25T16:35:27.160Z"
   },
   {
    "duration": 9,
    "start_time": "2022-05-25T16:35:27.173Z"
   },
   {
    "duration": 7,
    "start_time": "2022-05-25T16:35:27.183Z"
   },
   {
    "duration": 10,
    "start_time": "2022-05-25T16:35:27.192Z"
   },
   {
    "duration": 5,
    "start_time": "2022-05-25T16:35:27.204Z"
   },
   {
    "duration": 57,
    "start_time": "2022-05-25T16:35:27.211Z"
   },
   {
    "duration": 9,
    "start_time": "2022-05-25T16:35:27.269Z"
   },
   {
    "duration": 16,
    "start_time": "2022-05-25T16:35:27.279Z"
   },
   {
    "duration": 5,
    "start_time": "2022-05-25T16:35:27.297Z"
   },
   {
    "duration": 52,
    "start_time": "2022-05-25T16:35:27.304Z"
   },
   {
    "duration": 9,
    "start_time": "2022-05-25T16:35:27.358Z"
   },
   {
    "duration": 110,
    "start_time": "2022-05-25T16:35:27.369Z"
   },
   {
    "duration": 17,
    "start_time": "2022-05-25T16:35:27.481Z"
   },
   {
    "duration": 7,
    "start_time": "2022-05-25T16:35:27.500Z"
   },
   {
    "duration": 46,
    "start_time": "2022-05-25T16:35:27.509Z"
   },
   {
    "duration": 14,
    "start_time": "2022-05-25T16:35:27.557Z"
   },
   {
    "duration": 12,
    "start_time": "2022-05-25T16:35:27.573Z"
   },
   {
    "duration": 8,
    "start_time": "2022-05-25T16:35:27.586Z"
   },
   {
    "duration": 413,
    "start_time": "2022-05-25T16:35:27.596Z"
   },
   {
    "duration": 11,
    "start_time": "2022-05-25T16:35:28.011Z"
   },
   {
    "duration": 389,
    "start_time": "2022-05-25T16:35:28.028Z"
   },
   {
    "duration": 8,
    "start_time": "2022-05-25T16:35:28.419Z"
   },
   {
    "duration": 29,
    "start_time": "2022-05-25T16:35:28.428Z"
   },
   {
    "duration": 375,
    "start_time": "2022-05-25T16:35:28.459Z"
   },
   {
    "duration": 20,
    "start_time": "2022-05-25T16:35:28.836Z"
   },
   {
    "duration": 25,
    "start_time": "2022-05-25T16:35:28.862Z"
   },
   {
    "duration": 14,
    "start_time": "2022-05-25T16:35:28.889Z"
   },
   {
    "duration": 411,
    "start_time": "2022-05-25T16:35:28.904Z"
   },
   {
    "duration": 382,
    "start_time": "2022-05-25T16:35:29.316Z"
   },
   {
    "duration": 9,
    "start_time": "2022-05-25T16:35:29.700Z"
   },
   {
    "duration": 381,
    "start_time": "2022-05-25T16:35:29.710Z"
   },
   {
    "duration": 234,
    "start_time": "2022-05-25T16:35:30.093Z"
   },
   {
    "duration": 168,
    "start_time": "2022-05-25T16:35:30.329Z"
   },
   {
    "duration": 899,
    "start_time": "2022-05-25T16:35:30.499Z"
   },
   {
    "duration": 13,
    "start_time": "2022-05-25T16:35:31.453Z"
   },
   {
    "duration": 23,
    "start_time": "2022-05-25T16:35:31.468Z"
   },
   {
    "duration": 71,
    "start_time": "2022-05-25T16:35:31.493Z"
   },
   {
    "duration": 11,
    "start_time": "2022-05-25T16:35:31.572Z"
   },
   {
    "duration": 4,
    "start_time": "2022-05-25T16:36:30.024Z"
   },
   {
    "duration": 455,
    "start_time": "2022-05-25T16:36:30.030Z"
   },
   {
    "duration": 11,
    "start_time": "2022-05-25T16:36:30.487Z"
   },
   {
    "duration": 22,
    "start_time": "2022-05-25T16:36:30.500Z"
   },
   {
    "duration": 19,
    "start_time": "2022-05-25T16:36:30.524Z"
   },
   {
    "duration": 42,
    "start_time": "2022-05-25T16:36:30.544Z"
   },
   {
    "duration": 14,
    "start_time": "2022-05-25T16:36:30.588Z"
   },
   {
    "duration": 17,
    "start_time": "2022-05-25T16:36:30.605Z"
   },
   {
    "duration": 21,
    "start_time": "2022-05-25T16:36:30.624Z"
   },
   {
    "duration": 22,
    "start_time": "2022-05-25T16:36:30.647Z"
   },
   {
    "duration": 13,
    "start_time": "2022-05-25T16:36:30.672Z"
   },
   {
    "duration": 18,
    "start_time": "2022-05-25T16:36:30.687Z"
   },
   {
    "duration": 28,
    "start_time": "2022-05-25T16:36:30.707Z"
   },
   {
    "duration": 11,
    "start_time": "2022-05-25T16:36:30.738Z"
   },
   {
    "duration": 58,
    "start_time": "2022-05-25T16:36:30.751Z"
   },
   {
    "duration": 15,
    "start_time": "2022-05-25T16:36:30.811Z"
   },
   {
    "duration": 12,
    "start_time": "2022-05-25T16:36:30.828Z"
   },
   {
    "duration": 41,
    "start_time": "2022-05-25T16:36:30.842Z"
   },
   {
    "duration": 28,
    "start_time": "2022-05-25T16:36:30.885Z"
   },
   {
    "duration": 24,
    "start_time": "2022-05-25T16:36:30.915Z"
   },
   {
    "duration": 18,
    "start_time": "2022-05-25T16:36:30.941Z"
   },
   {
    "duration": 23,
    "start_time": "2022-05-25T16:36:30.967Z"
   },
   {
    "duration": 28,
    "start_time": "2022-05-25T16:36:30.993Z"
   },
   {
    "duration": 31,
    "start_time": "2022-05-25T16:36:31.024Z"
   },
   {
    "duration": 42,
    "start_time": "2022-05-25T16:36:31.061Z"
   },
   {
    "duration": 22,
    "start_time": "2022-05-25T16:36:31.105Z"
   },
   {
    "duration": 69,
    "start_time": "2022-05-25T16:36:31.129Z"
   },
   {
    "duration": 31,
    "start_time": "2022-05-25T16:36:31.200Z"
   },
   {
    "duration": 46,
    "start_time": "2022-05-25T16:36:31.239Z"
   },
   {
    "duration": 23,
    "start_time": "2022-05-25T16:36:31.287Z"
   },
   {
    "duration": 25,
    "start_time": "2022-05-25T16:36:31.312Z"
   },
   {
    "duration": 12,
    "start_time": "2022-05-25T16:36:31.339Z"
   },
   {
    "duration": 61,
    "start_time": "2022-05-25T16:36:31.353Z"
   },
   {
    "duration": 11,
    "start_time": "2022-05-25T16:36:31.416Z"
   },
   {
    "duration": 46,
    "start_time": "2022-05-25T16:36:31.429Z"
   },
   {
    "duration": 29,
    "start_time": "2022-05-25T16:36:31.477Z"
   },
   {
    "duration": 15,
    "start_time": "2022-05-25T16:36:31.508Z"
   },
   {
    "duration": 14,
    "start_time": "2022-05-25T16:36:31.525Z"
   },
   {
    "duration": 29,
    "start_time": "2022-05-25T16:36:31.541Z"
   },
   {
    "duration": 12,
    "start_time": "2022-05-25T16:36:31.572Z"
   },
   {
    "duration": 34,
    "start_time": "2022-05-25T16:36:31.586Z"
   },
   {
    "duration": 9,
    "start_time": "2022-05-25T16:36:31.622Z"
   },
   {
    "duration": 65,
    "start_time": "2022-05-25T16:36:31.633Z"
   },
   {
    "duration": 9,
    "start_time": "2022-05-25T16:36:31.699Z"
   },
   {
    "duration": 33,
    "start_time": "2022-05-25T16:36:31.709Z"
   },
   {
    "duration": 24,
    "start_time": "2022-05-25T16:36:31.759Z"
   },
   {
    "duration": 18,
    "start_time": "2022-05-25T16:36:31.784Z"
   },
   {
    "duration": 12,
    "start_time": "2022-05-25T16:36:31.804Z"
   },
   {
    "duration": 7,
    "start_time": "2022-05-25T16:36:31.818Z"
   },
   {
    "duration": 8,
    "start_time": "2022-05-25T16:36:31.852Z"
   },
   {
    "duration": 28,
    "start_time": "2022-05-25T16:36:31.862Z"
   },
   {
    "duration": 16,
    "start_time": "2022-05-25T16:36:31.892Z"
   },
   {
    "duration": 20,
    "start_time": "2022-05-25T16:36:31.910Z"
   },
   {
    "duration": 55,
    "start_time": "2022-05-25T16:36:31.932Z"
   },
   {
    "duration": 12,
    "start_time": "2022-05-25T16:36:31.989Z"
   },
   {
    "duration": 29,
    "start_time": "2022-05-25T16:36:32.004Z"
   },
   {
    "duration": 6,
    "start_time": "2022-05-25T16:36:32.036Z"
   },
   {
    "duration": 42,
    "start_time": "2022-05-25T16:36:32.044Z"
   },
   {
    "duration": 13,
    "start_time": "2022-05-25T16:36:32.088Z"
   },
   {
    "duration": 137,
    "start_time": "2022-05-25T16:36:32.103Z"
   },
   {
    "duration": 28,
    "start_time": "2022-05-25T16:36:32.241Z"
   },
   {
    "duration": 8,
    "start_time": "2022-05-25T16:36:32.271Z"
   },
   {
    "duration": 28,
    "start_time": "2022-05-25T16:36:32.280Z"
   },
   {
    "duration": 7,
    "start_time": "2022-05-25T16:36:32.310Z"
   },
   {
    "duration": 41,
    "start_time": "2022-05-25T16:36:32.319Z"
   },
   {
    "duration": 10,
    "start_time": "2022-05-25T16:36:32.369Z"
   },
   {
    "duration": 428,
    "start_time": "2022-05-25T16:36:32.381Z"
   },
   {
    "duration": 9,
    "start_time": "2022-05-25T16:36:32.811Z"
   },
   {
    "duration": 418,
    "start_time": "2022-05-25T16:36:32.821Z"
   },
   {
    "duration": 23,
    "start_time": "2022-05-25T16:36:33.241Z"
   },
   {
    "duration": 12,
    "start_time": "2022-05-25T16:36:33.266Z"
   },
   {
    "duration": 398,
    "start_time": "2022-05-25T16:36:33.280Z"
   },
   {
    "duration": 7,
    "start_time": "2022-05-25T16:36:33.681Z"
   },
   {
    "duration": 16,
    "start_time": "2022-05-25T16:36:33.690Z"
   },
   {
    "duration": 14,
    "start_time": "2022-05-25T16:36:33.707Z"
   },
   {
    "duration": 420,
    "start_time": "2022-05-25T16:36:33.723Z"
   },
   {
    "duration": 386,
    "start_time": "2022-05-25T16:36:34.145Z"
   },
   {
    "duration": 20,
    "start_time": "2022-05-25T16:36:34.533Z"
   },
   {
    "duration": 350,
    "start_time": "2022-05-25T16:36:34.556Z"
   },
   {
    "duration": 250,
    "start_time": "2022-05-25T16:36:34.907Z"
   },
   {
    "duration": 129,
    "start_time": "2022-05-25T16:36:35.159Z"
   },
   {
    "duration": 780,
    "start_time": "2022-05-25T16:36:35.291Z"
   },
   {
    "duration": 8,
    "start_time": "2022-05-25T16:36:36.078Z"
   },
   {
    "duration": 20,
    "start_time": "2022-05-25T16:36:36.090Z"
   },
   {
    "duration": 10,
    "start_time": "2022-05-25T16:36:36.152Z"
   },
   {
    "duration": 34,
    "start_time": "2022-05-25T16:36:36.164Z"
   },
   {
    "duration": 33,
    "start_time": "2022-05-25T16:37:28.838Z"
   },
   {
    "duration": 20,
    "start_time": "2022-05-25T16:37:36.963Z"
   },
   {
    "duration": 31,
    "start_time": "2022-05-25T16:37:46.737Z"
   },
   {
    "duration": 408,
    "start_time": "2022-05-25T16:38:40.000Z"
   },
   {
    "duration": 7,
    "start_time": "2022-05-25T16:38:53.812Z"
   },
   {
    "duration": 7,
    "start_time": "2022-05-25T16:38:58.691Z"
   },
   {
    "duration": 5,
    "start_time": "2022-05-25T16:40:20.136Z"
   },
   {
    "duration": 42,
    "start_time": "2022-05-25T16:40:42.620Z"
   },
   {
    "duration": 6,
    "start_time": "2022-05-25T16:40:50.474Z"
   },
   {
    "duration": 7,
    "start_time": "2022-05-25T16:41:11.550Z"
   },
   {
    "duration": 6,
    "start_time": "2022-05-25T16:41:36.915Z"
   },
   {
    "duration": 10,
    "start_time": "2022-05-25T16:41:40.303Z"
   },
   {
    "duration": 7,
    "start_time": "2022-05-25T16:41:59.362Z"
   },
   {
    "duration": 7,
    "start_time": "2022-05-25T16:42:03.670Z"
   },
   {
    "duration": 6,
    "start_time": "2022-05-25T16:42:13.594Z"
   },
   {
    "duration": 8,
    "start_time": "2022-05-25T16:42:15.596Z"
   },
   {
    "duration": 7,
    "start_time": "2022-05-25T16:42:21.865Z"
   },
   {
    "duration": 11,
    "start_time": "2022-05-25T16:42:34.411Z"
   },
   {
    "duration": 11,
    "start_time": "2022-05-25T16:43:20.946Z"
   },
   {
    "duration": 6,
    "start_time": "2022-05-25T16:43:22.473Z"
   },
   {
    "duration": 13,
    "start_time": "2022-05-25T16:43:24.188Z"
   },
   {
    "duration": 4,
    "start_time": "2022-05-25T16:44:30.388Z"
   },
   {
    "duration": 5,
    "start_time": "2022-05-25T16:44:53.791Z"
   },
   {
    "duration": 14,
    "start_time": "2022-05-25T16:45:55.248Z"
   },
   {
    "duration": 6,
    "start_time": "2022-05-25T16:46:10.873Z"
   },
   {
    "duration": 415,
    "start_time": "2022-05-25T16:47:57.514Z"
   },
   {
    "duration": 431,
    "start_time": "2022-05-25T16:48:15.907Z"
   },
   {
    "duration": 451,
    "start_time": "2022-05-25T16:49:03.728Z"
   },
   {
    "duration": 620,
    "start_time": "2022-05-25T16:49:11.978Z"
   },
   {
    "duration": 187,
    "start_time": "2022-05-25T16:49:47.873Z"
   },
   {
    "duration": 203,
    "start_time": "2022-05-25T16:51:32.680Z"
   },
   {
    "duration": 183,
    "start_time": "2022-05-25T16:56:50.589Z"
   },
   {
    "duration": 243,
    "start_time": "2022-05-25T16:57:01.019Z"
   },
   {
    "duration": 232,
    "start_time": "2022-05-25T16:57:05.314Z"
   },
   {
    "duration": 254,
    "start_time": "2022-05-25T16:57:11.077Z"
   },
   {
    "duration": 254,
    "start_time": "2022-05-25T16:57:14.791Z"
   },
   {
    "duration": 325,
    "start_time": "2022-05-25T16:57:18.257Z"
   },
   {
    "duration": 200,
    "start_time": "2022-05-25T16:57:22.934Z"
   },
   {
    "duration": 249,
    "start_time": "2022-05-25T16:57:26.333Z"
   },
   {
    "duration": 458,
    "start_time": "2022-05-25T16:57:33.471Z"
   },
   {
    "duration": 442,
    "start_time": "2022-05-25T16:57:43.899Z"
   },
   {
    "duration": 537,
    "start_time": "2022-05-25T16:58:24.824Z"
   },
   {
    "duration": 555,
    "start_time": "2022-05-25T16:58:50.246Z"
   },
   {
    "duration": 71,
    "start_time": "2022-05-27T12:11:55.922Z"
   },
   {
    "duration": 1886,
    "start_time": "2022-05-27T12:12:00.574Z"
   },
   {
    "duration": 1411,
    "start_time": "2022-05-27T12:12:02.464Z"
   },
   {
    "duration": 16,
    "start_time": "2022-05-27T12:12:03.877Z"
   },
   {
    "duration": 30,
    "start_time": "2022-05-27T12:12:03.896Z"
   },
   {
    "duration": 5,
    "start_time": "2022-05-27T12:12:03.928Z"
   },
   {
    "duration": 11,
    "start_time": "2022-05-27T12:12:03.935Z"
   },
   {
    "duration": 8,
    "start_time": "2022-05-27T12:12:03.948Z"
   },
   {
    "duration": 12,
    "start_time": "2022-05-27T12:12:03.958Z"
   },
   {
    "duration": 9,
    "start_time": "2022-05-27T12:12:03.972Z"
   },
   {
    "duration": 5,
    "start_time": "2022-05-27T12:12:03.984Z"
   },
   {
    "duration": 5,
    "start_time": "2022-05-27T12:12:04.005Z"
   },
   {
    "duration": 12,
    "start_time": "2022-05-27T12:12:04.018Z"
   },
   {
    "duration": 10,
    "start_time": "2022-05-27T12:12:04.032Z"
   },
   {
    "duration": 6,
    "start_time": "2022-05-27T12:12:04.044Z"
   },
   {
    "duration": 23,
    "start_time": "2022-05-27T12:12:04.052Z"
   },
   {
    "duration": 7,
    "start_time": "2022-05-27T12:12:04.077Z"
   },
   {
    "duration": 5,
    "start_time": "2022-05-27T12:12:04.104Z"
   },
   {
    "duration": 22,
    "start_time": "2022-05-27T12:12:04.112Z"
   },
   {
    "duration": 16,
    "start_time": "2022-05-27T12:12:04.136Z"
   },
   {
    "duration": 22,
    "start_time": "2022-05-27T12:12:04.154Z"
   },
   {
    "duration": 27,
    "start_time": "2022-05-27T12:12:04.178Z"
   },
   {
    "duration": 11,
    "start_time": "2022-05-27T12:12:04.207Z"
   },
   {
    "duration": 18,
    "start_time": "2022-05-27T12:12:04.220Z"
   },
   {
    "duration": 13,
    "start_time": "2022-05-27T12:12:04.240Z"
   },
   {
    "duration": 7,
    "start_time": "2022-05-27T12:12:04.254Z"
   },
   {
    "duration": 13,
    "start_time": "2022-05-27T12:12:04.262Z"
   },
   {
    "duration": 44,
    "start_time": "2022-05-27T12:12:04.277Z"
   },
   {
    "duration": 9,
    "start_time": "2022-05-27T12:12:04.336Z"
   },
   {
    "duration": 23,
    "start_time": "2022-05-27T12:12:04.347Z"
   },
   {
    "duration": 16,
    "start_time": "2022-05-27T12:12:04.372Z"
   },
   {
    "duration": 49,
    "start_time": "2022-05-27T12:12:04.390Z"
   },
   {
    "duration": 39,
    "start_time": "2022-05-27T12:12:04.441Z"
   },
   {
    "duration": 45,
    "start_time": "2022-05-27T12:12:04.482Z"
   },
   {
    "duration": 15,
    "start_time": "2022-05-27T12:12:04.530Z"
   },
   {
    "duration": 27,
    "start_time": "2022-05-27T12:12:04.548Z"
   },
   {
    "duration": 44,
    "start_time": "2022-05-27T12:12:04.577Z"
   },
   {
    "duration": 22,
    "start_time": "2022-05-27T12:12:04.623Z"
   },
   {
    "duration": 14,
    "start_time": "2022-05-27T12:12:04.647Z"
   },
   {
    "duration": 5,
    "start_time": "2022-05-27T12:12:04.664Z"
   },
   {
    "duration": 8,
    "start_time": "2022-05-27T12:12:04.671Z"
   },
   {
    "duration": 81,
    "start_time": "2022-05-27T12:12:04.681Z"
   },
   {
    "duration": 11,
    "start_time": "2022-05-27T12:12:04.765Z"
   },
   {
    "duration": 100,
    "start_time": "2022-05-27T12:12:04.779Z"
   },
   {
    "duration": 9,
    "start_time": "2022-05-27T12:12:04.881Z"
   },
   {
    "duration": 66,
    "start_time": "2022-05-27T12:12:04.892Z"
   },
   {
    "duration": 25,
    "start_time": "2022-05-27T12:12:04.959Z"
   },
   {
    "duration": 45,
    "start_time": "2022-05-27T12:12:04.985Z"
   },
   {
    "duration": 14,
    "start_time": "2022-05-27T12:12:05.032Z"
   },
   {
    "duration": 16,
    "start_time": "2022-05-27T12:12:05.048Z"
   },
   {
    "duration": 7,
    "start_time": "2022-05-27T12:12:05.066Z"
   },
   {
    "duration": 29,
    "start_time": "2022-05-27T12:12:05.074Z"
   },
   {
    "duration": 29,
    "start_time": "2022-05-27T12:12:05.106Z"
   },
   {
    "duration": 4,
    "start_time": "2022-05-27T12:12:05.137Z"
   },
   {
    "duration": 26,
    "start_time": "2022-05-27T12:12:05.143Z"
   },
   {
    "duration": 11,
    "start_time": "2022-05-27T12:12:05.170Z"
   },
   {
    "duration": 33,
    "start_time": "2022-05-27T12:12:05.184Z"
   },
   {
    "duration": 42,
    "start_time": "2022-05-27T12:12:05.219Z"
   },
   {
    "duration": 24,
    "start_time": "2022-05-27T12:12:05.263Z"
   },
   {
    "duration": 6,
    "start_time": "2022-05-27T12:12:05.289Z"
   },
   {
    "duration": 137,
    "start_time": "2022-05-27T12:12:05.297Z"
   },
   {
    "duration": 17,
    "start_time": "2022-05-27T12:12:05.436Z"
   },
   {
    "duration": 10,
    "start_time": "2022-05-27T12:12:05.455Z"
   },
   {
    "duration": 54,
    "start_time": "2022-05-27T12:12:05.466Z"
   },
   {
    "duration": 10,
    "start_time": "2022-05-27T12:12:05.523Z"
   },
   {
    "duration": 13,
    "start_time": "2022-05-27T12:12:05.535Z"
   },
   {
    "duration": 9,
    "start_time": "2022-05-27T12:12:05.550Z"
   },
   {
    "duration": 531,
    "start_time": "2022-05-27T12:12:05.561Z"
   },
   {
    "duration": 15,
    "start_time": "2022-05-27T12:12:06.094Z"
   },
   {
    "duration": 426,
    "start_time": "2022-05-27T12:12:06.111Z"
   },
   {
    "duration": 9,
    "start_time": "2022-05-27T12:12:06.539Z"
   },
   {
    "duration": 13,
    "start_time": "2022-05-27T12:12:06.550Z"
   },
   {
    "duration": 401,
    "start_time": "2022-05-27T12:12:06.565Z"
   },
   {
    "duration": 7,
    "start_time": "2022-05-27T12:12:06.968Z"
   },
   {
    "duration": 42,
    "start_time": "2022-05-27T12:12:06.977Z"
   },
   {
    "duration": 9,
    "start_time": "2022-05-27T12:12:07.021Z"
   },
   {
    "duration": 437,
    "start_time": "2022-05-27T12:12:07.032Z"
   },
   {
    "duration": 410,
    "start_time": "2022-05-27T12:12:07.471Z"
   },
   {
    "duration": 9,
    "start_time": "2022-05-27T12:12:07.882Z"
   },
   {
    "duration": 354,
    "start_time": "2022-05-27T12:12:07.905Z"
   },
   {
    "duration": 8,
    "start_time": "2022-05-27T12:12:08.260Z"
   },
   {
    "duration": 12,
    "start_time": "2022-05-27T12:12:08.270Z"
   },
   {
    "duration": 21,
    "start_time": "2022-05-27T12:12:08.310Z"
   },
   {
    "duration": 493,
    "start_time": "2022-05-27T12:12:08.333Z"
   },
   {
    "duration": 36,
    "start_time": "2022-05-27T12:12:08.831Z"
   },
   {
    "duration": 109,
    "start_time": "2022-05-27T12:12:08.869Z"
   },
   {
    "duration": 115,
    "start_time": "2022-05-27T12:12:08.980Z"
   },
   {
    "duration": 452,
    "start_time": "2022-05-27T12:12:09.107Z"
   },
   {
    "duration": 6,
    "start_time": "2022-05-27T12:12:09.560Z"
   },
   {
    "duration": 14,
    "start_time": "2022-05-27T12:12:09.568Z"
   },
   {
    "duration": 31,
    "start_time": "2022-05-27T12:12:09.585Z"
   },
   {
    "duration": 10,
    "start_time": "2022-05-27T12:12:09.621Z"
   },
   {
    "duration": 37,
    "start_time": "2022-05-27T12:12:27.497Z"
   },
   {
    "duration": 17,
    "start_time": "2022-05-27T12:13:13.225Z"
   },
   {
    "duration": 9,
    "start_time": "2022-05-27T12:13:42.318Z"
   },
   {
    "duration": 6,
    "start_time": "2022-05-27T12:15:11.353Z"
   },
   {
    "duration": 8,
    "start_time": "2022-05-27T12:15:17.017Z"
   },
   {
    "duration": 320,
    "start_time": "2022-05-27T12:16:41.403Z"
   },
   {
    "duration": 98,
    "start_time": "2022-05-27T12:17:29.269Z"
   },
   {
    "duration": 126,
    "start_time": "2022-05-27T12:17:49.497Z"
   },
   {
    "duration": 237,
    "start_time": "2022-05-27T12:18:33.258Z"
   },
   {
    "duration": 89,
    "start_time": "2022-05-27T12:18:51.730Z"
   },
   {
    "duration": 155,
    "start_time": "2022-05-27T12:19:17.450Z"
   },
   {
    "duration": 5,
    "start_time": "2022-05-27T12:21:02.132Z"
   },
   {
    "duration": 227,
    "start_time": "2022-05-27T12:22:14.848Z"
   },
   {
    "duration": 185,
    "start_time": "2022-05-27T12:22:25.751Z"
   },
   {
    "duration": 190,
    "start_time": "2022-05-27T12:23:37.152Z"
   },
   {
    "duration": 191,
    "start_time": "2022-05-27T12:23:53.927Z"
   },
   {
    "duration": 179,
    "start_time": "2022-05-27T12:24:16.167Z"
   },
   {
    "duration": 266,
    "start_time": "2022-05-27T12:24:19.492Z"
   },
   {
    "duration": 167,
    "start_time": "2022-05-27T12:25:29.163Z"
   },
   {
    "duration": 342,
    "start_time": "2022-05-27T12:26:34.193Z"
   },
   {
    "duration": 311,
    "start_time": "2022-05-27T12:26:54.131Z"
   },
   {
    "duration": 289,
    "start_time": "2022-05-27T12:27:00.169Z"
   },
   {
    "duration": 287,
    "start_time": "2022-05-27T12:27:27.146Z"
   },
   {
    "duration": 330,
    "start_time": "2022-05-27T12:28:22.142Z"
   },
   {
    "duration": 292,
    "start_time": "2022-05-27T12:28:39.637Z"
   },
   {
    "duration": 227,
    "start_time": "2022-05-27T12:28:51.235Z"
   },
   {
    "duration": 381,
    "start_time": "2022-05-27T12:29:01.238Z"
   },
   {
    "duration": 320,
    "start_time": "2022-05-27T12:29:27.627Z"
   },
   {
    "duration": 202,
    "start_time": "2022-05-27T12:32:50.840Z"
   },
   {
    "duration": 480,
    "start_time": "2022-05-27T12:32:59.377Z"
   },
   {
    "duration": 4,
    "start_time": "2022-05-27T12:35:24.630Z"
   },
   {
    "duration": 13,
    "start_time": "2022-05-27T12:36:29.214Z"
   },
   {
    "duration": 11,
    "start_time": "2022-05-27T12:36:33.268Z"
   },
   {
    "duration": 4,
    "start_time": "2022-05-27T12:36:49.598Z"
   },
   {
    "duration": 15,
    "start_time": "2022-05-27T12:36:51.294Z"
   },
   {
    "duration": 7,
    "start_time": "2022-05-27T12:37:03.077Z"
   },
   {
    "duration": 11,
    "start_time": "2022-05-27T12:37:25.169Z"
   },
   {
    "duration": 14,
    "start_time": "2022-05-27T12:37:41.699Z"
   },
   {
    "duration": 49,
    "start_time": "2022-05-27T12:37:56.780Z"
   },
   {
    "duration": 548,
    "start_time": "2022-05-27T12:38:00.452Z"
   },
   {
    "duration": 484,
    "start_time": "2022-05-27T12:38:04.780Z"
   },
   {
    "duration": 6,
    "start_time": "2022-05-27T12:38:10.280Z"
   },
   {
    "duration": 13,
    "start_time": "2022-05-27T12:40:33.406Z"
   },
   {
    "duration": 7,
    "start_time": "2022-05-27T12:40:36.435Z"
   },
   {
    "duration": 6,
    "start_time": "2022-05-27T12:40:47.462Z"
   },
   {
    "duration": 6,
    "start_time": "2022-05-27T12:40:52.565Z"
   },
   {
    "duration": 64,
    "start_time": "2022-05-27T12:41:01.312Z"
   },
   {
    "duration": 9,
    "start_time": "2022-05-27T12:55:59.499Z"
   },
   {
    "duration": 9,
    "start_time": "2022-05-27T12:56:04.370Z"
   },
   {
    "duration": 11,
    "start_time": "2022-05-27T12:56:53.828Z"
   },
   {
    "duration": 13,
    "start_time": "2022-05-27T12:56:57.178Z"
   },
   {
    "duration": 10,
    "start_time": "2022-05-27T12:57:09.792Z"
   },
   {
    "duration": 12,
    "start_time": "2022-05-27T12:57:21.757Z"
   },
   {
    "duration": 30,
    "start_time": "2022-05-27T12:58:08.200Z"
   },
   {
    "duration": 10,
    "start_time": "2022-05-27T12:58:36.870Z"
   },
   {
    "duration": 5,
    "start_time": "2022-05-27T12:58:50.766Z"
   },
   {
    "duration": 13,
    "start_time": "2022-05-27T13:00:05.626Z"
   },
   {
    "duration": 9,
    "start_time": "2022-05-27T13:00:17.866Z"
   },
   {
    "duration": 8,
    "start_time": "2022-05-27T13:00:47.729Z"
   },
   {
    "duration": 7,
    "start_time": "2022-05-27T13:00:52.525Z"
   },
   {
    "duration": 7,
    "start_time": "2022-05-27T13:02:13.655Z"
   },
   {
    "duration": 20,
    "start_time": "2022-05-27T13:02:20.515Z"
   },
   {
    "duration": 9,
    "start_time": "2022-05-27T13:02:47.749Z"
   },
   {
    "duration": 9,
    "start_time": "2022-05-27T13:03:17.925Z"
   },
   {
    "duration": 383,
    "start_time": "2022-05-27T13:05:01.752Z"
   },
   {
    "duration": 305,
    "start_time": "2022-05-27T13:05:27.230Z"
   },
   {
    "duration": 70,
    "start_time": "2022-05-27T13:05:47.163Z"
   },
   {
    "duration": 38,
    "start_time": "2022-05-27T13:06:03.131Z"
   },
   {
    "duration": 227,
    "start_time": "2022-05-27T13:06:06.826Z"
   },
   {
    "duration": 10,
    "start_time": "2022-05-27T13:06:48.348Z"
   },
   {
    "duration": 7,
    "start_time": "2022-05-27T13:07:03.472Z"
   },
   {
    "duration": 178,
    "start_time": "2022-05-27T13:13:27.377Z"
   },
   {
    "duration": 202,
    "start_time": "2022-05-27T13:13:55.927Z"
   },
   {
    "duration": 7,
    "start_time": "2022-05-27T13:14:21.973Z"
   },
   {
    "duration": 12,
    "start_time": "2022-05-27T13:15:21.749Z"
   },
   {
    "duration": 127,
    "start_time": "2022-05-27T13:15:38.091Z"
   },
   {
    "duration": 191,
    "start_time": "2022-05-27T13:16:02.331Z"
   },
   {
    "duration": 369,
    "start_time": "2022-05-27T13:17:33.967Z"
   },
   {
    "duration": 629,
    "start_time": "2022-05-27T13:17:54.326Z"
   },
   {
    "duration": 348,
    "start_time": "2022-05-27T13:18:08.279Z"
   },
   {
    "duration": 1381,
    "start_time": "2022-05-28T10:40:40.129Z"
   },
   {
    "duration": 503,
    "start_time": "2022-05-28T10:40:41.512Z"
   },
   {
    "duration": 14,
    "start_time": "2022-05-28T10:40:42.018Z"
   },
   {
    "duration": 13,
    "start_time": "2022-05-28T10:40:42.035Z"
   },
   {
    "duration": 26,
    "start_time": "2022-05-28T10:40:42.051Z"
   },
   {
    "duration": 18,
    "start_time": "2022-05-28T10:40:42.086Z"
   },
   {
    "duration": 8,
    "start_time": "2022-05-28T10:40:42.106Z"
   },
   {
    "duration": 8,
    "start_time": "2022-05-28T10:40:42.117Z"
   },
   {
    "duration": 6,
    "start_time": "2022-05-28T10:40:42.127Z"
   },
   {
    "duration": 6,
    "start_time": "2022-05-28T10:40:42.137Z"
   },
   {
    "duration": 7,
    "start_time": "2022-05-28T10:40:42.145Z"
   },
   {
    "duration": 13,
    "start_time": "2022-05-28T10:40:42.155Z"
   },
   {
    "duration": 24,
    "start_time": "2022-05-28T10:40:42.175Z"
   },
   {
    "duration": 14,
    "start_time": "2022-05-28T10:40:42.202Z"
   },
   {
    "duration": 35,
    "start_time": "2022-05-28T10:40:42.218Z"
   },
   {
    "duration": 8,
    "start_time": "2022-05-28T10:40:42.255Z"
   },
   {
    "duration": 28,
    "start_time": "2022-05-28T10:40:42.265Z"
   },
   {
    "duration": 12,
    "start_time": "2022-05-28T10:40:42.295Z"
   },
   {
    "duration": 17,
    "start_time": "2022-05-28T10:40:42.309Z"
   },
   {
    "duration": 17,
    "start_time": "2022-05-28T10:40:42.327Z"
   },
   {
    "duration": 15,
    "start_time": "2022-05-28T10:40:42.346Z"
   },
   {
    "duration": 34,
    "start_time": "2022-05-28T10:40:42.363Z"
   },
   {
    "duration": 4,
    "start_time": "2022-05-28T10:40:42.399Z"
   },
   {
    "duration": 13,
    "start_time": "2022-05-28T10:40:42.405Z"
   },
   {
    "duration": 8,
    "start_time": "2022-05-28T10:40:42.419Z"
   },
   {
    "duration": 19,
    "start_time": "2022-05-28T10:40:42.429Z"
   },
   {
    "duration": 32,
    "start_time": "2022-05-28T10:40:42.450Z"
   },
   {
    "duration": 9,
    "start_time": "2022-05-28T10:40:42.488Z"
   },
   {
    "duration": 28,
    "start_time": "2022-05-28T10:40:42.499Z"
   },
   {
    "duration": 16,
    "start_time": "2022-05-28T10:40:42.529Z"
   },
   {
    "duration": 49,
    "start_time": "2022-05-28T10:40:42.547Z"
   },
   {
    "duration": 14,
    "start_time": "2022-05-28T10:40:42.598Z"
   },
   {
    "duration": 30,
    "start_time": "2022-05-28T10:40:42.614Z"
   },
   {
    "duration": 36,
    "start_time": "2022-05-28T10:40:42.647Z"
   },
   {
    "duration": 27,
    "start_time": "2022-05-28T10:40:42.685Z"
   },
   {
    "duration": 18,
    "start_time": "2022-05-28T10:40:42.714Z"
   },
   {
    "duration": 33,
    "start_time": "2022-05-28T10:40:42.734Z"
   },
   {
    "duration": 12,
    "start_time": "2022-05-28T10:40:42.769Z"
   },
   {
    "duration": 13,
    "start_time": "2022-05-28T10:40:42.783Z"
   },
   {
    "duration": 6,
    "start_time": "2022-05-28T10:40:42.799Z"
   },
   {
    "duration": 39,
    "start_time": "2022-05-28T10:40:42.807Z"
   },
   {
    "duration": 10,
    "start_time": "2022-05-28T10:40:42.848Z"
   },
   {
    "duration": 95,
    "start_time": "2022-05-28T10:40:42.859Z"
   },
   {
    "duration": 9,
    "start_time": "2022-05-28T10:40:42.956Z"
   },
   {
    "duration": 57,
    "start_time": "2022-05-28T10:40:42.967Z"
   },
   {
    "duration": 24,
    "start_time": "2022-05-28T10:40:43.026Z"
   },
   {
    "duration": 40,
    "start_time": "2022-05-28T10:40:43.052Z"
   },
   {
    "duration": 16,
    "start_time": "2022-05-28T10:40:43.094Z"
   },
   {
    "duration": 29,
    "start_time": "2022-05-28T10:40:43.112Z"
   },
   {
    "duration": 7,
    "start_time": "2022-05-28T10:40:43.143Z"
   },
   {
    "duration": 8,
    "start_time": "2022-05-28T10:40:43.152Z"
   },
   {
    "duration": 31,
    "start_time": "2022-05-28T10:40:43.161Z"
   },
   {
    "duration": 8,
    "start_time": "2022-05-28T10:40:43.194Z"
   },
   {
    "duration": 39,
    "start_time": "2022-05-28T10:40:43.204Z"
   },
   {
    "duration": 10,
    "start_time": "2022-05-28T10:40:43.245Z"
   },
   {
    "duration": 24,
    "start_time": "2022-05-28T10:40:43.257Z"
   },
   {
    "duration": 12,
    "start_time": "2022-05-28T10:40:43.283Z"
   },
   {
    "duration": 16,
    "start_time": "2022-05-28T10:40:43.297Z"
   },
   {
    "duration": 10,
    "start_time": "2022-05-28T10:40:43.314Z"
   },
   {
    "duration": 123,
    "start_time": "2022-05-28T10:40:43.326Z"
   },
   {
    "duration": 32,
    "start_time": "2022-05-28T10:40:43.451Z"
   },
   {
    "duration": 4,
    "start_time": "2022-05-28T10:40:43.485Z"
   },
   {
    "duration": 28,
    "start_time": "2022-05-28T10:40:43.491Z"
   },
   {
    "duration": 8,
    "start_time": "2022-05-28T10:40:43.521Z"
   },
   {
    "duration": 46,
    "start_time": "2022-05-28T10:40:43.531Z"
   },
   {
    "duration": 13,
    "start_time": "2022-05-28T10:40:43.579Z"
   },
   {
    "duration": 511,
    "start_time": "2022-05-28T10:40:43.594Z"
   },
   {
    "duration": 9,
    "start_time": "2022-05-28T10:40:44.107Z"
   },
   {
    "duration": 425,
    "start_time": "2022-05-28T10:40:44.118Z"
   },
   {
    "duration": 7,
    "start_time": "2022-05-28T10:40:44.545Z"
   },
   {
    "duration": 33,
    "start_time": "2022-05-28T10:40:44.554Z"
   },
   {
    "duration": 406,
    "start_time": "2022-05-28T10:40:44.592Z"
   },
   {
    "duration": 7,
    "start_time": "2022-05-28T10:40:45.000Z"
   },
   {
    "duration": 22,
    "start_time": "2022-05-28T10:40:45.009Z"
   },
   {
    "duration": 21,
    "start_time": "2022-05-28T10:40:45.032Z"
   },
   {
    "duration": 401,
    "start_time": "2022-05-28T10:40:45.066Z"
   },
   {
    "duration": 375,
    "start_time": "2022-05-28T10:40:45.469Z"
   },
   {
    "duration": 8,
    "start_time": "2022-05-28T10:40:45.846Z"
   },
   {
    "duration": 383,
    "start_time": "2022-05-28T10:40:45.867Z"
   },
   {
    "duration": 16,
    "start_time": "2022-05-28T10:40:46.252Z"
   },
   {
    "duration": 30,
    "start_time": "2022-05-28T10:40:46.270Z"
   },
   {
    "duration": 14,
    "start_time": "2022-05-28T10:40:46.309Z"
   },
   {
    "duration": 404,
    "start_time": "2022-05-28T10:40:46.325Z"
   },
   {
    "duration": 239,
    "start_time": "2022-05-28T10:40:46.731Z"
   },
   {
    "duration": 330,
    "start_time": "2022-05-28T10:40:46.975Z"
   },
   {
    "duration": 10,
    "start_time": "2022-05-28T10:40:47.308Z"
   },
   {
    "duration": 150,
    "start_time": "2022-05-28T10:40:47.321Z"
   },
   {
    "duration": 117,
    "start_time": "2022-05-28T10:40:47.474Z"
   },
   {
    "duration": 547,
    "start_time": "2022-05-28T10:40:47.594Z"
   },
   {
    "duration": 6,
    "start_time": "2022-05-28T10:40:48.143Z"
   },
   {
    "duration": 20,
    "start_time": "2022-05-28T10:40:48.170Z"
   },
   {
    "duration": 9,
    "start_time": "2022-05-28T10:40:48.192Z"
   },
   {
    "duration": 11,
    "start_time": "2022-05-28T10:40:48.203Z"
   },
   {
    "duration": 1512,
    "start_time": "2022-05-29T10:24:53.764Z"
   },
   {
    "duration": 1703,
    "start_time": "2022-05-29T10:24:55.278Z"
   },
   {
    "duration": 20,
    "start_time": "2022-05-29T10:24:56.983Z"
   },
   {
    "duration": 17,
    "start_time": "2022-05-29T10:24:57.005Z"
   },
   {
    "duration": 6,
    "start_time": "2022-05-29T10:24:57.025Z"
   },
   {
    "duration": 31,
    "start_time": "2022-05-29T10:24:57.033Z"
   },
   {
    "duration": 15,
    "start_time": "2022-05-29T10:24:57.066Z"
   },
   {
    "duration": 12,
    "start_time": "2022-05-29T10:24:57.083Z"
   },
   {
    "duration": 9,
    "start_time": "2022-05-29T10:24:57.097Z"
   },
   {
    "duration": 17,
    "start_time": "2022-05-29T10:24:57.108Z"
   },
   {
    "duration": 30,
    "start_time": "2022-05-29T10:24:57.127Z"
   },
   {
    "duration": 15,
    "start_time": "2022-05-29T10:24:57.163Z"
   },
   {
    "duration": 14,
    "start_time": "2022-05-29T10:24:57.180Z"
   },
   {
    "duration": 8,
    "start_time": "2022-05-29T10:24:57.199Z"
   },
   {
    "duration": 28,
    "start_time": "2022-05-29T10:24:57.209Z"
   },
   {
    "duration": 24,
    "start_time": "2022-05-29T10:24:57.239Z"
   },
   {
    "duration": 10,
    "start_time": "2022-05-29T10:24:57.265Z"
   },
   {
    "duration": 15,
    "start_time": "2022-05-29T10:24:57.277Z"
   },
   {
    "duration": 23,
    "start_time": "2022-05-29T10:24:57.294Z"
   },
   {
    "duration": 17,
    "start_time": "2022-05-29T10:24:57.318Z"
   },
   {
    "duration": 6,
    "start_time": "2022-05-29T10:24:57.338Z"
   },
   {
    "duration": 32,
    "start_time": "2022-05-29T10:24:57.346Z"
   },
   {
    "duration": 4,
    "start_time": "2022-05-29T10:24:57.380Z"
   },
   {
    "duration": 11,
    "start_time": "2022-05-29T10:24:57.385Z"
   },
   {
    "duration": 7,
    "start_time": "2022-05-29T10:24:57.398Z"
   },
   {
    "duration": 11,
    "start_time": "2022-05-29T10:24:57.407Z"
   },
   {
    "duration": 48,
    "start_time": "2022-05-29T10:24:57.420Z"
   },
   {
    "duration": 7,
    "start_time": "2022-05-29T10:24:57.469Z"
   },
   {
    "duration": 19,
    "start_time": "2022-05-29T10:24:57.478Z"
   },
   {
    "duration": 15,
    "start_time": "2022-05-29T10:24:57.498Z"
   },
   {
    "duration": 54,
    "start_time": "2022-05-29T10:24:57.515Z"
   },
   {
    "duration": 8,
    "start_time": "2022-05-29T10:24:57.573Z"
   },
   {
    "duration": 31,
    "start_time": "2022-05-29T10:24:57.583Z"
   },
   {
    "duration": 9,
    "start_time": "2022-05-29T10:24:57.616Z"
   },
   {
    "duration": 32,
    "start_time": "2022-05-29T10:24:57.642Z"
   },
   {
    "duration": 15,
    "start_time": "2022-05-29T10:24:57.676Z"
   },
   {
    "duration": 18,
    "start_time": "2022-05-29T10:24:57.693Z"
   },
   {
    "duration": 31,
    "start_time": "2022-05-29T10:24:57.712Z"
   },
   {
    "duration": 21,
    "start_time": "2022-05-29T10:24:57.745Z"
   },
   {
    "duration": 4,
    "start_time": "2022-05-29T10:24:57.768Z"
   },
   {
    "duration": 38,
    "start_time": "2022-05-29T10:24:57.780Z"
   },
   {
    "duration": 26,
    "start_time": "2022-05-29T10:24:57.820Z"
   },
   {
    "duration": 61,
    "start_time": "2022-05-29T10:24:57.848Z"
   },
   {
    "duration": 7,
    "start_time": "2022-05-29T10:24:57.911Z"
   },
   {
    "duration": 55,
    "start_time": "2022-05-29T10:24:57.920Z"
   },
   {
    "duration": 22,
    "start_time": "2022-05-29T10:24:57.976Z"
   },
   {
    "duration": 20,
    "start_time": "2022-05-29T10:24:57.999Z"
   },
   {
    "duration": 33,
    "start_time": "2022-05-29T10:24:58.021Z"
   },
   {
    "duration": 12,
    "start_time": "2022-05-29T10:24:58.056Z"
   },
   {
    "duration": 5,
    "start_time": "2022-05-29T10:24:58.070Z"
   },
   {
    "duration": 6,
    "start_time": "2022-05-29T10:24:58.077Z"
   },
   {
    "duration": 10,
    "start_time": "2022-05-29T10:24:58.085Z"
   },
   {
    "duration": 4,
    "start_time": "2022-05-29T10:24:58.097Z"
   },
   {
    "duration": 66,
    "start_time": "2022-05-29T10:24:58.103Z"
   },
   {
    "duration": 10,
    "start_time": "2022-05-29T10:24:58.171Z"
   },
   {
    "duration": 18,
    "start_time": "2022-05-29T10:24:58.183Z"
   },
   {
    "duration": 38,
    "start_time": "2022-05-29T10:24:58.204Z"
   },
   {
    "duration": 25,
    "start_time": "2022-05-29T10:24:58.245Z"
   },
   {
    "duration": 5,
    "start_time": "2022-05-29T10:24:58.272Z"
   },
   {
    "duration": 113,
    "start_time": "2022-05-29T10:24:58.279Z"
   },
   {
    "duration": 15,
    "start_time": "2022-05-29T10:24:58.394Z"
   },
   {
    "duration": 8,
    "start_time": "2022-05-29T10:24:58.411Z"
   },
   {
    "duration": 52,
    "start_time": "2022-05-29T10:24:58.421Z"
   },
   {
    "duration": 9,
    "start_time": "2022-05-29T10:24:58.475Z"
   },
   {
    "duration": 11,
    "start_time": "2022-05-29T10:24:58.485Z"
   },
   {
    "duration": 8,
    "start_time": "2022-05-29T10:24:58.498Z"
   },
   {
    "duration": 510,
    "start_time": "2022-05-29T10:24:58.508Z"
   },
   {
    "duration": 9,
    "start_time": "2022-05-29T10:24:59.020Z"
   },
   {
    "duration": 402,
    "start_time": "2022-05-29T10:24:59.031Z"
   },
   {
    "duration": 13,
    "start_time": "2022-05-29T10:24:59.435Z"
   },
   {
    "duration": 20,
    "start_time": "2022-05-29T10:24:59.450Z"
   },
   {
    "duration": 383,
    "start_time": "2022-05-29T10:24:59.472Z"
   },
   {
    "duration": 8,
    "start_time": "2022-05-29T10:24:59.856Z"
   },
   {
    "duration": 21,
    "start_time": "2022-05-29T10:24:59.866Z"
   },
   {
    "duration": 10,
    "start_time": "2022-05-29T10:24:59.889Z"
   },
   {
    "duration": 405,
    "start_time": "2022-05-29T10:24:59.901Z"
   },
   {
    "duration": 409,
    "start_time": "2022-05-29T10:25:00.308Z"
   },
   {
    "duration": 8,
    "start_time": "2022-05-29T10:25:00.719Z"
   },
   {
    "duration": 365,
    "start_time": "2022-05-29T10:25:00.729Z"
   },
   {
    "duration": 7,
    "start_time": "2022-05-29T10:25:01.096Z"
   },
   {
    "duration": 12,
    "start_time": "2022-05-29T10:25:01.105Z"
   },
   {
    "duration": 51,
    "start_time": "2022-05-29T10:25:01.119Z"
   },
   {
    "duration": 419,
    "start_time": "2022-05-29T10:25:01.172Z"
   },
   {
    "duration": 208,
    "start_time": "2022-05-29T10:25:01.593Z"
   },
   {
    "duration": 403,
    "start_time": "2022-05-29T10:25:01.803Z"
   },
   {
    "duration": 8,
    "start_time": "2022-05-29T10:25:02.209Z"
   },
   {
    "duration": 130,
    "start_time": "2022-05-29T10:25:02.218Z"
   },
   {
    "duration": 115,
    "start_time": "2022-05-29T10:25:02.351Z"
   },
   {
    "duration": 503,
    "start_time": "2022-05-29T10:25:02.467Z"
   },
   {
    "duration": 5,
    "start_time": "2022-05-29T10:25:02.972Z"
   },
   {
    "duration": 11,
    "start_time": "2022-05-29T10:25:02.978Z"
   },
   {
    "duration": 7,
    "start_time": "2022-05-29T10:25:02.991Z"
   },
   {
    "duration": 8,
    "start_time": "2022-05-29T10:25:03.000Z"
   },
   {
    "duration": 488,
    "start_time": "2022-05-29T10:25:28.041Z"
   },
   {
    "duration": 468,
    "start_time": "2022-05-29T10:26:08.190Z"
   },
   {
    "duration": 513,
    "start_time": "2022-05-29T10:26:22.662Z"
   },
   {
    "duration": 241,
    "start_time": "2022-05-29T10:26:57.368Z"
   },
   {
    "duration": 407,
    "start_time": "2022-05-29T10:28:31.847Z"
   },
   {
    "duration": 467,
    "start_time": "2022-05-29T10:28:52.067Z"
   },
   {
    "duration": 609,
    "start_time": "2022-05-29T10:29:21.169Z"
   },
   {
    "duration": 552,
    "start_time": "2022-05-29T10:29:27.116Z"
   },
   {
    "duration": 493,
    "start_time": "2022-05-29T10:30:02.331Z"
   },
   {
    "duration": 563,
    "start_time": "2022-05-29T10:30:07.026Z"
   },
   {
    "duration": 582,
    "start_time": "2022-05-29T10:31:49.047Z"
   },
   {
    "duration": 512,
    "start_time": "2022-05-29T10:31:58.922Z"
   },
   {
    "duration": 159,
    "start_time": "2022-05-29T10:33:54.522Z"
   },
   {
    "duration": 57,
    "start_time": "2022-06-03T13:02:25.633Z"
   },
   {
    "duration": 8,
    "start_time": "2022-06-03T13:13:41.332Z"
   },
   {
    "duration": 1226,
    "start_time": "2022-06-03T13:13:46.610Z"
   },
   {
    "duration": 912,
    "start_time": "2022-06-03T13:13:47.838Z"
   },
   {
    "duration": 14,
    "start_time": "2022-06-03T13:13:48.752Z"
   },
   {
    "duration": 16,
    "start_time": "2022-06-03T13:13:48.768Z"
   },
   {
    "duration": 11,
    "start_time": "2022-06-03T13:13:48.786Z"
   },
   {
    "duration": 10,
    "start_time": "2022-06-03T13:13:48.798Z"
   },
   {
    "duration": 19,
    "start_time": "2022-06-03T13:13:48.809Z"
   },
   {
    "duration": 11,
    "start_time": "2022-06-03T13:13:48.830Z"
   },
   {
    "duration": 14,
    "start_time": "2022-06-03T13:13:48.844Z"
   },
   {
    "duration": 15,
    "start_time": "2022-06-03T13:13:48.862Z"
   },
   {
    "duration": 6,
    "start_time": "2022-06-03T13:13:48.879Z"
   },
   {
    "duration": 8,
    "start_time": "2022-06-03T13:13:48.887Z"
   },
   {
    "duration": 7,
    "start_time": "2022-06-03T13:13:48.896Z"
   },
   {
    "duration": 10,
    "start_time": "2022-06-03T13:13:48.905Z"
   },
   {
    "duration": 5,
    "start_time": "2022-06-03T13:13:48.917Z"
   },
   {
    "duration": 23,
    "start_time": "2022-06-03T13:13:48.923Z"
   },
   {
    "duration": 4,
    "start_time": "2022-06-03T13:13:48.948Z"
   },
   {
    "duration": 7,
    "start_time": "2022-06-03T13:13:48.953Z"
   },
   {
    "duration": 19,
    "start_time": "2022-06-03T13:13:48.961Z"
   },
   {
    "duration": 15,
    "start_time": "2022-06-03T13:13:48.981Z"
   },
   {
    "duration": 17,
    "start_time": "2022-06-03T13:13:48.997Z"
   },
   {
    "duration": 10,
    "start_time": "2022-06-03T13:13:49.016Z"
   },
   {
    "duration": 16,
    "start_time": "2022-06-03T13:13:49.027Z"
   },
   {
    "duration": 3,
    "start_time": "2022-06-03T13:13:49.044Z"
   },
   {
    "duration": 12,
    "start_time": "2022-06-03T13:13:49.049Z"
   },
   {
    "duration": 7,
    "start_time": "2022-06-03T13:13:49.062Z"
   },
   {
    "duration": 13,
    "start_time": "2022-06-03T13:13:49.070Z"
   },
   {
    "duration": 18,
    "start_time": "2022-06-03T13:13:49.088Z"
   },
   {
    "duration": 23,
    "start_time": "2022-06-03T13:13:49.108Z"
   },
   {
    "duration": 22,
    "start_time": "2022-06-03T13:13:49.132Z"
   },
   {
    "duration": 16,
    "start_time": "2022-06-03T13:13:49.155Z"
   },
   {
    "duration": 22,
    "start_time": "2022-06-03T13:13:49.172Z"
   },
   {
    "duration": 7,
    "start_time": "2022-06-03T13:13:49.195Z"
   },
   {
    "duration": 22,
    "start_time": "2022-06-03T13:13:49.227Z"
   },
   {
    "duration": 12,
    "start_time": "2022-06-03T13:13:49.250Z"
   },
   {
    "duration": 31,
    "start_time": "2022-06-03T13:13:49.263Z"
   },
   {
    "duration": 34,
    "start_time": "2022-06-03T13:13:49.296Z"
   },
   {
    "duration": 17,
    "start_time": "2022-06-03T13:13:49.332Z"
   },
   {
    "duration": 10,
    "start_time": "2022-06-03T13:13:49.351Z"
   },
   {
    "duration": 22,
    "start_time": "2022-06-03T13:13:49.363Z"
   },
   {
    "duration": 11,
    "start_time": "2022-06-03T13:13:49.387Z"
   },
   {
    "duration": 36,
    "start_time": "2022-06-03T13:13:49.400Z"
   },
   {
    "duration": 8,
    "start_time": "2022-06-03T13:13:49.438Z"
   },
   {
    "duration": 59,
    "start_time": "2022-06-03T13:13:49.448Z"
   },
   {
    "duration": 22,
    "start_time": "2022-06-03T13:13:49.509Z"
   },
   {
    "duration": 40,
    "start_time": "2022-06-03T13:13:49.533Z"
   },
   {
    "duration": 23,
    "start_time": "2022-06-03T13:13:49.575Z"
   },
   {
    "duration": 43,
    "start_time": "2022-06-03T13:13:49.600Z"
   },
   {
    "duration": 14,
    "start_time": "2022-06-03T13:13:49.645Z"
   },
   {
    "duration": 10,
    "start_time": "2022-06-03T13:13:49.661Z"
   },
   {
    "duration": 7,
    "start_time": "2022-06-03T13:13:49.673Z"
   },
   {
    "duration": 11,
    "start_time": "2022-06-03T13:13:49.682Z"
   },
   {
    "duration": 14,
    "start_time": "2022-06-03T13:13:49.695Z"
   },
   {
    "duration": 3,
    "start_time": "2022-06-03T13:13:49.726Z"
   },
   {
    "duration": 34,
    "start_time": "2022-06-03T13:13:49.731Z"
   },
   {
    "duration": 10,
    "start_time": "2022-06-03T13:13:49.767Z"
   },
   {
    "duration": 33,
    "start_time": "2022-06-03T13:13:49.778Z"
   },
   {
    "duration": 28,
    "start_time": "2022-06-03T13:13:49.813Z"
   },
   {
    "duration": 17,
    "start_time": "2022-06-03T13:13:49.843Z"
   },
   {
    "duration": 11,
    "start_time": "2022-06-03T13:13:49.862Z"
   },
   {
    "duration": 108,
    "start_time": "2022-06-03T13:13:49.875Z"
   },
   {
    "duration": 18,
    "start_time": "2022-06-03T13:13:49.984Z"
   },
   {
    "duration": 10,
    "start_time": "2022-06-03T13:13:50.004Z"
   },
   {
    "duration": 44,
    "start_time": "2022-06-03T13:13:50.016Z"
   },
   {
    "duration": 8,
    "start_time": "2022-06-03T13:13:50.062Z"
   },
   {
    "duration": 10,
    "start_time": "2022-06-03T13:13:50.073Z"
   },
   {
    "duration": 9,
    "start_time": "2022-06-03T13:13:50.085Z"
   },
   {
    "duration": 488,
    "start_time": "2022-06-03T13:13:50.096Z"
   },
   {
    "duration": 9,
    "start_time": "2022-06-03T13:13:50.585Z"
   },
   {
    "duration": 408,
    "start_time": "2022-06-03T13:13:50.596Z"
   },
   {
    "duration": 7,
    "start_time": "2022-06-03T13:13:51.007Z"
   },
   {
    "duration": 9,
    "start_time": "2022-06-03T13:13:51.025Z"
   },
   {
    "duration": 428,
    "start_time": "2022-06-03T13:13:51.036Z"
   },
   {
    "duration": 7,
    "start_time": "2022-06-03T13:13:51.466Z"
   },
   {
    "duration": 14,
    "start_time": "2022-06-03T13:13:51.475Z"
   },
   {
    "duration": 15,
    "start_time": "2022-06-03T13:13:51.490Z"
   },
   {
    "duration": 374,
    "start_time": "2022-06-03T13:13:51.506Z"
   },
   {
    "duration": 408,
    "start_time": "2022-06-03T13:13:51.881Z"
   },
   {
    "duration": 8,
    "start_time": "2022-06-03T13:13:52.291Z"
   },
   {
    "duration": 349,
    "start_time": "2022-06-03T13:13:52.301Z"
   },
   {
    "duration": 8,
    "start_time": "2022-06-03T13:13:52.652Z"
   },
   {
    "duration": 20,
    "start_time": "2022-06-03T13:13:52.665Z"
   },
   {
    "duration": 15,
    "start_time": "2022-06-03T13:13:52.687Z"
   },
   {
    "duration": 373,
    "start_time": "2022-06-03T13:13:52.705Z"
   },
   {
    "duration": 197,
    "start_time": "2022-06-03T13:13:53.079Z"
   },
   {
    "duration": 355,
    "start_time": "2022-06-03T13:13:53.277Z"
   },
   {
    "duration": 8,
    "start_time": "2022-06-03T13:13:53.634Z"
   },
   {
    "duration": 98,
    "start_time": "2022-06-03T13:13:53.644Z"
   },
   {
    "duration": 95,
    "start_time": "2022-06-03T13:13:53.743Z"
   },
   {
    "duration": 561,
    "start_time": "2022-06-03T13:13:53.840Z"
   },
   {
    "duration": 7,
    "start_time": "2022-06-03T13:13:54.403Z"
   },
   {
    "duration": 19,
    "start_time": "2022-06-03T13:13:54.412Z"
   },
   {
    "duration": 18,
    "start_time": "2022-06-03T13:13:54.433Z"
   },
   {
    "duration": 30,
    "start_time": "2022-06-03T13:13:54.454Z"
   }
  ],
  "kernelspec": {
   "display_name": "Python 3",
   "language": "python",
   "name": "python3"
  },
  "language_info": {
   "codemirror_mode": {
    "name": "ipython",
    "version": 3
   },
   "file_extension": ".py",
   "mimetype": "text/x-python",
   "name": "python",
   "nbconvert_exporter": "python",
   "pygments_lexer": "ipython3",
   "version": "3.8.5"
  },
  "toc": {
   "base_numbering": 1,
   "nav_menu": {},
   "number_sections": true,
   "sideBar": true,
   "skip_h1_title": true,
   "title_cell": "Table of Contents",
   "title_sidebar": "Contents",
   "toc_cell": false,
   "toc_position": {
    "height": "calc(100% - 180px)",
    "left": "10px",
    "top": "150px",
    "width": "255.573px"
   },
   "toc_section_display": true,
   "toc_window_display": true
  }
 },
 "nbformat": 4,
 "nbformat_minor": 4
}
