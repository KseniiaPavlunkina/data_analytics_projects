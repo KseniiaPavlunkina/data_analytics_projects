{
 "cells": [
  {
   "cell_type": "markdown",
   "metadata": {},
   "source": [
    "# Сборный проект #"
   ]
  },
  {
   "cell_type": "markdown",
   "metadata": {},
   "source": [
    "## Описание проекта ##"
   ]
  },
  {
   "cell_type": "markdown",
   "metadata": {},
   "source": [
    "Интернет-магазин «Стримчик», который продаёт по всему миру компьютерные игры. Из открытых источников доступны исторические данные о продажах игр, оценки пользователей и экспертов, жанры и платформы (например, Xbox или PlayStation). Нам нужно выявить определяющие успешность игры закономерности, которые позволят сделать ставку на потенциально популярный продукт и спланировать рекламные кампании.\n",
    "\n",
    "ESRB (Entertainment Software Rating Board) — это ассоциация, определяющая возрастной рейтинг компьютерных игр. ESRB оценивает игровой контент и присваивает ему подходящую возрастную категорию, например, «Для взрослых», «Для детей младшего возраста» или «Для подростков»\n",
    "\n",
    "### Описание данных  ###\n",
    "\n",
    "* Name — название игры\n",
    "* Platform — платформа\n",
    "* Year_of_Release — год выпуска\n",
    "* Genre — жанр игры\n",
    "* NA_sales — продажи в Северной Америке (миллионы проданных копий)\n",
    "* EU_sales — продажи в Европе (миллионы проданных копий)\n",
    "* JP_sales — продажи в Японии (миллионы проданных копий)\n",
    "* Other_sales — продажи в других странах (миллионы проданных копий)\n",
    "* Critic_Score — оценка критиков (максимум 100)\n",
    "* User_Score — оценка пользователей (максимум 10)\n",
    "* Rating — рейтинг от организации ESRB (англ. Entertainment Software Rating Board). Эта ассоциация определяет рейтинг компьютерных игр и присваивает им подходящую возрастную категорию.\n",
    "\n",
    "*Данные за 2016 год могут быть неполными.*\n"
   ]
  },
  {
   "cell_type": "markdown",
   "metadata": {},
   "source": [
    "## Обзор данных ## "
   ]
  },
  {
   "cell_type": "code",
   "execution_count": 2,
   "metadata": {},
   "outputs": [],
   "source": [
    "import pandas as pd\n",
    "from scipy import stats as st\n",
    "import numpy as np\n",
    "import matplotlib.pyplot as plt\n",
    "import seaborn as sns\n",
    "import datetime as dt\n",
    "import math\n",
    "import re\n",
    "import itertools\n",
    "from IPython.display import display_html\n",
    "from itertools import chain,cycle\n",
    "import warnings\n",
    "warnings.filterwarnings(\"ignore\")"
   ]
  },
  {
   "cell_type": "code",
   "execution_count": 3,
   "metadata": {},
   "outputs": [],
   "source": [
    "data = pd.read_csv('/datasets/games.csv')"
   ]
  },
  {
   "cell_type": "code",
   "execution_count": 4,
   "metadata": {},
   "outputs": [
    {
     "data": {
      "text/html": [
       "<div>\n",
       "<style scoped>\n",
       "    .dataframe tbody tr th:only-of-type {\n",
       "        vertical-align: middle;\n",
       "    }\n",
       "\n",
       "    .dataframe tbody tr th {\n",
       "        vertical-align: top;\n",
       "    }\n",
       "\n",
       "    .dataframe thead th {\n",
       "        text-align: right;\n",
       "    }\n",
       "</style>\n",
       "<table border=\"1\" class=\"dataframe\">\n",
       "  <thead>\n",
       "    <tr style=\"text-align: right;\">\n",
       "      <th></th>\n",
       "      <th>Name</th>\n",
       "      <th>Platform</th>\n",
       "      <th>Year_of_Release</th>\n",
       "      <th>Genre</th>\n",
       "      <th>NA_sales</th>\n",
       "      <th>EU_sales</th>\n",
       "      <th>JP_sales</th>\n",
       "      <th>Other_sales</th>\n",
       "      <th>Critic_Score</th>\n",
       "      <th>User_Score</th>\n",
       "      <th>Rating</th>\n",
       "    </tr>\n",
       "  </thead>\n",
       "  <tbody>\n",
       "    <tr>\n",
       "      <th>0</th>\n",
       "      <td>Wii Sports</td>\n",
       "      <td>Wii</td>\n",
       "      <td>2006.0</td>\n",
       "      <td>Sports</td>\n",
       "      <td>41.36</td>\n",
       "      <td>28.96</td>\n",
       "      <td>3.77</td>\n",
       "      <td>8.45</td>\n",
       "      <td>76.0</td>\n",
       "      <td>8</td>\n",
       "      <td>E</td>\n",
       "    </tr>\n",
       "    <tr>\n",
       "      <th>1</th>\n",
       "      <td>Super Mario Bros.</td>\n",
       "      <td>NES</td>\n",
       "      <td>1985.0</td>\n",
       "      <td>Platform</td>\n",
       "      <td>29.08</td>\n",
       "      <td>3.58</td>\n",
       "      <td>6.81</td>\n",
       "      <td>0.77</td>\n",
       "      <td>NaN</td>\n",
       "      <td>NaN</td>\n",
       "      <td>NaN</td>\n",
       "    </tr>\n",
       "    <tr>\n",
       "      <th>2</th>\n",
       "      <td>Mario Kart Wii</td>\n",
       "      <td>Wii</td>\n",
       "      <td>2008.0</td>\n",
       "      <td>Racing</td>\n",
       "      <td>15.68</td>\n",
       "      <td>12.76</td>\n",
       "      <td>3.79</td>\n",
       "      <td>3.29</td>\n",
       "      <td>82.0</td>\n",
       "      <td>8.3</td>\n",
       "      <td>E</td>\n",
       "    </tr>\n",
       "    <tr>\n",
       "      <th>3</th>\n",
       "      <td>Wii Sports Resort</td>\n",
       "      <td>Wii</td>\n",
       "      <td>2009.0</td>\n",
       "      <td>Sports</td>\n",
       "      <td>15.61</td>\n",
       "      <td>10.93</td>\n",
       "      <td>3.28</td>\n",
       "      <td>2.95</td>\n",
       "      <td>80.0</td>\n",
       "      <td>8</td>\n",
       "      <td>E</td>\n",
       "    </tr>\n",
       "    <tr>\n",
       "      <th>4</th>\n",
       "      <td>Pokemon Red/Pokemon Blue</td>\n",
       "      <td>GB</td>\n",
       "      <td>1996.0</td>\n",
       "      <td>Role-Playing</td>\n",
       "      <td>11.27</td>\n",
       "      <td>8.89</td>\n",
       "      <td>10.22</td>\n",
       "      <td>1.00</td>\n",
       "      <td>NaN</td>\n",
       "      <td>NaN</td>\n",
       "      <td>NaN</td>\n",
       "    </tr>\n",
       "  </tbody>\n",
       "</table>\n",
       "</div>"
      ],
      "text/plain": [
       "                       Name Platform  Year_of_Release         Genre  NA_sales  \\\n",
       "0                Wii Sports      Wii           2006.0        Sports     41.36   \n",
       "1         Super Mario Bros.      NES           1985.0      Platform     29.08   \n",
       "2            Mario Kart Wii      Wii           2008.0        Racing     15.68   \n",
       "3         Wii Sports Resort      Wii           2009.0        Sports     15.61   \n",
       "4  Pokemon Red/Pokemon Blue       GB           1996.0  Role-Playing     11.27   \n",
       "\n",
       "   EU_sales  JP_sales  Other_sales  Critic_Score User_Score Rating  \n",
       "0     28.96      3.77         8.45          76.0          8      E  \n",
       "1      3.58      6.81         0.77           NaN        NaN    NaN  \n",
       "2     12.76      3.79         3.29          82.0        8.3      E  \n",
       "3     10.93      3.28         2.95          80.0          8      E  \n",
       "4      8.89     10.22         1.00           NaN        NaN    NaN  "
      ]
     },
     "execution_count": 4,
     "metadata": {},
     "output_type": "execute_result"
    }
   ],
   "source": [
    "data.head()"
   ]
  },
  {
   "cell_type": "code",
   "execution_count": 5,
   "metadata": {},
   "outputs": [
    {
     "name": "stdout",
     "output_type": "stream",
     "text": [
      "<class 'pandas.core.frame.DataFrame'>\n",
      "RangeIndex: 16715 entries, 0 to 16714\n",
      "Data columns (total 11 columns):\n",
      " #   Column           Non-Null Count  Dtype  \n",
      "---  ------           --------------  -----  \n",
      " 0   Name             16713 non-null  object \n",
      " 1   Platform         16715 non-null  object \n",
      " 2   Year_of_Release  16446 non-null  float64\n",
      " 3   Genre            16713 non-null  object \n",
      " 4   NA_sales         16715 non-null  float64\n",
      " 5   EU_sales         16715 non-null  float64\n",
      " 6   JP_sales         16715 non-null  float64\n",
      " 7   Other_sales      16715 non-null  float64\n",
      " 8   Critic_Score     8137 non-null   float64\n",
      " 9   User_Score       10014 non-null  object \n",
      " 10  Rating           9949 non-null   object \n",
      "dtypes: float64(6), object(5)\n",
      "memory usage: 1.4+ MB\n"
     ]
    }
   ],
   "source": [
    "data.info()"
   ]
  },
  {
   "cell_type": "code",
   "execution_count": 6,
   "metadata": {},
   "outputs": [
    {
     "data": {
      "text/plain": [
       "Name                  2\n",
       "Platform              0\n",
       "Year_of_Release     269\n",
       "Genre                 2\n",
       "NA_sales              0\n",
       "EU_sales              0\n",
       "JP_sales              0\n",
       "Other_sales           0\n",
       "Critic_Score       8578\n",
       "User_Score         6701\n",
       "Rating             6766\n",
       "dtype: int64"
      ]
     },
     "execution_count": 6,
     "metadata": {},
     "output_type": "execute_result"
    }
   ],
   "source": [
    "data.isna().sum()"
   ]
  },
  {
   "cell_type": "markdown",
   "metadata": {},
   "source": [
    "1. Столбцы записаны с большой буквы, приведем их к snake_case\n",
    "2. В данных у нас есть пропуски в столбцах Name, Year_of_Release, Genre, Critic_Score, User_Score, Rating\n",
    "3. Year_of_Release - приведем к формату даты и User_Score - к числу."
   ]
  },
  {
   "cell_type": "markdown",
   "metadata": {},
   "source": [
    "## Подготовка данных ##"
   ]
  },
  {
   "cell_type": "code",
   "execution_count": 7,
   "metadata": {},
   "outputs": [],
   "source": [
    "data.columns = data.columns.str.lower()"
   ]
  },
  {
   "cell_type": "code",
   "execution_count": 8,
   "metadata": {},
   "outputs": [
    {
     "data": {
      "text/html": [
       "<div>\n",
       "<style scoped>\n",
       "    .dataframe tbody tr th:only-of-type {\n",
       "        vertical-align: middle;\n",
       "    }\n",
       "\n",
       "    .dataframe tbody tr th {\n",
       "        vertical-align: top;\n",
       "    }\n",
       "\n",
       "    .dataframe thead th {\n",
       "        text-align: right;\n",
       "    }\n",
       "</style>\n",
       "<table border=\"1\" class=\"dataframe\">\n",
       "  <thead>\n",
       "    <tr style=\"text-align: right;\">\n",
       "      <th></th>\n",
       "      <th>name</th>\n",
       "      <th>platform</th>\n",
       "      <th>year_of_release</th>\n",
       "      <th>genre</th>\n",
       "      <th>na_sales</th>\n",
       "      <th>eu_sales</th>\n",
       "      <th>jp_sales</th>\n",
       "      <th>other_sales</th>\n",
       "      <th>critic_score</th>\n",
       "      <th>user_score</th>\n",
       "      <th>rating</th>\n",
       "    </tr>\n",
       "  </thead>\n",
       "  <tbody>\n",
       "    <tr>\n",
       "      <th>659</th>\n",
       "      <td>NaN</td>\n",
       "      <td>GEN</td>\n",
       "      <td>1993.0</td>\n",
       "      <td>NaN</td>\n",
       "      <td>1.78</td>\n",
       "      <td>0.53</td>\n",
       "      <td>0.00</td>\n",
       "      <td>0.08</td>\n",
       "      <td>NaN</td>\n",
       "      <td>NaN</td>\n",
       "      <td>NaN</td>\n",
       "    </tr>\n",
       "    <tr>\n",
       "      <th>14244</th>\n",
       "      <td>NaN</td>\n",
       "      <td>GEN</td>\n",
       "      <td>1993.0</td>\n",
       "      <td>NaN</td>\n",
       "      <td>0.00</td>\n",
       "      <td>0.00</td>\n",
       "      <td>0.03</td>\n",
       "      <td>0.00</td>\n",
       "      <td>NaN</td>\n",
       "      <td>NaN</td>\n",
       "      <td>NaN</td>\n",
       "    </tr>\n",
       "  </tbody>\n",
       "</table>\n",
       "</div>"
      ],
      "text/plain": [
       "      name platform  year_of_release genre  na_sales  eu_sales  jp_sales  \\\n",
       "659    NaN      GEN           1993.0   NaN      1.78      0.53      0.00   \n",
       "14244  NaN      GEN           1993.0   NaN      0.00      0.00      0.03   \n",
       "\n",
       "       other_sales  critic_score user_score rating  \n",
       "659           0.08           NaN        NaN    NaN  \n",
       "14244         0.00           NaN        NaN    NaN  "
      ]
     },
     "execution_count": 8,
     "metadata": {},
     "output_type": "execute_result"
    }
   ],
   "source": [
    "data[data['name'].isnull()]"
   ]
  },
  {
   "cell_type": "markdown",
   "metadata": {},
   "source": [
    "У нас 2 строки с отсутсующей информацией о наименовании и жанра. Уберем их из данных"
   ]
  },
  {
   "cell_type": "code",
   "execution_count": 9,
   "metadata": {},
   "outputs": [],
   "source": [
    "data = data.dropna(subset=['name'])"
   ]
  },
  {
   "cell_type": "code",
   "execution_count": 10,
   "metadata": {},
   "outputs": [
    {
     "data": {
      "text/plain": [
       "0.016095255190570215"
      ]
     },
     "execution_count": 10,
     "metadata": {},
     "output_type": "execute_result"
    }
   ],
   "source": [
    "data['year_of_release'].isnull().mean()"
   ]
  },
  {
   "cell_type": "markdown",
   "metadata": {},
   "source": [
    "Количество пропущенных строк в столбце year_of_release всего 1.6%, заменим пропуски 2022 годом и при дальнейшем анализе будем это учитывать "
   ]
  },
  {
   "cell_type": "code",
   "execution_count": 11,
   "metadata": {},
   "outputs": [],
   "source": [
    "data['year_of_release'] = data['year_of_release'].fillna(2022)"
   ]
  },
  {
   "cell_type": "code",
   "execution_count": 12,
   "metadata": {},
   "outputs": [],
   "source": [
    "data['year_of_release'] = pd.to_datetime(data['year_of_release'],format='%Y')"
   ]
  },
  {
   "cell_type": "code",
   "execution_count": 13,
   "metadata": {},
   "outputs": [],
   "source": [
    "data['year_of_release'] = data['year_of_release'].dt.year"
   ]
  },
  {
   "cell_type": "code",
   "execution_count": 14,
   "metadata": {},
   "outputs": [
    {
     "name": "stdout",
     "output_type": "stream",
     "text": [
      "<class 'pandas.core.frame.DataFrame'>\n",
      "Int64Index: 16713 entries, 0 to 16714\n",
      "Data columns (total 11 columns):\n",
      " #   Column           Non-Null Count  Dtype  \n",
      "---  ------           --------------  -----  \n",
      " 0   name             16713 non-null  object \n",
      " 1   platform         16713 non-null  object \n",
      " 2   year_of_release  16713 non-null  int64  \n",
      " 3   genre            16713 non-null  object \n",
      " 4   na_sales         16713 non-null  float64\n",
      " 5   eu_sales         16713 non-null  float64\n",
      " 6   jp_sales         16713 non-null  float64\n",
      " 7   other_sales      16713 non-null  float64\n",
      " 8   critic_score     8137 non-null   float64\n",
      " 9   user_score       10014 non-null  object \n",
      " 10  rating           9949 non-null   object \n",
      "dtypes: float64(5), int64(1), object(5)\n",
      "memory usage: 1.5+ MB\n"
     ]
    }
   ],
   "source": [
    "data.info()"
   ]
  },
  {
   "cell_type": "markdown",
   "metadata": {},
   "source": [
    "Перевели формат столбца в дату"
   ]
  },
  {
   "cell_type": "code",
   "execution_count": 15,
   "metadata": {},
   "outputs": [
    {
     "data": {
      "text/html": [
       "<div>\n",
       "<style scoped>\n",
       "    .dataframe tbody tr th:only-of-type {\n",
       "        vertical-align: middle;\n",
       "    }\n",
       "\n",
       "    .dataframe tbody tr th {\n",
       "        vertical-align: top;\n",
       "    }\n",
       "\n",
       "    .dataframe thead th {\n",
       "        text-align: right;\n",
       "    }\n",
       "</style>\n",
       "<table border=\"1\" class=\"dataframe\">\n",
       "  <thead>\n",
       "    <tr style=\"text-align: right;\">\n",
       "      <th></th>\n",
       "      <th>name</th>\n",
       "      <th>platform</th>\n",
       "      <th>year_of_release</th>\n",
       "      <th>genre</th>\n",
       "      <th>na_sales</th>\n",
       "      <th>eu_sales</th>\n",
       "      <th>jp_sales</th>\n",
       "      <th>other_sales</th>\n",
       "      <th>critic_score</th>\n",
       "      <th>user_score</th>\n",
       "      <th>rating</th>\n",
       "    </tr>\n",
       "  </thead>\n",
       "  <tbody>\n",
       "    <tr>\n",
       "      <th>0</th>\n",
       "      <td>Wii Sports</td>\n",
       "      <td>Wii</td>\n",
       "      <td>2006</td>\n",
       "      <td>Sports</td>\n",
       "      <td>41.36</td>\n",
       "      <td>28.96</td>\n",
       "      <td>3.77</td>\n",
       "      <td>8.45</td>\n",
       "      <td>76.0</td>\n",
       "      <td>8</td>\n",
       "      <td>E</td>\n",
       "    </tr>\n",
       "    <tr>\n",
       "      <th>1</th>\n",
       "      <td>Super Mario Bros.</td>\n",
       "      <td>NES</td>\n",
       "      <td>1985</td>\n",
       "      <td>Platform</td>\n",
       "      <td>29.08</td>\n",
       "      <td>3.58</td>\n",
       "      <td>6.81</td>\n",
       "      <td>0.77</td>\n",
       "      <td>NaN</td>\n",
       "      <td>NaN</td>\n",
       "      <td>NaN</td>\n",
       "    </tr>\n",
       "    <tr>\n",
       "      <th>2</th>\n",
       "      <td>Mario Kart Wii</td>\n",
       "      <td>Wii</td>\n",
       "      <td>2008</td>\n",
       "      <td>Racing</td>\n",
       "      <td>15.68</td>\n",
       "      <td>12.76</td>\n",
       "      <td>3.79</td>\n",
       "      <td>3.29</td>\n",
       "      <td>82.0</td>\n",
       "      <td>8.3</td>\n",
       "      <td>E</td>\n",
       "    </tr>\n",
       "    <tr>\n",
       "      <th>3</th>\n",
       "      <td>Wii Sports Resort</td>\n",
       "      <td>Wii</td>\n",
       "      <td>2009</td>\n",
       "      <td>Sports</td>\n",
       "      <td>15.61</td>\n",
       "      <td>10.93</td>\n",
       "      <td>3.28</td>\n",
       "      <td>2.95</td>\n",
       "      <td>80.0</td>\n",
       "      <td>8</td>\n",
       "      <td>E</td>\n",
       "    </tr>\n",
       "    <tr>\n",
       "      <th>4</th>\n",
       "      <td>Pokemon Red/Pokemon Blue</td>\n",
       "      <td>GB</td>\n",
       "      <td>1996</td>\n",
       "      <td>Role-Playing</td>\n",
       "      <td>11.27</td>\n",
       "      <td>8.89</td>\n",
       "      <td>10.22</td>\n",
       "      <td>1.00</td>\n",
       "      <td>NaN</td>\n",
       "      <td>NaN</td>\n",
       "      <td>NaN</td>\n",
       "    </tr>\n",
       "    <tr>\n",
       "      <th>5</th>\n",
       "      <td>Tetris</td>\n",
       "      <td>GB</td>\n",
       "      <td>1989</td>\n",
       "      <td>Puzzle</td>\n",
       "      <td>23.20</td>\n",
       "      <td>2.26</td>\n",
       "      <td>4.22</td>\n",
       "      <td>0.58</td>\n",
       "      <td>NaN</td>\n",
       "      <td>NaN</td>\n",
       "      <td>NaN</td>\n",
       "    </tr>\n",
       "    <tr>\n",
       "      <th>6</th>\n",
       "      <td>New Super Mario Bros.</td>\n",
       "      <td>DS</td>\n",
       "      <td>2006</td>\n",
       "      <td>Platform</td>\n",
       "      <td>11.28</td>\n",
       "      <td>9.14</td>\n",
       "      <td>6.50</td>\n",
       "      <td>2.88</td>\n",
       "      <td>89.0</td>\n",
       "      <td>8.5</td>\n",
       "      <td>E</td>\n",
       "    </tr>\n",
       "    <tr>\n",
       "      <th>7</th>\n",
       "      <td>Wii Play</td>\n",
       "      <td>Wii</td>\n",
       "      <td>2006</td>\n",
       "      <td>Misc</td>\n",
       "      <td>13.96</td>\n",
       "      <td>9.18</td>\n",
       "      <td>2.93</td>\n",
       "      <td>2.84</td>\n",
       "      <td>58.0</td>\n",
       "      <td>6.6</td>\n",
       "      <td>E</td>\n",
       "    </tr>\n",
       "    <tr>\n",
       "      <th>8</th>\n",
       "      <td>New Super Mario Bros. Wii</td>\n",
       "      <td>Wii</td>\n",
       "      <td>2009</td>\n",
       "      <td>Platform</td>\n",
       "      <td>14.44</td>\n",
       "      <td>6.94</td>\n",
       "      <td>4.70</td>\n",
       "      <td>2.24</td>\n",
       "      <td>87.0</td>\n",
       "      <td>8.4</td>\n",
       "      <td>E</td>\n",
       "    </tr>\n",
       "    <tr>\n",
       "      <th>9</th>\n",
       "      <td>Duck Hunt</td>\n",
       "      <td>NES</td>\n",
       "      <td>1984</td>\n",
       "      <td>Shooter</td>\n",
       "      <td>26.93</td>\n",
       "      <td>0.63</td>\n",
       "      <td>0.28</td>\n",
       "      <td>0.47</td>\n",
       "      <td>NaN</td>\n",
       "      <td>NaN</td>\n",
       "      <td>NaN</td>\n",
       "    </tr>\n",
       "  </tbody>\n",
       "</table>\n",
       "</div>"
      ],
      "text/plain": [
       "                        name platform  year_of_release         genre  \\\n",
       "0                 Wii Sports      Wii             2006        Sports   \n",
       "1          Super Mario Bros.      NES             1985      Platform   \n",
       "2             Mario Kart Wii      Wii             2008        Racing   \n",
       "3          Wii Sports Resort      Wii             2009        Sports   \n",
       "4   Pokemon Red/Pokemon Blue       GB             1996  Role-Playing   \n",
       "5                     Tetris       GB             1989        Puzzle   \n",
       "6      New Super Mario Bros.       DS             2006      Platform   \n",
       "7                   Wii Play      Wii             2006          Misc   \n",
       "8  New Super Mario Bros. Wii      Wii             2009      Platform   \n",
       "9                  Duck Hunt      NES             1984       Shooter   \n",
       "\n",
       "   na_sales  eu_sales  jp_sales  other_sales  critic_score user_score rating  \n",
       "0     41.36     28.96      3.77         8.45          76.0          8      E  \n",
       "1     29.08      3.58      6.81         0.77           NaN        NaN    NaN  \n",
       "2     15.68     12.76      3.79         3.29          82.0        8.3      E  \n",
       "3     15.61     10.93      3.28         2.95          80.0          8      E  \n",
       "4     11.27      8.89     10.22         1.00           NaN        NaN    NaN  \n",
       "5     23.20      2.26      4.22         0.58           NaN        NaN    NaN  \n",
       "6     11.28      9.14      6.50         2.88          89.0        8.5      E  \n",
       "7     13.96      9.18      2.93         2.84          58.0        6.6      E  \n",
       "8     14.44      6.94      4.70         2.24          87.0        8.4      E  \n",
       "9     26.93      0.63      0.28         0.47           NaN        NaN    NaN  "
      ]
     },
     "execution_count": 15,
     "metadata": {},
     "output_type": "execute_result"
    }
   ],
   "source": [
    "data.head(10)"
   ]
  },
  {
   "cell_type": "code",
   "execution_count": 16,
   "metadata": {},
   "outputs": [
    {
     "data": {
      "text/plain": [
       "array(['E', nan, 'M', 'T', 'E10+', 'K-A', 'AO', 'EC', 'RP'], dtype=object)"
      ]
     },
     "execution_count": 16,
     "metadata": {},
     "output_type": "execute_result"
    }
   ],
   "source": [
    "data['rating'].unique()"
   ]
  },
  {
   "cell_type": "code",
   "execution_count": 17,
   "metadata": {},
   "outputs": [],
   "source": [
    "genre_to_rating = data.groupby('genre')['rating'].agg(pd.Series.mode).to_dict()"
   ]
  },
  {
   "cell_type": "code",
   "execution_count": 18,
   "metadata": {},
   "outputs": [
    {
     "data": {
      "text/plain": [
       "{'Action': 'T',\n",
       " 'Adventure': 'E',\n",
       " 'Fighting': 'T',\n",
       " 'Misc': 'E',\n",
       " 'Platform': 'E',\n",
       " 'Puzzle': 'E',\n",
       " 'Racing': 'E',\n",
       " 'Role-Playing': 'T',\n",
       " 'Shooter': 'M',\n",
       " 'Simulation': 'E',\n",
       " 'Sports': 'E',\n",
       " 'Strategy': 'T'}"
      ]
     },
     "execution_count": 18,
     "metadata": {},
     "output_type": "execute_result"
    }
   ],
   "source": [
    "genre_to_rating"
   ]
  },
  {
   "cell_type": "markdown",
   "metadata": {},
   "source": [
    "Получили словарь самых часто встрчающихся рейтингов по жанру, заполним этими значениями пустые строки"
   ]
  },
  {
   "cell_type": "code",
   "execution_count": 19,
   "metadata": {},
   "outputs": [],
   "source": [
    "def rating_input(row):\n",
    "    if row['rating'] is np.nan:\n",
    "        row['rating'] = genre_to_rating.get(row['genre']) \n",
    "    return row"
   ]
  },
  {
   "cell_type": "code",
   "execution_count": 20,
   "metadata": {},
   "outputs": [],
   "source": [
    "data = data.apply(rating_input, axis=1)"
   ]
  },
  {
   "cell_type": "code",
   "execution_count": 21,
   "metadata": {},
   "outputs": [
    {
     "data": {
      "text/html": [
       "<div>\n",
       "<style scoped>\n",
       "    .dataframe tbody tr th:only-of-type {\n",
       "        vertical-align: middle;\n",
       "    }\n",
       "\n",
       "    .dataframe tbody tr th {\n",
       "        vertical-align: top;\n",
       "    }\n",
       "\n",
       "    .dataframe thead th {\n",
       "        text-align: right;\n",
       "    }\n",
       "</style>\n",
       "<table border=\"1\" class=\"dataframe\">\n",
       "  <thead>\n",
       "    <tr style=\"text-align: right;\">\n",
       "      <th></th>\n",
       "      <th>name</th>\n",
       "      <th>platform</th>\n",
       "      <th>year_of_release</th>\n",
       "      <th>genre</th>\n",
       "      <th>na_sales</th>\n",
       "      <th>eu_sales</th>\n",
       "      <th>jp_sales</th>\n",
       "      <th>other_sales</th>\n",
       "      <th>critic_score</th>\n",
       "      <th>user_score</th>\n",
       "      <th>rating</th>\n",
       "    </tr>\n",
       "  </thead>\n",
       "  <tbody>\n",
       "    <tr>\n",
       "      <th>0</th>\n",
       "      <td>Wii Sports</td>\n",
       "      <td>Wii</td>\n",
       "      <td>2006</td>\n",
       "      <td>Sports</td>\n",
       "      <td>41.36</td>\n",
       "      <td>28.96</td>\n",
       "      <td>3.77</td>\n",
       "      <td>8.45</td>\n",
       "      <td>76.0</td>\n",
       "      <td>8</td>\n",
       "      <td>E</td>\n",
       "    </tr>\n",
       "    <tr>\n",
       "      <th>1</th>\n",
       "      <td>Super Mario Bros.</td>\n",
       "      <td>NES</td>\n",
       "      <td>1985</td>\n",
       "      <td>Platform</td>\n",
       "      <td>29.08</td>\n",
       "      <td>3.58</td>\n",
       "      <td>6.81</td>\n",
       "      <td>0.77</td>\n",
       "      <td>NaN</td>\n",
       "      <td>NaN</td>\n",
       "      <td>E</td>\n",
       "    </tr>\n",
       "    <tr>\n",
       "      <th>2</th>\n",
       "      <td>Mario Kart Wii</td>\n",
       "      <td>Wii</td>\n",
       "      <td>2008</td>\n",
       "      <td>Racing</td>\n",
       "      <td>15.68</td>\n",
       "      <td>12.76</td>\n",
       "      <td>3.79</td>\n",
       "      <td>3.29</td>\n",
       "      <td>82.0</td>\n",
       "      <td>8.3</td>\n",
       "      <td>E</td>\n",
       "    </tr>\n",
       "    <tr>\n",
       "      <th>3</th>\n",
       "      <td>Wii Sports Resort</td>\n",
       "      <td>Wii</td>\n",
       "      <td>2009</td>\n",
       "      <td>Sports</td>\n",
       "      <td>15.61</td>\n",
       "      <td>10.93</td>\n",
       "      <td>3.28</td>\n",
       "      <td>2.95</td>\n",
       "      <td>80.0</td>\n",
       "      <td>8</td>\n",
       "      <td>E</td>\n",
       "    </tr>\n",
       "    <tr>\n",
       "      <th>4</th>\n",
       "      <td>Pokemon Red/Pokemon Blue</td>\n",
       "      <td>GB</td>\n",
       "      <td>1996</td>\n",
       "      <td>Role-Playing</td>\n",
       "      <td>11.27</td>\n",
       "      <td>8.89</td>\n",
       "      <td>10.22</td>\n",
       "      <td>1.00</td>\n",
       "      <td>NaN</td>\n",
       "      <td>NaN</td>\n",
       "      <td>T</td>\n",
       "    </tr>\n",
       "  </tbody>\n",
       "</table>\n",
       "</div>"
      ],
      "text/plain": [
       "                       name platform  year_of_release         genre  na_sales  \\\n",
       "0                Wii Sports      Wii             2006        Sports     41.36   \n",
       "1         Super Mario Bros.      NES             1985      Platform     29.08   \n",
       "2            Mario Kart Wii      Wii             2008        Racing     15.68   \n",
       "3         Wii Sports Resort      Wii             2009        Sports     15.61   \n",
       "4  Pokemon Red/Pokemon Blue       GB             1996  Role-Playing     11.27   \n",
       "\n",
       "   eu_sales  jp_sales  other_sales  critic_score user_score rating  \n",
       "0     28.96      3.77         8.45          76.0          8      E  \n",
       "1      3.58      6.81         0.77           NaN        NaN      E  \n",
       "2     12.76      3.79         3.29          82.0        8.3      E  \n",
       "3     10.93      3.28         2.95          80.0          8      E  \n",
       "4      8.89     10.22         1.00           NaN        NaN      T  "
      ]
     },
     "execution_count": 21,
     "metadata": {},
     "output_type": "execute_result"
    }
   ],
   "source": [
    "data.head()"
   ]
  },
  {
   "cell_type": "code",
   "execution_count": 22,
   "metadata": {},
   "outputs": [
    {
     "data": {
      "text/html": [
       "<div>\n",
       "<style scoped>\n",
       "    .dataframe tbody tr th:only-of-type {\n",
       "        vertical-align: middle;\n",
       "    }\n",
       "\n",
       "    .dataframe tbody tr th {\n",
       "        vertical-align: top;\n",
       "    }\n",
       "\n",
       "    .dataframe thead th {\n",
       "        text-align: right;\n",
       "    }\n",
       "</style>\n",
       "<table border=\"1\" class=\"dataframe\">\n",
       "  <thead>\n",
       "    <tr style=\"text-align: right;\">\n",
       "      <th></th>\n",
       "      <th>name</th>\n",
       "      <th>platform</th>\n",
       "      <th>year_of_release</th>\n",
       "      <th>genre</th>\n",
       "      <th>na_sales</th>\n",
       "      <th>eu_sales</th>\n",
       "      <th>jp_sales</th>\n",
       "      <th>other_sales</th>\n",
       "      <th>critic_score</th>\n",
       "      <th>user_score</th>\n",
       "      <th>rating</th>\n",
       "    </tr>\n",
       "  </thead>\n",
       "  <tbody>\n",
       "    <tr>\n",
       "      <th>182</th>\n",
       "      <td>Tomb Raider II</td>\n",
       "      <td>PS</td>\n",
       "      <td>1997</td>\n",
       "      <td>Action</td>\n",
       "      <td>2.30</td>\n",
       "      <td>2.46</td>\n",
       "      <td>0.20</td>\n",
       "      <td>0.28</td>\n",
       "      <td>85.0</td>\n",
       "      <td>NaN</td>\n",
       "      <td>T</td>\n",
       "    </tr>\n",
       "    <tr>\n",
       "      <th>440</th>\n",
       "      <td>Need for Speed III: Hot Pursuit</td>\n",
       "      <td>PS</td>\n",
       "      <td>1998</td>\n",
       "      <td>Racing</td>\n",
       "      <td>2.14</td>\n",
       "      <td>0.86</td>\n",
       "      <td>0.00</td>\n",
       "      <td>0.13</td>\n",
       "      <td>88.0</td>\n",
       "      <td>NaN</td>\n",
       "      <td>E</td>\n",
       "    </tr>\n",
       "    <tr>\n",
       "      <th>637</th>\n",
       "      <td>Riven: The Sequel to Myst</td>\n",
       "      <td>PC</td>\n",
       "      <td>1997</td>\n",
       "      <td>Adventure</td>\n",
       "      <td>1.52</td>\n",
       "      <td>0.82</td>\n",
       "      <td>0.00</td>\n",
       "      <td>0.10</td>\n",
       "      <td>83.0</td>\n",
       "      <td>NaN</td>\n",
       "      <td>E</td>\n",
       "    </tr>\n",
       "    <tr>\n",
       "      <th>1981</th>\n",
       "      <td>Monster Rancher 2</td>\n",
       "      <td>PS</td>\n",
       "      <td>1998</td>\n",
       "      <td>Simulation</td>\n",
       "      <td>0.19</td>\n",
       "      <td>0.13</td>\n",
       "      <td>0.66</td>\n",
       "      <td>0.07</td>\n",
       "      <td>83.0</td>\n",
       "      <td>NaN</td>\n",
       "      <td>E</td>\n",
       "    </tr>\n",
       "    <tr>\n",
       "      <th>2195</th>\n",
       "      <td>MVP Baseball 2005</td>\n",
       "      <td>XB</td>\n",
       "      <td>2005</td>\n",
       "      <td>Sports</td>\n",
       "      <td>0.70</td>\n",
       "      <td>0.20</td>\n",
       "      <td>0.00</td>\n",
       "      <td>0.03</td>\n",
       "      <td>86.0</td>\n",
       "      <td>NaN</td>\n",
       "      <td>E</td>\n",
       "    </tr>\n",
       "  </tbody>\n",
       "</table>\n",
       "</div>"
      ],
      "text/plain": [
       "                                 name platform  year_of_release       genre  \\\n",
       "182                    Tomb Raider II       PS             1997      Action   \n",
       "440   Need for Speed III: Hot Pursuit       PS             1998      Racing   \n",
       "637         Riven: The Sequel to Myst       PC             1997   Adventure   \n",
       "1981                Monster Rancher 2       PS             1998  Simulation   \n",
       "2195                MVP Baseball 2005       XB             2005      Sports   \n",
       "\n",
       "      na_sales  eu_sales  jp_sales  other_sales  critic_score user_score  \\\n",
       "182       2.30      2.46      0.20         0.28          85.0        NaN   \n",
       "440       2.14      0.86      0.00         0.13          88.0        NaN   \n",
       "637       1.52      0.82      0.00         0.10          83.0        NaN   \n",
       "1981      0.19      0.13      0.66         0.07          83.0        NaN   \n",
       "2195      0.70      0.20      0.00         0.03          86.0        NaN   \n",
       "\n",
       "     rating  \n",
       "182       T  \n",
       "440       E  \n",
       "637       E  \n",
       "1981      E  \n",
       "2195      E  "
      ]
     },
     "execution_count": 22,
     "metadata": {},
     "output_type": "execute_result"
    }
   ],
   "source": [
    "data[~data['critic_score'].isna() & data['user_score'].isna()].head()"
   ]
  },
  {
   "cell_type": "code",
   "execution_count": 23,
   "metadata": {},
   "outputs": [
    {
     "data": {
      "text/html": [
       "<div>\n",
       "<style scoped>\n",
       "    .dataframe tbody tr th:only-of-type {\n",
       "        vertical-align: middle;\n",
       "    }\n",
       "\n",
       "    .dataframe tbody tr th {\n",
       "        vertical-align: top;\n",
       "    }\n",
       "\n",
       "    .dataframe thead th {\n",
       "        text-align: right;\n",
       "    }\n",
       "</style>\n",
       "<table border=\"1\" class=\"dataframe\">\n",
       "  <thead>\n",
       "    <tr style=\"text-align: right;\">\n",
       "      <th></th>\n",
       "      <th>name</th>\n",
       "      <th>platform</th>\n",
       "      <th>year_of_release</th>\n",
       "      <th>genre</th>\n",
       "      <th>na_sales</th>\n",
       "      <th>eu_sales</th>\n",
       "      <th>jp_sales</th>\n",
       "      <th>other_sales</th>\n",
       "      <th>critic_score</th>\n",
       "      <th>user_score</th>\n",
       "      <th>rating</th>\n",
       "    </tr>\n",
       "  </thead>\n",
       "  <tbody>\n",
       "    <tr>\n",
       "      <th>119</th>\n",
       "      <td>Zumba Fitness</td>\n",
       "      <td>Wii</td>\n",
       "      <td>2010</td>\n",
       "      <td>Sports</td>\n",
       "      <td>3.45</td>\n",
       "      <td>2.59</td>\n",
       "      <td>0.00</td>\n",
       "      <td>0.66</td>\n",
       "      <td>NaN</td>\n",
       "      <td>tbd</td>\n",
       "      <td>E</td>\n",
       "    </tr>\n",
       "    <tr>\n",
       "      <th>255</th>\n",
       "      <td>Call of Duty: Advanced Warfare</td>\n",
       "      <td>PS3</td>\n",
       "      <td>2014</td>\n",
       "      <td>Shooter</td>\n",
       "      <td>1.56</td>\n",
       "      <td>1.93</td>\n",
       "      <td>0.19</td>\n",
       "      <td>0.68</td>\n",
       "      <td>NaN</td>\n",
       "      <td>4.8</td>\n",
       "      <td>M</td>\n",
       "    </tr>\n",
       "    <tr>\n",
       "      <th>263</th>\n",
       "      <td>Call of Duty: Advanced Warfare</td>\n",
       "      <td>X360</td>\n",
       "      <td>2014</td>\n",
       "      <td>Shooter</td>\n",
       "      <td>2.77</td>\n",
       "      <td>1.11</td>\n",
       "      <td>0.00</td>\n",
       "      <td>0.40</td>\n",
       "      <td>NaN</td>\n",
       "      <td>4.9</td>\n",
       "      <td>M</td>\n",
       "    </tr>\n",
       "    <tr>\n",
       "      <th>264</th>\n",
       "      <td>FIFA 15</td>\n",
       "      <td>PS3</td>\n",
       "      <td>2014</td>\n",
       "      <td>Sports</td>\n",
       "      <td>0.58</td>\n",
       "      <td>3.02</td>\n",
       "      <td>0.04</td>\n",
       "      <td>0.64</td>\n",
       "      <td>NaN</td>\n",
       "      <td>4.5</td>\n",
       "      <td>E</td>\n",
       "    </tr>\n",
       "    <tr>\n",
       "      <th>291</th>\n",
       "      <td>World Soccer Winning Eleven 9</td>\n",
       "      <td>PS2</td>\n",
       "      <td>2005</td>\n",
       "      <td>Sports</td>\n",
       "      <td>0.12</td>\n",
       "      <td>2.26</td>\n",
       "      <td>0.90</td>\n",
       "      <td>0.77</td>\n",
       "      <td>NaN</td>\n",
       "      <td>8.2</td>\n",
       "      <td>E</td>\n",
       "    </tr>\n",
       "  </tbody>\n",
       "</table>\n",
       "</div>"
      ],
      "text/plain": [
       "                               name platform  year_of_release    genre  \\\n",
       "119                   Zumba Fitness      Wii             2010   Sports   \n",
       "255  Call of Duty: Advanced Warfare      PS3             2014  Shooter   \n",
       "263  Call of Duty: Advanced Warfare     X360             2014  Shooter   \n",
       "264                         FIFA 15      PS3             2014   Sports   \n",
       "291   World Soccer Winning Eleven 9      PS2             2005   Sports   \n",
       "\n",
       "     na_sales  eu_sales  jp_sales  other_sales  critic_score user_score rating  \n",
       "119      3.45      2.59      0.00         0.66           NaN        tbd      E  \n",
       "255      1.56      1.93      0.19         0.68           NaN        4.8      M  \n",
       "263      2.77      1.11      0.00         0.40           NaN        4.9      M  \n",
       "264      0.58      3.02      0.04         0.64           NaN        4.5      E  \n",
       "291      0.12      2.26      0.90         0.77           NaN        8.2      E  "
      ]
     },
     "execution_count": 23,
     "metadata": {},
     "output_type": "execute_result"
    }
   ],
   "source": [
    "data[data['critic_score'].isna() & ~data['user_score'].isna()].head()"
   ]
  },
  {
   "cell_type": "code",
   "execution_count": 24,
   "metadata": {},
   "outputs": [
    {
     "data": {
      "text/plain": [
       "array(['8', nan, '8.3', '8.5', '6.6', '8.4', '8.6', '7.7', '6.3', '7.4',\n",
       "       '8.2', '9', '7.9', '8.1', '8.7', '7.1', '3.4', '5.3', '4.8', '3.2',\n",
       "       '8.9', '6.4', '7.8', '7.5', '2.6', '7.2', '9.2', '7', '7.3', '4.3',\n",
       "       '7.6', '5.7', '5', '9.1', '6.5', 'tbd', '8.8', '6.9', '9.4', '6.8',\n",
       "       '6.1', '6.7', '5.4', '4', '4.9', '4.5', '9.3', '6.2', '4.2', '6',\n",
       "       '3.7', '4.1', '5.8', '5.6', '5.5', '4.4', '4.6', '5.9', '3.9',\n",
       "       '3.1', '2.9', '5.2', '3.3', '4.7', '5.1', '3.5', '2.5', '1.9', '3',\n",
       "       '2.7', '2.2', '2', '9.5', '2.1', '3.6', '2.8', '1.8', '3.8', '0',\n",
       "       '1.6', '9.6', '2.4', '1.7', '1.1', '0.3', '1.5', '0.7', '1.2',\n",
       "       '2.3', '0.5', '1.3', '0.2', '0.6', '1.4', '0.9', '1', '9.7'],\n",
       "      dtype=object)"
      ]
     },
     "execution_count": 24,
     "metadata": {},
     "output_type": "execute_result"
    }
   ],
   "source": [
    "data['user_score'].unique()"
   ]
  },
  {
   "cell_type": "code",
   "execution_count": 25,
   "metadata": {},
   "outputs": [],
   "source": [
    "def critic_to_user_score(row):\n",
    "    if row['user_score'] is np.nan: \n",
    "        row['user_score'] = row['critic_score']/10\n",
    "    return row"
   ]
  },
  {
   "cell_type": "markdown",
   "metadata": {},
   "source": [
    "Просмотрев столбцы, где есть и оценка критиков и оценка пользователей, пришли к выводу, что чаще всего оценки в столбцах примерно похожи.\n",
    "Если в столбце critic_score 76.0, в столбце user_score установлено 8, что очень близко к critic_score/10\n",
    "Поэтому решено в тех столбцах, где есть информация об оценке критиков, взять эти данные и разделить на 10. Заполнив получившемся столбец user_score"
   ]
  },
  {
   "cell_type": "code",
   "execution_count": 26,
   "metadata": {},
   "outputs": [],
   "source": [
    "data = data.apply(critic_to_user_score, axis=1)"
   ]
  },
  {
   "cell_type": "code",
   "execution_count": 27,
   "metadata": {},
   "outputs": [
    {
     "data": {
      "text/html": [
       "<div>\n",
       "<style scoped>\n",
       "    .dataframe tbody tr th:only-of-type {\n",
       "        vertical-align: middle;\n",
       "    }\n",
       "\n",
       "    .dataframe tbody tr th {\n",
       "        vertical-align: top;\n",
       "    }\n",
       "\n",
       "    .dataframe thead th {\n",
       "        text-align: right;\n",
       "    }\n",
       "</style>\n",
       "<table border=\"1\" class=\"dataframe\">\n",
       "  <thead>\n",
       "    <tr style=\"text-align: right;\">\n",
       "      <th></th>\n",
       "      <th>name</th>\n",
       "      <th>platform</th>\n",
       "      <th>year_of_release</th>\n",
       "      <th>genre</th>\n",
       "      <th>na_sales</th>\n",
       "      <th>eu_sales</th>\n",
       "      <th>jp_sales</th>\n",
       "      <th>other_sales</th>\n",
       "      <th>critic_score</th>\n",
       "      <th>user_score</th>\n",
       "      <th>rating</th>\n",
       "    </tr>\n",
       "  </thead>\n",
       "  <tbody>\n",
       "    <tr>\n",
       "      <th>440</th>\n",
       "      <td>Need for Speed III: Hot Pursuit</td>\n",
       "      <td>PS</td>\n",
       "      <td>1998</td>\n",
       "      <td>Racing</td>\n",
       "      <td>2.14</td>\n",
       "      <td>0.86</td>\n",
       "      <td>0.0</td>\n",
       "      <td>0.13</td>\n",
       "      <td>88.0</td>\n",
       "      <td>8.8</td>\n",
       "      <td>E</td>\n",
       "    </tr>\n",
       "  </tbody>\n",
       "</table>\n",
       "</div>"
      ],
      "text/plain": [
       "                                name platform  year_of_release   genre  \\\n",
       "440  Need for Speed III: Hot Pursuit       PS             1998  Racing   \n",
       "\n",
       "     na_sales  eu_sales  jp_sales  other_sales  critic_score user_score rating  \n",
       "440      2.14      0.86       0.0         0.13          88.0        8.8      E  "
      ]
     },
     "execution_count": 27,
     "metadata": {},
     "output_type": "execute_result"
    }
   ],
   "source": [
    "data[440:441]"
   ]
  },
  {
   "cell_type": "code",
   "execution_count": 28,
   "metadata": {},
   "outputs": [
    {
     "data": {
      "text/plain": [
       "name               Zumba Fitness\n",
       "platform                     Wii\n",
       "year_of_release             2010\n",
       "genre                     Sports\n",
       "na_sales                    3.45\n",
       "eu_sales                    2.59\n",
       "jp_sales                     0.0\n",
       "other_sales                 0.66\n",
       "critic_score                 NaN\n",
       "user_score                   tbd\n",
       "rating                         E\n",
       "Name: 119, dtype: object"
      ]
     },
     "execution_count": 28,
     "metadata": {},
     "output_type": "execute_result"
    }
   ],
   "source": [
    "data.loc[119]"
   ]
  },
  {
   "cell_type": "code",
   "execution_count": 29,
   "metadata": {},
   "outputs": [],
   "source": [
    "data['user_score'] = data['user_score'].replace('tbd', '-1')"
   ]
  },
  {
   "cell_type": "markdown",
   "metadata": {},
   "source": [
    "Значение tbd означает - to be decided(будет решено), информация об оценке еще не определена. Данная аббревиатура не позволяет поменять нам формат столца в числовой. Поэтому заменим tbd на -1 и учтем это в дальнейшем исследовании."
   ]
  },
  {
   "cell_type": "code",
   "execution_count": 30,
   "metadata": {},
   "outputs": [],
   "source": [
    "data['user_score'] = data['user_score'].astype('float32')"
   ]
  },
  {
   "cell_type": "code",
   "execution_count": 31,
   "metadata": {},
   "outputs": [
    {
     "data": {
      "text/html": [
       "<div>\n",
       "<style scoped>\n",
       "    .dataframe tbody tr th:only-of-type {\n",
       "        vertical-align: middle;\n",
       "    }\n",
       "\n",
       "    .dataframe tbody tr th {\n",
       "        vertical-align: top;\n",
       "    }\n",
       "\n",
       "    .dataframe thead th {\n",
       "        text-align: right;\n",
       "    }\n",
       "</style>\n",
       "<table border=\"1\" class=\"dataframe\">\n",
       "  <thead>\n",
       "    <tr style=\"text-align: right;\">\n",
       "      <th></th>\n",
       "      <th>name</th>\n",
       "      <th>platform</th>\n",
       "      <th>year_of_release</th>\n",
       "      <th>genre</th>\n",
       "      <th>na_sales</th>\n",
       "      <th>eu_sales</th>\n",
       "      <th>jp_sales</th>\n",
       "      <th>other_sales</th>\n",
       "      <th>critic_score</th>\n",
       "      <th>user_score</th>\n",
       "      <th>rating</th>\n",
       "    </tr>\n",
       "  </thead>\n",
       "  <tbody>\n",
       "    <tr>\n",
       "      <th>119</th>\n",
       "      <td>Zumba Fitness</td>\n",
       "      <td>Wii</td>\n",
       "      <td>2010</td>\n",
       "      <td>Sports</td>\n",
       "      <td>3.45</td>\n",
       "      <td>2.59</td>\n",
       "      <td>0.00</td>\n",
       "      <td>0.66</td>\n",
       "      <td>NaN</td>\n",
       "      <td>-1.0</td>\n",
       "      <td>E</td>\n",
       "    </tr>\n",
       "    <tr>\n",
       "      <th>255</th>\n",
       "      <td>Call of Duty: Advanced Warfare</td>\n",
       "      <td>PS3</td>\n",
       "      <td>2014</td>\n",
       "      <td>Shooter</td>\n",
       "      <td>1.56</td>\n",
       "      <td>1.93</td>\n",
       "      <td>0.19</td>\n",
       "      <td>0.68</td>\n",
       "      <td>NaN</td>\n",
       "      <td>4.8</td>\n",
       "      <td>M</td>\n",
       "    </tr>\n",
       "    <tr>\n",
       "      <th>263</th>\n",
       "      <td>Call of Duty: Advanced Warfare</td>\n",
       "      <td>X360</td>\n",
       "      <td>2014</td>\n",
       "      <td>Shooter</td>\n",
       "      <td>2.77</td>\n",
       "      <td>1.11</td>\n",
       "      <td>0.00</td>\n",
       "      <td>0.40</td>\n",
       "      <td>NaN</td>\n",
       "      <td>4.9</td>\n",
       "      <td>M</td>\n",
       "    </tr>\n",
       "    <tr>\n",
       "      <th>264</th>\n",
       "      <td>FIFA 15</td>\n",
       "      <td>PS3</td>\n",
       "      <td>2014</td>\n",
       "      <td>Sports</td>\n",
       "      <td>0.58</td>\n",
       "      <td>3.02</td>\n",
       "      <td>0.04</td>\n",
       "      <td>0.64</td>\n",
       "      <td>NaN</td>\n",
       "      <td>4.5</td>\n",
       "      <td>E</td>\n",
       "    </tr>\n",
       "    <tr>\n",
       "      <th>291</th>\n",
       "      <td>World Soccer Winning Eleven 9</td>\n",
       "      <td>PS2</td>\n",
       "      <td>2005</td>\n",
       "      <td>Sports</td>\n",
       "      <td>0.12</td>\n",
       "      <td>2.26</td>\n",
       "      <td>0.90</td>\n",
       "      <td>0.77</td>\n",
       "      <td>NaN</td>\n",
       "      <td>8.2</td>\n",
       "      <td>E</td>\n",
       "    </tr>\n",
       "  </tbody>\n",
       "</table>\n",
       "</div>"
      ],
      "text/plain": [
       "                               name platform  year_of_release    genre  \\\n",
       "119                   Zumba Fitness      Wii             2010   Sports   \n",
       "255  Call of Duty: Advanced Warfare      PS3             2014  Shooter   \n",
       "263  Call of Duty: Advanced Warfare     X360             2014  Shooter   \n",
       "264                         FIFA 15      PS3             2014   Sports   \n",
       "291   World Soccer Winning Eleven 9      PS2             2005   Sports   \n",
       "\n",
       "     na_sales  eu_sales  jp_sales  other_sales  critic_score  user_score  \\\n",
       "119      3.45      2.59      0.00         0.66           NaN        -1.0   \n",
       "255      1.56      1.93      0.19         0.68           NaN         4.8   \n",
       "263      2.77      1.11      0.00         0.40           NaN         4.9   \n",
       "264      0.58      3.02      0.04         0.64           NaN         4.5   \n",
       "291      0.12      2.26      0.90         0.77           NaN         8.2   \n",
       "\n",
       "    rating  \n",
       "119      E  \n",
       "255      M  \n",
       "263      M  \n",
       "264      E  \n",
       "291      E  "
      ]
     },
     "execution_count": 31,
     "metadata": {},
     "output_type": "execute_result"
    }
   ],
   "source": [
    "data[data['critic_score'].isna() & ~data['user_score'].isna()].head()"
   ]
  },
  {
   "cell_type": "code",
   "execution_count": 32,
   "metadata": {},
   "outputs": [],
   "source": [
    "data['critic_score'] = data['critic_score'].fillna(data['user_score']*10)"
   ]
  },
  {
   "cell_type": "code",
   "execution_count": 33,
   "metadata": {},
   "outputs": [
    {
     "data": {
      "text/html": [
       "<div>\n",
       "<style scoped>\n",
       "    .dataframe tbody tr th:only-of-type {\n",
       "        vertical-align: middle;\n",
       "    }\n",
       "\n",
       "    .dataframe tbody tr th {\n",
       "        vertical-align: top;\n",
       "    }\n",
       "\n",
       "    .dataframe thead th {\n",
       "        text-align: right;\n",
       "    }\n",
       "</style>\n",
       "<table border=\"1\" class=\"dataframe\">\n",
       "  <thead>\n",
       "    <tr style=\"text-align: right;\">\n",
       "      <th></th>\n",
       "      <th>name</th>\n",
       "      <th>platform</th>\n",
       "      <th>year_of_release</th>\n",
       "      <th>genre</th>\n",
       "      <th>na_sales</th>\n",
       "      <th>eu_sales</th>\n",
       "      <th>jp_sales</th>\n",
       "      <th>other_sales</th>\n",
       "      <th>critic_score</th>\n",
       "      <th>user_score</th>\n",
       "      <th>rating</th>\n",
       "    </tr>\n",
       "  </thead>\n",
       "  <tbody>\n",
       "    <tr>\n",
       "      <th>119</th>\n",
       "      <td>Zumba Fitness</td>\n",
       "      <td>Wii</td>\n",
       "      <td>2010</td>\n",
       "      <td>Sports</td>\n",
       "      <td>3.45</td>\n",
       "      <td>2.59</td>\n",
       "      <td>0.0</td>\n",
       "      <td>0.66</td>\n",
       "      <td>-10.0</td>\n",
       "      <td>-1.0</td>\n",
       "      <td>E</td>\n",
       "    </tr>\n",
       "  </tbody>\n",
       "</table>\n",
       "</div>"
      ],
      "text/plain": [
       "              name platform  year_of_release   genre  na_sales  eu_sales  \\\n",
       "119  Zumba Fitness      Wii             2010  Sports      3.45      2.59   \n",
       "\n",
       "     jp_sales  other_sales  critic_score  user_score rating  \n",
       "119       0.0         0.66         -10.0        -1.0      E  "
      ]
     },
     "execution_count": 33,
     "metadata": {},
     "output_type": "execute_result"
    }
   ],
   "source": [
    "data[119:120]"
   ]
  },
  {
   "cell_type": "code",
   "execution_count": 34,
   "metadata": {},
   "outputs": [
    {
     "data": {
      "text/plain": [
       "array([ 76.,  nan,  82.,  80.,  89.,  58.,  87.,  91.,  61.,  97.,  95.,\n",
       "        77.,  88.,  83.,  94.,  93.,  85.,  86.,  98.,  96.,  90.,  84.,\n",
       "        73.,  74.,  78.,  92.,  71.,  72.,  68.,  62.,  49., -10.,  67.,\n",
       "        81.,  66.,  56.,  48.,  45.,  79.,  70.,  59.,  64.,  75.,  60.,\n",
       "        63.,  42.,  69.,  32.,  50.,  25.,  44.,  55.,  47.,  57.,  29.,\n",
       "        65.,  51.,  54.,  20.,  53.,  37.,  30.,  38.,  33.,  27.,  52.,\n",
       "        43.,  35.,  40.,  46.,  28.,  39.,  34.,  31.,   0.,  16.,  41.,\n",
       "        36.,  24.,  18.,  17.,  11.,  26.,   3.,  19.,  23.,   7.,  13.,\n",
       "         2.,  21.,  14.,  22.,   9.,  12.,   6.])"
      ]
     },
     "execution_count": 34,
     "metadata": {},
     "output_type": "execute_result"
    }
   ],
   "source": [
    "data['critic_score'].unique()"
   ]
  },
  {
   "cell_type": "code",
   "execution_count": 35,
   "metadata": {},
   "outputs": [],
   "source": [
    "data['critic_score'] = data['critic_score'].fillna(-10)\n",
    "data['user_score'] = data['user_score'].fillna(-1)"
   ]
  },
  {
   "cell_type": "code",
   "execution_count": 36,
   "metadata": {},
   "outputs": [],
   "source": [
    "data['total_sales'] = data['na_sales'] + data['eu_sales'] + data['other_sales'] + data['jp_sales']"
   ]
  },
  {
   "cell_type": "markdown",
   "metadata": {},
   "source": [
    "Посчитаем суммарные продажи по всем регионам total_sales"
   ]
  },
  {
   "cell_type": "code",
   "execution_count": 37,
   "metadata": {},
   "outputs": [],
   "source": [
    "data['critic_score'] = data['critic_score'].astype('int')"
   ]
  },
  {
   "cell_type": "markdown",
   "metadata": {},
   "source": [
    "Приведем critic_score к целому числу"
   ]
  },
  {
   "cell_type": "code",
   "execution_count": 38,
   "metadata": {},
   "outputs": [
    {
     "data": {
      "text/plain": [
       "0"
      ]
     },
     "execution_count": 38,
     "metadata": {},
     "output_type": "execute_result"
    }
   ],
   "source": [
    "data.duplicated().sum()"
   ]
  },
  {
   "cell_type": "markdown",
   "metadata": {},
   "source": [
    "Полные дубликаты в данных отсутсвуют"
   ]
  },
  {
   "cell_type": "code",
   "execution_count": 39,
   "metadata": {},
   "outputs": [
    {
     "name": "stdout",
     "output_type": "stream",
     "text": [
      "<class 'pandas.core.frame.DataFrame'>\n",
      "Int64Index: 16713 entries, 0 to 16714\n",
      "Data columns (total 12 columns):\n",
      " #   Column           Non-Null Count  Dtype  \n",
      "---  ------           --------------  -----  \n",
      " 0   name             16713 non-null  object \n",
      " 1   platform         16713 non-null  object \n",
      " 2   year_of_release  16713 non-null  int64  \n",
      " 3   genre            16713 non-null  object \n",
      " 4   na_sales         16713 non-null  float64\n",
      " 5   eu_sales         16713 non-null  float64\n",
      " 6   jp_sales         16713 non-null  float64\n",
      " 7   other_sales      16713 non-null  float64\n",
      " 8   critic_score     16713 non-null  int64  \n",
      " 9   user_score       16713 non-null  float64\n",
      " 10  rating           16713 non-null  object \n",
      " 11  total_sales      16713 non-null  float64\n",
      "dtypes: float64(6), int64(2), object(4)\n",
      "memory usage: 2.2+ MB\n"
     ]
    }
   ],
   "source": [
    "data.info()"
   ]
  },
  {
   "cell_type": "markdown",
   "metadata": {},
   "source": [
    "## Исследовательский анализ данных ##"
   ]
  },
  {
   "cell_type": "markdown",
   "metadata": {},
   "source": [
    "### Количество выпускаемых игр  в разные года ###"
   ]
  },
  {
   "cell_type": "code",
   "execution_count": 40,
   "metadata": {},
   "outputs": [],
   "source": [
    "data_name_count = data.groupby('year_of_release',as_index=False)['name'].count()"
   ]
  },
  {
   "cell_type": "code",
   "execution_count": 41,
   "metadata": {},
   "outputs": [
    {
     "data": {
      "image/png": "[encoded data removed]",
      "text/plain": [
       "<Figure size 1152x432 with 1 Axes>"
      ]
     },
     "metadata": {
      "needs_background": "light"
     },
     "output_type": "display_data"
    }
   ],
   "source": [
    "fig, ax = plt.subplots(figsize=(16,6))     \n",
    "plt.xticks(rotation = 45)\n",
    "sns.barplot(x=data_name_count['year_of_release'], y=data_name_count['name'], palette=\"Blues_d\");\n",
    "ax.set_title('Количество изданых игр по годам');\n",
    "plt.xlabel('Год выпуска');\n",
    "plt.ylabel('Количество');"
   ]
  },
  {
   "cell_type": "markdown",
   "metadata": {},
   "source": [
    "Как мы видим по графику до 95 года выпускалось меньше 200 игр в год, далее график идет на увелечение. Рассвет игровой индустрии начался в 2002 году, лучшие показатели в 2008 и 2009 году. \n",
    "\n",
    "Далее количество игр пошло на убыль, вероятнее всего это связано с увелечением сложности выпуска компьютерных игр. На производство качественного продукта уходит больше времени и ресурсов. \n",
    "\n",
    "Так же у нас могут быть не полные данные по всем годам."
   ]
  },
  {
   "cell_type": "markdown",
   "metadata": {},
   "source": [
    "###  Анализ изменения продаж по платформам ###"
   ]
  },
  {
   "cell_type": "code",
   "execution_count": 42,
   "metadata": {},
   "outputs": [],
   "source": [
    "top_10_platform = data.groupby('platform',\n",
    "                               as_index=False)['total_sales'].sum().sort_values(\n",
    "                               by='total_sales',ascending =False).head(10)"
   ]
  },
  {
   "cell_type": "code",
   "execution_count": 43,
   "metadata": {},
   "outputs": [],
   "source": [
    "top_10_list = top_10_platform['platform'].to_list()"
   ]
  },
  {
   "cell_type": "code",
   "execution_count": 44,
   "metadata": {},
   "outputs": [
    {
     "data": {
      "text/html": [
       "<div>\n",
       "<style scoped>\n",
       "    .dataframe tbody tr th:only-of-type {\n",
       "        vertical-align: middle;\n",
       "    }\n",
       "\n",
       "    .dataframe tbody tr th {\n",
       "        vertical-align: top;\n",
       "    }\n",
       "\n",
       "    .dataframe thead th {\n",
       "        text-align: right;\n",
       "    }\n",
       "</style>\n",
       "<table border=\"1\" class=\"dataframe\">\n",
       "  <thead>\n",
       "    <tr style=\"text-align: right;\">\n",
       "      <th>platform</th>\n",
       "      <th>2600</th>\n",
       "      <th>3DO</th>\n",
       "      <th>3DS</th>\n",
       "      <th>DC</th>\n",
       "      <th>DS</th>\n",
       "      <th>GB</th>\n",
       "      <th>GBA</th>\n",
       "      <th>GC</th>\n",
       "      <th>GEN</th>\n",
       "      <th>GG</th>\n",
       "      <th>...</th>\n",
       "      <th>SAT</th>\n",
       "      <th>SCD</th>\n",
       "      <th>SNES</th>\n",
       "      <th>TG16</th>\n",
       "      <th>WS</th>\n",
       "      <th>Wii</th>\n",
       "      <th>WiiU</th>\n",
       "      <th>X360</th>\n",
       "      <th>XB</th>\n",
       "      <th>XOne</th>\n",
       "    </tr>\n",
       "    <tr>\n",
       "      <th>year_of_release</th>\n",
       "      <th></th>\n",
       "      <th></th>\n",
       "      <th></th>\n",
       "      <th></th>\n",
       "      <th></th>\n",
       "      <th></th>\n",
       "      <th></th>\n",
       "      <th></th>\n",
       "      <th></th>\n",
       "      <th></th>\n",
       "      <th></th>\n",
       "      <th></th>\n",
       "      <th></th>\n",
       "      <th></th>\n",
       "      <th></th>\n",
       "      <th></th>\n",
       "      <th></th>\n",
       "      <th></th>\n",
       "      <th></th>\n",
       "      <th></th>\n",
       "      <th></th>\n",
       "    </tr>\n",
       "  </thead>\n",
       "  <tbody>\n",
       "    <tr>\n",
       "      <th>1980</th>\n",
       "      <td>11.38</td>\n",
       "      <td>0.0</td>\n",
       "      <td>0.0</td>\n",
       "      <td>0.0</td>\n",
       "      <td>0.0</td>\n",
       "      <td>0.0</td>\n",
       "      <td>0.0</td>\n",
       "      <td>0.0</td>\n",
       "      <td>0.0</td>\n",
       "      <td>0.0</td>\n",
       "      <td>...</td>\n",
       "      <td>0.0</td>\n",
       "      <td>0.0</td>\n",
       "      <td>0.0</td>\n",
       "      <td>0.0</td>\n",
       "      <td>0.0</td>\n",
       "      <td>0.0</td>\n",
       "      <td>0.0</td>\n",
       "      <td>0.0</td>\n",
       "      <td>0.0</td>\n",
       "      <td>0.0</td>\n",
       "    </tr>\n",
       "    <tr>\n",
       "      <th>1981</th>\n",
       "      <td>35.68</td>\n",
       "      <td>0.0</td>\n",
       "      <td>0.0</td>\n",
       "      <td>0.0</td>\n",
       "      <td>0.0</td>\n",
       "      <td>0.0</td>\n",
       "      <td>0.0</td>\n",
       "      <td>0.0</td>\n",
       "      <td>0.0</td>\n",
       "      <td>0.0</td>\n",
       "      <td>...</td>\n",
       "      <td>0.0</td>\n",
       "      <td>0.0</td>\n",
       "      <td>0.0</td>\n",
       "      <td>0.0</td>\n",
       "      <td>0.0</td>\n",
       "      <td>0.0</td>\n",
       "      <td>0.0</td>\n",
       "      <td>0.0</td>\n",
       "      <td>0.0</td>\n",
       "      <td>0.0</td>\n",
       "    </tr>\n",
       "    <tr>\n",
       "      <th>1982</th>\n",
       "      <td>28.88</td>\n",
       "      <td>0.0</td>\n",
       "      <td>0.0</td>\n",
       "      <td>0.0</td>\n",
       "      <td>0.0</td>\n",
       "      <td>0.0</td>\n",
       "      <td>0.0</td>\n",
       "      <td>0.0</td>\n",
       "      <td>0.0</td>\n",
       "      <td>0.0</td>\n",
       "      <td>...</td>\n",
       "      <td>0.0</td>\n",
       "      <td>0.0</td>\n",
       "      <td>0.0</td>\n",
       "      <td>0.0</td>\n",
       "      <td>0.0</td>\n",
       "      <td>0.0</td>\n",
       "      <td>0.0</td>\n",
       "      <td>0.0</td>\n",
       "      <td>0.0</td>\n",
       "      <td>0.0</td>\n",
       "    </tr>\n",
       "    <tr>\n",
       "      <th>1983</th>\n",
       "      <td>5.84</td>\n",
       "      <td>0.0</td>\n",
       "      <td>0.0</td>\n",
       "      <td>0.0</td>\n",
       "      <td>0.0</td>\n",
       "      <td>0.0</td>\n",
       "      <td>0.0</td>\n",
       "      <td>0.0</td>\n",
       "      <td>0.0</td>\n",
       "      <td>0.0</td>\n",
       "      <td>...</td>\n",
       "      <td>0.0</td>\n",
       "      <td>0.0</td>\n",
       "      <td>0.0</td>\n",
       "      <td>0.0</td>\n",
       "      <td>0.0</td>\n",
       "      <td>0.0</td>\n",
       "      <td>0.0</td>\n",
       "      <td>0.0</td>\n",
       "      <td>0.0</td>\n",
       "      <td>0.0</td>\n",
       "    </tr>\n",
       "    <tr>\n",
       "      <th>1984</th>\n",
       "      <td>0.27</td>\n",
       "      <td>0.0</td>\n",
       "      <td>0.0</td>\n",
       "      <td>0.0</td>\n",
       "      <td>0.0</td>\n",
       "      <td>0.0</td>\n",
       "      <td>0.0</td>\n",
       "      <td>0.0</td>\n",
       "      <td>0.0</td>\n",
       "      <td>0.0</td>\n",
       "      <td>...</td>\n",
       "      <td>0.0</td>\n",
       "      <td>0.0</td>\n",
       "      <td>0.0</td>\n",
       "      <td>0.0</td>\n",
       "      <td>0.0</td>\n",
       "      <td>0.0</td>\n",
       "      <td>0.0</td>\n",
       "      <td>0.0</td>\n",
       "      <td>0.0</td>\n",
       "      <td>0.0</td>\n",
       "    </tr>\n",
       "  </tbody>\n",
       "</table>\n",
       "<p>5 rows × 31 columns</p>\n",
       "</div>"
      ],
      "text/plain": [
       "platform          2600  3DO  3DS   DC   DS   GB  GBA   GC  GEN   GG  ...  SAT  \\\n",
       "year_of_release                                                      ...        \n",
       "1980             11.38  0.0  0.0  0.0  0.0  0.0  0.0  0.0  0.0  0.0  ...  0.0   \n",
       "1981             35.68  0.0  0.0  0.0  0.0  0.0  0.0  0.0  0.0  0.0  ...  0.0   \n",
       "1982             28.88  0.0  0.0  0.0  0.0  0.0  0.0  0.0  0.0  0.0  ...  0.0   \n",
       "1983              5.84  0.0  0.0  0.0  0.0  0.0  0.0  0.0  0.0  0.0  ...  0.0   \n",
       "1984              0.27  0.0  0.0  0.0  0.0  0.0  0.0  0.0  0.0  0.0  ...  0.0   \n",
       "\n",
       "platform         SCD  SNES  TG16   WS  Wii  WiiU  X360   XB  XOne  \n",
       "year_of_release                                                    \n",
       "1980             0.0   0.0   0.0  0.0  0.0   0.0   0.0  0.0   0.0  \n",
       "1981             0.0   0.0   0.0  0.0  0.0   0.0   0.0  0.0   0.0  \n",
       "1982             0.0   0.0   0.0  0.0  0.0   0.0   0.0  0.0   0.0  \n",
       "1983             0.0   0.0   0.0  0.0  0.0   0.0   0.0  0.0   0.0  \n",
       "1984             0.0   0.0   0.0  0.0  0.0   0.0   0.0  0.0   0.0  \n",
       "\n",
       "[5 rows x 31 columns]"
      ]
     },
     "execution_count": 44,
     "metadata": {},
     "output_type": "execute_result"
    }
   ],
   "source": [
    "data_year_sales = data.pivot_table(index='year_of_release',\n",
    "                                   columns='platform', \n",
    "                                   values='total_sales', \n",
    "                                   aggfunc='sum',\n",
    "                                   fill_value=0\n",
    "                          )\n",
    "data_year_sales.head()"
   ]
  },
  {
   "cell_type": "code",
   "execution_count": 45,
   "metadata": {},
   "outputs": [
    {
     "data": {
      "text/html": [
       "<div>\n",
       "<style scoped>\n",
       "    .dataframe tbody tr th:only-of-type {\n",
       "        vertical-align: middle;\n",
       "    }\n",
       "\n",
       "    .dataframe tbody tr th {\n",
       "        vertical-align: top;\n",
       "    }\n",
       "\n",
       "    .dataframe thead th {\n",
       "        text-align: right;\n",
       "    }\n",
       "</style>\n",
       "<table border=\"1\" class=\"dataframe\">\n",
       "  <thead>\n",
       "    <tr style=\"text-align: right;\">\n",
       "      <th></th>\n",
       "      <th>platform</th>\n",
       "      <th>total_sales</th>\n",
       "    </tr>\n",
       "  </thead>\n",
       "  <tbody>\n",
       "    <tr>\n",
       "      <th>16</th>\n",
       "      <td>PS2</td>\n",
       "      <td>1255.77</td>\n",
       "    </tr>\n",
       "    <tr>\n",
       "      <th>28</th>\n",
       "      <td>X360</td>\n",
       "      <td>971.42</td>\n",
       "    </tr>\n",
       "    <tr>\n",
       "      <th>17</th>\n",
       "      <td>PS3</td>\n",
       "      <td>939.65</td>\n",
       "    </tr>\n",
       "    <tr>\n",
       "      <th>26</th>\n",
       "      <td>Wii</td>\n",
       "      <td>907.51</td>\n",
       "    </tr>\n",
       "    <tr>\n",
       "      <th>4</th>\n",
       "      <td>DS</td>\n",
       "      <td>806.12</td>\n",
       "    </tr>\n",
       "    <tr>\n",
       "      <th>15</th>\n",
       "      <td>PS</td>\n",
       "      <td>730.86</td>\n",
       "    </tr>\n",
       "    <tr>\n",
       "      <th>6</th>\n",
       "      <td>GBA</td>\n",
       "      <td>317.85</td>\n",
       "    </tr>\n",
       "    <tr>\n",
       "      <th>18</th>\n",
       "      <td>PS4</td>\n",
       "      <td>314.14</td>\n",
       "    </tr>\n",
       "    <tr>\n",
       "      <th>19</th>\n",
       "      <td>PSP</td>\n",
       "      <td>294.05</td>\n",
       "    </tr>\n",
       "    <tr>\n",
       "      <th>13</th>\n",
       "      <td>PC</td>\n",
       "      <td>259.52</td>\n",
       "    </tr>\n",
       "  </tbody>\n",
       "</table>\n",
       "</div>"
      ],
      "text/plain": [
       "   platform  total_sales\n",
       "16      PS2      1255.77\n",
       "28     X360       971.42\n",
       "17      PS3       939.65\n",
       "26      Wii       907.51\n",
       "4        DS       806.12\n",
       "15       PS       730.86\n",
       "6       GBA       317.85\n",
       "18      PS4       314.14\n",
       "19      PSP       294.05\n",
       "13       PC       259.52"
      ]
     },
     "execution_count": 45,
     "metadata": {},
     "output_type": "execute_result"
    }
   ],
   "source": [
    "top_10_platform"
   ]
  },
  {
   "cell_type": "markdown",
   "metadata": {},
   "source": [
    "Получили топ 10 платформ по количеству продаж, посмотрим как распределятся продажи по годам"
   ]
  },
  {
   "cell_type": "code",
   "execution_count": 46,
   "metadata": {},
   "outputs": [
    {
     "data": {
      "image/png": "[encoded data removed]",
      "text/plain": [
       "<Figure size 1440x720 with 1 Axes>"
      ]
     },
     "metadata": {
      "needs_background": "light"
     },
     "output_type": "display_data"
    }
   ],
   "source": [
    "data_year_sales[top_10_list].plot(kind='bar', figsize=(20,10), stacked=True, colormap='Paired');\n",
    "plt.legend(title='Название платформы')\n",
    "plt.xlabel('Год выпуска');\n",
    "plt.ylabel('Суммарное количество продаж всех платформ в млн');"
   ]
  },
  {
   "cell_type": "markdown",
   "metadata": {},
   "source": [
    "На графике мы видим доли разных платформ от суммарных продаж по годам. Можно увидеть, как в разное время появляются новые платформы, как увеличивается их популярность и как они уходят с рынка, чтобы освободить дорогу новым технологиям. \n",
    "\n",
    "В среднем на это требуется 10 лет, с таким периодом на рынок поступает новая продукция. По этой причине в дальнейшем исследовании нам не интересны данные по платформам, которые вышли достаточно давно и уже не актуальны в ныняшнее время. \n",
    "\n",
    "Но есть кое-что вечное - ПК. Компьютер не теряет своей актуальности с самого начала своей истории, хотя таких пользователей совсем немного.\n",
    "\n",
    "Для дальнейшего анализа возьмем интервал 3 года с 2014 по 2016 год, как раз когда на рынок вышла новая консоль PS4. Напомню, что значением 2022 мы заполняли пустые строки, поэтому данный период мы так же исключим"
   ]
  },
  {
   "cell_type": "code",
   "execution_count": 47,
   "metadata": {},
   "outputs": [],
   "source": [
    "data_good = data.query('2013 < year_of_release < 2022')"
   ]
  },
  {
   "cell_type": "code",
   "execution_count": 48,
   "metadata": {},
   "outputs": [
    {
     "data": {
      "text/plain": [
       "1689"
      ]
     },
     "execution_count": 48,
     "metadata": {},
     "output_type": "execute_result"
    }
   ],
   "source": [
    "data_good['name'].count()"
   ]
  },
  {
   "cell_type": "markdown",
   "metadata": {},
   "source": [
    "у нас вышло 1689 строк в таблице за период с 2014 по 2016 год"
   ]
  },
  {
   "cell_type": "markdown",
   "metadata": {},
   "source": [
    "### Анализ лидирования платформ по продажам. Рост и падение.##"
   ]
  },
  {
   "cell_type": "code",
   "execution_count": 49,
   "metadata": {},
   "outputs": [
    {
     "data": {
      "image/png": "[encoded data removed]",
      "text/plain": [
       "<Figure size 1440x720 with 1 Axes>"
      ]
     },
     "metadata": {
      "needs_background": "light"
     },
     "output_type": "display_data"
    }
   ],
   "source": [
    "data_good.pivot_table(index='platform',\n",
    "                      columns='year_of_release', \n",
    "                      values='total_sales', \n",
    "                      aggfunc='sum',\n",
    "                      fill_value=0\n",
    "                     ).plot(kind='bar', figsize=(20,10), colormap='Accent');\n",
    "plt.legend(title='Года')\n",
    "plt.xlabel('Название игровой платформы');\n",
    "plt.ylabel('Суммарное количество продаж в млн');"
   ]
  },
  {
   "cell_type": "markdown",
   "metadata": {},
   "source": [
    "На графике мы можем видеть количество продаж разных платформ в период с 2014г по 2016г\n",
    "Самая популрная платформа PS4 - с первого же года она показывает хорошие продажи и на следующий год увеличивает их. Что же на счет 2016 год, тут все платформы показывают спад спроса. Я считаю это связано с возможным отсутсвием данных за 16 год\n",
    "вторая по популярности платформа Xbox One - она так же показывает неплохие результаты на старте и уверенный рост. Но сильно отстает от PS4 почти в 2 раза\n",
    "\n",
    "На 3 месте у нас расположилась 3DC - показывает немного другой результат, в 2014г продажи в районе 40 млн и каждый последующий год спад спроса.\n",
    "\n",
    "Возьмем эти 3 платформы и посмотрим размах продаж, так же добавим инфу по PC, т.к. эта платформа актуальная каждый год с момента выпуска"
   ]
  },
  {
   "cell_type": "code",
   "execution_count": 50,
   "metadata": {},
   "outputs": [],
   "source": [
    "data_good_platform = data_good.query('platform in [\"PS4\", \"XOne\", \"3DS\", \"PC\"]')"
   ]
  },
  {
   "cell_type": "code",
   "execution_count": 51,
   "metadata": {},
   "outputs": [
    {
     "data": {
      "image/png": "[encoded data removed]",
      "text/plain": [
       "<Figure size 1152x432 with 1 Axes>"
      ]
     },
     "metadata": {
      "needs_background": "light"
     },
     "output_type": "display_data"
    }
   ],
   "source": [
    "fig, ax = plt.subplots(figsize=(16,6)) \n",
    "sns.boxplot(x='total_sales',y='platform',data=data_good_platform, palette='Paired')\n",
    "ax.set_title('Размах продаж по популярным платформам');\n",
    "plt.xlabel('Продажи в миллионах');\n",
    "plt.ylabel('Игровая платформа');"
   ]
  },
  {
   "cell_type": "markdown",
   "metadata": {},
   "source": [
    "Основная часть продаж игр на всех 4 платформах расположились до 2млн копий. Есть конечно и еденичные экземпляры в 12 и 14 миллионов продаж, посмотрим на основную часть продаж поближе "
   ]
  },
  {
   "cell_type": "code",
   "execution_count": 52,
   "metadata": {},
   "outputs": [
    {
     "data": {
      "text/plain": [
       "(-0.1, 2.0)"
      ]
     },
     "execution_count": 52,
     "metadata": {},
     "output_type": "execute_result"
    },
    {
     "data": {
      "image/png": "[encoded data removed]",
      "text/plain": [
       "<Figure size 1152x432 with 1 Axes>"
      ]
     },
     "metadata": {
      "needs_background": "light"
     },
     "output_type": "display_data"
    }
   ],
   "source": [
    "fig, ax = plt.subplots(figsize=(16,6)) \n",
    "sns.boxplot(x='total_sales',y='platform',data=data_good_platform, palette='Paired')\n",
    "ax.set_title('Размах продаж по популярным платформам');\n",
    "plt.xlabel('Продажи в миллионах');\n",
    "plt.ylabel('Игровая платформа');\n",
    "ax.set_xlim([-0.1, 2]) "
   ]
  },
  {
   "cell_type": "markdown",
   "metadata": {},
   "source": [
    "PS4 и XboOne показывают похожие графики. Основная часть продаж расположилась в пределах 1,5млн продаж\n",
    "\n",
    "А 3DS показывает хуже результат - 0,55млн \n",
    "\n",
    "PC продажи до 0,25 млн"
   ]
  },
  {
   "cell_type": "code",
   "execution_count": 53,
   "metadata": {},
   "outputs": [],
   "source": [
    "data_good_platform_score = data_good_platform.query('critic_score > 0 and user_score > 0')"
   ]
  },
  {
   "cell_type": "markdown",
   "metadata": {},
   "source": [
    "### Продажи PS4 ###"
   ]
  },
  {
   "cell_type": "code",
   "execution_count": 54,
   "metadata": {},
   "outputs": [],
   "source": [
    "data_platform_ps4 = data_good_platform_score[data_good_platform_score['platform'] == 'PS4']"
   ]
  },
  {
   "cell_type": "code",
   "execution_count": 55,
   "metadata": {},
   "outputs": [
    {
     "data": {
      "image/png": "[encoded data removed]",
      "text/plain": [
       "<Figure size 540x540 with 12 Axes>"
      ]
     },
     "metadata": {
      "needs_background": "light"
     },
     "output_type": "display_data"
    }
   ],
   "source": [
    "sns.pairplot(data_platform_ps4[['total_sales' ,'user_score', 'critic_score']]);"
   ]
  },
  {
   "cell_type": "markdown",
   "metadata": {},
   "source": [
    "По графику мы видим, что зависимости продаж от оценки пользователей особо не наблюдается, но люди склонны доверять мнению профессионалов. Подтверждению чему мы можем видеть на графике, есть небольшая зависимость количества покупок от оценки критиков."
   ]
  },
  {
   "cell_type": "code",
   "execution_count": 56,
   "metadata": {},
   "outputs": [
    {
     "data": {
      "image/png": "[encoded data removed]",
      "text/plain": [
       "<Figure size 432x288 with 2 Axes>"
      ]
     },
     "metadata": {
      "needs_background": "light"
     },
     "output_type": "display_data"
    }
   ],
   "source": [
    "sns.heatmap(data_platform_ps4[['total_sales' ,'user_score', 'critic_score']].corr(), annot=True, cmap='coolwarm');"
   ]
  },
  {
   "cell_type": "markdown",
   "metadata": {},
   "source": [
    "Корреляция показывает такие же данные, что график выше - почти нулевую корреляцию между продажами и оценкой пользователей\n",
    "И 0,4 корреляцию между продажами и рейтингом критиков"
   ]
  },
  {
   "cell_type": "markdown",
   "metadata": {},
   "source": [
    "### Продажи XBONE ###"
   ]
  },
  {
   "cell_type": "code",
   "execution_count": 57,
   "metadata": {},
   "outputs": [],
   "source": [
    "data_platform_xone = data_good_platform_score[data_good_platform_score['platform'] == \"XOne\"]"
   ]
  },
  {
   "cell_type": "code",
   "execution_count": 58,
   "metadata": {},
   "outputs": [
    {
     "data": {
      "image/png": "[encoded data removed]",
      "text/plain": [
       "<Figure size 540x540 with 12 Axes>"
      ]
     },
     "metadata": {
      "needs_background": "light"
     },
     "output_type": "display_data"
    }
   ],
   "source": [
    "sns.pairplot(data_platform_xone[['total_sales' ,'user_score', 'critic_score']]);"
   ]
  },
  {
   "cell_type": "markdown",
   "metadata": {},
   "source": [
    "Аналогичная ситуация с платформой Xbox, люди смотрят на рейтинг критиков, но не слепо ему доверяют. "
   ]
  },
  {
   "cell_type": "code",
   "execution_count": 59,
   "metadata": {},
   "outputs": [
    {
     "data": {
      "image/png": "[encoded data removed]",
      "text/plain": [
       "<Figure size 432x288 with 2 Axes>"
      ]
     },
     "metadata": {
      "needs_background": "light"
     },
     "output_type": "display_data"
    }
   ],
   "source": [
    "sns.heatmap(data_platform_xone[['total_sales' ,'user_score', 'critic_score']].corr(), annot=True, cmap='coolwarm');"
   ]
  },
  {
   "cell_type": "markdown",
   "metadata": {},
   "source": [
    "Корреляция между продажами и рейтингом пользователй -0.07\n",
    "\n",
    "Корреляция между продажами и рейтингом критиков 0.41"
   ]
  },
  {
   "cell_type": "markdown",
   "metadata": {},
   "source": [
    "### Продажи 3DS ###"
   ]
  },
  {
   "cell_type": "code",
   "execution_count": 60,
   "metadata": {},
   "outputs": [],
   "source": [
    "data_platform_3ds = data_good_platform_score[data_good_platform_score['platform'] == \"3DS\"]"
   ]
  },
  {
   "cell_type": "code",
   "execution_count": 61,
   "metadata": {},
   "outputs": [
    {
     "data": {
      "image/png": "[encoded data removed]",
      "text/plain": [
       "<Figure size 540x540 with 12 Axes>"
      ]
     },
     "metadata": {
      "needs_background": "light"
     },
     "output_type": "display_data"
    }
   ],
   "source": [
    "sns.pairplot(data_platform_3ds[['total_sales' ,'user_score', 'critic_score']]);"
   ]
  },
  {
   "cell_type": "code",
   "execution_count": 62,
   "metadata": {},
   "outputs": [
    {
     "data": {
      "image/png": "[encoded data removed]",
      "text/plain": [
       "<Figure size 432x288 with 2 Axes>"
      ]
     },
     "metadata": {
      "needs_background": "light"
     },
     "output_type": "display_data"
    }
   ],
   "source": [
    "sns.heatmap(data_platform_3ds[['total_sales' ,'user_score', 'critic_score']].corr(), annot=True, cmap='coolwarm');"
   ]
  },
  {
   "cell_type": "markdown",
   "metadata": {},
   "source": [
    "Пользователи 3DS одинаково осособо не доверяют что оценкам пользователей, что оценкам критиков"
   ]
  },
  {
   "cell_type": "markdown",
   "metadata": {},
   "source": [
    "### Общее распределение игр по жанрам ###"
   ]
  },
  {
   "cell_type": "code",
   "execution_count": 63,
   "metadata": {
    "scrolled": true
   },
   "outputs": [
    {
     "data": {
      "image/png": "[encoded data removed]",
      "text/plain": [
       "<Figure size 1440x720 with 1 Axes>"
      ]
     },
     "metadata": {
      "needs_background": "light"
     },
     "output_type": "display_data"
    }
   ],
   "source": [
    "data_good.groupby('genre',as_index=False)['total_sales'].sum().sort_values(\n",
    "                                            by='total_sales').plot(\n",
    "                                            kind='barh', \n",
    "                                            x='genre', \n",
    "                                            figsize=(20,10), \n",
    "                                            color=\"#287C8EFF\",\n",
    "                                            );\n",
    "plt.legend(title='продажи')\n",
    "ax.set_title('Прибыльность игр по жанрам');\n",
    "plt.xlabel('Продажи в миллионах');\n",
    "plt.ylabel('Жанр игры');"
   ]
  },
  {
   "cell_type": "markdown",
   "metadata": {},
   "source": [
    "По графику мы видим топ самых продаваемых жанров в игровой индустрии - Экшен, Шутеры, Спорт, Ролевые Игры и Аркада\n",
    "\n",
    "Самые непопулярные - Стратегии и Пазлы\n"
   ]
  },
  {
   "cell_type": "code",
   "execution_count": 89,
   "metadata": {},
   "outputs": [
    {
     "data": {
      "image/png": "[encoded data removed]",
      "text/plain": [
       "<Figure size 1152x432 with 1 Axes>"
      ]
     },
     "metadata": {
      "needs_background": "light"
     },
     "output_type": "display_data"
    }
   ],
   "source": [
    "data_good_genre = data_good.query('genre in [\"Action\", \"Shooter\", \"Sports\", \"Role-Playing\"]')\n",
    "fig, ax = plt.subplots(figsize=(16,6)) \n",
    "sns.boxplot(x='total_sales',y='genre',data=data_good_genre, palette='Paired')\n",
    "ax.set_title('Размах продаж по популярным жанрам');\n",
    "plt.xlabel('Продажи в миллионах');\n",
    "plt.ylabel('Жанр игры');"
   ]
  },
  {
   "cell_type": "code",
   "execution_count": 91,
   "metadata": {},
   "outputs": [
    {
     "data": {
      "text/plain": [
       "(-0.1, 4.0)"
      ]
     },
     "execution_count": 91,
     "metadata": {},
     "output_type": "execute_result"
    },
    {
     "data": {
      "image/png": "[encoded data removed]",
      "text/plain": [
       "<Figure size 1152x432 with 1 Axes>"
      ]
     },
     "metadata": {
      "needs_background": "light"
     },
     "output_type": "display_data"
    }
   ],
   "source": [
    "fig, ax = plt.subplots(figsize=(16,6)) \n",
    "sns.boxplot(x='total_sales',y='genre',data=data_good_genre, palette='Paired')\n",
    "ax.set_title('Размах продаж по популярным жанрам');\n",
    "plt.xlabel('Продажи в миллионах');\n",
    "plt.ylabel('Жанр игры');\n",
    "ax.set_xlim([-0.1, 4]) "
   ]
  },
  {
   "cell_type": "markdown",
   "metadata": {},
   "source": [
    "Что мы видим по графику: самый продаваемый жанр Экшен показывает в среднем сильно хуже результаты, чем жанр Шутер и Спорт. Вылез он на первое место только за счет еденичных успещных проектов. \n",
    "\n",
    "Вывод, данные по суммарным продажам могут быть не правдободобны из-за еденичных хороших тайтлов, рассмотрим средние продажи по жанрам. Данный график должен быть более информативен в перспективе качественных продаж"
   ]
  },
  {
   "cell_type": "code",
   "execution_count": 83,
   "metadata": {},
   "outputs": [
    {
     "data": {
      "image/png": "[encoded data removed]",
      "text/plain": [
       "<Figure size 1440x720 with 1 Axes>"
      ]
     },
     "metadata": {
      "needs_background": "light"
     },
     "output_type": "display_data"
    }
   ],
   "source": [
    "data_good.groupby('genre',as_index=False)['total_sales'].mean().sort_values(\n",
    "                                            by='total_sales').plot(\n",
    "                                            kind='barh', \n",
    "                                            x='genre', \n",
    "                                            figsize=(20,10), \n",
    "                                            color=\"steelblue\",\n",
    "                                            );\n",
    "plt.legend(title='продажи')\n",
    "plt.xlabel('Средние продажи в миллионах');\n",
    "plt.ylabel('Жанр игры');\n",
    "ax.set_title('Средняя прибыльность игр по жанрам');"
   ]
  },
  {
   "cell_type": "markdown",
   "metadata": {},
   "source": [
    "Данный же график показывает совсем другую картину. Топ 3 жанров - Шутеры, Спорт и Платформеры\n",
    "Экшен, который до этого был на 1 месте, в средних показателях улетел аж на 8 место\n",
    "\n",
    "Самые в среднем плохо продающиеся Стратегии и Приключения"
   ]
  },
  {
   "cell_type": "markdown",
   "metadata": {},
   "source": [
    "## Составление портрета пользователя каждого региона ##"
   ]
  },
  {
   "cell_type": "markdown",
   "metadata": {},
   "source": [
    "### Анализ продаж в разных регионах в зависимости от игровой платформы ###"
   ]
  },
  {
   "cell_type": "code",
   "execution_count": 64,
   "metadata": {},
   "outputs": [],
   "source": [
    "top_5_na_sales = data_good.groupby('platform', \n",
    "                                        as_index=False)['na_sales'].sum().sort_values(\n",
    "                                                                          by='na_sales', \n",
    "                                                                          ascending =False).head().reset_index(\n",
    "                                                                                                   drop=True)\n",
    "top_5_eu_sales = data_good.groupby('platform', \n",
    "                                        as_index=False)['eu_sales'].sum().sort_values(\n",
    "                                                                          by='eu_sales', \n",
    "                                                                          ascending =False).head().reset_index(\n",
    "                                                                                                    drop=True)                                                                                         \n",
    "top_5_jp_sales = data_good.groupby('platform', \n",
    "                                        as_index=False)['jp_sales'].sum().sort_values(\n",
    "                                                                          by='jp_sales', \n",
    "                                                                          ascending =False).head().reset_index(\n",
    "                                                                                                    drop=True)"
   ]
  },
  {
   "cell_type": "code",
   "execution_count": 65,
   "metadata": {},
   "outputs": [],
   "source": [
    "def display_side_by_side(*args,titles=cycle([''])):\n",
    "    html_str=''\n",
    "    for df,title in zip(args, chain(titles,cycle(['</br>'])) ):\n",
    "        html_str+='<th style=\"text-align:center\"><td style=\"vertical-align:top\">'\n",
    "        html_str+=f'<h2>{title}</h2>'\n",
    "        html_str+=df.to_html().replace('table','table style=\"display:inline\"')\n",
    "        html_str+='</td></th>'\n",
    "    display_html(html_str,raw=True)"
   ]
  },
  {
   "cell_type": "code",
   "execution_count": 66,
   "metadata": {},
   "outputs": [
    {
     "data": {
      "text/html": [
       "<th style=\"text-align:center\"><td style=\"vertical-align:top\"><h2>Топ-5 в Сев.Америке</h2><table style=\"display:inline\" border=\"1\" class=\"dataframe\">\n",
       "  <thead>\n",
       "    <tr style=\"text-align: right;\">\n",
       "      <th></th>\n",
       "      <th>platform</th>\n",
       "      <th>na_sales</th>\n",
       "    </tr>\n",
       "  </thead>\n",
       "  <tbody>\n",
       "    <tr>\n",
       "      <th>0</th>\n",
       "      <td>PS4</td>\n",
       "      <td>98.61</td>\n",
       "    </tr>\n",
       "    <tr>\n",
       "      <th>1</th>\n",
       "      <td>XOne</td>\n",
       "      <td>81.27</td>\n",
       "    </tr>\n",
       "    <tr>\n",
       "      <th>2</th>\n",
       "      <td>X360</td>\n",
       "      <td>28.30</td>\n",
       "    </tr>\n",
       "    <tr>\n",
       "      <th>3</th>\n",
       "      <td>3DS</td>\n",
       "      <td>22.64</td>\n",
       "    </tr>\n",
       "    <tr>\n",
       "      <th>4</th>\n",
       "      <td>PS3</td>\n",
       "      <td>22.05</td>\n",
       "    </tr>\n",
       "  </tbody>\n",
       "</table style=\"display:inline\"></td></th><th style=\"text-align:center\"><td style=\"vertical-align:top\"><h2>Топ-5 в Европе</h2><table style=\"display:inline\" border=\"1\" class=\"dataframe\">\n",
       "  <thead>\n",
       "    <tr style=\"text-align: right;\">\n",
       "      <th></th>\n",
       "      <th>platform</th>\n",
       "      <th>eu_sales</th>\n",
       "    </tr>\n",
       "  </thead>\n",
       "  <tbody>\n",
       "    <tr>\n",
       "      <th>0</th>\n",
       "      <td>PS4</td>\n",
       "      <td>130.04</td>\n",
       "    </tr>\n",
       "    <tr>\n",
       "      <th>1</th>\n",
       "      <td>XOne</td>\n",
       "      <td>46.25</td>\n",
       "    </tr>\n",
       "    <tr>\n",
       "      <th>2</th>\n",
       "      <td>PS3</td>\n",
       "      <td>25.54</td>\n",
       "    </tr>\n",
       "    <tr>\n",
       "      <th>3</th>\n",
       "      <td>PC</td>\n",
       "      <td>17.97</td>\n",
       "    </tr>\n",
       "    <tr>\n",
       "      <th>4</th>\n",
       "      <td>3DS</td>\n",
       "      <td>16.12</td>\n",
       "    </tr>\n",
       "  </tbody>\n",
       "</table style=\"display:inline\"></td></th><th style=\"text-align:center\"><td style=\"vertical-align:top\"><h2>Топ-5 в Японии</h2><table style=\"display:inline\" border=\"1\" class=\"dataframe\">\n",
       "  <thead>\n",
       "    <tr style=\"text-align: right;\">\n",
       "      <th></th>\n",
       "      <th>platform</th>\n",
       "      <th>jp_sales</th>\n",
       "    </tr>\n",
       "  </thead>\n",
       "  <tbody>\n",
       "    <tr>\n",
       "      <th>0</th>\n",
       "      <td>3DS</td>\n",
       "      <td>44.24</td>\n",
       "    </tr>\n",
       "    <tr>\n",
       "      <th>1</th>\n",
       "      <td>PS4</td>\n",
       "      <td>15.02</td>\n",
       "    </tr>\n",
       "    <tr>\n",
       "      <th>2</th>\n",
       "      <td>PSV</td>\n",
       "      <td>14.54</td>\n",
       "    </tr>\n",
       "    <tr>\n",
       "      <th>3</th>\n",
       "      <td>PS3</td>\n",
       "      <td>11.22</td>\n",
       "    </tr>\n",
       "    <tr>\n",
       "      <th>4</th>\n",
       "      <td>WiiU</td>\n",
       "      <td>7.31</td>\n",
       "    </tr>\n",
       "  </tbody>\n",
       "</table style=\"display:inline\"></td></th>"
      ]
     },
     "metadata": {},
     "output_type": "display_data"
    }
   ],
   "source": [
    "display_side_by_side(top_5_na_sales,\n",
    "                     top_5_eu_sales,\n",
    "                     top_5_jp_sales, \n",
    "                     titles=['Топ-5 в Сев.Америке','Топ-5 в Европе', 'Топ-5 в Японии'])"
   ]
  },
  {
   "cell_type": "markdown",
   "metadata": {},
   "source": [
    "Можем видить, что топ-5 популярных платформ в Северной Америке и Европе не сильно отличается. Первые 2 места уверено занимают PS4 и XOne, далее рейтинг различается\n",
    "\n",
    "В Японии же совсем другая картина - 3DC на первом месте, но PS4 так же входит в топ-3\n",
    "\n",
    "В топе по Японии мы видим появление новых лиц - PSV и WIIU \n",
    "\n",
    "Не удивительно, что в топе по Японии лидирует Sony и Nintendo - это Японские компании. В Японии не очень пользуются зарубежной продукцией, если есть Японские аналоги. "
   ]
  },
  {
   "cell_type": "markdown",
   "metadata": {},
   "source": [
    "### Анализ продаж в разных регионах в зависимости от жанра игры ###"
   ]
  },
  {
   "cell_type": "code",
   "execution_count": 67,
   "metadata": {},
   "outputs": [],
   "source": [
    "top_5_na_sales_genre = data_good.groupby('genre', \n",
    "                                        as_index=False)['na_sales'].sum().sort_values(\n",
    "                                                                          by='na_sales', \n",
    "                                                                          ascending =False).head().reset_index(\n",
    "                                                                                                   drop=True)\n",
    "top_5_eu_sales_genre = data_good.groupby('genre', \n",
    "                                        as_index=False)['eu_sales'].sum().sort_values(\n",
    "                                                                          by='eu_sales', \n",
    "                                                                          ascending =False).head().reset_index(\n",
    "                                                                                                    drop=True)                                                                                         \n",
    "top_5_jp_sales_genre = data_good.groupby('genre', \n",
    "                                        as_index=False)['jp_sales'].sum().sort_values(\n",
    "                                                                          by='jp_sales', \n",
    "                                                                          ascending =False).head().reset_index(\n",
    "                                                                                                    drop=True)"
   ]
  },
  {
   "cell_type": "code",
   "execution_count": 68,
   "metadata": {},
   "outputs": [
    {
     "data": {
      "text/html": [
       "<th style=\"text-align:center\"><td style=\"vertical-align:top\"><h2>Топ-5 в Сев.Америке</h2><table style=\"display:inline\" border=\"1\" class=\"dataframe\">\n",
       "  <thead>\n",
       "    <tr style=\"text-align: right;\">\n",
       "      <th></th>\n",
       "      <th>genre</th>\n",
       "      <th>na_sales</th>\n",
       "    </tr>\n",
       "  </thead>\n",
       "  <tbody>\n",
       "    <tr>\n",
       "      <th>0</th>\n",
       "      <td>Shooter</td>\n",
       "      <td>79.02</td>\n",
       "    </tr>\n",
       "    <tr>\n",
       "      <th>1</th>\n",
       "      <td>Action</td>\n",
       "      <td>72.53</td>\n",
       "    </tr>\n",
       "    <tr>\n",
       "      <th>2</th>\n",
       "      <td>Sports</td>\n",
       "      <td>46.13</td>\n",
       "    </tr>\n",
       "    <tr>\n",
       "      <th>3</th>\n",
       "      <td>Role-Playing</td>\n",
       "      <td>33.47</td>\n",
       "    </tr>\n",
       "    <tr>\n",
       "      <th>4</th>\n",
       "      <td>Misc</td>\n",
       "      <td>15.05</td>\n",
       "    </tr>\n",
       "  </tbody>\n",
       "</table style=\"display:inline\"></td></th><th style=\"text-align:center\"><td style=\"vertical-align:top\"><h2>Топ-5 в Европе</h2><table style=\"display:inline\" border=\"1\" class=\"dataframe\">\n",
       "  <thead>\n",
       "    <tr style=\"text-align: right;\">\n",
       "      <th></th>\n",
       "      <th>genre</th>\n",
       "      <th>eu_sales</th>\n",
       "    </tr>\n",
       "  </thead>\n",
       "  <tbody>\n",
       "    <tr>\n",
       "      <th>0</th>\n",
       "      <td>Action</td>\n",
       "      <td>74.68</td>\n",
       "    </tr>\n",
       "    <tr>\n",
       "      <th>1</th>\n",
       "      <td>Shooter</td>\n",
       "      <td>65.52</td>\n",
       "    </tr>\n",
       "    <tr>\n",
       "      <th>2</th>\n",
       "      <td>Sports</td>\n",
       "      <td>45.73</td>\n",
       "    </tr>\n",
       "    <tr>\n",
       "      <th>3</th>\n",
       "      <td>Role-Playing</td>\n",
       "      <td>28.17</td>\n",
       "    </tr>\n",
       "    <tr>\n",
       "      <th>4</th>\n",
       "      <td>Racing</td>\n",
       "      <td>14.13</td>\n",
       "    </tr>\n",
       "  </tbody>\n",
       "</table style=\"display:inline\"></td></th><th style=\"text-align:center\"><td style=\"vertical-align:top\"><h2>Топ-5 в Японии</h2><table style=\"display:inline\" border=\"1\" class=\"dataframe\">\n",
       "  <thead>\n",
       "    <tr style=\"text-align: right;\">\n",
       "      <th></th>\n",
       "      <th>genre</th>\n",
       "      <th>jp_sales</th>\n",
       "    </tr>\n",
       "  </thead>\n",
       "  <tbody>\n",
       "    <tr>\n",
       "      <th>0</th>\n",
       "      <td>Role-Playing</td>\n",
       "      <td>31.16</td>\n",
       "    </tr>\n",
       "    <tr>\n",
       "      <th>1</th>\n",
       "      <td>Action</td>\n",
       "      <td>29.58</td>\n",
       "    </tr>\n",
       "    <tr>\n",
       "      <th>2</th>\n",
       "      <td>Fighting</td>\n",
       "      <td>6.37</td>\n",
       "    </tr>\n",
       "    <tr>\n",
       "      <th>3</th>\n",
       "      <td>Misc</td>\n",
       "      <td>5.61</td>\n",
       "    </tr>\n",
       "    <tr>\n",
       "      <th>4</th>\n",
       "      <td>Shooter</td>\n",
       "      <td>4.87</td>\n",
       "    </tr>\n",
       "  </tbody>\n",
       "</table style=\"display:inline\"></td></th>"
      ]
     },
     "metadata": {},
     "output_type": "display_data"
    }
   ],
   "source": [
    "display_side_by_side(top_5_na_sales_genre,\n",
    "                     top_5_eu_sales_genre,\n",
    "                     top_5_jp_sales_genre, \n",
    "                     titles=['Топ-5 в Сев.Америке','Топ-5 в Европе', 'Топ-5 в Японии'])"
   ]
  },
  {
   "cell_type": "markdown",
   "metadata": {},
   "source": [
    "По данным выше мы видим, что опять же предпочтения Северной Америки и Европы достаточно схожи. Что в одной, что в другой таблице мы видим одни и те же жанры, но какие то на разных местах. \n",
    "\n",
    "Что по предпочтениям в Японии - тут абсолютно другая картина. В Японии очень любят играть в Ролевые Игры - этот жанр вышел на первое место. \n",
    "\n",
    "Далее у нас расположился жанр Экшен - так же популярен и в других регионах и на 3 месте Файтинги"
   ]
  },
  {
   "cell_type": "markdown",
   "metadata": {},
   "source": [
    "### Влияние рейтинга ESRB на продажи в отдельном регионе ###"
   ]
  },
  {
   "cell_type": "markdown",
   "metadata": {},
   "source": [
    "* EC - для всех(для детей) 0+\n",
    "* E - для всех 6+\n",
    "* E10+ - для всех 10+ \n",
    "* K-A - так же для всех(старая формулировка)\n",
    "* T -  для подростков 16+\n",
    "* M - для взрослых 18+\n",
    "* AO - только для взрослых 18+ ( сцены откровееного сексуального содержания)\n",
    "* RP - рейтинг уточняется"
   ]
  },
  {
   "cell_type": "code",
   "execution_count": 69,
   "metadata": {},
   "outputs": [],
   "source": [
    "top_5_na_sales_ESRB = data_good.groupby('rating', \n",
    "                                        as_index=False)['na_sales'].sum().sort_values(\n",
    "                                                                          by='na_sales', \n",
    "                                                                          ascending =False).reset_index(\n",
    "                                                                                                   drop=True)\n",
    "top_5_eu_sales_ESRB = data_good.groupby('rating', \n",
    "                                        as_index=False)['eu_sales'].sum().sort_values(\n",
    "                                                                          by='eu_sales', \n",
    "                                                                          ascending =False).reset_index(\n",
    "                                                                                                drop=True)                                                                                         \n",
    "top_5_jp_sales_ESRB = data_good.groupby('rating', \n",
    "                                        as_index=False)['jp_sales'].sum().sort_values(\n",
    "                                                                          by='jp_sales', \n",
    "                                                                          ascending =False).reset_index(\n",
    "                                                                                                drop=True)"
   ]
  },
  {
   "cell_type": "code",
   "execution_count": 70,
   "metadata": {},
   "outputs": [
    {
     "data": {
      "text/html": [
       "<th style=\"text-align:center\"><td style=\"vertical-align:top\"><h2>Продажи в Сев.Америке</h2><table style=\"display:inline\" border=\"1\" class=\"dataframe\">\n",
       "  <thead>\n",
       "    <tr style=\"text-align: right;\">\n",
       "      <th></th>\n",
       "      <th>rating</th>\n",
       "      <th>na_sales</th>\n",
       "    </tr>\n",
       "  </thead>\n",
       "  <tbody>\n",
       "    <tr>\n",
       "      <th>0</th>\n",
       "      <td>M</td>\n",
       "      <td>115.23</td>\n",
       "    </tr>\n",
       "    <tr>\n",
       "      <th>1</th>\n",
       "      <td>T</td>\n",
       "      <td>73.41</td>\n",
       "    </tr>\n",
       "    <tr>\n",
       "      <th>2</th>\n",
       "      <td>E</td>\n",
       "      <td>62.19</td>\n",
       "    </tr>\n",
       "    <tr>\n",
       "      <th>3</th>\n",
       "      <td>E10+</td>\n",
       "      <td>33.23</td>\n",
       "    </tr>\n",
       "  </tbody>\n",
       "</table style=\"display:inline\"></td></th><th style=\"text-align:center\"><td style=\"vertical-align:top\"><h2>Продажи в Европе</h2><table style=\"display:inline\" border=\"1\" class=\"dataframe\">\n",
       "  <thead>\n",
       "    <tr style=\"text-align: right;\">\n",
       "      <th></th>\n",
       "      <th>rating</th>\n",
       "      <th>eu_sales</th>\n",
       "    </tr>\n",
       "  </thead>\n",
       "  <tbody>\n",
       "    <tr>\n",
       "      <th>0</th>\n",
       "      <td>M</td>\n",
       "      <td>109.53</td>\n",
       "    </tr>\n",
       "    <tr>\n",
       "      <th>1</th>\n",
       "      <td>E</td>\n",
       "      <td>74.44</td>\n",
       "    </tr>\n",
       "    <tr>\n",
       "      <th>2</th>\n",
       "      <td>T</td>\n",
       "      <td>60.55</td>\n",
       "    </tr>\n",
       "    <tr>\n",
       "      <th>3</th>\n",
       "      <td>E10+</td>\n",
       "      <td>26.16</td>\n",
       "    </tr>\n",
       "  </tbody>\n",
       "</table style=\"display:inline\"></td></th><th style=\"text-align:center\"><td style=\"vertical-align:top\"><h2>Продажи в Японии</h2><table style=\"display:inline\" border=\"1\" class=\"dataframe\">\n",
       "  <thead>\n",
       "    <tr style=\"text-align: right;\">\n",
       "      <th></th>\n",
       "      <th>rating</th>\n",
       "      <th>jp_sales</th>\n",
       "    </tr>\n",
       "  </thead>\n",
       "  <tbody>\n",
       "    <tr>\n",
       "      <th>0</th>\n",
       "      <td>T</td>\n",
       "      <td>60.45</td>\n",
       "    </tr>\n",
       "    <tr>\n",
       "      <th>1</th>\n",
       "      <td>E</td>\n",
       "      <td>19.47</td>\n",
       "    </tr>\n",
       "    <tr>\n",
       "      <th>2</th>\n",
       "      <td>M</td>\n",
       "      <td>8.71</td>\n",
       "    </tr>\n",
       "    <tr>\n",
       "      <th>3</th>\n",
       "      <td>E10+</td>\n",
       "      <td>4.46</td>\n",
       "    </tr>\n",
       "  </tbody>\n",
       "</table style=\"display:inline\"></td></th>"
      ]
     },
     "metadata": {},
     "output_type": "display_data"
    }
   ],
   "source": [
    "display_side_by_side(top_5_na_sales_ESRB,\n",
    "                     top_5_eu_sales_ESRB,\n",
    "                     top_5_jp_sales_ESRB, \n",
    "                     titles=['Продажи в Сев.Америке','Продажи в Европе', 'Продажи в Японии'])"
   ]
  },
  {
   "cell_type": "code",
   "execution_count": 71,
   "metadata": {},
   "outputs": [
    {
     "data": {
      "image/png": "[encoded data removed]",
      "text/plain": [
       "<Figure size 432x288 with 1 Axes>"
      ]
     },
     "metadata": {},
     "output_type": "display_data"
    }
   ],
   "source": [
    "labels = [\"M\", \"T\", \"E\", \"E10+\"]\n",
    "color = [\"steelblue\",\"thistle\",\"slategrey\",\"tan\"]\n",
    "fig, ax = plt.subplots()\n",
    "ax.pie(top_5_na_sales_ESRB['na_sales'], autopct='%1.1f%%', shadow=True, colors=color)\n",
    "ax.axis(\"equal\")\n",
    "ax.legend(labels, loc='upper right')\n",
    "ax.set_title('Распределение дохода в Северной Америке по рейтингу игр')\n",
    "plt.show()"
   ]
  },
  {
   "cell_type": "markdown",
   "metadata": {},
   "source": [
    "В Северной Америке самый хорошо продающийся рейтинг - M - для взрослых 18+\n",
    "Далее идут игры для подростков и детей"
   ]
  },
  {
   "cell_type": "code",
   "execution_count": 72,
   "metadata": {},
   "outputs": [
    {
     "data": {
      "image/png": "[encoded data removed]",
      "text/plain": [
       "<Figure size 432x288 with 1 Axes>"
      ]
     },
     "metadata": {},
     "output_type": "display_data"
    }
   ],
   "source": [
    "labels = [\"M\", \"E\", \"T\", \"E10+\"]\n",
    "color = [\"steelblue\",\"thistle\",\"slategrey\",\"tan\"]\n",
    "fig, ax = plt.subplots()\n",
    "ax.pie(top_5_eu_sales_ESRB['eu_sales'], autopct='%1.1f%%', shadow=True, colors=color)\n",
    "ax.axis(\"equal\")\n",
    "ax.legend(labels, loc='upper right')\n",
    "ax.set_title('Распределение дохода в Европе по рейтингу игр')\n",
    "plt.show()"
   ]
  },
  {
   "cell_type": "markdown",
   "metadata": {},
   "source": [
    "В Европе так же самый хорошо продающийся рейтинг - M - для взрослых 18+\n",
    "Далее идут игры для детей и подростков\n",
    "\n",
    "Взрослые люди тратят на игры для себя больше денег, чем на игры детей"
   ]
  },
  {
   "cell_type": "code",
   "execution_count": 73,
   "metadata": {},
   "outputs": [
    {
     "data": {
      "image/png": "[encoded data removed]",
      "text/plain": [
       "<Figure size 432x288 with 1 Axes>"
      ]
     },
     "metadata": {},
     "output_type": "display_data"
    }
   ],
   "source": [
    "labels = [\"T\", \"E\", \"M\", \"E10+\"]\n",
    "color = [\"steelblue\",\"thistle\",\"slategrey\",\"tan\"]\n",
    "fig, ax = plt.subplots()\n",
    "ax.pie(top_5_jp_sales_ESRB['jp_sales'], autopct='%1.1f%%', shadow=True, colors=color)\n",
    "ax.axis(\"equal\")\n",
    "ax.legend(labels, loc='upper right')\n",
    "ax.set_title('Распределение дохода в Японии по рейтингу игр')\n",
    "plt.show()"
   ]
  },
  {
   "cell_type": "markdown",
   "metadata": {},
   "source": [
    "В Японии же так же абсолютно другая картина. Игры с рейтингом М только на 3 месте\n",
    "На первых двух местах игры для подростков и детей, всегда держим в голове симулятор свиданий"
   ]
  },
  {
   "cell_type": "markdown",
   "metadata": {},
   "source": [
    "## Проверка гипотез ##"
   ]
  },
  {
   "cell_type": "markdown",
   "metadata": {},
   "source": [
    "### Средние пользовательские рейтинги платформ Xbox One и PC одинаковые ###"
   ]
  },
  {
   "cell_type": "markdown",
   "metadata": {},
   "source": [
    "Формируем гипотезу: Средний рейтинг пользователей по платформам Xbox One и PC равна. \n",
    "\n",
    "Альтернативная гипотеза: Средний рейтинг пользователей по платформам Xbox One и PC - не равна"
   ]
  },
  {
   "cell_type": "code",
   "execution_count": 74,
   "metadata": {},
   "outputs": [],
   "source": [
    "data_good_pc = data_good.query('platform == \"PC\" and user_score > 0')\n",
    "data_good_xbone = data_good.query('platform == \"XOne\" and user_score > 0')"
   ]
  },
  {
   "cell_type": "code",
   "execution_count": 92,
   "metadata": {},
   "outputs": [
    {
     "name": "stdout",
     "output_type": "stream",
     "text": [
      "Количество оценок по платформе PC 123\n",
      "Количество оценок по платформе Xbox One 166\n",
      "p-значение: 0.10759\n",
      "Не получилось отвергнуть нулевую гипотезу\n"
     ]
    }
   ],
   "source": [
    "print('Количество оценок по платформе PC', len(data_good_pc))\n",
    "print('Количество оценок по платформе Xbox One', len(data_good_xbone))\n",
    "\n",
    "alpha = .05\n",
    "results = st.ttest_ind(\n",
    "    data_good_pc['user_score'], \n",
    "    data_good_xbone['user_score'],)\n",
    "\n",
    "print('p-значение:', '{:.5f}'.format(results.pvalue))\n",
    "if results.pvalue < alpha:\n",
    "    print(\"Отвергаем нулевую гипотезу\")\n",
    "else:\n",
    "    print(\"Не получилось отвергнуть нулевую гипотезу\") "
   ]
  },
  {
   "cell_type": "markdown",
   "metadata": {},
   "source": [
    "Для проверки гипотезы был выбран t-тест Стьюдента, т.к. мы имеем две независимые друг от друга генеральные совокупности. \n",
    "\n",
    "Как мы видим из получившегося результата, не получилось отвергнуть нулевую гипотезу. "
   ]
  },
  {
   "cell_type": "markdown",
   "metadata": {},
   "source": [
    "### Средние пользовательские рейтинги жанров Action и Sports разные. ###"
   ]
  },
  {
   "cell_type": "code",
   "execution_count": 76,
   "metadata": {},
   "outputs": [],
   "source": [
    "data_action = data_good.query('genre == \"Action\" and user_score > 0')\n",
    "data_sports = data_good.query('genre == \"Sports\" and user_score > 0')"
   ]
  },
  {
   "cell_type": "markdown",
   "metadata": {},
   "source": [
    "Формируем гипотезу: Средний рейтинг пользователей по жанру Action и Sports - равны\n",
    "\n",
    "Альтернативная гипотеза: Средний рейтинг пользователей по жанру Action и Sports - не равны"
   ]
  },
  {
   "cell_type": "code",
   "execution_count": 77,
   "metadata": {},
   "outputs": [
    {
     "name": "stdout",
     "output_type": "stream",
     "text": [
      "Количество оценок по жанра Аction 298\n",
      "Количество оценок по жанра Sports 127\n",
      "p-значение: 1.1498582234651753e-14\n",
      "Отвергаем нулевую гипотезу\n"
     ]
    }
   ],
   "source": [
    "print('Количество оценок по жанра Аction', len(data_action))\n",
    "print('Количество оценок по жанра Sports', len(data_sports))\n",
    "\n",
    "alpha = .05\n",
    "results = st.ttest_ind(\n",
    "    data_action['user_score'], \n",
    "    data_sports['user_score'],\n",
    "    equal_var = False)\n",
    "\n",
    "print('p-значение:', results.pvalue)\n",
    "if results.pvalue < alpha:\n",
    "    print(\"Отвергаем нулевую гипотезу\")\n",
    "else:\n",
    "    print(\"Не получилось отвергнуть нулевую гипотезу\") "
   ]
  },
  {
   "cell_type": "markdown",
   "metadata": {},
   "source": [
    "Для проверки гипотезы был выбран t-тест Стьюдента, т.к. мы имеем две независимые друг от друга генеральные совокупности. Но т.к. выборки у нас разного размера, то решено было добавить параметр equal_var = False\n",
    "\n",
    "Как мы видим из получившегося результата, нулевая гипотеза отвергнута "
   ]
  },
  {
   "cell_type": "markdown",
   "metadata": {},
   "source": [
    "## Шаг 5. Вывод"
   ]
  },
  {
   "cell_type": "markdown",
   "metadata": {},
   "source": [
    "Цель: найти потенциально популярный продукт в игровой индустрии для интернет-магазина «Стримчик»"
   ]
  },
  {
   "cell_type": "markdown",
   "metadata": {},
   "source": [
    "Для анализа нам были предоставлены данные по играм на разных платформах до 2016 года.(Данные за 2016 год могут быть неполными.)\n",
    "\n",
    "* Названия столбцов были приведены к типу snake_case\n",
    "* Пропуски в столбцах \n",
    "1.  Name - были удалены\n",
    "2.  Year_of_Release - заполнены значением 2022 и не использованы в исследовании\n",
    "3.  Genre -  удалены\n",
    "4.  Critic_Score - небольшая часть заполнена значениями на основании столбца User_Score.\n",
    "    Остальные заполнены значением -10\n",
    "5.  User_Score -  небольшая часть заполнена значениями на основании столбца Critic_Score.\n",
    "    Остальные заполнены значением -1\n",
    "6.  Rating - заполнены самым часто встречающемся значением по жанру                   \n",
    "* Year_of_Release - приведем к формату даты и \n",
    "* User_Score - к числу с плавающей точкой\n",
    "* Critic_Score - к целому числу\n",
    "\n",
    "До 1995 года выпускалось меньше 200 игр в год. Рассвет игровой индустрии начался в 2002 году, лучшие показатели в 2008 и 2009 году. \n",
    "\n",
    "Далее количество игр пошло на убыль, вероятнее всего это связано с увелечением сложности выпуска компьютерных игр. На производство качественного продукта уходит больше времени и ресурсов. \n",
    "\n",
    "В среднем на срок жизни консоли занимает 10 лет. По этой причине в дальнейшем исследовании нам были не интересны данные по платформам, которые вышли достаточно давно и уже не актуальны в ныняшнее время. \n",
    "\n",
    "Для дальнейшего анализа возьмем интервал 3 года с 2014 по 2016 год. В это время вышли самые новые консоли.\n",
    "\n",
    "\n",
    "Самыми хорошо продаваемыми консолями в мире оказались \n",
    "1. PS4\n",
    "2. Xbox One\n",
    "3. 3DS\n",
    "\n",
    "*Были проверены следующие гипотезы*\n",
    "\n",
    "Средние пользовательские рейтинги платформ Xbox One и PC одинаковы\n",
    "* не получилось отвергнуть нулевую гипотезу.\n",
    "\n",
    "Средний рейтинг пользователей по жанру Action и Sports - равны\n",
    "* отвергли нулевую гипотезу\n",
    "\n",
    "Было выявлено, что типичный портрет потребителя отличается в зависимости от региона. По этой причине:\n",
    "\n",
    "НЕОБХОДИМО ДЕЛАТЬ РАЗНЫЕ РЕКЛАМНЫЕ КАМПАНИИ НА РАЗНЫЕ РЕГИОНЫ\n",
    "\n",
    "Потребитель в Севреной Америке и Европе не сильно отливается, поэтому можем рассмтравить эти 2 региона вместе."
   ]
  },
  {
   "cell_type": "code",
   "execution_count": 93,
   "metadata": {},
   "outputs": [
    {
     "data": {
      "text/html": [
       "<th style=\"text-align:center\"><td style=\"vertical-align:top\"><h2>Топ-5 продаж в Европе</h2><table style=\"display:inline\" border=\"1\" class=\"dataframe\">\n",
       "  <thead>\n",
       "    <tr style=\"text-align: right;\">\n",
       "      <th></th>\n",
       "      <th>platform</th>\n",
       "      <th>eu_sales</th>\n",
       "    </tr>\n",
       "  </thead>\n",
       "  <tbody>\n",
       "    <tr>\n",
       "      <th>0</th>\n",
       "      <td>PS4</td>\n",
       "      <td>130.04</td>\n",
       "    </tr>\n",
       "    <tr>\n",
       "      <th>1</th>\n",
       "      <td>XOne</td>\n",
       "      <td>46.25</td>\n",
       "    </tr>\n",
       "    <tr>\n",
       "      <th>2</th>\n",
       "      <td>PS3</td>\n",
       "      <td>25.54</td>\n",
       "    </tr>\n",
       "    <tr>\n",
       "      <th>3</th>\n",
       "      <td>PC</td>\n",
       "      <td>17.97</td>\n",
       "    </tr>\n",
       "    <tr>\n",
       "      <th>4</th>\n",
       "      <td>3DS</td>\n",
       "      <td>16.12</td>\n",
       "    </tr>\n",
       "  </tbody>\n",
       "</table style=\"display:inline\"></td></th><th style=\"text-align:center\"><td style=\"vertical-align:top\"><h2>Топ-5 жанров в Европе</h2><table style=\"display:inline\" border=\"1\" class=\"dataframe\">\n",
       "  <thead>\n",
       "    <tr style=\"text-align: right;\">\n",
       "      <th></th>\n",
       "      <th>genre</th>\n",
       "      <th>eu_sales</th>\n",
       "    </tr>\n",
       "  </thead>\n",
       "  <tbody>\n",
       "    <tr>\n",
       "      <th>0</th>\n",
       "      <td>Action</td>\n",
       "      <td>74.68</td>\n",
       "    </tr>\n",
       "    <tr>\n",
       "      <th>1</th>\n",
       "      <td>Shooter</td>\n",
       "      <td>65.52</td>\n",
       "    </tr>\n",
       "    <tr>\n",
       "      <th>2</th>\n",
       "      <td>Sports</td>\n",
       "      <td>45.73</td>\n",
       "    </tr>\n",
       "    <tr>\n",
       "      <th>3</th>\n",
       "      <td>Role-Playing</td>\n",
       "      <td>28.17</td>\n",
       "    </tr>\n",
       "    <tr>\n",
       "      <th>4</th>\n",
       "      <td>Racing</td>\n",
       "      <td>14.13</td>\n",
       "    </tr>\n",
       "  </tbody>\n",
       "</table style=\"display:inline\"></td></th>"
      ]
     },
     "metadata": {},
     "output_type": "display_data"
    }
   ],
   "source": [
    "display_side_by_side(top_5_eu_sales,\n",
    "                     top_5_eu_sales_genre, \n",
    "                     titles=['Топ-5 продаж в Европе','Топ-5 жанров в Европе'])"
   ]
  },
  {
   "cell_type": "code",
   "execution_count": 94,
   "metadata": {},
   "outputs": [
    {
     "data": {
      "text/html": [
       "<th style=\"text-align:center\"><td style=\"vertical-align:top\"><h2>Топ-5 продаж в Японии</h2><table style=\"display:inline\" border=\"1\" class=\"dataframe\">\n",
       "  <thead>\n",
       "    <tr style=\"text-align: right;\">\n",
       "      <th></th>\n",
       "      <th>platform</th>\n",
       "      <th>jp_sales</th>\n",
       "    </tr>\n",
       "  </thead>\n",
       "  <tbody>\n",
       "    <tr>\n",
       "      <th>0</th>\n",
       "      <td>3DS</td>\n",
       "      <td>44.24</td>\n",
       "    </tr>\n",
       "    <tr>\n",
       "      <th>1</th>\n",
       "      <td>PS4</td>\n",
       "      <td>15.02</td>\n",
       "    </tr>\n",
       "    <tr>\n",
       "      <th>2</th>\n",
       "      <td>PSV</td>\n",
       "      <td>14.54</td>\n",
       "    </tr>\n",
       "    <tr>\n",
       "      <th>3</th>\n",
       "      <td>PS3</td>\n",
       "      <td>11.22</td>\n",
       "    </tr>\n",
       "    <tr>\n",
       "      <th>4</th>\n",
       "      <td>WiiU</td>\n",
       "      <td>7.31</td>\n",
       "    </tr>\n",
       "  </tbody>\n",
       "</table style=\"display:inline\"></td></th><th style=\"text-align:center\"><td style=\"vertical-align:top\"><h2>Топ-5 жанров в Японии</h2><table style=\"display:inline\" border=\"1\" class=\"dataframe\">\n",
       "  <thead>\n",
       "    <tr style=\"text-align: right;\">\n",
       "      <th></th>\n",
       "      <th>genre</th>\n",
       "      <th>jp_sales</th>\n",
       "    </tr>\n",
       "  </thead>\n",
       "  <tbody>\n",
       "    <tr>\n",
       "      <th>0</th>\n",
       "      <td>Role-Playing</td>\n",
       "      <td>31.16</td>\n",
       "    </tr>\n",
       "    <tr>\n",
       "      <th>1</th>\n",
       "      <td>Action</td>\n",
       "      <td>29.58</td>\n",
       "    </tr>\n",
       "    <tr>\n",
       "      <th>2</th>\n",
       "      <td>Fighting</td>\n",
       "      <td>6.37</td>\n",
       "    </tr>\n",
       "    <tr>\n",
       "      <th>3</th>\n",
       "      <td>Misc</td>\n",
       "      <td>5.61</td>\n",
       "    </tr>\n",
       "    <tr>\n",
       "      <th>4</th>\n",
       "      <td>Shooter</td>\n",
       "      <td>4.87</td>\n",
       "    </tr>\n",
       "  </tbody>\n",
       "</table style=\"display:inline\"></td></th>"
      ]
     },
     "metadata": {},
     "output_type": "display_data"
    }
   ],
   "source": [
    "display_side_by_side(\n",
    "                     top_5_jp_sales,\n",
    "                     top_5_jp_sales_genre,\n",
    "                     titles=['Топ-5 продаж в Японии','Топ-5 жанров в Японии'])"
   ]
  },
  {
   "cell_type": "markdown",
   "metadata": {},
   "source": [
    "Итого: Приставки и жанры игр у которых самый хорошие показатели \n",
    "Европа и Северная Америка \n",
    "* Топ-3 популярных приставок: PS4, XBox One и PS3\n",
    "Так же не стоит забывать про PC - данное устройство показывает хоть и небольшую, но стабильную популярность у определнной части пользователей на протяжении 20 лет\n",
    "* Топ-3 популырных жанра Экшен, Шутеры и Спорт\n",
    "\n",
    "Япония\n",
    "* Топ-3 популярные приставки: 3DC, PS4, PSV\n",
    "* Топ-3 популырных жанра Role-Playing, Экшен и Файтинги\n",
    "Так же в Японии очень популярны портативные приставки, но Япония занимает небольшую долю от всего игрового рынка.\n",
    "\n",
    "Так же игроки чаще обращают внимание и лучше покупают игры, у которых хороший рейтинг критиков. Для лучшего продвижения игр стоит учитывать этот факт и договориваться об обзорах с игровыми критиками для рекламной кампании\n"
   ]
  },
  {
   "cell_type": "code",
   "execution_count": null,
   "metadata": {},
   "outputs": [],
   "source": []
  }
 ],
 "metadata": {
  "ExecuteTimeLog": [
   {
    "duration": 1523,
    "start_time": "2022-05-30T11:36:24.227Z"
   },
   {
    "duration": 180,
    "start_time": "2022-05-30T11:37:07.295Z"
   },
   {
    "duration": 24,
    "start_time": "2022-05-30T11:37:13.165Z"
   },
   {
    "duration": 10,
    "start_time": "2022-05-30T11:43:02.689Z"
   },
   {
    "duration": 11,
    "start_time": "2022-05-30T11:43:07.358Z"
   },
   {
    "duration": 15,
    "start_time": "2022-05-30T11:43:34.361Z"
   },
   {
    "duration": 18,
    "start_time": "2022-05-30T11:45:12.030Z"
   },
   {
    "duration": 4,
    "start_time": "2022-05-30T11:52:24.985Z"
   },
   {
    "duration": 3,
    "start_time": "2022-05-30T11:53:10.260Z"
   },
   {
    "duration": 105,
    "start_time": "2022-05-30T11:56:42.398Z"
   },
   {
    "duration": 7,
    "start_time": "2022-05-30T11:57:15.217Z"
   },
   {
    "duration": 5,
    "start_time": "2022-05-30T11:57:25.426Z"
   },
   {
    "duration": 13,
    "start_time": "2022-05-30T11:57:33.462Z"
   },
   {
    "duration": 197,
    "start_time": "2022-05-30T12:01:09.909Z"
   },
   {
    "duration": 9,
    "start_time": "2022-05-30T12:03:22.250Z"
   },
   {
    "duration": 16,
    "start_time": "2022-05-30T12:04:43.823Z"
   },
   {
    "duration": 8,
    "start_time": "2022-05-30T12:06:32.902Z"
   },
   {
    "duration": 14,
    "start_time": "2022-05-30T12:06:39.908Z"
   },
   {
    "duration": 8,
    "start_time": "2022-05-30T12:06:57.794Z"
   },
   {
    "duration": 20,
    "start_time": "2022-05-30T12:07:18.857Z"
   },
   {
    "duration": 34,
    "start_time": "2022-05-30T12:13:10.421Z"
   },
   {
    "duration": 29,
    "start_time": "2022-05-30T12:14:25.402Z"
   },
   {
    "duration": 27,
    "start_time": "2022-05-30T12:15:07.213Z"
   },
   {
    "duration": 416,
    "start_time": "2022-05-30T12:15:49.508Z"
   },
   {
    "duration": 27,
    "start_time": "2022-05-30T12:17:10.643Z"
   },
   {
    "duration": 371,
    "start_time": "2022-05-30T12:18:26.044Z"
   },
   {
    "duration": 526,
    "start_time": "2022-05-30T12:26:49.494Z"
   },
   {
    "duration": 11,
    "start_time": "2022-05-30T12:27:38.189Z"
   },
   {
    "duration": 9,
    "start_time": "2022-05-30T12:27:42.696Z"
   },
   {
    "duration": 10,
    "start_time": "2022-05-30T12:28:19.747Z"
   },
   {
    "duration": 10,
    "start_time": "2022-05-30T12:28:24.779Z"
   },
   {
    "duration": 10,
    "start_time": "2022-05-30T12:33:29.041Z"
   },
   {
    "duration": 22,
    "start_time": "2022-05-30T12:33:34.745Z"
   },
   {
    "duration": 18,
    "start_time": "2022-05-30T12:34:39.415Z"
   },
   {
    "duration": 7,
    "start_time": "2022-05-30T12:35:03.640Z"
   },
   {
    "duration": 17,
    "start_time": "2022-05-30T12:37:12.822Z"
   },
   {
    "duration": 6,
    "start_time": "2022-05-30T12:37:54.863Z"
   },
   {
    "duration": 18,
    "start_time": "2022-05-30T12:38:13.741Z"
   },
   {
    "duration": 4,
    "start_time": "2022-05-30T12:40:05.260Z"
   },
   {
    "duration": 17,
    "start_time": "2022-05-30T12:40:15.036Z"
   },
   {
    "duration": 4,
    "start_time": "2022-05-30T12:40:21.443Z"
   },
   {
    "duration": 78,
    "start_time": "2022-05-30T12:40:21.448Z"
   },
   {
    "duration": 13,
    "start_time": "2022-05-30T12:40:21.527Z"
   },
   {
    "duration": 32,
    "start_time": "2022-05-30T12:40:21.542Z"
   },
   {
    "duration": 19,
    "start_time": "2022-05-30T12:40:21.575Z"
   },
   {
    "duration": 15,
    "start_time": "2022-05-30T12:40:21.595Z"
   },
   {
    "duration": 36,
    "start_time": "2022-05-30T12:40:21.612Z"
   },
   {
    "duration": 23,
    "start_time": "2022-05-30T12:40:21.650Z"
   },
   {
    "duration": 19,
    "start_time": "2022-05-30T12:40:21.674Z"
   },
   {
    "duration": 42,
    "start_time": "2022-05-30T12:40:21.695Z"
   },
   {
    "duration": 29,
    "start_time": "2022-05-30T12:40:21.738Z"
   },
   {
    "duration": 29,
    "start_time": "2022-05-30T12:40:21.768Z"
   },
   {
    "duration": 34,
    "start_time": "2022-05-30T12:40:21.798Z"
   },
   {
    "duration": 13,
    "start_time": "2022-05-30T12:53:00.375Z"
   },
   {
    "duration": 5,
    "start_time": "2022-05-30T12:53:11.903Z"
   },
   {
    "duration": 22,
    "start_time": "2022-05-30T12:53:20.815Z"
   },
   {
    "duration": 5,
    "start_time": "2022-05-30T12:54:09.055Z"
   },
   {
    "duration": 19,
    "start_time": "2022-05-30T12:54:10.577Z"
   },
   {
    "duration": 27,
    "start_time": "2022-05-30T12:55:51.747Z"
   },
   {
    "duration": 12,
    "start_time": "2022-05-30T12:55:53.561Z"
   },
   {
    "duration": 15,
    "start_time": "2022-05-30T12:56:21.421Z"
   },
   {
    "duration": 3,
    "start_time": "2022-05-30T12:57:00.581Z"
   },
   {
    "duration": 65,
    "start_time": "2022-05-30T12:57:00.586Z"
   },
   {
    "duration": 13,
    "start_time": "2022-05-30T12:57:00.653Z"
   },
   {
    "duration": 18,
    "start_time": "2022-05-30T12:57:00.668Z"
   },
   {
    "duration": 10,
    "start_time": "2022-05-30T12:57:00.687Z"
   },
   {
    "duration": 8,
    "start_time": "2022-05-30T12:57:00.699Z"
   },
   {
    "duration": 8,
    "start_time": "2022-05-30T12:57:00.708Z"
   },
   {
    "duration": 19,
    "start_time": "2022-05-30T12:57:00.717Z"
   },
   {
    "duration": 14,
    "start_time": "2022-05-30T12:57:00.738Z"
   },
   {
    "duration": 24,
    "start_time": "2022-05-30T12:57:00.754Z"
   },
   {
    "duration": 24,
    "start_time": "2022-05-30T12:57:00.780Z"
   },
   {
    "duration": 17,
    "start_time": "2022-05-30T12:57:00.805Z"
   },
   {
    "duration": 14,
    "start_time": "2022-05-30T12:57:00.824Z"
   },
   {
    "duration": 19,
    "start_time": "2022-05-30T12:57:00.840Z"
   },
   {
    "duration": 19,
    "start_time": "2022-05-30T12:57:13.905Z"
   },
   {
    "duration": 3,
    "start_time": "2022-05-30T12:57:38.073Z"
   },
   {
    "duration": 56,
    "start_time": "2022-05-30T12:57:38.078Z"
   },
   {
    "duration": 14,
    "start_time": "2022-05-30T12:57:38.135Z"
   },
   {
    "duration": 26,
    "start_time": "2022-05-30T12:57:38.151Z"
   },
   {
    "duration": 13,
    "start_time": "2022-05-30T12:57:38.179Z"
   },
   {
    "duration": 4,
    "start_time": "2022-05-30T12:57:38.195Z"
   },
   {
    "duration": 9,
    "start_time": "2022-05-30T12:57:38.201Z"
   },
   {
    "duration": 25,
    "start_time": "2022-05-30T12:57:38.212Z"
   },
   {
    "duration": 8,
    "start_time": "2022-05-30T12:57:38.240Z"
   },
   {
    "duration": 22,
    "start_time": "2022-05-30T12:57:38.249Z"
   },
   {
    "duration": 22,
    "start_time": "2022-05-30T12:57:38.273Z"
   },
   {
    "duration": 16,
    "start_time": "2022-05-30T12:57:38.297Z"
   },
   {
    "duration": 6,
    "start_time": "2022-05-30T12:57:38.314Z"
   },
   {
    "duration": 21,
    "start_time": "2022-05-30T12:57:38.321Z"
   },
   {
    "duration": 8,
    "start_time": "2022-05-30T12:57:42.946Z"
   },
   {
    "duration": 7,
    "start_time": "2022-05-30T13:03:29.283Z"
   },
   {
    "duration": 14,
    "start_time": "2022-05-30T13:05:15.940Z"
   },
   {
    "duration": 18,
    "start_time": "2022-05-30T13:05:23.707Z"
   },
   {
    "duration": 76,
    "start_time": "2022-05-30T13:05:55.164Z"
   },
   {
    "duration": 13,
    "start_time": "2022-05-30T13:06:12.010Z"
   },
   {
    "duration": 20,
    "start_time": "2022-05-30T13:06:14.339Z"
   },
   {
    "duration": 3,
    "start_time": "2022-05-30T13:06:29.021Z"
   },
   {
    "duration": 52,
    "start_time": "2022-05-30T13:06:29.027Z"
   },
   {
    "duration": 13,
    "start_time": "2022-05-30T13:06:29.081Z"
   },
   {
    "duration": 15,
    "start_time": "2022-05-30T13:06:29.095Z"
   },
   {
    "duration": 12,
    "start_time": "2022-05-30T13:06:29.112Z"
   },
   {
    "duration": 4,
    "start_time": "2022-05-30T13:06:29.126Z"
   },
   {
    "duration": 10,
    "start_time": "2022-05-30T13:06:29.131Z"
   },
   {
    "duration": 14,
    "start_time": "2022-05-30T13:06:29.143Z"
   },
   {
    "duration": 10,
    "start_time": "2022-05-30T13:06:29.158Z"
   },
   {
    "duration": 37,
    "start_time": "2022-05-30T13:06:29.170Z"
   },
   {
    "duration": 17,
    "start_time": "2022-05-30T13:06:29.209Z"
   },
   {
    "duration": 7,
    "start_time": "2022-05-30T13:06:29.228Z"
   },
   {
    "duration": 13,
    "start_time": "2022-05-30T13:06:29.238Z"
   },
   {
    "duration": 9,
    "start_time": "2022-05-30T13:06:29.253Z"
   },
   {
    "duration": 18,
    "start_time": "2022-05-30T13:06:29.263Z"
   },
   {
    "duration": 12,
    "start_time": "2022-05-30T13:07:00.147Z"
   },
   {
    "duration": 7,
    "start_time": "2022-05-30T13:07:12.395Z"
   },
   {
    "duration": 11,
    "start_time": "2022-05-30T13:07:14.019Z"
   },
   {
    "duration": 4,
    "start_time": "2022-05-30T13:07:17.278Z"
   },
   {
    "duration": 69,
    "start_time": "2022-05-30T13:07:17.284Z"
   },
   {
    "duration": 19,
    "start_time": "2022-05-30T13:07:17.355Z"
   },
   {
    "duration": 31,
    "start_time": "2022-05-30T13:07:17.376Z"
   },
   {
    "duration": 15,
    "start_time": "2022-05-30T13:07:17.409Z"
   },
   {
    "duration": 22,
    "start_time": "2022-05-30T13:07:17.426Z"
   },
   {
    "duration": 10,
    "start_time": "2022-05-30T13:07:17.450Z"
   },
   {
    "duration": 32,
    "start_time": "2022-05-30T13:07:17.463Z"
   },
   {
    "duration": 20,
    "start_time": "2022-05-30T13:07:17.497Z"
   },
   {
    "duration": 28,
    "start_time": "2022-05-30T13:07:17.519Z"
   },
   {
    "duration": 17,
    "start_time": "2022-05-30T13:07:17.549Z"
   },
   {
    "duration": 5,
    "start_time": "2022-05-30T13:07:17.568Z"
   },
   {
    "duration": 15,
    "start_time": "2022-05-30T13:07:17.576Z"
   },
   {
    "duration": 19,
    "start_time": "2022-05-30T13:07:17.593Z"
   },
   {
    "duration": 12,
    "start_time": "2022-05-30T13:07:17.613Z"
   },
   {
    "duration": 3,
    "start_time": "2022-05-30T13:09:22.060Z"
   },
   {
    "duration": 75,
    "start_time": "2022-05-30T13:09:22.065Z"
   },
   {
    "duration": 13,
    "start_time": "2022-05-30T13:09:22.142Z"
   },
   {
    "duration": 31,
    "start_time": "2022-05-30T13:09:22.156Z"
   },
   {
    "duration": 21,
    "start_time": "2022-05-30T13:09:22.190Z"
   },
   {
    "duration": 37,
    "start_time": "2022-05-30T13:09:22.213Z"
   },
   {
    "duration": 17,
    "start_time": "2022-05-30T13:09:22.252Z"
   },
   {
    "duration": 17,
    "start_time": "2022-05-30T13:09:22.271Z"
   },
   {
    "duration": 16,
    "start_time": "2022-05-30T13:09:22.290Z"
   },
   {
    "duration": 34,
    "start_time": "2022-05-30T13:09:22.307Z"
   },
   {
    "duration": 11,
    "start_time": "2022-05-30T13:09:22.343Z"
   },
   {
    "duration": 22,
    "start_time": "2022-05-30T13:09:22.355Z"
   },
   {
    "duration": 21,
    "start_time": "2022-05-30T13:09:22.378Z"
   },
   {
    "duration": 15,
    "start_time": "2022-05-30T13:09:22.401Z"
   },
   {
    "duration": 11,
    "start_time": "2022-05-30T13:09:22.418Z"
   },
   {
    "duration": 13,
    "start_time": "2022-05-30T13:09:46.419Z"
   },
   {
    "duration": 12,
    "start_time": "2022-05-30T13:09:50.491Z"
   },
   {
    "duration": 18,
    "start_time": "2022-05-30T13:09:56.648Z"
   },
   {
    "duration": 8,
    "start_time": "2022-05-30T13:10:45.755Z"
   },
   {
    "duration": 22,
    "start_time": "2022-05-30T13:10:47.424Z"
   },
   {
    "duration": 4,
    "start_time": "2022-05-30T13:10:51.006Z"
   },
   {
    "duration": 56,
    "start_time": "2022-05-30T13:10:51.011Z"
   },
   {
    "duration": 14,
    "start_time": "2022-05-30T13:10:51.068Z"
   },
   {
    "duration": 19,
    "start_time": "2022-05-30T13:10:51.083Z"
   },
   {
    "duration": 9,
    "start_time": "2022-05-30T13:10:51.104Z"
   },
   {
    "duration": 6,
    "start_time": "2022-05-30T13:10:51.114Z"
   },
   {
    "duration": 6,
    "start_time": "2022-05-30T13:10:51.121Z"
   },
   {
    "duration": 16,
    "start_time": "2022-05-30T13:10:51.128Z"
   },
   {
    "duration": 8,
    "start_time": "2022-05-30T13:10:51.146Z"
   },
   {
    "duration": 45,
    "start_time": "2022-05-30T13:10:51.156Z"
   },
   {
    "duration": 12,
    "start_time": "2022-05-30T13:10:51.203Z"
   },
   {
    "duration": 5,
    "start_time": "2022-05-30T13:10:51.217Z"
   },
   {
    "duration": 13,
    "start_time": "2022-05-30T13:10:51.223Z"
   },
   {
    "duration": 9,
    "start_time": "2022-05-30T13:10:51.237Z"
   },
   {
    "duration": 20,
    "start_time": "2022-05-30T13:10:51.248Z"
   },
   {
    "duration": 12,
    "start_time": "2022-05-30T13:11:24.587Z"
   },
   {
    "duration": 10,
    "start_time": "2022-05-30T13:12:22.507Z"
   },
   {
    "duration": 145,
    "start_time": "2022-05-30T13:12:35.956Z"
   },
   {
    "duration": 12,
    "start_time": "2022-05-30T13:13:10.218Z"
   },
   {
    "duration": 11,
    "start_time": "2022-05-30T13:13:11.748Z"
   },
   {
    "duration": 168,
    "start_time": "2022-05-30T13:13:14.145Z"
   },
   {
    "duration": 4,
    "start_time": "2022-05-30T13:13:16.645Z"
   },
   {
    "duration": 62,
    "start_time": "2022-05-30T13:13:16.651Z"
   },
   {
    "duration": 16,
    "start_time": "2022-05-30T13:13:16.715Z"
   },
   {
    "duration": 15,
    "start_time": "2022-05-30T13:13:16.732Z"
   },
   {
    "duration": 10,
    "start_time": "2022-05-30T13:13:16.749Z"
   },
   {
    "duration": 5,
    "start_time": "2022-05-30T13:13:16.760Z"
   },
   {
    "duration": 29,
    "start_time": "2022-05-30T13:13:16.767Z"
   },
   {
    "duration": 19,
    "start_time": "2022-05-30T13:13:16.797Z"
   },
   {
    "duration": 13,
    "start_time": "2022-05-30T13:13:16.817Z"
   },
   {
    "duration": 23,
    "start_time": "2022-05-30T13:13:16.832Z"
   },
   {
    "duration": 12,
    "start_time": "2022-05-30T13:13:16.857Z"
   },
   {
    "duration": 6,
    "start_time": "2022-05-30T13:13:16.871Z"
   },
   {
    "duration": 20,
    "start_time": "2022-05-30T13:13:16.879Z"
   },
   {
    "duration": 11,
    "start_time": "2022-05-30T13:13:16.901Z"
   },
   {
    "duration": 14,
    "start_time": "2022-05-30T13:13:16.914Z"
   },
   {
    "duration": 133,
    "start_time": "2022-05-30T13:13:16.930Z"
   },
   {
    "duration": 19,
    "start_time": "2022-05-30T13:13:27.763Z"
   },
   {
    "duration": 108,
    "start_time": "2022-05-30T13:14:02.410Z"
   },
   {
    "duration": 7,
    "start_time": "2022-05-30T13:14:11.970Z"
   },
   {
    "duration": 11,
    "start_time": "2022-05-30T13:14:24.673Z"
   },
   {
    "duration": 150,
    "start_time": "2022-05-30T13:14:35.644Z"
   },
   {
    "duration": 3,
    "start_time": "2022-05-30T13:14:53.728Z"
   },
   {
    "duration": 52,
    "start_time": "2022-05-30T13:14:53.733Z"
   },
   {
    "duration": 14,
    "start_time": "2022-05-30T13:14:53.787Z"
   },
   {
    "duration": 15,
    "start_time": "2022-05-30T13:14:53.802Z"
   },
   {
    "duration": 12,
    "start_time": "2022-05-30T13:14:53.819Z"
   },
   {
    "duration": 6,
    "start_time": "2022-05-30T13:14:53.832Z"
   },
   {
    "duration": 8,
    "start_time": "2022-05-30T13:14:53.840Z"
   },
   {
    "duration": 16,
    "start_time": "2022-05-30T13:14:53.850Z"
   },
   {
    "duration": 10,
    "start_time": "2022-05-30T13:14:53.867Z"
   },
   {
    "duration": 19,
    "start_time": "2022-05-30T13:14:53.895Z"
   },
   {
    "duration": 9,
    "start_time": "2022-05-30T13:14:53.917Z"
   },
   {
    "duration": 9,
    "start_time": "2022-05-30T13:14:53.928Z"
   },
   {
    "duration": 7,
    "start_time": "2022-05-30T13:14:53.939Z"
   },
   {
    "duration": 29,
    "start_time": "2022-05-30T13:14:53.948Z"
   },
   {
    "duration": 0,
    "start_time": "2022-05-30T13:14:53.978Z"
   },
   {
    "duration": 0,
    "start_time": "2022-05-30T13:14:53.979Z"
   },
   {
    "duration": 0,
    "start_time": "2022-05-30T13:14:53.980Z"
   },
   {
    "duration": 0,
    "start_time": "2022-05-30T13:14:53.995Z"
   },
   {
    "duration": 17,
    "start_time": "2022-05-30T13:15:23.096Z"
   },
   {
    "duration": 281,
    "start_time": "2022-05-30T13:19:32.355Z"
   },
   {
    "duration": 3,
    "start_time": "2022-05-30T13:20:31.156Z"
   },
   {
    "duration": 10,
    "start_time": "2022-05-30T13:20:34.866Z"
   },
   {
    "duration": 4,
    "start_time": "2022-05-30T13:20:39.805Z"
   },
   {
    "duration": 61,
    "start_time": "2022-05-30T13:20:39.810Z"
   },
   {
    "duration": 14,
    "start_time": "2022-05-30T13:20:39.873Z"
   },
   {
    "duration": 16,
    "start_time": "2022-05-30T13:20:39.889Z"
   },
   {
    "duration": 9,
    "start_time": "2022-05-30T13:20:39.908Z"
   },
   {
    "duration": 4,
    "start_time": "2022-05-30T13:20:39.919Z"
   },
   {
    "duration": 6,
    "start_time": "2022-05-30T13:20:39.924Z"
   },
   {
    "duration": 14,
    "start_time": "2022-05-30T13:20:39.931Z"
   },
   {
    "duration": 8,
    "start_time": "2022-05-30T13:20:39.946Z"
   },
   {
    "duration": 50,
    "start_time": "2022-05-30T13:20:39.955Z"
   },
   {
    "duration": 9,
    "start_time": "2022-05-30T13:20:40.007Z"
   },
   {
    "duration": 6,
    "start_time": "2022-05-30T13:20:40.018Z"
   },
   {
    "duration": 20,
    "start_time": "2022-05-30T13:20:40.026Z"
   },
   {
    "duration": 55,
    "start_time": "2022-05-30T13:23:30.267Z"
   },
   {
    "duration": 5,
    "start_time": "2022-05-30T13:24:05.351Z"
   },
   {
    "duration": 12,
    "start_time": "2022-05-30T13:24:07.300Z"
   },
   {
    "duration": 4,
    "start_time": "2022-05-30T13:24:11.285Z"
   },
   {
    "duration": 93,
    "start_time": "2022-05-30T13:24:11.290Z"
   },
   {
    "duration": 13,
    "start_time": "2022-05-30T13:24:11.384Z"
   },
   {
    "duration": 21,
    "start_time": "2022-05-30T13:24:11.399Z"
   },
   {
    "duration": 22,
    "start_time": "2022-05-30T13:24:11.421Z"
   },
   {
    "duration": 3,
    "start_time": "2022-05-30T13:24:11.445Z"
   },
   {
    "duration": 23,
    "start_time": "2022-05-30T13:24:11.450Z"
   },
   {
    "duration": 24,
    "start_time": "2022-05-30T13:24:11.474Z"
   },
   {
    "duration": 10,
    "start_time": "2022-05-30T13:24:11.501Z"
   },
   {
    "duration": 27,
    "start_time": "2022-05-30T13:24:11.513Z"
   },
   {
    "duration": 24,
    "start_time": "2022-05-30T13:24:11.542Z"
   },
   {
    "duration": 18,
    "start_time": "2022-05-30T13:24:11.568Z"
   },
   {
    "duration": 30,
    "start_time": "2022-05-30T13:24:11.587Z"
   },
   {
    "duration": 1417,
    "start_time": "2022-05-30T17:32:45.041Z"
   },
   {
    "duration": 49,
    "start_time": "2022-05-30T17:33:27.948Z"
   },
   {
    "duration": 1133,
    "start_time": "2022-05-30T17:33:44.564Z"
   },
   {
    "duration": 99,
    "start_time": "2022-05-30T17:33:45.699Z"
   },
   {
    "duration": 73,
    "start_time": "2022-05-30T17:33:45.811Z"
   },
   {
    "duration": 26,
    "start_time": "2022-05-30T17:33:45.885Z"
   },
   {
    "duration": 15,
    "start_time": "2022-05-30T17:33:45.913Z"
   },
   {
    "duration": 12,
    "start_time": "2022-05-30T17:33:45.930Z"
   },
   {
    "duration": 8,
    "start_time": "2022-05-30T17:33:45.944Z"
   },
   {
    "duration": 20,
    "start_time": "2022-05-30T17:33:45.954Z"
   },
   {
    "duration": 17,
    "start_time": "2022-05-30T17:33:45.976Z"
   },
   {
    "duration": 68,
    "start_time": "2022-05-30T17:33:45.994Z"
   },
   {
    "duration": 20,
    "start_time": "2022-05-30T17:33:46.064Z"
   },
   {
    "duration": 5,
    "start_time": "2022-05-30T17:33:46.086Z"
   },
   {
    "duration": 57,
    "start_time": "2022-05-30T17:33:46.092Z"
   },
   {
    "duration": 2,
    "start_time": "2022-05-30T17:36:56.387Z"
   },
   {
    "duration": 3,
    "start_time": "2022-05-30T17:43:45.337Z"
   },
   {
    "duration": 3,
    "start_time": "2022-05-30T17:46:12.834Z"
   },
   {
    "duration": 3,
    "start_time": "2022-05-30T17:46:14.392Z"
   },
   {
    "duration": 4,
    "start_time": "2022-05-30T17:48:55.762Z"
   },
   {
    "duration": 71,
    "start_time": "2022-05-30T17:48:55.769Z"
   },
   {
    "duration": 18,
    "start_time": "2022-05-30T17:48:55.842Z"
   },
   {
    "duration": 19,
    "start_time": "2022-05-30T17:48:55.862Z"
   },
   {
    "duration": 21,
    "start_time": "2022-05-30T17:48:55.883Z"
   },
   {
    "duration": 23,
    "start_time": "2022-05-30T17:48:55.905Z"
   },
   {
    "duration": 19,
    "start_time": "2022-05-30T17:48:55.930Z"
   },
   {
    "duration": 22,
    "start_time": "2022-05-30T17:48:55.960Z"
   },
   {
    "duration": 12,
    "start_time": "2022-05-30T17:48:55.985Z"
   },
   {
    "duration": 34,
    "start_time": "2022-05-30T17:48:55.999Z"
   },
   {
    "duration": 17,
    "start_time": "2022-05-30T17:48:56.035Z"
   },
   {
    "duration": 7,
    "start_time": "2022-05-30T17:48:56.054Z"
   },
   {
    "duration": 38,
    "start_time": "2022-05-30T17:48:56.062Z"
   },
   {
    "duration": 22,
    "start_time": "2022-05-30T17:48:56.102Z"
   },
   {
    "duration": 9,
    "start_time": "2022-05-30T17:48:56.127Z"
   },
   {
    "duration": 20,
    "start_time": "2022-05-30T17:48:56.138Z"
   },
   {
    "duration": 9,
    "start_time": "2022-05-30T17:48:56.160Z"
   },
   {
    "duration": 571,
    "start_time": "2022-05-30T17:48:56.170Z"
   },
   {
    "duration": 3,
    "start_time": "2022-05-30T17:51:41.383Z"
   },
   {
    "duration": 47,
    "start_time": "2022-05-30T17:51:41.436Z"
   },
   {
    "duration": 13,
    "start_time": "2022-05-30T17:51:41.485Z"
   },
   {
    "duration": 42,
    "start_time": "2022-05-30T17:51:41.505Z"
   },
   {
    "duration": 15,
    "start_time": "2022-05-30T17:51:41.548Z"
   },
   {
    "duration": 17,
    "start_time": "2022-05-30T17:51:41.564Z"
   },
   {
    "duration": 14,
    "start_time": "2022-05-30T17:51:41.583Z"
   },
   {
    "duration": 35,
    "start_time": "2022-05-30T17:51:41.602Z"
   },
   {
    "duration": 21,
    "start_time": "2022-05-30T17:51:41.638Z"
   },
   {
    "duration": 18,
    "start_time": "2022-05-30T17:51:41.661Z"
   },
   {
    "duration": 17,
    "start_time": "2022-05-30T17:51:41.681Z"
   },
   {
    "duration": 33,
    "start_time": "2022-05-30T17:51:41.701Z"
   },
   {
    "duration": 27,
    "start_time": "2022-05-30T17:51:41.736Z"
   },
   {
    "duration": 26,
    "start_time": "2022-05-30T17:51:41.765Z"
   },
   {
    "duration": 44,
    "start_time": "2022-05-30T17:51:41.793Z"
   },
   {
    "duration": 45,
    "start_time": "2022-05-30T17:51:41.839Z"
   },
   {
    "duration": 41,
    "start_time": "2022-05-30T17:51:41.889Z"
   },
   {
    "duration": 430,
    "start_time": "2022-05-30T17:51:41.933Z"
   },
   {
    "duration": 4,
    "start_time": "2022-05-30T17:56:32.925Z"
   },
   {
    "duration": 52,
    "start_time": "2022-05-30T17:56:32.930Z"
   },
   {
    "duration": 13,
    "start_time": "2022-05-30T17:56:32.984Z"
   },
   {
    "duration": 47,
    "start_time": "2022-05-30T17:56:33.000Z"
   },
   {
    "duration": 13,
    "start_time": "2022-05-30T17:56:33.049Z"
   },
   {
    "duration": 8,
    "start_time": "2022-05-30T17:56:33.064Z"
   },
   {
    "duration": 10,
    "start_time": "2022-05-30T17:56:33.074Z"
   },
   {
    "duration": 26,
    "start_time": "2022-05-30T17:56:33.086Z"
   },
   {
    "duration": 14,
    "start_time": "2022-05-30T17:56:33.114Z"
   },
   {
    "duration": 18,
    "start_time": "2022-05-30T17:56:33.130Z"
   },
   {
    "duration": 11,
    "start_time": "2022-05-30T17:56:33.150Z"
   },
   {
    "duration": 4,
    "start_time": "2022-05-30T17:56:33.163Z"
   },
   {
    "duration": 38,
    "start_time": "2022-05-30T17:56:33.169Z"
   },
   {
    "duration": 14,
    "start_time": "2022-05-30T17:56:33.213Z"
   },
   {
    "duration": 5,
    "start_time": "2022-05-30T17:56:33.228Z"
   },
   {
    "duration": 7,
    "start_time": "2022-05-30T17:56:33.234Z"
   },
   {
    "duration": 6,
    "start_time": "2022-05-30T17:56:33.243Z"
   },
   {
    "duration": 5,
    "start_time": "2022-05-30T17:56:33.250Z"
   },
   {
    "duration": 475,
    "start_time": "2022-05-30T17:56:33.256Z"
   },
   {
    "duration": 6,
    "start_time": "2022-05-30T17:59:30.898Z"
   },
   {
    "duration": 4,
    "start_time": "2022-05-30T17:59:53.653Z"
   },
   {
    "duration": 91,
    "start_time": "2022-05-30T17:59:53.659Z"
   },
   {
    "duration": 12,
    "start_time": "2022-05-30T17:59:53.751Z"
   },
   {
    "duration": 27,
    "start_time": "2022-05-30T17:59:53.765Z"
   },
   {
    "duration": 44,
    "start_time": "2022-05-30T17:59:53.794Z"
   },
   {
    "duration": 8,
    "start_time": "2022-05-30T17:59:53.839Z"
   },
   {
    "duration": 23,
    "start_time": "2022-05-30T17:59:53.848Z"
   },
   {
    "duration": 67,
    "start_time": "2022-05-30T17:59:53.872Z"
   },
   {
    "duration": 28,
    "start_time": "2022-05-30T17:59:53.940Z"
   },
   {
    "duration": 33,
    "start_time": "2022-05-30T17:59:53.969Z"
   },
   {
    "duration": 45,
    "start_time": "2022-05-30T17:59:54.004Z"
   },
   {
    "duration": 15,
    "start_time": "2022-05-30T17:59:54.050Z"
   },
   {
    "duration": 26,
    "start_time": "2022-05-30T17:59:54.067Z"
   },
   {
    "duration": 49,
    "start_time": "2022-05-30T17:59:54.095Z"
   },
   {
    "duration": 26,
    "start_time": "2022-05-30T17:59:54.146Z"
   },
   {
    "duration": 22,
    "start_time": "2022-05-30T17:59:54.174Z"
   },
   {
    "duration": 41,
    "start_time": "2022-05-30T17:59:54.197Z"
   },
   {
    "duration": 29,
    "start_time": "2022-05-30T17:59:54.239Z"
   },
   {
    "duration": 16,
    "start_time": "2022-05-30T17:59:54.270Z"
   },
   {
    "duration": 564,
    "start_time": "2022-05-30T17:59:54.288Z"
   },
   {
    "duration": 3,
    "start_time": "2022-05-30T18:15:56.167Z"
   },
   {
    "duration": 80,
    "start_time": "2022-05-30T18:15:56.171Z"
   },
   {
    "duration": 13,
    "start_time": "2022-05-30T18:15:56.253Z"
   },
   {
    "duration": 32,
    "start_time": "2022-05-30T18:15:56.270Z"
   },
   {
    "duration": 46,
    "start_time": "2022-05-30T18:15:56.303Z"
   },
   {
    "duration": 14,
    "start_time": "2022-05-30T18:15:56.350Z"
   },
   {
    "duration": 18,
    "start_time": "2022-05-30T18:15:56.366Z"
   },
   {
    "duration": 28,
    "start_time": "2022-05-30T18:15:56.385Z"
   },
   {
    "duration": 33,
    "start_time": "2022-05-30T18:15:56.416Z"
   },
   {
    "duration": 24,
    "start_time": "2022-05-30T18:15:56.451Z"
   },
   {
    "duration": 32,
    "start_time": "2022-05-30T18:15:56.477Z"
   },
   {
    "duration": 36,
    "start_time": "2022-05-30T18:15:56.511Z"
   },
   {
    "duration": 29,
    "start_time": "2022-05-30T18:15:56.549Z"
   },
   {
    "duration": 14,
    "start_time": "2022-05-30T18:15:56.580Z"
   },
   {
    "duration": 40,
    "start_time": "2022-05-30T18:15:56.596Z"
   },
   {
    "duration": 5,
    "start_time": "2022-05-30T18:15:56.638Z"
   },
   {
    "duration": 7,
    "start_time": "2022-05-30T18:15:56.645Z"
   },
   {
    "duration": 4,
    "start_time": "2022-05-30T18:15:56.654Z"
   },
   {
    "duration": 5,
    "start_time": "2022-05-30T18:15:56.660Z"
   },
   {
    "duration": 614,
    "start_time": "2022-05-30T18:15:56.666Z"
   },
   {
    "duration": 3,
    "start_time": "2022-05-30T18:16:57.959Z"
   },
   {
    "duration": 69,
    "start_time": "2022-05-30T18:16:57.964Z"
   },
   {
    "duration": 13,
    "start_time": "2022-05-30T18:16:58.034Z"
   },
   {
    "duration": 14,
    "start_time": "2022-05-30T18:16:58.048Z"
   },
   {
    "duration": 8,
    "start_time": "2022-05-30T18:16:58.063Z"
   },
   {
    "duration": 3,
    "start_time": "2022-05-30T18:16:58.072Z"
   },
   {
    "duration": 6,
    "start_time": "2022-05-30T18:16:58.076Z"
   },
   {
    "duration": 16,
    "start_time": "2022-05-30T18:16:58.099Z"
   },
   {
    "duration": 23,
    "start_time": "2022-05-30T18:16:58.119Z"
   },
   {
    "duration": 18,
    "start_time": "2022-05-30T18:16:58.144Z"
   },
   {
    "duration": 11,
    "start_time": "2022-05-30T18:16:58.163Z"
   },
   {
    "duration": 4,
    "start_time": "2022-05-30T18:16:58.176Z"
   },
   {
    "duration": 24,
    "start_time": "2022-05-30T18:16:58.182Z"
   },
   {
    "duration": 33,
    "start_time": "2022-05-30T18:16:58.207Z"
   },
   {
    "duration": 5,
    "start_time": "2022-05-30T18:16:58.242Z"
   },
   {
    "duration": 5,
    "start_time": "2022-05-30T18:16:58.249Z"
   },
   {
    "duration": 6,
    "start_time": "2022-05-30T18:16:58.255Z"
   },
   {
    "duration": 5,
    "start_time": "2022-05-30T18:16:58.263Z"
   },
   {
    "duration": 114,
    "start_time": "2022-05-30T18:16:58.270Z"
   },
   {
    "duration": 0,
    "start_time": "2022-05-30T18:16:58.385Z"
   },
   {
    "duration": 0,
    "start_time": "2022-05-30T18:16:58.387Z"
   },
   {
    "duration": 3,
    "start_time": "2022-05-30T18:18:07.089Z"
   },
   {
    "duration": 2,
    "start_time": "2022-05-30T18:18:08.869Z"
   },
   {
    "duration": 3,
    "start_time": "2022-05-30T18:19:41.618Z"
   },
   {
    "duration": 4,
    "start_time": "2022-05-30T18:21:49.527Z"
   },
   {
    "duration": 3,
    "start_time": "2022-05-30T18:21:50.416Z"
   },
   {
    "duration": 5,
    "start_time": "2022-05-30T18:21:52.343Z"
   },
   {
    "duration": 62,
    "start_time": "2022-05-30T18:21:52.350Z"
   },
   {
    "duration": 14,
    "start_time": "2022-05-30T18:21:52.415Z"
   },
   {
    "duration": 14,
    "start_time": "2022-05-30T18:21:52.430Z"
   },
   {
    "duration": 7,
    "start_time": "2022-05-30T18:21:52.446Z"
   },
   {
    "duration": 8,
    "start_time": "2022-05-30T18:21:52.455Z"
   },
   {
    "duration": 9,
    "start_time": "2022-05-30T18:21:52.465Z"
   },
   {
    "duration": 38,
    "start_time": "2022-05-30T18:21:52.476Z"
   },
   {
    "duration": 12,
    "start_time": "2022-05-30T18:21:52.515Z"
   },
   {
    "duration": 23,
    "start_time": "2022-05-30T18:21:52.529Z"
   },
   {
    "duration": 11,
    "start_time": "2022-05-30T18:21:52.553Z"
   },
   {
    "duration": 6,
    "start_time": "2022-05-30T18:21:52.566Z"
   },
   {
    "duration": 45,
    "start_time": "2022-05-30T18:21:52.573Z"
   },
   {
    "duration": 16,
    "start_time": "2022-05-30T18:21:52.622Z"
   },
   {
    "duration": 11,
    "start_time": "2022-05-30T18:21:52.640Z"
   },
   {
    "duration": 11,
    "start_time": "2022-05-30T18:21:52.653Z"
   },
   {
    "duration": 11,
    "start_time": "2022-05-30T18:21:52.665Z"
   },
   {
    "duration": 11,
    "start_time": "2022-05-30T18:21:52.678Z"
   },
   {
    "duration": 8,
    "start_time": "2022-05-30T18:21:52.691Z"
   },
   {
    "duration": 4,
    "start_time": "2022-05-30T18:26:13.545Z"
   },
   {
    "duration": 69,
    "start_time": "2022-05-30T18:26:13.552Z"
   },
   {
    "duration": 16,
    "start_time": "2022-05-30T18:26:13.623Z"
   },
   {
    "duration": 13,
    "start_time": "2022-05-30T18:26:13.640Z"
   },
   {
    "duration": 9,
    "start_time": "2022-05-30T18:26:13.655Z"
   },
   {
    "duration": 7,
    "start_time": "2022-05-30T18:26:13.665Z"
   },
   {
    "duration": 5,
    "start_time": "2022-05-30T18:26:13.674Z"
   },
   {
    "duration": 29,
    "start_time": "2022-05-30T18:26:13.681Z"
   },
   {
    "duration": 32,
    "start_time": "2022-05-30T18:26:13.711Z"
   },
   {
    "duration": 24,
    "start_time": "2022-05-30T18:26:13.745Z"
   },
   {
    "duration": 12,
    "start_time": "2022-05-30T18:26:13.772Z"
   },
   {
    "duration": 7,
    "start_time": "2022-05-30T18:26:13.785Z"
   },
   {
    "duration": 34,
    "start_time": "2022-05-30T18:26:13.793Z"
   },
   {
    "duration": 14,
    "start_time": "2022-05-30T18:26:13.829Z"
   },
   {
    "duration": 6,
    "start_time": "2022-05-30T18:26:13.845Z"
   },
   {
    "duration": 10,
    "start_time": "2022-05-30T18:26:13.853Z"
   },
   {
    "duration": 15,
    "start_time": "2022-05-30T18:26:13.865Z"
   },
   {
    "duration": 6,
    "start_time": "2022-05-30T18:26:13.881Z"
   },
   {
    "duration": 16,
    "start_time": "2022-05-30T18:26:13.889Z"
   },
   {
    "duration": 3,
    "start_time": "2022-05-30T18:26:30.748Z"
   },
   {
    "duration": 70,
    "start_time": "2022-05-30T18:26:30.754Z"
   },
   {
    "duration": 17,
    "start_time": "2022-05-30T18:26:30.827Z"
   },
   {
    "duration": 50,
    "start_time": "2022-05-30T18:26:30.846Z"
   },
   {
    "duration": 69,
    "start_time": "2022-05-30T18:26:30.898Z"
   },
   {
    "duration": 19,
    "start_time": "2022-05-30T18:26:30.969Z"
   },
   {
    "duration": 36,
    "start_time": "2022-05-30T18:26:30.990Z"
   },
   {
    "duration": 26,
    "start_time": "2022-05-30T18:26:31.028Z"
   },
   {
    "duration": 28,
    "start_time": "2022-05-30T18:26:31.056Z"
   },
   {
    "duration": 32,
    "start_time": "2022-05-30T18:26:31.085Z"
   },
   {
    "duration": 35,
    "start_time": "2022-05-30T18:26:31.120Z"
   },
   {
    "duration": 6,
    "start_time": "2022-05-30T18:26:31.156Z"
   },
   {
    "duration": 30,
    "start_time": "2022-05-30T18:26:31.163Z"
   },
   {
    "duration": 33,
    "start_time": "2022-05-30T18:26:31.195Z"
   },
   {
    "duration": 7,
    "start_time": "2022-05-30T18:26:31.230Z"
   },
   {
    "duration": 8,
    "start_time": "2022-05-30T18:26:31.238Z"
   },
   {
    "duration": 11,
    "start_time": "2022-05-30T18:26:31.247Z"
   },
   {
    "duration": 24,
    "start_time": "2022-05-30T18:26:31.259Z"
   },
   {
    "duration": 14,
    "start_time": "2022-05-30T18:26:31.284Z"
   },
   {
    "duration": 0,
    "start_time": "2022-05-30T18:26:31.299Z"
   },
   {
    "duration": 4,
    "start_time": "2022-05-30T18:28:32.122Z"
   },
   {
    "duration": 23,
    "start_time": "2022-05-30T18:36:58.748Z"
   },
   {
    "duration": 21,
    "start_time": "2022-05-30T18:37:15.127Z"
   },
   {
    "duration": 23,
    "start_time": "2022-05-30T18:37:35.734Z"
   },
   {
    "duration": 3,
    "start_time": "2022-05-30T18:37:38.116Z"
   },
   {
    "duration": 58,
    "start_time": "2022-05-30T18:37:38.121Z"
   },
   {
    "duration": 16,
    "start_time": "2022-05-30T18:37:38.180Z"
   },
   {
    "duration": 30,
    "start_time": "2022-05-30T18:37:38.202Z"
   },
   {
    "duration": 12,
    "start_time": "2022-05-30T18:37:38.234Z"
   },
   {
    "duration": 5,
    "start_time": "2022-05-30T18:37:38.248Z"
   },
   {
    "duration": 9,
    "start_time": "2022-05-30T18:37:38.255Z"
   },
   {
    "duration": 29,
    "start_time": "2022-05-30T18:37:38.266Z"
   },
   {
    "duration": 16,
    "start_time": "2022-05-30T18:37:38.300Z"
   },
   {
    "duration": 27,
    "start_time": "2022-05-30T18:37:38.317Z"
   },
   {
    "duration": 10,
    "start_time": "2022-05-30T18:37:38.345Z"
   },
   {
    "duration": 6,
    "start_time": "2022-05-30T18:37:38.357Z"
   },
   {
    "duration": 19,
    "start_time": "2022-05-30T18:37:38.365Z"
   },
   {
    "duration": 11,
    "start_time": "2022-05-30T18:37:38.386Z"
   },
   {
    "duration": 17,
    "start_time": "2022-05-30T18:37:38.401Z"
   },
   {
    "duration": 7,
    "start_time": "2022-05-30T18:37:38.420Z"
   },
   {
    "duration": 7,
    "start_time": "2022-05-30T18:37:38.428Z"
   },
   {
    "duration": 25,
    "start_time": "2022-05-30T18:37:38.436Z"
   },
   {
    "duration": 0,
    "start_time": "2022-05-30T18:37:38.463Z"
   },
   {
    "duration": 4,
    "start_time": "2022-05-30T18:38:47.827Z"
   },
   {
    "duration": 58,
    "start_time": "2022-05-30T18:38:47.833Z"
   },
   {
    "duration": 16,
    "start_time": "2022-05-30T18:38:47.892Z"
   },
   {
    "duration": 28,
    "start_time": "2022-05-30T18:38:47.909Z"
   },
   {
    "duration": 10,
    "start_time": "2022-05-30T18:38:47.939Z"
   },
   {
    "duration": 3,
    "start_time": "2022-05-30T18:38:47.951Z"
   },
   {
    "duration": 9,
    "start_time": "2022-05-30T18:38:47.956Z"
   },
   {
    "duration": 16,
    "start_time": "2022-05-30T18:38:47.967Z"
   },
   {
    "duration": 21,
    "start_time": "2022-05-30T18:38:47.985Z"
   },
   {
    "duration": 36,
    "start_time": "2022-05-30T18:38:48.012Z"
   },
   {
    "duration": 19,
    "start_time": "2022-05-30T18:38:48.050Z"
   },
   {
    "duration": 7,
    "start_time": "2022-05-30T18:38:48.071Z"
   },
   {
    "duration": 32,
    "start_time": "2022-05-30T18:38:48.080Z"
   },
   {
    "duration": 17,
    "start_time": "2022-05-30T18:38:48.116Z"
   },
   {
    "duration": 8,
    "start_time": "2022-05-30T18:38:48.134Z"
   },
   {
    "duration": 8,
    "start_time": "2022-05-30T18:38:48.143Z"
   },
   {
    "duration": 4,
    "start_time": "2022-05-30T18:38:48.153Z"
   },
   {
    "duration": 59,
    "start_time": "2022-05-30T18:38:48.159Z"
   },
   {
    "duration": 0,
    "start_time": "2022-05-30T18:38:48.220Z"
   },
   {
    "duration": 3,
    "start_time": "2022-05-30T18:39:11.521Z"
   },
   {
    "duration": 58,
    "start_time": "2022-05-30T18:39:11.527Z"
   },
   {
    "duration": 26,
    "start_time": "2022-05-30T18:39:11.587Z"
   },
   {
    "duration": 33,
    "start_time": "2022-05-30T18:39:11.616Z"
   },
   {
    "duration": 13,
    "start_time": "2022-05-30T18:39:11.652Z"
   },
   {
    "duration": 5,
    "start_time": "2022-05-30T18:39:11.667Z"
   },
   {
    "duration": 7,
    "start_time": "2022-05-30T18:39:11.674Z"
   },
   {
    "duration": 29,
    "start_time": "2022-05-30T18:39:11.682Z"
   },
   {
    "duration": 18,
    "start_time": "2022-05-30T18:39:11.713Z"
   },
   {
    "duration": 26,
    "start_time": "2022-05-30T18:39:11.733Z"
   },
   {
    "duration": 13,
    "start_time": "2022-05-30T18:39:11.760Z"
   },
   {
    "duration": 10,
    "start_time": "2022-05-30T18:39:11.774Z"
   },
   {
    "duration": 62,
    "start_time": "2022-05-30T18:39:11.785Z"
   },
   {
    "duration": 7,
    "start_time": "2022-05-30T18:39:11.850Z"
   },
   {
    "duration": 6,
    "start_time": "2022-05-30T18:39:11.859Z"
   },
   {
    "duration": 6,
    "start_time": "2022-05-30T18:39:11.867Z"
   },
   {
    "duration": 9,
    "start_time": "2022-05-30T18:39:11.875Z"
   },
   {
    "duration": 50,
    "start_time": "2022-05-30T18:39:11.886Z"
   },
   {
    "duration": 0,
    "start_time": "2022-05-30T18:39:11.938Z"
   },
   {
    "duration": 3,
    "start_time": "2022-05-30T18:39:28.949Z"
   },
   {
    "duration": 66,
    "start_time": "2022-05-30T18:39:28.954Z"
   },
   {
    "duration": 16,
    "start_time": "2022-05-30T18:39:29.021Z"
   },
   {
    "duration": 27,
    "start_time": "2022-05-30T18:39:29.039Z"
   },
   {
    "duration": 12,
    "start_time": "2022-05-30T18:39:29.068Z"
   },
   {
    "duration": 4,
    "start_time": "2022-05-30T18:39:29.082Z"
   },
   {
    "duration": 18,
    "start_time": "2022-05-30T18:39:29.087Z"
   },
   {
    "duration": 24,
    "start_time": "2022-05-30T18:39:29.111Z"
   },
   {
    "duration": 15,
    "start_time": "2022-05-30T18:39:29.136Z"
   },
   {
    "duration": 21,
    "start_time": "2022-05-30T18:39:29.153Z"
   },
   {
    "duration": 14,
    "start_time": "2022-05-30T18:39:29.177Z"
   },
   {
    "duration": 26,
    "start_time": "2022-05-30T18:39:29.193Z"
   },
   {
    "duration": 28,
    "start_time": "2022-05-30T18:39:29.220Z"
   },
   {
    "duration": 8,
    "start_time": "2022-05-30T18:39:29.250Z"
   },
   {
    "duration": 3,
    "start_time": "2022-05-30T18:39:29.260Z"
   },
   {
    "duration": 4,
    "start_time": "2022-05-30T18:39:29.265Z"
   },
   {
    "duration": 8,
    "start_time": "2022-05-30T18:39:29.271Z"
   },
   {
    "duration": 11,
    "start_time": "2022-05-30T18:39:29.281Z"
   },
   {
    "duration": 24,
    "start_time": "2022-05-30T18:39:29.293Z"
   },
   {
    "duration": 8,
    "start_time": "2022-05-30T18:39:57.499Z"
   },
   {
    "duration": 64,
    "start_time": "2022-05-30T18:39:57.512Z"
   },
   {
    "duration": 13,
    "start_time": "2022-05-30T18:39:57.578Z"
   },
   {
    "duration": 23,
    "start_time": "2022-05-30T18:39:57.592Z"
   },
   {
    "duration": 12,
    "start_time": "2022-05-30T18:39:57.621Z"
   },
   {
    "duration": 4,
    "start_time": "2022-05-30T18:39:57.635Z"
   },
   {
    "duration": 9,
    "start_time": "2022-05-30T18:39:57.640Z"
   },
   {
    "duration": 19,
    "start_time": "2022-05-30T18:39:57.651Z"
   },
   {
    "duration": 8,
    "start_time": "2022-05-30T18:39:57.671Z"
   },
   {
    "duration": 25,
    "start_time": "2022-05-30T18:39:57.681Z"
   },
   {
    "duration": 20,
    "start_time": "2022-05-30T18:39:57.711Z"
   },
   {
    "duration": 19,
    "start_time": "2022-05-30T18:39:57.733Z"
   },
   {
    "duration": 22,
    "start_time": "2022-05-30T18:39:57.754Z"
   },
   {
    "duration": 16,
    "start_time": "2022-05-30T18:39:57.778Z"
   },
   {
    "duration": 32,
    "start_time": "2022-05-30T18:39:57.796Z"
   },
   {
    "duration": 13,
    "start_time": "2022-05-30T18:39:57.829Z"
   },
   {
    "duration": 7,
    "start_time": "2022-05-30T18:39:57.843Z"
   },
   {
    "duration": 15,
    "start_time": "2022-05-30T18:39:57.851Z"
   },
   {
    "duration": 17,
    "start_time": "2022-05-30T18:39:57.867Z"
   },
   {
    "duration": 0,
    "start_time": "2022-05-30T18:39:57.885Z"
   },
   {
    "duration": 4,
    "start_time": "2022-05-30T18:41:19.988Z"
   },
   {
    "duration": 3,
    "start_time": "2022-05-30T18:41:29.672Z"
   },
   {
    "duration": 69,
    "start_time": "2022-05-30T18:41:29.677Z"
   },
   {
    "duration": 13,
    "start_time": "2022-05-30T18:41:29.748Z"
   },
   {
    "duration": 15,
    "start_time": "2022-05-30T18:41:29.763Z"
   },
   {
    "duration": 24,
    "start_time": "2022-05-30T18:41:29.780Z"
   },
   {
    "duration": 7,
    "start_time": "2022-05-30T18:41:29.809Z"
   },
   {
    "duration": 7,
    "start_time": "2022-05-30T18:41:29.819Z"
   },
   {
    "duration": 19,
    "start_time": "2022-05-30T18:41:29.828Z"
   },
   {
    "duration": 13,
    "start_time": "2022-05-30T18:41:29.850Z"
   },
   {
    "duration": 44,
    "start_time": "2022-05-30T18:41:29.864Z"
   },
   {
    "duration": 25,
    "start_time": "2022-05-30T18:41:29.910Z"
   },
   {
    "duration": 7,
    "start_time": "2022-05-30T18:41:29.937Z"
   },
   {
    "duration": 20,
    "start_time": "2022-05-30T18:41:29.946Z"
   },
   {
    "duration": 14,
    "start_time": "2022-05-30T18:41:29.968Z"
   },
   {
    "duration": 6,
    "start_time": "2022-05-30T18:41:29.983Z"
   },
   {
    "duration": 5,
    "start_time": "2022-05-30T18:41:29.990Z"
   },
   {
    "duration": 38,
    "start_time": "2022-05-30T18:41:29.997Z"
   },
   {
    "duration": 20,
    "start_time": "2022-05-30T18:41:30.037Z"
   },
   {
    "duration": 27,
    "start_time": "2022-05-30T18:41:30.059Z"
   },
   {
    "duration": 10,
    "start_time": "2022-05-30T18:41:55.239Z"
   },
   {
    "duration": 8,
    "start_time": "2022-05-30T18:42:01.279Z"
   },
   {
    "duration": 4,
    "start_time": "2022-05-30T18:42:54.572Z"
   },
   {
    "duration": 85,
    "start_time": "2022-05-30T18:42:54.577Z"
   },
   {
    "duration": 19,
    "start_time": "2022-05-30T18:42:54.664Z"
   },
   {
    "duration": 32,
    "start_time": "2022-05-30T18:42:54.684Z"
   },
   {
    "duration": 30,
    "start_time": "2022-05-30T18:42:54.719Z"
   },
   {
    "duration": 3,
    "start_time": "2022-05-30T18:42:54.750Z"
   },
   {
    "duration": 7,
    "start_time": "2022-05-30T18:42:54.754Z"
   },
   {
    "duration": 15,
    "start_time": "2022-05-30T18:42:54.762Z"
   },
   {
    "duration": 6,
    "start_time": "2022-05-30T18:42:54.779Z"
   },
   {
    "duration": 28,
    "start_time": "2022-05-30T18:42:54.786Z"
   },
   {
    "duration": 28,
    "start_time": "2022-05-30T18:42:54.816Z"
   },
   {
    "duration": 11,
    "start_time": "2022-05-30T18:42:54.846Z"
   },
   {
    "duration": 19,
    "start_time": "2022-05-30T18:42:54.860Z"
   },
   {
    "duration": 9,
    "start_time": "2022-05-30T18:42:54.882Z"
   },
   {
    "duration": 8,
    "start_time": "2022-05-30T18:42:54.893Z"
   },
   {
    "duration": 35,
    "start_time": "2022-05-30T18:42:54.903Z"
   },
   {
    "duration": 5,
    "start_time": "2022-05-30T18:42:54.940Z"
   },
   {
    "duration": 9,
    "start_time": "2022-05-30T18:42:54.946Z"
   },
   {
    "duration": 11,
    "start_time": "2022-05-30T18:42:54.956Z"
   },
   {
    "duration": 3,
    "start_time": "2022-05-30T18:45:55.280Z"
   },
   {
    "duration": 78,
    "start_time": "2022-05-30T18:45:55.286Z"
   },
   {
    "duration": 12,
    "start_time": "2022-05-30T18:45:55.366Z"
   },
   {
    "duration": 15,
    "start_time": "2022-05-30T18:45:55.380Z"
   },
   {
    "duration": 20,
    "start_time": "2022-05-30T18:45:55.397Z"
   },
   {
    "duration": 21,
    "start_time": "2022-05-30T18:45:55.419Z"
   },
   {
    "duration": 8,
    "start_time": "2022-05-30T18:45:55.442Z"
   },
   {
    "duration": 26,
    "start_time": "2022-05-30T18:45:55.452Z"
   },
   {
    "duration": 6,
    "start_time": "2022-05-30T18:45:55.480Z"
   },
   {
    "duration": 33,
    "start_time": "2022-05-30T18:45:55.487Z"
   },
   {
    "duration": 17,
    "start_time": "2022-05-30T18:45:55.528Z"
   },
   {
    "duration": 6,
    "start_time": "2022-05-30T18:45:55.546Z"
   },
   {
    "duration": 19,
    "start_time": "2022-05-30T18:45:55.553Z"
   },
   {
    "duration": 9,
    "start_time": "2022-05-30T18:45:55.573Z"
   },
   {
    "duration": 4,
    "start_time": "2022-05-30T18:45:55.584Z"
   },
   {
    "duration": 6,
    "start_time": "2022-05-30T18:45:55.590Z"
   },
   {
    "duration": 27,
    "start_time": "2022-05-30T18:45:55.597Z"
   },
   {
    "duration": 11,
    "start_time": "2022-05-30T18:45:55.628Z"
   },
   {
    "duration": 6,
    "start_time": "2022-05-30T18:45:55.640Z"
   },
   {
    "duration": 4,
    "start_time": "2022-05-30T18:46:22.557Z"
   },
   {
    "duration": 8,
    "start_time": "2022-05-30T18:46:27.162Z"
   },
   {
    "duration": 899,
    "start_time": "2022-05-30T18:52:40.928Z"
   },
   {
    "duration": 3,
    "start_time": "2022-05-30T18:53:23.635Z"
   },
   {
    "duration": 5,
    "start_time": "2022-05-30T18:53:27.564Z"
   },
   {
    "duration": 59,
    "start_time": "2022-05-30T18:53:27.571Z"
   },
   {
    "duration": 13,
    "start_time": "2022-05-30T18:53:27.632Z"
   },
   {
    "duration": 27,
    "start_time": "2022-05-30T18:53:27.646Z"
   },
   {
    "duration": 12,
    "start_time": "2022-05-30T18:53:27.675Z"
   },
   {
    "duration": 13,
    "start_time": "2022-05-30T18:53:27.689Z"
   },
   {
    "duration": 18,
    "start_time": "2022-05-30T18:53:27.704Z"
   },
   {
    "duration": 24,
    "start_time": "2022-05-30T18:53:27.724Z"
   },
   {
    "duration": 23,
    "start_time": "2022-05-30T18:53:27.750Z"
   },
   {
    "duration": 24,
    "start_time": "2022-05-30T18:53:27.775Z"
   },
   {
    "duration": 29,
    "start_time": "2022-05-30T18:53:27.801Z"
   },
   {
    "duration": 14,
    "start_time": "2022-05-30T18:53:27.832Z"
   },
   {
    "duration": 24,
    "start_time": "2022-05-30T18:53:27.848Z"
   },
   {
    "duration": 16,
    "start_time": "2022-05-30T18:53:27.873Z"
   },
   {
    "duration": 8,
    "start_time": "2022-05-30T18:53:27.891Z"
   },
   {
    "duration": 15,
    "start_time": "2022-05-30T18:53:27.901Z"
   },
   {
    "duration": 20,
    "start_time": "2022-05-30T18:53:27.917Z"
   },
   {
    "duration": 10,
    "start_time": "2022-05-30T18:53:27.939Z"
   },
   {
    "duration": 20,
    "start_time": "2022-05-30T18:53:27.950Z"
   },
   {
    "duration": 365,
    "start_time": "2022-05-30T18:53:27.972Z"
   },
   {
    "duration": 3,
    "start_time": "2022-05-30T18:53:36.443Z"
   },
   {
    "duration": 4,
    "start_time": "2022-05-30T18:53:39.724Z"
   },
   {
    "duration": 54,
    "start_time": "2022-05-30T18:53:39.731Z"
   },
   {
    "duration": 13,
    "start_time": "2022-05-30T18:53:39.786Z"
   },
   {
    "duration": 22,
    "start_time": "2022-05-30T18:53:39.801Z"
   },
   {
    "duration": 17,
    "start_time": "2022-05-30T18:53:39.826Z"
   },
   {
    "duration": 6,
    "start_time": "2022-05-30T18:53:39.845Z"
   },
   {
    "duration": 8,
    "start_time": "2022-05-30T18:53:39.853Z"
   },
   {
    "duration": 16,
    "start_time": "2022-05-30T18:53:39.863Z"
   },
   {
    "duration": 20,
    "start_time": "2022-05-30T18:53:39.881Z"
   },
   {
    "duration": 29,
    "start_time": "2022-05-30T18:53:39.903Z"
   },
   {
    "duration": 15,
    "start_time": "2022-05-30T18:53:39.934Z"
   },
   {
    "duration": 6,
    "start_time": "2022-05-30T18:53:39.951Z"
   },
   {
    "duration": 46,
    "start_time": "2022-05-30T18:53:39.959Z"
   },
   {
    "duration": 8,
    "start_time": "2022-05-30T18:53:40.009Z"
   },
   {
    "duration": 5,
    "start_time": "2022-05-30T18:53:40.018Z"
   },
   {
    "duration": 8,
    "start_time": "2022-05-30T18:53:40.026Z"
   },
   {
    "duration": 6,
    "start_time": "2022-05-30T18:53:40.036Z"
   },
   {
    "duration": 17,
    "start_time": "2022-05-30T18:53:40.043Z"
   },
   {
    "duration": 11,
    "start_time": "2022-05-30T18:53:40.062Z"
   },
   {
    "duration": 375,
    "start_time": "2022-05-30T18:53:40.075Z"
   },
   {
    "duration": 4,
    "start_time": "2022-05-30T18:54:22.282Z"
   },
   {
    "duration": 62,
    "start_time": "2022-05-30T18:54:22.289Z"
   },
   {
    "duration": 14,
    "start_time": "2022-05-30T18:54:22.353Z"
   },
   {
    "duration": 18,
    "start_time": "2022-05-30T18:54:22.369Z"
   },
   {
    "duration": 14,
    "start_time": "2022-05-30T18:54:22.392Z"
   },
   {
    "duration": 4,
    "start_time": "2022-05-30T18:54:22.408Z"
   },
   {
    "duration": 8,
    "start_time": "2022-05-30T18:54:22.414Z"
   },
   {
    "duration": 17,
    "start_time": "2022-05-30T18:54:22.423Z"
   },
   {
    "duration": 8,
    "start_time": "2022-05-30T18:54:22.442Z"
   },
   {
    "duration": 21,
    "start_time": "2022-05-30T18:54:22.451Z"
   },
   {
    "duration": 33,
    "start_time": "2022-05-30T18:54:22.473Z"
   },
   {
    "duration": 8,
    "start_time": "2022-05-30T18:54:22.508Z"
   },
   {
    "duration": 26,
    "start_time": "2022-05-30T18:54:22.519Z"
   },
   {
    "duration": 18,
    "start_time": "2022-05-30T18:54:22.547Z"
   },
   {
    "duration": 4,
    "start_time": "2022-05-30T18:54:22.567Z"
   },
   {
    "duration": 8,
    "start_time": "2022-05-30T18:54:22.573Z"
   },
   {
    "duration": 7,
    "start_time": "2022-05-30T18:54:22.583Z"
   },
   {
    "duration": 8,
    "start_time": "2022-05-30T18:54:22.592Z"
   },
   {
    "duration": 5,
    "start_time": "2022-05-30T18:54:22.602Z"
   },
   {
    "duration": 554,
    "start_time": "2022-05-30T18:54:22.608Z"
   },
   {
    "duration": 3,
    "start_time": "2022-05-30T18:55:08.215Z"
   },
   {
    "duration": 4,
    "start_time": "2022-05-30T18:55:10.878Z"
   },
   {
    "duration": 58,
    "start_time": "2022-05-30T18:55:10.884Z"
   },
   {
    "duration": 14,
    "start_time": "2022-05-30T18:55:10.944Z"
   },
   {
    "duration": 28,
    "start_time": "2022-05-30T18:55:10.960Z"
   },
   {
    "duration": 17,
    "start_time": "2022-05-30T18:55:10.990Z"
   },
   {
    "duration": 8,
    "start_time": "2022-05-30T18:55:11.008Z"
   },
   {
    "duration": 9,
    "start_time": "2022-05-30T18:55:11.018Z"
   },
   {
    "duration": 26,
    "start_time": "2022-05-30T18:55:11.031Z"
   },
   {
    "duration": 20,
    "start_time": "2022-05-30T18:55:11.059Z"
   },
   {
    "duration": 23,
    "start_time": "2022-05-30T18:55:11.081Z"
   },
   {
    "duration": 15,
    "start_time": "2022-05-30T18:55:11.107Z"
   },
   {
    "duration": 26,
    "start_time": "2022-05-30T18:55:11.123Z"
   },
   {
    "duration": 24,
    "start_time": "2022-05-30T18:55:11.151Z"
   },
   {
    "duration": 11,
    "start_time": "2022-05-30T18:55:11.177Z"
   },
   {
    "duration": 8,
    "start_time": "2022-05-30T18:55:11.189Z"
   },
   {
    "duration": 7,
    "start_time": "2022-05-30T18:55:11.199Z"
   },
   {
    "duration": 17,
    "start_time": "2022-05-30T18:55:11.208Z"
   },
   {
    "duration": 8,
    "start_time": "2022-05-30T18:55:11.227Z"
   },
   {
    "duration": 11,
    "start_time": "2022-05-30T18:55:11.237Z"
   },
   {
    "duration": 471,
    "start_time": "2022-05-30T18:55:11.250Z"
   },
   {
    "duration": 4,
    "start_time": "2022-05-30T18:56:34.826Z"
   },
   {
    "duration": 4,
    "start_time": "2022-05-30T18:56:37.447Z"
   },
   {
    "duration": 59,
    "start_time": "2022-05-30T18:56:37.453Z"
   },
   {
    "duration": 12,
    "start_time": "2022-05-30T18:56:37.514Z"
   },
   {
    "duration": 15,
    "start_time": "2022-05-30T18:56:37.528Z"
   },
   {
    "duration": 8,
    "start_time": "2022-05-30T18:56:37.545Z"
   },
   {
    "duration": 3,
    "start_time": "2022-05-30T18:56:37.554Z"
   },
   {
    "duration": 6,
    "start_time": "2022-05-30T18:56:37.558Z"
   },
   {
    "duration": 17,
    "start_time": "2022-05-30T18:56:37.565Z"
   },
   {
    "duration": 12,
    "start_time": "2022-05-30T18:56:37.602Z"
   },
   {
    "duration": 24,
    "start_time": "2022-05-30T18:56:37.616Z"
   },
   {
    "duration": 11,
    "start_time": "2022-05-30T18:56:37.643Z"
   },
   {
    "duration": 4,
    "start_time": "2022-05-30T18:56:37.655Z"
   },
   {
    "duration": 18,
    "start_time": "2022-05-30T18:56:37.660Z"
   },
   {
    "duration": 24,
    "start_time": "2022-05-30T18:56:37.680Z"
   },
   {
    "duration": 4,
    "start_time": "2022-05-30T18:56:37.712Z"
   },
   {
    "duration": 6,
    "start_time": "2022-05-30T18:56:37.718Z"
   },
   {
    "duration": 7,
    "start_time": "2022-05-30T18:56:37.726Z"
   },
   {
    "duration": 5,
    "start_time": "2022-05-30T18:56:37.735Z"
   },
   {
    "duration": 6,
    "start_time": "2022-05-30T18:56:37.741Z"
   },
   {
    "duration": 659,
    "start_time": "2022-05-30T18:56:37.749Z"
   },
   {
    "duration": 4,
    "start_time": "2022-05-30T18:57:25.396Z"
   },
   {
    "duration": 91,
    "start_time": "2022-05-30T18:57:25.402Z"
   },
   {
    "duration": 14,
    "start_time": "2022-05-30T18:57:25.494Z"
   },
   {
    "duration": 29,
    "start_time": "2022-05-30T18:57:25.515Z"
   },
   {
    "duration": 11,
    "start_time": "2022-05-30T18:57:25.547Z"
   },
   {
    "duration": 17,
    "start_time": "2022-05-30T18:57:25.560Z"
   },
   {
    "duration": 37,
    "start_time": "2022-05-30T18:57:25.579Z"
   },
   {
    "duration": 28,
    "start_time": "2022-05-30T18:57:25.618Z"
   },
   {
    "duration": 14,
    "start_time": "2022-05-30T18:57:25.649Z"
   },
   {
    "duration": 30,
    "start_time": "2022-05-30T18:57:25.665Z"
   },
   {
    "duration": 35,
    "start_time": "2022-05-30T18:57:25.696Z"
   },
   {
    "duration": 25,
    "start_time": "2022-05-30T18:57:25.733Z"
   },
   {
    "duration": 26,
    "start_time": "2022-05-30T18:57:25.759Z"
   },
   {
    "duration": 15,
    "start_time": "2022-05-30T18:57:25.787Z"
   },
   {
    "duration": 28,
    "start_time": "2022-05-30T18:57:25.804Z"
   },
   {
    "duration": 5,
    "start_time": "2022-05-30T18:57:25.834Z"
   },
   {
    "duration": 8,
    "start_time": "2022-05-30T18:57:25.841Z"
   },
   {
    "duration": 9,
    "start_time": "2022-05-30T18:57:25.851Z"
   },
   {
    "duration": 6,
    "start_time": "2022-05-30T18:57:25.861Z"
   },
   {
    "duration": 461,
    "start_time": "2022-05-30T18:57:25.869Z"
   },
   {
    "duration": 5,
    "start_time": "2022-05-30T18:57:37.204Z"
   },
   {
    "duration": 56,
    "start_time": "2022-05-30T18:57:37.215Z"
   },
   {
    "duration": 13,
    "start_time": "2022-05-30T18:57:37.273Z"
   },
   {
    "duration": 30,
    "start_time": "2022-05-30T18:57:37.287Z"
   },
   {
    "duration": 9,
    "start_time": "2022-05-30T18:57:37.319Z"
   },
   {
    "duration": 3,
    "start_time": "2022-05-30T18:57:37.330Z"
   },
   {
    "duration": 8,
    "start_time": "2022-05-30T18:57:37.334Z"
   },
   {
    "duration": 17,
    "start_time": "2022-05-30T18:57:37.343Z"
   },
   {
    "duration": 22,
    "start_time": "2022-05-30T18:57:37.362Z"
   },
   {
    "duration": 26,
    "start_time": "2022-05-30T18:57:37.385Z"
   },
   {
    "duration": 15,
    "start_time": "2022-05-30T18:57:37.413Z"
   },
   {
    "duration": 6,
    "start_time": "2022-05-30T18:57:37.430Z"
   },
   {
    "duration": 18,
    "start_time": "2022-05-30T18:57:37.438Z"
   },
   {
    "duration": 8,
    "start_time": "2022-05-30T18:57:37.457Z"
   },
   {
    "duration": 9,
    "start_time": "2022-05-30T18:57:37.467Z"
   },
   {
    "duration": 10,
    "start_time": "2022-05-30T18:57:37.477Z"
   },
   {
    "duration": 8,
    "start_time": "2022-05-30T18:57:37.488Z"
   },
   {
    "duration": 25,
    "start_time": "2022-05-30T18:57:37.498Z"
   },
   {
    "duration": 7,
    "start_time": "2022-05-30T18:57:37.525Z"
   },
   {
    "duration": 534,
    "start_time": "2022-05-30T18:57:37.533Z"
   },
   {
    "duration": 4,
    "start_time": "2022-05-30T18:58:24.586Z"
   },
   {
    "duration": 4,
    "start_time": "2022-05-30T18:58:26.631Z"
   },
   {
    "duration": 51,
    "start_time": "2022-05-30T18:58:26.637Z"
   },
   {
    "duration": 13,
    "start_time": "2022-05-30T18:58:26.690Z"
   },
   {
    "duration": 16,
    "start_time": "2022-05-30T18:58:26.705Z"
   },
   {
    "duration": 10,
    "start_time": "2022-05-30T18:58:26.723Z"
   },
   {
    "duration": 5,
    "start_time": "2022-05-30T18:58:26.734Z"
   },
   {
    "duration": 6,
    "start_time": "2022-05-30T18:58:26.740Z"
   },
   {
    "duration": 17,
    "start_time": "2022-05-30T18:58:26.747Z"
   },
   {
    "duration": 8,
    "start_time": "2022-05-30T18:58:26.766Z"
   },
   {
    "duration": 37,
    "start_time": "2022-05-30T18:58:26.776Z"
   },
   {
    "duration": 13,
    "start_time": "2022-05-30T18:58:26.814Z"
   },
   {
    "duration": 8,
    "start_time": "2022-05-30T18:58:26.829Z"
   },
   {
    "duration": 34,
    "start_time": "2022-05-30T18:58:26.839Z"
   },
   {
    "duration": 24,
    "start_time": "2022-05-30T18:58:26.876Z"
   },
   {
    "duration": 2,
    "start_time": "2022-05-30T18:58:26.903Z"
   },
   {
    "duration": 8,
    "start_time": "2022-05-30T18:58:26.907Z"
   },
   {
    "duration": 22,
    "start_time": "2022-05-30T18:58:26.916Z"
   },
   {
    "duration": 5,
    "start_time": "2022-05-30T18:58:26.939Z"
   },
   {
    "duration": 7,
    "start_time": "2022-05-30T18:58:26.945Z"
   },
   {
    "duration": 1673,
    "start_time": "2022-05-30T18:58:26.953Z"
   },
   {
    "duration": 5,
    "start_time": "2022-05-30T19:00:08.161Z"
   },
   {
    "duration": 5,
    "start_time": "2022-05-30T19:00:11.310Z"
   },
   {
    "duration": 69,
    "start_time": "2022-05-30T19:00:11.317Z"
   },
   {
    "duration": 16,
    "start_time": "2022-05-30T19:00:11.389Z"
   },
   {
    "duration": 24,
    "start_time": "2022-05-30T19:00:11.406Z"
   },
   {
    "duration": 9,
    "start_time": "2022-05-30T19:00:11.433Z"
   },
   {
    "duration": 4,
    "start_time": "2022-05-30T19:00:11.443Z"
   },
   {
    "duration": 19,
    "start_time": "2022-05-30T19:00:11.449Z"
   },
   {
    "duration": 17,
    "start_time": "2022-05-30T19:00:11.469Z"
   },
   {
    "duration": 8,
    "start_time": "2022-05-30T19:00:11.500Z"
   },
   {
    "duration": 22,
    "start_time": "2022-05-30T19:00:11.509Z"
   },
   {
    "duration": 12,
    "start_time": "2022-05-30T19:00:11.533Z"
   },
   {
    "duration": 6,
    "start_time": "2022-05-30T19:00:11.547Z"
   },
   {
    "duration": 21,
    "start_time": "2022-05-30T19:00:11.554Z"
   },
   {
    "duration": 25,
    "start_time": "2022-05-30T19:00:11.577Z"
   },
   {
    "duration": 5,
    "start_time": "2022-05-30T19:00:11.604Z"
   },
   {
    "duration": 6,
    "start_time": "2022-05-30T19:00:11.610Z"
   },
   {
    "duration": 8,
    "start_time": "2022-05-30T19:00:11.617Z"
   },
   {
    "duration": 8,
    "start_time": "2022-05-30T19:00:11.626Z"
   },
   {
    "duration": 10,
    "start_time": "2022-05-30T19:00:11.635Z"
   },
   {
    "duration": 449,
    "start_time": "2022-05-30T19:00:11.647Z"
   },
   {
    "duration": 4,
    "start_time": "2022-05-30T19:01:10.451Z"
   },
   {
    "duration": 55,
    "start_time": "2022-05-30T19:01:10.457Z"
   },
   {
    "duration": 14,
    "start_time": "2022-05-30T19:01:10.513Z"
   },
   {
    "duration": 14,
    "start_time": "2022-05-30T19:01:10.530Z"
   },
   {
    "duration": 15,
    "start_time": "2022-05-30T19:01:10.547Z"
   },
   {
    "duration": 5,
    "start_time": "2022-05-30T19:01:10.564Z"
   },
   {
    "duration": 6,
    "start_time": "2022-05-30T19:01:10.570Z"
   },
   {
    "duration": 14,
    "start_time": "2022-05-30T19:01:10.600Z"
   },
   {
    "duration": 11,
    "start_time": "2022-05-30T19:01:10.616Z"
   },
   {
    "duration": 21,
    "start_time": "2022-05-30T19:01:10.629Z"
   },
   {
    "duration": 14,
    "start_time": "2022-05-30T19:01:10.652Z"
   },
   {
    "duration": 10,
    "start_time": "2022-05-30T19:01:10.668Z"
   },
   {
    "duration": 34,
    "start_time": "2022-05-30T19:01:10.680Z"
   },
   {
    "duration": 5,
    "start_time": "2022-05-30T19:01:10.717Z"
   },
   {
    "duration": 4,
    "start_time": "2022-05-30T19:01:10.724Z"
   },
   {
    "duration": 5,
    "start_time": "2022-05-30T19:01:10.729Z"
   },
   {
    "duration": 7,
    "start_time": "2022-05-30T19:01:10.735Z"
   },
   {
    "duration": 12,
    "start_time": "2022-05-30T19:01:10.744Z"
   },
   {
    "duration": 13,
    "start_time": "2022-05-30T19:01:10.758Z"
   },
   {
    "duration": 921,
    "start_time": "2022-05-30T19:01:10.773Z"
   },
   {
    "duration": 3,
    "start_time": "2022-05-30T19:03:32.178Z"
   },
   {
    "duration": 3,
    "start_time": "2022-05-30T19:03:35.009Z"
   },
   {
    "duration": 64,
    "start_time": "2022-05-30T19:03:35.014Z"
   },
   {
    "duration": 14,
    "start_time": "2022-05-30T19:03:35.080Z"
   },
   {
    "duration": 16,
    "start_time": "2022-05-30T19:03:35.096Z"
   },
   {
    "duration": 11,
    "start_time": "2022-05-30T19:03:35.115Z"
   },
   {
    "duration": 4,
    "start_time": "2022-05-30T19:03:35.127Z"
   },
   {
    "duration": 8,
    "start_time": "2022-05-30T19:03:35.133Z"
   },
   {
    "duration": 21,
    "start_time": "2022-05-30T19:03:35.143Z"
   },
   {
    "duration": 11,
    "start_time": "2022-05-30T19:03:35.166Z"
   },
   {
    "duration": 34,
    "start_time": "2022-05-30T19:03:35.179Z"
   },
   {
    "duration": 10,
    "start_time": "2022-05-30T19:03:35.214Z"
   },
   {
    "duration": 8,
    "start_time": "2022-05-30T19:03:35.226Z"
   },
   {
    "duration": 18,
    "start_time": "2022-05-30T19:03:35.237Z"
   },
   {
    "duration": 6,
    "start_time": "2022-05-30T19:03:35.257Z"
   },
   {
    "duration": 6,
    "start_time": "2022-05-30T19:03:35.264Z"
   },
   {
    "duration": 8,
    "start_time": "2022-05-30T19:03:35.272Z"
   },
   {
    "duration": 18,
    "start_time": "2022-05-30T19:03:35.282Z"
   },
   {
    "duration": 10,
    "start_time": "2022-05-30T19:03:35.302Z"
   },
   {
    "duration": 7,
    "start_time": "2022-05-30T19:03:35.313Z"
   },
   {
    "duration": 679,
    "start_time": "2022-05-30T19:03:35.321Z"
   },
   {
    "duration": 4,
    "start_time": "2022-05-30T19:08:30.551Z"
   },
   {
    "duration": 75,
    "start_time": "2022-05-30T19:08:30.557Z"
   },
   {
    "duration": 13,
    "start_time": "2022-05-30T19:08:30.633Z"
   },
   {
    "duration": 24,
    "start_time": "2022-05-30T19:08:30.647Z"
   },
   {
    "duration": 23,
    "start_time": "2022-05-30T19:08:30.673Z"
   },
   {
    "duration": 61,
    "start_time": "2022-05-30T19:08:30.698Z"
   },
   {
    "duration": 176,
    "start_time": "2022-05-30T19:08:30.761Z"
   },
   {
    "duration": 64,
    "start_time": "2022-05-30T19:08:30.939Z"
   },
   {
    "duration": 15,
    "start_time": "2022-05-30T19:08:31.005Z"
   },
   {
    "duration": 35,
    "start_time": "2022-05-30T19:08:31.021Z"
   },
   {
    "duration": 15,
    "start_time": "2022-05-30T19:08:31.058Z"
   },
   {
    "duration": 24,
    "start_time": "2022-05-30T19:08:31.075Z"
   },
   {
    "duration": 30,
    "start_time": "2022-05-30T19:08:31.101Z"
   },
   {
    "duration": 23,
    "start_time": "2022-05-30T19:08:31.134Z"
   },
   {
    "duration": 37,
    "start_time": "2022-05-30T19:08:31.159Z"
   },
   {
    "duration": 19,
    "start_time": "2022-05-30T19:08:31.197Z"
   },
   {
    "duration": 9,
    "start_time": "2022-05-30T19:08:31.217Z"
   },
   {
    "duration": 18,
    "start_time": "2022-05-30T19:08:31.227Z"
   },
   {
    "duration": 8,
    "start_time": "2022-05-30T19:08:31.246Z"
   },
   {
    "duration": 599,
    "start_time": "2022-05-30T19:08:31.255Z"
   },
   {
    "duration": 3,
    "start_time": "2022-05-30T19:08:50.363Z"
   },
   {
    "duration": 51,
    "start_time": "2022-05-30T19:08:50.368Z"
   },
   {
    "duration": 12,
    "start_time": "2022-05-30T19:08:50.421Z"
   },
   {
    "duration": 21,
    "start_time": "2022-05-30T19:08:50.435Z"
   },
   {
    "duration": 11,
    "start_time": "2022-05-30T19:08:50.458Z"
   },
   {
    "duration": 9,
    "start_time": "2022-05-30T19:08:50.470Z"
   },
   {
    "duration": 7,
    "start_time": "2022-05-30T19:08:50.480Z"
   },
   {
    "duration": 21,
    "start_time": "2022-05-30T19:08:50.488Z"
   },
   {
    "duration": 6,
    "start_time": "2022-05-30T19:08:50.511Z"
   },
   {
    "duration": 28,
    "start_time": "2022-05-30T19:08:50.519Z"
   },
   {
    "duration": 63,
    "start_time": "2022-05-30T19:08:50.548Z"
   },
   {
    "duration": 13,
    "start_time": "2022-05-30T19:08:50.612Z"
   },
   {
    "duration": 20,
    "start_time": "2022-05-30T19:08:50.627Z"
   },
   {
    "duration": 11,
    "start_time": "2022-05-30T19:08:50.648Z"
   },
   {
    "duration": 4,
    "start_time": "2022-05-30T19:08:50.660Z"
   },
   {
    "duration": 13,
    "start_time": "2022-05-30T19:08:50.666Z"
   },
   {
    "duration": 6,
    "start_time": "2022-05-30T19:08:50.681Z"
   },
   {
    "duration": 6,
    "start_time": "2022-05-30T19:08:50.688Z"
   },
   {
    "duration": 7,
    "start_time": "2022-05-30T19:08:50.696Z"
   },
   {
    "duration": 465,
    "start_time": "2022-05-30T19:08:50.704Z"
   },
   {
    "duration": 3,
    "start_time": "2022-05-30T19:09:56.207Z"
   },
   {
    "duration": 63,
    "start_time": "2022-05-30T19:09:56.212Z"
   },
   {
    "duration": 12,
    "start_time": "2022-05-30T19:09:56.277Z"
   },
   {
    "duration": 22,
    "start_time": "2022-05-30T19:09:56.291Z"
   },
   {
    "duration": 23,
    "start_time": "2022-05-30T19:09:56.315Z"
   },
   {
    "duration": 22,
    "start_time": "2022-05-30T19:09:56.340Z"
   },
   {
    "duration": 23,
    "start_time": "2022-05-30T19:09:56.363Z"
   },
   {
    "duration": 24,
    "start_time": "2022-05-30T19:09:56.388Z"
   },
   {
    "duration": 31,
    "start_time": "2022-05-30T19:09:56.413Z"
   },
   {
    "duration": 30,
    "start_time": "2022-05-30T19:09:56.445Z"
   },
   {
    "duration": 35,
    "start_time": "2022-05-30T19:09:56.477Z"
   },
   {
    "duration": 34,
    "start_time": "2022-05-30T19:09:56.513Z"
   },
   {
    "duration": 30,
    "start_time": "2022-05-30T19:09:56.550Z"
   },
   {
    "duration": 16,
    "start_time": "2022-05-30T19:09:56.582Z"
   },
   {
    "duration": 8,
    "start_time": "2022-05-30T19:09:56.599Z"
   },
   {
    "duration": 6,
    "start_time": "2022-05-30T19:09:56.609Z"
   },
   {
    "duration": 8,
    "start_time": "2022-05-30T19:09:56.617Z"
   },
   {
    "duration": 18,
    "start_time": "2022-05-30T19:09:56.626Z"
   },
   {
    "duration": 6,
    "start_time": "2022-05-30T19:09:56.645Z"
   },
   {
    "duration": 448,
    "start_time": "2022-05-30T19:09:56.653Z"
   },
   {
    "duration": 3,
    "start_time": "2022-05-30T19:10:15.513Z"
   },
   {
    "duration": 56,
    "start_time": "2022-05-30T19:10:15.518Z"
   },
   {
    "duration": 13,
    "start_time": "2022-05-30T19:10:15.576Z"
   },
   {
    "duration": 17,
    "start_time": "2022-05-30T19:10:15.591Z"
   },
   {
    "duration": 8,
    "start_time": "2022-05-30T19:10:15.610Z"
   },
   {
    "duration": 6,
    "start_time": "2022-05-30T19:10:15.619Z"
   },
   {
    "duration": 10,
    "start_time": "2022-05-30T19:10:15.627Z"
   },
   {
    "duration": 17,
    "start_time": "2022-05-30T19:10:15.639Z"
   },
   {
    "duration": 8,
    "start_time": "2022-05-30T19:10:15.658Z"
   },
   {
    "duration": 21,
    "start_time": "2022-05-30T19:10:15.667Z"
   },
   {
    "duration": 9,
    "start_time": "2022-05-30T19:10:15.699Z"
   },
   {
    "duration": 8,
    "start_time": "2022-05-30T19:10:15.710Z"
   },
   {
    "duration": 21,
    "start_time": "2022-05-30T19:10:15.720Z"
   },
   {
    "duration": 7,
    "start_time": "2022-05-30T19:10:15.743Z"
   },
   {
    "duration": 6,
    "start_time": "2022-05-30T19:10:15.751Z"
   },
   {
    "duration": 5,
    "start_time": "2022-05-30T19:10:15.759Z"
   },
   {
    "duration": 6,
    "start_time": "2022-05-30T19:10:15.765Z"
   },
   {
    "duration": 5,
    "start_time": "2022-05-30T19:10:15.772Z"
   },
   {
    "duration": 3,
    "start_time": "2022-05-30T19:10:15.800Z"
   },
   {
    "duration": 468,
    "start_time": "2022-05-30T19:10:15.805Z"
   },
   {
    "duration": 3,
    "start_time": "2022-05-30T19:10:23.406Z"
   },
   {
    "duration": 4,
    "start_time": "2022-05-30T19:10:25.809Z"
   },
   {
    "duration": 55,
    "start_time": "2022-05-30T19:10:25.814Z"
   },
   {
    "duration": 14,
    "start_time": "2022-05-30T19:10:25.871Z"
   },
   {
    "duration": 15,
    "start_time": "2022-05-30T19:10:25.887Z"
   },
   {
    "duration": 8,
    "start_time": "2022-05-30T19:10:25.904Z"
   },
   {
    "duration": 9,
    "start_time": "2022-05-30T19:10:25.913Z"
   },
   {
    "duration": 7,
    "start_time": "2022-05-30T19:10:25.924Z"
   },
   {
    "duration": 22,
    "start_time": "2022-05-30T19:10:25.932Z"
   },
   {
    "duration": 10,
    "start_time": "2022-05-30T19:10:25.955Z"
   },
   {
    "duration": 20,
    "start_time": "2022-05-30T19:10:25.967Z"
   },
   {
    "duration": 16,
    "start_time": "2022-05-30T19:10:25.989Z"
   },
   {
    "duration": 4,
    "start_time": "2022-05-30T19:10:26.007Z"
   },
   {
    "duration": 21,
    "start_time": "2022-05-30T19:10:26.012Z"
   },
   {
    "duration": 15,
    "start_time": "2022-05-30T19:10:26.035Z"
   },
   {
    "duration": 6,
    "start_time": "2022-05-30T19:10:26.052Z"
   },
   {
    "duration": 5,
    "start_time": "2022-05-30T19:10:26.059Z"
   },
   {
    "duration": 7,
    "start_time": "2022-05-30T19:10:26.066Z"
   },
   {
    "duration": 9,
    "start_time": "2022-05-30T19:10:26.074Z"
   },
   {
    "duration": 6,
    "start_time": "2022-05-30T19:10:26.085Z"
   },
   {
    "duration": 456,
    "start_time": "2022-05-30T19:10:26.098Z"
   },
   {
    "duration": 5,
    "start_time": "2022-05-30T19:12:48.674Z"
   },
   {
    "duration": 61,
    "start_time": "2022-05-30T19:12:48.681Z"
   },
   {
    "duration": 19,
    "start_time": "2022-05-30T19:12:48.744Z"
   },
   {
    "duration": 19,
    "start_time": "2022-05-30T19:12:48.765Z"
   },
   {
    "duration": 14,
    "start_time": "2022-05-30T19:12:48.786Z"
   },
   {
    "duration": 3,
    "start_time": "2022-05-30T19:12:48.802Z"
   },
   {
    "duration": 6,
    "start_time": "2022-05-30T19:12:48.806Z"
   },
   {
    "duration": 15,
    "start_time": "2022-05-30T19:12:48.813Z"
   },
   {
    "duration": 8,
    "start_time": "2022-05-30T19:12:48.830Z"
   },
   {
    "duration": 27,
    "start_time": "2022-05-30T19:12:48.840Z"
   },
   {
    "duration": 23,
    "start_time": "2022-05-30T19:12:48.869Z"
   },
   {
    "duration": 9,
    "start_time": "2022-05-30T19:12:48.894Z"
   },
   {
    "duration": 19,
    "start_time": "2022-05-30T19:12:48.904Z"
   },
   {
    "duration": 8,
    "start_time": "2022-05-30T19:12:48.925Z"
   },
   {
    "duration": 6,
    "start_time": "2022-05-30T19:12:48.934Z"
   },
   {
    "duration": 17,
    "start_time": "2022-05-30T19:12:48.942Z"
   },
   {
    "duration": 11,
    "start_time": "2022-05-30T19:12:48.960Z"
   },
   {
    "duration": 6,
    "start_time": "2022-05-30T19:12:48.972Z"
   },
   {
    "duration": 13,
    "start_time": "2022-05-30T19:12:48.979Z"
   },
   {
    "duration": 585,
    "start_time": "2022-05-30T19:12:48.994Z"
   },
   {
    "duration": 4,
    "start_time": "2022-05-30T19:15:29.805Z"
   },
   {
    "duration": 65,
    "start_time": "2022-05-30T19:15:29.812Z"
   },
   {
    "duration": 20,
    "start_time": "2022-05-30T19:15:29.879Z"
   },
   {
    "duration": 14,
    "start_time": "2022-05-30T19:15:29.901Z"
   },
   {
    "duration": 8,
    "start_time": "2022-05-30T19:15:29.917Z"
   },
   {
    "duration": 5,
    "start_time": "2022-05-30T19:15:29.927Z"
   },
   {
    "duration": 4,
    "start_time": "2022-05-30T19:15:29.934Z"
   },
   {
    "duration": 14,
    "start_time": "2022-05-30T19:15:29.940Z"
   },
   {
    "duration": 6,
    "start_time": "2022-05-30T19:15:29.957Z"
   },
   {
    "duration": 43,
    "start_time": "2022-05-30T19:15:29.964Z"
   },
   {
    "duration": 11,
    "start_time": "2022-05-30T19:15:30.009Z"
   },
   {
    "duration": 16,
    "start_time": "2022-05-30T19:15:30.022Z"
   },
   {
    "duration": 35,
    "start_time": "2022-05-30T19:15:30.041Z"
   },
   {
    "duration": 31,
    "start_time": "2022-05-30T19:15:30.078Z"
   },
   {
    "duration": 15,
    "start_time": "2022-05-30T19:15:30.110Z"
   },
   {
    "duration": 22,
    "start_time": "2022-05-30T19:15:30.127Z"
   },
   {
    "duration": 17,
    "start_time": "2022-05-30T19:15:30.151Z"
   },
   {
    "duration": 15,
    "start_time": "2022-05-30T19:15:30.170Z"
   },
   {
    "duration": 15,
    "start_time": "2022-05-30T19:15:30.187Z"
   },
   {
    "duration": 589,
    "start_time": "2022-05-30T19:15:30.204Z"
   },
   {
    "duration": 1449,
    "start_time": "2022-05-31T12:02:57.932Z"
   },
   {
    "duration": 107,
    "start_time": "2022-05-31T12:02:59.383Z"
   },
   {
    "duration": 75,
    "start_time": "2022-05-31T12:02:59.491Z"
   },
   {
    "duration": 15,
    "start_time": "2022-05-31T12:02:59.568Z"
   },
   {
    "duration": 15,
    "start_time": "2022-05-31T12:02:59.585Z"
   },
   {
    "duration": 4,
    "start_time": "2022-05-31T12:02:59.602Z"
   },
   {
    "duration": 12,
    "start_time": "2022-05-31T12:02:59.608Z"
   },
   {
    "duration": 15,
    "start_time": "2022-05-31T12:02:59.621Z"
   },
   {
    "duration": 19,
    "start_time": "2022-05-31T12:02:59.637Z"
   },
   {
    "duration": 34,
    "start_time": "2022-05-31T12:02:59.658Z"
   },
   {
    "duration": 14,
    "start_time": "2022-05-31T12:02:59.693Z"
   },
   {
    "duration": 6,
    "start_time": "2022-05-31T12:02:59.708Z"
   },
   {
    "duration": 23,
    "start_time": "2022-05-31T12:02:59.715Z"
   },
   {
    "duration": 13,
    "start_time": "2022-05-31T12:02:59.741Z"
   },
   {
    "duration": 8,
    "start_time": "2022-05-31T12:02:59.755Z"
   },
   {
    "duration": 18,
    "start_time": "2022-05-31T12:02:59.764Z"
   },
   {
    "duration": 21,
    "start_time": "2022-05-31T12:02:59.783Z"
   },
   {
    "duration": 14,
    "start_time": "2022-05-31T12:02:59.806Z"
   },
   {
    "duration": 20,
    "start_time": "2022-05-31T12:02:59.822Z"
   },
   {
    "duration": 6,
    "start_time": "2022-05-31T12:02:59.843Z"
   },
   {
    "duration": 751,
    "start_time": "2022-05-31T12:02:59.851Z"
   },
   {
    "duration": 3,
    "start_time": "2022-05-31T12:06:05.780Z"
   },
   {
    "duration": 80,
    "start_time": "2022-05-31T12:06:05.786Z"
   },
   {
    "duration": 19,
    "start_time": "2022-05-31T12:06:05.869Z"
   },
   {
    "duration": 24,
    "start_time": "2022-05-31T12:06:05.890Z"
   },
   {
    "duration": 11,
    "start_time": "2022-05-31T12:06:05.916Z"
   },
   {
    "duration": 3,
    "start_time": "2022-05-31T12:06:05.929Z"
   },
   {
    "duration": 5,
    "start_time": "2022-05-31T12:06:05.933Z"
   },
   {
    "duration": 19,
    "start_time": "2022-05-31T12:06:05.939Z"
   },
   {
    "duration": 19,
    "start_time": "2022-05-31T12:06:05.961Z"
   },
   {
    "duration": 24,
    "start_time": "2022-05-31T12:06:05.982Z"
   },
   {
    "duration": 14,
    "start_time": "2022-05-31T12:06:06.007Z"
   },
   {
    "duration": 4,
    "start_time": "2022-05-31T12:06:06.022Z"
   },
   {
    "duration": 23,
    "start_time": "2022-05-31T12:06:06.027Z"
   },
   {
    "duration": 10,
    "start_time": "2022-05-31T12:06:06.051Z"
   },
   {
    "duration": 13,
    "start_time": "2022-05-31T12:06:06.062Z"
   },
   {
    "duration": 6,
    "start_time": "2022-05-31T12:06:06.077Z"
   },
   {
    "duration": 6,
    "start_time": "2022-05-31T12:06:06.084Z"
   },
   {
    "duration": 8,
    "start_time": "2022-05-31T12:06:06.091Z"
   },
   {
    "duration": 5,
    "start_time": "2022-05-31T12:06:06.101Z"
   },
   {
    "duration": 6,
    "start_time": "2022-05-31T12:06:06.108Z"
   },
   {
    "duration": 492,
    "start_time": "2022-05-31T12:06:06.115Z"
   },
   {
    "duration": 4,
    "start_time": "2022-05-31T12:07:35.289Z"
   },
   {
    "duration": 59,
    "start_time": "2022-05-31T12:07:35.296Z"
   },
   {
    "duration": 14,
    "start_time": "2022-05-31T12:07:35.357Z"
   },
   {
    "duration": 14,
    "start_time": "2022-05-31T12:07:35.373Z"
   },
   {
    "duration": 9,
    "start_time": "2022-05-31T12:07:35.390Z"
   },
   {
    "duration": 3,
    "start_time": "2022-05-31T12:07:35.401Z"
   },
   {
    "duration": 9,
    "start_time": "2022-05-31T12:07:35.406Z"
   },
   {
    "duration": 15,
    "start_time": "2022-05-31T12:07:35.416Z"
   },
   {
    "duration": 8,
    "start_time": "2022-05-31T12:07:35.433Z"
   },
   {
    "duration": 46,
    "start_time": "2022-05-31T12:07:35.442Z"
   },
   {
    "duration": 10,
    "start_time": "2022-05-31T12:07:35.492Z"
   },
   {
    "duration": 9,
    "start_time": "2022-05-31T12:07:35.503Z"
   },
   {
    "duration": 19,
    "start_time": "2022-05-31T12:07:35.514Z"
   },
   {
    "duration": 6,
    "start_time": "2022-05-31T12:07:35.535Z"
   },
   {
    "duration": 5,
    "start_time": "2022-05-31T12:07:35.543Z"
   },
   {
    "duration": 26,
    "start_time": "2022-05-31T12:07:35.549Z"
   },
   {
    "duration": 3,
    "start_time": "2022-05-31T12:07:35.577Z"
   },
   {
    "duration": 7,
    "start_time": "2022-05-31T12:07:35.582Z"
   },
   {
    "duration": 8,
    "start_time": "2022-05-31T12:07:35.591Z"
   },
   {
    "duration": 7,
    "start_time": "2022-05-31T12:07:35.600Z"
   },
   {
    "duration": 494,
    "start_time": "2022-05-31T12:07:35.609Z"
   },
   {
    "duration": 4,
    "start_time": "2022-05-31T12:11:00.115Z"
   },
   {
    "duration": 69,
    "start_time": "2022-05-31T12:11:00.121Z"
   },
   {
    "duration": 15,
    "start_time": "2022-05-31T12:11:00.191Z"
   },
   {
    "duration": 41,
    "start_time": "2022-05-31T12:11:00.208Z"
   },
   {
    "duration": 19,
    "start_time": "2022-05-31T12:11:00.251Z"
   },
   {
    "duration": 31,
    "start_time": "2022-05-31T12:11:00.272Z"
   },
   {
    "duration": 35,
    "start_time": "2022-05-31T12:11:00.305Z"
   },
   {
    "duration": 46,
    "start_time": "2022-05-31T12:11:00.342Z"
   },
   {
    "duration": 25,
    "start_time": "2022-05-31T12:11:00.390Z"
   },
   {
    "duration": 38,
    "start_time": "2022-05-31T12:11:00.417Z"
   },
   {
    "duration": 41,
    "start_time": "2022-05-31T12:11:00.457Z"
   },
   {
    "duration": 28,
    "start_time": "2022-05-31T12:11:00.499Z"
   },
   {
    "duration": 59,
    "start_time": "2022-05-31T12:11:00.529Z"
   },
   {
    "duration": 27,
    "start_time": "2022-05-31T12:11:00.591Z"
   },
   {
    "duration": 18,
    "start_time": "2022-05-31T12:11:00.620Z"
   },
   {
    "duration": 11,
    "start_time": "2022-05-31T12:11:00.640Z"
   },
   {
    "duration": 21,
    "start_time": "2022-05-31T12:11:00.653Z"
   },
   {
    "duration": 20,
    "start_time": "2022-05-31T12:11:00.675Z"
   },
   {
    "duration": 17,
    "start_time": "2022-05-31T12:11:00.697Z"
   },
   {
    "duration": 21,
    "start_time": "2022-05-31T12:11:00.716Z"
   },
   {
    "duration": 697,
    "start_time": "2022-05-31T12:11:00.739Z"
   },
   {
    "duration": 3,
    "start_time": "2022-05-31T12:11:32.896Z"
   },
   {
    "duration": 59,
    "start_time": "2022-05-31T12:11:32.901Z"
   },
   {
    "duration": 13,
    "start_time": "2022-05-31T12:11:32.962Z"
   },
   {
    "duration": 32,
    "start_time": "2022-05-31T12:11:32.977Z"
   },
   {
    "duration": 9,
    "start_time": "2022-05-31T12:11:33.011Z"
   },
   {
    "duration": 5,
    "start_time": "2022-05-31T12:11:33.022Z"
   },
   {
    "duration": 5,
    "start_time": "2022-05-31T12:11:33.028Z"
   },
   {
    "duration": 15,
    "start_time": "2022-05-31T12:11:33.034Z"
   },
   {
    "duration": 15,
    "start_time": "2022-05-31T12:11:33.051Z"
   },
   {
    "duration": 27,
    "start_time": "2022-05-31T12:11:33.067Z"
   },
   {
    "duration": 11,
    "start_time": "2022-05-31T12:11:33.095Z"
   },
   {
    "duration": 5,
    "start_time": "2022-05-31T12:11:33.107Z"
   },
   {
    "duration": 19,
    "start_time": "2022-05-31T12:11:33.114Z"
   },
   {
    "duration": 6,
    "start_time": "2022-05-31T12:11:33.134Z"
   },
   {
    "duration": 3,
    "start_time": "2022-05-31T12:11:33.141Z"
   },
   {
    "duration": 39,
    "start_time": "2022-05-31T12:11:33.146Z"
   },
   {
    "duration": 6,
    "start_time": "2022-05-31T12:11:33.187Z"
   },
   {
    "duration": 5,
    "start_time": "2022-05-31T12:11:33.194Z"
   },
   {
    "duration": 5,
    "start_time": "2022-05-31T12:11:33.201Z"
   },
   {
    "duration": 7,
    "start_time": "2022-05-31T12:11:33.208Z"
   },
   {
    "duration": 460,
    "start_time": "2022-05-31T12:11:33.217Z"
   },
   {
    "duration": 3,
    "start_time": "2022-05-31T12:24:01.211Z"
   },
   {
    "duration": 66,
    "start_time": "2022-05-31T12:24:01.219Z"
   },
   {
    "duration": 15,
    "start_time": "2022-05-31T12:24:01.287Z"
   },
   {
    "duration": 28,
    "start_time": "2022-05-31T12:24:01.304Z"
   },
   {
    "duration": 8,
    "start_time": "2022-05-31T12:24:01.334Z"
   },
   {
    "duration": 9,
    "start_time": "2022-05-31T12:24:01.344Z"
   },
   {
    "duration": 14,
    "start_time": "2022-05-31T12:24:01.354Z"
   },
   {
    "duration": 15,
    "start_time": "2022-05-31T12:24:01.370Z"
   },
   {
    "duration": 6,
    "start_time": "2022-05-31T12:24:01.387Z"
   },
   {
    "duration": 23,
    "start_time": "2022-05-31T12:24:01.395Z"
   },
   {
    "duration": 12,
    "start_time": "2022-05-31T12:24:01.419Z"
   },
   {
    "duration": 24,
    "start_time": "2022-05-31T12:24:01.433Z"
   },
   {
    "duration": 21,
    "start_time": "2022-05-31T12:24:01.459Z"
   },
   {
    "duration": 19,
    "start_time": "2022-05-31T12:24:01.482Z"
   },
   {
    "duration": 6,
    "start_time": "2022-05-31T12:24:01.504Z"
   },
   {
    "duration": 7,
    "start_time": "2022-05-31T12:24:01.511Z"
   },
   {
    "duration": 9,
    "start_time": "2022-05-31T12:24:01.520Z"
   },
   {
    "duration": 7,
    "start_time": "2022-05-31T12:24:01.530Z"
   },
   {
    "duration": 23,
    "start_time": "2022-05-31T12:24:01.538Z"
   },
   {
    "duration": 6,
    "start_time": "2022-05-31T12:24:01.563Z"
   },
   {
    "duration": 740,
    "start_time": "2022-05-31T12:24:01.570Z"
   },
   {
    "duration": 4,
    "start_time": "2022-05-31T12:24:35.259Z"
   },
   {
    "duration": 65,
    "start_time": "2022-05-31T12:24:35.265Z"
   },
   {
    "duration": 13,
    "start_time": "2022-05-31T12:24:35.332Z"
   },
   {
    "duration": 15,
    "start_time": "2022-05-31T12:24:35.347Z"
   },
   {
    "duration": 9,
    "start_time": "2022-05-31T12:24:35.364Z"
   },
   {
    "duration": 7,
    "start_time": "2022-05-31T12:24:35.375Z"
   },
   {
    "duration": 7,
    "start_time": "2022-05-31T12:24:35.383Z"
   },
   {
    "duration": 17,
    "start_time": "2022-05-31T12:24:35.391Z"
   },
   {
    "duration": 6,
    "start_time": "2022-05-31T12:24:35.410Z"
   },
   {
    "duration": 23,
    "start_time": "2022-05-31T12:24:35.418Z"
   },
   {
    "duration": 17,
    "start_time": "2022-05-31T12:24:35.443Z"
   },
   {
    "duration": 7,
    "start_time": "2022-05-31T12:24:35.461Z"
   },
   {
    "duration": 20,
    "start_time": "2022-05-31T12:24:35.470Z"
   },
   {
    "duration": 7,
    "start_time": "2022-05-31T12:24:35.492Z"
   },
   {
    "duration": 8,
    "start_time": "2022-05-31T12:24:35.500Z"
   },
   {
    "duration": 9,
    "start_time": "2022-05-31T12:24:35.509Z"
   },
   {
    "duration": 5,
    "start_time": "2022-05-31T12:24:35.519Z"
   },
   {
    "duration": 9,
    "start_time": "2022-05-31T12:24:35.525Z"
   },
   {
    "duration": 7,
    "start_time": "2022-05-31T12:24:35.535Z"
   },
   {
    "duration": 8,
    "start_time": "2022-05-31T12:24:35.543Z"
   },
   {
    "duration": 416,
    "start_time": "2022-05-31T12:24:35.553Z"
   },
   {
    "duration": 4,
    "start_time": "2022-05-31T12:32:38.356Z"
   },
   {
    "duration": 79,
    "start_time": "2022-05-31T12:32:38.363Z"
   },
   {
    "duration": 17,
    "start_time": "2022-05-31T12:32:38.443Z"
   },
   {
    "duration": 25,
    "start_time": "2022-05-31T12:32:38.462Z"
   },
   {
    "duration": 9,
    "start_time": "2022-05-31T12:32:38.489Z"
   },
   {
    "duration": 8,
    "start_time": "2022-05-31T12:32:38.500Z"
   },
   {
    "duration": 5,
    "start_time": "2022-05-31T12:32:38.510Z"
   },
   {
    "duration": 17,
    "start_time": "2022-05-31T12:32:38.516Z"
   },
   {
    "duration": 9,
    "start_time": "2022-05-31T12:32:38.535Z"
   },
   {
    "duration": 44,
    "start_time": "2022-05-31T12:32:38.546Z"
   },
   {
    "duration": 11,
    "start_time": "2022-05-31T12:32:38.591Z"
   },
   {
    "duration": 5,
    "start_time": "2022-05-31T12:32:38.604Z"
   },
   {
    "duration": 20,
    "start_time": "2022-05-31T12:32:38.610Z"
   },
   {
    "duration": 6,
    "start_time": "2022-05-31T12:32:38.631Z"
   },
   {
    "duration": 37,
    "start_time": "2022-05-31T12:32:38.638Z"
   },
   {
    "duration": 2,
    "start_time": "2022-05-31T12:32:38.676Z"
   },
   {
    "duration": 7,
    "start_time": "2022-05-31T12:32:38.680Z"
   },
   {
    "duration": 6,
    "start_time": "2022-05-31T12:32:38.688Z"
   },
   {
    "duration": 7,
    "start_time": "2022-05-31T12:32:38.695Z"
   },
   {
    "duration": 5,
    "start_time": "2022-05-31T12:32:38.704Z"
   },
   {
    "duration": 545,
    "start_time": "2022-05-31T12:32:38.710Z"
   },
   {
    "duration": 3,
    "start_time": "2022-05-31T12:33:34.852Z"
   },
   {
    "duration": 71,
    "start_time": "2022-05-31T12:33:34.857Z"
   },
   {
    "duration": 13,
    "start_time": "2022-05-31T12:33:34.930Z"
   },
   {
    "duration": 23,
    "start_time": "2022-05-31T12:33:34.944Z"
   },
   {
    "duration": 12,
    "start_time": "2022-05-31T12:33:34.970Z"
   },
   {
    "duration": 35,
    "start_time": "2022-05-31T12:33:34.983Z"
   },
   {
    "duration": 18,
    "start_time": "2022-05-31T12:33:35.019Z"
   },
   {
    "duration": 42,
    "start_time": "2022-05-31T12:33:35.038Z"
   },
   {
    "duration": 23,
    "start_time": "2022-05-31T12:33:35.082Z"
   },
   {
    "duration": 35,
    "start_time": "2022-05-31T12:33:35.107Z"
   },
   {
    "duration": 30,
    "start_time": "2022-05-31T12:33:35.144Z"
   },
   {
    "duration": 22,
    "start_time": "2022-05-31T12:33:35.175Z"
   },
   {
    "duration": 30,
    "start_time": "2022-05-31T12:33:35.198Z"
   },
   {
    "duration": 10,
    "start_time": "2022-05-31T12:33:35.230Z"
   },
   {
    "duration": 16,
    "start_time": "2022-05-31T12:33:35.241Z"
   },
   {
    "duration": 20,
    "start_time": "2022-05-31T12:33:35.259Z"
   },
   {
    "duration": 37,
    "start_time": "2022-05-31T12:33:35.281Z"
   },
   {
    "duration": 35,
    "start_time": "2022-05-31T12:33:35.319Z"
   },
   {
    "duration": 15,
    "start_time": "2022-05-31T12:33:35.355Z"
   },
   {
    "duration": 12,
    "start_time": "2022-05-31T12:33:35.371Z"
   },
   {
    "duration": 466,
    "start_time": "2022-05-31T12:33:35.385Z"
   },
   {
    "duration": 5,
    "start_time": "2022-05-31T12:35:27.214Z"
   },
   {
    "duration": 81,
    "start_time": "2022-05-31T12:35:27.221Z"
   },
   {
    "duration": 19,
    "start_time": "2022-05-31T12:35:27.305Z"
   },
   {
    "duration": 25,
    "start_time": "2022-05-31T12:35:27.326Z"
   },
   {
    "duration": 20,
    "start_time": "2022-05-31T12:35:27.353Z"
   },
   {
    "duration": 5,
    "start_time": "2022-05-31T12:35:27.375Z"
   },
   {
    "duration": 22,
    "start_time": "2022-05-31T12:35:27.382Z"
   },
   {
    "duration": 35,
    "start_time": "2022-05-31T12:35:27.405Z"
   },
   {
    "duration": 10,
    "start_time": "2022-05-31T12:35:27.442Z"
   },
   {
    "duration": 35,
    "start_time": "2022-05-31T12:35:27.454Z"
   },
   {
    "duration": 23,
    "start_time": "2022-05-31T12:35:27.492Z"
   },
   {
    "duration": 12,
    "start_time": "2022-05-31T12:35:27.517Z"
   },
   {
    "duration": 51,
    "start_time": "2022-05-31T12:35:27.531Z"
   },
   {
    "duration": 20,
    "start_time": "2022-05-31T12:35:27.584Z"
   },
   {
    "duration": 23,
    "start_time": "2022-05-31T12:35:27.605Z"
   },
   {
    "duration": 17,
    "start_time": "2022-05-31T12:35:27.629Z"
   },
   {
    "duration": 18,
    "start_time": "2022-05-31T12:35:27.648Z"
   },
   {
    "duration": 16,
    "start_time": "2022-05-31T12:35:27.668Z"
   },
   {
    "duration": 16,
    "start_time": "2022-05-31T12:35:27.685Z"
   },
   {
    "duration": 29,
    "start_time": "2022-05-31T12:35:27.702Z"
   },
   {
    "duration": 610,
    "start_time": "2022-05-31T12:35:27.733Z"
   },
   {
    "duration": 4,
    "start_time": "2022-05-31T12:36:01.826Z"
   },
   {
    "duration": 102,
    "start_time": "2022-05-31T12:36:01.832Z"
   },
   {
    "duration": 19,
    "start_time": "2022-05-31T12:36:01.937Z"
   },
   {
    "duration": 49,
    "start_time": "2022-05-31T12:36:01.957Z"
   },
   {
    "duration": 28,
    "start_time": "2022-05-31T12:36:02.008Z"
   },
   {
    "duration": 19,
    "start_time": "2022-05-31T12:36:02.038Z"
   },
   {
    "duration": 30,
    "start_time": "2022-05-31T12:36:02.059Z"
   },
   {
    "duration": 19,
    "start_time": "2022-05-31T12:36:02.091Z"
   },
   {
    "duration": 14,
    "start_time": "2022-05-31T12:36:02.112Z"
   },
   {
    "duration": 21,
    "start_time": "2022-05-31T12:36:02.128Z"
   },
   {
    "duration": 23,
    "start_time": "2022-05-31T12:36:02.151Z"
   },
   {
    "duration": 25,
    "start_time": "2022-05-31T12:36:02.180Z"
   },
   {
    "duration": 29,
    "start_time": "2022-05-31T12:36:02.208Z"
   },
   {
    "duration": 33,
    "start_time": "2022-05-31T12:36:02.239Z"
   },
   {
    "duration": 59,
    "start_time": "2022-05-31T12:36:02.274Z"
   },
   {
    "duration": 12,
    "start_time": "2022-05-31T12:36:02.334Z"
   },
   {
    "duration": 32,
    "start_time": "2022-05-31T12:36:02.348Z"
   },
   {
    "duration": 26,
    "start_time": "2022-05-31T12:36:02.389Z"
   },
   {
    "duration": 46,
    "start_time": "2022-05-31T12:36:02.417Z"
   },
   {
    "duration": 60,
    "start_time": "2022-05-31T12:36:02.464Z"
   },
   {
    "duration": 554,
    "start_time": "2022-05-31T12:36:02.526Z"
   },
   {
    "duration": 3,
    "start_time": "2022-05-31T12:36:50.127Z"
   },
   {
    "duration": 67,
    "start_time": "2022-05-31T12:36:50.132Z"
   },
   {
    "duration": 13,
    "start_time": "2022-05-31T12:36:50.201Z"
   },
   {
    "duration": 22,
    "start_time": "2022-05-31T12:36:50.216Z"
   },
   {
    "duration": 14,
    "start_time": "2022-05-31T12:36:50.240Z"
   },
   {
    "duration": 10,
    "start_time": "2022-05-31T12:36:50.277Z"
   },
   {
    "duration": 6,
    "start_time": "2022-05-31T12:36:50.290Z"
   },
   {
    "duration": 17,
    "start_time": "2022-05-31T12:36:50.297Z"
   },
   {
    "duration": 7,
    "start_time": "2022-05-31T12:36:50.315Z"
   },
   {
    "duration": 25,
    "start_time": "2022-05-31T12:36:50.323Z"
   },
   {
    "duration": 13,
    "start_time": "2022-05-31T12:36:50.350Z"
   },
   {
    "duration": 5,
    "start_time": "2022-05-31T12:36:50.365Z"
   },
   {
    "duration": 31,
    "start_time": "2022-05-31T12:36:50.374Z"
   },
   {
    "duration": 7,
    "start_time": "2022-05-31T12:36:50.407Z"
   },
   {
    "duration": 7,
    "start_time": "2022-05-31T12:36:50.415Z"
   },
   {
    "duration": 4,
    "start_time": "2022-05-31T12:36:50.424Z"
   },
   {
    "duration": 4,
    "start_time": "2022-05-31T12:36:50.430Z"
   },
   {
    "duration": 7,
    "start_time": "2022-05-31T12:36:50.435Z"
   },
   {
    "duration": 9,
    "start_time": "2022-05-31T12:36:50.443Z"
   },
   {
    "duration": 8,
    "start_time": "2022-05-31T12:36:50.454Z"
   },
   {
    "duration": 860,
    "start_time": "2022-05-31T12:36:50.464Z"
   },
   {
    "duration": 4,
    "start_time": "2022-05-31T12:38:06.630Z"
   },
   {
    "duration": 63,
    "start_time": "2022-05-31T12:38:06.636Z"
   },
   {
    "duration": 12,
    "start_time": "2022-05-31T12:38:06.701Z"
   },
   {
    "duration": 14,
    "start_time": "2022-05-31T12:38:06.715Z"
   },
   {
    "duration": 8,
    "start_time": "2022-05-31T12:38:06.731Z"
   },
   {
    "duration": 3,
    "start_time": "2022-05-31T12:38:06.741Z"
   },
   {
    "duration": 5,
    "start_time": "2022-05-31T12:38:06.745Z"
   },
   {
    "duration": 17,
    "start_time": "2022-05-31T12:38:06.775Z"
   },
   {
    "duration": 11,
    "start_time": "2022-05-31T12:38:06.793Z"
   },
   {
    "duration": 21,
    "start_time": "2022-05-31T12:38:06.805Z"
   },
   {
    "duration": 10,
    "start_time": "2022-05-31T12:38:06.828Z"
   },
   {
    "duration": 5,
    "start_time": "2022-05-31T12:38:06.840Z"
   },
   {
    "duration": 48,
    "start_time": "2022-05-31T12:38:06.849Z"
   },
   {
    "duration": 5,
    "start_time": "2022-05-31T12:38:06.899Z"
   },
   {
    "duration": 9,
    "start_time": "2022-05-31T12:38:06.905Z"
   },
   {
    "duration": 5,
    "start_time": "2022-05-31T12:38:06.915Z"
   },
   {
    "duration": 7,
    "start_time": "2022-05-31T12:38:06.922Z"
   },
   {
    "duration": 7,
    "start_time": "2022-05-31T12:38:06.930Z"
   },
   {
    "duration": 7,
    "start_time": "2022-05-31T12:38:06.938Z"
   },
   {
    "duration": 12,
    "start_time": "2022-05-31T12:38:06.947Z"
   },
   {
    "duration": 463,
    "start_time": "2022-05-31T12:38:06.961Z"
   },
   {
    "duration": 4,
    "start_time": "2022-05-31T12:40:25.428Z"
   },
   {
    "duration": 84,
    "start_time": "2022-05-31T12:40:25.434Z"
   },
   {
    "duration": 13,
    "start_time": "2022-05-31T12:40:25.519Z"
   },
   {
    "duration": 26,
    "start_time": "2022-05-31T12:40:25.534Z"
   },
   {
    "duration": 8,
    "start_time": "2022-05-31T12:40:25.561Z"
   },
   {
    "duration": 3,
    "start_time": "2022-05-31T12:40:25.571Z"
   },
   {
    "duration": 17,
    "start_time": "2022-05-31T12:40:25.577Z"
   },
   {
    "duration": 15,
    "start_time": "2022-05-31T12:40:25.595Z"
   },
   {
    "duration": 6,
    "start_time": "2022-05-31T12:40:25.611Z"
   },
   {
    "duration": 24,
    "start_time": "2022-05-31T12:40:25.618Z"
   },
   {
    "duration": 23,
    "start_time": "2022-05-31T12:40:25.645Z"
   },
   {
    "duration": 18,
    "start_time": "2022-05-31T12:40:25.670Z"
   },
   {
    "duration": 24,
    "start_time": "2022-05-31T12:40:25.690Z"
   },
   {
    "duration": 6,
    "start_time": "2022-05-31T12:40:25.716Z"
   },
   {
    "duration": 12,
    "start_time": "2022-05-31T12:40:25.723Z"
   },
   {
    "duration": 6,
    "start_time": "2022-05-31T12:40:25.737Z"
   },
   {
    "duration": 7,
    "start_time": "2022-05-31T12:40:25.744Z"
   },
   {
    "duration": 11,
    "start_time": "2022-05-31T12:40:25.753Z"
   },
   {
    "duration": 6,
    "start_time": "2022-05-31T12:40:25.766Z"
   },
   {
    "duration": 27,
    "start_time": "2022-05-31T12:40:25.774Z"
   },
   {
    "duration": 128814,
    "start_time": "2022-05-31T12:40:25.803Z"
   },
   {
    "duration": 3,
    "start_time": "2022-05-31T12:44:04.546Z"
   },
   {
    "duration": 4,
    "start_time": "2022-05-31T12:52:53.545Z"
   },
   {
    "duration": 85,
    "start_time": "2022-05-31T12:52:53.551Z"
   },
   {
    "duration": 13,
    "start_time": "2022-05-31T12:52:53.637Z"
   },
   {
    "duration": 15,
    "start_time": "2022-05-31T12:52:53.652Z"
   },
   {
    "duration": 18,
    "start_time": "2022-05-31T12:52:53.669Z"
   },
   {
    "duration": 6,
    "start_time": "2022-05-31T12:52:53.689Z"
   },
   {
    "duration": 4,
    "start_time": "2022-05-31T12:52:53.696Z"
   },
   {
    "duration": 17,
    "start_time": "2022-05-31T12:52:53.701Z"
   },
   {
    "duration": 15,
    "start_time": "2022-05-31T12:52:53.721Z"
   },
   {
    "duration": 31,
    "start_time": "2022-05-31T12:52:53.738Z"
   },
   {
    "duration": 30,
    "start_time": "2022-05-31T12:52:53.771Z"
   },
   {
    "duration": 17,
    "start_time": "2022-05-31T12:52:53.804Z"
   },
   {
    "duration": 22,
    "start_time": "2022-05-31T12:52:53.823Z"
   },
   {
    "duration": 8,
    "start_time": "2022-05-31T12:52:53.847Z"
   },
   {
    "duration": 3,
    "start_time": "2022-05-31T12:52:53.857Z"
   },
   {
    "duration": 5,
    "start_time": "2022-05-31T12:52:53.862Z"
   },
   {
    "duration": 41,
    "start_time": "2022-05-31T12:52:53.869Z"
   },
   {
    "duration": 18,
    "start_time": "2022-05-31T12:52:53.912Z"
   },
   {
    "duration": 14,
    "start_time": "2022-05-31T12:52:53.931Z"
   },
   {
    "duration": 25,
    "start_time": "2022-05-31T12:52:53.946Z"
   },
   {
    "duration": 21,
    "start_time": "2022-05-31T12:52:53.972Z"
   },
   {
    "duration": 319372,
    "start_time": "2022-05-31T12:52:53.995Z"
   },
   {
    "duration": 3,
    "start_time": "2022-05-31T12:58:40.634Z"
   },
   {
    "duration": 4,
    "start_time": "2022-05-31T12:58:46.040Z"
   },
   {
    "duration": 58,
    "start_time": "2022-05-31T12:58:46.046Z"
   },
   {
    "duration": 14,
    "start_time": "2022-05-31T12:58:46.106Z"
   },
   {
    "duration": 27,
    "start_time": "2022-05-31T12:58:46.122Z"
   },
   {
    "duration": 29,
    "start_time": "2022-05-31T12:58:46.152Z"
   },
   {
    "duration": 18,
    "start_time": "2022-05-31T12:58:46.183Z"
   },
   {
    "duration": 8,
    "start_time": "2022-05-31T12:58:46.203Z"
   },
   {
    "duration": 24,
    "start_time": "2022-05-31T12:58:46.214Z"
   },
   {
    "duration": 9,
    "start_time": "2022-05-31T12:58:46.240Z"
   },
   {
    "duration": 37,
    "start_time": "2022-05-31T12:58:46.251Z"
   },
   {
    "duration": 16,
    "start_time": "2022-05-31T12:58:46.292Z"
   },
   {
    "duration": 6,
    "start_time": "2022-05-31T12:58:46.310Z"
   },
   {
    "duration": 29,
    "start_time": "2022-05-31T12:58:46.318Z"
   },
   {
    "duration": 29,
    "start_time": "2022-05-31T12:58:46.349Z"
   },
   {
    "duration": 18,
    "start_time": "2022-05-31T12:58:46.380Z"
   },
   {
    "duration": 4,
    "start_time": "2022-05-31T12:58:46.400Z"
   },
   {
    "duration": 7,
    "start_time": "2022-05-31T12:58:46.406Z"
   },
   {
    "duration": 5,
    "start_time": "2022-05-31T12:58:46.415Z"
   },
   {
    "duration": 10,
    "start_time": "2022-05-31T12:58:46.421Z"
   },
   {
    "duration": 6,
    "start_time": "2022-05-31T12:58:46.433Z"
   },
   {
    "duration": 9,
    "start_time": "2022-05-31T12:58:46.441Z"
   },
   {
    "duration": 345157,
    "start_time": "2022-05-31T12:58:46.452Z"
   },
   {
    "duration": 4,
    "start_time": "2022-05-31T13:06:27.267Z"
   },
   {
    "duration": 56,
    "start_time": "2022-05-31T13:06:27.272Z"
   },
   {
    "duration": 15,
    "start_time": "2022-05-31T13:06:27.329Z"
   },
   {
    "duration": 24,
    "start_time": "2022-05-31T13:06:27.346Z"
   },
   {
    "duration": 11,
    "start_time": "2022-05-31T13:06:27.373Z"
   },
   {
    "duration": 4,
    "start_time": "2022-05-31T13:06:27.385Z"
   },
   {
    "duration": 15,
    "start_time": "2022-05-31T13:06:27.390Z"
   },
   {
    "duration": 21,
    "start_time": "2022-05-31T13:06:27.406Z"
   },
   {
    "duration": 9,
    "start_time": "2022-05-31T13:06:27.428Z"
   },
   {
    "duration": 25,
    "start_time": "2022-05-31T13:06:27.439Z"
   },
   {
    "duration": 15,
    "start_time": "2022-05-31T13:06:27.467Z"
   },
   {
    "duration": 13,
    "start_time": "2022-05-31T13:06:27.483Z"
   },
   {
    "duration": 20,
    "start_time": "2022-05-31T13:06:27.498Z"
   },
   {
    "duration": 8,
    "start_time": "2022-05-31T13:06:27.520Z"
   },
   {
    "duration": 4,
    "start_time": "2022-05-31T13:06:27.529Z"
   },
   {
    "duration": 5,
    "start_time": "2022-05-31T13:06:27.534Z"
   },
   {
    "duration": 5,
    "start_time": "2022-05-31T13:06:27.541Z"
   },
   {
    "duration": 5,
    "start_time": "2022-05-31T13:06:27.548Z"
   },
   {
    "duration": 5,
    "start_time": "2022-05-31T13:06:27.555Z"
   },
   {
    "duration": 17,
    "start_time": "2022-05-31T13:06:27.561Z"
   },
   {
    "duration": 7,
    "start_time": "2022-05-31T13:06:27.579Z"
   },
   {
    "duration": 6094,
    "start_time": "2022-05-31T13:06:27.587Z"
   },
   {
    "duration": 462,
    "start_time": "2022-05-31T13:08:40.890Z"
   },
   {
    "duration": 739,
    "start_time": "2022-05-31T13:10:38.793Z"
   },
   {
    "duration": 19,
    "start_time": "2022-05-31T13:12:55.849Z"
   },
   {
    "duration": 1141,
    "start_time": "2022-05-31T13:14:29.913Z"
   },
   {
    "duration": 6,
    "start_time": "2022-05-31T13:16:35.496Z"
   },
   {
    "duration": 9,
    "start_time": "2022-05-31T13:16:39.848Z"
   },
   {
    "duration": 4,
    "start_time": "2022-05-31T13:24:05.367Z"
   },
   {
    "duration": 77,
    "start_time": "2022-05-31T13:24:05.374Z"
   },
   {
    "duration": 14,
    "start_time": "2022-05-31T13:24:05.453Z"
   },
   {
    "duration": 25,
    "start_time": "2022-05-31T13:24:05.469Z"
   },
   {
    "duration": 16,
    "start_time": "2022-05-31T13:24:05.497Z"
   },
   {
    "duration": 7,
    "start_time": "2022-05-31T13:24:05.515Z"
   },
   {
    "duration": 7,
    "start_time": "2022-05-31T13:24:05.524Z"
   },
   {
    "duration": 17,
    "start_time": "2022-05-31T13:24:05.532Z"
   },
   {
    "duration": 34,
    "start_time": "2022-05-31T13:24:05.550Z"
   },
   {
    "duration": 24,
    "start_time": "2022-05-31T13:24:05.586Z"
   },
   {
    "duration": 21,
    "start_time": "2022-05-31T13:24:05.613Z"
   },
   {
    "duration": 9,
    "start_time": "2022-05-31T13:24:05.635Z"
   },
   {
    "duration": 41,
    "start_time": "2022-05-31T13:24:05.645Z"
   },
   {
    "duration": 38,
    "start_time": "2022-05-31T13:24:05.689Z"
   },
   {
    "duration": 8,
    "start_time": "2022-05-31T13:24:05.729Z"
   },
   {
    "duration": 6,
    "start_time": "2022-05-31T13:24:05.739Z"
   },
   {
    "duration": 9,
    "start_time": "2022-05-31T13:24:05.746Z"
   },
   {
    "duration": 12,
    "start_time": "2022-05-31T13:24:05.757Z"
   },
   {
    "duration": 7,
    "start_time": "2022-05-31T13:24:05.771Z"
   },
   {
    "duration": 3,
    "start_time": "2022-05-31T13:24:05.779Z"
   },
   {
    "duration": 24,
    "start_time": "2022-05-31T13:24:05.784Z"
   },
   {
    "duration": 5835,
    "start_time": "2022-05-31T13:24:05.810Z"
   },
   {
    "duration": 5,
    "start_time": "2022-05-31T13:24:11.647Z"
   },
   {
    "duration": 11,
    "start_time": "2022-05-31T13:24:11.653Z"
   },
   {
    "duration": 3,
    "start_time": "2022-05-31T13:25:40.182Z"
   },
   {
    "duration": 92,
    "start_time": "2022-05-31T13:25:40.194Z"
   },
   {
    "duration": 15,
    "start_time": "2022-05-31T13:25:40.288Z"
   },
   {
    "duration": 87,
    "start_time": "2022-05-31T13:25:40.306Z"
   },
   {
    "duration": 39,
    "start_time": "2022-05-31T13:25:40.394Z"
   },
   {
    "duration": 6,
    "start_time": "2022-05-31T13:25:40.435Z"
   },
   {
    "duration": 12,
    "start_time": "2022-05-31T13:25:40.442Z"
   },
   {
    "duration": 31,
    "start_time": "2022-05-31T13:25:40.455Z"
   },
   {
    "duration": 22,
    "start_time": "2022-05-31T13:25:40.488Z"
   },
   {
    "duration": 32,
    "start_time": "2022-05-31T13:25:40.512Z"
   },
   {
    "duration": 23,
    "start_time": "2022-05-31T13:25:40.545Z"
   },
   {
    "duration": 25,
    "start_time": "2022-05-31T13:25:40.570Z"
   },
   {
    "duration": 31,
    "start_time": "2022-05-31T13:25:40.597Z"
   },
   {
    "duration": 11,
    "start_time": "2022-05-31T13:25:40.630Z"
   },
   {
    "duration": 14,
    "start_time": "2022-05-31T13:25:40.644Z"
   },
   {
    "duration": 15,
    "start_time": "2022-05-31T13:25:40.659Z"
   },
   {
    "duration": 27,
    "start_time": "2022-05-31T13:25:40.677Z"
   },
   {
    "duration": 11,
    "start_time": "2022-05-31T13:25:40.706Z"
   },
   {
    "duration": 27,
    "start_time": "2022-05-31T13:25:40.718Z"
   },
   {
    "duration": 21,
    "start_time": "2022-05-31T13:25:40.746Z"
   },
   {
    "duration": 30,
    "start_time": "2022-05-31T13:25:40.769Z"
   },
   {
    "duration": 359347,
    "start_time": "2022-05-31T13:25:40.800Z"
   },
   {
    "duration": 25,
    "start_time": "2022-05-31T13:31:40.149Z"
   },
   {
    "duration": 8,
    "start_time": "2022-05-31T13:31:40.176Z"
   },
   {
    "duration": 10,
    "start_time": "2022-05-31T13:35:37.645Z"
   },
   {
    "duration": 8,
    "start_time": "2022-05-31T13:35:43.791Z"
   },
   {
    "duration": 8,
    "start_time": "2022-05-31T13:35:49.164Z"
   },
   {
    "duration": 7,
    "start_time": "2022-05-31T13:36:04.751Z"
   },
   {
    "duration": 11,
    "start_time": "2022-05-31T13:36:12.294Z"
   },
   {
    "duration": 11,
    "start_time": "2022-05-31T13:37:53.552Z"
   },
   {
    "duration": 11,
    "start_time": "2022-05-31T13:38:02.980Z"
   },
   {
    "duration": 8,
    "start_time": "2022-05-31T14:00:27.353Z"
   },
   {
    "duration": 8,
    "start_time": "2022-05-31T14:00:34.546Z"
   },
   {
    "duration": 5,
    "start_time": "2022-05-31T14:00:51.733Z"
   },
   {
    "duration": 9,
    "start_time": "2022-05-31T14:05:51.960Z"
   },
   {
    "duration": 22,
    "start_time": "2022-05-31T14:06:00.095Z"
   },
   {
    "duration": 54,
    "start_time": "2022-05-31T14:07:20.791Z"
   },
   {
    "duration": 17,
    "start_time": "2022-05-31T14:07:29.051Z"
   },
   {
    "duration": 51,
    "start_time": "2022-05-31T14:07:49.972Z"
   },
   {
    "duration": 4,
    "start_time": "2022-05-31T14:07:54.098Z"
   },
   {
    "duration": 58,
    "start_time": "2022-05-31T14:07:54.105Z"
   },
   {
    "duration": 14,
    "start_time": "2022-05-31T14:07:54.166Z"
   },
   {
    "duration": 29,
    "start_time": "2022-05-31T14:07:54.185Z"
   },
   {
    "duration": 10,
    "start_time": "2022-05-31T14:07:54.216Z"
   },
   {
    "duration": 5,
    "start_time": "2022-05-31T14:07:54.228Z"
   },
   {
    "duration": 6,
    "start_time": "2022-05-31T14:07:54.235Z"
   },
   {
    "duration": 17,
    "start_time": "2022-05-31T14:07:54.242Z"
   },
   {
    "duration": 20,
    "start_time": "2022-05-31T14:07:54.260Z"
   },
   {
    "duration": 33,
    "start_time": "2022-05-31T14:07:54.282Z"
   },
   {
    "duration": 12,
    "start_time": "2022-05-31T14:07:54.317Z"
   },
   {
    "duration": 8,
    "start_time": "2022-05-31T14:07:54.330Z"
   },
   {
    "duration": 53,
    "start_time": "2022-05-31T14:07:54.340Z"
   },
   {
    "duration": 0,
    "start_time": "2022-05-31T14:07:54.394Z"
   },
   {
    "duration": 0,
    "start_time": "2022-05-31T14:07:54.396Z"
   },
   {
    "duration": 4,
    "start_time": "2022-05-31T14:08:11.723Z"
   },
   {
    "duration": 65,
    "start_time": "2022-05-31T14:08:11.728Z"
   },
   {
    "duration": 14,
    "start_time": "2022-05-31T14:08:11.794Z"
   },
   {
    "duration": 18,
    "start_time": "2022-05-31T14:08:11.810Z"
   },
   {
    "duration": 9,
    "start_time": "2022-05-31T14:08:11.830Z"
   },
   {
    "duration": 8,
    "start_time": "2022-05-31T14:08:11.841Z"
   },
   {
    "duration": 9,
    "start_time": "2022-05-31T14:08:11.851Z"
   },
   {
    "duration": 50,
    "start_time": "2022-05-31T14:08:11.864Z"
   },
   {
    "duration": 11,
    "start_time": "2022-05-31T14:08:11.917Z"
   },
   {
    "duration": 32,
    "start_time": "2022-05-31T14:08:11.930Z"
   },
   {
    "duration": 27,
    "start_time": "2022-05-31T14:08:11.965Z"
   },
   {
    "duration": 6,
    "start_time": "2022-05-31T14:08:11.994Z"
   },
   {
    "duration": 37,
    "start_time": "2022-05-31T14:08:12.002Z"
   },
   {
    "duration": 0,
    "start_time": "2022-05-31T14:08:12.041Z"
   },
   {
    "duration": 0,
    "start_time": "2022-05-31T14:08:12.043Z"
   },
   {
    "duration": 20,
    "start_time": "2022-05-31T14:08:28.152Z"
   },
   {
    "duration": 27,
    "start_time": "2022-05-31T14:08:35.993Z"
   },
   {
    "duration": 23,
    "start_time": "2022-05-31T14:08:41.693Z"
   },
   {
    "duration": 6,
    "start_time": "2022-05-31T14:08:45.461Z"
   },
   {
    "duration": 17,
    "start_time": "2022-05-31T14:08:58.833Z"
   },
   {
    "duration": 28,
    "start_time": "2022-05-31T14:09:34.525Z"
   },
   {
    "duration": 23,
    "start_time": "2022-05-31T14:10:14.805Z"
   },
   {
    "duration": 41,
    "start_time": "2022-05-31T14:10:22.850Z"
   },
   {
    "duration": 17,
    "start_time": "2022-05-31T14:10:27.530Z"
   },
   {
    "duration": 6,
    "start_time": "2022-05-31T14:10:52.693Z"
   },
   {
    "duration": 106,
    "start_time": "2022-05-31T14:10:52.702Z"
   },
   {
    "duration": 22,
    "start_time": "2022-05-31T14:10:52.810Z"
   },
   {
    "duration": 21,
    "start_time": "2022-05-31T14:10:52.836Z"
   },
   {
    "duration": 32,
    "start_time": "2022-05-31T14:10:52.859Z"
   },
   {
    "duration": 30,
    "start_time": "2022-05-31T14:10:52.893Z"
   },
   {
    "duration": 18,
    "start_time": "2022-05-31T14:10:52.926Z"
   },
   {
    "duration": 37,
    "start_time": "2022-05-31T14:10:52.946Z"
   },
   {
    "duration": 46,
    "start_time": "2022-05-31T14:10:52.985Z"
   },
   {
    "duration": 34,
    "start_time": "2022-05-31T14:10:53.033Z"
   },
   {
    "duration": 48,
    "start_time": "2022-05-31T14:10:53.068Z"
   },
   {
    "duration": 7,
    "start_time": "2022-05-31T14:10:53.118Z"
   },
   {
    "duration": 28,
    "start_time": "2022-05-31T14:10:53.126Z"
   },
   {
    "duration": 11,
    "start_time": "2022-05-31T14:10:53.157Z"
   },
   {
    "duration": 27,
    "start_time": "2022-05-31T14:10:53.170Z"
   },
   {
    "duration": 141,
    "start_time": "2022-05-31T14:13:46.094Z"
   },
   {
    "duration": 3,
    "start_time": "2022-05-31T14:14:28.527Z"
   },
   {
    "duration": 11,
    "start_time": "2022-05-31T14:14:32.357Z"
   },
   {
    "duration": 19,
    "start_time": "2022-05-31T14:14:56.511Z"
   },
   {
    "duration": 7,
    "start_time": "2022-05-31T14:16:15.148Z"
   },
   {
    "duration": 30,
    "start_time": "2022-05-31T14:16:16.566Z"
   },
   {
    "duration": 28,
    "start_time": "2022-05-31T14:16:28.907Z"
   },
   {
    "duration": 8,
    "start_time": "2022-05-31T14:16:32.554Z"
   },
   {
    "duration": 30,
    "start_time": "2022-05-31T14:16:38.091Z"
   },
   {
    "duration": 105,
    "start_time": "2022-05-31T14:17:09.622Z"
   },
   {
    "duration": 3,
    "start_time": "2022-05-31T14:17:17.392Z"
   },
   {
    "duration": 68,
    "start_time": "2022-05-31T14:17:17.397Z"
   },
   {
    "duration": 18,
    "start_time": "2022-05-31T14:17:17.467Z"
   },
   {
    "duration": 25,
    "start_time": "2022-05-31T14:17:17.486Z"
   },
   {
    "duration": 10,
    "start_time": "2022-05-31T14:17:17.514Z"
   },
   {
    "duration": 3,
    "start_time": "2022-05-31T14:17:17.525Z"
   },
   {
    "duration": 5,
    "start_time": "2022-05-31T14:17:17.530Z"
   },
   {
    "duration": 16,
    "start_time": "2022-05-31T14:17:17.536Z"
   },
   {
    "duration": 9,
    "start_time": "2022-05-31T14:17:17.553Z"
   },
   {
    "duration": 32,
    "start_time": "2022-05-31T14:17:17.564Z"
   },
   {
    "duration": 30,
    "start_time": "2022-05-31T14:17:17.600Z"
   },
   {
    "duration": 9,
    "start_time": "2022-05-31T14:17:17.632Z"
   },
   {
    "duration": 113,
    "start_time": "2022-05-31T14:17:17.644Z"
   },
   {
    "duration": 0,
    "start_time": "2022-05-31T14:17:17.760Z"
   },
   {
    "duration": 0,
    "start_time": "2022-05-31T14:17:17.761Z"
   },
   {
    "duration": 0,
    "start_time": "2022-05-31T14:17:17.763Z"
   },
   {
    "duration": 4,
    "start_time": "2022-05-31T14:17:45.743Z"
   },
   {
    "duration": 65,
    "start_time": "2022-05-31T14:17:45.750Z"
   },
   {
    "duration": 15,
    "start_time": "2022-05-31T14:17:45.817Z"
   },
   {
    "duration": 22,
    "start_time": "2022-05-31T14:17:45.835Z"
   },
   {
    "duration": 32,
    "start_time": "2022-05-31T14:17:45.860Z"
   },
   {
    "duration": 29,
    "start_time": "2022-05-31T14:17:45.906Z"
   },
   {
    "duration": 14,
    "start_time": "2022-05-31T14:17:45.937Z"
   },
   {
    "duration": 28,
    "start_time": "2022-05-31T14:17:45.954Z"
   },
   {
    "duration": 24,
    "start_time": "2022-05-31T14:17:45.985Z"
   },
   {
    "duration": 23,
    "start_time": "2022-05-31T14:17:46.010Z"
   },
   {
    "duration": 13,
    "start_time": "2022-05-31T14:17:46.035Z"
   },
   {
    "duration": 6,
    "start_time": "2022-05-31T14:17:46.050Z"
   },
   {
    "duration": 147,
    "start_time": "2022-05-31T14:17:46.058Z"
   },
   {
    "duration": 0,
    "start_time": "2022-05-31T14:17:46.207Z"
   },
   {
    "duration": 0,
    "start_time": "2022-05-31T14:17:46.209Z"
   },
   {
    "duration": 0,
    "start_time": "2022-05-31T14:17:46.210Z"
   },
   {
    "duration": 4,
    "start_time": "2022-05-31T14:18:53.755Z"
   },
   {
    "duration": 69,
    "start_time": "2022-05-31T14:18:53.762Z"
   },
   {
    "duration": 14,
    "start_time": "2022-05-31T14:18:53.833Z"
   },
   {
    "duration": 18,
    "start_time": "2022-05-31T14:18:53.848Z"
   },
   {
    "duration": 15,
    "start_time": "2022-05-31T14:18:53.868Z"
   },
   {
    "duration": 10,
    "start_time": "2022-05-31T14:18:53.889Z"
   },
   {
    "duration": 5,
    "start_time": "2022-05-31T14:18:53.900Z"
   },
   {
    "duration": 16,
    "start_time": "2022-05-31T14:18:53.907Z"
   },
   {
    "duration": 6,
    "start_time": "2022-05-31T14:18:53.925Z"
   },
   {
    "duration": 20,
    "start_time": "2022-05-31T14:18:53.932Z"
   },
   {
    "duration": 34,
    "start_time": "2022-05-31T14:18:53.956Z"
   },
   {
    "duration": 5,
    "start_time": "2022-05-31T14:18:53.992Z"
   },
   {
    "duration": 173,
    "start_time": "2022-05-31T14:18:53.998Z"
   },
   {
    "duration": 0,
    "start_time": "2022-05-31T14:18:54.172Z"
   },
   {
    "duration": 0,
    "start_time": "2022-05-31T14:18:54.174Z"
   },
   {
    "duration": 0,
    "start_time": "2022-05-31T14:18:54.175Z"
   },
   {
    "duration": 127,
    "start_time": "2022-05-31T14:19:29.705Z"
   },
   {
    "duration": 122,
    "start_time": "2022-05-31T14:20:18.142Z"
   },
   {
    "duration": 20,
    "start_time": "2022-05-31T14:21:50.708Z"
   },
   {
    "duration": 135,
    "start_time": "2022-05-31T14:22:05.820Z"
   },
   {
    "duration": 6,
    "start_time": "2022-05-31T14:22:38.834Z"
   },
   {
    "duration": 114,
    "start_time": "2022-05-31T14:23:00.634Z"
   },
   {
    "duration": 5,
    "start_time": "2022-05-31T14:23:58.924Z"
   },
   {
    "duration": 7,
    "start_time": "2022-05-31T14:24:03.434Z"
   },
   {
    "duration": 6,
    "start_time": "2022-05-31T14:24:42.657Z"
   },
   {
    "duration": 5,
    "start_time": "2022-05-31T14:25:32.213Z"
   },
   {
    "duration": 6,
    "start_time": "2022-05-31T14:25:47.107Z"
   },
   {
    "duration": 8,
    "start_time": "2022-05-31T14:26:09.088Z"
   },
   {
    "duration": 13,
    "start_time": "2022-05-31T14:29:29.112Z"
   },
   {
    "duration": 28,
    "start_time": "2022-05-31T14:30:27.366Z"
   },
   {
    "duration": 13,
    "start_time": "2022-05-31T14:31:24.737Z"
   },
   {
    "duration": 11,
    "start_time": "2022-05-31T14:31:28.551Z"
   },
   {
    "duration": 21,
    "start_time": "2022-05-31T14:33:48.071Z"
   },
   {
    "duration": 12,
    "start_time": "2022-05-31T14:33:54.822Z"
   },
   {
    "duration": 8,
    "start_time": "2022-05-31T14:35:36.508Z"
   },
   {
    "duration": 13,
    "start_time": "2022-05-31T14:35:57.654Z"
   },
   {
    "duration": 9,
    "start_time": "2022-05-31T14:36:25.094Z"
   },
   {
    "duration": 6,
    "start_time": "2022-05-31T14:36:40.928Z"
   },
   {
    "duration": 19,
    "start_time": "2022-05-31T15:20:07.194Z"
   },
   {
    "duration": 19,
    "start_time": "2022-05-31T15:20:41.195Z"
   },
   {
    "duration": 7,
    "start_time": "2022-05-31T15:21:00.312Z"
   },
   {
    "duration": 9,
    "start_time": "2022-05-31T15:21:10.751Z"
   },
   {
    "duration": 11,
    "start_time": "2022-05-31T15:21:30.854Z"
   },
   {
    "duration": 10,
    "start_time": "2022-05-31T15:21:59.003Z"
   },
   {
    "duration": 13,
    "start_time": "2022-05-31T15:22:08.628Z"
   },
   {
    "duration": 7,
    "start_time": "2022-05-31T15:22:19.956Z"
   },
   {
    "duration": 10,
    "start_time": "2022-05-31T15:22:25.583Z"
   },
   {
    "duration": 10,
    "start_time": "2022-05-31T15:22:30.491Z"
   },
   {
    "duration": 5,
    "start_time": "2022-05-31T15:23:09.091Z"
   },
   {
    "duration": 17,
    "start_time": "2022-05-31T15:23:21.645Z"
   },
   {
    "duration": 4,
    "start_time": "2022-05-31T15:23:35.751Z"
   },
   {
    "duration": 15,
    "start_time": "2022-05-31T15:23:45.193Z"
   },
   {
    "duration": 5,
    "start_time": "2022-05-31T15:24:10.185Z"
   },
   {
    "duration": 11,
    "start_time": "2022-05-31T15:24:36.485Z"
   },
   {
    "duration": 10,
    "start_time": "2022-05-31T15:24:41.708Z"
   },
   {
    "duration": 6,
    "start_time": "2022-05-31T15:24:54.772Z"
   },
   {
    "duration": 18,
    "start_time": "2022-05-31T15:25:12.186Z"
   },
   {
    "duration": 4,
    "start_time": "2022-05-31T15:29:58.977Z"
   },
   {
    "duration": 5,
    "start_time": "2022-05-31T15:30:20.679Z"
   },
   {
    "duration": 6,
    "start_time": "2022-05-31T15:30:33.164Z"
   },
   {
    "duration": 16,
    "start_time": "2022-05-31T15:30:37.904Z"
   },
   {
    "duration": 11,
    "start_time": "2022-05-31T15:30:42.810Z"
   },
   {
    "duration": 4,
    "start_time": "2022-05-31T15:30:54.593Z"
   },
   {
    "duration": 246,
    "start_time": "2022-05-31T15:31:25.698Z"
   },
   {
    "duration": 3,
    "start_time": "2022-05-31T15:31:36.651Z"
   },
   {
    "duration": 201,
    "start_time": "2022-05-31T15:35:00.352Z"
   },
   {
    "duration": 8,
    "start_time": "2022-05-31T15:35:37.553Z"
   },
   {
    "duration": 8,
    "start_time": "2022-05-31T15:35:42.647Z"
   },
   {
    "duration": 6,
    "start_time": "2022-05-31T15:35:53.081Z"
   },
   {
    "duration": 129,
    "start_time": "2022-05-31T15:36:12.970Z"
   },
   {
    "duration": 14,
    "start_time": "2022-05-31T15:36:26.674Z"
   },
   {
    "duration": 18,
    "start_time": "2022-05-31T15:36:34.561Z"
   },
   {
    "duration": 5,
    "start_time": "2022-05-31T15:37:42.353Z"
   },
   {
    "duration": 4,
    "start_time": "2022-05-31T15:37:46.982Z"
   },
   {
    "duration": 8,
    "start_time": "2022-05-31T15:38:33.303Z"
   },
   {
    "duration": 5,
    "start_time": "2022-05-31T15:39:14.943Z"
   },
   {
    "duration": 5,
    "start_time": "2022-05-31T15:41:41.008Z"
   },
   {
    "duration": 19,
    "start_time": "2022-05-31T15:41:49.859Z"
   },
   {
    "duration": 5,
    "start_time": "2022-05-31T15:42:35.745Z"
   },
   {
    "duration": 20,
    "start_time": "2022-05-31T15:43:18.444Z"
   },
   {
    "duration": 20,
    "start_time": "2022-05-31T15:43:32.842Z"
   },
   {
    "duration": 21,
    "start_time": "2022-05-31T15:48:37.126Z"
   },
   {
    "duration": 20,
    "start_time": "2022-05-31T15:54:17.619Z"
   },
   {
    "duration": 13,
    "start_time": "2022-05-31T15:54:27.042Z"
   },
   {
    "duration": 13,
    "start_time": "2022-05-31T15:54:51.922Z"
   },
   {
    "duration": 28,
    "start_time": "2022-05-31T15:55:35.646Z"
   },
   {
    "duration": 40,
    "start_time": "2022-05-31T15:55:46.203Z"
   },
   {
    "duration": 14,
    "start_time": "2022-05-31T15:55:52.424Z"
   },
   {
    "duration": 10,
    "start_time": "2022-05-31T15:56:03.013Z"
   },
   {
    "duration": 15,
    "start_time": "2022-05-31T15:56:19.649Z"
   },
   {
    "duration": 10,
    "start_time": "2022-05-31T15:57:41.807Z"
   },
   {
    "duration": 60,
    "start_time": "2022-05-31T17:32:31.006Z"
   },
   {
    "duration": 1522,
    "start_time": "2022-05-31T17:32:36.483Z"
   },
   {
    "duration": 158,
    "start_time": "2022-05-31T17:32:38.007Z"
   },
   {
    "duration": 21,
    "start_time": "2022-05-31T17:32:38.167Z"
   },
   {
    "duration": 20,
    "start_time": "2022-05-31T17:32:38.191Z"
   },
   {
    "duration": 8,
    "start_time": "2022-05-31T17:32:38.213Z"
   },
   {
    "duration": 5,
    "start_time": "2022-05-31T17:32:38.223Z"
   },
   {
    "duration": 6,
    "start_time": "2022-05-31T17:32:38.229Z"
   },
   {
    "duration": 26,
    "start_time": "2022-05-31T17:32:38.237Z"
   },
   {
    "duration": 10,
    "start_time": "2022-05-31T17:32:38.264Z"
   },
   {
    "duration": 17,
    "start_time": "2022-05-31T17:32:38.276Z"
   },
   {
    "duration": 5,
    "start_time": "2022-05-31T17:32:38.294Z"
   },
   {
    "duration": 6,
    "start_time": "2022-05-31T17:32:38.301Z"
   },
   {
    "duration": 12,
    "start_time": "2022-05-31T17:32:38.309Z"
   },
   {
    "duration": 39,
    "start_time": "2022-05-31T17:32:38.322Z"
   },
   {
    "duration": 8,
    "start_time": "2022-05-31T17:32:38.363Z"
   },
   {
    "duration": 10,
    "start_time": "2022-05-31T17:32:38.372Z"
   },
   {
    "duration": 34,
    "start_time": "2022-05-31T17:32:38.384Z"
   },
   {
    "duration": 85,
    "start_time": "2022-05-31T17:32:38.420Z"
   },
   {
    "duration": 0,
    "start_time": "2022-05-31T17:32:38.507Z"
   },
   {
    "duration": 27,
    "start_time": "2022-05-31T17:32:50.072Z"
   },
   {
    "duration": 10,
    "start_time": "2022-05-31T17:33:15.696Z"
   },
   {
    "duration": 8,
    "start_time": "2022-05-31T17:33:40.232Z"
   },
   {
    "duration": 3,
    "start_time": "2022-05-31T17:36:28.903Z"
   },
   {
    "duration": 5,
    "start_time": "2022-05-31T17:36:42.797Z"
   },
   {
    "duration": 4,
    "start_time": "2022-05-31T17:37:44.438Z"
   },
   {
    "duration": 4,
    "start_time": "2022-05-31T17:38:36.844Z"
   },
   {
    "duration": 4,
    "start_time": "2022-05-31T17:39:01.937Z"
   },
   {
    "duration": 3,
    "start_time": "2022-05-31T17:40:44.963Z"
   },
   {
    "duration": 133,
    "start_time": "2022-05-31T17:41:44.921Z"
   },
   {
    "duration": 3,
    "start_time": "2022-05-31T17:43:16.408Z"
   },
   {
    "duration": 877,
    "start_time": "2022-05-31T17:43:19.046Z"
   },
   {
    "duration": 21,
    "start_time": "2022-05-31T17:43:28.096Z"
   },
   {
    "duration": 4,
    "start_time": "2022-05-31T17:43:48.407Z"
   },
   {
    "duration": 4,
    "start_time": "2022-05-31T17:43:48.564Z"
   },
   {
    "duration": 523,
    "start_time": "2022-05-31T17:43:51.613Z"
   },
   {
    "duration": 4,
    "start_time": "2022-05-31T17:44:12.706Z"
   },
   {
    "duration": 1098,
    "start_time": "2022-05-31T17:44:13.984Z"
   },
   {
    "duration": 22,
    "start_time": "2022-05-31T17:44:16.225Z"
   },
   {
    "duration": 4,
    "start_time": "2022-05-31T17:44:39.709Z"
   },
   {
    "duration": 23,
    "start_time": "2022-05-31T17:45:27.900Z"
   },
   {
    "duration": 22,
    "start_time": "2022-05-31T17:45:49.636Z"
   },
   {
    "duration": 15,
    "start_time": "2022-05-31T17:46:41.728Z"
   },
   {
    "duration": 16,
    "start_time": "2022-05-31T17:46:45.724Z"
   },
   {
    "duration": 5,
    "start_time": "2022-05-31T17:48:17.431Z"
   },
   {
    "duration": 21,
    "start_time": "2022-05-31T17:48:24.030Z"
   },
   {
    "duration": 21,
    "start_time": "2022-05-31T17:50:03.258Z"
   },
   {
    "duration": 59,
    "start_time": "2022-06-01T10:57:12.462Z"
   },
   {
    "duration": 1396,
    "start_time": "2022-06-01T10:57:17.106Z"
   },
   {
    "duration": 111,
    "start_time": "2022-06-01T10:57:18.505Z"
   },
   {
    "duration": 28,
    "start_time": "2022-06-01T10:57:18.617Z"
   },
   {
    "duration": 31,
    "start_time": "2022-06-01T10:57:18.647Z"
   },
   {
    "duration": 16,
    "start_time": "2022-06-01T10:57:18.680Z"
   },
   {
    "duration": 17,
    "start_time": "2022-06-01T10:57:18.698Z"
   },
   {
    "duration": 25,
    "start_time": "2022-06-01T10:57:18.718Z"
   },
   {
    "duration": 36,
    "start_time": "2022-06-01T10:57:18.751Z"
   },
   {
    "duration": 12,
    "start_time": "2022-06-01T10:57:18.789Z"
   },
   {
    "duration": 16,
    "start_time": "2022-06-01T10:57:18.804Z"
   },
   {
    "duration": 41,
    "start_time": "2022-06-01T10:57:18.822Z"
   },
   {
    "duration": 7,
    "start_time": "2022-06-01T10:57:18.865Z"
   },
   {
    "duration": 17,
    "start_time": "2022-06-01T10:57:18.874Z"
   },
   {
    "duration": 30,
    "start_time": "2022-06-01T10:57:18.893Z"
   },
   {
    "duration": 47,
    "start_time": "2022-06-01T10:57:18.925Z"
   },
   {
    "duration": 22,
    "start_time": "2022-06-01T10:57:18.973Z"
   },
   {
    "duration": 18,
    "start_time": "2022-06-01T10:57:18.997Z"
   },
   {
    "duration": 5,
    "start_time": "2022-06-01T10:57:19.017Z"
   },
   {
    "duration": 1266,
    "start_time": "2022-06-01T10:57:19.023Z"
   },
   {
    "duration": 16,
    "start_time": "2022-06-01T10:57:20.291Z"
   },
   {
    "duration": 59,
    "start_time": "2022-06-01T10:57:20.309Z"
   },
   {
    "duration": 20,
    "start_time": "2022-06-01T10:57:20.371Z"
   },
   {
    "duration": 34,
    "start_time": "2022-06-01T11:40:46.417Z"
   },
   {
    "duration": 44,
    "start_time": "2022-06-01T11:41:09.367Z"
   },
   {
    "duration": 29,
    "start_time": "2022-06-01T11:41:36.122Z"
   },
   {
    "duration": 35,
    "start_time": "2022-06-01T11:41:55.725Z"
   },
   {
    "duration": 27,
    "start_time": "2022-06-01T11:45:39.223Z"
   },
   {
    "duration": 6,
    "start_time": "2022-06-01T11:46:51.246Z"
   },
   {
    "duration": 13,
    "start_time": "2022-06-01T11:47:16.300Z"
   },
   {
    "duration": 348,
    "start_time": "2022-06-01T11:47:27.347Z"
   },
   {
    "duration": 16,
    "start_time": "2022-06-01T11:47:30.535Z"
   },
   {
    "duration": 22,
    "start_time": "2022-06-01T11:47:44.179Z"
   },
   {
    "duration": 22,
    "start_time": "2022-06-01T11:48:16.449Z"
   },
   {
    "duration": 1248,
    "start_time": "2022-06-01T11:49:45.774Z"
   },
   {
    "duration": 160,
    "start_time": "2022-06-01T11:50:31.224Z"
   },
   {
    "duration": 36,
    "start_time": "2022-06-01T11:51:08.612Z"
   },
   {
    "duration": 43,
    "start_time": "2022-06-01T11:51:13.751Z"
   },
   {
    "duration": 10,
    "start_time": "2022-06-01T11:51:25.682Z"
   },
   {
    "duration": 12,
    "start_time": "2022-06-01T11:52:07.433Z"
   },
   {
    "duration": 35,
    "start_time": "2022-06-01T11:52:17.207Z"
   },
   {
    "duration": 4,
    "start_time": "2022-06-01T11:53:27.847Z"
   },
   {
    "duration": 88,
    "start_time": "2022-06-01T11:53:27.854Z"
   },
   {
    "duration": 15,
    "start_time": "2022-06-01T11:53:27.945Z"
   },
   {
    "duration": 21,
    "start_time": "2022-06-01T11:53:27.961Z"
   },
   {
    "duration": 9,
    "start_time": "2022-06-01T11:53:27.984Z"
   },
   {
    "duration": 12,
    "start_time": "2022-06-01T11:53:27.995Z"
   },
   {
    "duration": 25,
    "start_time": "2022-06-01T11:53:28.009Z"
   },
   {
    "duration": 17,
    "start_time": "2022-06-01T11:53:28.035Z"
   },
   {
    "duration": 19,
    "start_time": "2022-06-01T11:53:28.053Z"
   },
   {
    "duration": 12,
    "start_time": "2022-06-01T11:53:28.074Z"
   },
   {
    "duration": 13,
    "start_time": "2022-06-01T11:53:28.091Z"
   },
   {
    "duration": 52,
    "start_time": "2022-06-01T11:53:28.105Z"
   },
   {
    "duration": 22,
    "start_time": "2022-06-01T11:53:28.159Z"
   },
   {
    "duration": 16,
    "start_time": "2022-06-01T11:53:28.184Z"
   },
   {
    "duration": 21,
    "start_time": "2022-06-01T11:53:28.202Z"
   },
   {
    "duration": 16,
    "start_time": "2022-06-01T11:53:28.229Z"
   },
   {
    "duration": 11,
    "start_time": "2022-06-01T11:53:28.246Z"
   },
   {
    "duration": 1245,
    "start_time": "2022-06-01T11:53:28.258Z"
   },
   {
    "duration": 25,
    "start_time": "2022-06-01T11:53:29.505Z"
   },
   {
    "duration": 34,
    "start_time": "2022-06-01T11:53:29.531Z"
   },
   {
    "duration": 14,
    "start_time": "2022-06-01T11:53:29.567Z"
   },
   {
    "duration": 5,
    "start_time": "2022-06-01T11:53:29.582Z"
   },
   {
    "duration": 4,
    "start_time": "2022-06-01T11:56:50.008Z"
   },
   {
    "duration": 323,
    "start_time": "2022-06-01T11:57:08.595Z"
   },
   {
    "duration": 10,
    "start_time": "2022-06-01T11:57:15.445Z"
   },
   {
    "duration": 4,
    "start_time": "2022-06-01T11:57:21.996Z"
   },
   {
    "duration": 84,
    "start_time": "2022-06-01T11:57:22.002Z"
   },
   {
    "duration": 21,
    "start_time": "2022-06-01T11:57:22.089Z"
   },
   {
    "duration": 32,
    "start_time": "2022-06-01T11:57:22.112Z"
   },
   {
    "duration": 38,
    "start_time": "2022-06-01T11:57:22.147Z"
   },
   {
    "duration": 4,
    "start_time": "2022-06-01T11:57:22.186Z"
   },
   {
    "duration": 25,
    "start_time": "2022-06-01T11:57:22.194Z"
   },
   {
    "duration": 26,
    "start_time": "2022-06-01T11:57:22.222Z"
   },
   {
    "duration": 30,
    "start_time": "2022-06-01T11:57:22.250Z"
   },
   {
    "duration": 5,
    "start_time": "2022-06-01T11:57:22.283Z"
   },
   {
    "duration": 24,
    "start_time": "2022-06-01T11:57:22.290Z"
   },
   {
    "duration": 10,
    "start_time": "2022-06-01T11:57:22.315Z"
   },
   {
    "duration": 36,
    "start_time": "2022-06-01T11:57:22.333Z"
   },
   {
    "duration": 27,
    "start_time": "2022-06-01T11:57:22.371Z"
   },
   {
    "duration": 14,
    "start_time": "2022-06-01T11:57:22.401Z"
   },
   {
    "duration": 4,
    "start_time": "2022-06-01T11:57:22.417Z"
   },
   {
    "duration": 24,
    "start_time": "2022-06-01T11:57:22.423Z"
   },
   {
    "duration": 1194,
    "start_time": "2022-06-01T11:57:22.448Z"
   },
   {
    "duration": 22,
    "start_time": "2022-06-01T11:57:23.645Z"
   },
   {
    "duration": 24,
    "start_time": "2022-06-01T11:57:23.669Z"
   },
   {
    "duration": 15,
    "start_time": "2022-06-01T11:57:23.694Z"
   },
   {
    "duration": 25,
    "start_time": "2022-06-01T11:57:23.711Z"
   },
   {
    "duration": 18,
    "start_time": "2022-06-01T11:57:23.737Z"
   },
   {
    "duration": 356,
    "start_time": "2022-06-01T11:57:23.756Z"
   },
   {
    "duration": 19,
    "start_time": "2022-06-01T11:57:24.114Z"
   },
   {
    "duration": 7,
    "start_time": "2022-06-01T11:57:27.826Z"
   },
   {
    "duration": 6,
    "start_time": "2022-06-01T11:58:04.534Z"
   },
   {
    "duration": 74,
    "start_time": "2022-06-01T11:58:04.548Z"
   },
   {
    "duration": 22,
    "start_time": "2022-06-01T11:58:04.631Z"
   },
   {
    "duration": 25,
    "start_time": "2022-06-01T11:58:04.658Z"
   },
   {
    "duration": 20,
    "start_time": "2022-06-01T11:58:04.687Z"
   },
   {
    "duration": 7,
    "start_time": "2022-06-01T11:58:04.709Z"
   },
   {
    "duration": 47,
    "start_time": "2022-06-01T11:58:04.718Z"
   },
   {
    "duration": 10,
    "start_time": "2022-06-01T11:58:04.767Z"
   },
   {
    "duration": 25,
    "start_time": "2022-06-01T11:58:04.779Z"
   },
   {
    "duration": 5,
    "start_time": "2022-06-01T11:58:04.806Z"
   },
   {
    "duration": 14,
    "start_time": "2022-06-01T11:58:04.813Z"
   },
   {
    "duration": 27,
    "start_time": "2022-06-01T11:58:04.832Z"
   },
   {
    "duration": 24,
    "start_time": "2022-06-01T11:58:04.861Z"
   },
   {
    "duration": 8,
    "start_time": "2022-06-01T11:58:04.889Z"
   },
   {
    "duration": 14,
    "start_time": "2022-06-01T11:58:04.899Z"
   },
   {
    "duration": 4,
    "start_time": "2022-06-01T11:58:04.915Z"
   },
   {
    "duration": 29,
    "start_time": "2022-06-01T11:58:04.921Z"
   },
   {
    "duration": 1220,
    "start_time": "2022-06-01T11:58:04.952Z"
   },
   {
    "duration": 29,
    "start_time": "2022-06-01T11:58:06.174Z"
   },
   {
    "duration": 40,
    "start_time": "2022-06-01T11:58:06.205Z"
   },
   {
    "duration": 28,
    "start_time": "2022-06-01T11:58:06.248Z"
   },
   {
    "duration": 7,
    "start_time": "2022-06-01T11:58:06.282Z"
   },
   {
    "duration": 28,
    "start_time": "2022-06-01T11:58:06.291Z"
   },
   {
    "duration": 315,
    "start_time": "2022-06-01T11:58:06.321Z"
   },
   {
    "duration": 24,
    "start_time": "2022-06-01T11:58:06.645Z"
   },
   {
    "duration": 16,
    "start_time": "2022-06-01T11:58:41.190Z"
   },
   {
    "duration": 4,
    "start_time": "2022-06-01T11:58:51.964Z"
   },
   {
    "duration": 70,
    "start_time": "2022-06-01T11:58:51.970Z"
   },
   {
    "duration": 20,
    "start_time": "2022-06-01T11:58:52.044Z"
   },
   {
    "duration": 23,
    "start_time": "2022-06-01T11:58:52.067Z"
   },
   {
    "duration": 17,
    "start_time": "2022-06-01T11:58:52.092Z"
   },
   {
    "duration": 39,
    "start_time": "2022-06-01T11:58:52.111Z"
   },
   {
    "duration": 31,
    "start_time": "2022-06-01T11:58:52.152Z"
   },
   {
    "duration": 70,
    "start_time": "2022-06-01T11:58:52.185Z"
   },
   {
    "duration": 16,
    "start_time": "2022-06-01T11:58:52.258Z"
   },
   {
    "duration": 12,
    "start_time": "2022-06-01T11:58:52.276Z"
   },
   {
    "duration": 12,
    "start_time": "2022-06-01T11:58:52.290Z"
   },
   {
    "duration": 18,
    "start_time": "2022-06-01T11:58:52.304Z"
   },
   {
    "duration": 37,
    "start_time": "2022-06-01T11:58:52.324Z"
   },
   {
    "duration": 21,
    "start_time": "2022-06-01T11:58:52.364Z"
   },
   {
    "duration": 23,
    "start_time": "2022-06-01T11:58:52.387Z"
   },
   {
    "duration": 6,
    "start_time": "2022-06-01T11:58:52.415Z"
   },
   {
    "duration": 72,
    "start_time": "2022-06-01T11:58:52.423Z"
   },
   {
    "duration": 1546,
    "start_time": "2022-06-01T11:58:52.497Z"
   },
   {
    "duration": 20,
    "start_time": "2022-06-01T11:58:54.045Z"
   },
   {
    "duration": 34,
    "start_time": "2022-06-01T11:58:54.067Z"
   },
   {
    "duration": 42,
    "start_time": "2022-06-01T11:58:54.102Z"
   },
   {
    "duration": 3,
    "start_time": "2022-06-01T11:58:54.146Z"
   },
   {
    "duration": 12,
    "start_time": "2022-06-01T11:58:54.151Z"
   },
   {
    "duration": 372,
    "start_time": "2022-06-01T11:58:54.167Z"
   },
   {
    "duration": 29,
    "start_time": "2022-06-01T11:58:54.541Z"
   },
   {
    "duration": 4,
    "start_time": "2022-06-01T11:59:18.043Z"
   },
   {
    "duration": 69,
    "start_time": "2022-06-01T11:59:18.049Z"
   },
   {
    "duration": 25,
    "start_time": "2022-06-01T11:59:18.120Z"
   },
   {
    "duration": 20,
    "start_time": "2022-06-01T11:59:18.147Z"
   },
   {
    "duration": 11,
    "start_time": "2022-06-01T11:59:18.169Z"
   },
   {
    "duration": 14,
    "start_time": "2022-06-01T11:59:18.182Z"
   },
   {
    "duration": 37,
    "start_time": "2022-06-01T11:59:18.198Z"
   },
   {
    "duration": 12,
    "start_time": "2022-06-01T11:59:18.237Z"
   },
   {
    "duration": 18,
    "start_time": "2022-06-01T11:59:18.251Z"
   },
   {
    "duration": 5,
    "start_time": "2022-06-01T11:59:18.271Z"
   },
   {
    "duration": 8,
    "start_time": "2022-06-01T11:59:18.278Z"
   },
   {
    "duration": 12,
    "start_time": "2022-06-01T11:59:18.288Z"
   },
   {
    "duration": 44,
    "start_time": "2022-06-01T11:59:18.302Z"
   },
   {
    "duration": 6,
    "start_time": "2022-06-01T11:59:18.349Z"
   },
   {
    "duration": 12,
    "start_time": "2022-06-01T11:59:18.357Z"
   },
   {
    "duration": 12,
    "start_time": "2022-06-01T11:59:18.371Z"
   },
   {
    "duration": 5,
    "start_time": "2022-06-01T11:59:18.385Z"
   },
   {
    "duration": 1309,
    "start_time": "2022-06-01T11:59:18.392Z"
   },
   {
    "duration": 23,
    "start_time": "2022-06-01T11:59:19.703Z"
   },
   {
    "duration": 36,
    "start_time": "2022-06-01T11:59:19.727Z"
   },
   {
    "duration": 13,
    "start_time": "2022-06-01T11:59:19.765Z"
   },
   {
    "duration": 2,
    "start_time": "2022-06-01T11:59:19.780Z"
   },
   {
    "duration": 7,
    "start_time": "2022-06-01T11:59:19.784Z"
   },
   {
    "duration": 305,
    "start_time": "2022-06-01T11:59:19.797Z"
   },
   {
    "duration": 37,
    "start_time": "2022-06-01T11:59:20.104Z"
   },
   {
    "duration": 6,
    "start_time": "2022-06-01T11:59:33.267Z"
   },
   {
    "duration": 75,
    "start_time": "2022-06-01T11:59:33.275Z"
   },
   {
    "duration": 21,
    "start_time": "2022-06-01T11:59:33.352Z"
   },
   {
    "duration": 23,
    "start_time": "2022-06-01T11:59:33.375Z"
   },
   {
    "duration": 44,
    "start_time": "2022-06-01T11:59:33.400Z"
   },
   {
    "duration": 17,
    "start_time": "2022-06-01T11:59:33.446Z"
   },
   {
    "duration": 24,
    "start_time": "2022-06-01T11:59:33.466Z"
   },
   {
    "duration": 11,
    "start_time": "2022-06-01T11:59:33.492Z"
   },
   {
    "duration": 26,
    "start_time": "2022-06-01T11:59:33.505Z"
   },
   {
    "duration": 36,
    "start_time": "2022-06-01T11:59:33.534Z"
   },
   {
    "duration": 8,
    "start_time": "2022-06-01T11:59:33.572Z"
   },
   {
    "duration": 8,
    "start_time": "2022-06-01T11:59:33.582Z"
   },
   {
    "duration": 44,
    "start_time": "2022-06-01T11:59:33.592Z"
   },
   {
    "duration": 12,
    "start_time": "2022-06-01T11:59:33.643Z"
   },
   {
    "duration": 28,
    "start_time": "2022-06-01T11:59:33.659Z"
   },
   {
    "duration": 17,
    "start_time": "2022-06-01T11:59:33.690Z"
   },
   {
    "duration": 13,
    "start_time": "2022-06-01T11:59:33.710Z"
   },
   {
    "duration": 1628,
    "start_time": "2022-06-01T11:59:33.725Z"
   },
   {
    "duration": 26,
    "start_time": "2022-06-01T11:59:35.355Z"
   },
   {
    "duration": 51,
    "start_time": "2022-06-01T11:59:35.384Z"
   },
   {
    "duration": 36,
    "start_time": "2022-06-01T11:59:35.438Z"
   },
   {
    "duration": 3,
    "start_time": "2022-06-01T11:59:35.476Z"
   },
   {
    "duration": 12,
    "start_time": "2022-06-01T11:59:35.481Z"
   },
   {
    "duration": 510,
    "start_time": "2022-06-01T11:59:35.494Z"
   },
   {
    "duration": 31,
    "start_time": "2022-06-01T11:59:36.006Z"
   },
   {
    "duration": 18,
    "start_time": "2022-06-01T12:00:00.450Z"
   },
   {
    "duration": 24,
    "start_time": "2022-06-01T12:00:20.417Z"
   },
   {
    "duration": 7,
    "start_time": "2022-06-01T12:02:58.846Z"
   },
   {
    "duration": 5,
    "start_time": "2022-06-01T12:04:01.891Z"
   },
   {
    "duration": 22,
    "start_time": "2022-06-01T12:04:08.862Z"
   },
   {
    "duration": 167,
    "start_time": "2022-06-01T12:04:26.889Z"
   },
   {
    "duration": 148,
    "start_time": "2022-06-01T12:04:43.257Z"
   },
   {
    "duration": 13,
    "start_time": "2022-06-01T12:06:47.011Z"
   },
   {
    "duration": 6,
    "start_time": "2022-06-01T12:08:40.538Z"
   },
   {
    "duration": 263,
    "start_time": "2022-06-01T12:09:14.192Z"
   },
   {
    "duration": 8,
    "start_time": "2022-06-01T12:09:39.380Z"
   },
   {
    "duration": 126,
    "start_time": "2022-06-01T12:09:39.391Z"
   },
   {
    "duration": 29,
    "start_time": "2022-06-01T12:09:39.519Z"
   },
   {
    "duration": 36,
    "start_time": "2022-06-01T12:09:39.551Z"
   },
   {
    "duration": 10,
    "start_time": "2022-06-01T12:09:39.590Z"
   },
   {
    "duration": 70,
    "start_time": "2022-06-01T12:09:39.602Z"
   },
   {
    "duration": 33,
    "start_time": "2022-06-01T12:09:39.674Z"
   },
   {
    "duration": 15,
    "start_time": "2022-06-01T12:09:39.709Z"
   },
   {
    "duration": 45,
    "start_time": "2022-06-01T12:09:39.728Z"
   },
   {
    "duration": 7,
    "start_time": "2022-06-01T12:09:39.775Z"
   },
   {
    "duration": 14,
    "start_time": "2022-06-01T12:09:39.784Z"
   },
   {
    "duration": 9,
    "start_time": "2022-06-01T12:09:39.800Z"
   },
   {
    "duration": 25,
    "start_time": "2022-06-01T12:09:39.811Z"
   },
   {
    "duration": 6,
    "start_time": "2022-06-01T12:09:39.838Z"
   },
   {
    "duration": 24,
    "start_time": "2022-06-01T12:09:39.846Z"
   },
   {
    "duration": 7,
    "start_time": "2022-06-01T12:09:39.872Z"
   },
   {
    "duration": 16,
    "start_time": "2022-06-01T12:09:39.881Z"
   },
   {
    "duration": 1324,
    "start_time": "2022-06-01T12:09:39.899Z"
   },
   {
    "duration": 23,
    "start_time": "2022-06-01T12:09:41.232Z"
   },
   {
    "duration": 24,
    "start_time": "2022-06-01T12:09:41.257Z"
   },
   {
    "duration": 23,
    "start_time": "2022-06-01T12:09:41.283Z"
   },
   {
    "duration": 11,
    "start_time": "2022-06-01T12:09:41.328Z"
   },
   {
    "duration": 19,
    "start_time": "2022-06-01T12:09:41.351Z"
   },
   {
    "duration": 312,
    "start_time": "2022-06-01T12:09:41.371Z"
   },
   {
    "duration": 12,
    "start_time": "2022-06-01T12:09:41.685Z"
   },
   {
    "duration": 19,
    "start_time": "2022-06-01T12:09:41.699Z"
   },
   {
    "duration": 26,
    "start_time": "2022-06-01T12:09:41.720Z"
   },
   {
    "duration": 222,
    "start_time": "2022-06-01T12:09:41.749Z"
   },
   {
    "duration": 589,
    "start_time": "2022-06-01T12:09:59.066Z"
   },
   {
    "duration": 29,
    "start_time": "2022-06-01T12:10:12.154Z"
   },
   {
    "duration": 17,
    "start_time": "2022-06-01T12:10:25.604Z"
   },
   {
    "duration": 5,
    "start_time": "2022-06-01T12:10:40.292Z"
   },
   {
    "duration": 76,
    "start_time": "2022-06-01T12:10:40.299Z"
   },
   {
    "duration": 21,
    "start_time": "2022-06-01T12:10:40.378Z"
   },
   {
    "duration": 38,
    "start_time": "2022-06-01T12:10:40.401Z"
   },
   {
    "duration": 39,
    "start_time": "2022-06-01T12:10:40.442Z"
   },
   {
    "duration": 6,
    "start_time": "2022-06-01T12:10:40.486Z"
   },
   {
    "duration": 26,
    "start_time": "2022-06-01T12:10:40.497Z"
   },
   {
    "duration": 21,
    "start_time": "2022-06-01T12:10:40.528Z"
   },
   {
    "duration": 36,
    "start_time": "2022-06-01T12:10:40.557Z"
   },
   {
    "duration": 6,
    "start_time": "2022-06-01T12:10:40.597Z"
   },
   {
    "duration": 9,
    "start_time": "2022-06-01T12:10:40.606Z"
   },
   {
    "duration": 41,
    "start_time": "2022-06-01T12:10:40.618Z"
   },
   {
    "duration": 28,
    "start_time": "2022-06-01T12:10:40.661Z"
   },
   {
    "duration": 7,
    "start_time": "2022-06-01T12:10:40.691Z"
   },
   {
    "duration": 15,
    "start_time": "2022-06-01T12:10:40.700Z"
   },
   {
    "duration": 12,
    "start_time": "2022-06-01T12:10:40.717Z"
   },
   {
    "duration": 32,
    "start_time": "2022-06-01T12:10:40.731Z"
   },
   {
    "duration": 1533,
    "start_time": "2022-06-01T12:10:40.765Z"
   },
   {
    "duration": 17,
    "start_time": "2022-06-01T12:10:42.301Z"
   },
   {
    "duration": 47,
    "start_time": "2022-06-01T12:10:42.327Z"
   },
   {
    "duration": 30,
    "start_time": "2022-06-01T12:10:42.376Z"
   },
   {
    "duration": 3,
    "start_time": "2022-06-01T12:10:42.408Z"
   },
   {
    "duration": 11,
    "start_time": "2022-06-01T12:10:42.413Z"
   },
   {
    "duration": 350,
    "start_time": "2022-06-01T12:10:42.426Z"
   },
   {
    "duration": 13,
    "start_time": "2022-06-01T12:10:42.780Z"
   },
   {
    "duration": 14,
    "start_time": "2022-06-01T12:10:42.798Z"
   },
   {
    "duration": 13,
    "start_time": "2022-06-01T12:10:42.814Z"
   },
   {
    "duration": 241,
    "start_time": "2022-06-01T12:10:42.829Z"
   },
   {
    "duration": 13,
    "start_time": "2022-06-01T12:10:43.073Z"
   },
   {
    "duration": 8,
    "start_time": "2022-06-01T12:11:22.924Z"
   },
   {
    "duration": 106,
    "start_time": "2022-06-01T12:11:22.938Z"
   },
   {
    "duration": 21,
    "start_time": "2022-06-01T12:11:23.050Z"
   },
   {
    "duration": 19,
    "start_time": "2022-06-01T12:11:23.074Z"
   },
   {
    "duration": 10,
    "start_time": "2022-06-01T12:11:23.095Z"
   },
   {
    "duration": 11,
    "start_time": "2022-06-01T12:11:23.107Z"
   },
   {
    "duration": 61,
    "start_time": "2022-06-01T12:11:23.127Z"
   },
   {
    "duration": 16,
    "start_time": "2022-06-01T12:11:23.190Z"
   },
   {
    "duration": 42,
    "start_time": "2022-06-01T12:11:23.208Z"
   },
   {
    "duration": 15,
    "start_time": "2022-06-01T12:11:23.254Z"
   },
   {
    "duration": 8,
    "start_time": "2022-06-01T12:11:23.271Z"
   },
   {
    "duration": 12,
    "start_time": "2022-06-01T12:11:23.281Z"
   },
   {
    "duration": 23,
    "start_time": "2022-06-01T12:11:23.295Z"
   },
   {
    "duration": 16,
    "start_time": "2022-06-01T12:11:23.320Z"
   },
   {
    "duration": 25,
    "start_time": "2022-06-01T12:11:23.338Z"
   },
   {
    "duration": 5,
    "start_time": "2022-06-01T12:11:23.365Z"
   },
   {
    "duration": 7,
    "start_time": "2022-06-01T12:11:23.373Z"
   },
   {
    "duration": 1690,
    "start_time": "2022-06-01T12:11:23.382Z"
   },
   {
    "duration": 19,
    "start_time": "2022-06-01T12:11:25.075Z"
   },
   {
    "duration": 32,
    "start_time": "2022-06-01T12:11:25.096Z"
   },
   {
    "duration": 28,
    "start_time": "2022-06-01T12:11:25.130Z"
   },
   {
    "duration": 5,
    "start_time": "2022-06-01T12:11:25.161Z"
   },
   {
    "duration": 40,
    "start_time": "2022-06-01T12:11:25.168Z"
   },
   {
    "duration": 459,
    "start_time": "2022-06-01T12:11:25.210Z"
   },
   {
    "duration": 14,
    "start_time": "2022-06-01T12:11:25.672Z"
   },
   {
    "duration": 19,
    "start_time": "2022-06-01T12:11:25.688Z"
   },
   {
    "duration": 9,
    "start_time": "2022-06-01T12:11:25.709Z"
   },
   {
    "duration": 305,
    "start_time": "2022-06-01T12:11:25.721Z"
   },
   {
    "duration": 17,
    "start_time": "2022-06-01T12:11:26.033Z"
   },
   {
    "duration": 24,
    "start_time": "2022-06-01T12:11:49.256Z"
   },
   {
    "duration": 19,
    "start_time": "2022-06-01T12:13:54.320Z"
   },
   {
    "duration": 20,
    "start_time": "2022-06-01T12:14:11.599Z"
   },
   {
    "duration": 6,
    "start_time": "2022-06-01T12:14:16.847Z"
   },
   {
    "duration": 10,
    "start_time": "2022-06-01T12:15:17.804Z"
   },
   {
    "duration": 5,
    "start_time": "2022-06-01T12:16:50.390Z"
   },
   {
    "duration": 148,
    "start_time": "2022-06-01T12:16:50.397Z"
   },
   {
    "duration": 27,
    "start_time": "2022-06-01T12:16:50.551Z"
   },
   {
    "duration": 54,
    "start_time": "2022-06-01T12:16:50.581Z"
   },
   {
    "duration": 49,
    "start_time": "2022-06-01T12:16:50.646Z"
   },
   {
    "duration": 25,
    "start_time": "2022-06-01T12:16:50.697Z"
   },
   {
    "duration": 118,
    "start_time": "2022-06-01T12:16:50.724Z"
   },
   {
    "duration": 62,
    "start_time": "2022-06-01T12:16:50.846Z"
   },
   {
    "duration": 95,
    "start_time": "2022-06-01T12:16:50.910Z"
   },
   {
    "duration": 15,
    "start_time": "2022-06-01T12:16:51.007Z"
   },
   {
    "duration": 57,
    "start_time": "2022-06-01T12:16:51.024Z"
   },
   {
    "duration": 30,
    "start_time": "2022-06-01T12:16:51.089Z"
   },
   {
    "duration": 81,
    "start_time": "2022-06-01T12:16:51.122Z"
   },
   {
    "duration": 7,
    "start_time": "2022-06-01T12:16:51.206Z"
   },
   {
    "duration": 74,
    "start_time": "2022-06-01T12:16:51.215Z"
   },
   {
    "duration": 10,
    "start_time": "2022-06-01T12:16:51.293Z"
   },
   {
    "duration": 64,
    "start_time": "2022-06-01T12:16:51.305Z"
   },
   {
    "duration": 1800,
    "start_time": "2022-06-01T12:16:51.372Z"
   },
   {
    "duration": 24,
    "start_time": "2022-06-01T12:16:53.176Z"
   },
   {
    "duration": 66,
    "start_time": "2022-06-01T12:16:53.203Z"
   },
   {
    "duration": 28,
    "start_time": "2022-06-01T12:16:53.271Z"
   },
   {
    "duration": 23,
    "start_time": "2022-06-01T12:16:53.301Z"
   },
   {
    "duration": 59,
    "start_time": "2022-06-01T12:16:53.326Z"
   },
   {
    "duration": 497,
    "start_time": "2022-06-01T12:16:53.390Z"
   },
   {
    "duration": 18,
    "start_time": "2022-06-01T12:16:53.890Z"
   },
   {
    "duration": 22,
    "start_time": "2022-06-01T12:16:53.910Z"
   },
   {
    "duration": 74,
    "start_time": "2022-06-01T12:16:53.936Z"
   },
   {
    "duration": 261,
    "start_time": "2022-06-01T12:16:54.015Z"
   },
   {
    "duration": 187,
    "start_time": "2022-06-01T12:16:54.283Z"
   },
   {
    "duration": 10,
    "start_time": "2022-06-01T12:16:56.854Z"
   },
   {
    "duration": 5,
    "start_time": "2022-06-01T12:18:02.201Z"
   },
   {
    "duration": 148,
    "start_time": "2022-06-01T12:18:02.208Z"
   },
   {
    "duration": 20,
    "start_time": "2022-06-01T12:18:02.359Z"
   },
   {
    "duration": 35,
    "start_time": "2022-06-01T12:18:02.381Z"
   },
   {
    "duration": 59,
    "start_time": "2022-06-01T12:18:02.419Z"
   },
   {
    "duration": 15,
    "start_time": "2022-06-01T12:18:02.480Z"
   },
   {
    "duration": 37,
    "start_time": "2022-06-01T12:18:02.498Z"
   },
   {
    "duration": 34,
    "start_time": "2022-06-01T12:18:02.537Z"
   },
   {
    "duration": 23,
    "start_time": "2022-06-01T12:18:02.575Z"
   },
   {
    "duration": 9,
    "start_time": "2022-06-01T12:18:02.601Z"
   },
   {
    "duration": 43,
    "start_time": "2022-06-01T12:18:02.613Z"
   },
   {
    "duration": 23,
    "start_time": "2022-06-01T12:18:02.658Z"
   },
   {
    "duration": 34,
    "start_time": "2022-06-01T12:18:02.683Z"
   },
   {
    "duration": 40,
    "start_time": "2022-06-01T12:18:02.719Z"
   },
   {
    "duration": 36,
    "start_time": "2022-06-01T12:18:02.760Z"
   },
   {
    "duration": 19,
    "start_time": "2022-06-01T12:18:02.799Z"
   },
   {
    "duration": 83,
    "start_time": "2022-06-01T12:18:02.820Z"
   },
   {
    "duration": 1477,
    "start_time": "2022-06-01T12:18:02.906Z"
   },
   {
    "duration": 26,
    "start_time": "2022-06-01T12:18:04.386Z"
   },
   {
    "duration": 37,
    "start_time": "2022-06-01T12:18:04.414Z"
   },
   {
    "duration": 49,
    "start_time": "2022-06-01T12:18:04.453Z"
   },
   {
    "duration": 22,
    "start_time": "2022-06-01T12:18:04.505Z"
   },
   {
    "duration": 58,
    "start_time": "2022-06-01T12:18:04.529Z"
   },
   {
    "duration": 469,
    "start_time": "2022-06-01T12:18:04.591Z"
   },
   {
    "duration": 22,
    "start_time": "2022-06-01T12:18:05.066Z"
   },
   {
    "duration": 14,
    "start_time": "2022-06-01T12:18:05.094Z"
   },
   {
    "duration": 13,
    "start_time": "2022-06-01T12:18:05.109Z"
   },
   {
    "duration": 260,
    "start_time": "2022-06-01T12:18:05.123Z"
   },
   {
    "duration": 5,
    "start_time": "2022-06-01T12:18:05.385Z"
   },
   {
    "duration": 4,
    "start_time": "2022-06-01T12:23:57.243Z"
   },
   {
    "duration": 54,
    "start_time": "2022-06-01T12:23:57.249Z"
   },
   {
    "duration": 15,
    "start_time": "2022-06-01T12:23:57.305Z"
   },
   {
    "duration": 37,
    "start_time": "2022-06-01T12:23:57.321Z"
   },
   {
    "duration": 9,
    "start_time": "2022-06-01T12:23:57.360Z"
   },
   {
    "duration": 4,
    "start_time": "2022-06-01T12:23:57.370Z"
   },
   {
    "duration": 25,
    "start_time": "2022-06-01T12:23:57.375Z"
   },
   {
    "duration": 8,
    "start_time": "2022-06-01T12:23:57.401Z"
   },
   {
    "duration": 32,
    "start_time": "2022-06-01T12:23:57.411Z"
   },
   {
    "duration": 5,
    "start_time": "2022-06-01T12:23:57.446Z"
   },
   {
    "duration": 9,
    "start_time": "2022-06-01T12:23:57.454Z"
   },
   {
    "duration": 10,
    "start_time": "2022-06-01T12:23:57.465Z"
   },
   {
    "duration": 17,
    "start_time": "2022-06-01T12:23:57.477Z"
   },
   {
    "duration": 8,
    "start_time": "2022-06-01T12:23:57.496Z"
   },
   {
    "duration": 32,
    "start_time": "2022-06-01T12:23:57.505Z"
   },
   {
    "duration": 12,
    "start_time": "2022-06-01T12:23:57.540Z"
   },
   {
    "duration": 8,
    "start_time": "2022-06-01T12:23:57.553Z"
   },
   {
    "duration": 1199,
    "start_time": "2022-06-01T12:23:57.563Z"
   },
   {
    "duration": 16,
    "start_time": "2022-06-01T12:23:58.764Z"
   },
   {
    "duration": 22,
    "start_time": "2022-06-01T12:23:58.782Z"
   },
   {
    "duration": 40,
    "start_time": "2022-06-01T12:23:58.806Z"
   },
   {
    "duration": 3,
    "start_time": "2022-06-01T12:23:58.847Z"
   },
   {
    "duration": 8,
    "start_time": "2022-06-01T12:23:58.852Z"
   },
   {
    "duration": 302,
    "start_time": "2022-06-01T12:23:58.862Z"
   },
   {
    "duration": 12,
    "start_time": "2022-06-01T12:23:59.166Z"
   },
   {
    "duration": 14,
    "start_time": "2022-06-01T12:23:59.180Z"
   },
   {
    "duration": 62,
    "start_time": "2022-06-01T12:23:59.196Z"
   },
   {
    "duration": 0,
    "start_time": "2022-06-01T12:23:59.260Z"
   },
   {
    "duration": 0,
    "start_time": "2022-06-01T12:23:59.262Z"
   },
   {
    "duration": 4,
    "start_time": "2022-06-01T12:24:44.696Z"
   },
   {
    "duration": 82,
    "start_time": "2022-06-01T12:24:44.702Z"
   },
   {
    "duration": 15,
    "start_time": "2022-06-01T12:24:44.786Z"
   },
   {
    "duration": 31,
    "start_time": "2022-06-01T12:24:44.803Z"
   },
   {
    "duration": 15,
    "start_time": "2022-06-01T12:24:44.841Z"
   },
   {
    "duration": 8,
    "start_time": "2022-06-01T12:24:44.857Z"
   },
   {
    "duration": 24,
    "start_time": "2022-06-01T12:24:44.866Z"
   },
   {
    "duration": 9,
    "start_time": "2022-06-01T12:24:44.892Z"
   },
   {
    "duration": 24,
    "start_time": "2022-06-01T12:24:44.903Z"
   },
   {
    "duration": 7,
    "start_time": "2022-06-01T12:24:44.929Z"
   },
   {
    "duration": 19,
    "start_time": "2022-06-01T12:24:44.937Z"
   },
   {
    "duration": 14,
    "start_time": "2022-06-01T12:24:44.959Z"
   },
   {
    "duration": 21,
    "start_time": "2022-06-01T12:24:44.976Z"
   },
   {
    "duration": 34,
    "start_time": "2022-06-01T12:24:44.999Z"
   },
   {
    "duration": 19,
    "start_time": "2022-06-01T12:24:45.036Z"
   },
   {
    "duration": 21,
    "start_time": "2022-06-01T12:24:45.058Z"
   },
   {
    "duration": 24,
    "start_time": "2022-06-01T12:24:45.080Z"
   },
   {
    "duration": 1285,
    "start_time": "2022-06-01T12:24:45.105Z"
   },
   {
    "duration": 16,
    "start_time": "2022-06-01T12:24:46.393Z"
   },
   {
    "duration": 33,
    "start_time": "2022-06-01T12:24:46.411Z"
   },
   {
    "duration": 17,
    "start_time": "2022-06-01T12:24:46.445Z"
   },
   {
    "duration": 2,
    "start_time": "2022-06-01T12:24:46.464Z"
   },
   {
    "duration": 25,
    "start_time": "2022-06-01T12:24:46.467Z"
   },
   {
    "duration": 287,
    "start_time": "2022-06-01T12:24:46.496Z"
   },
   {
    "duration": 15,
    "start_time": "2022-06-01T12:24:46.785Z"
   },
   {
    "duration": 9,
    "start_time": "2022-06-01T12:24:46.802Z"
   },
   {
    "duration": 22,
    "start_time": "2022-06-01T12:24:46.814Z"
   },
   {
    "duration": 197,
    "start_time": "2022-06-01T12:24:46.841Z"
   },
   {
    "duration": 5,
    "start_time": "2022-06-01T12:24:47.041Z"
   },
   {
    "duration": 7,
    "start_time": "2022-06-01T12:26:16.523Z"
   },
   {
    "duration": 82,
    "start_time": "2022-06-01T12:26:16.532Z"
   },
   {
    "duration": 25,
    "start_time": "2022-06-01T12:26:16.616Z"
   },
   {
    "duration": 22,
    "start_time": "2022-06-01T12:26:16.643Z"
   },
   {
    "duration": 14,
    "start_time": "2022-06-01T12:26:16.668Z"
   },
   {
    "duration": 17,
    "start_time": "2022-06-01T12:26:16.684Z"
   },
   {
    "duration": 37,
    "start_time": "2022-06-01T12:26:16.702Z"
   },
   {
    "duration": 23,
    "start_time": "2022-06-01T12:26:16.741Z"
   },
   {
    "duration": 39,
    "start_time": "2022-06-01T12:26:16.766Z"
   },
   {
    "duration": 15,
    "start_time": "2022-06-01T12:26:16.807Z"
   },
   {
    "duration": 30,
    "start_time": "2022-06-01T12:26:16.825Z"
   },
   {
    "duration": 26,
    "start_time": "2022-06-01T12:26:16.857Z"
   },
   {
    "duration": 35,
    "start_time": "2022-06-01T12:26:16.885Z"
   },
   {
    "duration": 26,
    "start_time": "2022-06-01T12:26:16.922Z"
   },
   {
    "duration": 28,
    "start_time": "2022-06-01T12:26:16.950Z"
   },
   {
    "duration": 15,
    "start_time": "2022-06-01T12:26:16.980Z"
   },
   {
    "duration": 6,
    "start_time": "2022-06-01T12:26:16.998Z"
   },
   {
    "duration": 1304,
    "start_time": "2022-06-01T12:26:17.006Z"
   },
   {
    "duration": 36,
    "start_time": "2022-06-01T12:26:18.312Z"
   },
   {
    "duration": 24,
    "start_time": "2022-06-01T12:26:18.353Z"
   },
   {
    "duration": 16,
    "start_time": "2022-06-01T12:26:18.379Z"
   },
   {
    "duration": 5,
    "start_time": "2022-06-01T12:26:18.397Z"
   },
   {
    "duration": 7,
    "start_time": "2022-06-01T12:26:18.403Z"
   },
   {
    "duration": 276,
    "start_time": "2022-06-01T12:26:18.432Z"
   },
   {
    "duration": 12,
    "start_time": "2022-06-01T12:26:18.710Z"
   },
   {
    "duration": 19,
    "start_time": "2022-06-01T12:26:18.726Z"
   },
   {
    "duration": 9,
    "start_time": "2022-06-01T12:26:18.747Z"
   },
   {
    "duration": 201,
    "start_time": "2022-06-01T12:26:18.757Z"
   },
   {
    "duration": 5,
    "start_time": "2022-06-01T12:26:18.961Z"
   },
   {
    "duration": 4,
    "start_time": "2022-06-01T12:28:43.200Z"
   },
   {
    "duration": 69,
    "start_time": "2022-06-01T12:28:43.207Z"
   },
   {
    "duration": 15,
    "start_time": "2022-06-01T12:28:43.278Z"
   },
   {
    "duration": 17,
    "start_time": "2022-06-01T12:28:43.296Z"
   },
   {
    "duration": 38,
    "start_time": "2022-06-01T12:28:43.315Z"
   },
   {
    "duration": 12,
    "start_time": "2022-06-01T12:28:43.354Z"
   },
   {
    "duration": 26,
    "start_time": "2022-06-01T12:28:43.367Z"
   },
   {
    "duration": 25,
    "start_time": "2022-06-01T12:28:43.395Z"
   },
   {
    "duration": 50,
    "start_time": "2022-06-01T12:28:43.423Z"
   },
   {
    "duration": 4,
    "start_time": "2022-06-01T12:28:43.476Z"
   },
   {
    "duration": 12,
    "start_time": "2022-06-01T12:28:43.482Z"
   },
   {
    "duration": 14,
    "start_time": "2022-06-01T12:28:43.497Z"
   },
   {
    "duration": 34,
    "start_time": "2022-06-01T12:28:43.513Z"
   },
   {
    "duration": 9,
    "start_time": "2022-06-01T12:28:43.549Z"
   },
   {
    "duration": 17,
    "start_time": "2022-06-01T12:28:43.560Z"
   },
   {
    "duration": 4,
    "start_time": "2022-06-01T12:28:43.580Z"
   },
   {
    "duration": 8,
    "start_time": "2022-06-01T12:28:43.586Z"
   },
   {
    "duration": 1523,
    "start_time": "2022-06-01T12:28:43.596Z"
   },
   {
    "duration": 30,
    "start_time": "2022-06-01T12:28:45.122Z"
   },
   {
    "duration": 28,
    "start_time": "2022-06-01T12:28:45.154Z"
   },
   {
    "duration": 19,
    "start_time": "2022-06-01T12:28:45.184Z"
   },
   {
    "duration": 23,
    "start_time": "2022-06-01T12:28:45.206Z"
   },
   {
    "duration": 41,
    "start_time": "2022-06-01T12:28:45.232Z"
   },
   {
    "duration": 365,
    "start_time": "2022-06-01T12:28:45.277Z"
   },
   {
    "duration": 18,
    "start_time": "2022-06-01T12:28:45.645Z"
   },
   {
    "duration": 14,
    "start_time": "2022-06-01T12:28:45.665Z"
   },
   {
    "duration": 8,
    "start_time": "2022-06-01T12:28:45.681Z"
   },
   {
    "duration": 227,
    "start_time": "2022-06-01T12:28:45.692Z"
   },
   {
    "duration": 15,
    "start_time": "2022-06-01T12:28:45.921Z"
   },
   {
    "duration": 5,
    "start_time": "2022-06-01T12:29:06.646Z"
   },
   {
    "duration": 83,
    "start_time": "2022-06-01T12:29:06.654Z"
   },
   {
    "duration": 16,
    "start_time": "2022-06-01T12:29:06.744Z"
   },
   {
    "duration": 26,
    "start_time": "2022-06-01T12:29:06.761Z"
   },
   {
    "duration": 12,
    "start_time": "2022-06-01T12:29:06.791Z"
   },
   {
    "duration": 5,
    "start_time": "2022-06-01T12:29:06.805Z"
   },
   {
    "duration": 18,
    "start_time": "2022-06-01T12:29:06.833Z"
   },
   {
    "duration": 19,
    "start_time": "2022-06-01T12:29:06.853Z"
   },
   {
    "duration": 23,
    "start_time": "2022-06-01T12:29:06.874Z"
   },
   {
    "duration": 5,
    "start_time": "2022-06-01T12:29:06.899Z"
   },
   {
    "duration": 6,
    "start_time": "2022-06-01T12:29:06.905Z"
   },
   {
    "duration": 19,
    "start_time": "2022-06-01T12:29:06.913Z"
   },
   {
    "duration": 43,
    "start_time": "2022-06-01T12:29:06.935Z"
   },
   {
    "duration": 13,
    "start_time": "2022-06-01T12:29:06.981Z"
   },
   {
    "duration": 28,
    "start_time": "2022-06-01T12:29:06.996Z"
   },
   {
    "duration": 28,
    "start_time": "2022-06-01T12:29:07.026Z"
   },
   {
    "duration": 11,
    "start_time": "2022-06-01T12:29:07.056Z"
   },
   {
    "duration": 1322,
    "start_time": "2022-06-01T12:29:07.070Z"
   },
   {
    "duration": 17,
    "start_time": "2022-06-01T12:29:08.395Z"
   },
   {
    "duration": 35,
    "start_time": "2022-06-01T12:29:08.413Z"
   },
   {
    "duration": 27,
    "start_time": "2022-06-01T12:29:08.449Z"
   },
   {
    "duration": 3,
    "start_time": "2022-06-01T12:29:08.478Z"
   },
   {
    "duration": 10,
    "start_time": "2022-06-01T12:29:08.483Z"
   },
   {
    "duration": 323,
    "start_time": "2022-06-01T12:29:08.495Z"
   },
   {
    "duration": 23,
    "start_time": "2022-06-01T12:29:08.821Z"
   },
   {
    "duration": 27,
    "start_time": "2022-06-01T12:29:08.846Z"
   },
   {
    "duration": 13,
    "start_time": "2022-06-01T12:29:08.874Z"
   },
   {
    "duration": 210,
    "start_time": "2022-06-01T12:29:08.889Z"
   },
   {
    "duration": 5,
    "start_time": "2022-06-01T12:29:09.101Z"
   },
   {
    "duration": 4,
    "start_time": "2022-06-01T12:29:31.397Z"
   },
   {
    "duration": 91,
    "start_time": "2022-06-01T12:29:31.403Z"
   },
   {
    "duration": 15,
    "start_time": "2022-06-01T12:29:31.496Z"
   },
   {
    "duration": 34,
    "start_time": "2022-06-01T12:29:31.514Z"
   },
   {
    "duration": 23,
    "start_time": "2022-06-01T12:29:31.549Z"
   },
   {
    "duration": 11,
    "start_time": "2022-06-01T12:29:31.574Z"
   },
   {
    "duration": 34,
    "start_time": "2022-06-01T12:29:31.586Z"
   },
   {
    "duration": 33,
    "start_time": "2022-06-01T12:29:31.622Z"
   },
   {
    "duration": 23,
    "start_time": "2022-06-01T12:29:31.657Z"
   },
   {
    "duration": 6,
    "start_time": "2022-06-01T12:29:31.682Z"
   },
   {
    "duration": 7,
    "start_time": "2022-06-01T12:29:31.690Z"
   },
   {
    "duration": 12,
    "start_time": "2022-06-01T12:29:31.699Z"
   },
   {
    "duration": 38,
    "start_time": "2022-06-01T12:29:31.712Z"
   },
   {
    "duration": 17,
    "start_time": "2022-06-01T12:29:31.752Z"
   },
   {
    "duration": 28,
    "start_time": "2022-06-01T12:29:31.771Z"
   },
   {
    "duration": 5,
    "start_time": "2022-06-01T12:29:31.801Z"
   },
   {
    "duration": 8,
    "start_time": "2022-06-01T12:29:31.808Z"
   },
   {
    "duration": 1292,
    "start_time": "2022-06-01T12:29:31.819Z"
   },
   {
    "duration": 29,
    "start_time": "2022-06-01T12:29:33.113Z"
   },
   {
    "duration": 30,
    "start_time": "2022-06-01T12:29:33.145Z"
   },
   {
    "duration": 22,
    "start_time": "2022-06-01T12:29:33.177Z"
   },
   {
    "duration": 5,
    "start_time": "2022-06-01T12:29:33.200Z"
   },
   {
    "duration": 25,
    "start_time": "2022-06-01T12:29:33.207Z"
   },
   {
    "duration": 396,
    "start_time": "2022-06-01T12:29:33.239Z"
   },
   {
    "duration": 18,
    "start_time": "2022-06-01T12:29:33.645Z"
   },
   {
    "duration": 7,
    "start_time": "2022-06-01T12:29:33.665Z"
   },
   {
    "duration": 7,
    "start_time": "2022-06-01T12:29:33.674Z"
   },
   {
    "duration": 246,
    "start_time": "2022-06-01T12:29:33.683Z"
   },
   {
    "duration": 11,
    "start_time": "2022-06-01T12:29:33.932Z"
   },
   {
    "duration": 5,
    "start_time": "2022-06-01T12:29:39.286Z"
   },
   {
    "duration": 83,
    "start_time": "2022-06-01T12:29:39.294Z"
   },
   {
    "duration": 15,
    "start_time": "2022-06-01T12:29:39.378Z"
   },
   {
    "duration": 26,
    "start_time": "2022-06-01T12:29:39.395Z"
   },
   {
    "duration": 21,
    "start_time": "2022-06-01T12:29:39.424Z"
   },
   {
    "duration": 6,
    "start_time": "2022-06-01T12:29:39.447Z"
   },
   {
    "duration": 17,
    "start_time": "2022-06-01T12:29:39.454Z"
   },
   {
    "duration": 7,
    "start_time": "2022-06-01T12:29:39.473Z"
   },
   {
    "duration": 18,
    "start_time": "2022-06-01T12:29:39.482Z"
   },
   {
    "duration": 14,
    "start_time": "2022-06-01T12:29:39.502Z"
   },
   {
    "duration": 24,
    "start_time": "2022-06-01T12:29:39.526Z"
   },
   {
    "duration": 10,
    "start_time": "2022-06-01T12:29:39.552Z"
   },
   {
    "duration": 23,
    "start_time": "2022-06-01T12:29:39.564Z"
   },
   {
    "duration": 12,
    "start_time": "2022-06-01T12:29:39.590Z"
   },
   {
    "duration": 12,
    "start_time": "2022-06-01T12:29:39.604Z"
   },
   {
    "duration": 5,
    "start_time": "2022-06-01T12:29:39.618Z"
   },
   {
    "duration": 24,
    "start_time": "2022-06-01T12:29:39.625Z"
   },
   {
    "duration": 1220,
    "start_time": "2022-06-01T12:29:39.651Z"
   },
   {
    "duration": 18,
    "start_time": "2022-06-01T12:29:40.873Z"
   },
   {
    "duration": 20,
    "start_time": "2022-06-01T12:29:40.892Z"
   },
   {
    "duration": 21,
    "start_time": "2022-06-01T12:29:40.929Z"
   },
   {
    "duration": 13,
    "start_time": "2022-06-01T12:29:40.955Z"
   },
   {
    "duration": 7,
    "start_time": "2022-06-01T12:29:40.970Z"
   },
   {
    "duration": 355,
    "start_time": "2022-06-01T12:29:40.980Z"
   },
   {
    "duration": 16,
    "start_time": "2022-06-01T12:29:41.343Z"
   },
   {
    "duration": 8,
    "start_time": "2022-06-01T12:29:41.361Z"
   },
   {
    "duration": 8,
    "start_time": "2022-06-01T12:29:41.371Z"
   },
   {
    "duration": 248,
    "start_time": "2022-06-01T12:29:41.383Z"
   },
   {
    "duration": 13,
    "start_time": "2022-06-01T12:29:41.640Z"
   },
   {
    "duration": 4,
    "start_time": "2022-06-01T12:30:30.951Z"
   },
   {
    "duration": 108,
    "start_time": "2022-06-01T12:30:30.958Z"
   },
   {
    "duration": 16,
    "start_time": "2022-06-01T12:30:31.070Z"
   },
   {
    "duration": 77,
    "start_time": "2022-06-01T12:30:31.089Z"
   },
   {
    "duration": 29,
    "start_time": "2022-06-01T12:30:31.170Z"
   },
   {
    "duration": 44,
    "start_time": "2022-06-01T12:30:31.201Z"
   },
   {
    "duration": 51,
    "start_time": "2022-06-01T12:30:31.246Z"
   },
   {
    "duration": 35,
    "start_time": "2022-06-01T12:30:31.299Z"
   },
   {
    "duration": 41,
    "start_time": "2022-06-01T12:30:31.337Z"
   },
   {
    "duration": 14,
    "start_time": "2022-06-01T12:30:31.380Z"
   },
   {
    "duration": 20,
    "start_time": "2022-06-01T12:30:31.396Z"
   },
   {
    "duration": 36,
    "start_time": "2022-06-01T12:30:31.417Z"
   },
   {
    "duration": 33,
    "start_time": "2022-06-01T12:30:31.456Z"
   },
   {
    "duration": 15,
    "start_time": "2022-06-01T12:30:31.490Z"
   },
   {
    "duration": 23,
    "start_time": "2022-06-01T12:30:31.506Z"
   },
   {
    "duration": 30,
    "start_time": "2022-06-01T12:30:31.532Z"
   },
   {
    "duration": 7,
    "start_time": "2022-06-01T12:30:31.564Z"
   },
   {
    "duration": 1208,
    "start_time": "2022-06-01T12:30:31.573Z"
   },
   {
    "duration": 19,
    "start_time": "2022-06-01T12:30:32.783Z"
   },
   {
    "duration": 44,
    "start_time": "2022-06-01T12:30:32.804Z"
   },
   {
    "duration": 38,
    "start_time": "2022-06-01T12:30:32.850Z"
   },
   {
    "duration": 20,
    "start_time": "2022-06-01T12:30:32.890Z"
   },
   {
    "duration": 14,
    "start_time": "2022-06-01T12:30:32.913Z"
   },
   {
    "duration": 307,
    "start_time": "2022-06-01T12:30:32.936Z"
   },
   {
    "duration": 14,
    "start_time": "2022-06-01T12:30:33.245Z"
   },
   {
    "duration": 19,
    "start_time": "2022-06-01T12:30:33.261Z"
   },
   {
    "duration": 24,
    "start_time": "2022-06-01T12:30:33.282Z"
   },
   {
    "duration": 4,
    "start_time": "2022-06-01T12:30:33.308Z"
   },
   {
    "duration": 311,
    "start_time": "2022-06-01T12:30:33.314Z"
   },
   {
    "duration": 5,
    "start_time": "2022-06-01T12:30:33.641Z"
   },
   {
    "duration": 5,
    "start_time": "2022-06-01T12:31:24.520Z"
   },
   {
    "duration": 4,
    "start_time": "2022-06-01T12:32:35.716Z"
   },
   {
    "duration": 101,
    "start_time": "2022-06-01T12:32:35.723Z"
   },
   {
    "duration": 25,
    "start_time": "2022-06-01T12:32:35.826Z"
   },
   {
    "duration": 39,
    "start_time": "2022-06-01T12:32:35.853Z"
   },
   {
    "duration": 28,
    "start_time": "2022-06-01T12:32:35.894Z"
   },
   {
    "duration": 37,
    "start_time": "2022-06-01T12:32:35.924Z"
   },
   {
    "duration": 38,
    "start_time": "2022-06-01T12:32:35.963Z"
   },
   {
    "duration": 26,
    "start_time": "2022-06-01T12:32:36.003Z"
   },
   {
    "duration": 38,
    "start_time": "2022-06-01T12:32:36.031Z"
   },
   {
    "duration": 23,
    "start_time": "2022-06-01T12:32:36.072Z"
   },
   {
    "duration": 18,
    "start_time": "2022-06-01T12:32:36.099Z"
   },
   {
    "duration": 47,
    "start_time": "2022-06-01T12:32:36.119Z"
   },
   {
    "duration": 27,
    "start_time": "2022-06-01T12:32:36.167Z"
   },
   {
    "duration": 26,
    "start_time": "2022-06-01T12:32:36.195Z"
   },
   {
    "duration": 34,
    "start_time": "2022-06-01T12:32:36.223Z"
   },
   {
    "duration": 9,
    "start_time": "2022-06-01T12:32:36.259Z"
   },
   {
    "duration": 21,
    "start_time": "2022-06-01T12:32:36.270Z"
   },
   {
    "duration": 1200,
    "start_time": "2022-06-01T12:32:36.293Z"
   },
   {
    "duration": 17,
    "start_time": "2022-06-01T12:32:37.495Z"
   },
   {
    "duration": 30,
    "start_time": "2022-06-01T12:32:37.514Z"
   },
   {
    "duration": 22,
    "start_time": "2022-06-01T12:32:37.546Z"
   },
   {
    "duration": 13,
    "start_time": "2022-06-01T12:32:37.569Z"
   },
   {
    "duration": 6,
    "start_time": "2022-06-01T12:32:37.584Z"
   },
   {
    "duration": 412,
    "start_time": "2022-06-01T12:32:37.591Z"
   },
   {
    "duration": 13,
    "start_time": "2022-06-01T12:32:38.005Z"
   },
   {
    "duration": 8,
    "start_time": "2022-06-01T12:32:38.026Z"
   },
   {
    "duration": 33,
    "start_time": "2022-06-01T12:32:38.039Z"
   },
   {
    "duration": 3,
    "start_time": "2022-06-01T12:32:38.074Z"
   },
   {
    "duration": 232,
    "start_time": "2022-06-01T12:32:38.080Z"
   },
   {
    "duration": 14,
    "start_time": "2022-06-01T12:32:38.314Z"
   },
   {
    "duration": 10,
    "start_time": "2022-06-01T12:32:48.192Z"
   },
   {
    "duration": 11,
    "start_time": "2022-06-01T12:32:55.244Z"
   },
   {
    "duration": 31,
    "start_time": "2022-06-01T12:33:02.443Z"
   },
   {
    "duration": 3,
    "start_time": "2022-06-01T12:36:49.979Z"
   },
   {
    "duration": 87,
    "start_time": "2022-06-01T12:36:49.984Z"
   },
   {
    "duration": 18,
    "start_time": "2022-06-01T12:36:50.075Z"
   },
   {
    "duration": 41,
    "start_time": "2022-06-01T12:36:50.096Z"
   },
   {
    "duration": 38,
    "start_time": "2022-06-01T12:36:50.140Z"
   },
   {
    "duration": 9,
    "start_time": "2022-06-01T12:36:50.180Z"
   },
   {
    "duration": 23,
    "start_time": "2022-06-01T12:36:50.191Z"
   },
   {
    "duration": 62,
    "start_time": "2022-06-01T12:36:50.216Z"
   },
   {
    "duration": 21,
    "start_time": "2022-06-01T12:36:50.280Z"
   },
   {
    "duration": 11,
    "start_time": "2022-06-01T12:36:50.303Z"
   },
   {
    "duration": 8,
    "start_time": "2022-06-01T12:36:50.318Z"
   },
   {
    "duration": 49,
    "start_time": "2022-06-01T12:36:50.328Z"
   },
   {
    "duration": 17,
    "start_time": "2022-06-01T12:36:50.379Z"
   },
   {
    "duration": 26,
    "start_time": "2022-06-01T12:36:50.398Z"
   },
   {
    "duration": 59,
    "start_time": "2022-06-01T12:36:50.427Z"
   },
   {
    "duration": 15,
    "start_time": "2022-06-01T12:36:50.487Z"
   },
   {
    "duration": 12,
    "start_time": "2022-06-01T12:36:50.504Z"
   },
   {
    "duration": 1401,
    "start_time": "2022-06-01T12:36:50.518Z"
   },
   {
    "duration": 39,
    "start_time": "2022-06-01T12:36:51.922Z"
   },
   {
    "duration": 27,
    "start_time": "2022-06-01T12:36:51.963Z"
   },
   {
    "duration": 18,
    "start_time": "2022-06-01T12:36:51.992Z"
   },
   {
    "duration": 31,
    "start_time": "2022-06-01T12:36:52.012Z"
   },
   {
    "duration": 22,
    "start_time": "2022-06-01T12:36:52.046Z"
   },
   {
    "duration": 462,
    "start_time": "2022-06-01T12:36:52.070Z"
   },
   {
    "duration": 25,
    "start_time": "2022-06-01T12:36:52.541Z"
   },
   {
    "duration": 26,
    "start_time": "2022-06-01T12:36:52.570Z"
   },
   {
    "duration": 54,
    "start_time": "2022-06-01T12:36:52.599Z"
   },
   {
    "duration": 11,
    "start_time": "2022-06-01T12:36:52.659Z"
   },
   {
    "duration": 369,
    "start_time": "2022-06-01T12:36:52.674Z"
   },
   {
    "duration": 18,
    "start_time": "2022-06-01T12:36:53.045Z"
   },
   {
    "duration": 57,
    "start_time": "2022-06-01T12:36:53.068Z"
   },
   {
    "duration": 10,
    "start_time": "2022-06-01T12:37:02.351Z"
   },
   {
    "duration": 106,
    "start_time": "2022-06-01T12:37:02.366Z"
   },
   {
    "duration": 21,
    "start_time": "2022-06-01T12:37:02.474Z"
   },
   {
    "duration": 32,
    "start_time": "2022-06-01T12:37:02.497Z"
   },
   {
    "duration": 38,
    "start_time": "2022-06-01T12:37:02.532Z"
   },
   {
    "duration": 28,
    "start_time": "2022-06-01T12:37:02.572Z"
   },
   {
    "duration": 37,
    "start_time": "2022-06-01T12:37:02.603Z"
   },
   {
    "duration": 48,
    "start_time": "2022-06-01T12:37:02.644Z"
   },
   {
    "duration": 29,
    "start_time": "2022-06-01T12:37:02.694Z"
   },
   {
    "duration": 11,
    "start_time": "2022-06-01T12:37:02.725Z"
   },
   {
    "duration": 45,
    "start_time": "2022-06-01T12:37:02.738Z"
   },
   {
    "duration": 23,
    "start_time": "2022-06-01T12:37:02.785Z"
   },
   {
    "duration": 31,
    "start_time": "2022-06-01T12:37:02.812Z"
   },
   {
    "duration": 51,
    "start_time": "2022-06-01T12:37:02.845Z"
   },
   {
    "duration": 21,
    "start_time": "2022-06-01T12:37:02.899Z"
   },
   {
    "duration": 50,
    "start_time": "2022-06-01T12:37:02.922Z"
   },
   {
    "duration": 9,
    "start_time": "2022-06-01T12:37:02.974Z"
   },
   {
    "duration": 1429,
    "start_time": "2022-06-01T12:37:02.986Z"
   },
   {
    "duration": 22,
    "start_time": "2022-06-01T12:37:04.418Z"
   },
   {
    "duration": 51,
    "start_time": "2022-06-01T12:37:04.443Z"
   },
   {
    "duration": 22,
    "start_time": "2022-06-01T12:37:04.496Z"
   },
   {
    "duration": 5,
    "start_time": "2022-06-01T12:37:04.520Z"
   },
   {
    "duration": 31,
    "start_time": "2022-06-01T12:37:04.527Z"
   },
   {
    "duration": 18,
    "start_time": "2022-06-01T12:37:04.560Z"
   },
   {
    "duration": 353,
    "start_time": "2022-06-01T12:37:04.580Z"
   },
   {
    "duration": 21,
    "start_time": "2022-06-01T12:37:04.935Z"
   },
   {
    "duration": 9,
    "start_time": "2022-06-01T12:37:04.960Z"
   },
   {
    "duration": 22,
    "start_time": "2022-06-01T12:37:04.971Z"
   },
   {
    "duration": 4,
    "start_time": "2022-06-01T12:37:04.995Z"
   },
   {
    "duration": 320,
    "start_time": "2022-06-01T12:37:05.000Z"
   },
   {
    "duration": 7,
    "start_time": "2022-06-01T12:37:05.322Z"
   },
   {
    "duration": 51,
    "start_time": "2022-06-01T12:37:05.331Z"
   },
   {
    "duration": 5,
    "start_time": "2022-06-01T12:37:42.738Z"
   },
   {
    "duration": 94,
    "start_time": "2022-06-01T12:37:42.745Z"
   },
   {
    "duration": 18,
    "start_time": "2022-06-01T12:37:42.841Z"
   },
   {
    "duration": 22,
    "start_time": "2022-06-01T12:37:42.863Z"
   },
   {
    "duration": 12,
    "start_time": "2022-06-01T12:37:42.888Z"
   },
   {
    "duration": 9,
    "start_time": "2022-06-01T12:37:42.902Z"
   },
   {
    "duration": 25,
    "start_time": "2022-06-01T12:37:42.929Z"
   },
   {
    "duration": 11,
    "start_time": "2022-06-01T12:37:42.961Z"
   },
   {
    "duration": 19,
    "start_time": "2022-06-01T12:37:42.973Z"
   },
   {
    "duration": 6,
    "start_time": "2022-06-01T12:37:42.994Z"
   },
   {
    "duration": 7,
    "start_time": "2022-06-01T12:37:43.002Z"
   },
   {
    "duration": 54,
    "start_time": "2022-06-01T12:37:43.011Z"
   },
   {
    "duration": 18,
    "start_time": "2022-06-01T12:37:43.067Z"
   },
   {
    "duration": 12,
    "start_time": "2022-06-01T12:37:43.087Z"
   },
   {
    "duration": 21,
    "start_time": "2022-06-01T12:37:43.101Z"
   },
   {
    "duration": 32,
    "start_time": "2022-06-01T12:37:43.124Z"
   },
   {
    "duration": 3,
    "start_time": "2022-06-01T12:37:43.158Z"
   },
   {
    "duration": 1260,
    "start_time": "2022-06-01T12:37:43.163Z"
   },
   {
    "duration": 25,
    "start_time": "2022-06-01T12:37:44.425Z"
   },
   {
    "duration": 40,
    "start_time": "2022-06-01T12:37:44.452Z"
   },
   {
    "duration": 21,
    "start_time": "2022-06-01T12:37:44.494Z"
   },
   {
    "duration": 28,
    "start_time": "2022-06-01T12:37:44.517Z"
   },
   {
    "duration": 17,
    "start_time": "2022-06-01T12:37:44.557Z"
   },
   {
    "duration": 8,
    "start_time": "2022-06-01T12:37:44.576Z"
   },
   {
    "duration": 350,
    "start_time": "2022-06-01T12:37:44.586Z"
   },
   {
    "duration": 14,
    "start_time": "2022-06-01T12:37:44.944Z"
   },
   {
    "duration": 12,
    "start_time": "2022-06-01T12:37:44.961Z"
   },
   {
    "duration": 19,
    "start_time": "2022-06-01T12:37:44.974Z"
   },
   {
    "duration": 3,
    "start_time": "2022-06-01T12:37:44.996Z"
   },
   {
    "duration": 363,
    "start_time": "2022-06-01T12:37:45.001Z"
   },
   {
    "duration": 5,
    "start_time": "2022-06-01T12:37:45.366Z"
   },
   {
    "duration": 25,
    "start_time": "2022-06-01T12:37:45.373Z"
   },
   {
    "duration": 3,
    "start_time": "2022-06-01T12:42:22.177Z"
   },
   {
    "duration": 135,
    "start_time": "2022-06-01T12:42:22.183Z"
   },
   {
    "duration": 29,
    "start_time": "2022-06-01T12:42:22.320Z"
   },
   {
    "duration": 41,
    "start_time": "2022-06-01T12:42:22.351Z"
   },
   {
    "duration": 13,
    "start_time": "2022-06-01T12:42:22.394Z"
   },
   {
    "duration": 10,
    "start_time": "2022-06-01T12:42:22.408Z"
   },
   {
    "duration": 48,
    "start_time": "2022-06-01T12:42:22.420Z"
   },
   {
    "duration": 27,
    "start_time": "2022-06-01T12:42:22.469Z"
   },
   {
    "duration": 17,
    "start_time": "2022-06-01T12:42:22.498Z"
   },
   {
    "duration": 5,
    "start_time": "2022-06-01T12:42:22.517Z"
   },
   {
    "duration": 31,
    "start_time": "2022-06-01T12:42:22.524Z"
   },
   {
    "duration": 18,
    "start_time": "2022-06-01T12:42:22.557Z"
   },
   {
    "duration": 33,
    "start_time": "2022-06-01T12:42:22.577Z"
   },
   {
    "duration": 28,
    "start_time": "2022-06-01T12:42:22.612Z"
   },
   {
    "duration": 23,
    "start_time": "2022-06-01T12:42:22.648Z"
   },
   {
    "duration": 10,
    "start_time": "2022-06-01T12:42:22.673Z"
   },
   {
    "duration": 13,
    "start_time": "2022-06-01T12:42:22.685Z"
   },
   {
    "duration": 1311,
    "start_time": "2022-06-01T12:42:22.699Z"
   },
   {
    "duration": 34,
    "start_time": "2022-06-01T12:42:24.012Z"
   },
   {
    "duration": 49,
    "start_time": "2022-06-01T12:42:24.048Z"
   },
   {
    "duration": 24,
    "start_time": "2022-06-01T12:42:24.099Z"
   },
   {
    "duration": 37,
    "start_time": "2022-06-01T12:42:24.125Z"
   },
   {
    "duration": 16,
    "start_time": "2022-06-01T12:42:24.164Z"
   },
   {
    "duration": 10,
    "start_time": "2022-06-01T12:42:24.182Z"
   },
   {
    "duration": 374,
    "start_time": "2022-06-01T12:42:24.193Z"
   },
   {
    "duration": 21,
    "start_time": "2022-06-01T12:42:24.571Z"
   },
   {
    "duration": 25,
    "start_time": "2022-06-01T12:42:24.594Z"
   },
   {
    "duration": 0,
    "start_time": "2022-06-01T12:42:24.621Z"
   },
   {
    "duration": 0,
    "start_time": "2022-06-01T12:42:24.622Z"
   },
   {
    "duration": 0,
    "start_time": "2022-06-01T12:42:24.623Z"
   },
   {
    "duration": 0,
    "start_time": "2022-06-01T12:42:24.625Z"
   },
   {
    "duration": 0,
    "start_time": "2022-06-01T12:42:24.626Z"
   },
   {
    "duration": 7,
    "start_time": "2022-06-01T12:42:35.443Z"
   },
   {
    "duration": 69,
    "start_time": "2022-06-01T12:42:35.452Z"
   },
   {
    "duration": 33,
    "start_time": "2022-06-01T12:42:35.523Z"
   },
   {
    "duration": 32,
    "start_time": "2022-06-01T12:42:35.558Z"
   },
   {
    "duration": 15,
    "start_time": "2022-06-01T12:42:35.593Z"
   },
   {
    "duration": 77,
    "start_time": "2022-06-01T12:42:35.610Z"
   },
   {
    "duration": 30,
    "start_time": "2022-06-01T12:42:35.689Z"
   },
   {
    "duration": 36,
    "start_time": "2022-06-01T12:42:35.721Z"
   },
   {
    "duration": 39,
    "start_time": "2022-06-01T12:42:35.759Z"
   },
   {
    "duration": 7,
    "start_time": "2022-06-01T12:42:35.800Z"
   },
   {
    "duration": 21,
    "start_time": "2022-06-01T12:42:35.809Z"
   },
   {
    "duration": 45,
    "start_time": "2022-06-01T12:42:35.835Z"
   },
   {
    "duration": 20,
    "start_time": "2022-06-01T12:42:35.883Z"
   },
   {
    "duration": 9,
    "start_time": "2022-06-01T12:42:35.906Z"
   },
   {
    "duration": 23,
    "start_time": "2022-06-01T12:42:35.917Z"
   },
   {
    "duration": 28,
    "start_time": "2022-06-01T12:42:35.949Z"
   },
   {
    "duration": 8,
    "start_time": "2022-06-01T12:42:35.979Z"
   },
   {
    "duration": 1538,
    "start_time": "2022-06-01T12:42:35.989Z"
   },
   {
    "duration": 21,
    "start_time": "2022-06-01T12:42:37.530Z"
   },
   {
    "duration": 37,
    "start_time": "2022-06-01T12:42:37.553Z"
   },
   {
    "duration": 23,
    "start_time": "2022-06-01T12:42:37.592Z"
   },
   {
    "duration": 15,
    "start_time": "2022-06-01T12:42:37.616Z"
   },
   {
    "duration": 29,
    "start_time": "2022-06-01T12:42:37.638Z"
   },
   {
    "duration": 7,
    "start_time": "2022-06-01T12:42:37.669Z"
   },
   {
    "duration": 322,
    "start_time": "2022-06-01T12:42:37.678Z"
   },
   {
    "duration": 13,
    "start_time": "2022-06-01T12:42:38.001Z"
   },
   {
    "duration": 17,
    "start_time": "2022-06-01T12:42:38.016Z"
   },
   {
    "duration": 39,
    "start_time": "2022-06-01T12:42:38.035Z"
   },
   {
    "duration": 3,
    "start_time": "2022-06-01T12:42:38.076Z"
   },
   {
    "duration": 219,
    "start_time": "2022-06-01T12:42:38.080Z"
   },
   {
    "duration": 5,
    "start_time": "2022-06-01T12:42:38.307Z"
   },
   {
    "duration": 35,
    "start_time": "2022-06-01T12:42:38.314Z"
   },
   {
    "duration": 9,
    "start_time": "2022-06-01T12:43:08.246Z"
   },
   {
    "duration": 57,
    "start_time": "2022-06-01T12:43:08.258Z"
   },
   {
    "duration": 16,
    "start_time": "2022-06-01T12:43:08.317Z"
   },
   {
    "duration": 42,
    "start_time": "2022-06-01T12:43:08.334Z"
   },
   {
    "duration": 22,
    "start_time": "2022-06-01T12:43:08.379Z"
   },
   {
    "duration": 16,
    "start_time": "2022-06-01T12:43:08.403Z"
   },
   {
    "duration": 49,
    "start_time": "2022-06-01T12:43:08.421Z"
   },
   {
    "duration": 19,
    "start_time": "2022-06-01T12:43:08.472Z"
   },
   {
    "duration": 23,
    "start_time": "2022-06-01T12:43:08.493Z"
   },
   {
    "duration": 33,
    "start_time": "2022-06-01T12:43:08.519Z"
   },
   {
    "duration": 38,
    "start_time": "2022-06-01T12:43:08.553Z"
   },
   {
    "duration": 14,
    "start_time": "2022-06-01T12:43:08.594Z"
   },
   {
    "duration": 22,
    "start_time": "2022-06-01T12:43:08.610Z"
   },
   {
    "duration": 27,
    "start_time": "2022-06-01T12:43:08.637Z"
   },
   {
    "duration": 11,
    "start_time": "2022-06-01T12:43:08.665Z"
   },
   {
    "duration": 5,
    "start_time": "2022-06-01T12:43:08.677Z"
   },
   {
    "duration": 8,
    "start_time": "2022-06-01T12:43:08.683Z"
   },
   {
    "duration": 1335,
    "start_time": "2022-06-01T12:43:08.693Z"
   },
   {
    "duration": 26,
    "start_time": "2022-06-01T12:43:10.031Z"
   },
   {
    "duration": 21,
    "start_time": "2022-06-01T12:43:10.063Z"
   },
   {
    "duration": 18,
    "start_time": "2022-06-01T12:43:10.086Z"
   },
   {
    "duration": 6,
    "start_time": "2022-06-01T12:43:10.105Z"
   },
   {
    "duration": 34,
    "start_time": "2022-06-01T12:43:10.127Z"
   },
   {
    "duration": 11,
    "start_time": "2022-06-01T12:43:10.163Z"
   },
   {
    "duration": 316,
    "start_time": "2022-06-01T12:43:10.176Z"
   },
   {
    "duration": 13,
    "start_time": "2022-06-01T12:43:10.494Z"
   },
   {
    "duration": 22,
    "start_time": "2022-06-01T12:43:10.509Z"
   },
   {
    "duration": 26,
    "start_time": "2022-06-01T12:43:10.533Z"
   },
   {
    "duration": 31,
    "start_time": "2022-06-01T12:43:10.561Z"
   },
   {
    "duration": 4,
    "start_time": "2022-06-01T12:43:10.594Z"
   },
   {
    "duration": 250,
    "start_time": "2022-06-01T12:43:10.600Z"
   },
   {
    "duration": 8,
    "start_time": "2022-06-01T12:43:10.852Z"
   },
   {
    "duration": 21,
    "start_time": "2022-06-01T12:43:10.862Z"
   },
   {
    "duration": 5,
    "start_time": "2022-06-01T12:44:42.342Z"
   },
   {
    "duration": 61,
    "start_time": "2022-06-01T12:44:42.349Z"
   },
   {
    "duration": 18,
    "start_time": "2022-06-01T12:44:42.413Z"
   },
   {
    "duration": 64,
    "start_time": "2022-06-01T12:44:42.432Z"
   },
   {
    "duration": 17,
    "start_time": "2022-06-01T12:44:42.499Z"
   },
   {
    "duration": 10,
    "start_time": "2022-06-01T12:44:42.518Z"
   },
   {
    "duration": 58,
    "start_time": "2022-06-01T12:44:42.530Z"
   },
   {
    "duration": 15,
    "start_time": "2022-06-01T12:44:42.590Z"
   },
   {
    "duration": 27,
    "start_time": "2022-06-01T12:44:42.607Z"
   },
   {
    "duration": 32,
    "start_time": "2022-06-01T12:44:42.636Z"
   },
   {
    "duration": 15,
    "start_time": "2022-06-01T12:44:42.672Z"
   },
   {
    "duration": 26,
    "start_time": "2022-06-01T12:44:42.689Z"
   },
   {
    "duration": 35,
    "start_time": "2022-06-01T12:44:42.717Z"
   },
   {
    "duration": 31,
    "start_time": "2022-06-01T12:44:42.754Z"
   },
   {
    "duration": 25,
    "start_time": "2022-06-01T12:44:42.787Z"
   },
   {
    "duration": 31,
    "start_time": "2022-06-01T12:44:42.814Z"
   },
   {
    "duration": 39,
    "start_time": "2022-06-01T12:44:42.849Z"
   },
   {
    "duration": 1321,
    "start_time": "2022-06-01T12:44:42.890Z"
   },
   {
    "duration": 34,
    "start_time": "2022-06-01T12:44:44.213Z"
   },
   {
    "duration": 23,
    "start_time": "2022-06-01T12:44:44.253Z"
   },
   {
    "duration": 16,
    "start_time": "2022-06-01T12:44:44.278Z"
   },
   {
    "duration": 9,
    "start_time": "2022-06-01T12:44:44.296Z"
   },
   {
    "duration": 13,
    "start_time": "2022-06-01T12:44:44.306Z"
   },
   {
    "duration": 43,
    "start_time": "2022-06-01T12:44:44.321Z"
   },
   {
    "duration": 431,
    "start_time": "2022-06-01T12:44:44.366Z"
   },
   {
    "duration": 18,
    "start_time": "2022-06-01T12:44:44.800Z"
   },
   {
    "duration": 49,
    "start_time": "2022-06-01T12:44:44.820Z"
   },
   {
    "duration": 14,
    "start_time": "2022-06-01T12:44:44.871Z"
   },
   {
    "duration": 13,
    "start_time": "2022-06-01T12:44:44.889Z"
   },
   {
    "duration": 31,
    "start_time": "2022-06-01T12:44:44.904Z"
   },
   {
    "duration": 5,
    "start_time": "2022-06-01T12:44:44.937Z"
   },
   {
    "duration": 277,
    "start_time": "2022-06-01T12:44:44.945Z"
   },
   {
    "duration": 10,
    "start_time": "2022-06-01T12:44:45.224Z"
   },
   {
    "duration": 60,
    "start_time": "2022-06-01T12:44:45.237Z"
   },
   {
    "duration": 18,
    "start_time": "2022-06-01T12:45:07.746Z"
   },
   {
    "duration": 4,
    "start_time": "2022-06-01T12:45:39.314Z"
   },
   {
    "duration": 3,
    "start_time": "2022-06-01T12:45:41.601Z"
   },
   {
    "duration": 95,
    "start_time": "2022-06-01T12:45:41.607Z"
   },
   {
    "duration": 13,
    "start_time": "2022-06-01T12:45:41.704Z"
   },
   {
    "duration": 29,
    "start_time": "2022-06-01T12:45:41.718Z"
   },
   {
    "duration": 22,
    "start_time": "2022-06-01T12:45:41.750Z"
   },
   {
    "duration": 5,
    "start_time": "2022-06-01T12:45:41.774Z"
   },
   {
    "duration": 21,
    "start_time": "2022-06-01T12:45:41.780Z"
   },
   {
    "duration": 13,
    "start_time": "2022-06-01T12:45:41.802Z"
   },
   {
    "duration": 56,
    "start_time": "2022-06-01T12:45:41.816Z"
   },
   {
    "duration": 10,
    "start_time": "2022-06-01T12:45:41.874Z"
   },
   {
    "duration": 12,
    "start_time": "2022-06-01T12:45:41.886Z"
   },
   {
    "duration": 13,
    "start_time": "2022-06-01T12:45:41.899Z"
   },
   {
    "duration": 45,
    "start_time": "2022-06-01T12:45:41.914Z"
   },
   {
    "duration": 6,
    "start_time": "2022-06-01T12:45:41.961Z"
   },
   {
    "duration": 12,
    "start_time": "2022-06-01T12:45:41.969Z"
   },
   {
    "duration": 8,
    "start_time": "2022-06-01T12:45:41.983Z"
   },
   {
    "duration": 20,
    "start_time": "2022-06-01T12:45:41.992Z"
   },
   {
    "duration": 1387,
    "start_time": "2022-06-01T12:45:42.014Z"
   },
   {
    "duration": 26,
    "start_time": "2022-06-01T12:45:43.403Z"
   },
   {
    "duration": 54,
    "start_time": "2022-06-01T12:45:43.430Z"
   },
   {
    "duration": 16,
    "start_time": "2022-06-01T12:45:43.485Z"
   },
   {
    "duration": 12,
    "start_time": "2022-06-01T12:45:43.503Z"
   },
   {
    "duration": 38,
    "start_time": "2022-06-01T12:45:43.517Z"
   },
   {
    "duration": 10,
    "start_time": "2022-06-01T12:45:43.557Z"
   },
   {
    "duration": 311,
    "start_time": "2022-06-01T12:45:43.568Z"
   },
   {
    "duration": 13,
    "start_time": "2022-06-01T12:45:43.882Z"
   },
   {
    "duration": 16,
    "start_time": "2022-06-01T12:45:43.897Z"
   },
   {
    "duration": 42,
    "start_time": "2022-06-01T12:45:43.915Z"
   },
   {
    "duration": 9,
    "start_time": "2022-06-01T12:45:43.959Z"
   },
   {
    "duration": 19,
    "start_time": "2022-06-01T12:45:43.970Z"
   },
   {
    "duration": 3,
    "start_time": "2022-06-01T12:45:43.991Z"
   },
   {
    "duration": 221,
    "start_time": "2022-06-01T12:45:43.996Z"
   },
   {
    "duration": 11,
    "start_time": "2022-06-01T12:45:44.219Z"
   },
   {
    "duration": 53,
    "start_time": "2022-06-01T12:45:44.234Z"
   },
   {
    "duration": 3,
    "start_time": "2022-06-01T12:46:37.582Z"
   },
   {
    "duration": 77,
    "start_time": "2022-06-01T12:46:37.592Z"
   },
   {
    "duration": 14,
    "start_time": "2022-06-01T12:46:37.671Z"
   },
   {
    "duration": 20,
    "start_time": "2022-06-01T12:46:37.687Z"
   },
   {
    "duration": 23,
    "start_time": "2022-06-01T12:46:37.709Z"
   },
   {
    "duration": 39,
    "start_time": "2022-06-01T12:46:37.734Z"
   },
   {
    "duration": 39,
    "start_time": "2022-06-01T12:46:37.775Z"
   },
   {
    "duration": 62,
    "start_time": "2022-06-01T12:46:37.816Z"
   },
   {
    "duration": 33,
    "start_time": "2022-06-01T12:46:37.880Z"
   },
   {
    "duration": 11,
    "start_time": "2022-06-01T12:46:37.914Z"
   },
   {
    "duration": 57,
    "start_time": "2022-06-01T12:46:37.928Z"
   },
   {
    "duration": 20,
    "start_time": "2022-06-01T12:46:37.986Z"
   },
   {
    "duration": 56,
    "start_time": "2022-06-01T12:46:38.008Z"
   },
   {
    "duration": 19,
    "start_time": "2022-06-01T12:46:38.066Z"
   },
   {
    "duration": 24,
    "start_time": "2022-06-01T12:46:38.086Z"
   },
   {
    "duration": 40,
    "start_time": "2022-06-01T12:46:38.112Z"
   },
   {
    "duration": 23,
    "start_time": "2022-06-01T12:46:38.156Z"
   },
   {
    "duration": 1323,
    "start_time": "2022-06-01T12:46:38.180Z"
   },
   {
    "duration": 15,
    "start_time": "2022-06-01T12:46:39.505Z"
   },
   {
    "duration": 41,
    "start_time": "2022-06-01T12:46:39.528Z"
   },
   {
    "duration": 14,
    "start_time": "2022-06-01T12:46:39.571Z"
   },
   {
    "duration": 9,
    "start_time": "2022-06-01T12:46:39.587Z"
   },
   {
    "duration": 7,
    "start_time": "2022-06-01T12:46:39.597Z"
   },
   {
    "duration": 8,
    "start_time": "2022-06-01T12:46:39.605Z"
   },
   {
    "duration": 343,
    "start_time": "2022-06-01T12:46:39.614Z"
   },
   {
    "duration": 12,
    "start_time": "2022-06-01T12:46:39.960Z"
   },
   {
    "duration": 23,
    "start_time": "2022-06-01T12:46:39.974Z"
   },
   {
    "duration": 13,
    "start_time": "2022-06-01T12:46:39.999Z"
   },
   {
    "duration": 20,
    "start_time": "2022-06-01T12:46:40.014Z"
   },
   {
    "duration": 35,
    "start_time": "2022-06-01T12:46:40.045Z"
   },
   {
    "duration": 3,
    "start_time": "2022-06-01T12:46:40.082Z"
   },
   {
    "duration": 236,
    "start_time": "2022-06-01T12:46:40.087Z"
   },
   {
    "duration": 12,
    "start_time": "2022-06-01T12:46:40.324Z"
   },
   {
    "duration": 52,
    "start_time": "2022-06-01T12:46:40.337Z"
   },
   {
    "duration": 4,
    "start_time": "2022-06-01T12:47:27.993Z"
   },
   {
    "duration": 81,
    "start_time": "2022-06-01T12:47:28.000Z"
   },
   {
    "duration": 13,
    "start_time": "2022-06-01T12:47:28.083Z"
   },
   {
    "duration": 20,
    "start_time": "2022-06-01T12:47:28.098Z"
   },
   {
    "duration": 27,
    "start_time": "2022-06-01T12:47:28.119Z"
   },
   {
    "duration": 35,
    "start_time": "2022-06-01T12:47:28.148Z"
   },
   {
    "duration": 19,
    "start_time": "2022-06-01T12:47:28.184Z"
   },
   {
    "duration": 51,
    "start_time": "2022-06-01T12:47:28.205Z"
   },
   {
    "duration": 18,
    "start_time": "2022-06-01T12:47:28.257Z"
   },
   {
    "duration": 4,
    "start_time": "2022-06-01T12:47:28.278Z"
   },
   {
    "duration": 7,
    "start_time": "2022-06-01T12:47:28.284Z"
   },
   {
    "duration": 26,
    "start_time": "2022-06-01T12:47:28.292Z"
   },
   {
    "duration": 20,
    "start_time": "2022-06-01T12:47:28.320Z"
   },
   {
    "duration": 38,
    "start_time": "2022-06-01T12:47:28.342Z"
   },
   {
    "duration": 17,
    "start_time": "2022-06-01T12:47:28.382Z"
   },
   {
    "duration": 7,
    "start_time": "2022-06-01T12:47:28.401Z"
   },
   {
    "duration": 6,
    "start_time": "2022-06-01T12:47:28.410Z"
   },
   {
    "duration": 1367,
    "start_time": "2022-06-01T12:47:28.418Z"
   },
   {
    "duration": 16,
    "start_time": "2022-06-01T12:47:29.787Z"
   },
   {
    "duration": 86,
    "start_time": "2022-06-01T12:47:29.805Z"
   },
   {
    "duration": 21,
    "start_time": "2022-06-01T12:47:29.893Z"
   },
   {
    "duration": 43,
    "start_time": "2022-06-01T12:47:29.916Z"
   },
   {
    "duration": 25,
    "start_time": "2022-06-01T12:47:29.960Z"
   },
   {
    "duration": 27,
    "start_time": "2022-06-01T12:47:29.987Z"
   },
   {
    "duration": 372,
    "start_time": "2022-06-01T12:47:30.016Z"
   },
   {
    "duration": 13,
    "start_time": "2022-06-01T12:47:30.389Z"
   },
   {
    "duration": 67,
    "start_time": "2022-06-01T12:47:30.404Z"
   },
   {
    "duration": 14,
    "start_time": "2022-06-01T12:47:30.475Z"
   },
   {
    "duration": 29,
    "start_time": "2022-06-01T12:47:30.490Z"
   },
   {
    "duration": 50,
    "start_time": "2022-06-01T12:47:30.521Z"
   },
   {
    "duration": 3,
    "start_time": "2022-06-01T12:47:30.573Z"
   },
   {
    "duration": 244,
    "start_time": "2022-06-01T12:47:30.577Z"
   },
   {
    "duration": 21,
    "start_time": "2022-06-01T12:47:30.823Z"
   },
   {
    "duration": 0,
    "start_time": "2022-06-01T12:47:30.846Z"
   },
   {
    "duration": 3,
    "start_time": "2022-06-01T12:47:41.708Z"
   },
   {
    "duration": 97,
    "start_time": "2022-06-01T12:47:41.713Z"
   },
   {
    "duration": 29,
    "start_time": "2022-06-01T12:47:41.812Z"
   },
   {
    "duration": 61,
    "start_time": "2022-06-01T12:47:41.842Z"
   },
   {
    "duration": 33,
    "start_time": "2022-06-01T12:47:41.905Z"
   },
   {
    "duration": 11,
    "start_time": "2022-06-01T12:47:41.942Z"
   },
   {
    "duration": 28,
    "start_time": "2022-06-01T12:47:41.955Z"
   },
   {
    "duration": 8,
    "start_time": "2022-06-01T12:47:41.985Z"
   },
   {
    "duration": 22,
    "start_time": "2022-06-01T12:47:41.994Z"
   },
   {
    "duration": 10,
    "start_time": "2022-06-01T12:47:42.018Z"
   },
   {
    "duration": 23,
    "start_time": "2022-06-01T12:47:42.030Z"
   },
   {
    "duration": 12,
    "start_time": "2022-06-01T12:47:42.055Z"
   },
   {
    "duration": 23,
    "start_time": "2022-06-01T12:47:42.068Z"
   },
   {
    "duration": 23,
    "start_time": "2022-06-01T12:47:42.093Z"
   },
   {
    "duration": 19,
    "start_time": "2022-06-01T12:47:42.118Z"
   },
   {
    "duration": 34,
    "start_time": "2022-06-01T12:47:42.146Z"
   },
   {
    "duration": 15,
    "start_time": "2022-06-01T12:47:42.182Z"
   },
   {
    "duration": 1319,
    "start_time": "2022-06-01T12:47:42.200Z"
   },
   {
    "duration": 25,
    "start_time": "2022-06-01T12:47:43.521Z"
   },
   {
    "duration": 34,
    "start_time": "2022-06-01T12:47:43.548Z"
   },
   {
    "duration": 23,
    "start_time": "2022-06-01T12:47:43.584Z"
   },
   {
    "duration": 6,
    "start_time": "2022-06-01T12:47:43.609Z"
   },
   {
    "duration": 9,
    "start_time": "2022-06-01T12:47:43.625Z"
   },
   {
    "duration": 15,
    "start_time": "2022-06-01T12:47:43.641Z"
   },
   {
    "duration": 306,
    "start_time": "2022-06-01T12:47:43.658Z"
   },
   {
    "duration": 12,
    "start_time": "2022-06-01T12:47:43.966Z"
   },
   {
    "duration": 11,
    "start_time": "2022-06-01T12:47:43.980Z"
   },
   {
    "duration": 9,
    "start_time": "2022-06-01T12:47:43.993Z"
   },
   {
    "duration": 36,
    "start_time": "2022-06-01T12:47:44.004Z"
   },
   {
    "duration": 41,
    "start_time": "2022-06-01T12:47:44.042Z"
   },
   {
    "duration": 3,
    "start_time": "2022-06-01T12:47:44.085Z"
   },
   {
    "duration": 212,
    "start_time": "2022-06-01T12:47:44.090Z"
   },
   {
    "duration": 5,
    "start_time": "2022-06-01T12:47:44.303Z"
   },
   {
    "duration": 37,
    "start_time": "2022-06-01T12:47:44.309Z"
   },
   {
    "duration": 4,
    "start_time": "2022-06-01T13:12:30.490Z"
   },
   {
    "duration": 72,
    "start_time": "2022-06-01T13:12:30.496Z"
   },
   {
    "duration": 15,
    "start_time": "2022-06-01T13:12:30.570Z"
   },
   {
    "duration": 39,
    "start_time": "2022-06-01T13:12:30.587Z"
   },
   {
    "duration": 19,
    "start_time": "2022-06-01T13:12:30.628Z"
   },
   {
    "duration": 10,
    "start_time": "2022-06-01T13:12:30.649Z"
   },
   {
    "duration": 23,
    "start_time": "2022-06-01T13:12:30.661Z"
   },
   {
    "duration": 13,
    "start_time": "2022-06-01T13:12:30.686Z"
   },
   {
    "duration": 27,
    "start_time": "2022-06-01T13:12:30.701Z"
   },
   {
    "duration": 6,
    "start_time": "2022-06-01T13:12:30.730Z"
   },
   {
    "duration": 15,
    "start_time": "2022-06-01T13:12:30.738Z"
   },
   {
    "duration": 10,
    "start_time": "2022-06-01T13:12:30.755Z"
   },
   {
    "duration": 22,
    "start_time": "2022-06-01T13:12:30.767Z"
   },
   {
    "duration": 23,
    "start_time": "2022-06-01T13:12:30.791Z"
   },
   {
    "duration": 9,
    "start_time": "2022-06-01T13:12:30.825Z"
   },
   {
    "duration": 16,
    "start_time": "2022-06-01T13:12:30.836Z"
   },
   {
    "duration": 9,
    "start_time": "2022-06-01T13:12:30.853Z"
   },
   {
    "duration": 1307,
    "start_time": "2022-06-01T13:12:30.864Z"
   },
   {
    "duration": 20,
    "start_time": "2022-06-01T13:12:32.175Z"
   },
   {
    "duration": 38,
    "start_time": "2022-06-01T13:12:32.197Z"
   },
   {
    "duration": 17,
    "start_time": "2022-06-01T13:12:32.237Z"
   },
   {
    "duration": 10,
    "start_time": "2022-06-01T13:12:32.255Z"
   },
   {
    "duration": 9,
    "start_time": "2022-06-01T13:12:32.266Z"
   },
   {
    "duration": 14,
    "start_time": "2022-06-01T13:12:32.277Z"
   },
   {
    "duration": 1344,
    "start_time": "2022-06-01T13:12:32.294Z"
   },
   {
    "duration": 18,
    "start_time": "2022-06-01T13:12:33.641Z"
   },
   {
    "duration": 23,
    "start_time": "2022-06-01T13:12:33.661Z"
   },
   {
    "duration": 9,
    "start_time": "2022-06-01T13:12:33.687Z"
   },
   {
    "duration": 22,
    "start_time": "2022-06-01T13:12:33.700Z"
   },
   {
    "duration": 0,
    "start_time": "2022-06-01T13:12:33.723Z"
   },
   {
    "duration": 0,
    "start_time": "2022-06-01T13:12:33.726Z"
   },
   {
    "duration": 0,
    "start_time": "2022-06-01T13:12:33.727Z"
   },
   {
    "duration": 0,
    "start_time": "2022-06-01T13:12:33.728Z"
   },
   {
    "duration": 0,
    "start_time": "2022-06-01T13:12:33.730Z"
   },
   {
    "duration": 4,
    "start_time": "2022-06-01T13:12:52.240Z"
   },
   {
    "duration": 73,
    "start_time": "2022-06-01T13:12:52.246Z"
   },
   {
    "duration": 16,
    "start_time": "2022-06-01T13:12:52.321Z"
   },
   {
    "duration": 25,
    "start_time": "2022-06-01T13:12:52.339Z"
   },
   {
    "duration": 13,
    "start_time": "2022-06-01T13:12:52.367Z"
   },
   {
    "duration": 16,
    "start_time": "2022-06-01T13:12:52.382Z"
   },
   {
    "duration": 38,
    "start_time": "2022-06-01T13:12:52.400Z"
   },
   {
    "duration": 14,
    "start_time": "2022-06-01T13:12:52.440Z"
   },
   {
    "duration": 17,
    "start_time": "2022-06-01T13:12:52.456Z"
   },
   {
    "duration": 5,
    "start_time": "2022-06-01T13:12:52.475Z"
   },
   {
    "duration": 11,
    "start_time": "2022-06-01T13:12:52.482Z"
   },
   {
    "duration": 37,
    "start_time": "2022-06-01T13:12:52.494Z"
   },
   {
    "duration": 23,
    "start_time": "2022-06-01T13:12:52.533Z"
   },
   {
    "duration": 21,
    "start_time": "2022-06-01T13:12:52.558Z"
   },
   {
    "duration": 23,
    "start_time": "2022-06-01T13:12:52.581Z"
   },
   {
    "duration": 8,
    "start_time": "2022-06-01T13:12:52.606Z"
   },
   {
    "duration": 25,
    "start_time": "2022-06-01T13:12:52.616Z"
   },
   {
    "duration": 1155,
    "start_time": "2022-06-01T13:12:52.643Z"
   },
   {
    "duration": 15,
    "start_time": "2022-06-01T13:12:53.800Z"
   },
   {
    "duration": 19,
    "start_time": "2022-06-01T13:12:53.826Z"
   },
   {
    "duration": 18,
    "start_time": "2022-06-01T13:12:53.847Z"
   },
   {
    "duration": 8,
    "start_time": "2022-06-01T13:12:53.867Z"
   },
   {
    "duration": 7,
    "start_time": "2022-06-01T13:12:53.877Z"
   },
   {
    "duration": 9,
    "start_time": "2022-06-01T13:12:53.886Z"
   },
   {
    "duration": 1351,
    "start_time": "2022-06-01T13:12:53.898Z"
   },
   {
    "duration": 14,
    "start_time": "2022-06-01T13:12:55.251Z"
   },
   {
    "duration": 31,
    "start_time": "2022-06-01T13:12:55.267Z"
   },
   {
    "duration": 22,
    "start_time": "2022-06-01T13:12:55.300Z"
   },
   {
    "duration": 7,
    "start_time": "2022-06-01T13:12:55.326Z"
   },
   {
    "duration": 19,
    "start_time": "2022-06-01T13:12:55.335Z"
   },
   {
    "duration": 4,
    "start_time": "2022-06-01T13:12:55.355Z"
   },
   {
    "duration": 250,
    "start_time": "2022-06-01T13:12:55.361Z"
   },
   {
    "duration": 14,
    "start_time": "2022-06-01T13:12:55.612Z"
   },
   {
    "duration": 23,
    "start_time": "2022-06-01T13:12:55.629Z"
   },
   {
    "duration": 4,
    "start_time": "2022-06-01T13:13:11.362Z"
   },
   {
    "duration": 62,
    "start_time": "2022-06-01T13:13:11.369Z"
   },
   {
    "duration": 22,
    "start_time": "2022-06-01T13:13:11.433Z"
   },
   {
    "duration": 18,
    "start_time": "2022-06-01T13:13:11.457Z"
   },
   {
    "duration": 15,
    "start_time": "2022-06-01T13:13:11.478Z"
   },
   {
    "duration": 31,
    "start_time": "2022-06-01T13:13:11.495Z"
   },
   {
    "duration": 18,
    "start_time": "2022-06-01T13:13:11.528Z"
   },
   {
    "duration": 14,
    "start_time": "2022-06-01T13:13:11.548Z"
   },
   {
    "duration": 22,
    "start_time": "2022-06-01T13:13:11.564Z"
   },
   {
    "duration": 6,
    "start_time": "2022-06-01T13:13:11.588Z"
   },
   {
    "duration": 11,
    "start_time": "2022-06-01T13:13:11.596Z"
   },
   {
    "duration": 22,
    "start_time": "2022-06-01T13:13:11.609Z"
   },
   {
    "duration": 21,
    "start_time": "2022-06-01T13:13:11.635Z"
   },
   {
    "duration": 14,
    "start_time": "2022-06-01T13:13:11.658Z"
   },
   {
    "duration": 28,
    "start_time": "2022-06-01T13:13:11.674Z"
   },
   {
    "duration": 6,
    "start_time": "2022-06-01T13:13:11.704Z"
   },
   {
    "duration": 4,
    "start_time": "2022-06-01T13:13:11.726Z"
   },
   {
    "duration": 1291,
    "start_time": "2022-06-01T13:13:11.732Z"
   },
   {
    "duration": 15,
    "start_time": "2022-06-01T13:13:13.025Z"
   },
   {
    "duration": 41,
    "start_time": "2022-06-01T13:13:13.042Z"
   },
   {
    "duration": 17,
    "start_time": "2022-06-01T13:13:13.085Z"
   },
   {
    "duration": 11,
    "start_time": "2022-06-01T13:13:13.104Z"
   },
   {
    "duration": 8,
    "start_time": "2022-06-01T13:13:13.117Z"
   },
   {
    "duration": 9,
    "start_time": "2022-06-01T13:13:13.127Z"
   },
   {
    "duration": 1080,
    "start_time": "2022-06-01T13:13:13.137Z"
   },
   {
    "duration": 16,
    "start_time": "2022-06-01T13:13:14.220Z"
   },
   {
    "duration": 11,
    "start_time": "2022-06-01T13:13:14.237Z"
   },
   {
    "duration": 6,
    "start_time": "2022-06-01T13:13:14.250Z"
   },
   {
    "duration": 11,
    "start_time": "2022-06-01T13:13:14.258Z"
   },
   {
    "duration": 23,
    "start_time": "2022-06-01T13:13:14.272Z"
   },
   {
    "duration": 3,
    "start_time": "2022-06-01T13:13:14.296Z"
   },
   {
    "duration": 1204,
    "start_time": "2022-06-01T13:13:14.301Z"
   },
   {
    "duration": 5,
    "start_time": "2022-06-01T13:13:15.507Z"
   },
   {
    "duration": 41,
    "start_time": "2022-06-01T13:13:15.514Z"
   },
   {
    "duration": 4,
    "start_time": "2022-06-01T13:13:47.018Z"
   },
   {
    "duration": 16,
    "start_time": "2022-06-01T13:14:01.084Z"
   },
   {
    "duration": 12,
    "start_time": "2022-06-01T13:14:53.519Z"
   },
   {
    "duration": 4,
    "start_time": "2022-06-01T13:14:56.410Z"
   },
   {
    "duration": 60,
    "start_time": "2022-06-01T13:14:56.417Z"
   },
   {
    "duration": 22,
    "start_time": "2022-06-01T13:14:56.480Z"
   },
   {
    "duration": 23,
    "start_time": "2022-06-01T13:14:56.504Z"
   },
   {
    "duration": 13,
    "start_time": "2022-06-01T13:14:56.530Z"
   },
   {
    "duration": 8,
    "start_time": "2022-06-01T13:14:56.545Z"
   },
   {
    "duration": 27,
    "start_time": "2022-06-01T13:14:56.555Z"
   },
   {
    "duration": 43,
    "start_time": "2022-06-01T13:14:56.585Z"
   },
   {
    "duration": 26,
    "start_time": "2022-06-01T13:14:56.631Z"
   },
   {
    "duration": 5,
    "start_time": "2022-06-01T13:14:56.660Z"
   },
   {
    "duration": 6,
    "start_time": "2022-06-01T13:14:56.669Z"
   },
   {
    "duration": 10,
    "start_time": "2022-06-01T13:14:56.677Z"
   },
   {
    "duration": 51,
    "start_time": "2022-06-01T13:14:56.689Z"
   },
   {
    "duration": 10,
    "start_time": "2022-06-01T13:14:56.742Z"
   },
   {
    "duration": 16,
    "start_time": "2022-06-01T13:14:56.754Z"
   },
   {
    "duration": 12,
    "start_time": "2022-06-01T13:14:56.772Z"
   },
   {
    "duration": 21,
    "start_time": "2022-06-01T13:14:56.788Z"
   },
   {
    "duration": 1197,
    "start_time": "2022-06-01T13:14:56.811Z"
   },
   {
    "duration": 18,
    "start_time": "2022-06-01T13:14:58.011Z"
   },
   {
    "duration": 27,
    "start_time": "2022-06-01T13:14:58.030Z"
   },
   {
    "duration": 23,
    "start_time": "2022-06-01T13:14:58.059Z"
   },
   {
    "duration": 6,
    "start_time": "2022-06-01T13:14:58.084Z"
   },
   {
    "duration": 8,
    "start_time": "2022-06-01T13:14:58.092Z"
   },
   {
    "duration": 27,
    "start_time": "2022-06-01T13:14:58.101Z"
   },
   {
    "duration": 1237,
    "start_time": "2022-06-01T13:14:58.130Z"
   },
   {
    "duration": 16,
    "start_time": "2022-06-01T13:14:59.369Z"
   },
   {
    "duration": 26,
    "start_time": "2022-06-01T13:14:59.387Z"
   },
   {
    "duration": 15,
    "start_time": "2022-06-01T13:14:59.416Z"
   },
   {
    "duration": 17,
    "start_time": "2022-06-01T13:14:59.435Z"
   },
   {
    "duration": 32,
    "start_time": "2022-06-01T13:14:59.454Z"
   },
   {
    "duration": 0,
    "start_time": "2022-06-01T13:14:59.488Z"
   },
   {
    "duration": 0,
    "start_time": "2022-06-01T13:14:59.489Z"
   },
   {
    "duration": 0,
    "start_time": "2022-06-01T13:14:59.490Z"
   },
   {
    "duration": 0,
    "start_time": "2022-06-01T13:14:59.491Z"
   },
   {
    "duration": 0,
    "start_time": "2022-06-01T13:14:59.493Z"
   },
   {
    "duration": 14,
    "start_time": "2022-06-01T13:15:07.770Z"
   },
   {
    "duration": 5,
    "start_time": "2022-06-01T13:15:29.638Z"
   },
   {
    "duration": 62,
    "start_time": "2022-06-01T13:15:29.646Z"
   },
   {
    "duration": 17,
    "start_time": "2022-06-01T13:15:29.709Z"
   },
   {
    "duration": 26,
    "start_time": "2022-06-01T13:15:29.729Z"
   },
   {
    "duration": 15,
    "start_time": "2022-06-01T13:15:29.758Z"
   },
   {
    "duration": 4,
    "start_time": "2022-06-01T13:15:29.775Z"
   },
   {
    "duration": 24,
    "start_time": "2022-06-01T13:15:29.781Z"
   },
   {
    "duration": 31,
    "start_time": "2022-06-01T13:15:29.807Z"
   },
   {
    "duration": 21,
    "start_time": "2022-06-01T13:15:29.840Z"
   },
   {
    "duration": 6,
    "start_time": "2022-06-01T13:15:29.863Z"
   },
   {
    "duration": 8,
    "start_time": "2022-06-01T13:15:29.871Z"
   },
   {
    "duration": 10,
    "start_time": "2022-06-01T13:15:29.881Z"
   },
   {
    "duration": 49,
    "start_time": "2022-06-01T13:15:29.893Z"
   },
   {
    "duration": 8,
    "start_time": "2022-06-01T13:15:29.946Z"
   },
   {
    "duration": 11,
    "start_time": "2022-06-01T13:15:29.958Z"
   },
   {
    "duration": 5,
    "start_time": "2022-06-01T13:15:29.971Z"
   },
   {
    "duration": 11,
    "start_time": "2022-06-01T13:15:29.978Z"
   },
   {
    "duration": 1250,
    "start_time": "2022-06-01T13:15:30.025Z"
   },
   {
    "duration": 23,
    "start_time": "2022-06-01T13:15:31.277Z"
   },
   {
    "duration": 70,
    "start_time": "2022-06-01T13:15:31.302Z"
   },
   {
    "duration": 20,
    "start_time": "2022-06-01T13:15:31.374Z"
   },
   {
    "duration": 6,
    "start_time": "2022-06-01T13:15:31.397Z"
   },
   {
    "duration": 11,
    "start_time": "2022-06-01T13:15:31.405Z"
   },
   {
    "duration": 26,
    "start_time": "2022-06-01T13:15:31.418Z"
   },
   {
    "duration": 1325,
    "start_time": "2022-06-01T13:15:31.448Z"
   },
   {
    "duration": 17,
    "start_time": "2022-06-01T13:15:32.775Z"
   },
   {
    "duration": 22,
    "start_time": "2022-06-01T13:15:32.794Z"
   },
   {
    "duration": 12,
    "start_time": "2022-06-01T13:15:32.819Z"
   },
   {
    "duration": 27,
    "start_time": "2022-06-01T13:15:32.832Z"
   },
   {
    "duration": 22,
    "start_time": "2022-06-01T13:15:32.861Z"
   },
   {
    "duration": 27,
    "start_time": "2022-06-01T13:15:32.885Z"
   },
   {
    "duration": 4,
    "start_time": "2022-06-01T13:15:32.914Z"
   },
   {
    "duration": 1053,
    "start_time": "2022-06-01T13:15:32.919Z"
   },
   {
    "duration": 14,
    "start_time": "2022-06-01T13:15:33.974Z"
   },
   {
    "duration": 38,
    "start_time": "2022-06-01T13:15:33.990Z"
   },
   {
    "duration": 3,
    "start_time": "2022-06-01T13:18:19.742Z"
   },
   {
    "duration": 75,
    "start_time": "2022-06-01T13:18:19.748Z"
   },
   {
    "duration": 14,
    "start_time": "2022-06-01T13:18:19.826Z"
   },
   {
    "duration": 28,
    "start_time": "2022-06-01T13:18:19.842Z"
   },
   {
    "duration": 19,
    "start_time": "2022-06-01T13:18:19.872Z"
   },
   {
    "duration": 12,
    "start_time": "2022-06-01T13:18:19.894Z"
   },
   {
    "duration": 20,
    "start_time": "2022-06-01T13:18:19.908Z"
   },
   {
    "duration": 13,
    "start_time": "2022-06-01T13:18:19.930Z"
   },
   {
    "duration": 15,
    "start_time": "2022-06-01T13:18:19.945Z"
   },
   {
    "duration": 5,
    "start_time": "2022-06-01T13:18:19.962Z"
   },
   {
    "duration": 7,
    "start_time": "2022-06-01T13:18:19.971Z"
   },
   {
    "duration": 22,
    "start_time": "2022-06-01T13:18:19.980Z"
   },
   {
    "duration": 32,
    "start_time": "2022-06-01T13:18:20.005Z"
   },
   {
    "duration": 28,
    "start_time": "2022-06-01T13:18:20.039Z"
   },
   {
    "duration": 21,
    "start_time": "2022-06-01T13:18:20.069Z"
   },
   {
    "duration": 12,
    "start_time": "2022-06-01T13:18:20.092Z"
   },
   {
    "duration": 7,
    "start_time": "2022-06-01T13:18:20.105Z"
   },
   {
    "duration": 1315,
    "start_time": "2022-06-01T13:18:20.115Z"
   },
   {
    "duration": 22,
    "start_time": "2022-06-01T13:18:21.432Z"
   },
   {
    "duration": 31,
    "start_time": "2022-06-01T13:18:21.456Z"
   },
   {
    "duration": 38,
    "start_time": "2022-06-01T13:18:21.489Z"
   },
   {
    "duration": 6,
    "start_time": "2022-06-01T13:18:21.529Z"
   },
   {
    "duration": 5,
    "start_time": "2022-06-01T13:18:21.537Z"
   },
   {
    "duration": 6,
    "start_time": "2022-06-01T13:18:21.544Z"
   },
   {
    "duration": 1237,
    "start_time": "2022-06-01T13:18:21.552Z"
   },
   {
    "duration": 19,
    "start_time": "2022-06-01T13:18:22.791Z"
   },
   {
    "duration": 18,
    "start_time": "2022-06-01T13:18:22.812Z"
   },
   {
    "duration": 7,
    "start_time": "2022-06-01T13:18:22.832Z"
   },
   {
    "duration": 15,
    "start_time": "2022-06-01T13:18:22.842Z"
   },
   {
    "duration": 18,
    "start_time": "2022-06-01T13:18:22.860Z"
   },
   {
    "duration": 17,
    "start_time": "2022-06-01T13:18:22.880Z"
   },
   {
    "duration": 3,
    "start_time": "2022-06-01T13:18:22.899Z"
   },
   {
    "duration": 1143,
    "start_time": "2022-06-01T13:18:22.904Z"
   },
   {
    "duration": 17,
    "start_time": "2022-06-01T13:18:24.049Z"
   },
   {
    "duration": 37,
    "start_time": "2022-06-01T13:18:24.068Z"
   },
   {
    "duration": 3,
    "start_time": "2022-06-01T13:18:45.209Z"
   },
   {
    "duration": 69,
    "start_time": "2022-06-01T13:18:45.214Z"
   },
   {
    "duration": 21,
    "start_time": "2022-06-01T13:18:45.285Z"
   },
   {
    "duration": 33,
    "start_time": "2022-06-01T13:18:45.308Z"
   },
   {
    "duration": 26,
    "start_time": "2022-06-01T13:18:45.344Z"
   },
   {
    "duration": 15,
    "start_time": "2022-06-01T13:18:45.373Z"
   },
   {
    "duration": 32,
    "start_time": "2022-06-01T13:18:45.390Z"
   },
   {
    "duration": 24,
    "start_time": "2022-06-01T13:18:45.424Z"
   },
   {
    "duration": 27,
    "start_time": "2022-06-01T13:18:45.450Z"
   },
   {
    "duration": 21,
    "start_time": "2022-06-01T13:18:45.479Z"
   },
   {
    "duration": 25,
    "start_time": "2022-06-01T13:18:45.503Z"
   },
   {
    "duration": 33,
    "start_time": "2022-06-01T13:18:45.530Z"
   },
   {
    "duration": 29,
    "start_time": "2022-06-01T13:18:45.566Z"
   },
   {
    "duration": 24,
    "start_time": "2022-06-01T13:18:45.596Z"
   },
   {
    "duration": 27,
    "start_time": "2022-06-01T13:18:45.621Z"
   },
   {
    "duration": 28,
    "start_time": "2022-06-01T13:18:45.650Z"
   },
   {
    "duration": 31,
    "start_time": "2022-06-01T13:18:45.680Z"
   },
   {
    "duration": 1146,
    "start_time": "2022-06-01T13:18:45.713Z"
   },
   {
    "duration": 15,
    "start_time": "2022-06-01T13:18:46.862Z"
   },
   {
    "duration": 38,
    "start_time": "2022-06-01T13:18:46.878Z"
   },
   {
    "duration": 42,
    "start_time": "2022-06-01T13:18:46.917Z"
   },
   {
    "duration": 5,
    "start_time": "2022-06-01T13:18:46.962Z"
   },
   {
    "duration": 26,
    "start_time": "2022-06-01T13:18:46.969Z"
   },
   {
    "duration": 15,
    "start_time": "2022-06-01T13:18:46.998Z"
   },
   {
    "duration": 1326,
    "start_time": "2022-06-01T13:18:47.015Z"
   },
   {
    "duration": 15,
    "start_time": "2022-06-01T13:18:48.343Z"
   },
   {
    "duration": 24,
    "start_time": "2022-06-01T13:18:48.360Z"
   },
   {
    "duration": 28,
    "start_time": "2022-06-01T13:18:48.386Z"
   },
   {
    "duration": 26,
    "start_time": "2022-06-01T13:18:48.419Z"
   },
   {
    "duration": 38,
    "start_time": "2022-06-01T13:18:48.447Z"
   },
   {
    "duration": 34,
    "start_time": "2022-06-01T13:18:48.487Z"
   },
   {
    "duration": 12,
    "start_time": "2022-06-01T13:18:48.523Z"
   },
   {
    "duration": 1242,
    "start_time": "2022-06-01T13:18:48.537Z"
   },
   {
    "duration": 15,
    "start_time": "2022-06-01T13:18:49.781Z"
   },
   {
    "duration": 58,
    "start_time": "2022-06-01T13:18:49.799Z"
   },
   {
    "duration": 7,
    "start_time": "2022-06-01T13:20:52.083Z"
   },
   {
    "duration": 17,
    "start_time": "2022-06-01T13:20:58.631Z"
   },
   {
    "duration": 3,
    "start_time": "2022-06-01T13:31:14.957Z"
   },
   {
    "duration": 75,
    "start_time": "2022-06-01T13:31:14.962Z"
   },
   {
    "duration": 15,
    "start_time": "2022-06-01T13:31:15.040Z"
   },
   {
    "duration": 20,
    "start_time": "2022-06-01T13:31:15.058Z"
   },
   {
    "duration": 11,
    "start_time": "2022-06-01T13:31:15.080Z"
   },
   {
    "duration": 12,
    "start_time": "2022-06-01T13:31:15.092Z"
   },
   {
    "duration": 42,
    "start_time": "2022-06-01T13:31:15.105Z"
   },
   {
    "duration": 21,
    "start_time": "2022-06-01T13:31:15.149Z"
   },
   {
    "duration": 17,
    "start_time": "2022-06-01T13:31:15.172Z"
   },
   {
    "duration": 4,
    "start_time": "2022-06-01T13:31:15.191Z"
   },
   {
    "duration": 13,
    "start_time": "2022-06-01T13:31:15.198Z"
   },
   {
    "duration": 19,
    "start_time": "2022-06-01T13:31:15.213Z"
   },
   {
    "duration": 27,
    "start_time": "2022-06-01T13:31:15.235Z"
   },
   {
    "duration": 9,
    "start_time": "2022-06-01T13:31:15.263Z"
   },
   {
    "duration": 11,
    "start_time": "2022-06-01T13:31:15.274Z"
   },
   {
    "duration": 4,
    "start_time": "2022-06-01T13:31:15.287Z"
   },
   {
    "duration": 7,
    "start_time": "2022-06-01T13:31:15.293Z"
   },
   {
    "duration": 1217,
    "start_time": "2022-06-01T13:31:15.302Z"
   },
   {
    "duration": 29,
    "start_time": "2022-06-01T13:31:16.521Z"
   },
   {
    "duration": 23,
    "start_time": "2022-06-01T13:31:16.555Z"
   },
   {
    "duration": 16,
    "start_time": "2022-06-01T13:31:16.580Z"
   },
   {
    "duration": 15,
    "start_time": "2022-06-01T13:31:16.598Z"
   },
   {
    "duration": 10,
    "start_time": "2022-06-01T13:31:16.615Z"
   },
   {
    "duration": 24,
    "start_time": "2022-06-01T13:31:16.639Z"
   },
   {
    "duration": 1430,
    "start_time": "2022-06-01T13:31:16.666Z"
   },
   {
    "duration": 14,
    "start_time": "2022-06-01T13:31:18.098Z"
   },
   {
    "duration": 22,
    "start_time": "2022-06-01T13:31:18.114Z"
   },
   {
    "duration": 33,
    "start_time": "2022-06-01T13:31:18.138Z"
   },
   {
    "duration": 9,
    "start_time": "2022-06-01T13:31:18.175Z"
   },
   {
    "duration": 19,
    "start_time": "2022-06-01T13:31:18.186Z"
   },
   {
    "duration": 17,
    "start_time": "2022-06-01T13:31:18.206Z"
   },
   {
    "duration": 7,
    "start_time": "2022-06-01T13:31:18.225Z"
   },
   {
    "duration": 1257,
    "start_time": "2022-06-01T13:31:18.233Z"
   },
   {
    "duration": 14,
    "start_time": "2022-06-01T13:31:19.492Z"
   },
   {
    "duration": 33,
    "start_time": "2022-06-01T13:31:19.508Z"
   },
   {
    "duration": 26,
    "start_time": "2022-06-01T13:31:19.543Z"
   },
   {
    "duration": 23,
    "start_time": "2022-06-01T13:31:19.571Z"
   },
   {
    "duration": 27,
    "start_time": "2022-06-01T13:31:46.032Z"
   },
   {
    "duration": 4,
    "start_time": "2022-06-01T13:31:57.690Z"
   },
   {
    "duration": 59,
    "start_time": "2022-06-01T13:31:57.695Z"
   },
   {
    "duration": 13,
    "start_time": "2022-06-01T13:31:57.756Z"
   },
   {
    "duration": 20,
    "start_time": "2022-06-01T13:31:57.771Z"
   },
   {
    "duration": 9,
    "start_time": "2022-06-01T13:31:57.792Z"
   },
   {
    "duration": 44,
    "start_time": "2022-06-01T13:31:57.802Z"
   },
   {
    "duration": 25,
    "start_time": "2022-06-01T13:31:57.848Z"
   },
   {
    "duration": 9,
    "start_time": "2022-06-01T13:31:57.875Z"
   },
   {
    "duration": 16,
    "start_time": "2022-06-01T13:31:57.886Z"
   },
   {
    "duration": 4,
    "start_time": "2022-06-01T13:31:57.904Z"
   },
   {
    "duration": 7,
    "start_time": "2022-06-01T13:31:57.910Z"
   },
   {
    "duration": 13,
    "start_time": "2022-06-01T13:31:57.931Z"
   },
   {
    "duration": 27,
    "start_time": "2022-06-01T13:31:57.946Z"
   },
   {
    "duration": 18,
    "start_time": "2022-06-01T13:31:57.975Z"
   },
   {
    "duration": 15,
    "start_time": "2022-06-01T13:31:57.995Z"
   },
   {
    "duration": 35,
    "start_time": "2022-06-01T13:31:58.011Z"
   },
   {
    "duration": 9,
    "start_time": "2022-06-01T13:31:58.048Z"
   },
   {
    "duration": 1158,
    "start_time": "2022-06-01T13:31:58.058Z"
   },
   {
    "duration": 21,
    "start_time": "2022-06-01T13:31:59.220Z"
   },
   {
    "duration": 39,
    "start_time": "2022-06-01T13:31:59.242Z"
   },
   {
    "duration": 19,
    "start_time": "2022-06-01T13:31:59.287Z"
   },
   {
    "duration": 13,
    "start_time": "2022-06-01T13:31:59.309Z"
   },
   {
    "duration": 15,
    "start_time": "2022-06-01T13:31:59.325Z"
   },
   {
    "duration": 19,
    "start_time": "2022-06-01T13:31:59.342Z"
   },
   {
    "duration": 1289,
    "start_time": "2022-06-01T13:31:59.363Z"
   },
   {
    "duration": 17,
    "start_time": "2022-06-01T13:32:00.655Z"
   },
   {
    "duration": 23,
    "start_time": "2022-06-01T13:32:00.674Z"
   },
   {
    "duration": 8,
    "start_time": "2022-06-01T13:32:00.700Z"
   },
   {
    "duration": 10,
    "start_time": "2022-06-01T13:32:00.712Z"
   },
   {
    "duration": 34,
    "start_time": "2022-06-01T13:32:00.727Z"
   },
   {
    "duration": 27,
    "start_time": "2022-06-01T13:32:00.763Z"
   },
   {
    "duration": 4,
    "start_time": "2022-06-01T13:32:00.792Z"
   },
   {
    "duration": 1112,
    "start_time": "2022-06-01T13:32:00.797Z"
   },
   {
    "duration": 28,
    "start_time": "2022-06-01T13:32:01.912Z"
   },
   {
    "duration": 88,
    "start_time": "2022-06-01T13:32:01.947Z"
   },
   {
    "duration": 58,
    "start_time": "2022-06-01T13:32:02.040Z"
   },
   {
    "duration": 37,
    "start_time": "2022-06-01T13:32:02.101Z"
   },
   {
    "duration": 5,
    "start_time": "2022-06-01T13:32:27.436Z"
   },
   {
    "duration": 88,
    "start_time": "2022-06-01T13:32:27.444Z"
   },
   {
    "duration": 17,
    "start_time": "2022-06-01T13:32:27.541Z"
   },
   {
    "duration": 15,
    "start_time": "2022-06-01T13:32:27.560Z"
   },
   {
    "duration": 10,
    "start_time": "2022-06-01T13:32:27.577Z"
   },
   {
    "duration": 6,
    "start_time": "2022-06-01T13:32:27.589Z"
   },
   {
    "duration": 47,
    "start_time": "2022-06-01T13:32:27.597Z"
   },
   {
    "duration": 14,
    "start_time": "2022-06-01T13:32:27.646Z"
   },
   {
    "duration": 19,
    "start_time": "2022-06-01T13:32:27.662Z"
   },
   {
    "duration": 9,
    "start_time": "2022-06-01T13:32:27.683Z"
   },
   {
    "duration": 4,
    "start_time": "2022-06-01T13:32:27.695Z"
   },
   {
    "duration": 10,
    "start_time": "2022-06-01T13:32:27.701Z"
   },
   {
    "duration": 34,
    "start_time": "2022-06-01T13:32:27.713Z"
   },
   {
    "duration": 8,
    "start_time": "2022-06-01T13:32:27.750Z"
   },
   {
    "duration": 12,
    "start_time": "2022-06-01T13:32:27.759Z"
   },
   {
    "duration": 11,
    "start_time": "2022-06-01T13:32:27.772Z"
   },
   {
    "duration": 5,
    "start_time": "2022-06-01T13:32:27.784Z"
   },
   {
    "duration": 1279,
    "start_time": "2022-06-01T13:32:27.791Z"
   },
   {
    "duration": 15,
    "start_time": "2022-06-01T13:32:29.072Z"
   },
   {
    "duration": 24,
    "start_time": "2022-06-01T13:32:29.089Z"
   },
   {
    "duration": 18,
    "start_time": "2022-06-01T13:32:29.128Z"
   },
   {
    "duration": 10,
    "start_time": "2022-06-01T13:32:29.148Z"
   },
   {
    "duration": 10,
    "start_time": "2022-06-01T13:32:29.160Z"
   },
   {
    "duration": 6,
    "start_time": "2022-06-01T13:32:29.171Z"
   },
   {
    "duration": 1355,
    "start_time": "2022-06-01T13:32:29.178Z"
   },
   {
    "duration": 18,
    "start_time": "2022-06-01T13:32:30.541Z"
   },
   {
    "duration": 29,
    "start_time": "2022-06-01T13:32:30.560Z"
   },
   {
    "duration": 49,
    "start_time": "2022-06-01T13:32:30.591Z"
   },
   {
    "duration": 43,
    "start_time": "2022-06-01T13:32:30.647Z"
   },
   {
    "duration": 20,
    "start_time": "2022-06-01T13:32:30.692Z"
   },
   {
    "duration": 35,
    "start_time": "2022-06-01T13:32:30.716Z"
   },
   {
    "duration": 4,
    "start_time": "2022-06-01T13:32:30.753Z"
   },
   {
    "duration": 1094,
    "start_time": "2022-06-01T13:32:30.759Z"
   },
   {
    "duration": 17,
    "start_time": "2022-06-01T13:32:31.856Z"
   },
   {
    "duration": 53,
    "start_time": "2022-06-01T13:32:31.875Z"
   },
   {
    "duration": 35,
    "start_time": "2022-06-01T13:32:31.931Z"
   },
   {
    "duration": 40,
    "start_time": "2022-06-01T13:32:31.968Z"
   },
   {
    "duration": 3,
    "start_time": "2022-06-01T13:50:43.366Z"
   },
   {
    "duration": 4,
    "start_time": "2022-06-01T13:57:17.210Z"
   },
   {
    "duration": 79,
    "start_time": "2022-06-01T13:57:17.216Z"
   },
   {
    "duration": 14,
    "start_time": "2022-06-01T13:57:17.296Z"
   },
   {
    "duration": 27,
    "start_time": "2022-06-01T13:57:17.312Z"
   },
   {
    "duration": 28,
    "start_time": "2022-06-01T13:57:17.344Z"
   },
   {
    "duration": 6,
    "start_time": "2022-06-01T13:57:17.374Z"
   },
   {
    "duration": 30,
    "start_time": "2022-06-01T13:57:17.382Z"
   },
   {
    "duration": 18,
    "start_time": "2022-06-01T13:57:17.414Z"
   },
   {
    "duration": 27,
    "start_time": "2022-06-01T13:57:17.435Z"
   },
   {
    "duration": 16,
    "start_time": "2022-06-01T13:57:17.464Z"
   },
   {
    "duration": 12,
    "start_time": "2022-06-01T13:57:17.482Z"
   },
   {
    "duration": 26,
    "start_time": "2022-06-01T13:57:17.497Z"
   },
   {
    "duration": 25,
    "start_time": "2022-06-01T13:57:17.526Z"
   },
   {
    "duration": 14,
    "start_time": "2022-06-01T13:57:17.553Z"
   },
   {
    "duration": 4,
    "start_time": "2022-06-01T13:57:17.569Z"
   },
   {
    "duration": 6,
    "start_time": "2022-06-01T13:57:17.575Z"
   },
   {
    "duration": 1291,
    "start_time": "2022-06-01T13:57:17.583Z"
   },
   {
    "duration": 21,
    "start_time": "2022-06-01T13:57:18.876Z"
   },
   {
    "duration": 43,
    "start_time": "2022-06-01T13:57:18.899Z"
   },
   {
    "duration": 24,
    "start_time": "2022-06-01T13:57:18.944Z"
   },
   {
    "duration": 8,
    "start_time": "2022-06-01T13:57:18.970Z"
   },
   {
    "duration": 5,
    "start_time": "2022-06-01T13:57:18.980Z"
   },
   {
    "duration": 1189,
    "start_time": "2022-06-01T13:57:18.987Z"
   },
   {
    "duration": 13,
    "start_time": "2022-06-01T13:57:20.178Z"
   },
   {
    "duration": 17,
    "start_time": "2022-06-01T13:57:20.192Z"
   },
   {
    "duration": 27,
    "start_time": "2022-06-01T13:57:20.211Z"
   },
   {
    "duration": 18,
    "start_time": "2022-06-01T13:57:20.239Z"
   },
   {
    "duration": 21,
    "start_time": "2022-06-01T13:57:20.259Z"
   },
   {
    "duration": 18,
    "start_time": "2022-06-01T13:57:20.283Z"
   },
   {
    "duration": 3,
    "start_time": "2022-06-01T13:57:20.306Z"
   },
   {
    "duration": 1306,
    "start_time": "2022-06-01T13:57:20.311Z"
   },
   {
    "duration": 23,
    "start_time": "2022-06-01T13:57:21.619Z"
   },
   {
    "duration": 46,
    "start_time": "2022-06-01T13:57:21.645Z"
   },
   {
    "duration": 6,
    "start_time": "2022-06-01T13:57:21.693Z"
   },
   {
    "duration": 19,
    "start_time": "2022-06-01T13:57:21.701Z"
   },
   {
    "duration": 4,
    "start_time": "2022-06-01T13:58:05.145Z"
   },
   {
    "duration": 80,
    "start_time": "2022-06-01T13:58:05.151Z"
   },
   {
    "duration": 16,
    "start_time": "2022-06-01T13:58:05.233Z"
   },
   {
    "duration": 21,
    "start_time": "2022-06-01T13:58:05.251Z"
   },
   {
    "duration": 14,
    "start_time": "2022-06-01T13:58:05.274Z"
   },
   {
    "duration": 3,
    "start_time": "2022-06-01T13:58:05.290Z"
   },
   {
    "duration": 41,
    "start_time": "2022-06-01T13:58:05.296Z"
   },
   {
    "duration": 32,
    "start_time": "2022-06-01T13:58:05.339Z"
   },
   {
    "duration": 16,
    "start_time": "2022-06-01T13:58:05.373Z"
   },
   {
    "duration": 9,
    "start_time": "2022-06-01T13:58:05.391Z"
   },
   {
    "duration": 18,
    "start_time": "2022-06-01T13:58:05.402Z"
   },
   {
    "duration": 47,
    "start_time": "2022-06-01T13:58:05.422Z"
   },
   {
    "duration": 6,
    "start_time": "2022-06-01T13:58:05.473Z"
   },
   {
    "duration": 18,
    "start_time": "2022-06-01T13:58:05.481Z"
   },
   {
    "duration": 5,
    "start_time": "2022-06-01T13:58:05.501Z"
   },
   {
    "duration": 9,
    "start_time": "2022-06-01T13:58:05.508Z"
   },
   {
    "duration": 1270,
    "start_time": "2022-06-01T13:58:05.519Z"
   },
   {
    "duration": 16,
    "start_time": "2022-06-01T13:58:06.791Z"
   },
   {
    "duration": 38,
    "start_time": "2022-06-01T13:58:06.808Z"
   },
   {
    "duration": 24,
    "start_time": "2022-06-01T13:58:06.847Z"
   },
   {
    "duration": 8,
    "start_time": "2022-06-01T13:58:06.872Z"
   },
   {
    "duration": 9,
    "start_time": "2022-06-01T13:58:06.881Z"
   },
   {
    "duration": 1183,
    "start_time": "2022-06-01T13:58:06.892Z"
   },
   {
    "duration": 14,
    "start_time": "2022-06-01T13:58:08.077Z"
   },
   {
    "duration": 15,
    "start_time": "2022-06-01T13:58:08.093Z"
   },
   {
    "duration": 25,
    "start_time": "2022-06-01T13:58:08.110Z"
   },
   {
    "duration": 25,
    "start_time": "2022-06-01T13:58:08.137Z"
   },
   {
    "duration": 22,
    "start_time": "2022-06-01T13:58:08.164Z"
   },
   {
    "duration": 17,
    "start_time": "2022-06-01T13:58:08.188Z"
   },
   {
    "duration": 4,
    "start_time": "2022-06-01T13:58:08.207Z"
   },
   {
    "duration": 1145,
    "start_time": "2022-06-01T13:58:08.213Z"
   },
   {
    "duration": 15,
    "start_time": "2022-06-01T13:58:09.359Z"
   },
   {
    "duration": 26,
    "start_time": "2022-06-01T13:58:09.376Z"
   },
   {
    "duration": 66,
    "start_time": "2022-06-01T13:58:09.404Z"
   },
   {
    "duration": 26,
    "start_time": "2022-06-01T13:58:09.473Z"
   },
   {
    "duration": 23,
    "start_time": "2022-06-01T13:58:58.505Z"
   },
   {
    "duration": 26,
    "start_time": "2022-06-01T13:59:09.373Z"
   },
   {
    "duration": 3,
    "start_time": "2022-06-01T13:59:16.106Z"
   },
   {
    "duration": 68,
    "start_time": "2022-06-01T13:59:16.112Z"
   },
   {
    "duration": 14,
    "start_time": "2022-06-01T13:59:16.182Z"
   },
   {
    "duration": 23,
    "start_time": "2022-06-01T13:59:16.198Z"
   },
   {
    "duration": 17,
    "start_time": "2022-06-01T13:59:16.223Z"
   },
   {
    "duration": 12,
    "start_time": "2022-06-01T13:59:16.242Z"
   },
   {
    "duration": 37,
    "start_time": "2022-06-01T13:59:16.256Z"
   },
   {
    "duration": 8,
    "start_time": "2022-06-01T13:59:16.295Z"
   },
   {
    "duration": 29,
    "start_time": "2022-06-01T13:59:16.306Z"
   },
   {
    "duration": 14,
    "start_time": "2022-06-01T13:59:16.344Z"
   },
   {
    "duration": 14,
    "start_time": "2022-06-01T13:59:16.360Z"
   },
   {
    "duration": 18,
    "start_time": "2022-06-01T13:59:16.376Z"
   },
   {
    "duration": 7,
    "start_time": "2022-06-01T13:59:16.397Z"
   },
   {
    "duration": 15,
    "start_time": "2022-06-01T13:59:16.406Z"
   },
   {
    "duration": 6,
    "start_time": "2022-06-01T13:59:16.423Z"
   },
   {
    "duration": 29,
    "start_time": "2022-06-01T13:59:16.431Z"
   },
   {
    "duration": 1179,
    "start_time": "2022-06-01T13:59:16.461Z"
   },
   {
    "duration": 21,
    "start_time": "2022-06-01T13:59:17.642Z"
   },
   {
    "duration": 27,
    "start_time": "2022-06-01T13:59:17.665Z"
   },
   {
    "duration": 36,
    "start_time": "2022-06-01T13:59:17.694Z"
   },
   {
    "duration": 17,
    "start_time": "2022-06-01T13:59:17.731Z"
   },
   {
    "duration": 6,
    "start_time": "2022-06-01T13:59:17.750Z"
   },
   {
    "duration": 1263,
    "start_time": "2022-06-01T13:59:17.758Z"
   },
   {
    "duration": 14,
    "start_time": "2022-06-01T13:59:19.025Z"
   },
   {
    "duration": 23,
    "start_time": "2022-06-01T13:59:19.040Z"
   },
   {
    "duration": 8,
    "start_time": "2022-06-01T13:59:19.065Z"
   },
   {
    "duration": 7,
    "start_time": "2022-06-01T13:59:19.075Z"
   },
   {
    "duration": 21,
    "start_time": "2022-06-01T13:59:19.084Z"
   },
   {
    "duration": 39,
    "start_time": "2022-06-01T13:59:19.107Z"
   },
   {
    "duration": 6,
    "start_time": "2022-06-01T13:59:19.148Z"
   },
   {
    "duration": 1163,
    "start_time": "2022-06-01T13:59:19.156Z"
   },
   {
    "duration": 26,
    "start_time": "2022-06-01T13:59:20.321Z"
   },
   {
    "duration": 26,
    "start_time": "2022-06-01T13:59:20.349Z"
   },
   {
    "duration": 9,
    "start_time": "2022-06-01T13:59:20.377Z"
   },
   {
    "duration": 24,
    "start_time": "2022-06-01T13:59:20.388Z"
   },
   {
    "duration": 14,
    "start_time": "2022-06-01T14:01:43.367Z"
   },
   {
    "duration": 5,
    "start_time": "2022-06-01T14:01:51.924Z"
   },
   {
    "duration": 70,
    "start_time": "2022-06-01T14:01:51.934Z"
   },
   {
    "duration": 14,
    "start_time": "2022-06-01T14:01:52.007Z"
   },
   {
    "duration": 27,
    "start_time": "2022-06-01T14:01:52.024Z"
   },
   {
    "duration": 15,
    "start_time": "2022-06-01T14:01:52.053Z"
   },
   {
    "duration": 6,
    "start_time": "2022-06-01T14:01:52.069Z"
   },
   {
    "duration": 23,
    "start_time": "2022-06-01T14:01:52.076Z"
   },
   {
    "duration": 26,
    "start_time": "2022-06-01T14:01:52.101Z"
   },
   {
    "duration": 32,
    "start_time": "2022-06-01T14:01:52.129Z"
   },
   {
    "duration": 9,
    "start_time": "2022-06-01T14:01:52.163Z"
   },
   {
    "duration": 10,
    "start_time": "2022-06-01T14:01:52.174Z"
   },
   {
    "duration": 35,
    "start_time": "2022-06-01T14:01:52.186Z"
   },
   {
    "duration": 12,
    "start_time": "2022-06-01T14:01:52.237Z"
   },
   {
    "duration": 42,
    "start_time": "2022-06-01T14:01:52.251Z"
   },
   {
    "duration": 19,
    "start_time": "2022-06-01T14:01:52.295Z"
   },
   {
    "duration": 30,
    "start_time": "2022-06-01T14:01:52.316Z"
   },
   {
    "duration": 1207,
    "start_time": "2022-06-01T14:01:52.347Z"
   },
   {
    "duration": 16,
    "start_time": "2022-06-01T14:01:53.556Z"
   },
   {
    "duration": 24,
    "start_time": "2022-06-01T14:01:53.574Z"
   },
   {
    "duration": 40,
    "start_time": "2022-06-01T14:01:53.600Z"
   },
   {
    "duration": 7,
    "start_time": "2022-06-01T14:01:53.645Z"
   },
   {
    "duration": 14,
    "start_time": "2022-06-01T14:01:53.653Z"
   },
   {
    "duration": 1366,
    "start_time": "2022-06-01T14:01:53.669Z"
   },
   {
    "duration": 17,
    "start_time": "2022-06-01T14:01:55.039Z"
   },
   {
    "duration": 14,
    "start_time": "2022-06-01T14:01:55.058Z"
   },
   {
    "duration": 6,
    "start_time": "2022-06-01T14:01:55.073Z"
   },
   {
    "duration": 12,
    "start_time": "2022-06-01T14:01:55.081Z"
   },
   {
    "duration": 47,
    "start_time": "2022-06-01T14:01:55.095Z"
   },
   {
    "duration": 27,
    "start_time": "2022-06-01T14:01:55.148Z"
   },
   {
    "duration": 3,
    "start_time": "2022-06-01T14:01:55.177Z"
   },
   {
    "duration": 1025,
    "start_time": "2022-06-01T14:01:55.181Z"
   },
   {
    "duration": 23,
    "start_time": "2022-06-01T14:01:56.208Z"
   },
   {
    "duration": 32,
    "start_time": "2022-06-01T14:01:56.236Z"
   },
   {
    "duration": 5,
    "start_time": "2022-06-01T14:01:56.269Z"
   },
   {
    "duration": 27,
    "start_time": "2022-06-01T14:01:56.276Z"
   },
   {
    "duration": 21,
    "start_time": "2022-06-01T14:01:56.305Z"
   },
   {
    "duration": 14,
    "start_time": "2022-06-01T14:02:52.004Z"
   },
   {
    "duration": 4,
    "start_time": "2022-06-01T14:03:20.372Z"
   },
   {
    "duration": 82,
    "start_time": "2022-06-01T14:03:20.379Z"
   },
   {
    "duration": 21,
    "start_time": "2022-06-01T14:03:20.463Z"
   },
   {
    "duration": 18,
    "start_time": "2022-06-01T14:03:20.486Z"
   },
   {
    "duration": 37,
    "start_time": "2022-06-01T14:03:20.506Z"
   },
   {
    "duration": 11,
    "start_time": "2022-06-01T14:03:20.546Z"
   },
   {
    "duration": 16,
    "start_time": "2022-06-01T14:03:20.559Z"
   },
   {
    "duration": 8,
    "start_time": "2022-06-01T14:03:20.576Z"
   },
   {
    "duration": 17,
    "start_time": "2022-06-01T14:03:20.585Z"
   },
   {
    "duration": 13,
    "start_time": "2022-06-01T14:03:20.603Z"
   },
   {
    "duration": 36,
    "start_time": "2022-06-01T14:03:20.619Z"
   },
   {
    "duration": 20,
    "start_time": "2022-06-01T14:03:20.657Z"
   },
   {
    "duration": 16,
    "start_time": "2022-06-01T14:03:20.679Z"
   },
   {
    "duration": 17,
    "start_time": "2022-06-01T14:03:20.697Z"
   },
   {
    "duration": 5,
    "start_time": "2022-06-01T14:03:20.715Z"
   },
   {
    "duration": 16,
    "start_time": "2022-06-01T14:03:20.721Z"
   },
   {
    "duration": 1272,
    "start_time": "2022-06-01T14:03:20.739Z"
   },
   {
    "duration": 27,
    "start_time": "2022-06-01T14:03:22.013Z"
   },
   {
    "duration": 25,
    "start_time": "2022-06-01T14:03:22.049Z"
   },
   {
    "duration": 21,
    "start_time": "2022-06-01T14:03:22.076Z"
   },
   {
    "duration": 6,
    "start_time": "2022-06-01T14:03:22.099Z"
   },
   {
    "duration": 25,
    "start_time": "2022-06-01T14:03:22.107Z"
   },
   {
    "duration": 1175,
    "start_time": "2022-06-01T14:03:22.134Z"
   },
   {
    "duration": 27,
    "start_time": "2022-06-01T14:03:23.311Z"
   },
   {
    "duration": 11,
    "start_time": "2022-06-01T14:03:23.345Z"
   },
   {
    "duration": 6,
    "start_time": "2022-06-01T14:03:23.358Z"
   },
   {
    "duration": 12,
    "start_time": "2022-06-01T14:03:23.365Z"
   },
   {
    "duration": 25,
    "start_time": "2022-06-01T14:03:23.379Z"
   },
   {
    "duration": 37,
    "start_time": "2022-06-01T14:03:23.408Z"
   },
   {
    "duration": 3,
    "start_time": "2022-06-01T14:03:23.447Z"
   },
   {
    "duration": 1216,
    "start_time": "2022-06-01T14:03:23.452Z"
   },
   {
    "duration": 19,
    "start_time": "2022-06-01T14:03:24.670Z"
   },
   {
    "duration": 49,
    "start_time": "2022-06-01T14:03:24.691Z"
   },
   {
    "duration": 41,
    "start_time": "2022-06-01T14:03:24.742Z"
   },
   {
    "duration": 38,
    "start_time": "2022-06-01T14:03:24.786Z"
   },
   {
    "duration": 34,
    "start_time": "2022-06-01T14:03:24.835Z"
   },
   {
    "duration": 22,
    "start_time": "2022-06-01T14:03:49.920Z"
   },
   {
    "duration": 9,
    "start_time": "2022-06-01T14:05:28.156Z"
   },
   {
    "duration": 510,
    "start_time": "2022-06-01T14:05:57.064Z"
   },
   {
    "duration": 4,
    "start_time": "2022-06-01T14:06:08.690Z"
   },
   {
    "duration": 75,
    "start_time": "2022-06-01T14:06:08.697Z"
   },
   {
    "duration": 20,
    "start_time": "2022-06-01T14:06:08.775Z"
   },
   {
    "duration": 47,
    "start_time": "2022-06-01T14:06:08.797Z"
   },
   {
    "duration": 19,
    "start_time": "2022-06-01T14:06:08.847Z"
   },
   {
    "duration": 13,
    "start_time": "2022-06-01T14:06:08.869Z"
   },
   {
    "duration": 19,
    "start_time": "2022-06-01T14:06:08.884Z"
   },
   {
    "duration": 11,
    "start_time": "2022-06-01T14:06:08.904Z"
   },
   {
    "duration": 18,
    "start_time": "2022-06-01T14:06:08.917Z"
   },
   {
    "duration": 13,
    "start_time": "2022-06-01T14:06:08.940Z"
   },
   {
    "duration": 12,
    "start_time": "2022-06-01T14:06:08.956Z"
   },
   {
    "duration": 28,
    "start_time": "2022-06-01T14:06:08.970Z"
   },
   {
    "duration": 11,
    "start_time": "2022-06-01T14:06:09.000Z"
   },
   {
    "duration": 24,
    "start_time": "2022-06-01T14:06:09.013Z"
   },
   {
    "duration": 6,
    "start_time": "2022-06-01T14:06:09.041Z"
   },
   {
    "duration": 26,
    "start_time": "2022-06-01T14:06:09.049Z"
   },
   {
    "duration": 1367,
    "start_time": "2022-06-01T14:06:09.077Z"
   },
   {
    "duration": 23,
    "start_time": "2022-06-01T14:06:10.446Z"
   },
   {
    "duration": 25,
    "start_time": "2022-06-01T14:06:10.472Z"
   },
   {
    "duration": 24,
    "start_time": "2022-06-01T14:06:10.498Z"
   },
   {
    "duration": 20,
    "start_time": "2022-06-01T14:06:10.526Z"
   },
   {
    "duration": 10,
    "start_time": "2022-06-01T14:06:10.554Z"
   },
   {
    "duration": 1808,
    "start_time": "2022-06-01T14:06:10.566Z"
   },
   {
    "duration": 19,
    "start_time": "2022-06-01T14:06:12.376Z"
   },
   {
    "duration": 23,
    "start_time": "2022-06-01T14:06:12.398Z"
   },
   {
    "duration": 18,
    "start_time": "2022-06-01T14:06:12.423Z"
   },
   {
    "duration": 24,
    "start_time": "2022-06-01T14:06:12.447Z"
   },
   {
    "duration": 28,
    "start_time": "2022-06-01T14:06:12.474Z"
   },
   {
    "duration": 32,
    "start_time": "2022-06-01T14:06:12.507Z"
   },
   {
    "duration": 4,
    "start_time": "2022-06-01T14:06:12.544Z"
   },
   {
    "duration": 1269,
    "start_time": "2022-06-01T14:06:12.551Z"
   },
   {
    "duration": 24,
    "start_time": "2022-06-01T14:06:13.822Z"
   },
   {
    "duration": 43,
    "start_time": "2022-06-01T14:06:13.850Z"
   },
   {
    "duration": 5,
    "start_time": "2022-06-01T14:06:13.895Z"
   },
   {
    "duration": 23,
    "start_time": "2022-06-01T14:06:13.903Z"
   },
   {
    "duration": 33,
    "start_time": "2022-06-01T14:06:13.927Z"
   },
   {
    "duration": 224,
    "start_time": "2022-06-01T14:06:13.962Z"
   },
   {
    "duration": 4,
    "start_time": "2022-06-01T14:07:05.399Z"
   },
   {
    "duration": 87,
    "start_time": "2022-06-01T14:07:05.405Z"
   },
   {
    "duration": 15,
    "start_time": "2022-06-01T14:07:05.493Z"
   },
   {
    "duration": 22,
    "start_time": "2022-06-01T14:07:05.511Z"
   },
   {
    "duration": 24,
    "start_time": "2022-06-01T14:07:05.535Z"
   },
   {
    "duration": 4,
    "start_time": "2022-06-01T14:07:05.561Z"
   },
   {
    "duration": 33,
    "start_time": "2022-06-01T14:07:05.567Z"
   },
   {
    "duration": 11,
    "start_time": "2022-06-01T14:07:05.601Z"
   },
   {
    "duration": 5,
    "start_time": "2022-06-01T14:07:05.614Z"
   },
   {
    "duration": 29,
    "start_time": "2022-06-01T14:07:05.621Z"
   },
   {
    "duration": 11,
    "start_time": "2022-06-01T14:07:05.652Z"
   },
   {
    "duration": 24,
    "start_time": "2022-06-01T14:07:05.664Z"
   },
   {
    "duration": 23,
    "start_time": "2022-06-01T14:07:05.690Z"
   },
   {
    "duration": 26,
    "start_time": "2022-06-01T14:07:05.714Z"
   },
   {
    "duration": 7,
    "start_time": "2022-06-01T14:07:05.744Z"
   },
   {
    "duration": 9,
    "start_time": "2022-06-01T14:07:05.753Z"
   },
   {
    "duration": 1186,
    "start_time": "2022-06-01T14:07:05.763Z"
   },
   {
    "duration": 14,
    "start_time": "2022-06-01T14:07:06.951Z"
   },
   {
    "duration": 33,
    "start_time": "2022-06-01T14:07:06.967Z"
   },
   {
    "duration": 31,
    "start_time": "2022-06-01T14:07:07.002Z"
   },
   {
    "duration": 10,
    "start_time": "2022-06-01T14:07:07.038Z"
   },
   {
    "duration": 18,
    "start_time": "2022-06-01T14:07:07.049Z"
   },
   {
    "duration": 1282,
    "start_time": "2022-06-01T14:07:07.071Z"
   },
   {
    "duration": 13,
    "start_time": "2022-06-01T14:07:08.357Z"
   },
   {
    "duration": 13,
    "start_time": "2022-06-01T14:07:08.372Z"
   },
   {
    "duration": 9,
    "start_time": "2022-06-01T14:07:08.387Z"
   },
   {
    "duration": 11,
    "start_time": "2022-06-01T14:07:08.397Z"
   },
   {
    "duration": 34,
    "start_time": "2022-06-01T14:07:08.410Z"
   },
   {
    "duration": 18,
    "start_time": "2022-06-01T14:07:08.449Z"
   },
   {
    "duration": 3,
    "start_time": "2022-06-01T14:07:08.470Z"
   },
   {
    "duration": 1080,
    "start_time": "2022-06-01T14:07:08.474Z"
   },
   {
    "duration": 14,
    "start_time": "2022-06-01T14:07:09.556Z"
   },
   {
    "duration": 35,
    "start_time": "2022-06-01T14:07:09.571Z"
   },
   {
    "duration": 5,
    "start_time": "2022-06-01T14:07:09.608Z"
   },
   {
    "duration": 26,
    "start_time": "2022-06-01T14:07:09.628Z"
   },
   {
    "duration": 25,
    "start_time": "2022-06-01T14:07:09.655Z"
   },
   {
    "duration": 164,
    "start_time": "2022-06-01T14:07:09.683Z"
   },
   {
    "duration": 159,
    "start_time": "2022-06-01T14:08:59.014Z"
   },
   {
    "duration": 621,
    "start_time": "2022-06-01T14:09:06.938Z"
   },
   {
    "duration": 568,
    "start_time": "2022-06-01T14:09:38.899Z"
   },
   {
    "duration": 19,
    "start_time": "2022-06-01T14:14:01.226Z"
   },
   {
    "duration": 9,
    "start_time": "2022-06-01T14:14:14.690Z"
   },
   {
    "duration": 6,
    "start_time": "2022-06-01T14:14:43.281Z"
   },
   {
    "duration": 19,
    "start_time": "2022-06-01T14:14:45.576Z"
   },
   {
    "duration": 19,
    "start_time": "2022-06-01T14:15:05.254Z"
   },
   {
    "duration": 14,
    "start_time": "2022-06-01T14:17:14.153Z"
   },
   {
    "duration": 15,
    "start_time": "2022-06-01T14:17:56.962Z"
   },
   {
    "duration": 7,
    "start_time": "2022-06-01T14:18:50.145Z"
   },
   {
    "duration": 5,
    "start_time": "2022-06-01T14:18:57.194Z"
   },
   {
    "duration": 85,
    "start_time": "2022-06-01T14:18:57.201Z"
   },
   {
    "duration": 25,
    "start_time": "2022-06-01T14:18:57.289Z"
   },
   {
    "duration": 99,
    "start_time": "2022-06-01T14:18:57.317Z"
   },
   {
    "duration": 15,
    "start_time": "2022-06-01T14:18:57.419Z"
   },
   {
    "duration": 48,
    "start_time": "2022-06-01T14:18:57.436Z"
   },
   {
    "duration": 35,
    "start_time": "2022-06-01T14:18:57.486Z"
   },
   {
    "duration": 50,
    "start_time": "2022-06-01T14:18:57.523Z"
   },
   {
    "duration": 9,
    "start_time": "2022-06-01T14:18:57.576Z"
   },
   {
    "duration": 13,
    "start_time": "2022-06-01T14:18:57.588Z"
   },
   {
    "duration": 13,
    "start_time": "2022-06-01T14:18:57.604Z"
   },
   {
    "duration": 30,
    "start_time": "2022-06-01T14:18:57.621Z"
   },
   {
    "duration": 33,
    "start_time": "2022-06-01T14:18:57.654Z"
   },
   {
    "duration": 19,
    "start_time": "2022-06-01T14:18:57.690Z"
   },
   {
    "duration": 7,
    "start_time": "2022-06-01T14:18:57.712Z"
   },
   {
    "duration": 36,
    "start_time": "2022-06-01T14:18:57.721Z"
   },
   {
    "duration": 1703,
    "start_time": "2022-06-01T14:18:57.759Z"
   },
   {
    "duration": 23,
    "start_time": "2022-06-01T14:18:59.464Z"
   },
   {
    "duration": 22,
    "start_time": "2022-06-01T14:18:59.489Z"
   },
   {
    "duration": 23,
    "start_time": "2022-06-01T14:18:59.527Z"
   },
   {
    "duration": 10,
    "start_time": "2022-06-01T14:18:59.553Z"
   },
   {
    "duration": 8,
    "start_time": "2022-06-01T14:18:59.565Z"
   },
   {
    "duration": 1481,
    "start_time": "2022-06-01T14:18:59.574Z"
   },
   {
    "duration": 16,
    "start_time": "2022-06-01T14:19:01.057Z"
   },
   {
    "duration": 14,
    "start_time": "2022-06-01T14:19:01.075Z"
   },
   {
    "duration": 14,
    "start_time": "2022-06-01T14:19:01.091Z"
   },
   {
    "duration": 29,
    "start_time": "2022-06-01T14:19:01.107Z"
   },
   {
    "duration": 41,
    "start_time": "2022-06-01T14:19:01.137Z"
   },
   {
    "duration": 6,
    "start_time": "2022-06-01T14:19:01.181Z"
   },
   {
    "duration": 46,
    "start_time": "2022-06-01T14:19:01.189Z"
   },
   {
    "duration": 70,
    "start_time": "2022-06-01T14:19:01.238Z"
   },
   {
    "duration": 85,
    "start_time": "2022-06-01T14:19:01.311Z"
   },
   {
    "duration": 125,
    "start_time": "2022-06-01T14:19:01.400Z"
   },
   {
    "duration": 88,
    "start_time": "2022-06-01T14:19:01.528Z"
   },
   {
    "duration": 65,
    "start_time": "2022-06-01T14:19:01.619Z"
   },
   {
    "duration": 91,
    "start_time": "2022-06-01T14:19:01.686Z"
   },
   {
    "duration": 693,
    "start_time": "2022-06-01T14:19:01.781Z"
   },
   {
    "duration": 16,
    "start_time": "2022-06-01T14:19:26.508Z"
   },
   {
    "duration": 5,
    "start_time": "2022-06-01T14:19:41.666Z"
   },
   {
    "duration": 84,
    "start_time": "2022-06-01T14:19:41.674Z"
   },
   {
    "duration": 14,
    "start_time": "2022-06-01T14:19:41.761Z"
   },
   {
    "duration": 31,
    "start_time": "2022-06-01T14:19:41.777Z"
   },
   {
    "duration": 22,
    "start_time": "2022-06-01T14:19:41.811Z"
   },
   {
    "duration": 7,
    "start_time": "2022-06-01T14:19:41.841Z"
   },
   {
    "duration": 57,
    "start_time": "2022-06-01T14:19:41.850Z"
   },
   {
    "duration": 10,
    "start_time": "2022-06-01T14:19:41.910Z"
   },
   {
    "duration": 41,
    "start_time": "2022-06-01T14:19:41.922Z"
   },
   {
    "duration": 20,
    "start_time": "2022-06-01T14:19:41.965Z"
   },
   {
    "duration": 45,
    "start_time": "2022-06-01T14:19:41.987Z"
   },
   {
    "duration": 106,
    "start_time": "2022-06-01T14:19:42.034Z"
   },
   {
    "duration": 45,
    "start_time": "2022-06-01T14:19:42.145Z"
   },
   {
    "duration": 69,
    "start_time": "2022-06-01T14:19:42.192Z"
   },
   {
    "duration": 6,
    "start_time": "2022-06-01T14:19:42.264Z"
   },
   {
    "duration": 26,
    "start_time": "2022-06-01T14:19:42.272Z"
   },
   {
    "duration": 1350,
    "start_time": "2022-06-01T14:19:42.299Z"
   },
   {
    "duration": 19,
    "start_time": "2022-06-01T14:19:43.652Z"
   },
   {
    "duration": 23,
    "start_time": "2022-06-01T14:19:43.673Z"
   },
   {
    "duration": 51,
    "start_time": "2022-06-01T14:19:43.698Z"
   },
   {
    "duration": 36,
    "start_time": "2022-06-01T14:19:43.751Z"
   },
   {
    "duration": 7,
    "start_time": "2022-06-01T14:19:43.789Z"
   },
   {
    "duration": 1339,
    "start_time": "2022-06-01T14:19:43.798Z"
   },
   {
    "duration": 14,
    "start_time": "2022-06-01T14:19:45.139Z"
   },
   {
    "duration": 15,
    "start_time": "2022-06-01T14:19:45.155Z"
   },
   {
    "duration": 7,
    "start_time": "2022-06-01T14:19:45.172Z"
   },
   {
    "duration": 13,
    "start_time": "2022-06-01T14:19:45.181Z"
   },
   {
    "duration": 40,
    "start_time": "2022-06-01T14:19:45.195Z"
   },
   {
    "duration": 7,
    "start_time": "2022-06-01T14:19:45.242Z"
   },
   {
    "duration": 31,
    "start_time": "2022-06-01T14:19:45.250Z"
   },
   {
    "duration": 19,
    "start_time": "2022-06-01T14:19:45.283Z"
   },
   {
    "duration": 33,
    "start_time": "2022-06-01T14:19:45.304Z"
   },
   {
    "duration": 42,
    "start_time": "2022-06-01T14:19:45.342Z"
   },
   {
    "duration": 6,
    "start_time": "2022-06-01T14:19:45.386Z"
   },
   {
    "duration": 26,
    "start_time": "2022-06-01T14:19:45.394Z"
   },
   {
    "duration": 39,
    "start_time": "2022-06-01T14:19:45.421Z"
   },
   {
    "duration": 589,
    "start_time": "2022-06-01T14:19:45.465Z"
   },
   {
    "duration": 17,
    "start_time": "2022-06-01T14:20:11.595Z"
   },
   {
    "duration": 13,
    "start_time": "2022-06-01T14:20:41.946Z"
   },
   {
    "duration": 29,
    "start_time": "2022-06-01T14:20:53.660Z"
   },
   {
    "duration": 10,
    "start_time": "2022-06-01T14:21:10.761Z"
   },
   {
    "duration": 5,
    "start_time": "2022-06-01T14:23:00.384Z"
   },
   {
    "duration": 91,
    "start_time": "2022-06-01T14:23:00.392Z"
   },
   {
    "duration": 21,
    "start_time": "2022-06-01T14:23:00.485Z"
   },
   {
    "duration": 58,
    "start_time": "2022-06-01T14:23:00.508Z"
   },
   {
    "duration": 25,
    "start_time": "2022-06-01T14:23:00.569Z"
   },
   {
    "duration": 14,
    "start_time": "2022-06-01T14:23:00.597Z"
   },
   {
    "duration": 59,
    "start_time": "2022-06-01T14:23:00.613Z"
   },
   {
    "duration": 32,
    "start_time": "2022-06-01T14:23:00.674Z"
   },
   {
    "duration": 21,
    "start_time": "2022-06-01T14:23:00.709Z"
   },
   {
    "duration": 31,
    "start_time": "2022-06-01T14:23:00.733Z"
   },
   {
    "duration": 23,
    "start_time": "2022-06-01T14:23:00.767Z"
   },
   {
    "duration": 45,
    "start_time": "2022-06-01T14:23:00.793Z"
   },
   {
    "duration": 25,
    "start_time": "2022-06-01T14:23:00.840Z"
   },
   {
    "duration": 41,
    "start_time": "2022-06-01T14:23:00.867Z"
   },
   {
    "duration": 52,
    "start_time": "2022-06-01T14:23:00.910Z"
   },
   {
    "duration": 29,
    "start_time": "2022-06-01T14:23:00.964Z"
   },
   {
    "duration": 1560,
    "start_time": "2022-06-01T14:23:00.995Z"
   },
   {
    "duration": 19,
    "start_time": "2022-06-01T14:23:02.557Z"
   },
   {
    "duration": 26,
    "start_time": "2022-06-01T14:23:02.578Z"
   },
   {
    "duration": 38,
    "start_time": "2022-06-01T14:23:02.606Z"
   },
   {
    "duration": 16,
    "start_time": "2022-06-01T14:23:02.645Z"
   },
   {
    "duration": 8,
    "start_time": "2022-06-01T14:23:02.663Z"
   },
   {
    "duration": 1532,
    "start_time": "2022-06-01T14:23:02.673Z"
   },
   {
    "duration": 20,
    "start_time": "2022-06-01T14:23:04.210Z"
   },
   {
    "duration": 29,
    "start_time": "2022-06-01T14:23:04.232Z"
   },
   {
    "duration": 8,
    "start_time": "2022-06-01T14:23:04.262Z"
   },
   {
    "duration": 11,
    "start_time": "2022-06-01T14:23:04.274Z"
   },
   {
    "duration": 29,
    "start_time": "2022-06-01T14:23:04.287Z"
   },
   {
    "duration": 5,
    "start_time": "2022-06-01T14:23:04.318Z"
   },
   {
    "duration": 42,
    "start_time": "2022-06-01T14:23:04.324Z"
   },
   {
    "duration": 18,
    "start_time": "2022-06-01T14:23:04.368Z"
   },
   {
    "duration": 32,
    "start_time": "2022-06-01T14:23:04.388Z"
   },
   {
    "duration": 0,
    "start_time": "2022-06-01T14:23:04.422Z"
   },
   {
    "duration": 0,
    "start_time": "2022-06-01T14:23:04.424Z"
   },
   {
    "duration": 0,
    "start_time": "2022-06-01T14:23:04.425Z"
   },
   {
    "duration": 0,
    "start_time": "2022-06-01T14:23:04.426Z"
   },
   {
    "duration": 0,
    "start_time": "2022-06-01T14:23:04.427Z"
   },
   {
    "duration": 0,
    "start_time": "2022-06-01T14:23:04.428Z"
   },
   {
    "duration": 6,
    "start_time": "2022-06-01T14:23:22.852Z"
   },
   {
    "duration": 6,
    "start_time": "2022-06-01T14:23:24.568Z"
   },
   {
    "duration": 7,
    "start_time": "2022-06-01T14:23:26.405Z"
   },
   {
    "duration": 19,
    "start_time": "2022-06-01T14:23:28.163Z"
   },
   {
    "duration": 13,
    "start_time": "2022-06-01T14:23:43.627Z"
   },
   {
    "duration": 7,
    "start_time": "2022-06-01T14:23:45.149Z"
   },
   {
    "duration": 22,
    "start_time": "2022-06-01T14:23:46.287Z"
   },
   {
    "duration": 5,
    "start_time": "2022-06-01T14:23:53.420Z"
   },
   {
    "duration": 106,
    "start_time": "2022-06-01T14:23:53.428Z"
   },
   {
    "duration": 22,
    "start_time": "2022-06-01T14:23:53.536Z"
   },
   {
    "duration": 25,
    "start_time": "2022-06-01T14:23:53.562Z"
   },
   {
    "duration": 15,
    "start_time": "2022-06-01T14:23:53.589Z"
   },
   {
    "duration": 57,
    "start_time": "2022-06-01T14:23:53.628Z"
   },
   {
    "duration": 29,
    "start_time": "2022-06-01T14:23:53.687Z"
   },
   {
    "duration": 12,
    "start_time": "2022-06-01T14:23:53.719Z"
   },
   {
    "duration": 28,
    "start_time": "2022-06-01T14:23:53.734Z"
   },
   {
    "duration": 12,
    "start_time": "2022-06-01T14:23:53.764Z"
   },
   {
    "duration": 21,
    "start_time": "2022-06-01T14:23:53.779Z"
   },
   {
    "duration": 30,
    "start_time": "2022-06-01T14:23:53.802Z"
   },
   {
    "duration": 18,
    "start_time": "2022-06-01T14:23:53.844Z"
   },
   {
    "duration": 12,
    "start_time": "2022-06-01T14:23:53.864Z"
   },
   {
    "duration": 6,
    "start_time": "2022-06-01T14:23:53.878Z"
   },
   {
    "duration": 6,
    "start_time": "2022-06-01T14:23:53.887Z"
   },
   {
    "duration": 1403,
    "start_time": "2022-06-01T14:23:53.896Z"
   },
   {
    "duration": 26,
    "start_time": "2022-06-01T14:23:55.301Z"
   },
   {
    "duration": 27,
    "start_time": "2022-06-01T14:23:55.331Z"
   },
   {
    "duration": 22,
    "start_time": "2022-06-01T14:23:55.361Z"
   },
   {
    "duration": 13,
    "start_time": "2022-06-01T14:23:55.386Z"
   },
   {
    "duration": 30,
    "start_time": "2022-06-01T14:23:55.401Z"
   },
   {
    "duration": 1357,
    "start_time": "2022-06-01T14:23:55.434Z"
   },
   {
    "duration": 15,
    "start_time": "2022-06-01T14:23:56.796Z"
   },
   {
    "duration": 28,
    "start_time": "2022-06-01T14:23:56.829Z"
   },
   {
    "duration": 9,
    "start_time": "2022-06-01T14:23:56.859Z"
   },
   {
    "duration": 10,
    "start_time": "2022-06-01T14:23:56.869Z"
   },
   {
    "duration": 21,
    "start_time": "2022-06-01T14:23:56.881Z"
   },
   {
    "duration": 4,
    "start_time": "2022-06-01T14:23:56.903Z"
   },
   {
    "duration": 35,
    "start_time": "2022-06-01T14:23:56.909Z"
   },
   {
    "duration": 13,
    "start_time": "2022-06-01T14:23:56.948Z"
   },
   {
    "duration": 9,
    "start_time": "2022-06-01T14:23:56.963Z"
   },
   {
    "duration": 8,
    "start_time": "2022-06-01T14:23:56.974Z"
   },
   {
    "duration": 18,
    "start_time": "2022-06-01T14:23:56.984Z"
   },
   {
    "duration": 13,
    "start_time": "2022-06-01T14:23:57.004Z"
   },
   {
    "duration": 667,
    "start_time": "2022-06-01T14:23:57.019Z"
   },
   {
    "duration": 4,
    "start_time": "2022-06-01T14:24:27.742Z"
   },
   {
    "duration": 64,
    "start_time": "2022-06-01T14:24:27.748Z"
   },
   {
    "duration": 22,
    "start_time": "2022-06-01T14:24:27.815Z"
   },
   {
    "duration": 36,
    "start_time": "2022-06-01T14:24:27.841Z"
   },
   {
    "duration": 10,
    "start_time": "2022-06-01T14:24:27.879Z"
   },
   {
    "duration": 20,
    "start_time": "2022-06-01T14:24:27.890Z"
   },
   {
    "duration": 31,
    "start_time": "2022-06-01T14:24:27.912Z"
   },
   {
    "duration": 22,
    "start_time": "2022-06-01T14:24:27.944Z"
   },
   {
    "duration": 8,
    "start_time": "2022-06-01T14:24:27.968Z"
   },
   {
    "duration": 10,
    "start_time": "2022-06-01T14:24:27.977Z"
   },
   {
    "duration": 12,
    "start_time": "2022-06-01T14:24:27.990Z"
   },
   {
    "duration": 28,
    "start_time": "2022-06-01T14:24:28.004Z"
   },
   {
    "duration": 20,
    "start_time": "2022-06-01T14:24:28.041Z"
   },
   {
    "duration": 15,
    "start_time": "2022-06-01T14:24:28.063Z"
   },
   {
    "duration": 5,
    "start_time": "2022-06-01T14:24:28.080Z"
   },
   {
    "duration": 12,
    "start_time": "2022-06-01T14:24:28.086Z"
   },
   {
    "duration": 1306,
    "start_time": "2022-06-01T14:24:28.099Z"
   },
   {
    "duration": 27,
    "start_time": "2022-06-01T14:24:29.407Z"
   },
   {
    "duration": 46,
    "start_time": "2022-06-01T14:24:29.436Z"
   },
   {
    "duration": 25,
    "start_time": "2022-06-01T14:24:29.485Z"
   },
   {
    "duration": 6,
    "start_time": "2022-06-01T14:24:29.513Z"
   },
   {
    "duration": 26,
    "start_time": "2022-06-01T14:24:29.521Z"
   },
   {
    "duration": 1364,
    "start_time": "2022-06-01T14:24:29.549Z"
   },
   {
    "duration": 33,
    "start_time": "2022-06-01T14:24:30.916Z"
   },
   {
    "duration": 28,
    "start_time": "2022-06-01T14:24:30.951Z"
   },
   {
    "duration": 30,
    "start_time": "2022-06-01T14:24:30.981Z"
   },
   {
    "duration": 60,
    "start_time": "2022-06-01T14:24:31.013Z"
   },
   {
    "duration": 50,
    "start_time": "2022-06-01T14:24:31.075Z"
   },
   {
    "duration": 37,
    "start_time": "2022-06-01T14:24:31.130Z"
   },
   {
    "duration": 40,
    "start_time": "2022-06-01T14:24:31.170Z"
   },
   {
    "duration": 51,
    "start_time": "2022-06-01T14:24:31.213Z"
   },
   {
    "duration": 26,
    "start_time": "2022-06-01T14:24:31.267Z"
   },
   {
    "duration": 17,
    "start_time": "2022-06-01T14:24:31.295Z"
   },
   {
    "duration": 39,
    "start_time": "2022-06-01T14:24:31.314Z"
   },
   {
    "duration": 46,
    "start_time": "2022-06-01T14:24:31.356Z"
   },
   {
    "duration": 20,
    "start_time": "2022-06-01T14:24:31.404Z"
   },
   {
    "duration": 648,
    "start_time": "2022-06-01T14:24:31.427Z"
   },
   {
    "duration": 8,
    "start_time": "2022-06-01T14:24:38.725Z"
   },
   {
    "duration": 83,
    "start_time": "2022-06-01T14:24:38.738Z"
   },
   {
    "duration": 20,
    "start_time": "2022-06-01T14:24:38.823Z"
   },
   {
    "duration": 26,
    "start_time": "2022-06-01T14:24:38.845Z"
   },
   {
    "duration": 9,
    "start_time": "2022-06-01T14:24:38.873Z"
   },
   {
    "duration": 4,
    "start_time": "2022-06-01T14:24:38.885Z"
   },
   {
    "duration": 41,
    "start_time": "2022-06-01T14:24:38.891Z"
   },
   {
    "duration": 8,
    "start_time": "2022-06-01T14:24:38.934Z"
   },
   {
    "duration": 21,
    "start_time": "2022-06-01T14:24:38.944Z"
   },
   {
    "duration": 5,
    "start_time": "2022-06-01T14:24:38.971Z"
   },
   {
    "duration": 12,
    "start_time": "2022-06-01T14:24:38.978Z"
   },
   {
    "duration": 27,
    "start_time": "2022-06-01T14:24:38.993Z"
   },
   {
    "duration": 25,
    "start_time": "2022-06-01T14:24:39.025Z"
   },
   {
    "duration": 14,
    "start_time": "2022-06-01T14:24:39.052Z"
   },
   {
    "duration": 6,
    "start_time": "2022-06-01T14:24:39.069Z"
   },
   {
    "duration": 6,
    "start_time": "2022-06-01T14:24:39.077Z"
   },
   {
    "duration": 1415,
    "start_time": "2022-06-01T14:24:39.085Z"
   },
   {
    "duration": 28,
    "start_time": "2022-06-01T14:24:40.502Z"
   },
   {
    "duration": 64,
    "start_time": "2022-06-01T14:24:40.532Z"
   },
   {
    "duration": 23,
    "start_time": "2022-06-01T14:24:40.598Z"
   },
   {
    "duration": 6,
    "start_time": "2022-06-01T14:24:40.622Z"
   },
   {
    "duration": 27,
    "start_time": "2022-06-01T14:24:40.630Z"
   },
   {
    "duration": 1312,
    "start_time": "2022-06-01T14:24:40.659Z"
   },
   {
    "duration": 13,
    "start_time": "2022-06-01T14:24:41.973Z"
   },
   {
    "duration": 12,
    "start_time": "2022-06-01T14:24:41.987Z"
   },
   {
    "duration": 15,
    "start_time": "2022-06-01T14:24:42.001Z"
   },
   {
    "duration": 39,
    "start_time": "2022-06-01T14:24:42.026Z"
   },
   {
    "duration": 34,
    "start_time": "2022-06-01T14:24:42.067Z"
   },
   {
    "duration": 5,
    "start_time": "2022-06-01T14:24:42.103Z"
   },
   {
    "duration": 63,
    "start_time": "2022-06-01T14:24:42.111Z"
   },
   {
    "duration": 20,
    "start_time": "2022-06-01T14:24:42.176Z"
   },
   {
    "duration": 14,
    "start_time": "2022-06-01T14:24:42.198Z"
   },
   {
    "duration": 8,
    "start_time": "2022-06-01T14:24:42.214Z"
   },
   {
    "duration": 13,
    "start_time": "2022-06-01T14:24:42.224Z"
   },
   {
    "duration": 43,
    "start_time": "2022-06-01T14:24:42.240Z"
   },
   {
    "duration": 17,
    "start_time": "2022-06-01T14:24:42.285Z"
   },
   {
    "duration": 577,
    "start_time": "2022-06-01T14:24:42.305Z"
   },
   {
    "duration": 5,
    "start_time": "2022-06-01T14:25:48.816Z"
   },
   {
    "duration": 77,
    "start_time": "2022-06-01T14:25:48.824Z"
   },
   {
    "duration": 16,
    "start_time": "2022-06-01T14:25:48.903Z"
   },
   {
    "duration": 51,
    "start_time": "2022-06-01T14:25:48.921Z"
   },
   {
    "duration": 16,
    "start_time": "2022-06-01T14:25:48.976Z"
   },
   {
    "duration": 6,
    "start_time": "2022-06-01T14:25:48.994Z"
   },
   {
    "duration": 32,
    "start_time": "2022-06-01T14:25:49.002Z"
   },
   {
    "duration": 30,
    "start_time": "2022-06-01T14:25:49.036Z"
   },
   {
    "duration": 10,
    "start_time": "2022-06-01T14:25:49.068Z"
   },
   {
    "duration": 12,
    "start_time": "2022-06-01T14:25:49.080Z"
   },
   {
    "duration": 12,
    "start_time": "2022-06-01T14:25:49.094Z"
   },
   {
    "duration": 52,
    "start_time": "2022-06-01T14:25:49.108Z"
   },
   {
    "duration": 20,
    "start_time": "2022-06-01T14:25:49.162Z"
   },
   {
    "duration": 8,
    "start_time": "2022-06-01T14:25:49.185Z"
   },
   {
    "duration": 14,
    "start_time": "2022-06-01T14:25:49.194Z"
   },
   {
    "duration": 29,
    "start_time": "2022-06-01T14:25:49.210Z"
   },
   {
    "duration": 23,
    "start_time": "2022-06-01T14:25:49.241Z"
   },
   {
    "duration": 1427,
    "start_time": "2022-06-01T14:25:49.267Z"
   },
   {
    "duration": 16,
    "start_time": "2022-06-01T14:25:50.696Z"
   },
   {
    "duration": 28,
    "start_time": "2022-06-01T14:25:50.728Z"
   },
   {
    "duration": 20,
    "start_time": "2022-06-01T14:25:50.758Z"
   },
   {
    "duration": 12,
    "start_time": "2022-06-01T14:25:50.780Z"
   },
   {
    "duration": 8,
    "start_time": "2022-06-01T14:25:50.794Z"
   },
   {
    "duration": 1237,
    "start_time": "2022-06-01T14:25:50.804Z"
   },
   {
    "duration": 16,
    "start_time": "2022-06-01T14:25:52.045Z"
   },
   {
    "duration": 14,
    "start_time": "2022-06-01T14:25:52.063Z"
   },
   {
    "duration": 7,
    "start_time": "2022-06-01T14:25:52.079Z"
   },
   {
    "duration": 18,
    "start_time": "2022-06-01T14:25:52.089Z"
   },
   {
    "duration": 44,
    "start_time": "2022-06-01T14:25:52.109Z"
   },
   {
    "duration": 10,
    "start_time": "2022-06-01T14:25:52.159Z"
   },
   {
    "duration": 21,
    "start_time": "2022-06-01T14:25:52.172Z"
   },
   {
    "duration": 27,
    "start_time": "2022-06-01T14:25:52.195Z"
   },
   {
    "duration": 35,
    "start_time": "2022-06-01T14:25:52.225Z"
   },
   {
    "duration": 16,
    "start_time": "2022-06-01T14:25:52.262Z"
   },
   {
    "duration": 15,
    "start_time": "2022-06-01T14:25:52.280Z"
   },
   {
    "duration": 25,
    "start_time": "2022-06-01T14:25:52.297Z"
   },
   {
    "duration": 33,
    "start_time": "2022-06-01T14:25:52.325Z"
   },
   {
    "duration": 513,
    "start_time": "2022-06-01T14:25:52.361Z"
   },
   {
    "duration": 23,
    "start_time": "2022-06-01T14:26:06.650Z"
   },
   {
    "duration": 5,
    "start_time": "2022-06-01T14:26:45.206Z"
   },
   {
    "duration": 177,
    "start_time": "2022-06-01T14:26:45.214Z"
   },
   {
    "duration": 25,
    "start_time": "2022-06-01T14:26:45.395Z"
   },
   {
    "duration": 85,
    "start_time": "2022-06-01T14:26:45.426Z"
   },
   {
    "duration": 17,
    "start_time": "2022-06-01T14:26:45.513Z"
   },
   {
    "duration": 40,
    "start_time": "2022-06-01T14:26:45.536Z"
   },
   {
    "duration": 31,
    "start_time": "2022-06-01T14:26:45.578Z"
   },
   {
    "duration": 48,
    "start_time": "2022-06-01T14:26:45.612Z"
   },
   {
    "duration": 53,
    "start_time": "2022-06-01T14:26:45.664Z"
   },
   {
    "duration": 60,
    "start_time": "2022-06-01T14:26:45.720Z"
   },
   {
    "duration": 30,
    "start_time": "2022-06-01T14:26:45.784Z"
   },
   {
    "duration": 471,
    "start_time": "2022-06-01T14:26:45.817Z"
   },
   {
    "duration": 0,
    "start_time": "2022-06-01T14:26:46.290Z"
   },
   {
    "duration": 0,
    "start_time": "2022-06-01T14:26:46.292Z"
   },
   {
    "duration": 0,
    "start_time": "2022-06-01T14:26:46.293Z"
   },
   {
    "duration": 0,
    "start_time": "2022-06-01T14:26:46.300Z"
   },
   {
    "duration": 0,
    "start_time": "2022-06-01T14:26:46.301Z"
   },
   {
    "duration": 0,
    "start_time": "2022-06-01T14:26:46.303Z"
   },
   {
    "duration": 0,
    "start_time": "2022-06-01T14:26:46.304Z"
   },
   {
    "duration": 0,
    "start_time": "2022-06-01T14:26:46.306Z"
   },
   {
    "duration": 0,
    "start_time": "2022-06-01T14:26:46.307Z"
   },
   {
    "duration": 0,
    "start_time": "2022-06-01T14:26:46.309Z"
   },
   {
    "duration": 0,
    "start_time": "2022-06-01T14:26:46.310Z"
   },
   {
    "duration": 0,
    "start_time": "2022-06-01T14:26:46.313Z"
   },
   {
    "duration": 0,
    "start_time": "2022-06-01T14:26:46.314Z"
   },
   {
    "duration": 0,
    "start_time": "2022-06-01T14:26:46.316Z"
   },
   {
    "duration": 0,
    "start_time": "2022-06-01T14:26:46.317Z"
   },
   {
    "duration": 0,
    "start_time": "2022-06-01T14:26:46.319Z"
   },
   {
    "duration": 0,
    "start_time": "2022-06-01T14:26:46.320Z"
   },
   {
    "duration": 0,
    "start_time": "2022-06-01T14:26:46.329Z"
   },
   {
    "duration": 0,
    "start_time": "2022-06-01T14:26:46.331Z"
   },
   {
    "duration": 0,
    "start_time": "2022-06-01T14:26:46.332Z"
   },
   {
    "duration": 0,
    "start_time": "2022-06-01T14:26:46.332Z"
   },
   {
    "duration": 0,
    "start_time": "2022-06-01T14:26:46.333Z"
   },
   {
    "duration": 0,
    "start_time": "2022-06-01T14:26:46.334Z"
   },
   {
    "duration": 0,
    "start_time": "2022-06-01T14:26:46.335Z"
   },
   {
    "duration": 0,
    "start_time": "2022-06-01T14:26:46.335Z"
   },
   {
    "duration": 0,
    "start_time": "2022-06-01T14:26:46.340Z"
   },
   {
    "duration": 4,
    "start_time": "2022-06-01T14:26:57.198Z"
   },
   {
    "duration": 70,
    "start_time": "2022-06-01T14:26:57.205Z"
   },
   {
    "duration": 14,
    "start_time": "2022-06-01T14:26:57.277Z"
   },
   {
    "duration": 18,
    "start_time": "2022-06-01T14:26:57.293Z"
   },
   {
    "duration": 30,
    "start_time": "2022-06-01T14:26:57.314Z"
   },
   {
    "duration": 13,
    "start_time": "2022-06-01T14:26:57.346Z"
   },
   {
    "duration": 54,
    "start_time": "2022-06-01T14:26:57.361Z"
   },
   {
    "duration": 13,
    "start_time": "2022-06-01T14:26:57.417Z"
   },
   {
    "duration": 33,
    "start_time": "2022-06-01T14:26:57.432Z"
   },
   {
    "duration": 8,
    "start_time": "2022-06-01T14:26:57.468Z"
   },
   {
    "duration": 14,
    "start_time": "2022-06-01T14:26:57.478Z"
   },
   {
    "duration": 15,
    "start_time": "2022-06-01T14:26:57.494Z"
   },
   {
    "duration": 37,
    "start_time": "2022-06-01T14:26:57.511Z"
   },
   {
    "duration": 25,
    "start_time": "2022-06-01T14:26:57.552Z"
   },
   {
    "duration": 15,
    "start_time": "2022-06-01T14:26:57.579Z"
   },
   {
    "duration": 15,
    "start_time": "2022-06-01T14:26:57.596Z"
   },
   {
    "duration": 47,
    "start_time": "2022-06-01T14:26:57.613Z"
   },
   {
    "duration": 1496,
    "start_time": "2022-06-01T14:26:57.662Z"
   },
   {
    "duration": 15,
    "start_time": "2022-06-01T14:26:59.161Z"
   },
   {
    "duration": 45,
    "start_time": "2022-06-01T14:26:59.179Z"
   },
   {
    "duration": 24,
    "start_time": "2022-06-01T14:26:59.230Z"
   },
   {
    "duration": 27,
    "start_time": "2022-06-01T14:26:59.256Z"
   },
   {
    "duration": 10,
    "start_time": "2022-06-01T14:26:59.285Z"
   },
   {
    "duration": 1359,
    "start_time": "2022-06-01T14:26:59.297Z"
   },
   {
    "duration": 13,
    "start_time": "2022-06-01T14:27:00.658Z"
   },
   {
    "duration": 21,
    "start_time": "2022-06-01T14:27:00.673Z"
   },
   {
    "duration": 7,
    "start_time": "2022-06-01T14:27:00.696Z"
   },
   {
    "duration": 25,
    "start_time": "2022-06-01T14:27:00.705Z"
   },
   {
    "duration": 30,
    "start_time": "2022-06-01T14:27:00.737Z"
   },
   {
    "duration": 4,
    "start_time": "2022-06-01T14:27:00.769Z"
   },
   {
    "duration": 45,
    "start_time": "2022-06-01T14:27:00.776Z"
   },
   {
    "duration": 47,
    "start_time": "2022-06-01T14:27:00.823Z"
   },
   {
    "duration": 10,
    "start_time": "2022-06-01T14:27:00.872Z"
   },
   {
    "duration": 46,
    "start_time": "2022-06-01T14:27:00.884Z"
   },
   {
    "duration": 34,
    "start_time": "2022-06-01T14:27:00.936Z"
   },
   {
    "duration": 27,
    "start_time": "2022-06-01T14:27:00.972Z"
   },
   {
    "duration": 11,
    "start_time": "2022-06-01T14:27:01.001Z"
   },
   {
    "duration": 493,
    "start_time": "2022-06-01T14:27:01.015Z"
   },
   {
    "duration": 6,
    "start_time": "2022-06-01T14:28:32.071Z"
   },
   {
    "duration": 126,
    "start_time": "2022-06-01T14:28:32.079Z"
   },
   {
    "duration": 23,
    "start_time": "2022-06-01T14:28:32.208Z"
   },
   {
    "duration": 48,
    "start_time": "2022-06-01T14:28:32.233Z"
   },
   {
    "duration": 12,
    "start_time": "2022-06-01T14:28:32.283Z"
   },
   {
    "duration": 12,
    "start_time": "2022-06-01T14:28:32.297Z"
   },
   {
    "duration": 40,
    "start_time": "2022-06-01T14:28:32.312Z"
   },
   {
    "duration": 13,
    "start_time": "2022-06-01T14:28:32.354Z"
   },
   {
    "duration": 7,
    "start_time": "2022-06-01T14:28:32.370Z"
   },
   {
    "duration": 10,
    "start_time": "2022-06-01T14:28:32.379Z"
   },
   {
    "duration": 24,
    "start_time": "2022-06-01T14:28:32.391Z"
   },
   {
    "duration": 0,
    "start_time": "2022-06-01T14:28:32.418Z"
   },
   {
    "duration": 0,
    "start_time": "2022-06-01T14:28:32.419Z"
   },
   {
    "duration": 0,
    "start_time": "2022-06-01T14:28:32.427Z"
   },
   {
    "duration": 0,
    "start_time": "2022-06-01T14:28:32.432Z"
   },
   {
    "duration": 0,
    "start_time": "2022-06-01T14:28:32.432Z"
   },
   {
    "duration": 0,
    "start_time": "2022-06-01T14:28:32.433Z"
   },
   {
    "duration": 0,
    "start_time": "2022-06-01T14:28:32.434Z"
   },
   {
    "duration": 0,
    "start_time": "2022-06-01T14:28:32.437Z"
   },
   {
    "duration": 0,
    "start_time": "2022-06-01T14:28:32.438Z"
   },
   {
    "duration": 0,
    "start_time": "2022-06-01T14:28:32.438Z"
   },
   {
    "duration": 0,
    "start_time": "2022-06-01T14:28:32.439Z"
   },
   {
    "duration": 0,
    "start_time": "2022-06-01T14:28:32.442Z"
   },
   {
    "duration": 0,
    "start_time": "2022-06-01T14:28:32.443Z"
   },
   {
    "duration": 0,
    "start_time": "2022-06-01T14:28:32.444Z"
   },
   {
    "duration": 0,
    "start_time": "2022-06-01T14:28:32.445Z"
   },
   {
    "duration": 0,
    "start_time": "2022-06-01T14:28:32.448Z"
   },
   {
    "duration": 0,
    "start_time": "2022-06-01T14:28:32.449Z"
   },
   {
    "duration": 0,
    "start_time": "2022-06-01T14:28:32.450Z"
   },
   {
    "duration": 0,
    "start_time": "2022-06-01T14:28:32.451Z"
   },
   {
    "duration": 0,
    "start_time": "2022-06-01T14:28:32.451Z"
   },
   {
    "duration": 0,
    "start_time": "2022-06-01T14:28:32.455Z"
   },
   {
    "duration": 0,
    "start_time": "2022-06-01T14:28:32.457Z"
   },
   {
    "duration": 0,
    "start_time": "2022-06-01T14:28:32.458Z"
   },
   {
    "duration": 0,
    "start_time": "2022-06-01T14:28:32.459Z"
   },
   {
    "duration": 0,
    "start_time": "2022-06-01T14:28:32.461Z"
   },
   {
    "duration": 0,
    "start_time": "2022-06-01T14:28:32.462Z"
   },
   {
    "duration": 0,
    "start_time": "2022-06-01T14:28:32.464Z"
   },
   {
    "duration": 5,
    "start_time": "2022-06-01T14:28:43.596Z"
   },
   {
    "duration": 82,
    "start_time": "2022-06-01T14:28:43.603Z"
   },
   {
    "duration": 15,
    "start_time": "2022-06-01T14:28:43.687Z"
   },
   {
    "duration": 25,
    "start_time": "2022-06-01T14:28:43.704Z"
   },
   {
    "duration": 25,
    "start_time": "2022-06-01T14:28:43.735Z"
   },
   {
    "duration": 12,
    "start_time": "2022-06-01T14:28:43.762Z"
   },
   {
    "duration": 25,
    "start_time": "2022-06-01T14:28:43.780Z"
   },
   {
    "duration": 8,
    "start_time": "2022-06-01T14:28:43.807Z"
   },
   {
    "duration": 6,
    "start_time": "2022-06-01T14:28:43.817Z"
   },
   {
    "duration": 33,
    "start_time": "2022-06-01T14:28:43.824Z"
   },
   {
    "duration": 17,
    "start_time": "2022-06-01T14:28:43.858Z"
   },
   {
    "duration": 6,
    "start_time": "2022-06-01T14:28:43.877Z"
   },
   {
    "duration": 18,
    "start_time": "2022-06-01T14:28:43.885Z"
   },
   {
    "duration": 20,
    "start_time": "2022-06-01T14:28:43.905Z"
   },
   {
    "duration": 32,
    "start_time": "2022-06-01T14:28:43.929Z"
   },
   {
    "duration": 4,
    "start_time": "2022-06-01T14:28:43.963Z"
   },
   {
    "duration": 14,
    "start_time": "2022-06-01T14:28:43.970Z"
   },
   {
    "duration": 1453,
    "start_time": "2022-06-01T14:28:43.986Z"
   },
   {
    "duration": 26,
    "start_time": "2022-06-01T14:28:45.444Z"
   },
   {
    "duration": 31,
    "start_time": "2022-06-01T14:28:45.473Z"
   },
   {
    "duration": 18,
    "start_time": "2022-06-01T14:28:45.506Z"
   },
   {
    "duration": 38,
    "start_time": "2022-06-01T14:28:45.526Z"
   },
   {
    "duration": 12,
    "start_time": "2022-06-01T14:28:45.567Z"
   },
   {
    "duration": 1198,
    "start_time": "2022-06-01T14:28:45.582Z"
   },
   {
    "duration": 16,
    "start_time": "2022-06-01T14:28:46.783Z"
   },
   {
    "duration": 31,
    "start_time": "2022-06-01T14:28:46.802Z"
   },
   {
    "duration": 7,
    "start_time": "2022-06-01T14:28:46.836Z"
   },
   {
    "duration": 13,
    "start_time": "2022-06-01T14:28:46.847Z"
   },
   {
    "duration": 20,
    "start_time": "2022-06-01T14:28:46.862Z"
   },
   {
    "duration": 5,
    "start_time": "2022-06-01T14:28:46.884Z"
   },
   {
    "duration": 19,
    "start_time": "2022-06-01T14:28:46.890Z"
   },
   {
    "duration": 17,
    "start_time": "2022-06-01T14:28:46.932Z"
   },
   {
    "duration": 12,
    "start_time": "2022-06-01T14:28:46.953Z"
   },
   {
    "duration": 11,
    "start_time": "2022-06-01T14:28:46.966Z"
   },
   {
    "duration": 8,
    "start_time": "2022-06-01T14:28:46.979Z"
   },
   {
    "duration": 25,
    "start_time": "2022-06-01T14:28:46.989Z"
   },
   {
    "duration": 8,
    "start_time": "2022-06-01T14:28:47.016Z"
   },
   {
    "duration": 180,
    "start_time": "2022-06-01T14:28:47.030Z"
   },
   {
    "duration": 11,
    "start_time": "2022-06-01T14:29:01.316Z"
   },
   {
    "duration": 32,
    "start_time": "2022-06-01T14:29:03.524Z"
   },
   {
    "duration": 7,
    "start_time": "2022-06-01T14:29:19.050Z"
   },
   {
    "duration": 42,
    "start_time": "2022-06-01T14:29:20.904Z"
   },
   {
    "duration": 4,
    "start_time": "2022-06-01T14:29:23.658Z"
   },
   {
    "duration": 99,
    "start_time": "2022-06-01T14:29:23.665Z"
   },
   {
    "duration": 19,
    "start_time": "2022-06-01T14:29:23.767Z"
   },
   {
    "duration": 17,
    "start_time": "2022-06-01T14:29:23.788Z"
   },
   {
    "duration": 9,
    "start_time": "2022-06-01T14:29:23.807Z"
   },
   {
    "duration": 5,
    "start_time": "2022-06-01T14:29:23.818Z"
   },
   {
    "duration": 34,
    "start_time": "2022-06-01T14:29:23.827Z"
   },
   {
    "duration": 10,
    "start_time": "2022-06-01T14:29:23.863Z"
   },
   {
    "duration": 13,
    "start_time": "2022-06-01T14:29:23.877Z"
   },
   {
    "duration": 12,
    "start_time": "2022-06-01T14:29:23.892Z"
   },
   {
    "duration": 12,
    "start_time": "2022-06-01T14:29:23.905Z"
   },
   {
    "duration": 9,
    "start_time": "2022-06-01T14:29:23.919Z"
   },
   {
    "duration": 38,
    "start_time": "2022-06-01T14:29:23.929Z"
   },
   {
    "duration": 16,
    "start_time": "2022-06-01T14:29:23.969Z"
   },
   {
    "duration": 15,
    "start_time": "2022-06-01T14:29:23.986Z"
   },
   {
    "duration": 6,
    "start_time": "2022-06-01T14:29:24.003Z"
   },
   {
    "duration": 8,
    "start_time": "2022-06-01T14:29:24.011Z"
   },
   {
    "duration": 1376,
    "start_time": "2022-06-01T14:29:24.021Z"
   },
   {
    "duration": 23,
    "start_time": "2022-06-01T14:29:25.400Z"
   },
   {
    "duration": 67,
    "start_time": "2022-06-01T14:29:25.425Z"
   },
   {
    "duration": 25,
    "start_time": "2022-06-01T14:29:25.494Z"
   },
   {
    "duration": 9,
    "start_time": "2022-06-01T14:29:25.521Z"
   },
   {
    "duration": 42,
    "start_time": "2022-06-01T14:29:25.532Z"
   },
   {
    "duration": 1461,
    "start_time": "2022-06-01T14:29:25.579Z"
   },
   {
    "duration": 21,
    "start_time": "2022-06-01T14:29:27.042Z"
   },
   {
    "duration": 17,
    "start_time": "2022-06-01T14:29:27.065Z"
   },
   {
    "duration": 5,
    "start_time": "2022-06-01T14:29:27.084Z"
   },
   {
    "duration": 10,
    "start_time": "2022-06-01T14:29:27.091Z"
   },
   {
    "duration": 37,
    "start_time": "2022-06-01T14:29:27.102Z"
   },
   {
    "duration": 7,
    "start_time": "2022-06-01T14:29:27.140Z"
   },
   {
    "duration": 25,
    "start_time": "2022-06-01T14:29:27.151Z"
   },
   {
    "duration": 12,
    "start_time": "2022-06-01T14:29:27.179Z"
   },
   {
    "duration": 9,
    "start_time": "2022-06-01T14:29:27.194Z"
   },
   {
    "duration": 11,
    "start_time": "2022-06-01T14:29:27.205Z"
   },
   {
    "duration": 9,
    "start_time": "2022-06-01T14:29:27.218Z"
   },
   {
    "duration": 49,
    "start_time": "2022-06-01T14:29:27.233Z"
   },
   {
    "duration": 9,
    "start_time": "2022-06-01T14:29:27.284Z"
   },
   {
    "duration": 597,
    "start_time": "2022-06-01T14:29:27.296Z"
   },
   {
    "duration": 21,
    "start_time": "2022-06-01T14:29:51.895Z"
   },
   {
    "duration": 4,
    "start_time": "2022-06-01T14:39:39.967Z"
   },
   {
    "duration": 59,
    "start_time": "2022-06-01T14:39:39.973Z"
   },
   {
    "duration": 18,
    "start_time": "2022-06-01T14:39:40.034Z"
   },
   {
    "duration": 16,
    "start_time": "2022-06-01T14:39:40.054Z"
   },
   {
    "duration": 10,
    "start_time": "2022-06-01T14:39:40.073Z"
   },
   {
    "duration": 5,
    "start_time": "2022-06-01T14:39:40.085Z"
   },
   {
    "duration": 19,
    "start_time": "2022-06-01T14:39:40.126Z"
   },
   {
    "duration": 13,
    "start_time": "2022-06-01T14:39:40.147Z"
   },
   {
    "duration": 8,
    "start_time": "2022-06-01T14:39:40.162Z"
   },
   {
    "duration": 6,
    "start_time": "2022-06-01T14:39:40.172Z"
   },
   {
    "duration": 20,
    "start_time": "2022-06-01T14:39:40.180Z"
   },
   {
    "duration": 11,
    "start_time": "2022-06-01T14:39:40.202Z"
   },
   {
    "duration": 29,
    "start_time": "2022-06-01T14:39:40.215Z"
   },
   {
    "duration": 15,
    "start_time": "2022-06-01T14:39:40.248Z"
   },
   {
    "duration": 9,
    "start_time": "2022-06-01T14:39:40.265Z"
   },
   {
    "duration": 18,
    "start_time": "2022-06-01T14:39:40.276Z"
   },
   {
    "duration": 31,
    "start_time": "2022-06-01T14:39:40.296Z"
   },
   {
    "duration": 8,
    "start_time": "2022-06-01T14:39:40.329Z"
   },
   {
    "duration": 1245,
    "start_time": "2022-06-01T14:39:40.341Z"
   },
   {
    "duration": 14,
    "start_time": "2022-06-01T14:39:41.587Z"
   },
   {
    "duration": 39,
    "start_time": "2022-06-01T14:39:41.602Z"
   },
   {
    "duration": 22,
    "start_time": "2022-06-01T14:39:41.642Z"
   },
   {
    "duration": 10,
    "start_time": "2022-06-01T14:39:41.666Z"
   },
   {
    "duration": 16,
    "start_time": "2022-06-01T14:39:41.678Z"
   },
   {
    "duration": 1176,
    "start_time": "2022-06-01T14:39:41.695Z"
   },
   {
    "duration": 15,
    "start_time": "2022-06-01T14:39:42.873Z"
   },
   {
    "duration": 17,
    "start_time": "2022-06-01T14:39:42.890Z"
   },
   {
    "duration": 5,
    "start_time": "2022-06-01T14:39:42.909Z"
   },
   {
    "duration": 21,
    "start_time": "2022-06-01T14:39:42.928Z"
   },
   {
    "duration": 21,
    "start_time": "2022-06-01T14:39:42.950Z"
   },
   {
    "duration": 4,
    "start_time": "2022-06-01T14:39:42.973Z"
   },
   {
    "duration": 19,
    "start_time": "2022-06-01T14:39:42.978Z"
   },
   {
    "duration": 8,
    "start_time": "2022-06-01T14:39:42.999Z"
   },
   {
    "duration": 10,
    "start_time": "2022-06-01T14:39:43.009Z"
   },
   {
    "duration": 15,
    "start_time": "2022-06-01T14:39:43.031Z"
   },
   {
    "duration": 6,
    "start_time": "2022-06-01T14:39:43.047Z"
   },
   {
    "duration": 16,
    "start_time": "2022-06-01T14:39:43.055Z"
   },
   {
    "duration": 7,
    "start_time": "2022-06-01T14:39:43.073Z"
   },
   {
    "duration": 454,
    "start_time": "2022-06-01T14:39:43.082Z"
   },
   {
    "duration": 440,
    "start_time": "2022-06-01T14:41:16.095Z"
   },
   {
    "duration": 8,
    "start_time": "2022-06-01T14:56:58.398Z"
   },
   {
    "duration": 14,
    "start_time": "2022-06-01T14:57:12.146Z"
   },
   {
    "duration": 17,
    "start_time": "2022-06-01T14:59:01.265Z"
   },
   {
    "duration": 14,
    "start_time": "2022-06-01T14:59:12.554Z"
   },
   {
    "duration": 15,
    "start_time": "2022-06-01T14:59:17.716Z"
   },
   {
    "duration": 17,
    "start_time": "2022-06-01T15:00:12.241Z"
   },
   {
    "duration": 24,
    "start_time": "2022-06-01T15:00:21.315Z"
   },
   {
    "duration": 12,
    "start_time": "2022-06-01T15:00:26.554Z"
   },
   {
    "duration": 38,
    "start_time": "2022-06-01T15:03:59.203Z"
   },
   {
    "duration": 10,
    "start_time": "2022-06-01T15:04:33.052Z"
   },
   {
    "duration": 21,
    "start_time": "2022-06-01T15:05:08.527Z"
   },
   {
    "duration": 14,
    "start_time": "2022-06-01T15:05:14.983Z"
   },
   {
    "duration": 16,
    "start_time": "2022-06-01T15:05:19.501Z"
   },
   {
    "duration": 53,
    "start_time": "2022-06-01T15:06:01.323Z"
   },
   {
    "duration": 16,
    "start_time": "2022-06-01T15:06:03.257Z"
   },
   {
    "duration": 21,
    "start_time": "2022-06-01T15:07:28.717Z"
   },
   {
    "duration": 16,
    "start_time": "2022-06-01T15:09:01.920Z"
   },
   {
    "duration": 14,
    "start_time": "2022-06-01T15:09:13.217Z"
   },
   {
    "duration": 12,
    "start_time": "2022-06-01T15:09:36.055Z"
   },
   {
    "duration": 14,
    "start_time": "2022-06-01T15:09:43.137Z"
   },
   {
    "duration": 82,
    "start_time": "2022-06-01T15:13:01.371Z"
   },
   {
    "duration": 33,
    "start_time": "2022-06-01T15:14:03.659Z"
   },
   {
    "duration": 22,
    "start_time": "2022-06-01T15:14:11.656Z"
   },
   {
    "duration": 20,
    "start_time": "2022-06-01T15:14:47.218Z"
   },
   {
    "duration": 11,
    "start_time": "2022-06-01T15:14:53.186Z"
   },
   {
    "duration": 12,
    "start_time": "2022-06-01T15:15:46.058Z"
   },
   {
    "duration": 12,
    "start_time": "2022-06-01T15:16:07.038Z"
   },
   {
    "duration": 11,
    "start_time": "2022-06-01T15:16:17.853Z"
   },
   {
    "duration": 16,
    "start_time": "2022-06-01T15:16:25.371Z"
   },
   {
    "duration": 15,
    "start_time": "2022-06-01T15:16:38.334Z"
   },
   {
    "duration": 16,
    "start_time": "2022-06-01T15:16:46.032Z"
   },
   {
    "duration": 18,
    "start_time": "2022-06-01T15:16:56.037Z"
   },
   {
    "duration": 15,
    "start_time": "2022-06-01T15:19:25.357Z"
   },
   {
    "duration": 19,
    "start_time": "2022-06-01T15:20:42.321Z"
   },
   {
    "duration": 19,
    "start_time": "2022-06-01T15:20:49.362Z"
   },
   {
    "duration": 4307,
    "start_time": "2022-06-01T15:21:19.650Z"
   },
   {
    "duration": 15,
    "start_time": "2022-06-01T15:22:16.921Z"
   },
   {
    "duration": 31,
    "start_time": "2022-06-01T15:24:03.910Z"
   },
   {
    "duration": 7488,
    "start_time": "2022-06-01T15:24:56.452Z"
   },
   {
    "duration": 7612,
    "start_time": "2022-06-01T15:25:40.491Z"
   },
   {
    "duration": 8040,
    "start_time": "2022-06-01T15:26:11.311Z"
   },
   {
    "duration": 10657,
    "start_time": "2022-06-01T15:28:10.105Z"
   },
   {
    "duration": 15,
    "start_time": "2022-06-01T15:33:05.185Z"
   },
   {
    "duration": 59,
    "start_time": "2022-06-01T15:33:12.357Z"
   },
   {
    "duration": 77,
    "start_time": "2022-06-01T15:33:55.885Z"
   },
   {
    "duration": 42,
    "start_time": "2022-06-01T15:34:04.749Z"
   },
   {
    "duration": 3345,
    "start_time": "2022-06-01T15:34:33.741Z"
   },
   {
    "duration": 3303,
    "start_time": "2022-06-01T15:34:54.666Z"
   },
   {
    "duration": 2852,
    "start_time": "2022-06-01T15:35:11.096Z"
   },
   {
    "duration": 3376,
    "start_time": "2022-06-01T15:36:12.337Z"
   },
   {
    "duration": 3410,
    "start_time": "2022-06-01T15:37:40.536Z"
   },
   {
    "duration": 2951,
    "start_time": "2022-06-01T15:37:52.062Z"
   },
   {
    "duration": 654,
    "start_time": "2022-06-01T15:42:03.096Z"
   },
   {
    "duration": 20,
    "start_time": "2022-06-01T15:45:08.424Z"
   },
   {
    "duration": 9,
    "start_time": "2022-06-01T15:45:42.440Z"
   },
   {
    "duration": 61,
    "start_time": "2022-06-01T15:45:49.015Z"
   },
   {
    "duration": 10,
    "start_time": "2022-06-01T15:45:54.511Z"
   },
   {
    "duration": 5,
    "start_time": "2022-06-01T15:46:08.506Z"
   },
   {
    "duration": 3,
    "start_time": "2022-06-01T15:46:23.963Z"
   },
   {
    "duration": 334,
    "start_time": "2022-06-01T15:46:55.811Z"
   },
   {
    "duration": 1225,
    "start_time": "2022-06-01T15:47:07.037Z"
   },
   {
    "duration": 1275,
    "start_time": "2022-06-01T15:47:23.377Z"
   },
   {
    "duration": 4,
    "start_time": "2022-06-01T15:49:03.518Z"
   },
   {
    "duration": 4,
    "start_time": "2022-06-01T15:49:16.021Z"
   },
   {
    "duration": 8,
    "start_time": "2022-06-01T15:49:27.442Z"
   },
   {
    "duration": 44,
    "start_time": "2022-06-01T15:52:00.424Z"
   },
   {
    "duration": 13,
    "start_time": "2022-06-01T15:52:24.917Z"
   },
   {
    "duration": 3,
    "start_time": "2022-06-01T15:52:27.780Z"
   },
   {
    "duration": 10,
    "start_time": "2022-06-01T15:52:32.100Z"
   },
   {
    "duration": 4,
    "start_time": "2022-06-01T15:52:51.764Z"
   },
   {
    "duration": 83,
    "start_time": "2022-06-01T15:52:51.770Z"
   },
   {
    "duration": 15,
    "start_time": "2022-06-01T15:52:51.855Z"
   },
   {
    "duration": 26,
    "start_time": "2022-06-01T15:52:51.872Z"
   },
   {
    "duration": 31,
    "start_time": "2022-06-01T15:52:51.900Z"
   },
   {
    "duration": 11,
    "start_time": "2022-06-01T15:52:51.932Z"
   },
   {
    "duration": 27,
    "start_time": "2022-06-01T15:52:51.945Z"
   },
   {
    "duration": 13,
    "start_time": "2022-06-01T15:52:51.974Z"
   },
   {
    "duration": 8,
    "start_time": "2022-06-01T15:52:51.989Z"
   },
   {
    "duration": 6,
    "start_time": "2022-06-01T15:52:51.998Z"
   },
   {
    "duration": 25,
    "start_time": "2022-06-01T15:52:52.007Z"
   },
   {
    "duration": 9,
    "start_time": "2022-06-01T15:52:52.035Z"
   },
   {
    "duration": 23,
    "start_time": "2022-06-01T15:52:52.046Z"
   },
   {
    "duration": 21,
    "start_time": "2022-06-01T15:52:52.072Z"
   },
   {
    "duration": 15,
    "start_time": "2022-06-01T15:52:52.095Z"
   },
   {
    "duration": 22,
    "start_time": "2022-06-01T15:52:52.113Z"
   },
   {
    "duration": 20,
    "start_time": "2022-06-01T15:52:52.137Z"
   },
   {
    "duration": 7,
    "start_time": "2022-06-01T15:52:52.159Z"
   },
   {
    "duration": 1853,
    "start_time": "2022-06-01T15:52:52.167Z"
   },
   {
    "duration": 23,
    "start_time": "2022-06-01T15:52:54.022Z"
   },
   {
    "duration": 24,
    "start_time": "2022-06-01T15:52:54.047Z"
   },
   {
    "duration": 17,
    "start_time": "2022-06-01T15:52:54.073Z"
   },
   {
    "duration": 12,
    "start_time": "2022-06-01T15:52:54.092Z"
   },
   {
    "duration": 8,
    "start_time": "2022-06-01T15:52:54.106Z"
   },
   {
    "duration": 1666,
    "start_time": "2022-06-01T15:52:54.126Z"
   },
   {
    "duration": 13,
    "start_time": "2022-06-01T15:52:55.794Z"
   },
   {
    "duration": 36,
    "start_time": "2022-06-01T15:52:55.808Z"
   },
   {
    "duration": 6,
    "start_time": "2022-06-01T15:52:55.847Z"
   },
   {
    "duration": 13,
    "start_time": "2022-06-01T15:52:55.856Z"
   },
   {
    "duration": 21,
    "start_time": "2022-06-01T15:52:55.870Z"
   },
   {
    "duration": 5,
    "start_time": "2022-06-01T15:52:55.892Z"
   },
   {
    "duration": 46,
    "start_time": "2022-06-01T15:52:55.899Z"
   },
   {
    "duration": 9,
    "start_time": "2022-06-01T15:52:55.946Z"
   },
   {
    "duration": 9,
    "start_time": "2022-06-01T15:52:55.957Z"
   },
   {
    "duration": 11,
    "start_time": "2022-06-01T15:52:55.968Z"
   },
   {
    "duration": 7,
    "start_time": "2022-06-01T15:52:55.980Z"
   },
   {
    "duration": 20,
    "start_time": "2022-06-01T15:52:55.989Z"
   },
   {
    "duration": 29,
    "start_time": "2022-06-01T15:52:56.011Z"
   },
   {
    "duration": 507,
    "start_time": "2022-06-01T15:52:56.041Z"
   },
   {
    "duration": 7,
    "start_time": "2022-06-01T15:52:56.550Z"
   },
   {
    "duration": 7,
    "start_time": "2022-06-01T15:52:56.559Z"
   },
   {
    "duration": 68,
    "start_time": "2022-06-01T15:52:56.567Z"
   },
   {
    "duration": 10,
    "start_time": "2022-06-01T15:52:56.637Z"
   },
   {
    "duration": 1618,
    "start_time": "2022-06-01T15:52:56.649Z"
   },
   {
    "duration": 18,
    "start_time": "2022-06-01T15:52:58.269Z"
   },
   {
    "duration": 0,
    "start_time": "2022-06-01T15:52:58.289Z"
   },
   {
    "duration": 15,
    "start_time": "2022-06-01T15:57:35.327Z"
   },
   {
    "duration": 11,
    "start_time": "2022-06-01T15:58:57.179Z"
   },
   {
    "duration": 212,
    "start_time": "2022-06-01T15:59:27.507Z"
   },
   {
    "duration": 4,
    "start_time": "2022-06-01T16:01:28.344Z"
   },
   {
    "duration": 1629,
    "start_time": "2022-06-01T16:01:52.856Z"
   },
   {
    "duration": 6,
    "start_time": "2022-06-01T16:07:31.335Z"
   },
   {
    "duration": 63,
    "start_time": "2022-06-01T16:07:31.343Z"
   },
   {
    "duration": 15,
    "start_time": "2022-06-01T16:07:31.408Z"
   },
   {
    "duration": 34,
    "start_time": "2022-06-01T16:07:31.431Z"
   },
   {
    "duration": 11,
    "start_time": "2022-06-01T16:07:31.466Z"
   },
   {
    "duration": 27,
    "start_time": "2022-06-01T16:07:31.479Z"
   },
   {
    "duration": 36,
    "start_time": "2022-06-01T16:07:31.508Z"
   },
   {
    "duration": 17,
    "start_time": "2022-06-01T16:07:31.546Z"
   },
   {
    "duration": 12,
    "start_time": "2022-06-01T16:07:31.566Z"
   },
   {
    "duration": 22,
    "start_time": "2022-06-01T16:07:31.580Z"
   },
   {
    "duration": 25,
    "start_time": "2022-06-01T16:07:31.604Z"
   },
   {
    "duration": 23,
    "start_time": "2022-06-01T16:07:31.632Z"
   },
   {
    "duration": 44,
    "start_time": "2022-06-01T16:07:31.657Z"
   },
   {
    "duration": 33,
    "start_time": "2022-06-01T16:07:31.702Z"
   },
   {
    "duration": 16,
    "start_time": "2022-06-01T16:07:31.741Z"
   },
   {
    "duration": 39,
    "start_time": "2022-06-01T16:07:31.759Z"
   },
   {
    "duration": 9,
    "start_time": "2022-06-01T16:07:31.800Z"
   },
   {
    "duration": 10,
    "start_time": "2022-06-01T16:07:31.810Z"
   },
   {
    "duration": 1726,
    "start_time": "2022-06-01T16:07:31.822Z"
   },
   {
    "duration": 19,
    "start_time": "2022-06-01T16:07:33.550Z"
   },
   {
    "duration": 27,
    "start_time": "2022-06-01T16:07:33.570Z"
   },
   {
    "duration": 31,
    "start_time": "2022-06-01T16:07:33.600Z"
   },
   {
    "duration": 7,
    "start_time": "2022-06-01T16:07:33.634Z"
   },
   {
    "duration": 3,
    "start_time": "2022-06-01T16:07:33.648Z"
   },
   {
    "duration": 953,
    "start_time": "2022-06-01T16:07:33.653Z"
   },
   {
    "duration": 23,
    "start_time": "2022-06-01T16:07:34.609Z"
   },
   {
    "duration": 29,
    "start_time": "2022-06-01T16:07:34.633Z"
   },
   {
    "duration": 24,
    "start_time": "2022-06-01T16:07:34.664Z"
   },
   {
    "duration": 16,
    "start_time": "2022-06-01T16:07:34.690Z"
   },
   {
    "duration": 46,
    "start_time": "2022-06-01T16:07:34.709Z"
   },
   {
    "duration": 4,
    "start_time": "2022-06-01T16:07:34.757Z"
   },
   {
    "duration": 13,
    "start_time": "2022-06-01T16:07:34.762Z"
   },
   {
    "duration": 9,
    "start_time": "2022-06-01T16:07:34.776Z"
   },
   {
    "duration": 4,
    "start_time": "2022-06-01T16:07:34.786Z"
   },
   {
    "duration": 6,
    "start_time": "2022-06-01T16:07:34.792Z"
   },
   {
    "duration": 5,
    "start_time": "2022-06-01T16:07:34.800Z"
   },
   {
    "duration": 28,
    "start_time": "2022-06-01T16:07:34.806Z"
   },
   {
    "duration": 11,
    "start_time": "2022-06-01T16:07:34.836Z"
   },
   {
    "duration": 491,
    "start_time": "2022-06-01T16:07:34.849Z"
   },
   {
    "duration": 9,
    "start_time": "2022-06-01T16:07:35.342Z"
   },
   {
    "duration": 15,
    "start_time": "2022-06-01T16:07:35.352Z"
   },
   {
    "duration": 73,
    "start_time": "2022-06-01T16:07:35.369Z"
   },
   {
    "duration": 9,
    "start_time": "2022-06-01T16:07:35.444Z"
   },
   {
    "duration": 1525,
    "start_time": "2022-06-01T16:07:35.455Z"
   },
   {
    "duration": 4,
    "start_time": "2022-06-01T16:07:36.982Z"
   },
   {
    "duration": 0,
    "start_time": "2022-06-01T16:07:36.988Z"
   },
   {
    "duration": 2313,
    "start_time": "2022-06-01T16:10:48.871Z"
   },
   {
    "duration": 1759,
    "start_time": "2022-06-01T16:12:54.133Z"
   },
   {
    "duration": 3,
    "start_time": "2022-06-01T16:13:34.670Z"
   },
   {
    "duration": 55,
    "start_time": "2022-06-01T16:13:34.675Z"
   },
   {
    "duration": 14,
    "start_time": "2022-06-01T16:13:34.732Z"
   },
   {
    "duration": 18,
    "start_time": "2022-06-01T16:13:34.748Z"
   },
   {
    "duration": 12,
    "start_time": "2022-06-01T16:13:34.769Z"
   },
   {
    "duration": 8,
    "start_time": "2022-06-01T16:13:34.783Z"
   },
   {
    "duration": 37,
    "start_time": "2022-06-01T16:13:34.793Z"
   },
   {
    "duration": 10,
    "start_time": "2022-06-01T16:13:34.833Z"
   },
   {
    "duration": 7,
    "start_time": "2022-06-01T16:13:34.845Z"
   },
   {
    "duration": 6,
    "start_time": "2022-06-01T16:13:34.854Z"
   },
   {
    "duration": 7,
    "start_time": "2022-06-01T16:13:34.864Z"
   },
   {
    "duration": 7,
    "start_time": "2022-06-01T16:13:34.873Z"
   },
   {
    "duration": 59,
    "start_time": "2022-06-01T16:13:34.882Z"
   },
   {
    "duration": 24,
    "start_time": "2022-06-01T16:13:34.943Z"
   },
   {
    "duration": 13,
    "start_time": "2022-06-01T16:13:34.969Z"
   },
   {
    "duration": 15,
    "start_time": "2022-06-01T16:13:34.984Z"
   },
   {
    "duration": 5,
    "start_time": "2022-06-01T16:13:35.001Z"
   },
   {
    "duration": 19,
    "start_time": "2022-06-01T16:13:35.008Z"
   },
   {
    "duration": 1577,
    "start_time": "2022-06-01T16:13:35.030Z"
   },
   {
    "duration": 18,
    "start_time": "2022-06-01T16:13:36.610Z"
   },
   {
    "duration": 27,
    "start_time": "2022-06-01T16:13:36.630Z"
   },
   {
    "duration": 17,
    "start_time": "2022-06-01T16:13:36.658Z"
   },
   {
    "duration": 7,
    "start_time": "2022-06-01T16:13:36.677Z"
   },
   {
    "duration": 9,
    "start_time": "2022-06-01T16:13:36.685Z"
   },
   {
    "duration": 897,
    "start_time": "2022-06-01T16:13:36.696Z"
   },
   {
    "duration": 14,
    "start_time": "2022-06-01T16:13:37.595Z"
   },
   {
    "duration": 18,
    "start_time": "2022-06-01T16:13:37.611Z"
   },
   {
    "duration": 5,
    "start_time": "2022-06-01T16:13:37.632Z"
   },
   {
    "duration": 12,
    "start_time": "2022-06-01T16:13:37.641Z"
   },
   {
    "duration": 19,
    "start_time": "2022-06-01T16:13:37.655Z"
   },
   {
    "duration": 4,
    "start_time": "2022-06-01T16:13:37.676Z"
   },
   {
    "duration": 20,
    "start_time": "2022-06-01T16:13:37.681Z"
   },
   {
    "duration": 28,
    "start_time": "2022-06-01T16:13:37.703Z"
   },
   {
    "duration": 11,
    "start_time": "2022-06-01T16:13:37.733Z"
   },
   {
    "duration": 9,
    "start_time": "2022-06-01T16:13:37.746Z"
   },
   {
    "duration": 6,
    "start_time": "2022-06-01T16:13:37.757Z"
   },
   {
    "duration": 31,
    "start_time": "2022-06-01T16:13:37.765Z"
   },
   {
    "duration": 9,
    "start_time": "2022-06-01T16:13:37.798Z"
   },
   {
    "duration": 484,
    "start_time": "2022-06-01T16:13:37.825Z"
   },
   {
    "duration": 15,
    "start_time": "2022-06-01T16:13:38.311Z"
   },
   {
    "duration": 4,
    "start_time": "2022-06-01T16:13:38.327Z"
   },
   {
    "duration": 66,
    "start_time": "2022-06-01T16:13:38.333Z"
   },
   {
    "duration": 8,
    "start_time": "2022-06-01T16:13:38.401Z"
   },
   {
    "duration": 1527,
    "start_time": "2022-06-01T16:13:38.410Z"
   },
   {
    "duration": 6,
    "start_time": "2022-06-01T16:13:39.939Z"
   },
   {
    "duration": 4,
    "start_time": "2022-06-01T16:14:05.239Z"
   },
   {
    "duration": 68,
    "start_time": "2022-06-01T16:14:05.245Z"
   },
   {
    "duration": 15,
    "start_time": "2022-06-01T16:14:05.315Z"
   },
   {
    "duration": 23,
    "start_time": "2022-06-01T16:14:05.333Z"
   },
   {
    "duration": 11,
    "start_time": "2022-06-01T16:14:05.358Z"
   },
   {
    "duration": 15,
    "start_time": "2022-06-01T16:14:05.371Z"
   },
   {
    "duration": 40,
    "start_time": "2022-06-01T16:14:05.388Z"
   },
   {
    "duration": 27,
    "start_time": "2022-06-01T16:14:05.429Z"
   },
   {
    "duration": 16,
    "start_time": "2022-06-01T16:14:05.459Z"
   },
   {
    "duration": 6,
    "start_time": "2022-06-01T16:14:05.477Z"
   },
   {
    "duration": 12,
    "start_time": "2022-06-01T16:14:05.484Z"
   },
   {
    "duration": 30,
    "start_time": "2022-06-01T16:14:05.497Z"
   },
   {
    "duration": 15,
    "start_time": "2022-06-01T16:14:05.529Z"
   },
   {
    "duration": 15,
    "start_time": "2022-06-01T16:14:05.546Z"
   },
   {
    "duration": 11,
    "start_time": "2022-06-01T16:14:05.562Z"
   },
   {
    "duration": 11,
    "start_time": "2022-06-01T16:14:05.575Z"
   },
   {
    "duration": 6,
    "start_time": "2022-06-01T16:14:05.588Z"
   },
   {
    "duration": 10,
    "start_time": "2022-06-01T16:14:05.596Z"
   },
   {
    "duration": 1516,
    "start_time": "2022-06-01T16:14:05.608Z"
   },
   {
    "duration": 15,
    "start_time": "2022-06-01T16:14:07.126Z"
   },
   {
    "duration": 21,
    "start_time": "2022-06-01T16:14:07.143Z"
   },
   {
    "duration": 18,
    "start_time": "2022-06-01T16:14:07.166Z"
   },
   {
    "duration": 5,
    "start_time": "2022-06-01T16:14:07.185Z"
   },
   {
    "duration": 3,
    "start_time": "2022-06-01T16:14:07.226Z"
   },
   {
    "duration": 860,
    "start_time": "2022-06-01T16:14:07.230Z"
   },
   {
    "duration": 12,
    "start_time": "2022-06-01T16:14:08.093Z"
   },
   {
    "duration": 22,
    "start_time": "2022-06-01T16:14:08.106Z"
   },
   {
    "duration": 21,
    "start_time": "2022-06-01T16:14:08.130Z"
   },
   {
    "duration": 13,
    "start_time": "2022-06-01T16:14:08.153Z"
   },
   {
    "duration": 25,
    "start_time": "2022-06-01T16:14:08.168Z"
   },
   {
    "duration": 8,
    "start_time": "2022-06-01T16:14:08.195Z"
   },
   {
    "duration": 18,
    "start_time": "2022-06-01T16:14:08.204Z"
   },
   {
    "duration": 16,
    "start_time": "2022-06-01T16:14:08.226Z"
   },
   {
    "duration": 8,
    "start_time": "2022-06-01T16:14:08.244Z"
   },
   {
    "duration": 21,
    "start_time": "2022-06-01T16:14:08.254Z"
   },
   {
    "duration": 16,
    "start_time": "2022-06-01T16:14:08.277Z"
   },
   {
    "duration": 17,
    "start_time": "2022-06-01T16:14:08.295Z"
   },
   {
    "duration": 7,
    "start_time": "2022-06-01T16:14:08.314Z"
   },
   {
    "duration": 474,
    "start_time": "2022-06-01T16:14:08.323Z"
   },
   {
    "duration": 8,
    "start_time": "2022-06-01T16:14:08.799Z"
   },
   {
    "duration": 17,
    "start_time": "2022-06-01T16:14:08.809Z"
   },
   {
    "duration": 41,
    "start_time": "2022-06-01T16:14:08.828Z"
   },
   {
    "duration": 8,
    "start_time": "2022-06-01T16:14:08.870Z"
   },
   {
    "duration": 1865,
    "start_time": "2022-06-01T16:14:08.880Z"
   },
   {
    "duration": 5,
    "start_time": "2022-06-01T16:14:10.747Z"
   },
   {
    "duration": 335,
    "start_time": "2022-06-01T16:17:40.850Z"
   },
   {
    "duration": 7,
    "start_time": "2022-06-01T16:18:40.271Z"
   },
   {
    "duration": 7,
    "start_time": "2022-06-01T16:18:46.085Z"
   },
   {
    "duration": 8,
    "start_time": "2022-06-01T16:18:49.958Z"
   },
   {
    "duration": 57,
    "start_time": "2022-06-01T16:19:29.604Z"
   },
   {
    "duration": 33,
    "start_time": "2022-06-01T16:19:48.858Z"
   },
   {
    "duration": 25,
    "start_time": "2022-06-01T16:21:06.037Z"
   },
   {
    "duration": 260,
    "start_time": "2022-06-01T16:25:01.282Z"
   },
   {
    "duration": 4,
    "start_time": "2022-06-01T16:25:31.808Z"
   },
   {
    "duration": 267,
    "start_time": "2022-06-01T16:25:39.934Z"
   },
   {
    "duration": 1267,
    "start_time": "2022-06-01T16:27:10.908Z"
   },
   {
    "duration": 1267,
    "start_time": "2022-06-01T16:28:19.222Z"
   },
   {
    "duration": 1956,
    "start_time": "2022-06-01T16:28:31.589Z"
   },
   {
    "duration": 1194,
    "start_time": "2022-06-01T16:29:11.886Z"
   },
   {
    "duration": 1133,
    "start_time": "2022-06-01T16:29:20.893Z"
   },
   {
    "duration": 94,
    "start_time": "2022-06-02T10:04:11.544Z"
   },
   {
    "duration": 1467,
    "start_time": "2022-06-02T10:04:15.186Z"
   },
   {
    "duration": 112,
    "start_time": "2022-06-02T10:04:16.655Z"
   },
   {
    "duration": 21,
    "start_time": "2022-06-02T10:04:16.769Z"
   },
   {
    "duration": 15,
    "start_time": "2022-06-02T10:04:16.792Z"
   },
   {
    "duration": 21,
    "start_time": "2022-06-02T10:04:16.809Z"
   },
   {
    "duration": 5,
    "start_time": "2022-06-02T10:04:16.833Z"
   },
   {
    "duration": 26,
    "start_time": "2022-06-02T10:04:16.840Z"
   },
   {
    "duration": 11,
    "start_time": "2022-06-02T10:04:16.868Z"
   },
   {
    "duration": 4,
    "start_time": "2022-06-02T10:04:16.881Z"
   },
   {
    "duration": 41,
    "start_time": "2022-06-02T10:04:16.887Z"
   },
   {
    "duration": 41,
    "start_time": "2022-06-02T10:04:16.930Z"
   },
   {
    "duration": 7,
    "start_time": "2022-06-02T10:04:16.972Z"
   },
   {
    "duration": 17,
    "start_time": "2022-06-02T10:04:16.980Z"
   },
   {
    "duration": 16,
    "start_time": "2022-06-02T10:04:17.000Z"
   },
   {
    "duration": 18,
    "start_time": "2022-06-02T10:04:17.017Z"
   },
   {
    "duration": 16,
    "start_time": "2022-06-02T10:04:17.037Z"
   },
   {
    "duration": 4,
    "start_time": "2022-06-02T10:04:17.055Z"
   },
   {
    "duration": 16,
    "start_time": "2022-06-02T10:04:17.061Z"
   },
   {
    "duration": 1187,
    "start_time": "2022-06-02T10:04:17.079Z"
   },
   {
    "duration": 15,
    "start_time": "2022-06-02T10:04:18.269Z"
   },
   {
    "duration": 22,
    "start_time": "2022-06-02T10:04:18.286Z"
   },
   {
    "duration": 34,
    "start_time": "2022-06-02T10:04:18.309Z"
   },
   {
    "duration": 7,
    "start_time": "2022-06-02T10:04:18.344Z"
   },
   {
    "duration": 15,
    "start_time": "2022-06-02T10:04:18.352Z"
   },
   {
    "duration": 1241,
    "start_time": "2022-06-02T10:04:18.369Z"
   },
   {
    "duration": 16,
    "start_time": "2022-06-02T10:04:19.611Z"
   },
   {
    "duration": 15,
    "start_time": "2022-06-02T10:04:19.630Z"
   },
   {
    "duration": 6,
    "start_time": "2022-06-02T10:04:19.648Z"
   },
   {
    "duration": 13,
    "start_time": "2022-06-02T10:04:19.656Z"
   },
   {
    "duration": 19,
    "start_time": "2022-06-02T10:04:19.671Z"
   },
   {
    "duration": 4,
    "start_time": "2022-06-02T10:04:19.692Z"
   },
   {
    "duration": 42,
    "start_time": "2022-06-02T10:04:19.698Z"
   },
   {
    "duration": 13,
    "start_time": "2022-06-02T10:04:19.742Z"
   },
   {
    "duration": 8,
    "start_time": "2022-06-02T10:04:19.758Z"
   },
   {
    "duration": 12,
    "start_time": "2022-06-02T10:04:19.768Z"
   },
   {
    "duration": 9,
    "start_time": "2022-06-02T10:04:19.783Z"
   },
   {
    "duration": 32,
    "start_time": "2022-06-02T10:04:19.794Z"
   },
   {
    "duration": 10,
    "start_time": "2022-06-02T10:04:19.828Z"
   },
   {
    "duration": 444,
    "start_time": "2022-06-02T10:04:19.840Z"
   },
   {
    "duration": 9,
    "start_time": "2022-06-02T10:04:20.286Z"
   },
   {
    "duration": 13,
    "start_time": "2022-06-02T10:04:20.299Z"
   },
   {
    "duration": 63,
    "start_time": "2022-06-02T10:04:20.313Z"
   },
   {
    "duration": 4,
    "start_time": "2022-06-02T10:04:20.378Z"
   },
   {
    "duration": 1165,
    "start_time": "2022-06-02T10:04:20.384Z"
   },
   {
    "duration": 3,
    "start_time": "2022-06-02T10:04:21.551Z"
   },
   {
    "duration": 13,
    "start_time": "2022-06-02T10:04:21.555Z"
   },
   {
    "duration": 9,
    "start_time": "2022-06-02T10:13:11.717Z"
   },
   {
    "duration": 33,
    "start_time": "2022-06-02T10:13:17.463Z"
   },
   {
    "duration": 4,
    "start_time": "2022-06-02T10:14:30.363Z"
   },
   {
    "duration": 84,
    "start_time": "2022-06-02T10:14:30.370Z"
   },
   {
    "duration": 33,
    "start_time": "2022-06-02T10:14:30.457Z"
   },
   {
    "duration": 43,
    "start_time": "2022-06-02T10:14:30.492Z"
   },
   {
    "duration": 41,
    "start_time": "2022-06-02T10:14:30.537Z"
   },
   {
    "duration": 16,
    "start_time": "2022-06-02T10:14:30.580Z"
   },
   {
    "duration": 87,
    "start_time": "2022-06-02T10:14:30.598Z"
   },
   {
    "duration": 30,
    "start_time": "2022-06-02T10:14:30.687Z"
   },
   {
    "duration": 21,
    "start_time": "2022-06-02T10:14:30.719Z"
   },
   {
    "duration": 11,
    "start_time": "2022-06-02T10:14:30.744Z"
   },
   {
    "duration": 18,
    "start_time": "2022-06-02T10:14:30.757Z"
   },
   {
    "duration": 20,
    "start_time": "2022-06-02T10:14:30.777Z"
   },
   {
    "duration": 48,
    "start_time": "2022-06-02T10:14:30.799Z"
   },
   {
    "duration": 43,
    "start_time": "2022-06-02T10:14:30.848Z"
   },
   {
    "duration": 39,
    "start_time": "2022-06-02T10:14:30.893Z"
   },
   {
    "duration": 32,
    "start_time": "2022-06-02T10:14:30.934Z"
   },
   {
    "duration": 18,
    "start_time": "2022-06-02T10:14:30.968Z"
   },
   {
    "duration": 43,
    "start_time": "2022-06-02T10:14:30.988Z"
   },
   {
    "duration": 1248,
    "start_time": "2022-06-02T10:14:31.034Z"
   },
   {
    "duration": 15,
    "start_time": "2022-06-02T10:14:32.284Z"
   },
   {
    "duration": 40,
    "start_time": "2022-06-02T10:14:32.302Z"
   },
   {
    "duration": 19,
    "start_time": "2022-06-02T10:14:32.345Z"
   },
   {
    "duration": 13,
    "start_time": "2022-06-02T10:14:32.366Z"
   },
   {
    "duration": 4,
    "start_time": "2022-06-02T10:14:32.381Z"
   },
   {
    "duration": 1093,
    "start_time": "2022-06-02T10:14:32.387Z"
   },
   {
    "duration": 14,
    "start_time": "2022-06-02T10:14:33.482Z"
   },
   {
    "duration": 29,
    "start_time": "2022-06-02T10:14:33.498Z"
   },
   {
    "duration": 8,
    "start_time": "2022-06-02T10:14:33.532Z"
   },
   {
    "duration": 14,
    "start_time": "2022-06-02T10:14:33.542Z"
   },
   {
    "duration": 24,
    "start_time": "2022-06-02T10:14:33.558Z"
   },
   {
    "duration": 5,
    "start_time": "2022-06-02T10:14:33.583Z"
   },
   {
    "duration": 41,
    "start_time": "2022-06-02T10:14:33.590Z"
   },
   {
    "duration": 15,
    "start_time": "2022-06-02T10:14:33.634Z"
   },
   {
    "duration": 5,
    "start_time": "2022-06-02T10:14:33.652Z"
   },
   {
    "duration": 6,
    "start_time": "2022-06-02T10:14:33.661Z"
   },
   {
    "duration": 10,
    "start_time": "2022-06-02T10:14:33.669Z"
   },
   {
    "duration": 44,
    "start_time": "2022-06-02T10:14:33.681Z"
   },
   {
    "duration": 18,
    "start_time": "2022-06-02T10:14:33.728Z"
   },
   {
    "duration": 7,
    "start_time": "2022-06-02T10:14:33.748Z"
   },
   {
    "duration": 413,
    "start_time": "2022-06-02T10:14:33.757Z"
   },
   {
    "duration": 8,
    "start_time": "2022-06-02T10:14:34.172Z"
   },
   {
    "duration": 8,
    "start_time": "2022-06-02T10:14:34.182Z"
   },
   {
    "duration": 58,
    "start_time": "2022-06-02T10:14:34.191Z"
   },
   {
    "duration": 4,
    "start_time": "2022-06-02T10:14:34.251Z"
   },
   {
    "duration": 1186,
    "start_time": "2022-06-02T10:14:34.257Z"
   },
   {
    "duration": 3,
    "start_time": "2022-06-02T10:14:35.445Z"
   },
   {
    "duration": 11,
    "start_time": "2022-06-02T10:14:35.450Z"
   },
   {
    "duration": 1,
    "start_time": "2022-06-02T10:14:35.462Z"
   },
   {
    "duration": 0,
    "start_time": "2022-06-02T10:14:35.464Z"
   },
   {
    "duration": 8,
    "start_time": "2022-06-02T10:14:47.672Z"
   },
   {
    "duration": 25,
    "start_time": "2022-06-02T10:14:49.000Z"
   },
   {
    "duration": 8,
    "start_time": "2022-06-02T10:49:10.769Z"
   },
   {
    "duration": 11,
    "start_time": "2022-06-02T10:50:54.109Z"
   },
   {
    "duration": 489,
    "start_time": "2022-06-02T10:51:38.279Z"
   },
   {
    "duration": 464,
    "start_time": "2022-06-02T10:51:54.393Z"
   },
   {
    "duration": 603,
    "start_time": "2022-06-02T10:52:02.973Z"
   },
   {
    "duration": 358,
    "start_time": "2022-06-02T10:53:24.173Z"
   },
   {
    "duration": 579,
    "start_time": "2022-06-02T10:53:38.479Z"
   },
   {
    "duration": 624,
    "start_time": "2022-06-02T10:54:38.071Z"
   },
   {
    "duration": 16,
    "start_time": "2022-06-02T10:54:43.042Z"
   },
   {
    "duration": 104,
    "start_time": "2022-06-02T10:54:55.376Z"
   },
   {
    "duration": 298,
    "start_time": "2022-06-02T10:55:50.672Z"
   },
   {
    "duration": 434,
    "start_time": "2022-06-02T10:56:20.316Z"
   },
   {
    "duration": 175,
    "start_time": "2022-06-02T10:56:42.196Z"
   },
   {
    "duration": 12,
    "start_time": "2022-06-02T10:56:51.916Z"
   },
   {
    "duration": 34,
    "start_time": "2022-06-02T10:57:59.773Z"
   },
   {
    "duration": 569,
    "start_time": "2022-06-02T10:58:03.915Z"
   },
   {
    "duration": 5,
    "start_time": "2022-06-02T10:58:06.142Z"
   },
   {
    "duration": 473,
    "start_time": "2022-06-02T10:58:09.748Z"
   },
   {
    "duration": 25,
    "start_time": "2022-06-02T10:58:19.572Z"
   },
   {
    "duration": 22,
    "start_time": "2022-06-02T10:58:22.522Z"
   },
   {
    "duration": 449,
    "start_time": "2022-06-02T10:59:00.316Z"
   },
   {
    "duration": 501,
    "start_time": "2022-06-02T10:59:43.259Z"
   },
   {
    "duration": 488,
    "start_time": "2022-06-02T11:00:16.905Z"
   },
   {
    "duration": 213,
    "start_time": "2022-06-02T11:00:26.071Z"
   },
   {
    "duration": 629,
    "start_time": "2022-06-02T11:00:33.067Z"
   },
   {
    "duration": 467,
    "start_time": "2022-06-02T11:03:46.828Z"
   },
   {
    "duration": 5,
    "start_time": "2022-06-02T11:06:18.374Z"
   },
   {
    "duration": 5,
    "start_time": "2022-06-02T11:06:28.389Z"
   },
   {
    "duration": 581,
    "start_time": "2022-06-02T11:06:47.080Z"
   },
   {
    "duration": 456,
    "start_time": "2022-06-02T11:10:17.188Z"
   },
   {
    "duration": 428,
    "start_time": "2022-06-02T11:12:22.878Z"
   },
   {
    "duration": 547,
    "start_time": "2022-06-02T11:12:44.235Z"
   },
   {
    "duration": 428,
    "start_time": "2022-06-02T11:13:10.482Z"
   },
   {
    "duration": 427,
    "start_time": "2022-06-02T11:13:59.582Z"
   },
   {
    "duration": 478,
    "start_time": "2022-06-02T11:14:57.355Z"
   },
   {
    "duration": 82,
    "start_time": "2022-06-02T12:41:47.517Z"
   },
   {
    "duration": 390,
    "start_time": "2022-06-02T12:42:07.050Z"
   },
   {
    "duration": 417,
    "start_time": "2022-06-02T12:42:39.178Z"
   },
   {
    "duration": 389,
    "start_time": "2022-06-02T12:43:03.751Z"
   },
   {
    "duration": 506,
    "start_time": "2022-06-02T12:43:52.387Z"
   },
   {
    "duration": 237,
    "start_time": "2022-06-02T12:44:01.083Z"
   },
   {
    "duration": 336,
    "start_time": "2022-06-02T12:44:58.591Z"
   },
   {
    "duration": 208,
    "start_time": "2022-06-02T12:45:27.704Z"
   },
   {
    "duration": 347,
    "start_time": "2022-06-02T12:45:30.701Z"
   },
   {
    "duration": 325,
    "start_time": "2022-06-02T12:46:14.990Z"
   },
   {
    "duration": 331,
    "start_time": "2022-06-02T12:46:47.187Z"
   },
   {
    "duration": 220,
    "start_time": "2022-06-02T12:46:55.821Z"
   },
   {
    "duration": 353,
    "start_time": "2022-06-02T12:47:38.137Z"
   },
   {
    "duration": 485,
    "start_time": "2022-06-02T12:48:03.195Z"
   },
   {
    "duration": 24,
    "start_time": "2022-06-02T12:48:28.723Z"
   },
   {
    "duration": 9,
    "start_time": "2022-06-02T12:48:37.372Z"
   },
   {
    "duration": 5,
    "start_time": "2022-06-02T12:48:45.651Z"
   },
   {
    "duration": 376,
    "start_time": "2022-06-02T12:50:14.626Z"
   },
   {
    "duration": 371,
    "start_time": "2022-06-02T12:50:52.195Z"
   },
   {
    "duration": 369,
    "start_time": "2022-06-02T12:53:05.349Z"
   },
   {
    "duration": 361,
    "start_time": "2022-06-02T12:53:19.256Z"
   },
   {
    "duration": 1487,
    "start_time": "2022-06-02T12:53:36.200Z"
   },
   {
    "duration": 4,
    "start_time": "2022-06-02T12:56:23.582Z"
   },
   {
    "duration": 101,
    "start_time": "2022-06-02T12:56:23.588Z"
   },
   {
    "duration": 16,
    "start_time": "2022-06-02T12:56:23.690Z"
   },
   {
    "duration": 31,
    "start_time": "2022-06-02T12:56:23.709Z"
   },
   {
    "duration": 14,
    "start_time": "2022-06-02T12:56:23.742Z"
   },
   {
    "duration": 10,
    "start_time": "2022-06-02T12:56:23.758Z"
   },
   {
    "duration": 20,
    "start_time": "2022-06-02T12:56:23.770Z"
   },
   {
    "duration": 14,
    "start_time": "2022-06-02T12:56:23.792Z"
   },
   {
    "duration": 26,
    "start_time": "2022-06-02T12:56:23.809Z"
   },
   {
    "duration": 6,
    "start_time": "2022-06-02T12:56:23.838Z"
   },
   {
    "duration": 8,
    "start_time": "2022-06-02T12:56:23.847Z"
   },
   {
    "duration": 17,
    "start_time": "2022-06-02T12:56:23.856Z"
   },
   {
    "duration": 23,
    "start_time": "2022-06-02T12:56:23.874Z"
   },
   {
    "duration": 27,
    "start_time": "2022-06-02T12:56:23.899Z"
   },
   {
    "duration": 20,
    "start_time": "2022-06-02T12:56:23.927Z"
   },
   {
    "duration": 13,
    "start_time": "2022-06-02T12:56:23.948Z"
   },
   {
    "duration": 5,
    "start_time": "2022-06-02T12:56:23.963Z"
   },
   {
    "duration": 6,
    "start_time": "2022-06-02T12:56:23.969Z"
   },
   {
    "duration": 1220,
    "start_time": "2022-06-02T12:56:23.977Z"
   },
   {
    "duration": 14,
    "start_time": "2022-06-02T12:56:25.199Z"
   },
   {
    "duration": 21,
    "start_time": "2022-06-02T12:56:25.226Z"
   },
   {
    "duration": 22,
    "start_time": "2022-06-02T12:56:25.248Z"
   },
   {
    "duration": 5,
    "start_time": "2022-06-02T12:56:25.271Z"
   },
   {
    "duration": 6,
    "start_time": "2022-06-02T12:56:25.279Z"
   },
   {
    "duration": 1267,
    "start_time": "2022-06-02T12:56:25.287Z"
   },
   {
    "duration": 13,
    "start_time": "2022-06-02T12:56:26.556Z"
   },
   {
    "duration": 17,
    "start_time": "2022-06-02T12:56:26.571Z"
   },
   {
    "duration": 5,
    "start_time": "2022-06-02T12:56:26.590Z"
   },
   {
    "duration": 14,
    "start_time": "2022-06-02T12:56:26.597Z"
   },
   {
    "duration": 44,
    "start_time": "2022-06-02T12:56:26.612Z"
   },
   {
    "duration": 25,
    "start_time": "2022-06-02T12:56:26.658Z"
   },
   {
    "duration": 25,
    "start_time": "2022-06-02T12:56:26.685Z"
   },
   {
    "duration": 47,
    "start_time": "2022-06-02T12:56:26.712Z"
   },
   {
    "duration": 7,
    "start_time": "2022-06-02T12:56:26.762Z"
   },
   {
    "duration": 6,
    "start_time": "2022-06-02T12:56:26.771Z"
   },
   {
    "duration": 6,
    "start_time": "2022-06-02T12:56:26.779Z"
   },
   {
    "duration": 19,
    "start_time": "2022-06-02T12:56:26.786Z"
   },
   {
    "duration": 14,
    "start_time": "2022-06-02T12:56:26.807Z"
   },
   {
    "duration": 21,
    "start_time": "2022-06-02T12:56:26.823Z"
   },
   {
    "duration": 596,
    "start_time": "2022-06-02T12:56:26.846Z"
   },
   {
    "duration": 9,
    "start_time": "2022-06-02T12:56:27.444Z"
   },
   {
    "duration": 7,
    "start_time": "2022-06-02T12:56:27.454Z"
   },
   {
    "duration": 46,
    "start_time": "2022-06-02T12:56:27.463Z"
   },
   {
    "duration": 4,
    "start_time": "2022-06-02T12:56:27.511Z"
   },
   {
    "duration": 1228,
    "start_time": "2022-06-02T12:56:27.516Z"
   },
   {
    "duration": 2,
    "start_time": "2022-06-02T12:56:28.746Z"
   },
   {
    "duration": 12,
    "start_time": "2022-06-02T12:56:28.750Z"
   },
   {
    "duration": 7,
    "start_time": "2022-06-02T12:56:28.764Z"
   },
   {
    "duration": 313,
    "start_time": "2022-06-02T12:56:28.772Z"
   },
   {
    "duration": 8,
    "start_time": "2022-06-02T12:57:51.748Z"
   },
   {
    "duration": 13,
    "start_time": "2022-06-02T12:58:55.240Z"
   },
   {
    "duration": 11,
    "start_time": "2022-06-02T12:59:57.882Z"
   },
   {
    "duration": 9,
    "start_time": "2022-06-02T13:04:29.234Z"
   },
   {
    "duration": 8,
    "start_time": "2022-06-02T13:04:39.597Z"
   },
   {
    "duration": 9,
    "start_time": "2022-06-02T13:04:43.827Z"
   },
   {
    "duration": 10,
    "start_time": "2022-06-02T13:04:45.427Z"
   },
   {
    "duration": 8,
    "start_time": "2022-06-02T13:07:24.688Z"
   },
   {
    "duration": 13,
    "start_time": "2022-06-02T13:07:40.970Z"
   },
   {
    "duration": 8,
    "start_time": "2022-06-02T13:08:15.723Z"
   },
   {
    "duration": 7,
    "start_time": "2022-06-02T13:08:31.978Z"
   },
   {
    "duration": 7,
    "start_time": "2022-06-02T13:09:42.004Z"
   },
   {
    "duration": 6,
    "start_time": "2022-06-02T13:09:47.394Z"
   },
   {
    "duration": 8,
    "start_time": "2022-06-02T13:10:00.642Z"
   },
   {
    "duration": 4,
    "start_time": "2022-06-02T13:10:05.895Z"
   },
   {
    "duration": 14,
    "start_time": "2022-06-02T13:11:10.469Z"
   },
   {
    "duration": 32,
    "start_time": "2022-06-02T13:45:02.074Z"
   },
   {
    "duration": 16,
    "start_time": "2022-06-02T13:45:30.843Z"
   },
   {
    "duration": 7,
    "start_time": "2022-06-02T13:48:35.261Z"
   },
   {
    "duration": 221,
    "start_time": "2022-06-02T13:48:44.490Z"
   },
   {
    "duration": 22,
    "start_time": "2022-06-02T13:48:58.112Z"
   },
   {
    "duration": 469,
    "start_time": "2022-06-02T13:49:04.298Z"
   },
   {
    "duration": 212,
    "start_time": "2022-06-02T13:49:28.600Z"
   },
   {
    "duration": 277,
    "start_time": "2022-06-02T13:49:40.472Z"
   },
   {
    "duration": 98,
    "start_time": "2022-06-02T13:49:46.872Z"
   },
   {
    "duration": 11,
    "start_time": "2022-06-02T13:52:19.408Z"
   },
   {
    "duration": 15,
    "start_time": "2022-06-02T13:52:46.472Z"
   },
   {
    "duration": 13,
    "start_time": "2022-06-02T13:53:22.573Z"
   },
   {
    "duration": 12,
    "start_time": "2022-06-02T13:53:52.191Z"
   },
   {
    "duration": 14,
    "start_time": "2022-06-02T13:56:27.636Z"
   },
   {
    "duration": 12,
    "start_time": "2022-06-02T13:56:35.731Z"
   },
   {
    "duration": 19,
    "start_time": "2022-06-02T13:56:40.389Z"
   },
   {
    "duration": 23,
    "start_time": "2022-06-02T14:00:04.334Z"
   },
   {
    "duration": 10,
    "start_time": "2022-06-02T14:01:52.266Z"
   },
   {
    "duration": 11,
    "start_time": "2022-06-02T14:03:37.777Z"
   },
   {
    "duration": 147,
    "start_time": "2022-06-02T14:03:52.604Z"
   },
   {
    "duration": 20,
    "start_time": "2022-06-02T14:04:55.977Z"
   },
   {
    "duration": 140,
    "start_time": "2022-06-02T14:05:27.860Z"
   },
   {
    "duration": 119,
    "start_time": "2022-06-02T14:05:53.773Z"
   },
   {
    "duration": 170,
    "start_time": "2022-06-02T14:06:23.343Z"
   },
   {
    "duration": 168,
    "start_time": "2022-06-02T14:06:39.660Z"
   },
   {
    "duration": 177,
    "start_time": "2022-06-02T14:06:45.202Z"
   },
   {
    "duration": 226,
    "start_time": "2022-06-02T14:06:52.380Z"
   },
   {
    "duration": 193,
    "start_time": "2022-06-02T14:06:59.220Z"
   },
   {
    "duration": 153,
    "start_time": "2022-06-02T14:07:03.335Z"
   },
   {
    "duration": 170,
    "start_time": "2022-06-02T14:07:07.998Z"
   },
   {
    "duration": 178,
    "start_time": "2022-06-02T14:07:19.377Z"
   },
   {
    "duration": 185,
    "start_time": "2022-06-02T14:09:08.855Z"
   },
   {
    "duration": 173,
    "start_time": "2022-06-02T14:09:17.595Z"
   },
   {
    "duration": 158,
    "start_time": "2022-06-02T14:09:24.559Z"
   },
   {
    "duration": 24,
    "start_time": "2022-06-02T14:09:41.559Z"
   },
   {
    "duration": 223,
    "start_time": "2022-06-02T14:11:07.419Z"
   },
   {
    "duration": 352,
    "start_time": "2022-06-02T14:11:45.696Z"
   },
   {
    "duration": 193,
    "start_time": "2022-06-02T14:14:36.365Z"
   },
   {
    "duration": 10,
    "start_time": "2022-06-02T14:15:55.235Z"
   },
   {
    "duration": 9,
    "start_time": "2022-06-02T14:16:10.455Z"
   },
   {
    "duration": 35,
    "start_time": "2022-06-02T14:16:25.269Z"
   },
   {
    "duration": 4,
    "start_time": "2022-06-02T14:16:53.095Z"
   },
   {
    "duration": 23,
    "start_time": "2022-06-02T14:17:03.258Z"
   },
   {
    "duration": 8,
    "start_time": "2022-06-02T14:17:20.257Z"
   },
   {
    "duration": 44212,
    "start_time": "2022-06-02T14:22:24.507Z"
   },
   {
    "duration": 114,
    "start_time": "2022-06-02T14:23:12.079Z"
   },
   {
    "duration": 25,
    "start_time": "2022-06-02T14:24:17.625Z"
   },
   {
    "duration": 4,
    "start_time": "2022-06-02T14:28:03.918Z"
   },
   {
    "duration": 30,
    "start_time": "2022-06-02T14:28:18.431Z"
   },
   {
    "duration": 37,
    "start_time": "2022-06-02T14:30:14.083Z"
   },
   {
    "duration": 5,
    "start_time": "2022-06-02T14:30:37.412Z"
   },
   {
    "duration": 4,
    "start_time": "2022-06-02T14:30:43.530Z"
   },
   {
    "duration": 27,
    "start_time": "2022-06-02T14:30:45.761Z"
   },
   {
    "duration": 1578,
    "start_time": "2022-06-02T14:32:02.957Z"
   },
   {
    "duration": 1707,
    "start_time": "2022-06-02T14:32:51.090Z"
   },
   {
    "duration": 1647,
    "start_time": "2022-06-02T14:33:57.926Z"
   },
   {
    "duration": 453,
    "start_time": "2022-06-02T14:36:01.156Z"
   },
   {
    "duration": 388,
    "start_time": "2022-06-02T14:36:43.258Z"
   },
   {
    "duration": 367,
    "start_time": "2022-06-02T14:37:11.275Z"
   },
   {
    "duration": 191,
    "start_time": "2022-06-02T14:41:13.230Z"
   },
   {
    "duration": 196,
    "start_time": "2022-06-02T14:41:20.399Z"
   },
   {
    "duration": 166,
    "start_time": "2022-06-02T14:41:24.661Z"
   },
   {
    "duration": 174,
    "start_time": "2022-06-02T14:41:28.989Z"
   },
   {
    "duration": 169,
    "start_time": "2022-06-02T14:41:35.913Z"
   },
   {
    "duration": 2126,
    "start_time": "2022-06-02T14:42:31.936Z"
   },
   {
    "duration": 2036,
    "start_time": "2022-06-02T14:43:13.024Z"
   },
   {
    "duration": 1934,
    "start_time": "2022-06-02T14:43:33.397Z"
   },
   {
    "duration": 2033,
    "start_time": "2022-06-02T14:43:44.032Z"
   },
   {
    "duration": 1992,
    "start_time": "2022-06-02T14:43:51.655Z"
   },
   {
    "duration": 2032,
    "start_time": "2022-06-02T14:43:57.861Z"
   },
   {
    "duration": 1989,
    "start_time": "2022-06-02T14:44:25.062Z"
   },
   {
    "duration": 2013,
    "start_time": "2022-06-02T14:44:36.985Z"
   },
   {
    "duration": 2016,
    "start_time": "2022-06-02T14:44:52.451Z"
   },
   {
    "duration": 2137,
    "start_time": "2022-06-02T14:44:59.716Z"
   },
   {
    "duration": 2095,
    "start_time": "2022-06-02T14:45:08.285Z"
   },
   {
    "duration": 2196,
    "start_time": "2022-06-02T14:45:54.859Z"
   },
   {
    "duration": 1611,
    "start_time": "2022-06-02T14:46:06.068Z"
   },
   {
    "duration": 1634,
    "start_time": "2022-06-02T14:46:16.785Z"
   },
   {
    "duration": 1557,
    "start_time": "2022-06-02T14:46:31.684Z"
   },
   {
    "duration": 5,
    "start_time": "2022-06-02T14:48:18.627Z"
   },
   {
    "duration": 1567,
    "start_time": "2022-06-02T14:48:51.283Z"
   },
   {
    "duration": 307,
    "start_time": "2022-06-02T14:48:56.771Z"
   },
   {
    "duration": 24,
    "start_time": "2022-06-02T14:51:42.726Z"
   },
   {
    "duration": 12,
    "start_time": "2022-06-02T14:52:06.001Z"
   },
   {
    "duration": 9,
    "start_time": "2022-06-02T14:52:37.111Z"
   },
   {
    "duration": 4,
    "start_time": "2022-06-02T14:54:02.713Z"
   },
   {
    "duration": 14,
    "start_time": "2022-06-02T14:54:12.010Z"
   },
   {
    "duration": 12,
    "start_time": "2022-06-02T14:54:32.810Z"
   },
   {
    "duration": 808,
    "start_time": "2022-06-02T14:55:07.036Z"
   },
   {
    "duration": 187,
    "start_time": "2022-06-02T14:55:36.160Z"
   },
   {
    "duration": 13,
    "start_time": "2022-06-02T14:55:44.242Z"
   },
   {
    "duration": 197,
    "start_time": "2022-06-02T14:56:53.440Z"
   },
   {
    "duration": 180,
    "start_time": "2022-06-02T14:57:04.464Z"
   },
   {
    "duration": 270,
    "start_time": "2022-06-02T14:58:05.397Z"
   },
   {
    "duration": 263,
    "start_time": "2022-06-02T14:58:33.385Z"
   },
   {
    "duration": 191,
    "start_time": "2022-06-02T15:00:04.617Z"
   },
   {
    "duration": 248,
    "start_time": "2022-06-02T15:00:51.263Z"
   },
   {
    "duration": 185,
    "start_time": "2022-06-02T15:01:47.324Z"
   },
   {
    "duration": 181,
    "start_time": "2022-06-02T15:02:57.783Z"
   },
   {
    "duration": 245,
    "start_time": "2022-06-02T15:03:35.053Z"
   },
   {
    "duration": 255,
    "start_time": "2022-06-02T15:05:06.900Z"
   },
   {
    "duration": 286,
    "start_time": "2022-06-02T15:05:52.361Z"
   },
   {
    "duration": 13,
    "start_time": "2022-06-02T15:07:58.763Z"
   },
   {
    "duration": 18,
    "start_time": "2022-06-02T15:09:14.648Z"
   },
   {
    "duration": 12,
    "start_time": "2022-06-02T15:09:31.873Z"
   },
   {
    "duration": 853,
    "start_time": "2022-06-02T15:09:50.256Z"
   },
   {
    "duration": 277,
    "start_time": "2022-06-02T15:10:03.838Z"
   },
   {
    "duration": 51,
    "start_time": "2022-06-02T15:11:52.821Z"
   },
   {
    "duration": 271,
    "start_time": "2022-06-02T15:12:11.854Z"
   },
   {
    "duration": 47,
    "start_time": "2022-06-02T15:13:40.889Z"
   },
   {
    "duration": 276,
    "start_time": "2022-06-02T15:13:52.648Z"
   },
   {
    "duration": 282,
    "start_time": "2022-06-02T15:15:51.086Z"
   },
   {
    "duration": 13,
    "start_time": "2022-06-02T15:16:46.711Z"
   },
   {
    "duration": 15,
    "start_time": "2022-06-02T15:17:41.227Z"
   },
   {
    "duration": 52,
    "start_time": "2022-06-02T15:17:54.406Z"
   },
   {
    "duration": 97,
    "start_time": "2022-06-02T15:18:05.052Z"
   },
   {
    "duration": 16,
    "start_time": "2022-06-02T15:18:15.845Z"
   },
   {
    "duration": 20,
    "start_time": "2022-06-02T15:18:28.292Z"
   },
   {
    "duration": 19,
    "start_time": "2022-06-02T15:19:44.851Z"
   },
   {
    "duration": 17,
    "start_time": "2022-06-02T15:20:32.768Z"
   },
   {
    "duration": 252,
    "start_time": "2022-06-02T15:20:47.305Z"
   },
   {
    "duration": 4,
    "start_time": "2022-06-02T15:24:22.764Z"
   },
   {
    "duration": 58,
    "start_time": "2022-06-02T15:24:22.770Z"
   },
   {
    "duration": 14,
    "start_time": "2022-06-02T15:24:22.830Z"
   },
   {
    "duration": 19,
    "start_time": "2022-06-02T15:24:22.845Z"
   },
   {
    "duration": 9,
    "start_time": "2022-06-02T15:24:22.866Z"
   },
   {
    "duration": 5,
    "start_time": "2022-06-02T15:24:22.876Z"
   },
   {
    "duration": 50,
    "start_time": "2022-06-02T15:24:22.883Z"
   },
   {
    "duration": 7,
    "start_time": "2022-06-02T15:24:22.935Z"
   },
   {
    "duration": 10,
    "start_time": "2022-06-02T15:24:22.943Z"
   },
   {
    "duration": 6,
    "start_time": "2022-06-02T15:24:22.955Z"
   },
   {
    "duration": 10,
    "start_time": "2022-06-02T15:24:22.965Z"
   },
   {
    "duration": 6,
    "start_time": "2022-06-02T15:24:22.977Z"
   },
   {
    "duration": 43,
    "start_time": "2022-06-02T15:24:22.984Z"
   },
   {
    "duration": 16,
    "start_time": "2022-06-02T15:24:23.029Z"
   },
   {
    "duration": 7,
    "start_time": "2022-06-02T15:24:23.047Z"
   },
   {
    "duration": 12,
    "start_time": "2022-06-02T15:24:23.056Z"
   },
   {
    "duration": 11,
    "start_time": "2022-06-02T15:24:23.070Z"
   },
   {
    "duration": 12,
    "start_time": "2022-06-02T15:24:23.082Z"
   },
   {
    "duration": 875,
    "start_time": "2022-06-02T15:24:23.096Z"
   },
   {
    "duration": 13,
    "start_time": "2022-06-02T15:24:23.973Z"
   },
   {
    "duration": 20,
    "start_time": "2022-06-02T15:24:23.988Z"
   },
   {
    "duration": 31,
    "start_time": "2022-06-02T15:24:24.010Z"
   },
   {
    "duration": 167,
    "start_time": "2022-06-02T15:24:24.043Z"
   },
   {
    "duration": 0,
    "start_time": "2022-06-02T15:24:24.213Z"
   },
   {
    "duration": 0,
    "start_time": "2022-06-02T15:24:24.215Z"
   },
   {
    "duration": 0,
    "start_time": "2022-06-02T15:24:24.217Z"
   },
   {
    "duration": 0,
    "start_time": "2022-06-02T15:24:24.218Z"
   },
   {
    "duration": 0,
    "start_time": "2022-06-02T15:24:24.220Z"
   },
   {
    "duration": 0,
    "start_time": "2022-06-02T15:24:24.221Z"
   },
   {
    "duration": 0,
    "start_time": "2022-06-02T15:24:24.222Z"
   },
   {
    "duration": 0,
    "start_time": "2022-06-02T15:24:24.224Z"
   },
   {
    "duration": 0,
    "start_time": "2022-06-02T15:24:24.225Z"
   },
   {
    "duration": 0,
    "start_time": "2022-06-02T15:24:24.227Z"
   },
   {
    "duration": 0,
    "start_time": "2022-06-02T15:24:24.228Z"
   },
   {
    "duration": 0,
    "start_time": "2022-06-02T15:24:24.229Z"
   },
   {
    "duration": 0,
    "start_time": "2022-06-02T15:24:24.231Z"
   },
   {
    "duration": 0,
    "start_time": "2022-06-02T15:24:24.232Z"
   },
   {
    "duration": 0,
    "start_time": "2022-06-02T15:24:24.234Z"
   },
   {
    "duration": 0,
    "start_time": "2022-06-02T15:24:24.235Z"
   },
   {
    "duration": 0,
    "start_time": "2022-06-02T15:24:24.236Z"
   },
   {
    "duration": 0,
    "start_time": "2022-06-02T15:24:24.238Z"
   },
   {
    "duration": 1,
    "start_time": "2022-06-02T15:24:24.239Z"
   },
   {
    "duration": 0,
    "start_time": "2022-06-02T15:24:24.241Z"
   },
   {
    "duration": 0,
    "start_time": "2022-06-02T15:24:24.242Z"
   },
   {
    "duration": 0,
    "start_time": "2022-06-02T15:24:24.244Z"
   },
   {
    "duration": 0,
    "start_time": "2022-06-02T15:24:24.245Z"
   },
   {
    "duration": 0,
    "start_time": "2022-06-02T15:24:24.247Z"
   },
   {
    "duration": 0,
    "start_time": "2022-06-02T15:24:24.248Z"
   },
   {
    "duration": 0,
    "start_time": "2022-06-02T15:24:24.250Z"
   },
   {
    "duration": 0,
    "start_time": "2022-06-02T15:24:24.251Z"
   },
   {
    "duration": 0,
    "start_time": "2022-06-02T15:24:24.253Z"
   },
   {
    "duration": 0,
    "start_time": "2022-06-02T15:24:24.254Z"
   },
   {
    "duration": 0,
    "start_time": "2022-06-02T15:24:24.255Z"
   },
   {
    "duration": 0,
    "start_time": "2022-06-02T15:24:24.256Z"
   },
   {
    "duration": 0,
    "start_time": "2022-06-02T15:24:24.257Z"
   },
   {
    "duration": 0,
    "start_time": "2022-06-02T15:24:24.258Z"
   },
   {
    "duration": 0,
    "start_time": "2022-06-02T15:24:24.260Z"
   },
   {
    "duration": 0,
    "start_time": "2022-06-02T15:24:24.261Z"
   },
   {
    "duration": 0,
    "start_time": "2022-06-02T15:24:24.262Z"
   },
   {
    "duration": 0,
    "start_time": "2022-06-02T15:24:24.263Z"
   },
   {
    "duration": 0,
    "start_time": "2022-06-02T15:24:24.264Z"
   },
   {
    "duration": 0,
    "start_time": "2022-06-02T15:24:24.265Z"
   },
   {
    "duration": 3,
    "start_time": "2022-06-02T15:24:51.063Z"
   },
   {
    "duration": 58,
    "start_time": "2022-06-02T15:24:51.068Z"
   },
   {
    "duration": 16,
    "start_time": "2022-06-02T15:24:51.128Z"
   },
   {
    "duration": 23,
    "start_time": "2022-06-02T15:24:51.146Z"
   },
   {
    "duration": 11,
    "start_time": "2022-06-02T15:24:51.172Z"
   },
   {
    "duration": 13,
    "start_time": "2022-06-02T15:24:51.185Z"
   },
   {
    "duration": 53,
    "start_time": "2022-06-02T15:24:51.200Z"
   },
   {
    "duration": 18,
    "start_time": "2022-06-02T15:24:51.255Z"
   },
   {
    "duration": 16,
    "start_time": "2022-06-02T15:24:51.274Z"
   },
   {
    "duration": 19,
    "start_time": "2022-06-02T15:24:51.292Z"
   },
   {
    "duration": 8,
    "start_time": "2022-06-02T15:24:51.314Z"
   },
   {
    "duration": 9,
    "start_time": "2022-06-02T15:24:51.324Z"
   },
   {
    "duration": 26,
    "start_time": "2022-06-02T15:24:51.334Z"
   },
   {
    "duration": 15,
    "start_time": "2022-06-02T15:24:51.362Z"
   },
   {
    "duration": 16,
    "start_time": "2022-06-02T15:24:51.379Z"
   },
   {
    "duration": 20,
    "start_time": "2022-06-02T15:24:51.396Z"
   },
   {
    "duration": 11,
    "start_time": "2022-06-02T15:24:51.417Z"
   },
   {
    "duration": 16,
    "start_time": "2022-06-02T15:24:51.429Z"
   },
   {
    "duration": 1438,
    "start_time": "2022-06-02T15:24:51.447Z"
   },
   {
    "duration": 14,
    "start_time": "2022-06-02T15:24:52.887Z"
   },
   {
    "duration": 32,
    "start_time": "2022-06-02T15:24:52.903Z"
   },
   {
    "duration": 18,
    "start_time": "2022-06-02T15:24:52.937Z"
   },
   {
    "duration": 23,
    "start_time": "2022-06-02T15:24:52.957Z"
   },
   {
    "duration": 13,
    "start_time": "2022-06-02T15:24:52.982Z"
   },
   {
    "duration": 1440,
    "start_time": "2022-06-02T15:24:52.997Z"
   },
   {
    "duration": 12,
    "start_time": "2022-06-02T15:24:54.439Z"
   },
   {
    "duration": 13,
    "start_time": "2022-06-02T15:24:54.453Z"
   },
   {
    "duration": 5,
    "start_time": "2022-06-02T15:24:54.468Z"
   },
   {
    "duration": 152,
    "start_time": "2022-06-02T15:24:54.476Z"
   },
   {
    "duration": 0,
    "start_time": "2022-06-02T15:24:54.630Z"
   },
   {
    "duration": 0,
    "start_time": "2022-06-02T15:24:54.632Z"
   },
   {
    "duration": 0,
    "start_time": "2022-06-02T15:24:54.633Z"
   },
   {
    "duration": 0,
    "start_time": "2022-06-02T15:24:54.634Z"
   },
   {
    "duration": 0,
    "start_time": "2022-06-02T15:24:54.635Z"
   },
   {
    "duration": 0,
    "start_time": "2022-06-02T15:24:54.637Z"
   },
   {
    "duration": 0,
    "start_time": "2022-06-02T15:24:54.639Z"
   },
   {
    "duration": 0,
    "start_time": "2022-06-02T15:24:54.640Z"
   },
   {
    "duration": 0,
    "start_time": "2022-06-02T15:24:54.642Z"
   },
   {
    "duration": 0,
    "start_time": "2022-06-02T15:24:54.644Z"
   },
   {
    "duration": 0,
    "start_time": "2022-06-02T15:24:54.645Z"
   },
   {
    "duration": 0,
    "start_time": "2022-06-02T15:24:54.647Z"
   },
   {
    "duration": 0,
    "start_time": "2022-06-02T15:24:54.648Z"
   },
   {
    "duration": 0,
    "start_time": "2022-06-02T15:24:54.650Z"
   },
   {
    "duration": 0,
    "start_time": "2022-06-02T15:24:54.652Z"
   },
   {
    "duration": 0,
    "start_time": "2022-06-02T15:24:54.653Z"
   },
   {
    "duration": 0,
    "start_time": "2022-06-02T15:24:54.654Z"
   },
   {
    "duration": 0,
    "start_time": "2022-06-02T15:24:54.656Z"
   },
   {
    "duration": 0,
    "start_time": "2022-06-02T15:24:54.657Z"
   },
   {
    "duration": 0,
    "start_time": "2022-06-02T15:24:54.658Z"
   },
   {
    "duration": 0,
    "start_time": "2022-06-02T15:24:54.660Z"
   },
   {
    "duration": 0,
    "start_time": "2022-06-02T15:24:54.661Z"
   },
   {
    "duration": 1,
    "start_time": "2022-06-02T15:24:54.662Z"
   },
   {
    "duration": 0,
    "start_time": "2022-06-02T15:24:54.664Z"
   },
   {
    "duration": 0,
    "start_time": "2022-06-02T15:24:54.665Z"
   },
   {
    "duration": 0,
    "start_time": "2022-06-02T15:24:54.667Z"
   },
   {
    "duration": 0,
    "start_time": "2022-06-02T15:24:54.668Z"
   },
   {
    "duration": 0,
    "start_time": "2022-06-02T15:24:54.669Z"
   },
   {
    "duration": 0,
    "start_time": "2022-06-02T15:24:54.726Z"
   },
   {
    "duration": 0,
    "start_time": "2022-06-02T15:24:54.727Z"
   },
   {
    "duration": 0,
    "start_time": "2022-06-02T15:24:54.729Z"
   },
   {
    "duration": 0,
    "start_time": "2022-06-02T15:24:54.730Z"
   },
   {
    "duration": 0,
    "start_time": "2022-06-02T15:24:54.731Z"
   },
   {
    "duration": 4,
    "start_time": "2022-06-02T15:25:17.123Z"
   },
   {
    "duration": 66,
    "start_time": "2022-06-02T15:25:17.131Z"
   },
   {
    "duration": 14,
    "start_time": "2022-06-02T15:25:17.199Z"
   },
   {
    "duration": 35,
    "start_time": "2022-06-02T15:25:17.215Z"
   },
   {
    "duration": 16,
    "start_time": "2022-06-02T15:25:17.253Z"
   },
   {
    "duration": 10,
    "start_time": "2022-06-02T15:25:17.270Z"
   },
   {
    "duration": 47,
    "start_time": "2022-06-02T15:25:17.281Z"
   },
   {
    "duration": 14,
    "start_time": "2022-06-02T15:25:17.330Z"
   },
   {
    "duration": 22,
    "start_time": "2022-06-02T15:25:17.346Z"
   },
   {
    "duration": 10,
    "start_time": "2022-06-02T15:25:17.369Z"
   },
   {
    "duration": 27,
    "start_time": "2022-06-02T15:25:17.383Z"
   },
   {
    "duration": 11,
    "start_time": "2022-06-02T15:25:17.412Z"
   },
   {
    "duration": 27,
    "start_time": "2022-06-02T15:25:17.425Z"
   },
   {
    "duration": 33,
    "start_time": "2022-06-02T15:25:17.454Z"
   },
   {
    "duration": 21,
    "start_time": "2022-06-02T15:25:17.489Z"
   },
   {
    "duration": 22,
    "start_time": "2022-06-02T15:25:17.512Z"
   },
   {
    "duration": 13,
    "start_time": "2022-06-02T15:25:17.535Z"
   },
   {
    "duration": 7,
    "start_time": "2022-06-02T15:25:17.550Z"
   },
   {
    "duration": 904,
    "start_time": "2022-06-02T15:25:17.559Z"
   },
   {
    "duration": 15,
    "start_time": "2022-06-02T15:25:18.465Z"
   },
   {
    "duration": 24,
    "start_time": "2022-06-02T15:25:18.481Z"
   },
   {
    "duration": 31,
    "start_time": "2022-06-02T15:25:18.507Z"
   },
   {
    "duration": 5,
    "start_time": "2022-06-02T15:25:18.540Z"
   },
   {
    "duration": 6,
    "start_time": "2022-06-02T15:25:18.546Z"
   },
   {
    "duration": 1511,
    "start_time": "2022-06-02T15:25:18.553Z"
   },
   {
    "duration": 14,
    "start_time": "2022-06-02T15:25:20.066Z"
   },
   {
    "duration": 14,
    "start_time": "2022-06-02T15:25:20.082Z"
   },
   {
    "duration": 12,
    "start_time": "2022-06-02T15:25:20.098Z"
   },
   {
    "duration": 7,
    "start_time": "2022-06-02T15:25:20.128Z"
   },
   {
    "duration": 40,
    "start_time": "2022-06-02T15:25:20.136Z"
   },
   {
    "duration": 21,
    "start_time": "2022-06-02T15:25:20.178Z"
   },
   {
    "duration": 4,
    "start_time": "2022-06-02T15:25:20.201Z"
   },
   {
    "duration": 16,
    "start_time": "2022-06-02T15:25:20.207Z"
   },
   {
    "duration": 11,
    "start_time": "2022-06-02T15:25:20.225Z"
   },
   {
    "duration": 8,
    "start_time": "2022-06-02T15:25:20.237Z"
   },
   {
    "duration": 16,
    "start_time": "2022-06-02T15:25:20.247Z"
   },
   {
    "duration": 28,
    "start_time": "2022-06-02T15:25:20.265Z"
   },
   {
    "duration": 22,
    "start_time": "2022-06-02T15:25:20.295Z"
   },
   {
    "duration": 14,
    "start_time": "2022-06-02T15:25:20.319Z"
   },
   {
    "duration": 13,
    "start_time": "2022-06-02T15:25:20.335Z"
   },
   {
    "duration": 415,
    "start_time": "2022-06-02T15:25:20.350Z"
   },
   {
    "duration": 7,
    "start_time": "2022-06-02T15:25:20.767Z"
   },
   {
    "duration": 14,
    "start_time": "2022-06-02T15:25:20.775Z"
   },
   {
    "duration": 58,
    "start_time": "2022-06-02T15:25:20.790Z"
   },
   {
    "duration": 7,
    "start_time": "2022-06-02T15:25:20.850Z"
   },
   {
    "duration": 1093,
    "start_time": "2022-06-02T15:25:20.859Z"
   },
   {
    "duration": 3,
    "start_time": "2022-06-02T15:25:21.953Z"
   },
   {
    "duration": 26,
    "start_time": "2022-06-02T15:25:21.957Z"
   },
   {
    "duration": 9,
    "start_time": "2022-06-02T15:25:21.984Z"
   },
   {
    "duration": 300,
    "start_time": "2022-06-02T15:25:21.994Z"
   },
   {
    "duration": 7,
    "start_time": "2022-06-02T15:25:22.295Z"
   },
   {
    "duration": 1420,
    "start_time": "2022-06-02T15:25:22.304Z"
   },
   {
    "duration": 6,
    "start_time": "2022-06-02T15:25:23.726Z"
   },
   {
    "duration": 11,
    "start_time": "2022-06-02T15:25:23.733Z"
   },
   {
    "duration": 1606,
    "start_time": "2022-06-02T15:25:23.745Z"
   },
   {
    "duration": 278,
    "start_time": "2022-06-02T15:25:25.354Z"
   },
   {
    "duration": 4,
    "start_time": "2022-06-02T15:25:25.633Z"
   },
   {
    "duration": 1610,
    "start_time": "2022-06-02T15:25:25.639Z"
   },
   {
    "duration": 277,
    "start_time": "2022-06-02T15:25:27.251Z"
   },
   {
    "duration": 22,
    "start_time": "2022-06-02T15:25:27.529Z"
   },
   {
    "duration": 5,
    "start_time": "2022-06-02T15:25:27.553Z"
   },
   {
    "duration": 277,
    "start_time": "2022-06-02T15:25:27.560Z"
   },
   {
    "duration": 58,
    "start_time": "2022-06-03T08:27:52.027Z"
   },
   {
    "duration": 7,
    "start_time": "2022-06-03T08:27:58.079Z"
   },
   {
    "duration": 1426,
    "start_time": "2022-06-03T08:28:01.801Z"
   },
   {
    "duration": 89,
    "start_time": "2022-06-03T08:28:03.229Z"
   },
   {
    "duration": 18,
    "start_time": "2022-06-03T08:28:03.319Z"
   },
   {
    "duration": 17,
    "start_time": "2022-06-03T08:28:03.338Z"
   },
   {
    "duration": 8,
    "start_time": "2022-06-03T08:28:03.357Z"
   },
   {
    "duration": 4,
    "start_time": "2022-06-03T08:28:03.366Z"
   },
   {
    "duration": 31,
    "start_time": "2022-06-03T08:28:03.372Z"
   },
   {
    "duration": 33,
    "start_time": "2022-06-03T08:28:03.405Z"
   },
   {
    "duration": 15,
    "start_time": "2022-06-03T08:28:03.441Z"
   },
   {
    "duration": 7,
    "start_time": "2022-06-03T08:28:03.457Z"
   },
   {
    "duration": 25,
    "start_time": "2022-06-03T08:28:03.465Z"
   },
   {
    "duration": 13,
    "start_time": "2022-06-03T08:28:03.492Z"
   },
   {
    "duration": 22,
    "start_time": "2022-06-03T08:28:03.506Z"
   },
   {
    "duration": 22,
    "start_time": "2022-06-03T08:28:03.530Z"
   },
   {
    "duration": 30,
    "start_time": "2022-06-03T08:28:03.553Z"
   },
   {
    "duration": 15,
    "start_time": "2022-06-03T08:28:03.585Z"
   },
   {
    "duration": 4,
    "start_time": "2022-06-03T08:28:03.602Z"
   },
   {
    "duration": 19,
    "start_time": "2022-06-03T08:28:03.608Z"
   },
   {
    "duration": 1149,
    "start_time": "2022-06-03T08:28:03.629Z"
   },
   {
    "duration": 14,
    "start_time": "2022-06-03T08:28:04.780Z"
   },
   {
    "duration": 24,
    "start_time": "2022-06-03T08:28:04.796Z"
   },
   {
    "duration": 15,
    "start_time": "2022-06-03T08:28:04.826Z"
   },
   {
    "duration": 11,
    "start_time": "2022-06-03T08:28:04.843Z"
   },
   {
    "duration": 8,
    "start_time": "2022-06-03T08:28:04.856Z"
   },
   {
    "duration": 1070,
    "start_time": "2022-06-03T08:28:04.865Z"
   },
   {
    "duration": 12,
    "start_time": "2022-06-03T08:28:05.937Z"
   },
   {
    "duration": 19,
    "start_time": "2022-06-03T08:28:05.950Z"
   },
   {
    "duration": 32,
    "start_time": "2022-06-03T08:28:05.970Z"
   },
   {
    "duration": 13,
    "start_time": "2022-06-03T08:28:06.004Z"
   },
   {
    "duration": 17,
    "start_time": "2022-06-03T08:28:06.019Z"
   },
   {
    "duration": 5,
    "start_time": "2022-06-03T08:28:06.038Z"
   },
   {
    "duration": 24,
    "start_time": "2022-06-03T08:28:06.044Z"
   },
   {
    "duration": 9,
    "start_time": "2022-06-03T08:28:06.070Z"
   },
   {
    "duration": 27,
    "start_time": "2022-06-03T08:28:06.080Z"
   },
   {
    "duration": 24,
    "start_time": "2022-06-03T08:28:06.108Z"
   },
   {
    "duration": 18,
    "start_time": "2022-06-03T08:28:06.134Z"
   },
   {
    "duration": 19,
    "start_time": "2022-06-03T08:28:06.153Z"
   },
   {
    "duration": 20,
    "start_time": "2022-06-03T08:28:06.173Z"
   },
   {
    "duration": 13,
    "start_time": "2022-06-03T08:28:06.195Z"
   },
   {
    "duration": 412,
    "start_time": "2022-06-03T08:28:06.210Z"
   },
   {
    "duration": 7,
    "start_time": "2022-06-03T08:28:06.628Z"
   },
   {
    "duration": 23,
    "start_time": "2022-06-03T08:28:06.637Z"
   },
   {
    "duration": 60,
    "start_time": "2022-06-03T08:28:06.662Z"
   },
   {
    "duration": 7,
    "start_time": "2022-06-03T08:28:06.724Z"
   },
   {
    "duration": 1091,
    "start_time": "2022-06-03T08:28:06.732Z"
   },
   {
    "duration": 7,
    "start_time": "2022-06-03T08:28:07.826Z"
   },
   {
    "duration": 7,
    "start_time": "2022-06-03T08:28:07.834Z"
   },
   {
    "duration": 302,
    "start_time": "2022-06-03T08:28:07.842Z"
   },
   {
    "duration": 5,
    "start_time": "2022-06-03T08:28:08.146Z"
   },
   {
    "duration": 1482,
    "start_time": "2022-06-03T08:28:08.153Z"
   },
   {
    "duration": 6,
    "start_time": "2022-06-03T08:28:09.636Z"
   },
   {
    "duration": 23,
    "start_time": "2022-06-03T08:28:09.644Z"
   },
   {
    "duration": 1626,
    "start_time": "2022-06-03T08:28:09.669Z"
   },
   {
    "duration": 296,
    "start_time": "2022-06-03T08:28:11.297Z"
   },
   {
    "duration": 4,
    "start_time": "2022-06-03T08:28:11.594Z"
   },
   {
    "duration": 1478,
    "start_time": "2022-06-03T08:28:11.600Z"
   },
   {
    "duration": 336,
    "start_time": "2022-06-03T08:28:13.080Z"
   },
   {
    "duration": 23,
    "start_time": "2022-06-03T08:28:13.425Z"
   },
   {
    "duration": 13,
    "start_time": "2022-06-03T08:28:13.449Z"
   },
   {
    "duration": 380,
    "start_time": "2022-06-03T08:28:13.464Z"
   },
   {
    "duration": 325,
    "start_time": "2022-06-03T08:28:19.435Z"
   },
   {
    "duration": 296,
    "start_time": "2022-06-03T08:28:36.098Z"
   },
   {
    "duration": 23,
    "start_time": "2022-06-03T08:30:20.284Z"
   },
   {
    "duration": 7,
    "start_time": "2022-06-03T08:33:41.022Z"
   },
   {
    "duration": 12,
    "start_time": "2022-06-03T08:34:45.989Z"
   },
   {
    "duration": 13,
    "start_time": "2022-06-03T08:35:18.938Z"
   },
   {
    "duration": 67,
    "start_time": "2022-06-03T08:35:33.869Z"
   },
   {
    "duration": 13,
    "start_time": "2022-06-03T08:36:15.678Z"
   },
   {
    "duration": 12,
    "start_time": "2022-06-03T08:36:31.893Z"
   },
   {
    "duration": 12,
    "start_time": "2022-06-03T08:37:28.641Z"
   },
   {
    "duration": 15,
    "start_time": "2022-06-03T08:39:00.173Z"
   },
   {
    "duration": 177,
    "start_time": "2022-06-03T08:39:15.136Z"
   },
   {
    "duration": 100,
    "start_time": "2022-06-03T08:42:36.170Z"
   },
   {
    "duration": 179,
    "start_time": "2022-06-03T08:42:54.793Z"
   },
   {
    "duration": 7,
    "start_time": "2022-06-03T08:43:39.798Z"
   },
   {
    "duration": 7,
    "start_time": "2022-06-03T08:43:46.332Z"
   },
   {
    "duration": 26,
    "start_time": "2022-06-03T08:44:30.218Z"
   },
   {
    "duration": 8,
    "start_time": "2022-06-03T08:45:04.355Z"
   },
   {
    "duration": 9,
    "start_time": "2022-06-03T08:45:16.270Z"
   },
   {
    "duration": 8,
    "start_time": "2022-06-03T08:46:53.004Z"
   },
   {
    "duration": 11,
    "start_time": "2022-06-03T08:46:59.900Z"
   },
   {
    "duration": 7,
    "start_time": "2022-06-03T08:47:09.076Z"
   },
   {
    "duration": 8,
    "start_time": "2022-06-03T08:47:10.297Z"
   },
   {
    "duration": 11,
    "start_time": "2022-06-03T08:48:22.221Z"
   },
   {
    "duration": 8,
    "start_time": "2022-06-03T08:49:11.662Z"
   },
   {
    "duration": 10,
    "start_time": "2022-06-03T08:49:15.273Z"
   },
   {
    "duration": 7,
    "start_time": "2022-06-03T08:49:21.361Z"
   },
   {
    "duration": 20,
    "start_time": "2022-06-03T08:50:31.083Z"
   },
   {
    "duration": 13,
    "start_time": "2022-06-03T08:50:48.601Z"
   },
   {
    "duration": 23,
    "start_time": "2022-06-03T08:55:08.348Z"
   },
   {
    "duration": 8,
    "start_time": "2022-06-03T08:55:12.180Z"
   },
   {
    "duration": 15,
    "start_time": "2022-06-03T08:55:19.695Z"
   },
   {
    "duration": 8,
    "start_time": "2022-06-03T08:55:27.053Z"
   },
   {
    "duration": 14,
    "start_time": "2022-06-03T08:56:30.879Z"
   },
   {
    "duration": 8,
    "start_time": "2022-06-03T08:56:32.674Z"
   },
   {
    "duration": 16,
    "start_time": "2022-06-03T08:58:28.175Z"
   },
   {
    "duration": 14,
    "start_time": "2022-06-03T09:00:39.976Z"
   },
   {
    "duration": 17,
    "start_time": "2022-06-03T09:00:41.175Z"
   },
   {
    "duration": 4,
    "start_time": "2022-06-03T09:53:22.292Z"
   },
   {
    "duration": 3,
    "start_time": "2022-06-03T09:54:01.371Z"
   },
   {
    "duration": 8,
    "start_time": "2022-06-03T09:55:08.731Z"
   },
   {
    "duration": 7,
    "start_time": "2022-06-03T09:55:52.978Z"
   },
   {
    "duration": 8,
    "start_time": "2022-06-03T09:57:18.121Z"
   },
   {
    "duration": 1399,
    "start_time": "2022-06-03T10:07:47.796Z"
   },
   {
    "duration": 1400,
    "start_time": "2022-06-03T10:08:04.581Z"
   },
   {
    "duration": 1535,
    "start_time": "2022-06-03T10:08:14.005Z"
   },
   {
    "duration": 1366,
    "start_time": "2022-06-03T10:08:28.077Z"
   },
   {
    "duration": 1401,
    "start_time": "2022-06-03T10:09:02.713Z"
   },
   {
    "duration": 1477,
    "start_time": "2022-06-03T10:09:11.997Z"
   },
   {
    "duration": 1409,
    "start_time": "2022-06-03T10:09:59.970Z"
   },
   {
    "duration": 1306,
    "start_time": "2022-06-03T10:10:08.473Z"
   },
   {
    "duration": 5,
    "start_time": "2022-06-03T10:10:21.633Z"
   },
   {
    "duration": 1392,
    "start_time": "2022-06-03T10:10:27.101Z"
   },
   {
    "duration": 1373,
    "start_time": "2022-06-03T10:10:49.727Z"
   },
   {
    "duration": 162,
    "start_time": "2022-06-03T10:11:30.474Z"
   },
   {
    "duration": 1320,
    "start_time": "2022-06-03T10:11:33.181Z"
   },
   {
    "duration": 182,
    "start_time": "2022-06-03T10:11:57.418Z"
   },
   {
    "duration": 175,
    "start_time": "2022-06-03T10:12:12.593Z"
   },
   {
    "duration": 210,
    "start_time": "2022-06-03T10:12:22.422Z"
   },
   {
    "duration": 174,
    "start_time": "2022-06-03T10:12:41.273Z"
   },
   {
    "duration": 166,
    "start_time": "2022-06-03T10:12:51.433Z"
   },
   {
    "duration": 272,
    "start_time": "2022-06-03T10:12:55.440Z"
   },
   {
    "duration": 208,
    "start_time": "2022-06-03T10:14:44.333Z"
   },
   {
    "duration": 180,
    "start_time": "2022-06-03T10:14:57.045Z"
   },
   {
    "duration": 146,
    "start_time": "2022-06-03T10:15:39.695Z"
   },
   {
    "duration": 162,
    "start_time": "2022-06-03T10:15:44.479Z"
   },
   {
    "duration": 178,
    "start_time": "2022-06-03T10:16:43.712Z"
   },
   {
    "duration": 178,
    "start_time": "2022-06-03T10:16:59.699Z"
   },
   {
    "duration": 271,
    "start_time": "2022-06-03T10:18:56.279Z"
   },
   {
    "duration": 187,
    "start_time": "2022-06-03T10:20:03.033Z"
   },
   {
    "duration": 323,
    "start_time": "2022-06-03T10:20:15.351Z"
   },
   {
    "duration": 287,
    "start_time": "2022-06-03T10:20:27.390Z"
   },
   {
    "duration": 432,
    "start_time": "2022-06-03T10:21:06.079Z"
   },
   {
    "duration": 295,
    "start_time": "2022-06-03T10:21:11.012Z"
   },
   {
    "duration": 313,
    "start_time": "2022-06-03T10:21:21.596Z"
   },
   {
    "duration": 324,
    "start_time": "2022-06-03T10:21:45.013Z"
   },
   {
    "duration": 1129,
    "start_time": "2022-06-03T10:25:30.910Z"
   },
   {
    "duration": 1835,
    "start_time": "2022-06-03T10:25:47.075Z"
   },
   {
    "duration": 4,
    "start_time": "2022-06-03T10:33:35.885Z"
   },
   {
    "duration": 52,
    "start_time": "2022-06-03T10:33:35.891Z"
   },
   {
    "duration": 14,
    "start_time": "2022-06-03T10:33:35.945Z"
   },
   {
    "duration": 19,
    "start_time": "2022-06-03T10:33:35.961Z"
   },
   {
    "duration": 10,
    "start_time": "2022-06-03T10:33:35.982Z"
   },
   {
    "duration": 13,
    "start_time": "2022-06-03T10:33:35.993Z"
   },
   {
    "duration": 36,
    "start_time": "2022-06-03T10:33:36.008Z"
   },
   {
    "duration": 9,
    "start_time": "2022-06-03T10:33:36.046Z"
   },
   {
    "duration": 6,
    "start_time": "2022-06-03T10:33:36.058Z"
   },
   {
    "duration": 12,
    "start_time": "2022-06-03T10:33:36.066Z"
   },
   {
    "duration": 8,
    "start_time": "2022-06-03T10:33:36.080Z"
   },
   {
    "duration": 12,
    "start_time": "2022-06-03T10:33:36.090Z"
   },
   {
    "duration": 15,
    "start_time": "2022-06-03T10:33:36.125Z"
   },
   {
    "duration": 15,
    "start_time": "2022-06-03T10:33:36.141Z"
   },
   {
    "duration": 8,
    "start_time": "2022-06-03T10:33:36.157Z"
   },
   {
    "duration": 10,
    "start_time": "2022-06-03T10:33:36.166Z"
   },
   {
    "duration": 7,
    "start_time": "2022-06-03T10:33:36.177Z"
   },
   {
    "duration": 45,
    "start_time": "2022-06-03T10:33:36.186Z"
   },
   {
    "duration": 1079,
    "start_time": "2022-06-03T10:33:36.233Z"
   },
   {
    "duration": 19,
    "start_time": "2022-06-03T10:33:37.314Z"
   },
   {
    "duration": 23,
    "start_time": "2022-06-03T10:33:37.335Z"
   },
   {
    "duration": 17,
    "start_time": "2022-06-03T10:33:37.359Z"
   },
   {
    "duration": 13,
    "start_time": "2022-06-03T10:33:37.378Z"
   },
   {
    "duration": 29,
    "start_time": "2022-06-03T10:33:37.397Z"
   },
   {
    "duration": 1083,
    "start_time": "2022-06-03T10:33:37.428Z"
   },
   {
    "duration": 19,
    "start_time": "2022-06-03T10:33:38.513Z"
   },
   {
    "duration": 38,
    "start_time": "2022-06-03T10:33:38.534Z"
   },
   {
    "duration": 15,
    "start_time": "2022-06-03T10:33:38.574Z"
   },
   {
    "duration": 34,
    "start_time": "2022-06-03T10:33:38.590Z"
   },
   {
    "duration": 42,
    "start_time": "2022-06-03T10:33:38.626Z"
   },
   {
    "duration": 15,
    "start_time": "2022-06-03T10:33:38.669Z"
   },
   {
    "duration": 36,
    "start_time": "2022-06-03T10:33:38.686Z"
   },
   {
    "duration": 24,
    "start_time": "2022-06-03T10:33:38.724Z"
   },
   {
    "duration": 21,
    "start_time": "2022-06-03T10:33:38.750Z"
   },
   {
    "duration": 27,
    "start_time": "2022-06-03T10:33:38.773Z"
   },
   {
    "duration": 19,
    "start_time": "2022-06-03T10:33:38.801Z"
   },
   {
    "duration": 48,
    "start_time": "2022-06-03T10:33:38.821Z"
   },
   {
    "duration": 15,
    "start_time": "2022-06-03T10:33:38.870Z"
   },
   {
    "duration": 21,
    "start_time": "2022-06-03T10:33:38.887Z"
   },
   {
    "duration": 468,
    "start_time": "2022-06-03T10:33:38.910Z"
   },
   {
    "duration": 8,
    "start_time": "2022-06-03T10:33:39.379Z"
   },
   {
    "duration": 10,
    "start_time": "2022-06-03T10:33:39.389Z"
   },
   {
    "duration": 54,
    "start_time": "2022-06-03T10:33:39.403Z"
   },
   {
    "duration": 7,
    "start_time": "2022-06-03T10:33:39.459Z"
   },
   {
    "duration": 1059,
    "start_time": "2022-06-03T10:33:39.468Z"
   },
   {
    "duration": 6,
    "start_time": "2022-06-03T10:33:40.528Z"
   },
   {
    "duration": 30,
    "start_time": "2022-06-03T10:33:40.536Z"
   },
   {
    "duration": 295,
    "start_time": "2022-06-03T10:33:40.568Z"
   },
   {
    "duration": 6,
    "start_time": "2022-06-03T10:33:40.864Z"
   },
   {
    "duration": 190,
    "start_time": "2022-06-03T10:33:40.871Z"
   },
   {
    "duration": 194,
    "start_time": "2022-06-03T10:33:41.062Z"
   },
   {
    "duration": 6,
    "start_time": "2022-06-03T10:33:41.258Z"
   },
   {
    "duration": 45,
    "start_time": "2022-06-03T10:33:41.265Z"
   },
   {
    "duration": 1697,
    "start_time": "2022-06-03T10:33:41.312Z"
   },
   {
    "duration": 304,
    "start_time": "2022-06-03T10:33:43.011Z"
   },
   {
    "duration": 10,
    "start_time": "2022-06-03T10:33:43.317Z"
   },
   {
    "duration": 1538,
    "start_time": "2022-06-03T10:33:43.329Z"
   },
   {
    "duration": 272,
    "start_time": "2022-06-03T10:33:44.869Z"
   },
   {
    "duration": 411,
    "start_time": "2022-06-03T10:33:45.143Z"
   },
   {
    "duration": 13,
    "start_time": "2022-06-03T10:33:45.556Z"
   },
   {
    "duration": 4,
    "start_time": "2022-06-03T10:33:45.571Z"
   },
   {
    "duration": 12,
    "start_time": "2022-06-03T10:33:45.577Z"
   },
   {
    "duration": 862,
    "start_time": "2022-06-03T10:34:38.452Z"
   },
   {
    "duration": 1187,
    "start_time": "2022-06-03T10:35:26.881Z"
   },
   {
    "duration": 1770,
    "start_time": "2022-06-03T10:35:53.591Z"
   },
   {
    "duration": 1706,
    "start_time": "2022-06-03T10:35:59.190Z"
   },
   {
    "duration": 18,
    "start_time": "2022-06-03T10:38:14.598Z"
   },
   {
    "duration": 11,
    "start_time": "2022-06-03T10:38:35.021Z"
   },
   {
    "duration": 75,
    "start_time": "2022-06-03T12:14:34.354Z"
   },
   {
    "duration": 23,
    "start_time": "2022-06-03T12:14:38.662Z"
   },
   {
    "duration": 22,
    "start_time": "2022-06-03T12:15:22.805Z"
   },
   {
    "duration": 9,
    "start_time": "2022-06-03T12:15:47.975Z"
   },
   {
    "duration": 19,
    "start_time": "2022-06-03T12:15:55.853Z"
   },
   {
    "duration": 119,
    "start_time": "2022-06-03T12:20:17.959Z"
   },
   {
    "duration": 90,
    "start_time": "2022-06-03T12:20:38.285Z"
   },
   {
    "duration": 90,
    "start_time": "2022-06-03T12:22:06.588Z"
   },
   {
    "duration": 115,
    "start_time": "2022-06-03T12:22:36.922Z"
   },
   {
    "duration": 93,
    "start_time": "2022-06-03T12:22:46.542Z"
   },
   {
    "duration": 116,
    "start_time": "2022-06-03T12:23:13.050Z"
   },
   {
    "duration": 329,
    "start_time": "2022-06-03T12:23:24.321Z"
   },
   {
    "duration": 158,
    "start_time": "2022-06-03T12:24:11.183Z"
   },
   {
    "duration": 140,
    "start_time": "2022-06-03T12:24:52.884Z"
   },
   {
    "duration": 133,
    "start_time": "2022-06-03T12:25:17.464Z"
   },
   {
    "duration": 141,
    "start_time": "2022-06-03T12:25:41.504Z"
   },
   {
    "duration": 143,
    "start_time": "2022-06-03T12:27:00.817Z"
   },
   {
    "duration": 10,
    "start_time": "2022-06-03T12:32:57.280Z"
   },
   {
    "duration": 141,
    "start_time": "2022-06-03T12:33:17.843Z"
   },
   {
    "duration": 145,
    "start_time": "2022-06-03T12:33:43.011Z"
   },
   {
    "duration": 138,
    "start_time": "2022-06-03T12:34:13.180Z"
   },
   {
    "duration": 144,
    "start_time": "2022-06-03T12:35:38.366Z"
   },
   {
    "duration": 64,
    "start_time": "2022-06-03T12:36:00.913Z"
   },
   {
    "duration": 193,
    "start_time": "2022-06-03T12:36:11.500Z"
   },
   {
    "duration": 141,
    "start_time": "2022-06-03T12:36:40.567Z"
   },
   {
    "duration": 154,
    "start_time": "2022-06-03T12:36:58.975Z"
   },
   {
    "duration": 136,
    "start_time": "2022-06-03T12:38:27.951Z"
   },
   {
    "duration": 156,
    "start_time": "2022-06-03T12:39:59.996Z"
   },
   {
    "duration": 23,
    "start_time": "2022-06-03T12:44:02.475Z"
   },
   {
    "duration": 31,
    "start_time": "2022-06-03T12:44:43.593Z"
   },
   {
    "duration": 19,
    "start_time": "2022-06-03T12:45:34.902Z"
   },
   {
    "duration": 7,
    "start_time": "2022-06-03T12:45:44.768Z"
   },
   {
    "duration": 25,
    "start_time": "2022-06-03T12:48:45.380Z"
   },
   {
    "duration": 7,
    "start_time": "2022-06-03T12:48:51.867Z"
   },
   {
    "duration": 8,
    "start_time": "2022-06-03T12:48:53.197Z"
   },
   {
    "duration": 24,
    "start_time": "2022-06-03T12:49:14.360Z"
   },
   {
    "duration": 10,
    "start_time": "2022-06-03T12:49:48.142Z"
   },
   {
    "duration": 137,
    "start_time": "2022-06-03T12:49:50.501Z"
   },
   {
    "duration": 23,
    "start_time": "2022-06-03T12:49:57.415Z"
   },
   {
    "duration": 7,
    "start_time": "2022-06-03T12:50:21.404Z"
   },
   {
    "duration": 6,
    "start_time": "2022-06-03T12:57:49.960Z"
   },
   {
    "duration": 7,
    "start_time": "2022-06-03T12:57:55.502Z"
   },
   {
    "duration": 6,
    "start_time": "2022-06-03T13:02:44.794Z"
   },
   {
    "duration": 6,
    "start_time": "2022-06-03T13:10:28.151Z"
   },
   {
    "duration": 6,
    "start_time": "2022-06-03T13:11:35.732Z"
   },
   {
    "duration": 6,
    "start_time": "2022-06-03T13:17:37.516Z"
   },
   {
    "duration": 7,
    "start_time": "2022-06-03T13:17:43.896Z"
   },
   {
    "duration": 6,
    "start_time": "2022-06-03T13:17:48.453Z"
   },
   {
    "duration": 7,
    "start_time": "2022-06-03T13:17:52.780Z"
   },
   {
    "duration": 6,
    "start_time": "2022-06-03T13:18:01.234Z"
   },
   {
    "duration": 12,
    "start_time": "2022-06-03T13:20:12.593Z"
   },
   {
    "duration": 6,
    "start_time": "2022-06-03T13:20:27.333Z"
   },
   {
    "duration": 26,
    "start_time": "2022-06-03T13:22:47.931Z"
   },
   {
    "duration": 13,
    "start_time": "2022-06-03T13:23:56.868Z"
   },
   {
    "duration": 10,
    "start_time": "2022-06-03T13:31:25.370Z"
   },
   {
    "duration": 10,
    "start_time": "2022-06-03T13:31:26.718Z"
   },
   {
    "duration": 6,
    "start_time": "2022-06-03T13:31:55.157Z"
   },
   {
    "duration": 9,
    "start_time": "2022-06-03T13:34:18.146Z"
   },
   {
    "duration": 5,
    "start_time": "2022-06-03T13:36:19.397Z"
   },
   {
    "duration": 96,
    "start_time": "2022-06-03T13:36:19.404Z"
   },
   {
    "duration": 20,
    "start_time": "2022-06-03T13:36:19.502Z"
   },
   {
    "duration": 33,
    "start_time": "2022-06-03T13:36:19.524Z"
   },
   {
    "duration": 34,
    "start_time": "2022-06-03T13:36:19.560Z"
   },
   {
    "duration": 35,
    "start_time": "2022-06-03T13:36:19.596Z"
   },
   {
    "duration": 43,
    "start_time": "2022-06-03T13:36:19.633Z"
   },
   {
    "duration": 29,
    "start_time": "2022-06-03T13:36:19.678Z"
   },
   {
    "duration": 23,
    "start_time": "2022-06-03T13:36:19.709Z"
   },
   {
    "duration": 45,
    "start_time": "2022-06-03T13:36:19.734Z"
   },
   {
    "duration": 20,
    "start_time": "2022-06-03T13:36:19.782Z"
   },
   {
    "duration": 30,
    "start_time": "2022-06-03T13:36:19.804Z"
   },
   {
    "duration": 49,
    "start_time": "2022-06-03T13:36:19.836Z"
   },
   {
    "duration": 49,
    "start_time": "2022-06-03T13:36:19.887Z"
   },
   {
    "duration": 71,
    "start_time": "2022-06-03T13:36:19.938Z"
   },
   {
    "duration": 65,
    "start_time": "2022-06-03T13:36:20.011Z"
   },
   {
    "duration": 51,
    "start_time": "2022-06-03T13:36:20.078Z"
   },
   {
    "duration": 30,
    "start_time": "2022-06-03T13:36:20.132Z"
   },
   {
    "duration": 1095,
    "start_time": "2022-06-03T13:36:20.164Z"
   },
   {
    "duration": 16,
    "start_time": "2022-06-03T13:36:21.261Z"
   },
   {
    "duration": 43,
    "start_time": "2022-06-03T13:36:21.278Z"
   },
   {
    "duration": 49,
    "start_time": "2022-06-03T13:36:21.323Z"
   },
   {
    "duration": 6,
    "start_time": "2022-06-03T13:36:21.375Z"
   },
   {
    "duration": 29,
    "start_time": "2022-06-03T13:36:21.383Z"
   },
   {
    "duration": 1188,
    "start_time": "2022-06-03T13:36:21.414Z"
   },
   {
    "duration": 12,
    "start_time": "2022-06-03T13:36:22.604Z"
   },
   {
    "duration": 19,
    "start_time": "2022-06-03T13:36:22.626Z"
   },
   {
    "duration": 12,
    "start_time": "2022-06-03T13:36:22.647Z"
   },
   {
    "duration": 10,
    "start_time": "2022-06-03T13:36:22.664Z"
   },
   {
    "duration": 25,
    "start_time": "2022-06-03T13:36:22.677Z"
   },
   {
    "duration": 5,
    "start_time": "2022-06-03T13:36:22.704Z"
   },
   {
    "duration": 24,
    "start_time": "2022-06-03T13:36:22.711Z"
   },
   {
    "duration": 18,
    "start_time": "2022-06-03T13:36:22.736Z"
   },
   {
    "duration": 15,
    "start_time": "2022-06-03T13:36:22.757Z"
   },
   {
    "duration": 10,
    "start_time": "2022-06-03T13:36:22.774Z"
   },
   {
    "duration": 8,
    "start_time": "2022-06-03T13:36:22.786Z"
   },
   {
    "duration": 31,
    "start_time": "2022-06-03T13:36:22.797Z"
   },
   {
    "duration": 26,
    "start_time": "2022-06-03T13:36:22.830Z"
   },
   {
    "duration": 17,
    "start_time": "2022-06-03T13:36:22.862Z"
   },
   {
    "duration": 440,
    "start_time": "2022-06-03T13:36:22.881Z"
   },
   {
    "duration": 9,
    "start_time": "2022-06-03T13:36:23.323Z"
   },
   {
    "duration": 5,
    "start_time": "2022-06-03T13:36:23.334Z"
   },
   {
    "duration": 64,
    "start_time": "2022-06-03T13:36:23.341Z"
   },
   {
    "duration": 31,
    "start_time": "2022-06-03T13:36:23.407Z"
   },
   {
    "duration": 1440,
    "start_time": "2022-06-03T13:36:23.441Z"
   },
   {
    "duration": 7,
    "start_time": "2022-06-03T13:36:24.883Z"
   },
   {
    "duration": 24,
    "start_time": "2022-06-03T13:36:24.891Z"
   },
   {
    "duration": 291,
    "start_time": "2022-06-03T13:36:24.916Z"
   },
   {
    "duration": 6,
    "start_time": "2022-06-03T13:36:25.209Z"
   },
   {
    "duration": 189,
    "start_time": "2022-06-03T13:36:25.226Z"
   },
   {
    "duration": 187,
    "start_time": "2022-06-03T13:36:25.417Z"
   },
   {
    "duration": 7,
    "start_time": "2022-06-03T13:36:25.606Z"
   },
   {
    "duration": 6,
    "start_time": "2022-06-03T13:36:25.626Z"
   },
   {
    "duration": 1807,
    "start_time": "2022-06-03T13:36:25.634Z"
   },
   {
    "duration": 308,
    "start_time": "2022-06-03T13:36:27.443Z"
   },
   {
    "duration": 4,
    "start_time": "2022-06-03T13:36:27.753Z"
   },
   {
    "duration": 1778,
    "start_time": "2022-06-03T13:36:27.759Z"
   },
   {
    "duration": 329,
    "start_time": "2022-06-03T13:36:29.540Z"
   },
   {
    "duration": 328,
    "start_time": "2022-06-03T13:36:29.871Z"
   },
   {
    "duration": 29,
    "start_time": "2022-06-03T13:36:30.201Z"
   },
   {
    "duration": 14,
    "start_time": "2022-06-03T13:36:30.232Z"
   },
   {
    "duration": 26,
    "start_time": "2022-06-03T13:36:30.249Z"
   },
   {
    "duration": 42,
    "start_time": "2022-06-03T13:36:30.277Z"
   },
   {
    "duration": 36,
    "start_time": "2022-06-03T13:36:30.321Z"
   },
   {
    "duration": 33,
    "start_time": "2022-06-03T13:36:30.360Z"
   },
   {
    "duration": 49,
    "start_time": "2022-06-03T13:36:30.395Z"
   },
   {
    "duration": 377,
    "start_time": "2022-06-03T13:36:30.445Z"
   },
   {
    "duration": 151,
    "start_time": "2022-06-03T13:36:30.826Z"
   },
   {
    "duration": 217,
    "start_time": "2022-06-03T13:36:30.979Z"
   },
   {
    "duration": 11,
    "start_time": "2022-06-03T13:36:31.198Z"
   },
   {
    "duration": 37,
    "start_time": "2022-06-03T13:36:31.225Z"
   },
   {
    "duration": 47,
    "start_time": "2022-06-03T13:36:31.264Z"
   },
   {
    "duration": 71,
    "start_time": "2022-06-03T13:36:31.313Z"
   },
   {
    "duration": 4,
    "start_time": "2022-06-03T14:04:01.332Z"
   },
   {
    "duration": 1322,
    "start_time": "2022-06-03T14:04:33.053Z"
   },
   {
    "duration": 284,
    "start_time": "2022-06-03T14:04:40.878Z"
   },
   {
    "duration": 333,
    "start_time": "2022-06-03T14:04:59.263Z"
   },
   {
    "duration": 41,
    "start_time": "2022-06-03T14:23:11.151Z"
   },
   {
    "duration": 7,
    "start_time": "2022-06-03T15:15:11.344Z"
   },
   {
    "duration": 7,
    "start_time": "2022-06-03T15:15:20.096Z"
   },
   {
    "duration": 8,
    "start_time": "2022-06-03T15:15:56.503Z"
   },
   {
    "duration": 73,
    "start_time": "2022-06-04T12:21:39.837Z"
   },
   {
    "duration": 1577,
    "start_time": "2022-06-04T12:21:43.101Z"
   },
   {
    "duration": 485,
    "start_time": "2022-06-04T12:21:44.681Z"
   },
   {
    "duration": 37,
    "start_time": "2022-06-04T12:21:45.168Z"
   },
   {
    "duration": 18,
    "start_time": "2022-06-04T12:21:45.207Z"
   },
   {
    "duration": 17,
    "start_time": "2022-06-04T12:21:45.228Z"
   },
   {
    "duration": 5,
    "start_time": "2022-06-04T12:21:45.247Z"
   },
   {
    "duration": 21,
    "start_time": "2022-06-04T12:21:45.254Z"
   },
   {
    "duration": 19,
    "start_time": "2022-06-04T12:21:45.291Z"
   },
   {
    "duration": 5,
    "start_time": "2022-06-04T12:21:45.312Z"
   },
   {
    "duration": 6,
    "start_time": "2022-06-04T12:21:45.320Z"
   },
   {
    "duration": 9,
    "start_time": "2022-06-04T12:21:45.327Z"
   },
   {
    "duration": 11,
    "start_time": "2022-06-04T12:21:45.338Z"
   },
   {
    "duration": 19,
    "start_time": "2022-06-04T12:21:45.351Z"
   },
   {
    "duration": 24,
    "start_time": "2022-06-04T12:21:45.394Z"
   },
   {
    "duration": 16,
    "start_time": "2022-06-04T12:21:45.425Z"
   },
   {
    "duration": 15,
    "start_time": "2022-06-04T12:21:45.443Z"
   },
   {
    "duration": 7,
    "start_time": "2022-06-04T12:21:45.460Z"
   },
   {
    "duration": 7,
    "start_time": "2022-06-04T12:21:45.469Z"
   },
   {
    "duration": 1434,
    "start_time": "2022-06-04T12:21:45.500Z"
   },
   {
    "duration": 16,
    "start_time": "2022-06-04T12:21:46.937Z"
   },
   {
    "duration": 27,
    "start_time": "2022-06-04T12:21:46.954Z"
   },
   {
    "duration": 32,
    "start_time": "2022-06-04T12:21:46.989Z"
   },
   {
    "duration": 8,
    "start_time": "2022-06-04T12:21:47.022Z"
   },
   {
    "duration": 13,
    "start_time": "2022-06-04T12:21:47.032Z"
   },
   {
    "duration": 1503,
    "start_time": "2022-06-04T12:21:47.047Z"
   },
   {
    "duration": 17,
    "start_time": "2022-06-04T12:21:48.553Z"
   },
   {
    "duration": 42,
    "start_time": "2022-06-04T12:21:48.572Z"
   },
   {
    "duration": 9,
    "start_time": "2022-06-04T12:21:48.615Z"
   },
   {
    "duration": 20,
    "start_time": "2022-06-04T12:21:48.627Z"
   },
   {
    "duration": 55,
    "start_time": "2022-06-04T12:21:48.650Z"
   },
   {
    "duration": 6,
    "start_time": "2022-06-04T12:21:48.708Z"
   },
   {
    "duration": 20,
    "start_time": "2022-06-04T12:21:48.716Z"
   },
   {
    "duration": 13,
    "start_time": "2022-06-04T12:21:48.738Z"
   },
   {
    "duration": 8,
    "start_time": "2022-06-04T12:21:48.754Z"
   },
   {
    "duration": 11,
    "start_time": "2022-06-04T12:21:48.764Z"
   },
   {
    "duration": 13,
    "start_time": "2022-06-04T12:21:48.790Z"
   },
   {
    "duration": 18,
    "start_time": "2022-06-04T12:21:48.806Z"
   },
   {
    "duration": 15,
    "start_time": "2022-06-04T12:21:48.826Z"
   },
   {
    "duration": 7,
    "start_time": "2022-06-04T12:21:48.842Z"
   },
   {
    "duration": 574,
    "start_time": "2022-06-04T12:21:48.851Z"
   },
   {
    "duration": 8,
    "start_time": "2022-06-04T12:21:49.430Z"
   },
   {
    "duration": 8,
    "start_time": "2022-06-04T12:21:49.440Z"
   },
   {
    "duration": 81,
    "start_time": "2022-06-04T12:21:49.450Z"
   },
   {
    "duration": 9,
    "start_time": "2022-06-04T12:21:49.532Z"
   },
   {
    "duration": 1472,
    "start_time": "2022-06-04T12:21:49.544Z"
   },
   {
    "duration": 9,
    "start_time": "2022-06-04T12:21:51.019Z"
   },
   {
    "duration": 6,
    "start_time": "2022-06-04T12:21:51.029Z"
   },
   {
    "duration": 396,
    "start_time": "2022-06-04T12:21:51.037Z"
   },
   {
    "duration": 7,
    "start_time": "2022-06-04T12:21:51.435Z"
   },
   {
    "duration": 258,
    "start_time": "2022-06-04T12:21:51.445Z"
   },
   {
    "duration": 260,
    "start_time": "2022-06-04T12:21:51.705Z"
   },
   {
    "duration": 10,
    "start_time": "2022-06-04T12:21:51.967Z"
   },
   {
    "duration": 18,
    "start_time": "2022-06-04T12:21:51.978Z"
   },
   {
    "duration": 2134,
    "start_time": "2022-06-04T12:21:51.998Z"
   },
   {
    "duration": 374,
    "start_time": "2022-06-04T12:21:54.134Z"
   },
   {
    "duration": 4,
    "start_time": "2022-06-04T12:21:54.509Z"
   },
   {
    "duration": 1758,
    "start_time": "2022-06-04T12:21:54.515Z"
   },
   {
    "duration": 336,
    "start_time": "2022-06-04T12:21:56.275Z"
   },
   {
    "duration": 5,
    "start_time": "2022-06-04T12:21:56.613Z"
   },
   {
    "duration": 1832,
    "start_time": "2022-06-04T12:21:56.620Z"
   },
   {
    "duration": 364,
    "start_time": "2022-06-04T12:21:58.454Z"
   },
   {
    "duration": 327,
    "start_time": "2022-06-04T12:21:58.820Z"
   },
   {
    "duration": 17,
    "start_time": "2022-06-04T12:21:59.149Z"
   },
   {
    "duration": 22,
    "start_time": "2022-06-04T12:21:59.168Z"
   },
   {
    "duration": 18,
    "start_time": "2022-06-04T12:21:59.193Z"
   },
   {
    "duration": 27,
    "start_time": "2022-06-04T12:21:59.213Z"
   },
   {
    "duration": 11,
    "start_time": "2022-06-04T12:21:59.243Z"
   },
   {
    "duration": 38,
    "start_time": "2022-06-04T12:21:59.257Z"
   },
   {
    "duration": 32,
    "start_time": "2022-06-04T12:21:59.297Z"
   },
   {
    "duration": 180,
    "start_time": "2022-06-04T12:21:59.330Z"
   },
   {
    "duration": 168,
    "start_time": "2022-06-04T12:21:59.512Z"
   },
   {
    "duration": 175,
    "start_time": "2022-06-04T12:21:59.682Z"
   },
   {
    "duration": 9,
    "start_time": "2022-06-04T12:21:59.859Z"
   },
   {
    "duration": 33,
    "start_time": "2022-06-04T12:21:59.870Z"
   },
   {
    "duration": 23,
    "start_time": "2022-06-04T12:21:59.905Z"
   },
   {
    "duration": 12,
    "start_time": "2022-06-04T12:21:59.930Z"
   },
   {
    "duration": 314,
    "start_time": "2022-06-04T12:27:38.711Z"
   },
   {
    "duration": 423,
    "start_time": "2022-06-04T12:28:16.209Z"
   },
   {
    "duration": 294,
    "start_time": "2022-06-04T12:30:31.938Z"
   },
   {
    "duration": 16,
    "start_time": "2022-06-04T12:30:51.138Z"
   },
   {
    "duration": 317,
    "start_time": "2022-06-04T12:31:22.147Z"
   },
   {
    "duration": 320,
    "start_time": "2022-06-04T12:34:58.546Z"
   },
   {
    "duration": 9,
    "start_time": "2022-06-04T12:50:31.312Z"
   },
   {
    "duration": 319,
    "start_time": "2022-06-04T12:50:35.925Z"
   },
   {
    "duration": 25,
    "start_time": "2022-06-04T12:50:51.734Z"
   },
   {
    "duration": 226,
    "start_time": "2022-06-04T12:51:12.419Z"
   },
   {
    "duration": 238,
    "start_time": "2022-06-04T12:51:29.102Z"
   },
   {
    "duration": 229,
    "start_time": "2022-06-04T12:52:12.201Z"
   },
   {
    "duration": 226,
    "start_time": "2022-06-04T12:53:21.101Z"
   },
   {
    "duration": 229,
    "start_time": "2022-06-04T12:53:28.854Z"
   },
   {
    "duration": 7,
    "start_time": "2022-06-04T13:57:48.323Z"
   },
   {
    "duration": 7,
    "start_time": "2022-06-04T14:22:31.137Z"
   },
   {
    "duration": 6,
    "start_time": "2022-06-04T14:23:49.410Z"
   }
  ],
  "kernelspec": {
   "display_name": "Python 3",
   "language": "python",
   "name": "python3"
  },
  "language_info": {
   "codemirror_mode": {
    "name": "ipython",
    "version": 3
   },
   "file_extension": ".py",
   "mimetype": "text/x-python",
   "name": "python",
   "nbconvert_exporter": "python",
   "pygments_lexer": "ipython3",
   "version": "3.8.5"
  },
  "toc": {
   "base_numbering": 1,
   "nav_menu": {},
   "number_sections": true,
   "sideBar": true,
   "skip_h1_title": true,
   "title_cell": "Table of Contents",
   "title_sidebar": "Contents",
   "toc_cell": false,
   "toc_position": {},
   "toc_section_display": true,
   "toc_window_display": true
  }
 },
 "nbformat": 4,
 "nbformat_minor": 2
}
